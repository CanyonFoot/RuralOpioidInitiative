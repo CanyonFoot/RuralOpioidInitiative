{
 "cells": [
  {
   "cell_type": "markdown",
   "metadata": {},
   "source": [
    "# PDF Scraper\n",
    "##### Yingyi Liang (Aug, 2020)\n",
    "- Scrape text from PDF using distribution of text, appropriate for PDF which has similar structures each page"
   ]
  },
  {
   "cell_type": "code",
   "execution_count": 1,
   "metadata": {},
   "outputs": [],
   "source": [
    "#https://stackabuse.com/working-with-pdfs-in-python-reading-and-splitting-pages/\n",
    "#https://github.com/pymupdf/PyMuPDF\n",
    "#doc[20].getFontList()"
   ]
  },
  {
   "cell_type": "markdown",
   "metadata": {},
   "source": [
    "### 0. Imports"
   ]
  },
  {
   "cell_type": "code",
   "execution_count": 2,
   "metadata": {},
   "outputs": [],
   "source": [
    "import csv\n",
    "import re\n",
    "import numpy as np\n",
    "from numpy.random import default_rng\n",
    "import pandas as pd\n",
    "import fitz\n",
    "import matplotlib.pyplot as plt\n",
    "import math\n",
    "from matplotlib.patches import Rectangle\n",
    "from matplotlib.collections import PatchCollection"
   ]
  },
  {
   "cell_type": "markdown",
   "metadata": {},
   "source": [
    "### 1. Split text data into boxes"
   ]
  },
  {
   "cell_type": "code",
   "execution_count": 6,
   "metadata": {},
   "outputs": [
    {
     "name": "stdout",
     "output_type": "stream",
     "text": [
      "----- directory_1980_drug.pdf -----\n",
      "# of pages:\t172\n",
      "Page size:\t615.5999755859375 * 811.2000122070312\n",
      "Warning: page size not uniform\n"
     ]
    }
   ],
   "source": [
    "#import sample PDF\n",
    "filename = \"directory_1980_drug.pdf\"\n",
    "\n",
    "doc = fitz.open(filename)\n",
    "print('----- {0} -----\\n# of pages:\\t{1}\\nPage size:\\t{2} * {3}'\\\n",
    "      .format(filename, len(doc), doc[0].bound()[2], doc[0].bound()[3]))\n",
    "if (doc[0].bound()[2] != doc[10].bound()[2]):\n",
    "    print('Warning: page size not uniform')"
   ]
  },
  {
   "cell_type": "code",
   "execution_count": 16,
   "metadata": {},
   "outputs": [],
   "source": [
    "#no keys"
   ]
  },
  {
   "cell_type": "code",
   "execution_count": 43,
   "metadata": {},
   "outputs": [],
   "source": [
    "def find_seps(coords, dist, plot = False):\n",
    "    '''\n",
    "    Finds gaps in coords greater than a given dist.\n",
    "    Inputs:\n",
    "        coords(list): list of numbers\n",
    "        dist(int/float): distance between numbers to be considered a gap\n",
    "        plot(boolean): if True, a histgram of the coordinates and seperation will be plotted\n",
    "    Returns:\n",
    "        A list of floats indication seperations.\n",
    "    '''\n",
    "    coords.sort()\n",
    "    coords = np.array(coords)\n",
    "    seps = (coords[:-1][np.diff(coords) > dist] + coords[1:][np.diff(coords) > dist])/2\n",
    "    print(seps)\n",
    "    seps_valid = []\n",
    "    lb = 0\n",
    "    for sep in seps:\n",
    "        if len(coords[(coords > sep) & (coords < sep + 30)]) > 40:\n",
    "            seps_valid.append(sep)\n",
    "        lb = sep\n",
    "    if plot:\n",
    "        plt.hist(coords, bins = 100)\n",
    "        for sep in seps_valid:\n",
    "            plt.axvline(sep, color='black')\n",
    "    return seps_valid"
   ]
  },
  {
   "cell_type": "code",
   "execution_count": 94,
   "metadata": {},
   "outputs": [],
   "source": [
    "def find_seps(coords, dist, plot = False):\n",
    "    '''\n",
    "    Finds gaps in coords greater than a given dist.\n",
    "    Inputs:\n",
    "        coords(list): list of numbers\n",
    "        dist(int/float): distance between numbers to be considered a gap\n",
    "        plot(boolean): if True, a histgram of the coordinates and seperation will be plotted\n",
    "    Returns:\n",
    "        A list of floats indication seperations.\n",
    "    '''\n",
    "    coords.sort()\n",
    "    coords = np.array(coords)\n",
    "    seps = coords[1:][np.diff(coords) > dist]\n",
    "    #print(seps)\n",
    "    sep1 = []\n",
    "    sep2 = []\n",
    "    for sep in seps:\n",
    "        if len(coords[(coords > sep) & (coords < sep + 20)]) > len(words)/10:\n",
    "            if (sep > 190 and sep < 235):\n",
    "                sep1 = [sep - 5]\n",
    "            if (sep > 370 and sep < 415):\n",
    "                sep2 = [sep - 5]\n",
    "    seps_valid = sep1 + sep2\n",
    "    if plot:\n",
    "        plt.hist(coords, bins = 100)\n",
    "        for sep in seps_valid:\n",
    "            plt.axvline(sep, color='black')\n",
    "    return seps_valid"
   ]
  },
  {
   "cell_type": "code",
   "execution_count": 95,
   "metadata": {},
   "outputs": [
    {
     "data": {
      "text/plain": [
       "[204.06698608398438, 386.055908203125]"
      ]
     },
     "execution_count": 95,
     "metadata": {},
     "output_type": "execute_result"
    },
    {
     "data": {
      "image/png": "[encoded data removed]",
      "text/plain": [
       "<Figure size 432x288 with 1 Axes>"
      ]
     },
     "metadata": {
      "needs_background": "light"
     },
     "output_type": "display_data"
    }
   ],
   "source": [
    "firstpagen = 22\n",
    "words = doc[firstpagen - 1].getText(\"words\")\n",
    "find_seps([word[0] for word in words], 10, True)"
   ]
  },
  {
   "cell_type": "code",
   "execution_count": 96,
   "metadata": {},
   "outputs": [
    {
     "data": {
      "text/plain": [
       "[197.76702880859375]"
      ]
     },
     "execution_count": 96,
     "metadata": {},
     "output_type": "execute_result"
    },
    {
     "data": {
      "image/png": "[encoded data removed]",
      "text/plain": [
       "<Figure size 432x288 with 1 Axes>"
      ]
     },
     "metadata": {
      "needs_background": "light"
     },
     "output_type": "display_data"
    }
   ],
   "source": [
    "words = doc[39 - 1].getText(\"words\")\n",
    "find_seps([word[0] for word in words], 10, True)"
   ]
  },
  {
   "cell_type": "markdown",
   "metadata": {},
   "source": [
    "### 2. Organize lines"
   ]
  },
  {
   "cell_type": "code",
   "execution_count": 112,
   "metadata": {},
   "outputs": [
    {
     "data": {
      "text/plain": [
       "<matplotlib.lines.Line2D at 0x7ffa279e63d0>"
      ]
     },
     "execution_count": 112,
     "metadata": {},
     "output_type": "execute_result"
    },
    {
     "data": {
      "image/png": "[encoded data removed]",
      "text/plain": [
       "<Figure size 432x288 with 1 Axes>"
      ]
     },
     "metadata": {
      "needs_background": "light"
     },
     "output_type": "display_data"
    }
   ],
   "source": [
    "#check page\n",
    "words = []\n",
    "for pagen in range(30, 70):\n",
    "    words += doc[pagen - 1].getText(\"words\")\n",
    "plt.hist([word[1] for word in words], bins = 120)\n",
    "plt.axvline(40, color='black')  #cut title\n",
    "plt.axvline(695, color='black') #cut page number"
   ]
  },
  {
   "cell_type": "code",
   "execution_count": 113,
   "metadata": {},
   "outputs": [],
   "source": [
    "def split_rows(text, thr):\n",
    "    '''\n",
    "    Splits a list of into rows.\n",
    "    Inputs:\n",
    "        text: a list of tuple containing individual words and their positions\n",
    "        thr: the distance between lines\n",
    "    Outputs:\n",
    "        List of list that represent rows, arranged by x0 position.\n",
    "    '''\n",
    "    if not text:\n",
    "        return []\n",
    "    \n",
    "    text_remain = text\n",
    "    text_by_row = []\n",
    "    temp = []\n",
    "    while len(text_remain) > 0:\n",
    "        temp_text_remain = []\n",
    "        y0 = text_remain[0][1]\n",
    "        i = 0\n",
    "        while i < len(text_remain):\n",
    "            if (text_remain[i][1] < y0 + thr) and (text_remain[i][1] > y0 - thr):\n",
    "                temp.append(text_remain[i])\n",
    "            else:\n",
    "                temp_text_remain.append(text_remain[i])\n",
    "            i += 1\n",
    "        text_remain = temp_text_remain\n",
    "        temp.sort(key = lambda x: x[2]) #x[0]\n",
    "        text_by_row.append(temp)\n",
    "        temp = []\n",
    "    text_by_row.sort(key = lambda x: x[0][1])\n",
    "    return text_by_row"
   ]
  },
  {
   "cell_type": "code",
   "execution_count": 248,
   "metadata": {},
   "outputs": [],
   "source": [
    "def split_units(col, dist):\n",
    "    i = 0\n",
    "    splitted = []\n",
    "    while i < len(col):\n",
    "        if i == 0:\n",
    "            m = sum([word[1] for word in col[i]])/len([word[1] for word in col[i]])\n",
    "            l = sum([word[1] for word in col[i + 1]])/len([word[1] for word in col[i + 1]])\n",
    "            if l - m < dist:\n",
    "                temp = [[word[4] for word in col[i]]]\n",
    "            else:\n",
    "                temp = []\n",
    "        elif i < len(col) - 1:\n",
    "            u = sum([word[1] for word in col[i - 1]])/len([word[1] for word in col[i - 1]])\n",
    "            m = sum([word[1] for word in col[i]])/len([word[1] for word in col[i]])\n",
    "            l = sum([word[1] for word in col[i + 1]])/len([word[1] for word in col[i + 1]])\n",
    "            if (m - u) > dist and (l - m) > dist and len(temp) > 3:\n",
    "                pass\n",
    "            #    splitted.append(temp)\n",
    "                #temp = []\n",
    "            elif (m - u) > dist and len(temp) > 3:\n",
    "                splitted.append(temp)\n",
    "                temp = [[word[4] for word in col[i]]]\n",
    "            else:\n",
    "                temp.append([word[4] for word in col[i]])\n",
    "        else:\n",
    "            temp.append([word[4] for word in col[i]])\n",
    "            splitted.append(temp)\n",
    "        i += 1\n",
    "    return [unit for unit in splitted if unit]"
   ]
  },
  {
   "cell_type": "code",
   "execution_count": 249,
   "metadata": {},
   "outputs": [],
   "source": [
    "firstpagen = 19\n",
    "data = []\n",
    "for pagen in range(firstpagen, 170):\n",
    "    words = doc[pagen - 1].getText(\"words\")\n",
    "    words = [word for word in words if word[1] > 40 and word[1] < 695]\n",
    "    seps = find_seps([word[0] for word in words], 10)\n",
    "    cols = []\n",
    "    if not seps: #21\n",
    "        cols.append([word for word in words])\n",
    "    elif len(seps) == 2: #19\n",
    "        cols.append([word for word in words if word[0] < seps[0]])\n",
    "        cols.append([word for word in words if word[0] > seps[0] and word[0] < seps[1]])\n",
    "        cols.append([word for word in words if word[0] > seps[1]])\n",
    "    else: #20\n",
    "        cols.append([word for word in words if word[0] < seps[0]])\n",
    "        cols.append([word for word in words if word[0] > seps[0]])\n",
    "    #print(cols[0])\n",
    "    page = []\n",
    "    for col in cols:\n",
    "        col = split_rows(col, 5)\n",
    "        page.append(split_units(col, 10))\n",
    "    data.append(page)"
   ]
  },
  {
   "cell_type": "code",
   "execution_count": 251,
   "metadata": {},
   "outputs": [],
   "source": [
    "#data[0][0]"
   ]
  },
  {
   "cell_type": "markdown",
   "metadata": {},
   "source": [
    "### 3. Write data into csv"
   ]
  },
  {
   "cell_type": "markdown",
   "metadata": {},
   "source": [
    "- City, state, zip"
   ]
  },
  {
   "cell_type": "code",
   "execution_count": 198,
   "metadata": {
    "jupyter": {
     "source_hidden": true
    }
   },
   "outputs": [],
   "source": [
    "def is_citystatezip(line):\n",
    "    if line[-1].isnumeric() and len(line[-1]) == 5 and line[-2].isupper() and len(line[-2]) == 2 and line[-3][-1] == ',':\n",
    "        return True\n",
    "    return False\n",
    "\n",
    "def clean_citystatezip(line):\n",
    "    return [' '.join(line[:-2])[:-1], line[-2], line[-1]]"
   ]
  },
  {
   "cell_type": "code",
   "execution_count": 164,
   "metadata": {
    "jupyter": {
     "source_hidden": true
    }
   },
   "outputs": [],
   "source": [
    "# tests = [\n",
    "#     ['BIRMINGHAM,', 'AL', '35294'],\n",
    "#     ['ATMORE,', 'AL', '36504']\n",
    "# ]\n",
    "\n",
    "# for t in tests:\n",
    "#     print(is_citystatezip(t))\n",
    "#     print(clean_citystatezip(t))"
   ]
  },
  {
   "cell_type": "markdown",
   "metadata": {},
   "source": [
    "- Contact"
   ]
  },
  {
   "cell_type": "code",
   "execution_count": 173,
   "metadata": {
    "jupyter": {
     "source_hidden": true
    }
   },
   "outputs": [],
   "source": [
    "def is_contact(line):\n",
    "    line = ''.join(line)\n",
    "    if len(line) < 12:\n",
    "        return False\n",
    "    if line[1:4].replace('l', '1').replace('I', '1').replace('O', '0').isnumeric()\\\n",
    "    and line[5:8].replace('l', '1').replace('I', '1').replace('O', '0').isnumeric()\\\n",
    "    and line[8] == '-':\n",
    "        return True\n",
    "\n",
    "def clean_contact(line):\n",
    "    line = ''.join(line)\n",
    "    c = '(' + line[1:4].replace('l', '1').replace('I', '1').replace('O', '0') + ')' + line[5:].replace('l', '1').replace('I', '1').replace('O', '0')\n",
    "    return c"
   ]
  },
  {
   "cell_type": "code",
   "execution_count": 176,
   "metadata": {
    "collapsed": true,
    "jupyter": {
     "outputs_hidden": true,
     "source_hidden": true
    }
   },
   "outputs": [
    {
     "name": "stdout",
     "output_type": "stream",
     "text": [
      "True\n",
      "(205)251-2992\n"
     ]
    }
   ],
   "source": [
    "# tests = [\n",
    "#     ['(2051', '251-2992']\n",
    "# ]\n",
    "\n",
    "# for t in tests:\n",
    "#     print(is_contact(t))\n",
    "#     print(clean_contact(t))"
   ]
  },
  {
   "cell_type": "markdown",
   "metadata": {},
   "source": [
    "- Address"
   ]
  },
  {
   "cell_type": "code",
   "execution_count": 232,
   "metadata": {},
   "outputs": [],
   "source": [
    "address_indicators = ['P.O.', 'P.0.', 'P.O', 'P.0', \\\n",
    "                      'ROAD', 'HIGHWAY', 'ROUTE', 'BUILDING', 'STREET', 'AVENUE', 'SUITE', 'SUITES', 'DRIVE', 'BOULEVARD', 'BLVD', \\\n",
    "                      'ANNEXT', 'STREETS','FLOOR', 'FL', 'BLDG', 'REAR', 'ROOM', 'BASEMENT', 'BUILDING'] ##\n",
    "def is_address(line):\n",
    "    if line[0].replace('-', '').isnumeric() or any(x in line for x in address_indicators):\n",
    "        return True\n",
    "    return False"
   ]
  },
  {
   "cell_type": "markdown",
   "metadata": {},
   "source": [
    "- Write to csv"
   ]
  },
  {
   "cell_type": "code",
   "execution_count": 252,
   "metadata": {},
   "outputs": [],
   "source": [
    "def clean_col_data(col_text_splitted):\n",
    "    '''\n",
    "    Splits data into list of lists with\n",
    "    name1, name2, address1, address2, city, state, zip, phone, keys\n",
    "    '''\n",
    "    data_holders = []\n",
    "    for facil in col_text_splitted:\n",
    "        if len(facil) < 2:\n",
    "            print(facil)\n",
    "        if len(facil) > 2:\n",
    "            data_holder = []\n",
    "            i = 0 #indicator of next line\n",
    "            #name1\n",
    "            data_holder.append(' '.join(facil[0])) \n",
    "            i += 1\n",
    "            #name2\n",
    "            if not is_address(facil[i]) and not is_citystatezip(facil[i]) and not is_contact(facil[i]): \n",
    "                data_holder.append(' '.join(facil[i])) \n",
    "                i += 1\n",
    "            else:\n",
    "                data_holder.append('')         \n",
    "            #address1\n",
    "            if is_address(facil[i]):\n",
    "                data_holder.append(' '.join(facil[i])) \n",
    "                i += 1\n",
    "            else:\n",
    "                data_holder.append('')\n",
    "            #address2\n",
    "            if not is_citystatezip(facil[i]) and not is_contact(facil[i]):##\n",
    "                data_holder.append(' '.join(facil[i])) \n",
    "                i += 1\n",
    "            else:\n",
    "                data_holder.append('')\n",
    "            #city, state, zip\n",
    "            data_holder += clean_citystatezip(facil[i])\n",
    "            i += 1\n",
    "            #contact\n",
    "            if is_contact(facil[i]):\n",
    "                data_holder.append(clean_contact(facil[i]))\n",
    "                i += 1\n",
    "            else:\n",
    "                data_holder.append('')\n",
    "            data_holder.append(facil[i][0])\n",
    "            \n",
    "            data_holders.append(data_holder)\n",
    "            print(\".\", end = '') #for each MOUD\n",
    "    return data_holders"
   ]
  },
  {
   "cell_type": "code",
   "execution_count": 295,
   "metadata": {},
   "outputs": [],
   "source": [
    "filename = \"{}.csv\".format(1980)\n",
    "with open(filename, 'w', newline = '') as file:\n",
    "    writer = csv.writer(file)\n",
    "    writer.writerow([\"Name1\", \"Name2\", \"Address1\", \"Address2\", \"City\", \"State\", \"ZIP_Code\", \"Contact\", \"Keys\"])"
   ]
  },
  {
   "cell_type": "code",
   "execution_count": 296,
   "metadata": {},
   "outputs": [
    {
     "name": "stdout",
     "output_type": "stream",
     "text": [
      "Page: 19......... Finished Col ......... Finished Col ........ Finished Col \n",
      "Page: 20........ Finished Col ...... Finished Col \n",
      "Page: 21.. Finished Col \n",
      "Page: 22......... Finished Col ......... Finished Col ......... Finished Col \n",
      "Page: 23.......... Finished Col ......... Finished Col ......... Finished Col \n",
      "Page: 24...... Finished Col \n",
      "Page: 25........ Finished Col ........ Finished Col ........ Finished Col \n",
      "Page: 26.... Finished Col \n",
      "Page: 27......... Finished Col ......... Finished Col ........ Finished Col \n",
      "Page: 28........ Finished Col ......... Finished Col ........ Finished Col \n",
      "Page: 29........ Finished Col ........ Finished Col .......... Finished Col \n",
      "Page: 30......... Finished Col ........ Finished Col ........ Finished Col \n",
      "Page: 31.......... Finished Col ........... Finished Col ........... Finished Col \n",
      "Page: 32.......... Finished Col ......... Finished Col ........ Finished Col \n",
      "Page: 33.......... Finished Col ......... Finished Col ......... Finished Col \n",
      "Page: 34......... Finished Col ......... Finished Col .......... Finished Col \n",
      "Page: 35.......... Finished Col .......... Finished Col .......... Finished Col \n",
      "Page: 36........... Finished Col .......... Finished Col ......... Finished Col \n",
      "Page: 37.......... Finished Col .......... Finished Col ......... Finished Col \n",
      "Page: 38........ Finished Col ......... Finished Col ........ Finished Col \n",
      "Page: 39......... Finished Col ...... Finished Col \n",
      "Page: 40........ Finished Col ... Finished Col \n",
      "Page: 41........ Finished Col \n",
      "Page: 42.......... Finished Col ........ Finished Col ........... Finished Col \n",
      "Page: 43......... Finished Col .......... Finished Col ........ Finished Col \n",
      "Page: 44.......... Finished Col ......... Finished Col \n",
      "Page: 45......... Finished Col \n",
      "Page: 46......... Finished Col ...... Finished Col \n",
      "Page: 47......... Finished Col .......... Finished Col ......... Finished Col \n",
      "Page: 48......... Finished Col .......... Finished Col .......... Finished Col \n",
      "Page: 49......... Finished Col ........ Finished Col .......... Finished Col \n",
      "Page: 50....... Finished Col \n",
      "Page: 51......... Finished Col .......... Finished Col ........ Finished Col \n",
      "Page: 52........ Finished Col ......... Finished Col ........ Finished Col \n",
      "Page: 53....... Finished Col \n",
      "Page: 54......... Finished Col ........ Finished Col \n",
      "Page: 55........ Finished Col \n",
      "Page: 56.. Finished Col \n",
      "Page: 57......... Finished Col ........... Finished Col ........ Finished Col \n",
      "Page: 58......... Finished Col ......... Finished Col ......... Finished Col \n",
      "Page: 59....... Finished Col \n",
      "Page: 60......... Finished Col ......... Finished Col ......... Finished Col \n",
      "Page: 61........ Finished Col ........ Finished Col ........ Finished Col \n",
      "Page: 62..... Finished Col \n",
      "Page: 63......... Finished Col ........ Finished Col ........ Finished Col \n",
      "Page: 64... Finished Col \n",
      "Page: 65........ Finished Col ......... Finished Col .......... Finished Col \n",
      "Page: 66.. Finished Col \n",
      "Page: 67........ Finished Col ........ Finished Col ........ Finished Col \n",
      "Page: 68........ Finished Col ........ Finished Col ........ Finished Col \n",
      "Page: 69......... Finished Col ......... Finished Col ........ Finished Col \n",
      "Page: 70......... Finished Col ........ Finished Col ........ Finished Col \n",
      "Page: 71........ Finished Col \n",
      "Page: 72......... Finished Col ........ Finished Col ......... Finished Col \n",
      "Page: 73.......... Finished Col ..... Finished Col \n",
      "Page: 74........ Finished Col ... Finished Col \n",
      "Page: 75......... Finished Col ........... Finished Col ......... Finished Col \n",
      "Page: 76........ Finished Col ........ Finished Col ......... Finished Col \n",
      "Page: 77........ Finished Col ......... Finished Col . Finished Col \n",
      "Page: 78......... Finished Col ......... Finished Col ......... Finished Col \n",
      "Page: 79......... Finished Col ......... Finished Col ......... Finished Col \n",
      "Page: 80......... Finished Col ......... Finished Col ......... Finished Col \n",
      "Page: 81......... Finished Col ......... Finished Col ........ Finished Col \n",
      "Page: 82...... Finished Col \n",
      "Page: 83........ Finished Col ......... Finished Col .......... Finished Col \n",
      "Page: 84.......... Finished Col .......... Finished Col ......... Finished Col \n",
      "Page: 85......... Finished Col ......... Finished Col ......... Finished Col \n",
      "Page: 86..... Finished Col ......... Finished Col \n",
      "Page: 87......... Finished Col ....... Finished Col \n",
      "Page: 88........ Finished Col ......... Finished Col .......... Finished Col \n",
      "Page: 89......... Finished Col .......... Finished Col ........ Finished Col \n",
      "Page: 90........ Finished Col ........ Finished Col ........ Finished Col \n",
      "Page: 91........ Finished Col ........ Finished Col ........ Finished Col \n",
      "Page: 92....... Finished Col \n",
      "Page: 93......... Finished Col ......... Finished Col ........ Finished Col \n",
      "Page: 94......... Finished Col ....... Finished Col \n",
      "Page: 95........ Finished Col ..... Finished Col \n",
      "Page: 96........ Finished Col ......... Finished Col ... Finished Col \n",
      "Page: 97......... Finished Col .......... Finished Col . Finished Col \n",
      "Page: 98........ Finished Col ........ Finished Col \n",
      "Page: 99........ Finished Col ......... Finished Col ......... Finished Col \n",
      "Page: 100........ Finished Col ......... Finished Col .......... Finished Col \n",
      "Page: 101.......... Finished Col ......... Finished Col ........ Finished Col \n",
      "Page: 102. Finished Col \n",
      "Page: 103......... Finished Col ........ Finished Col ........ Finished Col \n",
      "Page: 104....... Finished Col \n",
      "Page: 105.......... Finished Col ........ Finished Col ......... Finished Col \n",
      "Page: 106.......... Finished Col .......... Finished Col ........... Finished Col \n",
      "Page: 107.......... Finished Col .......... Finished Col ........ Finished Col \n",
      "Page: 108........ Finished Col ......... Finished Col ......... Finished Col \n",
      "Page: 109........ Finished Col ......... Finished Col ......... Finished Col \n",
      "Page: 110......... Finished Col ......... Finished Col ........ Finished Col \n",
      "Page: 111........ Finished Col .......... Finished Col .......... Finished Col \n",
      "Page: 112.......... Finished Col .......... Finished Col .......... Finished Col \n",
      "Page: 113.......... Finished Col ........... Finished Col .......... Finished Col \n",
      "Page: 114.......... Finished Col ........ Finished Col ........ Finished Col \n",
      "Page: 115......... Finished Col ........ Finished Col .......... Finished Col \n",
      "Page: 116........ Finished Col ......... Finished Col ........ Finished Col \n",
      "Page: 117........ Finished Col ....... Finished Col \n",
      "Page: 118......... Finished Col ........ Finished Col ........ Finished Col \n",
      "Page: 119........ Finished Col ..... Finished Col \n",
      "Page: 120...... Finished Col \n",
      "Page: 121........ Finished Col ........ Finished Col ......... Finished Col \n",
      "Page: 122.......... Finished Col .......... Finished Col ........... Finished Col \n",
      "Page: 123.......... Finished Col ........ Finished Col ........ Finished Col \n",
      "Page: 124........ Finished Col ........ Finished Col ......... Finished Col \n",
      "Page: 125......... Finished Col ........ Finished Col \n",
      "Page: 126........ Finished Col ........ Finished Col ......... Finished Col \n",
      "Page: 127......... Finished Col ........ Finished Col \n",
      "Page: 128....... Finished Col ........ Finished Col ......... Finished Col \n",
      "Page: 129..."
     ]
    },
    {
     "ename": "IndexError",
     "evalue": "list index out of range",
     "output_type": "error",
     "traceback": [
      "\u001b[0;31m---------------------------------------------------------------------------\u001b[0m",
      "\u001b[0;31mIndexError\u001b[0m                                Traceback (most recent call last)",
      "\u001b[0;32m<ipython-input-296-aa83a1483dcc>\u001b[0m in \u001b[0;36m<module>\u001b[0;34m\u001b[0m\n\u001b[1;32m      6\u001b[0m     \u001b[0;32mfor\u001b[0m \u001b[0mcol\u001b[0m \u001b[0;32min\u001b[0m \u001b[0mpage\u001b[0m\u001b[0;34m:\u001b[0m\u001b[0;34m\u001b[0m\u001b[0;34m\u001b[0m\u001b[0m\n\u001b[1;32m      7\u001b[0m         \u001b[0;32mif\u001b[0m \u001b[0mcol\u001b[0m \u001b[0;34m!=\u001b[0m \u001b[0;34m[\u001b[0m\u001b[0;34m]\u001b[0m\u001b[0;34m:\u001b[0m\u001b[0;34m\u001b[0m\u001b[0;34m\u001b[0m\u001b[0m\n\u001b[0;32m----> 8\u001b[0;31m             \u001b[0mpage_data_holders\u001b[0m \u001b[0;34m+=\u001b[0m \u001b[0mclean_col_data\u001b[0m\u001b[0;34m(\u001b[0m\u001b[0mcol\u001b[0m\u001b[0;34m)\u001b[0m\u001b[0;34m\u001b[0m\u001b[0;34m\u001b[0m\u001b[0m\n\u001b[0m\u001b[1;32m      9\u001b[0m             \u001b[0mprint\u001b[0m\u001b[0;34m(\u001b[0m\u001b[0;34m\" Finished Col \"\u001b[0m\u001b[0;34m,\u001b[0m \u001b[0mend\u001b[0m \u001b[0;34m=\u001b[0m \u001b[0;34m''\u001b[0m\u001b[0;34m)\u001b[0m\u001b[0;34m\u001b[0m\u001b[0;34m\u001b[0m\u001b[0m\n\u001b[1;32m     10\u001b[0m     \u001b[0;32mwith\u001b[0m \u001b[0mopen\u001b[0m\u001b[0;34m(\u001b[0m\u001b[0mfilename\u001b[0m\u001b[0;34m,\u001b[0m \u001b[0;34m'a'\u001b[0m\u001b[0;34m,\u001b[0m \u001b[0mnewline\u001b[0m \u001b[0;34m=\u001b[0m \u001b[0;34m''\u001b[0m\u001b[0;34m)\u001b[0m \u001b[0;32mas\u001b[0m \u001b[0mfile\u001b[0m\u001b[0;34m:\u001b[0m\u001b[0;34m\u001b[0m\u001b[0;34m\u001b[0m\u001b[0m\n",
      "\u001b[0;32m<ipython-input-252-528b0eed5177>\u001b[0m in \u001b[0;36mclean_col_data\u001b[0;34m(col_text_splitted)\u001b[0m\n\u001b[1;32m     36\u001b[0m             \u001b[0mi\u001b[0m \u001b[0;34m+=\u001b[0m \u001b[0;36m1\u001b[0m\u001b[0;34m\u001b[0m\u001b[0;34m\u001b[0m\u001b[0m\n\u001b[1;32m     37\u001b[0m             \u001b[0;31m#contact\u001b[0m\u001b[0;34m\u001b[0m\u001b[0;34m\u001b[0m\u001b[0;34m\u001b[0m\u001b[0m\n\u001b[0;32m---> 38\u001b[0;31m             \u001b[0;32mif\u001b[0m \u001b[0mis_contact\u001b[0m\u001b[0;34m(\u001b[0m\u001b[0mfacil\u001b[0m\u001b[0;34m[\u001b[0m\u001b[0mi\u001b[0m\u001b[0;34m]\u001b[0m\u001b[0;34m)\u001b[0m\u001b[0;34m:\u001b[0m\u001b[0;34m\u001b[0m\u001b[0;34m\u001b[0m\u001b[0m\n\u001b[0m\u001b[1;32m     39\u001b[0m                 \u001b[0mdata_holder\u001b[0m\u001b[0;34m.\u001b[0m\u001b[0mappend\u001b[0m\u001b[0;34m(\u001b[0m\u001b[0mclean_contact\u001b[0m\u001b[0;34m(\u001b[0m\u001b[0mfacil\u001b[0m\u001b[0;34m[\u001b[0m\u001b[0mi\u001b[0m\u001b[0;34m]\u001b[0m\u001b[0;34m)\u001b[0m\u001b[0;34m)\u001b[0m\u001b[0;34m\u001b[0m\u001b[0;34m\u001b[0m\u001b[0m\n\u001b[1;32m     40\u001b[0m                 \u001b[0mi\u001b[0m \u001b[0;34m+=\u001b[0m \u001b[0;36m1\u001b[0m\u001b[0;34m\u001b[0m\u001b[0;34m\u001b[0m\u001b[0m\n",
      "\u001b[0;31mIndexError\u001b[0m: list index out of range"
     ]
    }
   ],
   "source": [
    "pagen = 19\n",
    "\n",
    "for page in data:\n",
    "    print(\"Page:\", pagen, end = '')\n",
    "    page_data_holders = []\n",
    "    for col in page:\n",
    "        if col != []:\n",
    "            page_data_holders += clean_col_data(col)\n",
    "            print(\" Finished Col \", end = '')\n",
    "    with open(filename, 'a', newline = '') as file:\n",
    "        writer = csv.writer(file)\n",
    "        writer.writerows(page_data_holders)\n",
    "    pagen += 1\n",
    "    print('')"
   ]
  },
  {
   "cell_type": "code",
   "execution_count": 299,
   "metadata": {},
   "outputs": [
    {
     "data": {
      "text/plain": [
       "[['(503)', '296-5452'],\n",
       " ['Alcoholism/Drug', 'Abuse', 'Treatment', 'Unit'],\n",
       " ['TXLLAMOOK'],\n",
       " ['TILLAMOOK', 'COUNTY'],\n",
       " ['COMM', 'COUNSELING', 'SERVICES', 'DRUG', 'PROGRAM'],\n",
       " ['2405', 'FIFTH', 'STREET'],\n",
       " ['TILLAMOOK,', 'OR', '97141'],\n",
       " ['(503)', '842-8201'],\n",
       " ['Drug', 'Abuse', 'Treatment', 'Unit']]"
      ]
     },
     "execution_count": 299,
     "metadata": {},
     "output_type": "execute_result"
    }
   ],
   "source": [
    "# #check error data\n",
    "data[129 - 19][0][4]"
   ]
  },
  {
   "cell_type": "markdown",
   "metadata": {},
   "source": [
    "- Rewrite data in problem pages"
   ]
  },
  {
   "cell_type": "code",
   "execution_count": 71,
   "metadata": {
    "jupyter": {
     "source_hidden": true
    }
   },
   "outputs": [],
   "source": [
    "pagen = 77\n",
    "words = doc[pagen - 1].getText(\"words\")\n",
    "words = [word for word in words if word[1] > 40 and word[1] < 695]\n",
    "seps = [190, 375]\n",
    "cols = []\n",
    "cols.append([word for word in words if word[0] < seps[0]])\n",
    "cols.append([word for word in words if word[0] > seps[0] and word[0] < seps[1]])\n",
    "cols.append([word for word in words if word[0] > seps[1]])\n",
    "\n",
    "page = []\n",
    "for col in cols:\n",
    "    col = split_rows(col, 5)\n",
    "    page.append(split_units(col, 10))\n",
    "\n",
    "data[pagen - 19] = page"
   ]
  },
  {
   "cell_type": "code",
   "execution_count": 274,
   "metadata": {
    "jupyter": {
     "source_hidden": true
    }
   },
   "outputs": [],
   "source": [
    "pagen = 96\n",
    "words = doc[pagen - 1].getText(\"words\")\n",
    "words = [word for word in words if word[1] > 40 and word[1] < 695]\n",
    "#find_seps([word[0] for word in words], 10, True)\n",
    "seps = [190, 375]\n",
    "cols = []\n",
    "cols.append([word for word in words if word[0] < seps[0]])\n",
    "cols.append([word for word in words if word[0] > seps[0] and word[0] < seps[1]])\n",
    "cols.append([word for word in words if word[0] > seps[1]])\n",
    "\n",
    "page = []\n",
    "for col in cols:\n",
    "    col = split_rows(col, 5)\n",
    "    page.append(split_units(col, 10))\n",
    "\n",
    "data[pagen - 19] = page"
   ]
  },
  {
   "cell_type": "code",
   "execution_count": 279,
   "metadata": {},
   "outputs": [],
   "source": [
    "pagen = 97\n",
    "words = doc[pagen - 1].getText(\"words\")\n",
    "words = [word for word in words if word[1] > 40 and word[1] < 695]\n",
    "#find_seps([word[0] for word in words], 10, True)\n",
    "seps = [190, 370]\n",
    "cols = []\n",
    "cols.append([word for word in words if word[0] < seps[0]])\n",
    "cols.append([word for word in words if word[0] > seps[0] and word[0] < seps[1]])\n",
    "cols.append([word for word in words if word[0] > seps[1]])\n",
    "\n",
    "page = []\n",
    "for col in cols:\n",
    "    col = split_rows(col, 5)\n",
    "    page.append(split_units(col, 10))\n",
    "\n",
    "data[pagen - 19] = page"
   ]
  },
  {
   "cell_type": "code",
   "execution_count": 294,
   "metadata": {},
   "outputs": [],
   "source": [
    "data[107 - 19][1][5] = [['CITY', 'OF', 'BUFFALO', 'OHR'],\n",
    " ['ELLICOTT/MASTEN', 'COMM', 'COUNSELING', 'CENTER'],\n",
    " ['560', '-', '562', 'WILLIAM', 'STREET'],\n",
    " ['BUFFALO,', 'NY', '14204'],\n",
    " ['I716l', '855-4069'],\n",
    " ['Drug', 'Abuse', 'Treatment', 'Unit']]\n",
    "\n",
    "data[107 - 19][2][2] = [['MENTAL', 'HEALTH', 'SERVICES', 'CORP', 'VI'], ['LOWER', 'WEST', 'SIDE', 'DRUG', 'ABUSE', 'PROGRAM'],\n",
    "                        ['485', 'NIAGARA', 'STREET'], ['BUFFALO,', 'NY', '14201'],\n",
    "                       ['I716l', '856-2000'], ['Drug', 'Abuse', 'Treatment', 'Unit']]"
   ]
  },
  {
   "cell_type": "markdown",
   "metadata": {},
   "source": [
    "# Clean final data\n",
    "- Replaced \"A venue\" with \"A venue\" in Address1\n",
    "- Split ZIP code into two if in the format \"35294-0018\"\n",
    "- To-do:\n",
    "    - Clean up the wrong letters/numbers in address"
   ]
  },
  {
   "cell_type": "code",
   "execution_count": 302,
   "metadata": {},
   "outputs": [
    {
     "data": {
      "text/html": [
       "<div>\n",
       "<style scoped>\n",
       "    .dataframe tbody tr th:only-of-type {\n",
       "        vertical-align: middle;\n",
       "    }\n",
       "\n",
       "    .dataframe tbody tr th {\n",
       "        vertical-align: top;\n",
       "    }\n",
       "\n",
       "    .dataframe thead th {\n",
       "        text-align: right;\n",
       "    }\n",
       "</style>\n",
       "<table border=\"1\" class=\"dataframe\">\n",
       "  <thead>\n",
       "    <tr style=\"text-align: right;\">\n",
       "      <th></th>\n",
       "      <th>Name1</th>\n",
       "      <th>Name2</th>\n",
       "      <th>Address1</th>\n",
       "      <th>Address2</th>\n",
       "      <th>City</th>\n",
       "      <th>State</th>\n",
       "      <th>ZIP_Code</th>\n",
       "      <th>Contact</th>\n",
       "      <th>Keys</th>\n",
       "    </tr>\n",
       "  </thead>\n",
       "  <tbody>\n",
       "    <tr>\n",
       "      <th>0</th>\n",
       "      <td>ALEXANDER CITY WORK RELEASE CENTER</td>\n",
       "      <td>NaN</td>\n",
       "      <td>P.O. BOX 705</td>\n",
       "      <td>NaN</td>\n",
       "      <td>ALEXANDER CITY</td>\n",
       "      <td>AL</td>\n",
       "      <td>35010</td>\n",
       "      <td>(205)234-7533</td>\n",
       "      <td>Drug</td>\n",
       "    </tr>\n",
       "    <tr>\n",
       "      <th>1</th>\n",
       "      <td>CALHOUN-CLEDURNE MENTAL HEALTH CENTER</td>\n",
       "      <td>SUBSTANCE ABUSE PROGRAM</td>\n",
       "      <td>331 EAST EIGHTH AVENUE</td>\n",
       "      <td>NaN</td>\n",
       "      <td>ANNISTON</td>\n",
       "      <td>AL</td>\n",
       "      <td>36202</td>\n",
       "      <td>(205)236-3403</td>\n",
       "      <td>Alcoholism/Drug</td>\n",
       "    </tr>\n",
       "    <tr>\n",
       "      <th>2</th>\n",
       "      <td>BOARD OF CORRECTIONS DRUG ABUSE</td>\n",
       "      <td>PROGRAM FOR ALABAMA INMATES</td>\n",
       "      <td>313 NORTH MAIN</td>\n",
       "      <td>P.O. BOX 266</td>\n",
       "      <td>ATMORE</td>\n",
       "      <td>AL</td>\n",
       "      <td>36504</td>\n",
       "      <td>(205)368-1675</td>\n",
       "      <td>Drug</td>\n",
       "    </tr>\n",
       "    <tr>\n",
       "      <th>3</th>\n",
       "      <td>BESSEMER OUTPATIENT TREATMENT CENTER</td>\n",
       "      <td>NaN</td>\n",
       "      <td>1830 THIRD AVENUE</td>\n",
       "      <td>SUITE 308</td>\n",
       "      <td>BESSEMER</td>\n",
       "      <td>AL</td>\n",
       "      <td>35020</td>\n",
       "      <td>(205)426-8020</td>\n",
       "      <td>Drug</td>\n",
       "    </tr>\n",
       "    <tr>\n",
       "      <th>4</th>\n",
       "      <td>ALETHEIA HOUSE INC</td>\n",
       "      <td>NaN</td>\n",
       "      <td>3600 EIGHTH AVENUE SOUTH</td>\n",
       "      <td>SUITE W-110</td>\n",
       "      <td>BIRMINGHAM</td>\n",
       "      <td>AL</td>\n",
       "      <td>35222</td>\n",
       "      <td>(205)324-6502</td>\n",
       "      <td>Drug</td>\n",
       "    </tr>\n",
       "    <tr>\n",
       "      <th>...</th>\n",
       "      <td>...</td>\n",
       "      <td>...</td>\n",
       "      <td>...</td>\n",
       "      <td>...</td>\n",
       "      <td>...</td>\n",
       "      <td>...</td>\n",
       "      <td>...</td>\n",
       "      <td>...</td>\n",
       "      <td>...</td>\n",
       "    </tr>\n",
       "    <tr>\n",
       "      <th>2312</th>\n",
       "      <td>CODA DRUG TREATMENT SERVICES</td>\n",
       "      <td>NaN</td>\n",
       "      <td>7305 NORTHEAST GLISAN</td>\n",
       "      <td>NaN</td>\n",
       "      <td>PORTLAND</td>\n",
       "      <td>OR</td>\n",
       "      <td>97213</td>\n",
       "      <td>(503)257-0533</td>\n",
       "      <td>Drug</td>\n",
       "    </tr>\n",
       "    <tr>\n",
       "      <th>2313</th>\n",
       "      <td>FREEDOM HOUSE INC</td>\n",
       "      <td>NaN</td>\n",
       "      <td>1531 NE 21ST STREET</td>\n",
       "      <td>NaN</td>\n",
       "      <td>PORTLAND</td>\n",
       "      <td>OR</td>\n",
       "      <td>97232</td>\n",
       "      <td>(503)288-2331</td>\n",
       "      <td>Drug</td>\n",
       "    </tr>\n",
       "    <tr>\n",
       "      <th>2314</th>\n",
       "      <td>OREGON METHADONE TREATMENT PROGRAM</td>\n",
       "      <td>NaN</td>\n",
       "      <td>306 NE 20TH</td>\n",
       "      <td>NaN</td>\n",
       "      <td>PORTLAND</td>\n",
       "      <td>OR</td>\n",
       "      <td>97232</td>\n",
       "      <td>(503)239-8400</td>\n",
       "      <td>Drug</td>\n",
       "    </tr>\n",
       "    <tr>\n",
       "      <th>2315</th>\n",
       "      <td>THOMAS E DORSEY PHO PSYCHOLOGIST</td>\n",
       "      <td>AO-AFTERCARE UNIT</td>\n",
       "      <td>2738 NORTHEAST BROADWAY</td>\n",
       "      <td>NaN</td>\n",
       "      <td>PORTLAND</td>\n",
       "      <td>OR</td>\n",
       "      <td>97232</td>\n",
       "      <td>(503)249-0041</td>\n",
       "      <td>Drug</td>\n",
       "    </tr>\n",
       "    <tr>\n",
       "      <th>2316</th>\n",
       "      <td>DOUGLAS COUNTY COUNCIL ON ALCOHOLISM</td>\n",
       "      <td>ALCOHOL AND DRUG TREATMENT PROGRAM</td>\n",
       "      <td>346 SE ROSE</td>\n",
       "      <td>P.O. BOX 1121</td>\n",
       "      <td>ROSEBURG</td>\n",
       "      <td>OR</td>\n",
       "      <td>97470</td>\n",
       "      <td>(503)672-2691</td>\n",
       "      <td>Alcoholism/Drug</td>\n",
       "    </tr>\n",
       "  </tbody>\n",
       "</table>\n",
       "<p>2317 rows × 9 columns</p>\n",
       "</div>"
      ],
      "text/plain": [
       "                                      Name1  \\\n",
       "0        ALEXANDER CITY WORK RELEASE CENTER   \n",
       "1     CALHOUN-CLEDURNE MENTAL HEALTH CENTER   \n",
       "2           BOARD OF CORRECTIONS DRUG ABUSE   \n",
       "3      BESSEMER OUTPATIENT TREATMENT CENTER   \n",
       "4                        ALETHEIA HOUSE INC   \n",
       "...                                     ...   \n",
       "2312           CODA DRUG TREATMENT SERVICES   \n",
       "2313                      FREEDOM HOUSE INC   \n",
       "2314     OREGON METHADONE TREATMENT PROGRAM   \n",
       "2315       THOMAS E DORSEY PHO PSYCHOLOGIST   \n",
       "2316   DOUGLAS COUNTY COUNCIL ON ALCOHOLISM   \n",
       "\n",
       "                                   Name2                  Address1  \\\n",
       "0                                    NaN              P.O. BOX 705   \n",
       "1                SUBSTANCE ABUSE PROGRAM    331 EAST EIGHTH AVENUE   \n",
       "2            PROGRAM FOR ALABAMA INMATES            313 NORTH MAIN   \n",
       "3                                    NaN         1830 THIRD AVENUE   \n",
       "4                                    NaN  3600 EIGHTH AVENUE SOUTH   \n",
       "...                                  ...                       ...   \n",
       "2312                                 NaN     7305 NORTHEAST GLISAN   \n",
       "2313                                 NaN       1531 NE 21ST STREET   \n",
       "2314                                 NaN               306 NE 20TH   \n",
       "2315                   AO-AFTERCARE UNIT   2738 NORTHEAST BROADWAY   \n",
       "2316  ALCOHOL AND DRUG TREATMENT PROGRAM               346 SE ROSE   \n",
       "\n",
       "           Address2            City State ZIP_Code        Contact  \\\n",
       "0               NaN  ALEXANDER CITY    AL    35010  (205)234-7533   \n",
       "1               NaN        ANNISTON    AL    36202  (205)236-3403   \n",
       "2      P.O. BOX 266          ATMORE    AL    36504  (205)368-1675   \n",
       "3         SUITE 308        BESSEMER    AL    35020  (205)426-8020   \n",
       "4       SUITE W-110      BIRMINGHAM    AL    35222  (205)324-6502   \n",
       "...             ...             ...   ...      ...            ...   \n",
       "2312            NaN        PORTLAND    OR    97213  (503)257-0533   \n",
       "2313            NaN        PORTLAND    OR    97232  (503)288-2331   \n",
       "2314            NaN        PORTLAND    OR    97232  (503)239-8400   \n",
       "2315            NaN        PORTLAND    OR    97232  (503)249-0041   \n",
       "2316  P.O. BOX 1121        ROSEBURG    OR    97470  (503)672-2691   \n",
       "\n",
       "                 Keys  \n",
       "0                Drug  \n",
       "1     Alcoholism/Drug  \n",
       "2                Drug  \n",
       "3                Drug  \n",
       "4                Drug  \n",
       "...               ...  \n",
       "2312             Drug  \n",
       "2313             Drug  \n",
       "2314             Drug  \n",
       "2315             Drug  \n",
       "2316  Alcoholism/Drug  \n",
       "\n",
       "[2317 rows x 9 columns]"
      ]
     },
     "execution_count": 302,
     "metadata": {},
     "output_type": "execute_result"
    }
   ],
   "source": [
    "df = pd.read_csv(\"{}.csv\".format(1980))\n",
    "df"
   ]
  },
  {
   "cell_type": "code",
   "execution_count": 303,
   "metadata": {
    "collapsed": true,
    "jupyter": {
     "outputs_hidden": true
    }
   },
   "outputs": [
    {
     "name": "stdout",
     "output_type": "stream",
     "text": [
      "35\n",
      "101\n",
      "128\n",
      "129\n",
      "130\n",
      "319\n",
      "325\n",
      "408\n",
      "409\n",
      "433\n",
      "457\n",
      "487\n",
      "488\n",
      "508\n",
      "511\n",
      "528\n",
      "545\n",
      "622\n",
      "716\n",
      "717\n",
      "737\n",
      "746\n",
      "747\n",
      "762\n",
      "782\n",
      "886\n",
      "892\n",
      "898\n",
      "951\n",
      "963\n",
      "1005\n",
      "1016\n",
      "1046\n",
      "1047\n",
      "1090\n",
      "1142\n",
      "1143\n",
      "1155\n",
      "1161\n",
      "1163\n",
      "1165\n",
      "1166\n",
      "1204\n",
      "1347\n",
      "1350\n",
      "1366\n",
      "1376\n",
      "1459\n",
      "1465\n",
      "1470\n",
      "1476\n",
      "1482\n",
      "1512\n",
      "1521\n",
      "1564\n",
      "1616\n",
      "1617\n",
      "1618\n",
      "1619\n",
      "1677\n",
      "1819\n",
      "1860\n",
      "1862\n",
      "1958\n",
      "1972\n",
      "1973\n",
      "2020\n",
      "2080\n",
      "2110\n",
      "2144\n",
      "2207\n",
      "2214\n",
      "2223\n",
      "2259\n",
      "2266\n",
      "2282\n",
      "2297\n"
     ]
    }
   ],
   "source": [
    "#check if all state names are right\n",
    "for index, row in df.iterrows():\n",
    "    #print(row)\n",
    "    if len(row[5])!=2:\n",
    "        print(index)"
   ]
  },
  {
   "cell_type": "code",
   "execution_count": 120,
   "metadata": {},
   "outputs": [
    {
     "data": {
      "text/plain": [
       "Name1        object\n",
       "Name2        object\n",
       "Name3        object\n",
       "Address1     object\n",
       "Address2     object\n",
       "Address3     object\n",
       "City         object\n",
       "State        object\n",
       "ZIP_Code     object\n",
       "Contact      object\n",
       "Website     float64\n",
       "Note         object\n",
       "Keys         object\n",
       "dtype: object"
      ]
     },
     "execution_count": 120,
     "metadata": {},
     "output_type": "execute_result"
    }
   ],
   "source": [
    "#check if all zip codes are correct\n",
    "df.dtypes"
   ]
  },
  {
   "cell_type": "markdown",
   "metadata": {},
   "source": [
    "- Correct in Pandas"
   ]
  },
  {
   "cell_type": "code",
   "execution_count": 305,
   "metadata": {},
   "outputs": [],
   "source": [
    "#if address 1 and 2 should actually be one line...\n",
    "for index, row in df.iterrows():\n",
    "    if row[0].split()[-1] == 'AND':\n",
    "        if pd.isnull(row[1]):\n",
    "            print(index)\n",
    "        else:\n",
    "            df.at[index, 'Name1'] = row[0] + ' ' + row[1]\n",
    "            df.at[index, 'Name2'] = ''"
   ]
  },
  {
   "cell_type": "code",
   "execution_count": 306,
   "metadata": {},
   "outputs": [],
   "source": [
    "# def split_zip(zipc):\n",
    "#     if '-' in zipc:\n",
    "#         return zipc.split('-')\n",
    "#     return [zipc, None]\n",
    "# #split zip-code if zip code is in the format xxxxx-xxxx\n",
    "# df['zip1'] = [split_zip(zipc)[0] for zipc in df['ZIP_Code']]\n",
    "# df['zip2'] = [split_zip(zipc)[1] for zipc in df['ZIP_Code']]"
   ]
  },
  {
   "cell_type": "code",
   "execution_count": 308,
   "metadata": {},
   "outputs": [],
   "source": [
    "df.to_csv('{}_c.csv'.format(1980), index = False)"
   ]
  }
 ],
 "metadata": {
  "kernelspec": {
   "display_name": "Python 3",
   "language": "python",
   "name": "python3"
  },
  "language_info": {
   "codemirror_mode": {
    "name": "ipython",
    "version": 3
   },
   "file_extension": ".py",
   "mimetype": "text/x-python",
   "name": "python",
   "nbconvert_exporter": "python",
   "pygments_lexer": "ipython3",
   "version": "3.7.6"
  }
 },
 "nbformat": 4,
 "nbformat_minor": 4
}
