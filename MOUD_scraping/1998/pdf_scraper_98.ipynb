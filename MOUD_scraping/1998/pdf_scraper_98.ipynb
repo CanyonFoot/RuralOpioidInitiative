{
 "cells": [
  {
   "cell_type": "markdown",
   "metadata": {},
   "source": [
    "#### Imports"
   ]
  },
  {
   "cell_type": "code",
   "execution_count": 1,
   "metadata": {},
   "outputs": [],
   "source": [
    "import PyPDF2\n",
    "import csv\n",
    "import re\n",
    "import json\n",
    "import os\n",
    "import us\n",
    "import numpy as np"
   ]
  },
  {
   "cell_type": "markdown",
   "metadata": {},
   "source": [
    "# OCR with Adobe Acrobat and extraction with fitz"
   ]
  },
  {
   "cell_type": "code",
   "execution_count": 2,
   "metadata": {},
   "outputs": [],
   "source": [
    "from __future__ import print_function\n",
    "from itertools import groupby\n",
    "import fitz\n",
    "import matplotlib.pyplot as plt"
   ]
  },
  {
   "cell_type": "markdown",
   "metadata": {},
   "source": [
    "- Functions for reading text from PDF"
   ]
  },
  {
   "cell_type": "code",
   "execution_count": 347,
   "metadata": {},
   "outputs": [],
   "source": [
    "def find_edges(x0s):\n",
    "    '''\n",
    "    Find the coordinates of boxes that seperates the columns in the PDF file.\n",
    "    '''\n",
    "    # only one row of data (p86, p143)\n",
    "    if max(x0s) < 200: \n",
    "        return (None, None) \n",
    "    \n",
    "    # 2 rows of data (p146, p218)\n",
    "    # the one before zero and the one after zero has a difference greater than 20, \n",
    "    if max(x0s) < 400: \n",
    "        counts, xedges, _ = plt.hist(x0s, bins = 40)\n",
    "        i = 8\n",
    "        while i < 30:\n",
    "            if (counts[i] == 0) and (counts[i + 1] -  counts[i - 1] > 20) and (xedges[i] > 160) and (xedges[i] < 220):\n",
    "                return (xedges[i], None)\n",
    "            i += 1\n",
    "        if i == 30:\n",
    "            i = 8\n",
    "            while i < 30:\n",
    "                if (counts[i + 1] -  counts[i] > 20) and (xedges[i] > 160) and (xedges[i] < 220):\n",
    "                    return (xedges[i], None)\n",
    "                i += 1\n",
    "        if i == 30:\n",
    "            i = 8\n",
    "            while i < 30:\n",
    "                if (counts[i] == 0) and (counts[i + 1] == 0) and (xedges[i] > 160) and (xedges[i] < 220):\n",
    "                    return (xedges[i], None)\n",
    "                i += 1\n",
    "    # 3 rows of data\n",
    "    counts, xedges, _ = plt.hist(x0s, bins = 100)\n",
    "    # line between col 1 & 2            \n",
    "    i = 20\n",
    "    while i < 45:\n",
    "        if (counts[i] == 0) and (max(counts[i + 1], counts[i + 2]) - counts[i - 1] > 20) and (xedges[i] < 220):\n",
    "            xcol1 = xedges[i]\n",
    "            break\n",
    "        i += 1\n",
    "    if i == 45:\n",
    "        i = 20\n",
    "        while i < 45:\n",
    "            if (max(counts[i], counts[i + 1]) - counts[i - 1] > 20) and (xedges[i] > 160) and (xedges[i] < 220):\n",
    "                xcol1 = xedges[i]\n",
    "                break\n",
    "            i += 1\n",
    "    if i == 45:\n",
    "        i = 20\n",
    "        while i < 45:\n",
    "            if (counts[i] == 0) and (counts[i + 1] == 0) and (xedges[i] > 160) and (xedges[i] < 220):\n",
    "                xcol1 = xedges[i + 1]\n",
    "                break\n",
    "            i += 1\n",
    "            \n",
    "    # line between col 2 & 3\n",
    "    while i < 80:\n",
    "        if (counts[i] == 0) and (max(counts[i + 1], counts[i + 2]) - counts[i - 1] > 20) and (xedges[i] > 330) and (xedges[i] < 390):\n",
    "            xcol2 = xedges[i]\n",
    "            break\n",
    "        i += 1\n",
    "    if i == 80:\n",
    "        i = 50\n",
    "        while i < 80:\n",
    "            if (max(counts[i], counts[i + 1]) - counts[i - 1] > 20) and (xedges[i] > 330) and (xedges[i] < 390):\n",
    "                xcol2 = xedges[i]\n",
    "                break\n",
    "            i += 1\n",
    "    if i == 80:\n",
    "        i = 50\n",
    "        while i < 80:\n",
    "            if (counts[i] == 0) and (counts[i + 1] == 0) and (xedges[i] > 330) and (xedges[i] < 390):\n",
    "                xcol2 = xedges[i]\n",
    "                break\n",
    "            i += 1\n",
    "    return (xcol1, xcol2)"
   ]
  },
  {
   "cell_type": "code",
   "execution_count": 398,
   "metadata": {},
   "outputs": [],
   "source": [
    "def get_words_in_box(page):\n",
    "    '''\n",
    "    Extract words from each column of the PDF.\n",
    "    '''\n",
    "    x, y = page.MediaBox[2:] #size of page\n",
    "    words = page.getText(\"words\") #each word with extracted coordinate\\\n",
    "    #cut off top word if exist\n",
    "    y0s = [word[1] for word in words]\n",
    "    if sum(y0 < (min(y0s)+10) for y0 in y0s) < 3:\n",
    "        words = [word for word in words if word[1] > (min(y0s)+10)]\n",
    "    #cut off bottom\n",
    "    words = [word for word in words if word[1] < (max(y0s)-10)]\n",
    "    #find col 1 and 2\n",
    "    x0s = [word[0] for word in words]\n",
    "    xcol1, xcol2 = find_edges(x0s)\n",
    "    page_txt = []\n",
    "    if xcol1 == None:\n",
    "        page_txt.append(words)\n",
    "        return page_txt\n",
    "    if xcol2 == None:\n",
    "        page_txt.append([word for word in words if word[0] < xcol1])\n",
    "        page_txt.append([word for word in words if word[0] > xcol1])\n",
    "        return page_txt\n",
    "    page_txt.append([word for word in words if word[0] < xcol1])\n",
    "    page_txt.append([word for word in words if ((word[0] > xcol1) and (word[0] < xcol2))])\n",
    "    page_txt.append([word for word in words if word[0] > xcol2])\n",
    "    return page_txt"
   ]
  },
  {
   "cell_type": "markdown",
   "metadata": {},
   "source": [
    "- Extract text"
   ]
  },
  {
   "cell_type": "code",
   "execution_count": 57,
   "metadata": {},
   "outputs": [
    {
     "data": {
      "text/plain": [
       "568"
      ]
     },
     "execution_count": 57,
     "metadata": {},
     "output_type": "execute_result"
    }
   ],
   "source": [
    "#open PDF which has gone through Adobe Acrobat OCR\n",
    "doc = fitz.open(\"directory_1998_OCR.pdf\")\n",
    "len(doc)"
   ]
  },
  {
   "cell_type": "code",
   "execution_count": 350,
   "metadata": {},
   "outputs": [
    {
     "data": {
      "image/png": "[encoded data removed]",
      "text/plain": [
       "<Figure size 432x288 with 1 Axes>"
      ]
     },
     "metadata": {
      "needs_background": "light"
     },
     "output_type": "display_data"
    }
   ],
   "source": [
    "#get data\n",
    "data = []\n",
    "for pagen in range(12, 562):\n",
    "    data.append(get_words_in_box(doc[pagen-1]))"
   ]
  },
  {
   "cell_type": "markdown",
   "metadata": {},
   "source": [
    "# Write data into csv"
   ]
  },
  {
   "cell_type": "markdown",
   "metadata": {},
   "source": [
    "- Split data into lines"
   ]
  },
  {
   "cell_type": "code",
   "execution_count": 356,
   "metadata": {},
   "outputs": [],
   "source": [
    "abbr_keys = [\"TX\", \"ML\", \"PV\", \"OS\", \"DT\",\\\n",
    "             \"OD\", \"OR\", \"IO\", \"ID\", \"IR\", \"RD\", \"RR\",\\\n",
    "             \"AD\", \"DD\", \"HV\", \"PW\",\\\n",
    "             \"SS\", \"GH\", \"PH\", \"OH\", \"TC\", \"HH\", \"CM\", \"CH\", \\\n",
    "             \"CO\", \"SG\", \"SC\", \"CJ\",\\\n",
    "             \"MC\", \"MD\", \"FG\", \"PI\"]"
   ]
  },
  {
   "cell_type": "code",
   "execution_count": 357,
   "metadata": {},
   "outputs": [],
   "source": [
    "def col_text_to_rows(col_text):\n",
    "    '''\n",
    "    Splits text into rows\n",
    "    '''\n",
    "    col_text_by_row = []\n",
    "    temp = []\n",
    "    init_y = col_text[0][1] #y0\n",
    "    i = 0\n",
    "    while i < len(col_text):\n",
    "        if (col_text[i][1] < init_y + 3) and (col_text[i][1] > init_y - 3):\n",
    "            temp.append(col_text[i][4])\n",
    "        else:\n",
    "            col_text_by_row.append(temp)\n",
    "            temp = [col_text[i][4]]\n",
    "            init_y = int(col_text[i][1])\n",
    "        i += 1\n",
    "    col_text_by_row.append(temp)\n",
    "    return col_text_by_row\n",
    "\n",
    "#runs the function on all data\n",
    "def all_text_to_rows(data):\n",
    "    all_text = []\n",
    "    for page_text in data:\n",
    "        page_text_by_row = []\n",
    "        for col_text in page_text:\n",
    "            page_text_by_row.append(col_text_to_rows(col_text))\n",
    "        all_text.append(page_text_by_row)\n",
    "    return all_text"
   ]
  },
  {
   "cell_type": "code",
   "execution_count": 358,
   "metadata": {},
   "outputs": [],
   "source": [
    "#collect all text by page, column and line\n",
    "all_text = all_text_to_rows(data)"
   ]
  },
  {
   "cell_type": "markdown",
   "metadata": {},
   "source": [
    "- Writing text to .csv"
   ]
  },
  {
   "cell_type": "code",
   "execution_count": 593,
   "metadata": {},
   "outputs": [],
   "source": [
    "def clean_key(key):\n",
    "    return key.replace('Y', 'V').replace('1', 'I').replace('l', 'I').replace('0', 'O').replace('OT', 'DT').replace('OT', 'DT')\n",
    "\n",
    "def is_keys(line):\n",
    "    '''\n",
    "    Check if the line (list of list) is a list of keys\n",
    "    exp. ['TX', 'OT/', 'RD', 'RR/', 'SS']\n",
    "    '''\n",
    "    if clean_key(line[0][:2]) in abbr_keys:\n",
    "        if len(line) == 1:\n",
    "            if len(line[0]) == 2 or len(line[0]) == 3:\n",
    "                return True\n",
    "            test = line[0].replace('/', '')\n",
    "            if clean_key(test[2:4]) in abbr_keys:\n",
    "                return True\n",
    "            else:\n",
    "                return False\n",
    "        elif clean_key(line[1][:2]) in abbr_keys:\n",
    "            return True\n",
    "    return False\n",
    "\n",
    "def is_citystatezip(line):\n",
    "    '''\n",
    "    Check if the line contains city, state, zip info\n",
    "    '''\n",
    "    if len(line) < 3:\n",
    "        return False\n",
    "    #35294-0018 or 35294\n",
    "    if (len(line[-1]) == 5 or len(line[-1]) == 10) and line[-1].replace('I', '1').replace('l', '1').replace('J', '1').replace('O', '0').replace('-', '')\\\n",
    "    .isnumeric()\\\n",
    "    and (len(line[-2]) == 2) and line[-2].isupper():\n",
    "        return True\n",
    "    #3540 I\n",
    "    elif ''.join(line[-2:]).replace('I', '1').replace('l', '1').replace('O', '0').replace('-', '').replace('J', '1').isnumeric()\\\n",
    "    and (len(line[-3]) == 2) and line[-3].isupper():\n",
    "        return True\n",
    "    elif ''.join(line[-3:]).replace('I', '1').replace('l', '1').replace('O', '0').replace('-', '').replace('J', '1').isnumeric()\\\n",
    "    and (len(line[-4]) == 2) and line[-4].isupper():\n",
    "        return True\n",
    "    return False\n",
    "\n",
    "address_indicators = ['Box', 'P.0.Box', 'Road', 'Highway', 'Route', 'Building', 'Street', 'Avenue', 'Suite', 'Drive', 'Boulevard']\n",
    "name_indicators = ['Clinic']\n",
    "\n",
    "def is_address(line):\n",
    "    if any(x in line for x in name_indicators):\n",
    "        return False\n",
    "    if line[0].replace('-', '').isnumeric() or any(x in line for x in address_indicators):\n",
    "        return True\n",
    "    return False\n",
    "\n",
    "def is_contact(line):\n",
    "    #['(650)368-6355']\n",
    "    #['Hotlines:']\n",
    "    line = ''.join(line)\n",
    "    if line[:3] == 'Hot':\n",
    "        return True\n",
    "    if line[0] == '(' and line[1:4].replace('I', '1').replace('O', '0').replace('l', '1').replace('J', '1').isnumeric():\n",
    "        return True\n",
    "    return False\n",
    "\n",
    "\n",
    "def clean_citystatezip(line):\n",
    "    #['Pasadena,', 'CA', '9', 'I', 'JO', '1-1804']\n",
    "    #['Prescott,', 'AZ', '8630', 'l']\n",
    "    #['Phoenix,', 'AZ', '850', 'I', '5']\n",
    "    if ''.join(line[-3:]).replace('I', '1').replace('l', '1').replace('J', '1').replace('O', '0').replace('-', '').isnumeric():\n",
    "        i = -3\n",
    "    elif ''.join(line[-2:]).replace('I', '1').replace('l', '1').replace('J', '1').replace('O', '0').replace('-', '').isnumeric():\n",
    "        i = -2\n",
    "    else:\n",
    "        i = -1\n",
    "    zipc = ''.join(line[i:]).replace('I', '1').replace('O', '0').replace('l', '1').replace('J', '1')\n",
    "    state = line[i - 1]\n",
    "    city = ' '.join(line[0:i - 1])[:-1]\n",
    "    return [city, state, zipc]"
   ]
  },
  {
   "cell_type": "code",
   "execution_count": 609,
   "metadata": {},
   "outputs": [],
   "source": [
    "#['Pasadena,', 'CA', '9', 'I', 'JO', '1-1804']\n",
    "#['Prescott,', 'AZ', '8630', 'l']\n",
    "#['Phoenix,', 'AZ', '850', 'I', '5']\n",
    "\n",
    "def is_citystatezip(line):\n",
    "    '''\n",
    "    Check if the line contains city, state, zip info\n",
    "    '''\n",
    "    if len(line) < 3:\n",
    "        return False\n",
    "    i = 0\n",
    "    while i < len(line):\n",
    "        if len(line[i]) == 2 and line[i].isupper():\n",
    "            break\n",
    "        i += 1\n",
    "    if i == 0 or i == len(line):\n",
    "        return False\n",
    "    if ''.join(line[i + 1:]).replace('I', '1').replace('l', '1').replace('J', '1').replace('O', '0').replace('-', '').isnumeric():\n",
    "        return True\n",
    "    return False\n",
    "\n",
    "def clean_citystatezip(line):\n",
    "    i = 0\n",
    "    while i < len(line):\n",
    "        if len(line[i]) == 2 and line[i].isupper():\n",
    "            break\n",
    "        i += 1\n",
    "    state = line[i]\n",
    "    zipc = ''.join(line[i + 1:]).replace('I', '1').replace('O', '0').replace('l', '1').replace('J', '1')\n",
    "    city = ' '.join(line[0:i])[:-1]\n",
    "    return [city, state, zipc]"
   ]
  },
  {
   "cell_type": "code",
   "execution_count": 578,
   "metadata": {},
   "outputs": [],
   "source": [
    "def split_col_data(col_text):\n",
    "    '''\n",
    "    Split column data into list of MOUD facilities.\n",
    "    '''\n",
    "    col_text_splitted = []\n",
    "    temp = []\n",
    "    i = 0\n",
    "    while i < len(col_text) - 1:\n",
    "        \n",
    "        if re.search('[a-zA-Z0-9]', ''.join(col_text[i])): ##\n",
    "            \n",
    "            if is_keys(col_text[i]) and (not is_keys(col_text[i+1])):\n",
    "                temp.append(col_text[i])\n",
    "                col_text_splitted.append(temp)\n",
    "                temp = []\n",
    "            elif is_keys(col_text[i]) and (is_keys(col_text[i+1])):\n",
    "                temp.append(col_text[i])\n",
    "            else:\n",
    "                if not ''.join(col_text[i]).isupper(): #not the capitalized city name which should be ignored\n",
    "                    temp.append(col_text[i])\n",
    "                \n",
    "        i += 1\n",
    "    temp.append(col_text[-1])\n",
    "    col_text_splitted.append(temp)\n",
    "    return col_text_splitted"
   ]
  },
  {
   "cell_type": "code",
   "execution_count": 612,
   "metadata": {},
   "outputs": [],
   "source": [
    "def clean_col_data(col_text_splitted):\n",
    "    '''\n",
    "    Splits data into list of lists with\n",
    "    name1, name2, address1, address2, city, state, zip, phone, keys\n",
    "    '''\n",
    "    data_holders = []\n",
    "    for facil in col_text_splitted:\n",
    "        data_holder = []\n",
    "        i = 0 #indicator of next line\n",
    "        #name1\n",
    "        data_holder.append(' '.join(facil[0])) \n",
    "        i += 1\n",
    "        #name2\n",
    "        if not is_address(facil[i]) and not is_citystatezip(facil[i]) and not is_contact(facil[i]): \n",
    "            data_holder.append(' '.join(facil[i])) \n",
    "            i += 1\n",
    "        else:\n",
    "            data_holder.append('') \n",
    "        #name3\n",
    "        if not is_address(facil[i]) and not is_citystatezip(facil[i]) and not is_contact(facil[i]): \n",
    "            data_holder.append(' '.join(facil[i])) \n",
    "            i += 1\n",
    "        else:\n",
    "            data_holder.append('')         \n",
    "        #address1\n",
    "        if is_address(facil[i]):\n",
    "            data_holder.append(' '.join(facil[i])) \n",
    "            i += 1\n",
    "        else:\n",
    "            data_holder.append('')\n",
    "        #address2\n",
    "        if not is_citystatezip(facil[i]) and not is_contact(facil[i]) and not (is_keys(facil[i])): \n",
    "            data_holder.append(' '.join(facil[i])) \n",
    "            i += 1\n",
    "        else:\n",
    "            data_holder.append('')\n",
    "        #city, state, zip\n",
    "        data_holder += clean_citystatezip(facil[i])\n",
    "        i += 1\n",
    "        #contact\n",
    "        if is_contact(facil[i]):\n",
    "            data_holder.append(''.join(facil[i]))\n",
    "            i += 1\n",
    "            while i < len(facil):\n",
    "                if is_contact(facil[i]):\n",
    "                    data_holder[-1] += ' ' + ''.join(facil[i])\n",
    "                    i += 1\n",
    "                else:\n",
    "                    break\n",
    "        else:\n",
    "            data_holder.append('')\n",
    "        #keys\n",
    "        data_holder.append('')\n",
    "        for keys in facil[i:]:\n",
    "            for key in keys:\n",
    "                if len(key) == 2:\n",
    "                    data_holder[-1] += clean_key(key) + '/'\n",
    "                elif len(key) == 3:\n",
    "                    data_holder[-1] += clean_key(key[:2]) + '/'\n",
    "                else:\n",
    "                    for key in key.split('/'):\n",
    "                        if len(key) == 2:\n",
    "                            data_holder[-1] += clean_key(key) + '/'\n",
    "                        else:\n",
    "                            data_holder[-1] += '/'.join([clean_key(key[i:i+2]) for i in range(0, len(key), 2)])\n",
    "        data_holders.append(data_holder)\n",
    "        print(\".\", end = '') #for each MOUD\n",
    "    return data_holders"
   ]
  },
  {
   "cell_type": "code",
   "execution_count": 613,
   "metadata": {},
   "outputs": [],
   "source": [
    "with open(filename, 'w', newline = '') as file:\n",
    "    writer = csv.writer(file)\n",
    "    writer.writerow([\"Name1\", \"Name2\", \"Address1\", \"Address2\", \"City\", \"State\", \"ZIP_Code\", \"Contact\", \"Keys\"])"
   ]
  },
  {
   "cell_type": "code",
   "execution_count": 614,
   "metadata": {},
   "outputs": [
    {
     "name": "stdout",
     "output_type": "stream",
     "text": [
      "Page: 12....... Finished Col ....... Finished Col ...... Finished Col \n",
      "Page: 13...... Finished Col ...... Finished Col ....... Finished Col \n",
      "Page: 14........ Finished Col ...... Finished Col ...... Finished Col \n",
      "Page: 15........ Finished Col ....... Finished Col ...... Finished Col \n",
      "Page: 16....... Finished Col ........ Finished Col ...... Finished Col \n",
      "Page: 17....... Finished Col ....... Finished Col .. Finished Col \n",
      "Page: 18...... Finished Col ....... Finished Col ....... Finished Col \n",
      "Page: 19....... Finished Col ........ Finished Col ....... Finished Col \n",
      "Page: 20....... Finished Col ......... Finished Col ........ Finished Col \n",
      "Page: 21........ Finished Col ....... Finished Col ....... Finished Col \n",
      "Page: 22....... Finished Col ...... Finished Col ....... Finished Col \n",
      "Page: 23........ Finished Col ........ Finished Col ........ Finished Col \n",
      "Page: 24...... Finished Col ...... Finished Col ....... Finished Col \n",
      "Page: 25....... Finished Col ........ Finished Col ........ Finished Col \n",
      "Page: 26...... Finished Col ....... Finished Col ....... Finished Col \n",
      "Page: 27.. Finished Col \n",
      "Page: 28...... Finished Col ....... Finished Col ....... Finished Col \n",
      "Page: 29........ Finished Col ........ Finished Col ........ Finished Col \n",
      "Page: 30....... Finished Col ....... Finished Col ....... Finished Col \n",
      "Page: 31....... Finished Col ....... Finished Col ........ Finished Col \n",
      "Page: 32....... Finished Col ...... Finished Col ...... Finished Col \n",
      "Page: 33....... Finished Col ....... Finished Col ....... Finished Col \n",
      "Page: 34....... Finished Col ....... Finished Col ....... Finished Col \n",
      "Page: 35...... Finished Col ........ Finished Col ....... Finished Col \n",
      "Page: 36....... Finished Col ....... Finished Col ........ Finished Col \n",
      "Page: 37....... Finished Col ....... Finished Col ........ Finished Col \n",
      "Page: 38........ Finished Col ....... Finished Col ....... Finished Col \n",
      "Page: 39....... Finished Col ....... Finished Col ........ Finished Col \n",
      "Page: 40....... Finished Col ........ Finished Col ........ Finished Col \n",
      "Page: 41...... Finished Col ....... Finished Col ...... Finished Col \n",
      "Page: 42...... Finished Col ....... Finished Col ....... Finished Col \n",
      "Page: 43....... Finished Col ........ Finished Col ....... Finished Col \n",
      "Page: 44...... Finished Col ....... Finished Col ....... Finished Col \n",
      "Page: 45....... Finished Col ....... Finished Col ........ Finished Col \n",
      "Page: 46........ Finished Col ........ Finished Col ........ Finished Col \n",
      "Page: 47........ Finished Col ........ Finished Col ........ Finished Col \n",
      "Page: 48........ Finished Col ........ Finished Col ......... Finished Col \n",
      "Page: 49....... Finished Col ........ Finished Col ........ Finished Col \n",
      "Page: 50........ Finished Col ....... Finished Col ....... Finished Col \n",
      "Page: 51....... Finished Col ....... Finished Col ....... Finished Col \n",
      "Page: 52........ Finished Col ........ Finished Col ...... Finished Col \n",
      "Page: 53....... Finished Col ....... Finished Col ...... Finished Col \n",
      "Page: 54....... Finished Col ....... Finished Col ...... Finished Col \n",
      "Page: 55....... Finished Col ......... Finished Col ........ Finished Col \n",
      "Page: 56........ Finished Col ....... Finished Col ........ Finished Col \n",
      "Page: 57....... Finished Col ....... Finished Col ....... Finished Col \n",
      "Page: 58....... Finished Col ....... Finished Col ........ Finished Col \n",
      "Page: 59....... Finished Col ........ Finished Col ....... Finished Col \n",
      "Page: 60........ Finished Col ........ Finished Col ........ Finished Col \n",
      "Page: 61....... Finished Col ....... Finished Col ........ Finished Col \n",
      "Page: 62........ Finished Col ....... Finished Col ........ Finished Col \n",
      "Page: 63........ Finished Col ....... Finished Col ....... Finished Col \n",
      "Page: 64....... Finished Col ........ Finished Col ........ Finished Col \n",
      "Page: 65........ Finished Col ........ Finished Col ....... Finished Col \n",
      "Page: 66........ Finished Col ........ Finished Col ....... Finished Col \n",
      "Page: 67........ Finished Col ........ Finished Col ........ Finished Col \n",
      "Page: 68........ Finished Col ........ Finished Col ........ Finished Col \n",
      "Page: 69........ Finished Col ........ Finished Col ......... Finished Col \n",
      "Page: 70......... Finished Col ........ Finished Col ....... Finished Col \n",
      "Page: 71........ Finished Col ....... Finished Col ........ Finished Col \n",
      "Page: 72........ Finished Col ........ Finished Col ......... Finished Col \n",
      "Page: 73........ Finished Col ........ Finished Col ........ Finished Col \n",
      "Page: 74........ Finished Col ........ Finished Col ........ Finished Col \n",
      "Page: 75........ Finished Col ....... Finished Col ........ Finished Col \n",
      "Page: 76........ Finished Col ....... Finished Col ........ Finished Col \n",
      "Page: 77....... Finished Col ....... Finished Col ...... Finished Col \n",
      "Page: 78...... Finished Col ........ Finished Col ........ Finished Col \n",
      "Page: 79....... Finished Col ...... Finished Col ....... Finished Col \n",
      "Page: 80....... Finished Col .."
     ]
    },
    {
     "ename": "IndexError",
     "evalue": "list index out of range",
     "output_type": "error",
     "traceback": [
      "\u001b[0;31m---------------------------------------------------------------------------\u001b[0m",
      "\u001b[0;31mIndexError\u001b[0m                                Traceback (most recent call last)",
      "\u001b[0;32m<ipython-input-614-74db2d742533>\u001b[0m in \u001b[0;36m<module>\u001b[0;34m\u001b[0m\n\u001b[1;32m      7\u001b[0m     \u001b[0;32mfor\u001b[0m \u001b[0mcol\u001b[0m \u001b[0;32min\u001b[0m \u001b[0mpage\u001b[0m\u001b[0;34m:\u001b[0m\u001b[0;34m\u001b[0m\u001b[0;34m\u001b[0m\u001b[0m\n\u001b[1;32m      8\u001b[0m         \u001b[0mcol_text_splitted\u001b[0m \u001b[0;34m=\u001b[0m \u001b[0msplit_col_data\u001b[0m\u001b[0;34m(\u001b[0m\u001b[0mcol\u001b[0m\u001b[0;34m)\u001b[0m\u001b[0;34m\u001b[0m\u001b[0;34m\u001b[0m\u001b[0m\n\u001b[0;32m----> 9\u001b[0;31m         \u001b[0mpage_data_holders\u001b[0m \u001b[0;34m+=\u001b[0m \u001b[0mclean_col_data\u001b[0m\u001b[0;34m(\u001b[0m\u001b[0mcol_text_splitted\u001b[0m\u001b[0;34m)\u001b[0m\u001b[0;34m\u001b[0m\u001b[0;34m\u001b[0m\u001b[0m\n\u001b[0m\u001b[1;32m     10\u001b[0m         \u001b[0mprint\u001b[0m\u001b[0;34m(\u001b[0m\u001b[0;34m\" Finished Col \"\u001b[0m\u001b[0;34m,\u001b[0m \u001b[0mend\u001b[0m \u001b[0;34m=\u001b[0m \u001b[0;34m''\u001b[0m\u001b[0;34m)\u001b[0m\u001b[0;34m\u001b[0m\u001b[0;34m\u001b[0m\u001b[0m\n\u001b[1;32m     11\u001b[0m     \u001b[0;32mwith\u001b[0m \u001b[0mopen\u001b[0m\u001b[0;34m(\u001b[0m\u001b[0mfilename\u001b[0m\u001b[0;34m,\u001b[0m \u001b[0;34m'a'\u001b[0m\u001b[0;34m,\u001b[0m \u001b[0mnewline\u001b[0m \u001b[0;34m=\u001b[0m \u001b[0;34m''\u001b[0m\u001b[0;34m)\u001b[0m \u001b[0;32mas\u001b[0m \u001b[0mfile\u001b[0m\u001b[0;34m:\u001b[0m\u001b[0;34m\u001b[0m\u001b[0;34m\u001b[0m\u001b[0m\n",
      "\u001b[0;32m<ipython-input-612-c3f8239b1f8f>\u001b[0m in \u001b[0;36mclean_col_data\u001b[0;34m(col_text_splitted)\u001b[0m\n\u001b[1;32m     36\u001b[0m             \u001b[0mdata_holder\u001b[0m\u001b[0;34m.\u001b[0m\u001b[0mappend\u001b[0m\u001b[0;34m(\u001b[0m\u001b[0;34m''\u001b[0m\u001b[0;34m)\u001b[0m\u001b[0;34m\u001b[0m\u001b[0;34m\u001b[0m\u001b[0m\n\u001b[1;32m     37\u001b[0m         \u001b[0;31m#city, state, zip\u001b[0m\u001b[0;34m\u001b[0m\u001b[0;34m\u001b[0m\u001b[0;34m\u001b[0m\u001b[0m\n\u001b[0;32m---> 38\u001b[0;31m         \u001b[0mdata_holder\u001b[0m \u001b[0;34m+=\u001b[0m \u001b[0mclean_citystatezip\u001b[0m\u001b[0;34m(\u001b[0m\u001b[0mfacil\u001b[0m\u001b[0;34m[\u001b[0m\u001b[0mi\u001b[0m\u001b[0;34m]\u001b[0m\u001b[0;34m)\u001b[0m\u001b[0;34m\u001b[0m\u001b[0;34m\u001b[0m\u001b[0m\n\u001b[0m\u001b[1;32m     39\u001b[0m         \u001b[0mi\u001b[0m \u001b[0;34m+=\u001b[0m \u001b[0;36m1\u001b[0m\u001b[0;34m\u001b[0m\u001b[0;34m\u001b[0m\u001b[0m\n\u001b[1;32m     40\u001b[0m         \u001b[0;31m#contact\u001b[0m\u001b[0;34m\u001b[0m\u001b[0;34m\u001b[0m\u001b[0;34m\u001b[0m\u001b[0m\n",
      "\u001b[0;32m<ipython-input-609-319d62a46714>\u001b[0m in \u001b[0;36mclean_citystatezip\u001b[0;34m(line)\u001b[0m\n\u001b[1;32m     26\u001b[0m             \u001b[0;32mbreak\u001b[0m\u001b[0;34m\u001b[0m\u001b[0;34m\u001b[0m\u001b[0m\n\u001b[1;32m     27\u001b[0m         \u001b[0mi\u001b[0m \u001b[0;34m+=\u001b[0m \u001b[0;36m1\u001b[0m\u001b[0;34m\u001b[0m\u001b[0;34m\u001b[0m\u001b[0m\n\u001b[0;32m---> 28\u001b[0;31m     \u001b[0mstate\u001b[0m \u001b[0;34m=\u001b[0m \u001b[0mline\u001b[0m\u001b[0;34m[\u001b[0m\u001b[0mi\u001b[0m\u001b[0;34m]\u001b[0m\u001b[0;34m\u001b[0m\u001b[0;34m\u001b[0m\u001b[0m\n\u001b[0m\u001b[1;32m     29\u001b[0m     \u001b[0mzipc\u001b[0m \u001b[0;34m=\u001b[0m \u001b[0;34m''\u001b[0m\u001b[0;34m.\u001b[0m\u001b[0mjoin\u001b[0m\u001b[0;34m(\u001b[0m\u001b[0mline\u001b[0m\u001b[0;34m[\u001b[0m\u001b[0mi\u001b[0m \u001b[0;34m+\u001b[0m \u001b[0;36m1\u001b[0m\u001b[0;34m:\u001b[0m\u001b[0;34m]\u001b[0m\u001b[0;34m)\u001b[0m\u001b[0;34m.\u001b[0m\u001b[0mreplace\u001b[0m\u001b[0;34m(\u001b[0m\u001b[0;34m'I'\u001b[0m\u001b[0;34m,\u001b[0m \u001b[0;34m'1'\u001b[0m\u001b[0;34m)\u001b[0m\u001b[0;34m.\u001b[0m\u001b[0mreplace\u001b[0m\u001b[0;34m(\u001b[0m\u001b[0;34m'O'\u001b[0m\u001b[0;34m,\u001b[0m \u001b[0;34m'0'\u001b[0m\u001b[0;34m)\u001b[0m\u001b[0;34m.\u001b[0m\u001b[0mreplace\u001b[0m\u001b[0;34m(\u001b[0m\u001b[0;34m'l'\u001b[0m\u001b[0;34m,\u001b[0m \u001b[0;34m'1'\u001b[0m\u001b[0;34m)\u001b[0m\u001b[0;34m.\u001b[0m\u001b[0mreplace\u001b[0m\u001b[0;34m(\u001b[0m\u001b[0;34m'J'\u001b[0m\u001b[0;34m,\u001b[0m \u001b[0;34m'1'\u001b[0m\u001b[0;34m)\u001b[0m\u001b[0;34m\u001b[0m\u001b[0;34m\u001b[0m\u001b[0m\n\u001b[1;32m     30\u001b[0m     \u001b[0mcity\u001b[0m \u001b[0;34m=\u001b[0m \u001b[0;34m' '\u001b[0m\u001b[0;34m.\u001b[0m\u001b[0mjoin\u001b[0m\u001b[0;34m(\u001b[0m\u001b[0mline\u001b[0m\u001b[0;34m[\u001b[0m\u001b[0;36m0\u001b[0m\u001b[0;34m:\u001b[0m\u001b[0mi\u001b[0m\u001b[0;34m]\u001b[0m\u001b[0;34m)\u001b[0m\u001b[0;34m[\u001b[0m\u001b[0;34m:\u001b[0m\u001b[0;34m-\u001b[0m\u001b[0;36m1\u001b[0m\u001b[0;34m]\u001b[0m\u001b[0;34m\u001b[0m\u001b[0;34m\u001b[0m\u001b[0m\n",
      "\u001b[0;31mIndexError\u001b[0m: list index out of range"
     ]
    }
   ],
   "source": [
    "filename = \"1998.csv\"\n",
    "pagen = 12\n",
    "\n",
    "for page in all_text:\n",
    "    print(\"Page:\", pagen, end = '')\n",
    "    page_data_holders = []\n",
    "    for col in page:\n",
    "        col_text_splitted = split_col_data(col)\n",
    "        page_data_holders += clean_col_data(col_text_splitted)\n",
    "        print(\" Finished Col \", end = '')\n",
    "    with open(filename, 'a', newline = '') as file:\n",
    "        writer = csv.writer(file)\n",
    "        writer.writerows(page_data_holders)\n",
    "    pagen += 1\n",
    "    print('')"
   ]
  },
  {
   "cell_type": "code",
   "execution_count": 615,
   "metadata": {},
   "outputs": [
    {
     "data": {
      "text/plain": [
       "[['Ventura', 'Recovery', 'Center'],\n",
       " ['Community', 'Recovery', 'Center'],\n",
       " ['166', 'Siesta', 'Avenue'],\n",
       " ['Thousand', 'Oaks,', 'CA', '9', 'I', '360', '.'],\n",
       " ['(805)499-8383'],\n",
       " ['Hotlines:'],\n",
       " ['(800)247-6111'],\n",
       " ['(805)499-8383'],\n",
       " ['TX', 'PY', 'OS/', 'RR/', 'DD/', 'SS', 'TC']]"
      ]
     },
     "execution_count": 615,
     "metadata": {},
     "output_type": "execute_result"
    }
   ],
   "source": [
    "pagen = 80\n",
    "col = 2\n",
    "MOUD = 3\n",
    "#all_text[pagen - 12][col - 1]\n",
    "split_col_data(all_text[pagen - 12][col - 1])[MOUD - 1]"
   ]
  },
  {
   "cell_type": "markdown",
   "metadata": {},
   "source": [
    "- Rewrite data in problem pages"
   ]
  },
  {
   "cell_type": "code",
   "execution_count": 585,
   "metadata": {},
   "outputs": [],
   "source": [
    "# pagen = 23\n",
    "# col = 2\n",
    "# all_text[pagen - 12][col - 1][5] = ['TX', 'ML', 'PV', 'OS', 'DT/', 'OD', 'OR/', 'DD', 'HY', 'PW/']\n",
    "\n",
    "# pagen = 38\n",
    "# col = 1\n",
    "# all_text[pagen - 12][col - 1][28] = ['Eureka,', 'CA', '95503']\n",
    "\n",
    "# pagen = 43\n",
    "# col = 2\n",
    "# all_text[pagen - 12][col - 1][7] = ['83844', 'Hopi', 'A', 'venue']\n",
    "# all_text[pagen - 12][col - 1][7] = ['Indio,', 'CA', '92201']\n",
    "# all_text[pagen - 12][col - 1][9] = ['(760)347-9442']\n",
    "\n",
    "# pagen = 45\n",
    "# col = 3\n",
    "# all_text[pagen - 12][col - 1][4] = ['Long', 'Beach,', 'CA', '90813']\n",
    "\n",
    "# pagen = 75\n",
    "# col = 3\n",
    "# all_text[pagen - 12][col - 1][3] = ['Santa', 'Cruz,', 'CA', '95060']\n",
    "\n",
    "#pagen = 79\n",
    "#col = 1"
   ]
  },
  {
   "cell_type": "markdown",
   "metadata": {},
   "source": [
    "# Clean final data\n",
    "- Replace \"A venue\" with \"A venue\" in Address1\n",
    "- Split ZIP code into two if in the format \"35294-0018\""
   ]
  },
  {
   "cell_type": "code",
   "execution_count": null,
   "metadata": {},
   "outputs": [],
   "source": []
  }
 ],
 "metadata": {
  "kernelspec": {
   "display_name": "Python 3",
   "language": "python",
   "name": "python3"
  },
  "language_info": {
   "codemirror_mode": {
    "name": "ipython",
    "version": 3
   },
   "file_extension": ".py",
   "mimetype": "text/x-python",
   "name": "python",
   "nbconvert_exporter": "python",
   "pygments_lexer": "ipython3",
   "version": "3.7.6"
  }
 },
 "nbformat": 4,
 "nbformat_minor": 4
}
