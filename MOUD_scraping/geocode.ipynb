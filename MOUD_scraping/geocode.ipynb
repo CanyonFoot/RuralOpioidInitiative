{
 "cells": [
  {
   "cell_type": "code",
   "execution_count": 4,
   "metadata": {},
   "outputs": [],
   "source": [
    "import pandas as pd\n",
    "import matplotlib.pyplot as plt\n",
    "import hashlib\n",
    "import numpy as np"
   ]
  },
  {
   "cell_type": "markdown",
   "metadata": {},
   "source": [
    "## Assign ID\n",
    "1. ID setup: hash(address) + state + zip"
   ]
  },
  {
   "cell_type": "code",
   "execution_count": 5,
   "metadata": {},
   "outputs": [],
   "source": [
    "def create_id(row):\n",
    "    addr = '' if pd.isna(row['ADDRESS']) else str(row['ADDRESS']).strip().replace(' ', '').replace(',', '').lower() #address\n",
    "    s = int(hashlib.sha256((addr).lower().encode('utf-8')).hexdigest(), 16) % 10**4 #only keep last 4 digits\n",
    "    n1 = 'XX' if pd.isna(row['STATE']) else row['STATE']\n",
    "    n2 = '00000' if pd.isna(row['ZIP']) else str(int(str(row['ZIP']).split('.')[0].split('-')[0])).zfill(5)\n",
    "    return str(s).zfill(4) + n1 + n2"
   ]
  },
  {
   "cell_type": "markdown",
   "metadata": {},
   "source": [
    "2. Check effectiveness of ID"
   ]
  },
  {
   "cell_type": "code",
   "execution_count": 6,
   "metadata": {},
   "outputs": [],
   "source": [
    "df17geo = pd.read_csv('2017/2017_c_geocoded.csv')\n",
    "df17geo['ID2'] = df17geo.apply(create_id, axis = 1)\n",
    "df15geo = pd.read_csv('2015/2015_c_geocoded.csv')\n",
    "df15geo['ID2'] = df15geo.apply(create_id, axis = 1)"
   ]
  },
  {
   "cell_type": "markdown",
   "metadata": {},
   "source": [
    "- Single year"
   ]
  },
  {
   "cell_type": "code",
   "execution_count": 7,
   "metadata": {},
   "outputs": [
    {
     "name": "stdout",
     "output_type": "stream",
     "text": [
      "2017\n",
      "Number of columns:\t 12031\n",
      "Number of unique ID:\t 11529\n"
     ]
    }
   ],
   "source": [
    "print('2017')\n",
    "print(\"Number of columns:\\t\", len(df17geo))\n",
    "print(\"Number of unique ID:\\t\", len(set(df17geo['ID2'])))"
   ]
  },
  {
   "cell_type": "code",
   "execution_count": 8,
   "metadata": {},
   "outputs": [
    {
     "name": "stdout",
     "output_type": "stream",
     "text": [
      "                       ID                    ADDRESS     CITY STATE    ZIP\n",
      "7      Family Life Center  677 West Covington Avenue  Attalla    AL  35954\n",
      "8  Rapha Treatment Center  677 West Covington Avenue  Attalla    AL  35954\n",
      "                                     ID          ADDRESS        CITY STATE  \\\n",
      "112  Indian Rivers Mental Health Center  2209 9th Street  Tuscaloosa    AL   \n",
      "113  Indian Rivers Mental Health Center  2209 9th Street  Tuscaloosa    AL   \n",
      "\n",
      "       ZIP  \n",
      "112  35401  \n",
      "113  35401  \n",
      "                                     ID                    ADDRESS       CITY  \\\n",
      "124                          Akeela Inc  360 West Benson Boulevard  Anchorage   \n",
      "125  Akeela Women and Families Programs  360 West Benson Boulevard  Anchorage   \n",
      "\n",
      "    STATE    ZIP  \n",
      "124    AK  99503  \n",
      "125    AK  99503  \n",
      "                        ID              ADDRESS   CITY STATE    ZIP\n",
      "255  Community Bridges Inc  5734 East Hope Lane  Globe    AZ  85501\n",
      "256  Community Bridges Inc  5734 East Hope Lane  Globe    AZ  85501\n",
      "                        ID                    ADDRESS  CITY STATE    ZIP\n",
      "274  Community Bridges Inc  554 South Bellview Street  Mesa    AZ  85204\n",
      "275  Community Bridges Inc  554 South Bellview Street  Mesa    AZ  85204\n"
     ]
    }
   ],
   "source": [
    "#Get a sample of the columns with same ID2\n",
    "#some services have the same address, others have repeating service with probably different 'keys' column\n",
    "import collections\n",
    "counter = collections.Counter(df17geo['ID2'])\n",
    "dups = [i[0] for i in counter.items() if i[1]>1]\n",
    "for i in dups[:5]:\n",
    "    print(df17geo[df17geo['ID2'] == i].iloc[:, 0:5])"
   ]
  },
  {
   "cell_type": "markdown",
   "metadata": {},
   "source": [
    "- Comparing two years\n",
    "    - Major problem: there are addresses with same address but different zip (probably changed/miss recorded)"
   ]
  },
  {
   "cell_type": "code",
   "execution_count": 9,
   "metadata": {},
   "outputs": [],
   "source": [
    "dups2 = list(df15geo[df15geo['ID2'].isin(set(df17geo['ID2']))]['ID2'])"
   ]
  },
  {
   "cell_type": "code",
   "execution_count": 10,
   "metadata": {},
   "outputs": [],
   "source": [
    "#most of the duplications should be those with same name\n",
    "#check the number of facilities w/ different ID same address\n",
    "#all are of the same address!\n",
    "for i in dups2[:5]:\n",
    "    #if (len(df15geo[df15geo['ID2'] == i]) == 1) and (len(df17geo[df17geo['ID2'] == i]) == 1):\n",
    "    if df15geo[df15geo['ID2'] == i]['ID2'].iloc[0] != df17geo[df17geo['ID2'] == i]['ID2'].iloc[0]:\n",
    "        print(df15geo[df15geo['ID2'] == i].iloc[:, 0:5])\n",
    "        print(df17geo[df17geo['ID2'] == i].iloc[:, 0:5], '\\n')"
   ]
  },
  {
   "cell_type": "code",
   "execution_count": 11,
   "metadata": {},
   "outputs": [],
   "source": [
    "#check if there are true negatives of matching\n",
    "from scipy.spatial import distance\n",
    "ary = distance.cdist(df15geo.iloc[:, 5:7], df17geo.iloc[:, 5:7], metric='euclidean') #11928*12031=len(df15geo)*len(df17geo)\n",
    "#check distance distr\n",
    "#ary[ary < 0.1]\n",
    "#ary[(ary < 0.1)&(ary > 0.)]"
   ]
  },
  {
   "cell_type": "code",
   "execution_count": 17,
   "metadata": {},
   "outputs": [
    {
     "name": "stdout",
     "output_type": "stream",
     "text": [
      "93 1153 Air Base Boulevard\n",
      "89 1151 Air Base Boulevard \n",
      "\n",
      "94 1151 Air Base Boulevard\n",
      "88 1153 Air Base Boulevard \n",
      "\n",
      "128 360 West Bensen Boulevard\n",
      "124 360 West Benson Boulevard \n",
      "\n",
      "128 360 West Bensen Boulevard\n",
      "125 360 West Benson Boulevard \n",
      "\n",
      "157 3100 South Cushman Street\n",
      "160 3100 South Cushman Street \n",
      "\n",
      "221 1901 North Trekell Road\n",
      "223 1927 North Trekell Road \n",
      "\n",
      "224 1927 North Trekell Road\n",
      "220 1901 North Trekell Road \n",
      "\n",
      "229 562 North Coronodo Boulevard\n",
      "230 562 North Coronado Boulevard \n",
      "\n",
      "266 554 South Bellview Street\n",
      "276 560 South Bellview Street \n",
      "\n",
      "267 554 South Bellview Street\n",
      "276 560 South Bellview Street \n",
      "\n",
      "269 560 South Bellview Street\n",
      "274 554 South Bellview Street \n",
      "\n",
      "269 560 South Bellview Street\n",
      "275 554 South Bellview Street \n",
      "\n",
      "275 619 West Southern Avenue\n",
      "284 621 West Southern Avenue \n",
      "\n",
      "277 621 West Southern Avenue\n",
      "282 619 West Southern Avenue \n",
      "\n"
     ]
    }
   ],
   "source": [
    "from difflib import SequenceMatcher\n",
    "def similar(a, b):\n",
    "    if a == None or b == None:\n",
    "        return 0\n",
    "    return SequenceMatcher(None, a, b).ratio()\n",
    "\n",
    "#check the ones that are very close but with unmatching IDs\n",
    "for i in range(len(ary))[:300]:\n",
    "    r = ary[i]\n",
    "    potential_matches = np.where(r<0.005)[0]\n",
    "    row = df15geo.iloc[[i]]\n",
    "    if potential_matches.size != 0:\n",
    "        matches = df17geo.iloc[potential_matches]\n",
    "        for index, match in matches.iterrows():\n",
    "            if row['ID2'].iloc[0] != match['ID2']:\n",
    "                if similar(row['ADDRESS'].iloc[0], match[1]) > 0.9:\n",
    "                    print(row.index[0], row['ADDRESS'].iloc[0])\n",
    "                    print(match.name, match[1], '\\n')\n",
    "                    #check: df15geo.loc[row['ADDRESS'].index[0]], df17geo.loc[match.name]"
   ]
  },
  {
   "cell_type": "markdown",
   "metadata": {},
   "source": [
    "4. Assign ID for other tables"
   ]
  },
  {
   "cell_type": "code",
   "execution_count": 18,
   "metadata": {},
   "outputs": [],
   "source": [
    "def create_id_raw(row):\n",
    "    addr = '' if pd.isna(row['Address1']) else str(row['Address1']).strip().replace(' ', '').replace(',', '').lower() #address\n",
    "    s = int(hashlib.sha256((addr).lower().encode('utf-8')).hexdigest(), 16) % 10**4 #only keep last 4 digits\n",
    "    n1 = 'XX' if pd.isna(row['State']) else row['State']\n",
    "    n2 = '00000' if pd.isna(row['ZIP_Code']) else str(int(str(row['ZIP_Code']).split('.')[0].split('-')[0])).zfill(5)\n",
    "    return str(s).zfill(4) + n1 + n2"
   ]
  },
  {
   "cell_type": "code",
   "execution_count": 75,
   "metadata": {},
   "outputs": [],
   "source": [
    "#total number of ids\n",
    "delete_states = ['HI', 'AK', 'PR', 'VI', 'GU', 'AS', 'MP', 'FM', 'PW', 'MH'] #only concerned with mainland\n",
    "years = [1980, 1990, 1998, 2000, 2003, 2005, 2006, 2007, 2008, 2009, 2010, 2011, 2012, 2015, 2017]\n",
    "dfs = []\n",
    "for year in years:\n",
    "    df = pd.read_csv('{0}/{0}_c.csv'.format(year))\n",
    "    df[~df['State'].isin(delete_states)].reset_index(drop = True) #remove irrelevant states\n",
    "    df['ID'] = df.apply(create_id_raw, axis = 1) #add id\n",
    "    df.to_csv('{0}/{0}_geocode.csv'.format(year), index = False)\n",
    "    dfs.append(df[['ID', 'Address1', 'City', 'State', 'ZIP_Code']])"
   ]
  },
  {
   "cell_type": "code",
   "execution_count": 98,
   "metadata": {},
   "outputs": [
    {
     "data": {
      "text/plain": [
       "14188"
      ]
     },
     "execution_count": 98,
     "metadata": {},
     "output_type": "execute_result"
    }
   ],
   "source": [
    "#already geocoded IDs\n",
    "geocoded_id = set(list(df17geo['ID2']) + list(df15geo['ID2']))\n",
    "len(geocoded_id)"
   ]
  },
  {
   "cell_type": "code",
   "execution_count": 109,
   "metadata": {},
   "outputs": [
    {
     "data": {
      "text/html": [
       "<div>\n",
       "<style scoped>\n",
       "    .dataframe tbody tr th:only-of-type {\n",
       "        vertical-align: middle;\n",
       "    }\n",
       "\n",
       "    .dataframe tbody tr th {\n",
       "        vertical-align: top;\n",
       "    }\n",
       "\n",
       "    .dataframe thead th {\n",
       "        text-align: right;\n",
       "    }\n",
       "</style>\n",
       "<table border=\"1\" class=\"dataframe\">\n",
       "  <thead>\n",
       "    <tr style=\"text-align: right;\">\n",
       "      <th></th>\n",
       "      <th>ID</th>\n",
       "      <th>ADDRESS</th>\n",
       "      <th>CITY</th>\n",
       "      <th>STATE</th>\n",
       "      <th>ZIP</th>\n",
       "      <th>Longitude</th>\n",
       "      <th>Latitude</th>\n",
       "      <th>Match Score</th>\n",
       "      <th>ID2</th>\n",
       "    </tr>\n",
       "  </thead>\n",
       "  <tbody>\n",
       "    <tr>\n",
       "      <th>0</th>\n",
       "      <td>SpectraCare</td>\n",
       "      <td>219 Dothan Road</td>\n",
       "      <td>Abbeville</td>\n",
       "      <td>AL</td>\n",
       "      <td>36310</td>\n",
       "      <td>-85.252888</td>\n",
       "      <td>31.553425</td>\n",
       "      <td>100.00</td>\n",
       "      <td>7363AL36310</td>\n",
       "    </tr>\n",
       "    <tr>\n",
       "      <th>1</th>\n",
       "      <td>Shelby County Treatment Center</td>\n",
       "      <td>750 Highway 31 South</td>\n",
       "      <td>Alabaster</td>\n",
       "      <td>AL</td>\n",
       "      <td>35007</td>\n",
       "      <td>-86.787385</td>\n",
       "      <td>33.213457</td>\n",
       "      <td>100.00</td>\n",
       "      <td>4041AL35007</td>\n",
       "    </tr>\n",
       "    <tr>\n",
       "      <th>2</th>\n",
       "      <td>Lighthouse of Tallapoosa County Inc</td>\n",
       "      <td>36 Franklin Street</td>\n",
       "      <td>Alexander City</td>\n",
       "      <td>AL</td>\n",
       "      <td>35010</td>\n",
       "      <td>-85.950922</td>\n",
       "      <td>32.945359</td>\n",
       "      <td>100.00</td>\n",
       "      <td>6152AL35010</td>\n",
       "    </tr>\n",
       "    <tr>\n",
       "      <th>3</th>\n",
       "      <td>South Central Alabama CMHC</td>\n",
       "      <td>205 Academy Drive</td>\n",
       "      <td>Andalusia</td>\n",
       "      <td>AL</td>\n",
       "      <td>36420</td>\n",
       "      <td>-86.446828</td>\n",
       "      <td>31.308620</td>\n",
       "      <td>100.00</td>\n",
       "      <td>1086AL36420</td>\n",
       "    </tr>\n",
       "    <tr>\n",
       "      <th>4</th>\n",
       "      <td>South Central Alabama CMHC</td>\n",
       "      <td>205 Academy Drive</td>\n",
       "      <td>Andalusia</td>\n",
       "      <td>AL</td>\n",
       "      <td>36420</td>\n",
       "      <td>-86.446828</td>\n",
       "      <td>31.308620</td>\n",
       "      <td>100.00</td>\n",
       "      <td>1086AL36420</td>\n",
       "    </tr>\n",
       "    <tr>\n",
       "      <th>...</th>\n",
       "      <td>...</td>\n",
       "      <td>...</td>\n",
       "      <td>...</td>\n",
       "      <td>...</td>\n",
       "      <td>...</td>\n",
       "      <td>...</td>\n",
       "      <td>...</td>\n",
       "      <td>...</td>\n",
       "      <td>...</td>\n",
       "    </tr>\n",
       "    <tr>\n",
       "      <th>11923</th>\n",
       "      <td>Northern Wyoming Mental Health Center</td>\n",
       "      <td>420 1/2 Main Street</td>\n",
       "      <td>Sundance</td>\n",
       "      <td>WY</td>\n",
       "      <td>82729</td>\n",
       "      <td>-104.387628</td>\n",
       "      <td>44.404904</td>\n",
       "      <td>99.55</td>\n",
       "      <td>3383WY82729</td>\n",
       "    </tr>\n",
       "    <tr>\n",
       "      <th>11924</th>\n",
       "      <td>Hot Springs County Csl Servs Inc</td>\n",
       "      <td>121 South 4th Street</td>\n",
       "      <td>Thermopolis</td>\n",
       "      <td>WY</td>\n",
       "      <td>82443</td>\n",
       "      <td>-108.208452</td>\n",
       "      <td>43.645239</td>\n",
       "      <td>100.00</td>\n",
       "      <td>5326WY82443</td>\n",
       "    </tr>\n",
       "    <tr>\n",
       "      <th>11925</th>\n",
       "      <td>Peak Wellness Center</td>\n",
       "      <td>501 Albany Avenue</td>\n",
       "      <td>Torrington</td>\n",
       "      <td>WY</td>\n",
       "      <td>82240</td>\n",
       "      <td>-104.190737</td>\n",
       "      <td>42.083805</td>\n",
       "      <td>100.00</td>\n",
       "      <td>0027WY82240</td>\n",
       "    </tr>\n",
       "    <tr>\n",
       "      <th>11926</th>\n",
       "      <td>Peak Wellness Center</td>\n",
       "      <td>1954 West Mariposa Parkway</td>\n",
       "      <td>Wheatland</td>\n",
       "      <td>WY</td>\n",
       "      <td>82201</td>\n",
       "      <td>-104.969315</td>\n",
       "      <td>42.046687</td>\n",
       "      <td>100.00</td>\n",
       "      <td>5500WY82201</td>\n",
       "    </tr>\n",
       "    <tr>\n",
       "      <th>11927</th>\n",
       "      <td>Cloud Peak Counseling Center</td>\n",
       "      <td>401 South 23rd Street</td>\n",
       "      <td>Worland</td>\n",
       "      <td>WY</td>\n",
       "      <td>82401</td>\n",
       "      <td>-107.939012</td>\n",
       "      <td>44.014160</td>\n",
       "      <td>100.00</td>\n",
       "      <td>0392WY82401</td>\n",
       "    </tr>\n",
       "  </tbody>\n",
       "</table>\n",
       "<p>11928 rows × 9 columns</p>\n",
       "</div>"
      ],
      "text/plain": [
       "                                          ID                     ADDRESS  \\\n",
       "0                                SpectraCare             219 Dothan Road   \n",
       "1             Shelby County Treatment Center        750 Highway 31 South   \n",
       "2        Lighthouse of Tallapoosa County Inc          36 Franklin Street   \n",
       "3                 South Central Alabama CMHC           205 Academy Drive   \n",
       "4                 South Central Alabama CMHC           205 Academy Drive   \n",
       "...                                      ...                         ...   \n",
       "11923  Northern Wyoming Mental Health Center         420 1/2 Main Street   \n",
       "11924       Hot Springs County Csl Servs Inc        121 South 4th Street   \n",
       "11925                   Peak Wellness Center           501 Albany Avenue   \n",
       "11926                   Peak Wellness Center  1954 West Mariposa Parkway   \n",
       "11927           Cloud Peak Counseling Center       401 South 23rd Street   \n",
       "\n",
       "                 CITY STATE    ZIP   Longitude   Latitude  Match Score  \\\n",
       "0           Abbeville    AL  36310  -85.252888  31.553425       100.00   \n",
       "1           Alabaster    AL  35007  -86.787385  33.213457       100.00   \n",
       "2      Alexander City    AL  35010  -85.950922  32.945359       100.00   \n",
       "3           Andalusia    AL  36420  -86.446828  31.308620       100.00   \n",
       "4           Andalusia    AL  36420  -86.446828  31.308620       100.00   \n",
       "...               ...   ...    ...         ...        ...          ...   \n",
       "11923        Sundance    WY  82729 -104.387628  44.404904        99.55   \n",
       "11924     Thermopolis    WY  82443 -108.208452  43.645239       100.00   \n",
       "11925      Torrington    WY  82240 -104.190737  42.083805       100.00   \n",
       "11926       Wheatland    WY  82201 -104.969315  42.046687       100.00   \n",
       "11927         Worland    WY  82401 -107.939012  44.014160       100.00   \n",
       "\n",
       "               ID2  \n",
       "0      7363AL36310  \n",
       "1      4041AL35007  \n",
       "2      6152AL35010  \n",
       "3      1086AL36420  \n",
       "4      1086AL36420  \n",
       "...            ...  \n",
       "11923  3383WY82729  \n",
       "11924  5326WY82443  \n",
       "11925  0027WY82240  \n",
       "11926  5500WY82201  \n",
       "11927  0392WY82401  \n",
       "\n",
       "[11928 rows x 9 columns]"
      ]
     },
     "execution_count": 109,
     "metadata": {},
     "output_type": "execute_result"
    }
   ],
   "source": [
    "df15geo"
   ]
  },
  {
   "cell_type": "code",
   "execution_count": 143,
   "metadata": {},
   "outputs": [],
   "source": [
    "#remaining to be geocoded\n",
    "df_geo = pd.concat(dfs,ignore_index=True) #dfs is a list\n",
    "df_geo = df_geo.drop_duplicates(subset='ID', keep='first', ignore_index = True)\n",
    "df_geo = df_geo[~df_geo['ID'].isin(geocoded_id)]\n",
    "df_geo.rename(columns={\"Address1\": \"ADDRESS\", \"City\": \"CITY\", \"State\":\"STATE\", \"ZIP_Code\": \"ZIP\"}, inplace = True)"
   ]
  },
  {
   "cell_type": "code",
   "execution_count": 148,
   "metadata": {},
   "outputs": [],
   "source": [
    "def clean_ZIP(row):\n",
    "    #print(row)\n",
    "    if not pd.isna(row['ZIP']):\n",
    "        return str(int(str(row['ZIP']).split('.')[0].split('-')[0]))\n",
    "\n",
    "df_geo['ZIP'] = df_geo.apply(clean_ZIP, axis = 1)#['ZIP'].astype('str')\n",
    "#df_geo['ZIP'] = df_geo['ZIP'].apply(lambda x: None if pd.isna(x) else int(x[:5]))\n",
    "df_geo.to_csv('geocode_master.csv', index = False)"
   ]
  },
  {
   "cell_type": "markdown",
   "metadata": {},
   "source": [
    "## Match IDs"
   ]
  },
  {
   "cell_type": "markdown",
   "metadata": {},
   "source": [
    "1. Create master file"
   ]
  },
  {
   "cell_type": "code",
   "execution_count": 43,
   "metadata": {},
   "outputs": [],
   "source": [
    "d1 = df15geo[['ID2', 'ADDRESS', 'CITY', 'STATE', 'ZIP', 'Longitude', 'Latitude', 'Match Score']].rename(columns={'ID2':\"ID\"})\n",
    "d2 = df17geo[['ID2', 'ADDRESS', 'CITY', 'STATE', 'ZIP', 'Longitude', 'Latitude', 'Match Score']].rename(columns={'ID2':\"ID\"})\n",
    "d3 = pd.read_csv(\"geocode_master.csv\")\n",
    "df_master = pd.concat([d1, d2, d3], ignore_index=True)"
   ]
  },
  {
   "cell_type": "code",
   "execution_count": 62,
   "metadata": {},
   "outputs": [],
   "source": [
    "df_master = df_master.drop_duplicates('ID', ignore_index=True)"
   ]
  },
  {
   "cell_type": "code",
   "execution_count": 67,
   "metadata": {},
   "outputs": [],
   "source": [
    "df_master.to_csv(\"geocode_master.csv\", index = False)"
   ]
  },
  {
   "cell_type": "markdown",
   "metadata": {},
   "source": [
    "2. Filter each table and add match the ID, add long/lat/score"
   ]
  },
  {
   "cell_type": "code",
   "execution_count": 65,
   "metadata": {},
   "outputs": [],
   "source": [
    "delete_states = ['HI', 'AK', 'PR', 'VI', 'GU', 'AS', 'MP', 'FM', 'PW', 'MH'] #only concerned with mainland\n",
    "df = pd.read_csv('2000/2000_c.csv')\n",
    "df[~df['State'].isin(delete_states)].reset_index(drop = True) #remove irrelevant states\n",
    "df['ID'] = df.apply(create_id_raw, axis = 1)"
   ]
  },
  {
   "cell_type": "code",
   "execution_count": 68,
   "metadata": {},
   "outputs": [],
   "source": [
    "df_g = df.merge(df_master[['ID', 'Longitude', 'Latitude', 'Match Score']], on = 'ID', how='left')"
   ]
  },
  {
   "cell_type": "code",
   "execution_count": 74,
   "metadata": {},
   "outputs": [
    {
     "name": "stdout",
     "output_type": "stream",
     "text": [
      "1980 0\n",
      "1990 0\n",
      "1998 0\n",
      "2000 0\n",
      "2003 0\n",
      "2005 0\n",
      "2006 0\n",
      "2007 0\n",
      "2008 0\n",
      "2009 0\n",
      "2010 0\n",
      "2011 0\n",
      "2012 0\n",
      "2015 0\n",
      "2017 0\n"
     ]
    }
   ],
   "source": [
    "delete_states = ['HI', 'AK', 'PR', 'VI', 'GU', 'AS', 'MP', 'FM', 'PW', 'MH'] #only concerned with mainland\n",
    "years = [1980, 1990, 1998, 2000, 2003, 2005, 2006, 2007, 2008, 2009, 2010, 2011, 2012, 2015, 2017]\n",
    "for year in years:\n",
    "    df = pd.read_csv('{0}/{0}_c.csv'.format(year))\n",
    "    df[~df['State'].isin(delete_states)].reset_index(drop = True) #remove irrelevant states\n",
    "    df['ID'] = df.apply(create_id_raw, axis = 1) \n",
    "    df_g = df.merge(df_master[['ID', 'Longitude', 'Latitude', 'Match Score']], on = 'ID', how='left')\n",
    "    print(year, len(df_g[df_g['Longitude'].isna()]))\n",
    "    df_g.to_csv('{0}/{0}_g.csv'.format(year), index = False)"
   ]
  },
  {
   "cell_type": "code",
   "execution_count": null,
   "metadata": {},
   "outputs": [],
   "source": []
  }
 ],
 "metadata": {
  "kernelspec": {
   "display_name": "Python 3",
   "language": "python",
   "name": "python3"
  },
  "language_info": {
   "codemirror_mode": {
    "name": "ipython",
    "version": 3
   },
   "file_extension": ".py",
   "mimetype": "text/x-python",
   "name": "python",
   "nbconvert_exporter": "python",
   "pygments_lexer": "ipython3",
   "version": "3.7.7"
  }
 },
 "nbformat": 4,
 "nbformat_minor": 4
}
