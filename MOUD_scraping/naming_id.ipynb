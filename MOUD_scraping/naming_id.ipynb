{
 "cells": [
  {
   "cell_type": "code",
   "execution_count": 1,
   "metadata": {},
   "outputs": [],
   "source": [
    "import pandas as pd\n",
    "import matplotlib.pyplot as plt\n",
    "import hashlib"
   ]
  },
  {
   "cell_type": "markdown",
   "metadata": {},
   "source": [
    "##### Goals\n",
    "- Give a unique ID to every unique address and match the IDs that have been geocoded\n",
    "- Also need combine geo back to dfs"
   ]
  },
  {
   "cell_type": "markdown",
   "metadata": {},
   "source": [
    "##### Notes\n",
    "- Naming of files for each year: one with all cleaned MOUDs, one with geocoded(-islands,+unique ID, + lat/long)"
   ]
  },
  {
   "cell_type": "markdown",
   "metadata": {},
   "source": [
    "## Assign ID\n",
    "1. ID setup: hash(address) + state + zip"
   ]
  },
  {
   "cell_type": "code",
   "execution_count": 26,
   "metadata": {},
   "outputs": [],
   "source": [
    "def create_id(row):\n",
    "    addr = '' if pd.isna(row['ADDRESS']) else str(row['ADDRESS']) #address\n",
    "    s = int(hashlib.sha256((addr).lower().encode('utf-8')).hexdigest(), 16) % 10**4 #only keep last 4 digits\n",
    "    n1 = 'XX' if pd.isna(row['STATE']) else row['STATE']\n",
    "    n2 = '00000' if pd.isna(row['ZIP']) else str(int(str(row['ZIP']).split('.')[0].split('-')[0])).zfill(5)\n",
    "    return str(s).zfill(4) + n1 + n2"
   ]
  },
  {
   "cell_type": "markdown",
   "metadata": {},
   "source": [
    "2. Check effectiveness of ID\n",
    "- Single year\n",
    "- Between two years"
   ]
  },
  {
   "cell_type": "code",
   "execution_count": 27,
   "metadata": {},
   "outputs": [],
   "source": [
    "df17geo = pd.read_csv('2017/2017_c_geocoded.csv')\n",
    "df17geo['ID2'] = df17geo.apply(create_id, axis = 1)\n",
    "df15geo = pd.read_csv('2015/2015_c_geocoded.csv')\n",
    "df15geo['ID2'] = df15geo.apply(create_id, axis = 1)"
   ]
  },
  {
   "cell_type": "code",
   "execution_count": 28,
   "metadata": {},
   "outputs": [
    {
     "name": "stdout",
     "output_type": "stream",
     "text": [
      "Number of columns:\t 12031\n",
      "Number of unique ID:\t 11530\n"
     ]
    }
   ],
   "source": [
    "print(\"Number of columns:\\t\", len(df17geo))\n",
    "print(\"Number of unique ID:\\t\", len(set(df17geo['ID2'])))"
   ]
  },
  {
   "cell_type": "code",
   "execution_count": 16,
   "metadata": {},
   "outputs": [
    {
     "data": {
      "text/html": [
       "<div>\n",
       "<style scoped>\n",
       "    .dataframe tbody tr th:only-of-type {\n",
       "        vertical-align: middle;\n",
       "    }\n",
       "\n",
       "    .dataframe tbody tr th {\n",
       "        vertical-align: top;\n",
       "    }\n",
       "\n",
       "    .dataframe thead th {\n",
       "        text-align: right;\n",
       "    }\n",
       "</style>\n",
       "<table border=\"1\" class=\"dataframe\">\n",
       "  <thead>\n",
       "    <tr style=\"text-align: right;\">\n",
       "      <th></th>\n",
       "      <th>ID</th>\n",
       "      <th>ADDRESS</th>\n",
       "      <th>CITY</th>\n",
       "      <th>STATE</th>\n",
       "      <th>ZIP</th>\n",
       "      <th>Longitude</th>\n",
       "      <th>Latitude</th>\n",
       "      <th>Match Score</th>\n",
       "      <th>ID2</th>\n",
       "    </tr>\n",
       "  </thead>\n",
       "  <tbody>\n",
       "    <tr>\n",
       "      <th>0</th>\n",
       "      <td>SpectraCare</td>\n",
       "      <td>219 Dothan Road</td>\n",
       "      <td>Abbeville</td>\n",
       "      <td>AL</td>\n",
       "      <td>36310</td>\n",
       "      <td>-85.252888</td>\n",
       "      <td>31.553425</td>\n",
       "      <td>100.0</td>\n",
       "      <td>1501AL36310</td>\n",
       "    </tr>\n",
       "    <tr>\n",
       "      <th>1</th>\n",
       "      <td>Shelby County Treatment Center</td>\n",
       "      <td>750 Highway 31 South</td>\n",
       "      <td>Alabaster</td>\n",
       "      <td>AL</td>\n",
       "      <td>35007</td>\n",
       "      <td>-86.787385</td>\n",
       "      <td>33.213457</td>\n",
       "      <td>100.0</td>\n",
       "      <td>4858AL35007</td>\n",
       "    </tr>\n",
       "    <tr>\n",
       "      <th>2</th>\n",
       "      <td>Lighthouse of Tallapoosa County Inc</td>\n",
       "      <td>36 Franklin Street</td>\n",
       "      <td>Alexander City</td>\n",
       "      <td>AL</td>\n",
       "      <td>35010</td>\n",
       "      <td>-85.950922</td>\n",
       "      <td>32.945359</td>\n",
       "      <td>100.0</td>\n",
       "      <td>8795AL35010</td>\n",
       "    </tr>\n",
       "    <tr>\n",
       "      <th>3</th>\n",
       "      <td>Anniston Fellowship House Inc</td>\n",
       "      <td>106 East 22nd Street</td>\n",
       "      <td>Anniston</td>\n",
       "      <td>AL</td>\n",
       "      <td>36201</td>\n",
       "      <td>-85.827890</td>\n",
       "      <td>33.672923</td>\n",
       "      <td>100.0</td>\n",
       "      <td>9602AL36201</td>\n",
       "    </tr>\n",
       "    <tr>\n",
       "      <th>4</th>\n",
       "      <td>Family Life Center</td>\n",
       "      <td>410 South Jefferson Street</td>\n",
       "      <td>Athens</td>\n",
       "      <td>AL</td>\n",
       "      <td>35611</td>\n",
       "      <td>-86.972423</td>\n",
       "      <td>34.799482</td>\n",
       "      <td>100.0</td>\n",
       "      <td>9461AL35611</td>\n",
       "    </tr>\n",
       "    <tr>\n",
       "      <th>...</th>\n",
       "      <td>...</td>\n",
       "      <td>...</td>\n",
       "      <td>...</td>\n",
       "      <td>...</td>\n",
       "      <td>...</td>\n",
       "      <td>...</td>\n",
       "      <td>...</td>\n",
       "      <td>...</td>\n",
       "      <td>...</td>\n",
       "    </tr>\n",
       "    <tr>\n",
       "      <th>9211</th>\n",
       "      <td>Mountains Edge Counseling</td>\n",
       "      <td>44 South Main Street</td>\n",
       "      <td>Sheridan</td>\n",
       "      <td>WY</td>\n",
       "      <td>82801</td>\n",
       "      <td>-106.955939</td>\n",
       "      <td>44.796531</td>\n",
       "      <td>100.0</td>\n",
       "      <td>9895WY82801</td>\n",
       "    </tr>\n",
       "    <tr>\n",
       "      <th>9212</th>\n",
       "      <td>Volunteers of America Northern Rockies</td>\n",
       "      <td>360 College Meadows Drive</td>\n",
       "      <td>Sheridan</td>\n",
       "      <td>WY</td>\n",
       "      <td>82801</td>\n",
       "      <td>-106.950601</td>\n",
       "      <td>44.759063</td>\n",
       "      <td>100.0</td>\n",
       "      <td>2589WY82801</td>\n",
       "    </tr>\n",
       "    <tr>\n",
       "      <th>9213</th>\n",
       "      <td>Peak Wellness Center</td>\n",
       "      <td>501 Albany Avenue</td>\n",
       "      <td>Torrington</td>\n",
       "      <td>WY</td>\n",
       "      <td>82240</td>\n",
       "      <td>-104.190737</td>\n",
       "      <td>42.083805</td>\n",
       "      <td>100.0</td>\n",
       "      <td>0285WY82240</td>\n",
       "    </tr>\n",
       "    <tr>\n",
       "      <th>9214</th>\n",
       "      <td>Peak Wellness Center</td>\n",
       "      <td>1954 West Mariposa Parkway</td>\n",
       "      <td>Wheatland</td>\n",
       "      <td>WY</td>\n",
       "      <td>82201</td>\n",
       "      <td>-104.969315</td>\n",
       "      <td>42.046687</td>\n",
       "      <td>100.0</td>\n",
       "      <td>1695WY82201</td>\n",
       "    </tr>\n",
       "    <tr>\n",
       "      <th>9215</th>\n",
       "      <td>Cloud Peak Counseling Center</td>\n",
       "      <td>401 South 23rd Street</td>\n",
       "      <td>Worland</td>\n",
       "      <td>WY</td>\n",
       "      <td>82401</td>\n",
       "      <td>-107.939012</td>\n",
       "      <td>44.014160</td>\n",
       "      <td>100.0</td>\n",
       "      <td>0805WY82401</td>\n",
       "    </tr>\n",
       "  </tbody>\n",
       "</table>\n",
       "<p>9216 rows × 9 columns</p>\n",
       "</div>"
      ],
      "text/plain": [
       "                                          ID                     ADDRESS  \\\n",
       "0                                SpectraCare             219 Dothan Road   \n",
       "1             Shelby County Treatment Center        750 Highway 31 South   \n",
       "2        Lighthouse of Tallapoosa County Inc          36 Franklin Street   \n",
       "3              Anniston Fellowship House Inc        106 East 22nd Street   \n",
       "4                         Family Life Center  410 South Jefferson Street   \n",
       "...                                      ...                         ...   \n",
       "9211               Mountains Edge Counseling        44 South Main Street   \n",
       "9212  Volunteers of America Northern Rockies   360 College Meadows Drive   \n",
       "9213                    Peak Wellness Center           501 Albany Avenue   \n",
       "9214                    Peak Wellness Center  1954 West Mariposa Parkway   \n",
       "9215            Cloud Peak Counseling Center       401 South 23rd Street   \n",
       "\n",
       "                CITY STATE    ZIP   Longitude   Latitude  Match Score  \\\n",
       "0          Abbeville    AL  36310  -85.252888  31.553425        100.0   \n",
       "1          Alabaster    AL  35007  -86.787385  33.213457        100.0   \n",
       "2     Alexander City    AL  35010  -85.950922  32.945359        100.0   \n",
       "3           Anniston    AL  36201  -85.827890  33.672923        100.0   \n",
       "4             Athens    AL  35611  -86.972423  34.799482        100.0   \n",
       "...              ...   ...    ...         ...        ...          ...   \n",
       "9211        Sheridan    WY  82801 -106.955939  44.796531        100.0   \n",
       "9212        Sheridan    WY  82801 -106.950601  44.759063        100.0   \n",
       "9213      Torrington    WY  82240 -104.190737  42.083805        100.0   \n",
       "9214       Wheatland    WY  82201 -104.969315  42.046687        100.0   \n",
       "9215         Worland    WY  82401 -107.939012  44.014160        100.0   \n",
       "\n",
       "              ID2  \n",
       "0     1501AL36310  \n",
       "1     4858AL35007  \n",
       "2     8795AL35010  \n",
       "3     9602AL36201  \n",
       "4     9461AL35611  \n",
       "...           ...  \n",
       "9211  9895WY82801  \n",
       "9212  2589WY82801  \n",
       "9213  0285WY82240  \n",
       "9214  1695WY82201  \n",
       "9215  0805WY82401  \n",
       "\n",
       "[9216 rows x 9 columns]"
      ]
     },
     "execution_count": 16,
     "metadata": {},
     "output_type": "execute_result"
    }
   ],
   "source": [
    "df15geo[df15geo['ID2'].isin(set(df17geo['ID2']))].reset_index(drop = True)"
   ]
  },
  {
   "cell_type": "code",
   "execution_count": 17,
   "metadata": {},
   "outputs": [
    {
     "data": {
      "text/plain": [
       "11928"
      ]
     },
     "execution_count": 17,
     "metadata": {},
     "output_type": "execute_result"
    }
   ],
   "source": [
    "len(df15geo)"
   ]
  },
  {
   "cell_type": "markdown",
   "metadata": {},
   "source": [
    "3. Number of rows needing geocode"
   ]
  },
  {
   "cell_type": "code",
   "execution_count": 34,
   "metadata": {},
   "outputs": [],
   "source": [
    "def create_id_raw(row):\n",
    "    addr = '' if pd.isna(row['Address1']) else str(row['Address1']) #address\n",
    "    s = int(hashlib.sha256((addr).lower().encode('utf-8')).hexdigest(), 16) % 10**4 #only keep last 4 digits\n",
    "    n1 = 'XX' if pd.isna(row['State']) else row['State']\n",
    "    n2 = '00000' if pd.isna(row['ZIP_Code']) else str(int(str(row['ZIP_Code']).split('.')[0].split('-')[0])).zfill(5)\n",
    "    return str(s).zfill(4) + n1 + n2"
   ]
  },
  {
   "cell_type": "code",
   "execution_count": 63,
   "metadata": {},
   "outputs": [
    {
     "name": "stdout",
     "output_type": "stream",
     "text": [
      "Year 1980 has 3016/3166 new IDs\n",
      "Year 1990 has 9439/10655 new IDs\n",
      "Year 1998 has 8645/11324 new IDs\n",
      "Year 2000 has 5168/12223 new IDs\n",
      "Year 2003 has 3754/11591 new IDs\n",
      "Year 2005 has 2628/11060 new IDs\n",
      "Year 2006 has 1363/10777 new IDs\n",
      "Year 2007 has 1265/10973 new IDs\n",
      "Year 2008 has 1600/11265 new IDs\n",
      "Year 2009 has 1282/11259 new IDs\n",
      "Year 2010 has 1591/11248 new IDs\n",
      "Year 2011 has 1399/11278 new IDs\n",
      "Year 2012 has 1405/11542 new IDs\n",
      "Year 2015 has 3154/11928 new IDs\n",
      "Year 2017 has 2313/12031 new IDs\n"
     ]
    }
   ],
   "source": [
    "#total number of ids\n",
    "delete_states = ['HI', 'AK', 'PR', 'VI', 'GU', 'AS', 'MP', 'FM', 'PW', 'MH'] #only concerned with mainland\n",
    "years = [1980, 1990, 1998, 2000, 2003, 2005, 2006, 2007, 2008, 2009, 2010, 2011, 2012, 2015, 2017]\n",
    "a = set()\n",
    "num_new_ids = []\n",
    "num_ids = []\n",
    "len_dfs = []\n",
    "for year in years:\n",
    "    df = pd.read_csv('{0}/{0}_c.csv'.format(year))\n",
    "    df[~df['State'].isin(delete_states)].reset_index(drop = True) #remove irrelevant states\n",
    "    df['ID'] = df.apply(create_id_raw, axis = 1)\n",
    "    len_prev = len(a)\n",
    "    a.update(set(list(df['ID'])))\n",
    "    print(\"Year {0} has {1}/{2} new IDs\".format(year ,len(a) - len_prev, len(df)))\n",
    "    num_new_ids.append(len(a) - len_prev)\n",
    "    num_ids.append(len(set(list(df['ID']))))\n",
    "    len_dfs.append(len(df))"
   ]
  },
  {
   "cell_type": "code",
   "execution_count": 53,
   "metadata": {},
   "outputs": [
    {
     "data": {
      "text/plain": [
       "48022"
      ]
     },
     "execution_count": 53,
     "metadata": {},
     "output_type": "execute_result"
    }
   ],
   "source": [
    "len(a)"
   ]
  },
  {
   "cell_type": "code",
   "execution_count": 66,
   "metadata": {},
   "outputs": [
    {
     "data": {
      "text/plain": [
       "<BarContainer object of 15 artists>"
      ]
     },
     "execution_count": 66,
     "metadata": {},
     "output_type": "execute_result"
    },
    {
     "data": {
      "image/png": "[encoded data removed]",
      "text/plain": [
       "<Figure size 432x288 with 1 Axes>"
      ]
     },
     "metadata": {
      "needs_background": "light"
     },
     "output_type": "display_data"
    }
   ],
   "source": [
    "plt.bar(years, num_ids)\n",
    "plt.bar(years, num_new_ids)"
   ]
  },
  {
   "cell_type": "code",
   "execution_count": 55,
   "metadata": {},
   "outputs": [],
   "source": [
    "#total ids that has been geocoded\n",
    "b = set()\n",
    "for year in [2009, 2015, 2017]:\n",
    "    df = pd.read_csv('{0}/{0}_c.csv'.format(year))\n",
    "    df[~df['State'].isin(delete_states)].reset_index(drop = True) #remove irrelevant states\n",
    "    df['ID'] = df.apply(create_id_raw, axis = 1)\n",
    "    b.update(set(list(df['ID'])))"
   ]
  },
  {
   "cell_type": "code",
   "execution_count": 56,
   "metadata": {},
   "outputs": [
    {
     "data": {
      "text/plain": [
       "19183"
      ]
     },
     "execution_count": 56,
     "metadata": {},
     "output_type": "execute_result"
    }
   ],
   "source": [
    "len(b)"
   ]
  },
  {
   "cell_type": "code",
   "execution_count": 57,
   "metadata": {},
   "outputs": [
    {
     "name": "stdout",
     "output_type": "stream",
     "text": [
      "Needs geocode: 28839\n"
     ]
    }
   ],
   "source": [
    "print(\"Needs geocode:\", len(a) - len(b))"
   ]
  },
  {
   "cell_type": "code",
   "execution_count": null,
   "metadata": {},
   "outputs": [],
   "source": [
    "\n",
    "\n",
    "\n",
    "\n",
    "\n",
    "\n",
    "\n",
    "\n",
    "\n",
    "\n",
    "\n",
    "\n",
    "\n",
    "\n",
    "\n",
    "\n",
    "\n",
    "\n",
    "\n"
   ]
  },
  {
   "cell_type": "markdown",
   "metadata": {},
   "source": [
    "## Clean tables for geocoding\n",
    "- Remove islands, assign IDs\n",
    "- Remove other irrelevant columns but make sure we can combine back..."
   ]
  },
  {
   "cell_type": "code",
   "execution_count": 19,
   "metadata": {},
   "outputs": [],
   "source": [
    "#2015, 2017, 2019 are geocoded\n",
    "df17geo = pd.read_csv('2017/2017_c_geocoded.csv')\n",
    "\n",
    "delete_states = ['HI', 'AK', 'PR', 'VI', 'GU', 'AS', 'MP', 'FM', 'PW', 'MH'] #only concerned with mainland\n",
    "\n",
    "#2017\n",
    "df17 = pd.read_csv('2017/2017_c.csv')\n",
    "df17 = df17[~df17['State'].isin(delete_states)].reset_index(drop = True)\n",
    "\n",
    "#2010\n",
    "df10 = pd.read_csv('2010/2010_c.csv')\n",
    "df10 = df10[~df10['State'].isin(delete_states)].reset_index(drop = True)\n",
    "\n",
    "#2000\n",
    "df00 = pd.read_csv('2000/2000_c.csv')\n",
    "df00 = df00[~df00['State'].isin(delete_states)].reset_index(drop = True)\n",
    "\n",
    "#1990\n",
    "df90 = pd.read_csv('1990/1990_c.csv')\n",
    "df90 = df90[~df90['State'].isin(delete_states)].reset_index(drop = True)"
   ]
  },
  {
   "cell_type": "code",
   "execution_count": 20,
   "metadata": {},
   "outputs": [
    {
     "name": "stdout",
     "output_type": "stream",
     "text": [
      "Year 2010 has 3593/10940 overlap with 2017\n"
     ]
    }
   ],
   "source": [
    "print('Year {0} has {1}/{2} overlap with 2017'.format(2010, len(df10[df10['ID'].isin(set(df17['ID']))].reset_index(drop = True)), len(df10)))"
   ]
  },
  {
   "cell_type": "code",
   "execution_count": 21,
   "metadata": {},
   "outputs": [
    {
     "name": "stdout",
     "output_type": "stream",
     "text": [
      "Year 2000 has 907/11964 overlap with 2017\n"
     ]
    }
   ],
   "source": [
    "print('Year {0} has {1}/{2} overlap with 2017'.format(2000, len(df00[df00['ID'].isin(set(df17['ID']))].reset_index(drop = True)), len(df00)))"
   ]
  },
  {
   "cell_type": "code",
   "execution_count": 22,
   "metadata": {},
   "outputs": [
    {
     "name": "stdout",
     "output_type": "stream",
     "text": [
      "Year 1990 has 201/10442 overlap with 2017\n"
     ]
    }
   ],
   "source": [
    "print('Year {0} has {1}/{2} overlap with 2017'.format(1990, len(df90[df90['ID'].isin(set(df17['ID']))].reset_index(drop = True)), len(df90)))"
   ]
  },
  {
   "cell_type": "code",
   "execution_count": 16,
   "metadata": {},
   "outputs": [
    {
     "data": {
      "text/html": [
       "<div>\n",
       "<style scoped>\n",
       "    .dataframe tbody tr th:only-of-type {\n",
       "        vertical-align: middle;\n",
       "    }\n",
       "\n",
       "    .dataframe tbody tr th {\n",
       "        vertical-align: top;\n",
       "    }\n",
       "\n",
       "    .dataframe thead th {\n",
       "        text-align: right;\n",
       "    }\n",
       "</style>\n",
       "<table border=\"1\" class=\"dataframe\">\n",
       "  <thead>\n",
       "    <tr style=\"text-align: right;\">\n",
       "      <th></th>\n",
       "      <th>Name1</th>\n",
       "      <th>Name2</th>\n",
       "      <th>Name3</th>\n",
       "      <th>Address1</th>\n",
       "      <th>Address2</th>\n",
       "      <th>Address3</th>\n",
       "      <th>City</th>\n",
       "      <th>State</th>\n",
       "      <th>ZIP_Code</th>\n",
       "      <th>Contact</th>\n",
       "      <th>Note</th>\n",
       "      <th>Keys</th>\n",
       "      <th>ID</th>\n",
       "    </tr>\n",
       "  </thead>\n",
       "  <tbody>\n",
       "    <tr>\n",
       "      <th>16</th>\n",
       "      <td>Fellowship House Inc</td>\n",
       "      <td>NaN</td>\n",
       "      <td>NaN</td>\n",
       "      <td>1625 12th Avenue South</td>\n",
       "      <td>NaN</td>\n",
       "      <td>NaN</td>\n",
       "      <td>Birmingham</td>\n",
       "      <td>AL</td>\n",
       "      <td>35205</td>\n",
       "      <td>(205)933-2430</td>\n",
       "      <td>NaN</td>\n",
       "      <td>SAF/SA/HH/MOA/CBT/SACA/TWFA/CMI/MOTI/ANG/RELP/...</td>\n",
       "      <td>7337AL35205</td>\n",
       "    </tr>\n",
       "  </tbody>\n",
       "</table>\n",
       "</div>"
      ],
      "text/plain": [
       "                   Name1 Name2 Name3                Address1 Address2  \\\n",
       "16  Fellowship House Inc   NaN   NaN  1625 12th Avenue South      NaN   \n",
       "\n",
       "   Address3        City State  ZIP_Code        Contact Note  \\\n",
       "16      NaN  Birmingham    AL     35205  (205)933-2430  NaN   \n",
       "\n",
       "                                                 Keys           ID  \n",
       "16  SAF/SA/HH/MOA/CBT/SACA/TWFA/CMI/MOTI/ANG/RELP/...  7337AL35205  "
      ]
     },
     "execution_count": 16,
     "metadata": {},
     "output_type": "execute_result"
    }
   ],
   "source": [
    "df17[df17['ID'] == df90['ID'][13]]"
   ]
  },
  {
   "cell_type": "code",
   "execution_count": 9,
   "metadata": {},
   "outputs": [
    {
     "data": {
      "text/html": [
       "<div>\n",
       "<style scoped>\n",
       "    .dataframe tbody tr th:only-of-type {\n",
       "        vertical-align: middle;\n",
       "    }\n",
       "\n",
       "    .dataframe tbody tr th {\n",
       "        vertical-align: top;\n",
       "    }\n",
       "\n",
       "    .dataframe thead th {\n",
       "        text-align: right;\n",
       "    }\n",
       "</style>\n",
       "<table border=\"1\" class=\"dataframe\">\n",
       "  <thead>\n",
       "    <tr style=\"text-align: right;\">\n",
       "      <th></th>\n",
       "      <th>Name1</th>\n",
       "      <th>Name2</th>\n",
       "      <th>Name3</th>\n",
       "      <th>Address1</th>\n",
       "      <th>Address2</th>\n",
       "      <th>Address3</th>\n",
       "      <th>City</th>\n",
       "      <th>State</th>\n",
       "      <th>ZIP_Code</th>\n",
       "      <th>Contact</th>\n",
       "      <th>Keys</th>\n",
       "      <th>ID</th>\n",
       "    </tr>\n",
       "  </thead>\n",
       "  <tbody>\n",
       "    <tr>\n",
       "      <th>13</th>\n",
       "      <td>FELLOWSHIP HOUSE INC</td>\n",
       "      <td>NaN</td>\n",
       "      <td>NaN</td>\n",
       "      <td>1625 12TH AVENUE SOUTH</td>\n",
       "      <td>NaN</td>\n",
       "      <td>NaN</td>\n",
       "      <td>BIRMINGHAM</td>\n",
       "      <td>AL</td>\n",
       "      <td>35205</td>\n",
       "      <td>(205)933-2430</td>\n",
       "      <td>AD/RR/AM/W/Y/A/B/HV/PI/CU/IV/TX/</td>\n",
       "      <td>1901AL35205</td>\n",
       "    </tr>\n",
       "    <tr>\n",
       "      <th>24</th>\n",
       "      <td>LIGHTHOUSE INC</td>\n",
       "      <td>NaN</td>\n",
       "      <td>NaN</td>\n",
       "      <td>925 CONVENT ROAD NE</td>\n",
       "      <td>NaN</td>\n",
       "      <td>NaN</td>\n",
       "      <td>CULLMAN</td>\n",
       "      <td>AL</td>\n",
       "      <td>35055</td>\n",
       "      <td>(205)739-2777</td>\n",
       "      <td>AD/RR/TX/</td>\n",
       "      <td>1631AL35055</td>\n",
       "    </tr>\n",
       "    <tr>\n",
       "      <th>65</th>\n",
       "      <td>VETERANS AFFAIRS MEDICAL CENTER</td>\n",
       "      <td>ADDICTIONS TREATMENT UNIT</td>\n",
       "      <td>NaN</td>\n",
       "      <td>3701 LOOP ROAD EAST</td>\n",
       "      <td>NaN</td>\n",
       "      <td>NaN</td>\n",
       "      <td>TUSCALOOSA</td>\n",
       "      <td>AL</td>\n",
       "      <td>35404</td>\n",
       "      <td>(205)553-3760TEX2690</td>\n",
       "      <td>AD/OT/RR/W/Y/A/B/HV/CU/IV/EA/TX/PV/</td>\n",
       "      <td>3248AL35404</td>\n",
       "    </tr>\n",
       "    <tr>\n",
       "      <th>307</th>\n",
       "      <td>CHANGING ECHOES</td>\n",
       "      <td>NaN</td>\n",
       "      <td>NaN</td>\n",
       "      <td>7632 POOL STATION ROAD</td>\n",
       "      <td>NaN</td>\n",
       "      <td>NaN</td>\n",
       "      <td>ANGELS CAMP</td>\n",
       "      <td>CA</td>\n",
       "      <td>95222</td>\n",
       "      <td>(209)785-3666</td>\n",
       "      <td>AD/RR/W/B/PI/CU/EA/TX/</td>\n",
       "      <td>8192CA95222</td>\n",
       "    </tr>\n",
       "    <tr>\n",
       "      <th>310</th>\n",
       "      <td>REACH PROJECT</td>\n",
       "      <td>NaN</td>\n",
       "      <td>NaN</td>\n",
       "      <td>1915 D STREET</td>\n",
       "      <td>NaN</td>\n",
       "      <td>NaN</td>\n",
       "      <td>ANTIOCH</td>\n",
       "      <td>CA</td>\n",
       "      <td>94509</td>\n",
       "      <td>(415)754-3673</td>\n",
       "      <td>DA/AM/W/Y/H/PI/CU/PG/EA/TX/CI/PV/</td>\n",
       "      <td>6414CA94509</td>\n",
       "    </tr>\n",
       "    <tr>\n",
       "      <th>...</th>\n",
       "      <td>...</td>\n",
       "      <td>...</td>\n",
       "      <td>...</td>\n",
       "      <td>...</td>\n",
       "      <td>...</td>\n",
       "      <td>...</td>\n",
       "      <td>...</td>\n",
       "      <td>...</td>\n",
       "      <td>...</td>\n",
       "      <td>...</td>\n",
       "      <td>...</td>\n",
       "      <td>...</td>\n",
       "    </tr>\n",
       "    <tr>\n",
       "      <th>10149</th>\n",
       "      <td>SAINT AGNES HOSPITAL</td>\n",
       "      <td>ALCOHOL REHABILITATION UNIT</td>\n",
       "      <td>NaN</td>\n",
       "      <td>430 EAST DIVISION STREET</td>\n",
       "      <td>NaN</td>\n",
       "      <td>NaN</td>\n",
       "      <td>FOND DU LAC</td>\n",
       "      <td>WI</td>\n",
       "      <td>54935</td>\n",
       "      <td>(414)929-2300</td>\n",
       "      <td>AD/DT/RR/AM/Y/CU/IV/EA/DW/TX/</td>\n",
       "      <td>2644WI54935</td>\n",
       "    </tr>\n",
       "    <tr>\n",
       "      <th>10214</th>\n",
       "      <td>HOPE HAVEN INC</td>\n",
       "      <td>NORTH BAY LODGE</td>\n",
       "      <td>NaN</td>\n",
       "      <td>3602 MEMORIAL DRIVE</td>\n",
       "      <td>NaN</td>\n",
       "      <td>NaN</td>\n",
       "      <td>MADISON</td>\n",
       "      <td>WI</td>\n",
       "      <td>53704</td>\n",
       "      <td>(608)249-2600</td>\n",
       "      <td>AL/RR/TX/</td>\n",
       "      <td>9329WI53704</td>\n",
       "    </tr>\n",
       "    <tr>\n",
       "      <th>10303</th>\n",
       "      <td>CLARK COUNTY COMMUNITY SERVICES</td>\n",
       "      <td>NaN</td>\n",
       "      <td>NaN</td>\n",
       "      <td>517 COURT STREET</td>\n",
       "      <td>NaN</td>\n",
       "      <td>NaN</td>\n",
       "      <td>NEILLSVILLE</td>\n",
       "      <td>WI</td>\n",
       "      <td>54456</td>\n",
       "      <td>(715)743-3241</td>\n",
       "      <td>AD/DT/AM/W/Y/DW/TX/CI/PV/</td>\n",
       "      <td>3281WI54456</td>\n",
       "    </tr>\n",
       "    <tr>\n",
       "      <th>10341</th>\n",
       "      <td>KINNIC FALLS</td>\n",
       "      <td>ALCOHOL AND DRUG ABUSE SERVICES</td>\n",
       "      <td>NaN</td>\n",
       "      <td>900 SOUTH ORANGE STREET</td>\n",
       "      <td>NaN</td>\n",
       "      <td>NaN</td>\n",
       "      <td>RIVER FALLS</td>\n",
       "      <td>WI</td>\n",
       "      <td>54022</td>\n",
       "      <td>(715)426-5950</td>\n",
       "      <td>AD/RR/TX/</td>\n",
       "      <td>9712WI54022</td>\n",
       "    </tr>\n",
       "    <tr>\n",
       "      <th>10424</th>\n",
       "      <td>FREMONT COUNSELING SERVICE</td>\n",
       "      <td>NaN</td>\n",
       "      <td>NaN</td>\n",
       "      <td>748 MAIN STREET</td>\n",
       "      <td>NaN</td>\n",
       "      <td>NaN</td>\n",
       "      <td>LANDER</td>\n",
       "      <td>WY</td>\n",
       "      <td>82520</td>\n",
       "      <td>(307)332-2231</td>\n",
       "      <td>AD/AM/AI/IV/DW/TX/CI/PV/</td>\n",
       "      <td>1112WY82520</td>\n",
       "    </tr>\n",
       "  </tbody>\n",
       "</table>\n",
       "<p>201 rows × 12 columns</p>\n",
       "</div>"
      ],
      "text/plain": [
       "                                 Name1                            Name2 Name3  \\\n",
       "13                FELLOWSHIP HOUSE INC                              NaN   NaN   \n",
       "24                      LIGHTHOUSE INC                              NaN   NaN   \n",
       "65     VETERANS AFFAIRS MEDICAL CENTER        ADDICTIONS TREATMENT UNIT   NaN   \n",
       "307                    CHANGING ECHOES                              NaN   NaN   \n",
       "310                      REACH PROJECT                              NaN   NaN   \n",
       "...                                ...                              ...   ...   \n",
       "10149             SAINT AGNES HOSPITAL      ALCOHOL REHABILITATION UNIT   NaN   \n",
       "10214                   HOPE HAVEN INC                  NORTH BAY LODGE   NaN   \n",
       "10303  CLARK COUNTY COMMUNITY SERVICES                              NaN   NaN   \n",
       "10341                     KINNIC FALLS  ALCOHOL AND DRUG ABUSE SERVICES   NaN   \n",
       "10424       FREMONT COUNSELING SERVICE                              NaN   NaN   \n",
       "\n",
       "                       Address1 Address2 Address3         City State  \\\n",
       "13       1625 12TH AVENUE SOUTH      NaN      NaN   BIRMINGHAM    AL   \n",
       "24          925 CONVENT ROAD NE      NaN      NaN      CULLMAN    AL   \n",
       "65          3701 LOOP ROAD EAST      NaN      NaN   TUSCALOOSA    AL   \n",
       "307      7632 POOL STATION ROAD      NaN      NaN  ANGELS CAMP    CA   \n",
       "310               1915 D STREET      NaN      NaN      ANTIOCH    CA   \n",
       "...                         ...      ...      ...          ...   ...   \n",
       "10149  430 EAST DIVISION STREET      NaN      NaN  FOND DU LAC    WI   \n",
       "10214       3602 MEMORIAL DRIVE      NaN      NaN      MADISON    WI   \n",
       "10303          517 COURT STREET      NaN      NaN  NEILLSVILLE    WI   \n",
       "10341   900 SOUTH ORANGE STREET      NaN      NaN  RIVER FALLS    WI   \n",
       "10424           748 MAIN STREET      NaN      NaN       LANDER    WY   \n",
       "\n",
       "       ZIP_Code               Contact                                 Keys  \\\n",
       "13        35205         (205)933-2430     AD/RR/AM/W/Y/A/B/HV/PI/CU/IV/TX/   \n",
       "24        35055         (205)739-2777                            AD/RR/TX/   \n",
       "65        35404  (205)553-3760TEX2690  AD/OT/RR/W/Y/A/B/HV/CU/IV/EA/TX/PV/   \n",
       "307       95222         (209)785-3666               AD/RR/W/B/PI/CU/EA/TX/   \n",
       "310       94509         (415)754-3673    DA/AM/W/Y/H/PI/CU/PG/EA/TX/CI/PV/   \n",
       "...         ...                   ...                                  ...   \n",
       "10149     54935         (414)929-2300        AD/DT/RR/AM/Y/CU/IV/EA/DW/TX/   \n",
       "10214     53704         (608)249-2600                            AL/RR/TX/   \n",
       "10303     54456         (715)743-3241            AD/DT/AM/W/Y/DW/TX/CI/PV/   \n",
       "10341     54022         (715)426-5950                            AD/RR/TX/   \n",
       "10424     82520         (307)332-2231             AD/AM/AI/IV/DW/TX/CI/PV/   \n",
       "\n",
       "                ID  \n",
       "13     1901AL35205  \n",
       "24     1631AL35055  \n",
       "65     3248AL35404  \n",
       "307    8192CA95222  \n",
       "310    6414CA94509  \n",
       "...            ...  \n",
       "10149  2644WI54935  \n",
       "10214  9329WI53704  \n",
       "10303  3281WI54456  \n",
       "10341  9712WI54022  \n",
       "10424  1112WY82520  \n",
       "\n",
       "[201 rows x 12 columns]"
      ]
     },
     "execution_count": 9,
     "metadata": {},
     "output_type": "execute_result"
    }
   ],
   "source": [
    "df90[df90['ID'].isin(set(df17['ID']))]"
   ]
  },
  {
   "cell_type": "code",
   "execution_count": null,
   "metadata": {},
   "outputs": [],
   "source": []
  }
 ],
 "metadata": {
  "kernelspec": {
   "display_name": "Python 3",
   "language": "python",
   "name": "python3"
  },
  "language_info": {
   "codemirror_mode": {
    "name": "ipython",
    "version": 3
   },
   "file_extension": ".py",
   "mimetype": "text/x-python",
   "name": "python",
   "nbconvert_exporter": "python",
   "pygments_lexer": "ipython3",
   "version": "3.7.7"
  }
 },
 "nbformat": 4,
 "nbformat_minor": 4
}
