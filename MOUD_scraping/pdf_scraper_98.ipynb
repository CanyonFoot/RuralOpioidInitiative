{
 "cells": [
  {
   "cell_type": "markdown",
   "metadata": {},
   "source": [
    "#### Imports"
   ]
  },
  {
   "cell_type": "code",
   "execution_count": 542,
   "metadata": {},
   "outputs": [],
   "source": [
    "import PyPDF2\n",
    "import csv\n",
    "import re\n",
    "import json\n",
    "import os\n",
    "import us\n",
    "import numpy as np"
   ]
  },
  {
   "cell_type": "markdown",
   "metadata": {},
   "source": [
    "#### Scrape key to facility codes\n",
    "- Very inclusive info about keys, many things not keys included"
   ]
  },
  {
   "cell_type": "code",
   "execution_count": 3,
   "metadata": {},
   "outputs": [
    {
     "name": "stdout",
     "output_type": "stream",
     "text": [
      "Number of pages: 568\n"
     ]
    }
   ],
   "source": [
    "year = 1998\n",
    "\n",
    "pdfFileObj = open('{0}/directory_{0}.pdf'.format(year), 'rb')\n",
    "pdfReader = PyPDF2.PdfFileReader(pdfFileObj)\n",
    "print(\"Number of pages:\", pdfReader.numPages)"
   ]
  },
  {
   "cell_type": "code",
   "execution_count": 582,
   "metadata": {},
   "outputs": [],
   "source": [
    "abbr_keys = [\"TX\", \"ML\", \"PV\", \"OS\", \"DT\",\\\n",
    "             \"OD\", \"OR\", \"IO\", \"ID\", \"IR\", \"RD\", \"RR\",\\\n",
    "             \"AD\", \"DD\", \"HV\", \"PW\",\\\n",
    "             \"SS\", \"GH\", \"PH\", \"OH\", \"TC\", \"HH\", \"CM\", \"CH\", \\\n",
    "             \"CO\", \"SG\", \"SC\", \"CJ\",\\\n",
    "             \"MC\", \"MD\", \"FG\", \"PI\"]"
   ]
  },
  {
   "cell_type": "markdown",
   "metadata": {},
   "source": [
    "#### List of States in the U.S."
   ]
  },
  {
   "cell_type": "code",
   "execution_count": 476,
   "metadata": {},
   "outputs": [],
   "source": [
    "states = \"Alabama,\\\n",
    "Alaska,\\\n",
    "Arizona,\\\n",
    "Arkansas,\\\n",
    "California,\\\n",
    "Colorado,\\\n",
    "Connecticut,\\\n",
    "Delaware,\\\n",
    "Florida,\\\n",
    "Georgia,\\\n",
    "Hawaii,\\\n",
    "Idaho,\\\n",
    "Illinois,\\\n",
    "Indiana,\\\n",
    "Iowa,\\\n",
    "Kansas,\\\n",
    "Kentucky,\\\n",
    "Louisiana,\\\n",
    "Maine,\\\n",
    "Maryland,\\\n",
    "Massachusetts,\\\n",
    "Michigan,\\\n",
    "Minnesota,\\\n",
    "Mississippi,\\\n",
    "Missouri,\\\n",
    "Montana,\\\n",
    "Nebraska,\\\n",
    "Nevada,\\\n",
    "New Hampshire,\\\n",
    "New Jersey,\\\n",
    "New Mexico,\\\n",
    "New York,\\\n",
    "North Carolina,\\\n",
    "North Dakota,\\\n",
    "Ohio,\\\n",
    "Oklahoma,\\\n",
    "Oregon,\\\n",
    "Pennsylvania,\\\n",
    "Rhode Island,\\\n",
    "South Carolina,\\\n",
    "South Dakota,\\\n",
    "Tennessee,\\\n",
    "Texas,\\\n",
    "Utah,\\\n",
    "Vermont,\\\n",
    "Virginia,\\\n",
    "Washington,\\\n",
    "West Virginia,\\\n",
    "Wisconsin,\\\n",
    "Wyoming\""
   ]
  },
  {
   "cell_type": "code",
   "execution_count": 477,
   "metadata": {},
   "outputs": [],
   "source": [
    "states = states.split(\",\")"
   ]
  },
  {
   "cell_type": "code",
   "execution_count": 478,
   "metadata": {},
   "outputs": [
    {
     "data": {
      "text/plain": [
       "['Alabama',\n",
       " 'Alaska',\n",
       " 'Arizona',\n",
       " 'Arkansas',\n",
       " 'California',\n",
       " 'Colorado',\n",
       " 'Connecticut',\n",
       " 'Delaware',\n",
       " 'Florida',\n",
       " 'Georgia',\n",
       " 'Hawaii',\n",
       " 'Idaho',\n",
       " 'Illinois',\n",
       " 'Indiana',\n",
       " 'Iowa',\n",
       " 'Kansas',\n",
       " 'Kentucky',\n",
       " 'Louisiana',\n",
       " 'Maine',\n",
       " 'Maryland',\n",
       " 'Massachusetts',\n",
       " 'Michigan',\n",
       " 'Minnesota',\n",
       " 'Mississippi',\n",
       " 'Missouri',\n",
       " 'Montana',\n",
       " 'Nebraska',\n",
       " 'Nevada',\n",
       " 'New Hampshire',\n",
       " 'New Jersey',\n",
       " 'New Mexico',\n",
       " 'New York',\n",
       " 'North Carolina',\n",
       " 'North Dakota',\n",
       " 'Ohio',\n",
       " 'Oklahoma',\n",
       " 'Oregon',\n",
       " 'Pennsylvania',\n",
       " 'Rhode Island',\n",
       " 'South Carolina',\n",
       " 'South Dakota',\n",
       " 'Tennessee',\n",
       " 'Texas',\n",
       " 'Utah',\n",
       " 'Vermont',\n",
       " 'Virginia',\n",
       " 'Washington',\n",
       " 'West Virginia',\n",
       " 'Wisconsin',\n",
       " 'Wyoming']"
      ]
     },
     "execution_count": 478,
     "metadata": {},
     "output_type": "execute_result"
    }
   ],
   "source": [
    "states"
   ]
  },
  {
   "cell_type": "markdown",
   "metadata": {},
   "source": [
    "#### Test on a page of data\n",
    "- data starts on page 12 (getPage(11))\n",
    "- split to each city, then split into data centers, clean city name and keys!"
   ]
  },
  {
   "cell_type": "markdown",
   "metadata": {},
   "source": [
    "- Function to match city names"
   ]
  },
  {
   "cell_type": "code",
   "execution_count": 888,
   "metadata": {},
   "outputs": [],
   "source": [
    "def fuzzy_search(search_key, text):\n",
    "    #print(\"Searching {}...\".format(search_key))\n",
    "    #print(\"in\", text)\n",
    "    l = len(search_key)\n",
    "    search_key = search_key.lower()\n",
    "    strictness = int(l/4) + 1\n",
    "    for pos in re.finditer(r\"[\\.,]\", text):\n",
    "        word_to_test = text[pos.start() - l: pos.start()].lower()\n",
    "        i = 0\n",
    "        diff = 0\n",
    "        while i < l:\n",
    "            if word_to_test[i] != search_key[i]:\n",
    "                diff += 1\n",
    "            i += 1\n",
    "        if diff < strictness:\n",
    "            return (pos.start() - l, pos.start())      "
   ]
  },
  {
   "cell_type": "code",
   "execution_count": 889,
   "metadata": {},
   "outputs": [
    {
     "data": {
      "text/plain": [
       "(27, 36)"
      ]
     },
     "execution_count": 889,
     "metadata": {},
     "output_type": "execute_result"
    }
   ],
   "source": [
    "#test\n",
    "text = \"DemopolisWestAl.abamaMentalDcmopolis.AL36732\"\n",
    "fuzzy_search(\"DEMOPOLIS\", text)"
   ]
  },
  {
   "cell_type": "markdown",
   "metadata": {},
   "source": [
    "- Fucntion to split words"
   ]
  },
  {
   "cell_type": "code",
   "execution_count": 985,
   "metadata": {},
   "outputs": [],
   "source": [
    "def split_cap_words(string):\n",
    "    string = re.sub(r\"([A-z()])([A-Z0-9])([a-z0-9])\", r\"\\1 \\2\\3\", string)\n",
    "    string = re.sub(r\"([0-9])([A-Za])\", r\"\\1 \\2\", string) #keep 1st, 2nd, 3rd, 4th\n",
    "    string = re.sub(r\"([A-z])([0-9])\", r\"\\1 \\2\", string)\n",
    "    string = re.sub(r\"([A-z])(of)( )\", r\"\\1 \\2\\3\", string)\n",
    "    return  string#(\\w)([A-Z])([a-z])"
   ]
  },
  {
   "cell_type": "code",
   "execution_count": 986,
   "metadata": {},
   "outputs": [
    {
     "data": {
      "text/plain": [
       "'Ltghthouse of Tallapoosa County Inc'"
      ]
     },
     "execution_count": 986,
     "metadata": {},
     "output_type": "execute_result"
    }
   ],
   "source": [
    "#test\n",
    "split_cap_words(\"Ltghthouseof Tallapoosa County Inc\")"
   ]
  },
  {
   "cell_type": "code",
   "execution_count": 987,
   "metadata": {},
   "outputs": [
    {
     "data": {
      "text/plain": [
       "'17136th Avenue South'"
      ]
     },
     "execution_count": 987,
     "metadata": {},
     "output_type": "execute_result"
    }
   ],
   "source": [
    "split_cap_words(\"17136thAvenueSouth\")"
   ]
  },
  {
   "cell_type": "code",
   "execution_count": 988,
   "metadata": {},
   "outputs": [
    {
     "data": {
      "text/plain": [
       "'17132nd Avenue South'"
      ]
     },
     "execution_count": 988,
     "metadata": {},
     "output_type": "execute_result"
    }
   ],
   "source": [
    "split_cap_words(\"17132ndAvenueSouth\")"
   ]
  },
  {
   "cell_type": "code",
   "execution_count": 989,
   "metadata": {},
   "outputs": [
    {
     "data": {
      "text/plain": [
       "'PGBHA Pinal County Hispanic Council 712 North Main Street'"
      ]
     },
     "execution_count": 989,
     "metadata": {},
     "output_type": "execute_result"
    }
   ],
   "source": [
    "split_cap_words(\"PGBHAPinalCountyHispanicCouncil712NorthMainStreet\")"
   ]
  },
  {
   "cell_type": "code",
   "execution_count": 990,
   "metadata": {},
   "outputs": [
    {
     "data": {
      "text/plain": [
       "'Community Care Network(CCN) Jewish Familyand Childrens Services 6376 West Bell Road'"
      ]
     },
     "execution_count": 990,
     "metadata": {},
     "output_type": "execute_result"
    }
   ],
   "source": [
    "split_cap_words(\"CommunityCareNetwork(CCN)JewishFamilyandChildrensServices6376WestBellRoad\")"
   ]
  },
  {
   "cell_type": "code",
   "execution_count": 991,
   "metadata": {},
   "outputs": [
    {
     "data": {
      "text/plain": [
       "'Mohave Mental Health Clinic Outpatientand Day Treatment 2135 Highway 9 S Suites 125 and 241'"
      ]
     },
     "execution_count": 991,
     "metadata": {},
     "output_type": "execute_result"
    }
   ],
   "source": [
    "split_cap_words(\"MohaveMentalHealthClinicOutpatientandDayTreatment2135Highway9SSuites125and241\")"
   ]
  },
  {
   "cell_type": "code",
   "execution_count": 992,
   "metadata": {},
   "outputs": [
    {
     "data": {
      "text/plain": [
       "'564 North Idaho Road Suite 9'"
      ]
     },
     "execution_count": 992,
     "metadata": {},
     "output_type": "execute_result"
    }
   ],
   "source": [
    "split_cap_words(\"564NorthIdahoRoadSuite9\")"
   ]
  },
  {
   "cell_type": "markdown",
   "metadata": {},
   "source": [
    "- Split data into a list containing a list of facilities in that city"
   ]
  },
  {
   "cell_type": "code",
   "execution_count": 1028,
   "metadata": {},
   "outputs": [],
   "source": [
    "def split_data(rawdata, firstcity):\n",
    "    '''\n",
    "    Roughly split data into each facility, returns list of list.\n",
    "    '''\n",
    "    \n",
    "    data = []\n",
    "    city = firstcity\n",
    "    \n",
    "    while len(rawdata) > 50:\n",
    "        temp_city = []\n",
    "        m = 1\n",
    "        \n",
    "        if rawdata[:3].isupper(): #find city name and delete from rawdata\n",
    "            #find the capitalized string\n",
    "            m = re.search(\"[A-Z]+\", rawdata).end()\n",
    "            city = rawdata[:m - 1]\n",
    "            #print(\"Trying to find city...\", city)\n",
    "            #clean state name from the city name if present\n",
    "            for state in states:\n",
    "                if state.lower() in city.lower():\n",
    "                    city = city[len(state):]\n",
    "                    rawdata = rawdata[len(state):]\n",
    "                    m = m - len(state)\n",
    "            #identify city name\n",
    "            if fuzzy_search(city, rawdata[m - 1:]) == None:\n",
    "                i = 2\n",
    "                while (i < m) and (fuzzy_search(rawdata[:i], rawdata[i:]) == None):\n",
    "                    i += 1\n",
    "                m = i + 1\n",
    "                city = rawdata[:i]\n",
    "                \n",
    "        rawdata = rawdata[m - 1:]\n",
    "        a, b = fuzzy_search(city, rawdata)\n",
    "        state_clean = split_cap_words(rawdata[a:b])\n",
    "        temp_city.append(state_clean)\n",
    "        #while there is more facilities in this city (still can find city name in the string)\n",
    "        while fuzzy_search(city, rawdata) != None:\n",
    "            temp_facil = []\n",
    "            a, b = fuzzy_search(city, rawdata)\n",
    "            m = re.search(\"[A-Z]{2}[A-Z/][A-Z/]\", rawdata[b:]).start() #start of the keys\n",
    "            temp_facil.append(rawdata[:b+m])\n",
    "            rawdata = rawdata[b+m:]\n",
    "            temp_facil.append('')\n",
    "            j = 0\n",
    "            #append keys to the dataframe\n",
    "            while (rawdata[j:j+2].replace(\"1\", \"I\").replace(\"l\", \"I\").replace(\"0\", \"O\").replace(\"5\", \"S\")\\\n",
    "                   .replace(\"i\", \"I\") in abbr_keys) and (rawdata[j+2].replace(\"1\", \"I\").replace(\"l\", \"I\")\\\n",
    "            .replace(\"0\", \"O\").replace(\"5\", \"S\").replace(\"i\", \"I\").isupper() or rawdata[j+2] == '/'):\n",
    "                temp_facil[-1] += ' ' + \\\n",
    "                rawdata[j:j+2].replace(\"1\", \"I\").replace(\"l\", \"I\").replace(\"0\", \"O\").replace(\"5\", \"S\")\n",
    "                if rawdata[j+2] == \"/\" or rawdata[j+2] == \"J\": #\"/\" is sometimes recognized as \"J\"\n",
    "                    j += 3\n",
    "                else:\n",
    "                    j += 2\n",
    "                    \n",
    "            rawdata = rawdata[j:]\n",
    "            temp_facil[-1] = temp_facil[-1].strip()\n",
    "            temp_city.append(temp_facil)\n",
    "            #print(temp_facil)#####\n",
    "        data.append(temp_city)\n",
    "        i = 0\n",
    "    \n",
    "    while i < len(data):\n",
    "        city = data[i]\n",
    "        if not city[0][0].isupper():\n",
    "            init = data[i - 1][-1][-1][-2:].capitalize()\n",
    "            data[i - 1][-1][-1] = data[i - 1][-1][-1][:-3]\n",
    "            data[i][0] = init + data[i][0]\n",
    "        i += 1\n",
    "    return data"
   ]
  },
  {
   "cell_type": "code",
   "execution_count": 1022,
   "metadata": {},
   "outputs": [],
   "source": [
    "def split_center_street(cn_sa):\n",
    "    '''\n",
    "    Split a string containing center name and street address into two.\n",
    "    Inputs:\n",
    "        cn_sa(str)\n",
    "    Returns: a list of two terms\n",
    "    '''\n",
    "    \n",
    "    m = re.finditer(r\"\\d+\", cn_sa)\n",
    "    try:\n",
    "        probe = next(m)\n",
    "        span = probe.span()\n",
    "        if span[1] == len(cn_sa):\n",
    "            cn_sa = split_cap_words(cn_sa).split()\n",
    "            return[' '.join(cn_sa[:-2]), ' '.join(cn_sa[-2:])]\n",
    "        elif span[0] != 0:\n",
    "            return ([split_cap_words(cn_sa[:span[0]]), split_cap_words(cn_sa[span[0]:])])\n",
    "    except StopIteration:\n",
    "        if cn_sa[-4:] == \"Road\":\n",
    "            cn_sa = split_cap_words(cn_sa).split()\n",
    "            return[' '.join(cn_sa[:-2]), ' '.join(cn_sa[-2:])]\n",
    "    return [split_cap_words(cn_sa), '']\n",
    "\n",
    "\n",
    "def split_address(csp):\n",
    "    '''\n",
    "    Split a string containing city, state and postal code.\n",
    "    Inputs:\n",
    "        csp(str): a string containing city, state and postal code\n",
    "    Returns: a list of three items\n",
    "    '''\n",
    "    PASS"
   ]
  },
  {
   "cell_type": "code",
   "execution_count": 924,
   "metadata": {},
   "outputs": [
    {
     "data": {
      "text/plain": [
       "['SMMHC Inc Mental Health Ctr/Subst Abuse Services',\n",
       " '564 North Idaho Road Suite 9']"
      ]
     },
     "execution_count": 924,
     "metadata": {},
     "output_type": "execute_result"
    }
   ],
   "source": [
    "cn_sa = \"SMMHCIncMentalHealthCtr/SubstAbuseServices564NorthIdahoRoadSuite9\"\n",
    "split_center_street(cn_sa)"
   ]
  },
  {
   "cell_type": "code",
   "execution_count": 925,
   "metadata": {},
   "outputs": [
    {
     "data": {
      "text/plain": [
       "['Fort McDowell Indian Community Familyand Community Services', 'Yavapai Road']"
      ]
     },
     "execution_count": 925,
     "metadata": {},
     "output_type": "execute_result"
    }
   ],
   "source": [
    "cn_sa = \"FortMcDowellIndianCommunityFamilyandCommunityServicesYavapaiRoad\"\n",
    "split_center_street(cn_sa)"
   ]
  },
  {
   "cell_type": "code",
   "execution_count": 926,
   "metadata": {},
   "outputs": [
    {
     "data": {
      "text/plain": [
       "['Ventress Correctional Facility Substance Abuse Services State', 'Road 239']"
      ]
     },
     "execution_count": 926,
     "metadata": {},
     "output_type": "execute_result"
    }
   ],
   "source": [
    "cn_sa = \"VentressCorrectionalFacilitySubstanceAbuseServicesStateRoad239\"\n",
    "split_center_street(cn_sa)"
   ]
  },
  {
   "cell_type": "code",
   "execution_count": 927,
   "metadata": {},
   "outputs": [],
   "source": [
    "def write_data(writer, data, year, pagen):\n",
    "    '''\n",
    "    Write data to csv\n",
    "    '''\n",
    "    for city in data:\n",
    "        cityname = city[0]\n",
    "        lencn = len(cityname.replace(' ', ''))\n",
    "        for facil in city[1:]:\n",
    "            data_holder = [year, pagen]\n",
    "            keys = facil[1]\n",
    "            facil = facil[0]\n",
    "            #Center name\n",
    "            if \",\" in facil:\n",
    "                center_name_city, address = facil.split(\",\")\n",
    "            else:\n",
    "                center_name_city, address = facil.split(\".\")\n",
    "            #City\n",
    "            data_holder += split_center_street(center_name_city[:-lencn])\n",
    "            #State\n",
    "            data_holder.append(cityname)\n",
    "            data_holder.append(address[:2])\n",
    "            #Postal code, Phone\n",
    "            if address[7] == \"-\":\n",
    "                data_holder.append(address[2:12].replace(\"O\", \"0\").replace(\"S\", \"5\"))\n",
    "                data_holder.append(address[12:].replace(\"O\", \"0\").replace(\"S\", \"5\"))\n",
    "            else:\n",
    "                data_holder.append(address[2:7].replace(\"O\", \"0\").replace(\"S\", \"5\"))\n",
    "                data_holder.append(address[7:].replace(\"O\", \"0\").replace(\"S\", \"5\"))\n",
    "            #Keys\n",
    "            data_holder.append(keys)\n",
    "            print(data_holder)\n",
    "            writer.writerow(data_holder)\n",
    "    return data_holder[4]"
   ]
  },
  {
   "cell_type": "code",
   "execution_count": 928,
   "metadata": {},
   "outputs": [],
   "source": [
    "def run(year, start_page, end_page = 0):\n",
    "\n",
    "    #read file\n",
    "    dir_filename = '{0}/directory_{0}.pdf'.format(year)\n",
    "    pdfFileObj = open(dir_filename, 'rb')\n",
    "    pdfReader = PyPDF2.PdfFileReader(pdfFileObj)\n",
    "    \n",
    "    #pages to scrape\n",
    "    if end_page == 0:\n",
    "        end_page = pdfReader.numPages - 1\n",
    "\n",
    "    save_as_filename = '{0}/{0}.csv'.format(year)\n",
    "    if os.path.isfile(save_as_filename):\n",
    "        with open(save_as_filename, 'a', newline='') as file:\n",
    "            writer = csv.writer(file)\n",
    "    else:\n",
    "        with open(save_as_filename, 'w', newline='') as file:\n",
    "            writer = csv.writer(file)\n",
    "            writer.writerow([\"Year\", \"Page\", \"Center_name\", \"Street_address\", \"City\", \\\n",
    "                             \"State\", \"Postal_code\", \"Phone\", \"Keys\"])\n",
    "    #scrape\n",
    "    firstcity = \"Alexandar City\"\n",
    "    for pagen in range(start_page, end_page + 1):\n",
    "        #print(pagen)\n",
    "        rawdata = pdfReader.getPage(pagen - 1).extractText()\n",
    "        \n",
    "        data = split_data(rawdata, firstcity)\n",
    "        \n",
    "        with open(save_as_filename, 'a', newline='') as file:\n",
    "            writer = csv.writer(file)\n",
    "            firstcity = write_data(writer, data, year, pagen)"
   ]
  },
  {
   "cell_type": "code",
   "execution_count": 1013,
   "metadata": {
    "scrolled": true
   },
   "outputs": [
    {
     "name": "stdout",
     "output_type": "stream",
     "text": [
      "[1998, 15, 'Akeela Treatment Services', '2805 Bering Street Suite 4', 'Anchorage', 'AK', '99503', '(907)561-5266', 'TX PV OS OR RR SS TC SC CJ MD']\n",
      "[1998, 15, 'Alaska Human Services Inc Outpt Alc/Subst Abuse Treatment Prog', '4050 Lake Otis Parkway Suite 111', 'Anchorage', 'AK', '99508', '(907)561-4535', 'TX OS OR IO SS PI']\n",
      "[1998, 15, 'Alaska North Addictions Recovery Ctr', '4330 Bragaw Street', 'Anchorage', 'AK', '99508', '(907)561-5537', 'TX PV OS OR IO RR SS MD FG PI']\n",
      "[1998, 15, 'Booth Memorial Youthand Family Servs', '3600 East 20th Avenue', 'Anchorage', 'AK', '99508', '(907)279-0522', 'TX PV OS OR IO AD DD PW SS MD']\n",
      "[1998, 15, 'Charter North Behavioral Health System', '2530 Debarr Road', 'Anchorage', 'AK', '99508', '(907)258-7575Hotlines:(907)258-7575(800)478-7575', 'TX PV OS DT ID IR AD PH']\n",
      "[1998, 15, 'Genesis House Inc', '2825 West 42nd Place', 'Anchorage', 'AK', '99517', '(907)243-5130', 'TX PV OS DT OR IO RD RR DD SS CM FG PI']\n",
      "[1998, 15, 'Narcotic Drug Treatment Center Inc Centerfor Drug Problems', '520 East 4th Avenue Suite 102', 'Anchorage', 'AK', '99501-2624', '(907)276-6430', 'TX ML PV OS DT OD OR HV SS MD PI']\n",
      "[1998, 15, 'Pacific Rim Counseling Inc', '4141 B Street Suite 210', 'Anchorage', 'AK', '99503', '(907)561-5252', 'TX PV OS OR IO AD DD SS SG CJ PI']\n",
      "[1998, 15, 'Providence Alaska Medical Center Providence Breakthrough', '2401 East 42nd Avenue Suite 103', 'Anchorage', 'AK', '99508', '(907)562-7325', 'TX OS OR IO AD DD SS MC PI']\n",
      "[1998, 15, 'RITE Inc', '301 East Fireweed Lane Suite 102', 'Anchorage', 'AK', '99503-2110', '(907)562-7483', 'TX PV OS OR IO AD SS PI']\n",
      "[1998, 15, 'Salvation Army Clitheroe Center', '1709 South Bragaw Street Point Woronzof/West End Road SuiteB', 'Anchorage', 'AK', '99508', '(907)276-2898', 'TX OS DT OR IO RD RR DD PW SS MD FG PI']\n",
      "[1998, 15, 'Southcentral Foundation DenaA Coy', '3916 East 9th Avenue', 'Anchorage', 'AK', '99508', '(907)333-6677', 'TX PV OS OR RR DD PW SS MD FG']\n",
      "[1998, 15, 'Veterans AffairsandROC AnchorageAK Addictions Treatment Program', '292 S Debarr Road Suite 116', 'Anchorage', 'AK', '99508', '(907)257-4854', 'TX PV OS DT OD OR IO DD SS FG']\n",
      "[1998, 15, 'Volunteers of AmericaARCH/ASSIST', '441 West 5th Avenue Suite 301', 'Anchorage', 'AK', '99501-2340', '(907)279-9634', 'TX PV OS OR IO RR AD SS MD FG PI']\n",
      "[1998, 15, 'Kuskokwim Native Association Community Counseling ProgramP.O.BoxI', 'S 5', 'Aniak', 'AK', '99557', '(907)675-4445Hotline:(800)478-5622', 'TX PV OS OR CM']\n",
      "[1998, 15, 'North Slope Borough Health Substance Abuse Treatment Servs', '579 Kingosak Street', 'Barrow', 'AK', '99723', '(907)852-0274Hotlines:(907)852-0274(907)852-0275', 'TX PV OS DT OD OR RD RR AD SS TC FG']\n",
      "[1998, 15, 'Copper River Community Mental Hlth Ctr Substance Abuse Services Mile', '104 Old Richardson Highway', 'Copper Center', 'AK', '99573', '(907)822-5241', 'TX PV OS OR IO DD CM MD FG CO']\n",
      "[1998, 15, 'Sound Alternatives Cordova Community Medical Center', '602 Chase Avenue Co', 'Rdova', 'AK', '99574', '(907)424-8300', 'TX PV OS OR AD DD HV CM MC MD PI']\n",
      "[1998, 15, 'Bristol Bay Area Health Corp Alcoholismand Drug Abuse Program', '', 'Dillingham', 'AK', '99576', '(907)842-5266', 'TX PV OS DT OR IO RD RR AD DD PW SS MD PI']\n",
      "[1998, 15, 'Aleutian Counseling Center', '', 'Dutch Harbor', 'AK', '99692', '(907)581-2742', 'TX PV OS OR AD SS FG']\n",
      "[1998, 15, 'Volunteers of America of AlaskaARCHH', 'C 85', 'Eagle River', 'AK', '99577', '(907)694-3336', 'TX RR AD DD SS']\n",
      "[1998, 16, 'Eielson Air Force Base Substance Abuse Program', '354 MDOS/SGOM H 3349 Central Avenue SuiteI', 'EielsonAFB', 'AK', '99702-2325', '(D5N)377-1962', 'PV OS DT OD DD SS GH FG']\n",
      "[1998, 16, 'ElmendorfAFB Substance Abuse Office', '3 MDOS/SGOM H 24800 Hospital Drive', 'ElmendorfAFB', 'AK', '99506', '(907)552-8354', 'TX PV OS DT OD OR IO DD PW SS GH CM FG']\n",
      "[1998, 16, 'Fairbanks Memorial Hospital Family Recovery Center', '1650 Cowles Street', 'Fairbanks', 'AK', '99701', '(907)458-5540', 'TX OR IO SS GH PI']\n",
      "[1998, 16, 'Graf Rheeneenhaanjii Substance Abuse Services', '2550 Lawlor Road', 'Fairbanks', 'AK', '99701', '(907)455-4725', 'TX OS RD RR AD SS OH MD FG']\n",
      "[1998, 16, 'Regional Centerfor Alcoholand Other Addictions', '3100 South Cushman Street', 'Fairbanks', 'AK', '99707', '(907)452-6251', 'TX PV OS DT OR IO RD RR AD DD SS HH FG TC']\n",
      "[1998, 16, 'C Regional Prevention Program', '122 First Avenue', 'Fairbanks', 'AK', '99701', '(907)452-8251', 'TX PV OS RR SS TC FG']\n",
      "[1998, 16, 'Tanana Chiefs Conference Inc Old Minto Family Recovery Camp', '1221st Avenue Suite 600', 'Fairbanks', 'AK', '99707', '(907)452-8251x3158', 'TX PV OS RR SS FG']\n",
      "[1998, 16, 'Tanana Chiefs Conference Inc Yukon Tanana Counseling Services', '130221st Avenue', 'Fairbanks', 'AK', '99701', '(907)459-3930', 'TX PV OS OR CM FG']\n",
      "[1998, 16, 'Community Counseling Center', '600 Richardson Drive', 'Fort Richardson', 'AK', '99505', '(907)384-1416', 'TX PV OS OR SS FG']\n",
      "[1998, 16, 'Fort Wainwright Alcoholand Drug Abuse Prev Control Prog(ADAPCP)', '1060 Gaffney Road Suite 6600 MCUC/CCC Building 1064', 'Fort Wainwright', 'AK', '99703-6600', '(907)353-1370', 'TX PV OS DT OD OR IO SS FG']\n",
      "[1998, 16, 'Railbelt Mental Healthand Addicton Dry Creekand Coal Street', '', 'Healy', 'AK', '99743', '(907)832-5557', 'TX PV OS OR IO AD DD SS CM']\n",
      "[1998, 16, 'Gastineau Human Services', '5597 Aisek Stree', 'Piuneau', 'AK', '99801', '(907)780-4338', 'TX OS OR RR DD SS']\n",
      "[1998, 16, 'Tongass Community Counseling Center', '222 Seward Street Suite 20', 'Piuneau', 'AK', '99801', '(907)586-3585', 'TX PV OS OR AD CO PI']\n",
      "[1998, 16, 'Cook Inlet Councilon Alcoholand Drug Abuse(CICADA)', '10200 Kenai Spur Highway', 'Kenai', 'AK', '99611', '(907)283-3658', 'TX PV OS OR IO AD SS MD PI']\n",
      "[1998, 16, 'Kenaitze Indian Tribe Nakenu', '150 North Willow Street', 'Kenai', 'AK', '99611', '(907)283-6693x3', 'TX PV OS OR AD DD SS CM FG']\n",
      "[1998, 16, 'Gateway Centerfor Human Services Substance Abuse Services Division', '30505th Avenue', 'Ketchikan', 'AK', '99901', '(907)225-4154Hotline:(907)225-4135', 'TX PV OS OR IO AD DD SS CM MD PI']\n",
      "[1998, 16, 'Ketchikan General Hosp Recovery Center', '126 Washington Street', 'Ketchikan', 'AK', '99901', '(907)247-4330Hotline:(907)225-5171', 'TX PV OS OR IO AD SS GH']\n",
      "[1998, 16, 'Ketchikan Indian Corporation', '355 Carlanna Lake Road', 'Ketchikan', 'AK', '99901', '(907)225-4061x13', 'TX PV OS OR AD SS FG']\n",
      "[1998, 16, 'Kodiak Councilon Alcoholism Inc', '115 Mill Bay Road', 'Kodiak', 'AK', '99615', '(907)486-3535', 'TX PV OS OD OR IO RR DD HV PW SS MD']\n",
      "[1998, 16, 'Maniilaq Addictionsand Support Mantilaq Association Frank Ferguson Building DandE Wings', '', 'Kotzebue', 'AK', '99752', '(907)442-7640x139', 'TX PV OS DT OD OR IO RD RR DD SS GH TC CM PI MC']\n",
      "[1998, 16, 'Four Rivers Counseling Services McGrath/Anvik EducationandMH Assoc', '229 Joaquin Street Mc', 'Grath', 'AK', '99627', '(907)524-3781Hotline:(800)478-3781', 'TX PV OS OR IO SS CM']\n",
      "[1998, 17, 'Annette Island Service Unit Family Services', '', 'Metlakatla', 'AK', '99926', '(907)886-4325', 'TX PV OS OR IO AD SS']\n",
      "[1998, 17, 'Northern Lights Recovery Center', '5th Avenueand Division Streets Community Health Services Building', 'Nome', 'AK', '99762', '(907)443-3344', 'TX OS OR IO RR DD PW SS TC MD FG PI']\n",
      "[1998, 17, 'Changing Tides Counseling Services', '201 North Nordic Street Suites 204 and 205', 'Pctcrsburg', 'AK', '99833', '(907)772-3552', 'TX PV OS OR AD SS MD']\n",
      "[1998, 17, 'Pribil of Counseling Center', '', 'Saint Paul Island', 'AK', '99660', '(907)546-2342', 'TX PV OS OR AD SS OH']\n",
      "[1998, 17, 'Eastern Aleutian Tribes Inc Main Street', '', 'Sand Point', 'AK', '99661', '(907)383-5421Hotline:(800)478-2673', 'TX PV OS OR IO AD DD SS CM']\n",
      "[1998, 17, 'Seldovia Village Tribe/SKIAP', '274 Main Street', 'Seldovia', 'AK', '99663-0197', '(907)234-7807', 'TX PV OS OR AD SS']\n",
      "[1998, 17, 'Seward Life Action Council', '504 Adams Street', 'Seward', 'AK', '99664', '(907)224-5257Hotline:(907)224-3027', 'TX PV OS OR SS CM MD PI']\n",
      "[1998, 17, 'Ravens Way/SEARHC Adolescent Residential Treatment Prog', '222 Tongass Drive', 'Sitka', 'AK', '99835', '(907)966-8714', 'TX OS RR AD DD SS MD FG PI']\n",
      "[1998, 17, 'Sitka Preventionand Trt Services Inc Headquarters', '509 Lincoln Street', 'Sitka', 'AK', '99835', '(907)747-3500', 'TX PV OS OR IO AD SS HH']\n",
      "[1998, 17, 'Sitka Preventionand Trt Services Inc', '509 Lincoln Street', 'Sitka', 'AK', '99835', '(907)747-3500', 'TX PV OS OR IO RR AD HV PW CO MD PI']\n",
      "[1998, 17, 'SoutheastAK Regional Hlth Consortium Community Family Services Program', '222 Tongass Drive', 'Sitka', 'AK', '99835', '(907)966-8710', 'TX PV OS OR IO SS FG']\n",
      "[1998, 17, 'Upper Tanana Alcohol Program Tok Clinic Building Tok Cut-Off', '', 'Tok', 'AK', '99780', '(907)883-5185', 'TX PV OS OR IO CH']\n",
      "[1998, 17, 'Valdez Counseling Center', '337 Egan Avenue', 'Valdez', 'AK', '99686', '(907)835-2838Hotline:(907)835-2999', 'TX PV OS OR IO AD CM']\n",
      "[1998, 17, 'Alaska Addiction Rehab Services Nugens Ranch', '3701 Palmer Wasilla Street', 'Wasilla', 'AK', '99654', '(907)376-4534', 'TX OS DT RD RR DD SS TC']\n",
      "[1998, 17, 'MAT/SU Recovery Center Incorporated', '2801 Bogard Road', 'Wasilla', 'AK', '99654', '(907)376-4000Hotline:(907)376-4000', 'TX PV OS OR IO AD DD PW SS CJ MD PI']\n",
      "[1998, 17, 'Avenues', '406 Alaska Avenue', 'Wrangell', 'AK', '99929', '(907)874-3338', 'TX PV OS OR SS MD']\n",
      "[1998, 18, 'SMMHC Inc Mental Health Ctr/Subst Abuse Services', '564 North Idaho Road Suite 9', 'Apache Junction', 'AZ', '85220', '(480)983-0065', 'TX PV OS OR IO CM']\n",
      "[1998, 18, 'Southeastern Arizona Behavioral Health Services(SEABHS) Admin Unit', '590 South Ocotillo Avenue', 'Benson', 'AZ', '85602', '(520)586-7080Hotline:(800)586-9161', 'TX PV OS OR DD CM FG']\n",
      "[1998, 18, 'Mohave Mental Health Clinic Outpatientand Day Treatment', '2135 Highway 9 S Suites 125 and 241', 'Bullhead City', 'AZ', '86442', '(520)758-5905', 'TX IO AD DD SS CM']\n",
      "[1998, 18, 'Camp Verde Yavapai/Apache Alcohol/Substance Abuse Program', '', 'Camp Verde', 'AZ', '86322', '(520)567-3977', 'TX PV OS OR SS FG']\n",
      "[1998, 18, 'Verde Valley Guidance Clinic Inc', '497 Main Street Suite 4', 'Camp Verde', 'AZ', '86322', '(520)634-2236Hotline:(520)634-2236', 'TX PV OS DT OD OR IO AD DD PW CM']\n",
      "[1998, 18, 'Against Abuse Inc', '', 'Casa Grande', 'AZ', '85230-0733', '(520)836-1239', 'TX PV OS OR CM MD']\n",
      "[1998, 18, 'Behavioral Health Agency of Central Arizona', '120 West Main Street', 'Casa Grande', 'AZ', '85222-4820', '(520)836-1688', 'TX PV OS OR DD HV SS CM MC MD']\n",
      "[1998, 18, 'PGBHABHACA Casa Grande Outpatient', '120 West Main Street', 'Casa Grande', 'AZ', '85222-4820', '(520)836-1675', 'TX PV OS OR IO DD HV SS CM MC MD']\n",
      "[1998, 18, 'PGBHA Helping Associateslnc', '1901 North Trekell Road SuiteA', 'Casa Grande', 'AZ', '85222', '(520)836-1029', 'TX OS OR IO HV SS']\n",
      "[1998, 18, 'Centrode Amistad Inc', '100 West Boston Street Suite 5', 'Chandler', 'AZ', '85224', '(480)839-2926', 'TX PV OS OR IO AD DD PW SS CM']\n",
      "[1998, 18, 'Chandler Valley Hopeand Drug Trt Ctr', '501 North Washington Street', 'Chandler', 'AZ', '85225', '(480)899-3335Hotlines:(480)899-3335(800)544-5101', 'TX PV OS DT RD RR SS OH TC PI']\n",
      "[1998, 18, 'Verde Valley Guidance Clinic Inc', '19 East Beech Street', 'Cottonwood', 'AZ', '86326', '(520)634-2236Hotline:(520)634-2236', 'TX PV OS DT OD OR IO AD DD PW CM MD']\n",
      "[1998, 18, 'Dilcon Agency Dept of Behavioral Health Services Old Pre School Building Next Chapter House', '', 'Di Ikon', 'AZ', '86047', '(520)657-8000', 'TX PV OS IO SS OH CM CJ FG']\n",
      "[1998, 18, 'PGBHA Pinal County Hispanic Council', '712 North Main Street', 'Eloy', 'AZ', '85231', '(520)466-3608', 'TX PV OS OR IO AD DD SS MD FG PI']\n",
      "[1998, 18, 'Aspen Hill Behavioral Health System', '305 West Forest Avenue', 'Flagstaff', 'AZ', '86001', '(520)773-1060Hotline:(800)336-2773', 'TX PV OS DT OR IO ID AD DD SS PH CM MC MD PI']\n",
      "[1998, 18, 'Community Medical Services', '2559 East 7th Avenue', 'Flagstaff', 'AZ', '86004-3722', '(520)714-0010', 'TX ML OS DT OD OR IO DD SS MD']\n",
      "[1998, 18, 'The Guidance Center', '2187 North Vickey Street', 'Flagstaff', 'AZ', '86004', '(520)527-1899', 'TX PV OS DT OD OR IO RD RR AD DD PH CM MC MD PI']\n",
      "[1998, 18, 'Fort Defiance Outpatient Treatment Ctr Fort Defiance Agency', '25 Saint Avenue Drive', 'Fort Defiance', 'AZ', '86504', '(520)729-4012', 'TX PV OS OR IO RR AD DD PW SS MD']\n",
      "[1998, 18, 'Fort McDowell Indian Community Familyand Community Services', 'Yavapai Road', 'Fort McDowell', 'AZ', '85264', '(480)816-7131', 'TX PV OS OR IO AD SS CM CO']\n",
      "[1998, 18, 'Community Care Network(CCN) Jewish Familyand Childrens Services', '6376 West Bell Road', 'Glendale', 'AZ', '85308', '(602)395-8900', 'TX OS IO AD DD SS']\n",
      "[1998, 19, 'Maverick House', '7022 North 48th Avenue', 'Glendale', 'AZ', '85301', '(623)931-5810', 'TX PV OS OR RR DD SS TC MC MD PI']\n",
      "[1998, 19, 'Thunderbird Samaritan Behavioral Hlth', '5555 West Thunderbird Road', 'Glendale', 'AZ', '85306', '(602)588-4799Hotline:(602)230-4357', 'TX OS DT ID GH MC MD PI']\n",
      "[1998, 19, 'La Frontera CenterBLNA', '1151 South LaCanada Suite 105', 'Green Valley', 'AZ', '85614', '(602)625-0876', 'TX PV OS DT OD IO ID DD PW CM']\n",
      "[1998, 19, 'Community Counseling Centers Inc', '105 North 5th Avenue', 'Holbrook', 'AZ', '86025', '(520)524-6126Hotline:(520)524-6126', 'TX PV OS DT OD OR IO CM']\n",
      "[1998, 19, 'Kayenta Outpatient Treatment Center', '', 'Kayenta', 'AZ', '86033', '(520)697-5570', 'TX PV OS OR AD DD SS']\n",
      "[1998, 19, 'Copper Communities Resourceand Development Inc', '1116 Tilbury Street', 'Kearny', 'AZ', '85237', '(602)363-5561', 'TX PV OS OR AD DD CO']\n",
      "[1998, 19, 'Mohave Mental Health Clinic Substance Abuse Services', '1750 Beverly Street', 'Kingman', 'AZ', '86401', '(520)757-8111', 'TX OS IO DD SS SG']\n",
      "[1998, 19, 'Mohave Mental Health Clinic Substance Abuse Services', '2187 Swanson Street', 'Lake Havasu City', 'AZ', '86403', '(520)855-7806', 'TX PV OS OR IO AD DD SS CM CH']\n",
      "[1998, 19, 'Luke Air Force Base Substance Abuse Program', '52 MDOS/SGOM H 7219 North Litchfield Road', 'LukeAFB', 'AZ', '85309-1525', '(623)856-7580', 'TX PV OS OR IO SS GH CM FG']\n",
      "[1998, 19, 'Mental Health Clinic Substance Abuse Control', '56 MDOS/SGOM H 7219 North Litchfield Road', 'LukeAFB', 'AZ', '85309-1525', '(623)856-4185', 'TX PV OS OR IO DD SS GH FG']\n",
      "[1998, 19, 'Centro DeAmistad Inc Mesa Office', '734 East Broadway SuiteC', 'Mesa', 'AZ', '85204', '(480)833-0227', 'TX PV OS OR IO AD DD SS CM']\n",
      "[1998, 19, 'East Valley Addiction Councillnc', '554 South Bellview Street', 'Mesa', 'AZ', '85204', '(480)962-7922', 'TX PV OS DT OR IO RD']\n",
      "[1998, 19, 'East Valley Catholic Social Services', '430 North Dobson Road Suite 110', 'Mesa', 'AZ', '85201', '(480)964-8771', 'TX OS OR CO MD']\n",
      "[1998, 19, 'New Hope Behavioral Health Centerlnc', '6550 Broadway Suite 101', 'Mesa', 'AZ', '85206', '(480)981-1022', 'TX ML OS DT OD OR SS SG']\n",
      "[1998, 19, 'Prehab of Arizona Inc Centerfor Family Enrichment', '1655 East University Drive', 'Mesa', 'AZ', '85203', '(480)969-6955', 'TX OS OR AD DD HV PW SS']\n",
      "[1998, 19, 'Prehab of Arizona Inc Helaman House', '2613 South Power Road', 'Mesa', 'AZ', '85206', '(480)461-5075', 'TX PV OS RR AD DD SS FG']\n",
      "[1998, 19, 'Prehab of Arizona Inc Homestead Residence', '1131 East University Drive', 'Mesa', 'AZ', '85203', '(480)969-8961', 'TX PV OS RR AD DD SS TC SC CJ FG']\n",
      "[1998, 19, 'Samaritan Behavioral Health Desert', '2225 West Southern Avenue', 'Mesa', 'AZ', '85202', '(480)464-4141Hotlines:(800)254-4357(602)254-4357', 'TX OS DT OD OR IO ID DD HV SS GH PH']\n",
      "[1998, 19, 'Womenin New Recovery', '540 West 1st Street', 'Mesa', 'AZ', '85201', '(480)464-5764Hotline:(480)464-5764', 'TX PV OS RR DD HV SS HH']\n",
      "[1998, 19, 'SEABHS Admtntstrattve Offtce Burro Alleyand Coronado Boulevard', '', 'Morenci', 'AZ', '85540', '(520)865-4531Hotline:(800)586-9161', 'TX PV OS OR IO AD DD SS CM FG']\n",
      "[1998, 19, 'Santa Cruz Family Guidance Center Division Inc(SEABHS)', '489 North Arroyo Boulevard', 'Nogales', 'AZ', '85621', '(520)287-4713Hotlines:(520)287-9009(800)586-9161', 'TX PV OS OD OR IO AD DD HV PW SS CM MD PI']\n",
      "[1998, 19, 'Tri Community Resource Center', '980 Mount Lemmon Road', 'Oracle', 'AZ', '85623', '(520)896-9240', 'TX PV OS OR DD CM MD PI']\n",
      "[1998, 20, 'Kaibeto Outpatient Treatment CenterDBHS', '337 North Navajo Street', 'Page', 'AZ', '86040', '(520)645-2109Hotline:(520)673-3267', 'TX PV OS OR IO AD SS OH CM SC CJ']\n",
      "[1998, 20, 'Colorado River Indian Tribes Behavioral Health Services RouteI', '', 'Parker', 'AZ', '85344', '(520)669-6093', 'TX OS DT RD RR SS TC CM CJ']\n",
      "[1998, 20, 'New Life Guidance Center', '1200 Arizona Avenue', 'Parker', 'AZ', '85344', '(520)669-6161Hotline:(520)453-0286', 'TX OS OR SS CM CJ PI']\n",
      "[1998, 20, 'Public Health Scrvicc Indian Hospital Substance Abuse Servs', 'Route 1', 'Parker', 'AZ', '85344', '(520)669-2137x324', 'TX PV OS DT OD OR ID DD SS GH CM FG']\n",
      "[1998, 20, 'Rim Guidance Center', '404 West Aero Drive', 'Payson', 'AZ', '85547', '(520)474-3303', 'TX OS OR IO CM MC MD PI']\n",
      "[1998, 20, 'Hualapai Health Department Alcoholismand Drug Abuse Program', '960 Rodeo Way', 'Peach Springs', 'AZ', '86434', '(520)769-2207', 'TX PV OS OR IO RR AD DD SS FG']\n",
      "[1998, 20, 'Behavioral Systems Southwest', '2846 East Roosevelt Street', 'Phoenix', 'AZ', '85008', '(602)273-6293', 'TX PV OS OR RR DD HH']\n",
      "[1998, 20, 'Calvary Rehabilitation Center', '720 East Montebello Avenue', 'Phoenix', 'AZ', '85014', '(602)279-1468', 'TX PV OS OR IO RR DD SS TC PI']\n",
      "[1998, 20, 'CarlT HaydenVA Medical Center Substance Abuse Treatment Program', '650 East Indian School Road Suite 11-A 9', 'Phoenix', 'AZ', '85012', '(602)277-5551x7574', 'TX OS OR IO DD GH FG']\n",
      "[1998, 20, 'Casa DeAmigas', '1648 West Cotler Street Suite 8', 'Phoenix', 'AZ', '85015', '(602)265-9987', 'TX OS RR PW SS MD']\n",
      "[1998, 20, 'Chicanos Por LaCausa Inc Centro DeLa Familia', '4622 West Indian School Road SuiteD-12', 'Phoenix', 'AZ', '85009', '(623)247-0464', 'TX PV OS OR IO AD DD HV SS CM CO CJ MD PI']\n",
      "[1998, 20, 'Community Medical Services Inc Larkspur Medical Center', '12426 North 28th Drive', 'Phoenix', 'AZ', '85029', '(602)866-9378', 'TX ML PV OS DT OD OR DD HV PW SS MD']\n",
      "[1998, 20, 'Corazon/CPLC Corazon', '3639 West Lincoln Street', 'Phoenix', 'AZ', '85009', '(602)233-9747', 'TX OS RR SS TC PI']\n",
      "[1998, 20, 'Crossroads', '1845 East Ocotillo Road', 'Phoenix', 'AZ', '85016', '(602)279-2585', 'TX PV OS RR HH FG']\n",
      "[1998, 20, 'Drugand Alcohol Treatment Institute Clarence Lawson Foundation', '2230 North 24th Street', 'Phoenix', 'AZ', '85008', '(602)275-3233', 'TX ML OS DT OD OR SS PI']\n",
      "[1998, 20, 'Ebony House Inc', '6222 South 13th Street', 'Phoenix', 'AZ', '85040', '(602)276-4288x8602', 'TX OS IO RR DD SS TC MD']\n",
      "[1998, 20, 'Family Service Agency', '1530 East Flower Street', 'Phoenix', 'AZ', '85014', '(602)264-9891', 'TX PV OS OR AD DD PW CM']\n",
      "[1998, 20, 'Hohokam Room', '1501 East Washington Street', 'Phoenix', 'AZ', '85034', '(602)253-6553', 'TX ML DT OD OR SS SG MC']\n",
      "[1998, 20, 'Indian Rehabilitation Inc', '650 North 2nd Avenue', 'Phoenix', 'AZ', '85003', '(602)254-3247', 'TX PV OS OR IO RR PW SS TC MD FG']\n",
      "[1998, 20, 'Intensive Treatment Systems Inc', '651 West Coolidge Street', 'Phoenix', 'AZ', '85013', '(602)248-0550', 'TX ML OS DT OD OR SS']\n",
      "[1998, 20, 'ewish Familyand Childrens Service', '2033 North 7th Street', 'Phoenix', 'AZ', '85006', '(602)257-1904', 'TX OS OR CO MD FG PI']\n",
      "[1998, 20, 'National Councilon Alcand Drug Dcpnd Centraland Northern Arizona', '2701 North 16th Street Suite 103', 'Phoenix', 'AZ', '85006', '(602)264-6214Hotline:(602)285-1064', 'TX PV OS OR IO PW SS SC MD']\n",
      "[1998, 20, 'New Arizona FamilyIISMI Dual Diagnosis Program', '302 East Southern Avenue', 'Phoenix', 'AZ', '85040', '(602)243-0562Hotline:(602)243-0562', 'TX PV OS OR IO RR DD SS TC']\n",
      "[1998, 20, 'New Arizona Family Inc New Arizona FamilyI', '3301 East Pinchot Avenue', 'Phoenix', 'AZ', '85018', '(602)381-0686Hotline:(602)381-0686', 'TX PV OS OR IO RR DD HV PW SS TC']\n"
     ]
    },
    {
     "name": "stdout",
     "output_type": "stream",
     "text": [
      "[1998, 21, 'New Lifefor Girls', '6216 North 27th Avenue', 'Phoenix', 'AZ', '85017', '(602)246-2704', 'TX OS DT RD RR SS TC CO']\n",
      "[1998, 21, 'PheonixLARC Meta Center Public Inebriate Program', '2770 East Vanburen Street', 'Phoenix', 'AZ', '85008-6039', '(602)273-9999Hotlines:(602)222-9444(800)631-1314', 'TX DT RD RR SS CH MD']\n",
      "[1998, 21, 'Phoenix Indian Center', '2601 North 3rd Street Suite 100', 'Phoenix', 'AZ', '85004', '(602)263-1017', 'TX OS OR CM MD']\n",
      "[1998, 21, 'Progress Valley Phoenix', '4430 North 23rd Avenue', 'Phoenix', 'AZ', '85015', '(602)274-5424', 'TX OS RR DD PW SS TC']\n",
      "[1998, 21, 'Saint Lukes Behavioral Health Center Chemical Dependency Treatment', '1800 East Van Buren Street', 'Phoenix', 'AZ', '85006', '(602)251-8484Hotline:(602)251-8535', 'TX PV OS DT OD OR IO ID IR AD DD SS PH MC MD FG PI']\n",
      "[1998, 21, 'Saint Lukes Behavioral Health Center', '1800 East Van Buren Street', 'Phoenix', 'AZ', '85006', '(602)251-8535Hotline:(602)251-8535', 'TX PV OS DT OD OR IO ID IR AD DD SS PH']\n",
      "[1998, 21, 'Salvation Army Recovery Center Adult Rehabilitation Center', '1625 South Central Avenue', 'Phoenix', 'AZ', '85004', '(602)253-1161', 'TX PV OS RR SS TC HH CO']\n",
      "[1998, 21, 'Salvation Army Recovery Center', '2707 East Van Buren Street Treatment Center', 'Phoenix', 'AZ', '85008-6020', '(602)267-1404', 'TX OS RR HV PW SS TC FG']\n",
      "[1998, 21, 'Southwest Behavioral', '1714 East Broadway Street', 'Phoenix', 'AZ', '85040', '(602)254-6200Hotline:(602)258-3600', 'TX ML PV OS DT OD IO HV SS MC MD']\n",
      "[1998, 21, 'Southwest Behavioral Health Inc', '1424 South 7th Avenue', 'Phoenix', 'AZ', '85007', '(602)258-3600', 'TX OS IO AD DD SS']\n",
      "[1998, 21, 'Southwestern Childrens Health ServicesAKA Pare Place', '5116 East Thomas Road', 'Phoenix', 'AZ', '85018', '(602)840-4774Hotline:(602)840-4774', 'TX OS DT OR IO ID IR AD DD OH PI']\n",
      "[1998, 21, 'Terros Inc', '320 East Virginia Street', 'Phoenix', 'AZ', '85004', '(602)266-1100x454Hotlines:(602)248-8336(602)222-9444', 'TX PV OS DT OD OR IO AD DD HV CM MD FG PI']\n",
      "[1998, 21, 'Treatment Assessment Screening CenterTASCINC', '2234 North 7th Street SuiteA', 'Phoenix', 'AZ', '85006', '(602)254-7328', 'TX PV OS OR IO AD DD SS CM CJ']\n",
      "[1998, 21, 'Valle Del Sol Inc Behavioral Health Program', '1209 South First Avenue', 'Phoenix', 'AZ', '85003', '(480)966-1414', 'TX PV OS DT OD OR IO DD HV PW SS']\n",
      "[1998, 21, 'Veterans Affairs Medical Center', '500 Highway 89 North Room 208', 'Prescott', 'AZ', '86313', '(520)445-4860x6710', 'TX PV OS DT OD OR DD SS GH FG']\n",
      "[1998, 21, 'West Yavapai Guidance Clinic Hillside Center', '642 Dameron Drive', 'Prescott', 'AZ', '86301', '(520)445-5211', 'TX OS DT OR IO ID RR SS PH']\n",
      "[1998, 21, 'Yavapai/Prescott Tribe Social Services Department', '530 East Merritt Street', 'Prescott', 'AZ', '86301', '(520)445-8790Hotline:(520)717-3472', 'TX PV OS OR IO AD FG']\n",
      "[1998, 21, 'Gila River Indian Community Alcoholand Drug Abuse Program', '315 West Casa Blanca Road', 'Sacaton', 'AZ', '85247', '(520)562-3356', 'TX PV OS IO AD SS OH CM']\n",
      "[1998, 21, 'SEABHS Graham/Greenlee Counseling Ctr Safford Outpatient', '620 Central Avenue', 'Safford', 'AZ', '85546', '(520)428-4550Hotline:(800)586-9161', 'TX PV OS OR IO AD DD SS CM']\n",
      "[1998, 21, 'Little Colorado Behavioral Health Centers Inc', '470 West Cleveland Street', 'Saint Johns', 'AZ', '85936', '(623)337-4301', 'TX PV OS OR AD SS OH CM MD PI']\n",
      "[1998, 21, 'San Carlos Apache Tribe San Carlos Tribal Alcohol Program', '', 'San Carlos', 'AZ', '85550', '(520)475-2413', 'TX PV OS OR IO AD SS MD']\n",
      "[1998, 21, 'Jewish Familyand Childrens Services', '7770 East Roosevelt Street', 'Scottsdale', 'AZ', '85257', '(480)820-0825Hotline:(602)222-9444', 'TX OS OR CM']\n",
      "[1998, 22, 'New Foundation', '', 'Scottsdale', 'AZ', '85271', '(480)945-3302', 'TX PV OS OR RR AD SS']\n",
      "[1998, 22, 'Salt River Pima/Maricopa Behavioral Health Program', '10005 East Osborn Road', 'Scottsdale', 'AZ', '85256', '(602)850-8430', 'TX PV OS DT OR IO RD AD DD SS CM CJ FG']\n",
      "[1998, 22, 'Samaritan Behavioral Health Scottsdale', '7575 East Earll Drive', 'Scottsdale', 'AZ', '85251', '(480)941-7500Hotlines:(602)254-4357(480)941-7565', 'TX PV OS DT OD OR IO ID IR RD RR AD DD HV PW SS PH OH TC CM CH SC CJ MD FG PI']\n",
      "[1998, 22, 'Teen Reach', '5718 East Sharron Drive', 'Scottsdale', 'AZ', '85254', '(510)404-8336', 'TX PV OS DT OD RD RR AD SS']\n",
      "[1998, 22, 'Hopi Behavioral Healthand Social Services Program', '', 'Second Mesa', 'AZ', '86043', '(520)737-2586', 'TX PV OS OR IO AD DD SS CM CH CO FG']\n",
      "[1998, 22, 'Verde Valley Guidance Clinic Inc', '2880 Hopi Drive', 'Sedona', 'AZ', '86336', '(520)634-2236Hotline:(520)634-2236', 'TX PV OS DT OD OR IO AD DD CM']\n",
      "[1998, 22, 'Tohono Oodham Human Services Alcoholismand Substance Abuse Branch', '', 'Sells', 'AZ', '85634', '(520)383-6165', 'TX PV OS IO AD DD PW SS FG']\n",
      "[1998, 22, 'Community Counseling Centerslnc Outpatient Unit', '2500 Show Low Lake Road', 'Show Low', 'AZ', '85901', '(520)537-2951Hotline:(520)537-2951', 'TX PV OS DT OD OR IO CM PI']\n",
      "[1998, 22, 'SEABHS Coronado Behavioral Health Division Sierra Vista Outpatient', '185 South Moorman Street', 'Sierra Vista', 'AZ', '85635', '(520)458-3932', 'TX PV OS OR AD DD PI']\n",
      "[1998, 22, 'Cocopah Alcoholand Drug Abuse Prevention Program County', '15 and Avenue SuiteG', 'Somerton', 'AZ', '85350', '(520)627-2161', 'TX PV OS OR AD SS OH CH']\n",
      "[1998, 22, 'Little Colorado Behav Hlth Centers Inc', '50 North Hopi Street', 'Springerville', 'AZ', '85938', '(520)333-2683', 'TX PV OS OR AD SS OH CM']\n",
      "[1998, 22, 'Havasupai Indian Health Center', '', 'Supai', 'AZ', '86435', '(520)448-2641', 'TX PV OS OR AD OH CH']\n",
      "[1998, 22, 'Centerfor Behavioral Health Special Services', '2123 East Southern Avenue Suite 2', 'Tempe', 'AZ', '85282', '(480)897-7044', 'TX PV OS DT OD OR HV PW SS']\n",
      "[1998, 22, 'Contact', '1400 East Southern Street Suite 301', 'Tempe', 'AZ', '85282', '(480)730-3023Hotline:(602)254-4357', 'TX PV OS OR IO SS PI']\n",
      "[1998, 22, 'Tempe Saint Lukcs Hospital', '1500 South Mill Avenue', 'Tempe', 'AZ', '85281', '(480)784-5600Hotline:(480)784-5600', 'TX ML OS DT ID GH MD PI']\n",
      "[1998, 22, 'Valle Del Sol Inc East Clinic', '509 South Rockford Drive', 'Tempe', 'AZ', '85281', '(480)966-1414', 'TX ML OS DT OD OR IO DD HV PW SS MD']\n",
      "[1998, 22, 'Tuba City Outpatient Treatment Center Behavioral Health Services/DBHS Main Street', 'Building 25', 'Tuba City', 'AZ', '86045', '(520)283-3031x3041', 'TX PV OS IO AD DD PW SS']\n",
      "[1998, 22, 'Amity Inc', '10500 East Tanque Verde Road', 'Tucson', 'AZ', '85749', '(520)749-5980', 'TX PV OS RR SS TC CO']\n",
      "[1998, 22, 'DAC Behavioral Health Services', '333 West Fort Lowell Street Suite 219', 'Tucson', 'AZ', '85705', '(520)327-4505Hotline:(520)323-9373', 'TX ML DT OD OR SS CO']\n",
      "[1998, 22, 'DAC Behavioral Health Services of Pima County Inc/CODAC Counseling Ctr', '333 West Fort Lowell Street', 'Tucson', 'AZ', '85705', '(520)327-4505Hotline:(520)323-9373', 'TX OS OR IO AD DD HV PW SS MD']\n"
     ]
    },
    {
     "ename": "TypeError",
     "evalue": "cannot unpack non-iterable NoneType object",
     "output_type": "error",
     "traceback": [
      "\u001b[0;31m---------------------------------------------------------------------------\u001b[0m",
      "\u001b[0;31mTypeError\u001b[0m                                 Traceback (most recent call last)",
      "\u001b[0;32m<ipython-input-1013-7aa6d5865d4a>\u001b[0m in \u001b[0;36m<module>\u001b[0;34m\u001b[0m\n\u001b[0;32m----> 1\u001b[0;31m \u001b[0mrun\u001b[0m\u001b[0;34m(\u001b[0m\u001b[0;36m1998\u001b[0m\u001b[0;34m,\u001b[0m \u001b[0;36m15\u001b[0m\u001b[0;34m,\u001b[0m \u001b[0;36m561\u001b[0m\u001b[0;34m)\u001b[0m \u001b[0;31m#12 15\u001b[0m\u001b[0;34m\u001b[0m\u001b[0;34m\u001b[0m\u001b[0m\n\u001b[0m",
      "\u001b[0;32m<ipython-input-928-55ab118b6cf4>\u001b[0m in \u001b[0;36mrun\u001b[0;34m(year, start_page, end_page)\u001b[0m\n\u001b[1;32m     25\u001b[0m         \u001b[0mrawdata\u001b[0m \u001b[0;34m=\u001b[0m \u001b[0mpdfReader\u001b[0m\u001b[0;34m.\u001b[0m\u001b[0mgetPage\u001b[0m\u001b[0;34m(\u001b[0m\u001b[0mpagen\u001b[0m \u001b[0;34m-\u001b[0m \u001b[0;36m1\u001b[0m\u001b[0;34m)\u001b[0m\u001b[0;34m.\u001b[0m\u001b[0mextractText\u001b[0m\u001b[0;34m(\u001b[0m\u001b[0;34m)\u001b[0m\u001b[0;34m\u001b[0m\u001b[0;34m\u001b[0m\u001b[0m\n\u001b[1;32m     26\u001b[0m \u001b[0;34m\u001b[0m\u001b[0m\n\u001b[0;32m---> 27\u001b[0;31m         \u001b[0mdata\u001b[0m \u001b[0;34m=\u001b[0m \u001b[0msplit_data\u001b[0m\u001b[0;34m(\u001b[0m\u001b[0mrawdata\u001b[0m\u001b[0;34m,\u001b[0m \u001b[0mfirstcity\u001b[0m\u001b[0;34m)\u001b[0m\u001b[0;34m\u001b[0m\u001b[0;34m\u001b[0m\u001b[0m\n\u001b[0m\u001b[1;32m     28\u001b[0m \u001b[0;34m\u001b[0m\u001b[0m\n\u001b[1;32m     29\u001b[0m         \u001b[0;32mwith\u001b[0m \u001b[0mopen\u001b[0m\u001b[0;34m(\u001b[0m\u001b[0msave_as_filename\u001b[0m\u001b[0;34m,\u001b[0m \u001b[0;34m'a'\u001b[0m\u001b[0;34m,\u001b[0m \u001b[0mnewline\u001b[0m\u001b[0;34m=\u001b[0m\u001b[0;34m''\u001b[0m\u001b[0;34m)\u001b[0m \u001b[0;32mas\u001b[0m \u001b[0mfile\u001b[0m\u001b[0;34m:\u001b[0m\u001b[0;34m\u001b[0m\u001b[0;34m\u001b[0m\u001b[0m\n",
      "\u001b[0;32m<ipython-input-1006-e57a34860408>\u001b[0m in \u001b[0;36msplit_data\u001b[0;34m(rawdata, firstcity)\u001b[0m\n\u001b[1;32m     30\u001b[0m \u001b[0;34m\u001b[0m\u001b[0m\n\u001b[1;32m     31\u001b[0m         \u001b[0mrawdata\u001b[0m \u001b[0;34m=\u001b[0m \u001b[0mrawdata\u001b[0m\u001b[0;34m[\u001b[0m\u001b[0mm\u001b[0m \u001b[0;34m-\u001b[0m \u001b[0;36m1\u001b[0m\u001b[0;34m:\u001b[0m\u001b[0;34m]\u001b[0m\u001b[0;34m\u001b[0m\u001b[0;34m\u001b[0m\u001b[0m\n\u001b[0;32m---> 32\u001b[0;31m         \u001b[0ma\u001b[0m\u001b[0;34m,\u001b[0m \u001b[0mb\u001b[0m \u001b[0;34m=\u001b[0m \u001b[0mfuzzy_search\u001b[0m\u001b[0;34m(\u001b[0m\u001b[0mcity\u001b[0m\u001b[0;34m,\u001b[0m \u001b[0mrawdata\u001b[0m\u001b[0;34m)\u001b[0m\u001b[0;34m\u001b[0m\u001b[0;34m\u001b[0m\u001b[0m\n\u001b[0m\u001b[1;32m     33\u001b[0m         \u001b[0mstate_clean\u001b[0m \u001b[0;34m=\u001b[0m \u001b[0msplit_cap_words\u001b[0m\u001b[0;34m(\u001b[0m\u001b[0mrawdata\u001b[0m\u001b[0;34m[\u001b[0m\u001b[0ma\u001b[0m\u001b[0;34m:\u001b[0m\u001b[0mb\u001b[0m\u001b[0;34m]\u001b[0m\u001b[0;34m)\u001b[0m\u001b[0;34m\u001b[0m\u001b[0;34m\u001b[0m\u001b[0m\n\u001b[1;32m     34\u001b[0m         \u001b[0mtemp_city\u001b[0m\u001b[0;34m.\u001b[0m\u001b[0mappend\u001b[0m\u001b[0;34m(\u001b[0m\u001b[0mstate_clean\u001b[0m\u001b[0;34m)\u001b[0m\u001b[0;34m\u001b[0m\u001b[0;34m\u001b[0m\u001b[0m\n",
      "\u001b[0;31mTypeError\u001b[0m: cannot unpack non-iterable NoneType object"
     ]
    }
   ],
   "source": [
    "run(1998, 15, 561) #12 15"
   ]
  },
  {
   "cell_type": "code",
   "execution_count": 842,
   "metadata": {},
   "outputs": [],
   "source": [
    "year = 1998\n",
    "pagen = 22\n",
    "firstcity = \"Montgomery\"\n",
    "rawdata = pdfReader.getPage(pagen - 1).extractText()\n",
    "data = split_data(rawdata, firstcity)\n",
    "with open(save_as_filename, 'a', newline='') as file:\n",
    "    writer = csv.writer(file)\n",
    "    clean_data(writer, data, year, pagen)"
   ]
  },
  {
   "cell_type": "code",
   "execution_count": 1014,
   "metadata": {},
   "outputs": [
    {
     "data": {
      "text/plain": [
       "'CODACBehavioralHealthServicesofPimaCountyInc/Wildflowers700North7thAvenueTucson,AZ85705(520)622-0292TXOS/RR/HVPW/SSCompassHealthCare1230EastBroadwayStreetTucson,AZ85719(520)620-6615TXPVOS/ORIO/SSCompassHealthCare2475NorthJackRabbitStreetTucson,AZ85745(520)882-5608TXPVOSDT/ODORIORDRR/ADDDHV/SSHHCJ/FGPICopeBehavioralServices101SouthStoneStreetSuite200Tucson,AZ85701(520)884-0707TXPVOSDT/ODORIO/DDHV/SS/MDCottonwoodDeTucson4110WestSweetwaterDriveTucson,AZ85745(520)743-0411TXPVOSDT/RDRRJADDD/SSTC/FGPIDavisMonthanAirForceBaseADPB355MDOS/SGOHATucson,AZ85707-4923(520)228-4926TXPVOSDT/ODOR/DD/GH/FGHavenIncTheHaven1107EastAdelaideDriveTucson,AZ85719(520)623-4590TXOS/ORRR/SSTCLaFronteraCenterEastClinic2222NorthCraycroftRoadSuite120Tucson,AZ85712(520)296-3296x102TXPVOS/OR/ADDD/CMLaFronteraCenterHopeCenter260SouthScottStreetTucson,AZ85701(520)884-8470TXMLPVOSDT/ODOR/DDHVPW/SS/MDLaFronteraCenterSubstanceAbuseOutpatientServices502West29thStreetTucson,AZ85711(520)884-9920Hotline:(520)323-9373TXPVOS/ORIO/DD/CMMarkYouthandFamilyCareCampusInc4653EastPimaStreetTucson,AZ85712(520)326-6182Hotlines:(520)977-7573(520)326-6182x0030TXPVOS/ORIO/AD/SSSG/FGPIPascuaYaquiChemicalDependencyProgram7490SouthCaminoDeOesteTucson,AZ85746(520)883-5000TXPVOS/ORIO/ADDD/SSPortablePrepBehavioralHealthServsAlcoholismTreatmentUnit806East46thStreetTucson,AZ85713(520)792-5706TXOS/OR/SSSaintJosephsHospitalORiellyCareCenter350NorthWilmontRoadTucson,AZ85711(520)721-6567x2528TXOS/OR10/DD/GH/MCPISalvationArmyAdultRehabilitationCenter2717South6thAvenueTucson,AZ85713(520)624-1741TXPVOS/RR/ADDD/SSTCSierraTucsonLLCLagoDelOroParkwayTucson,AZ85739(520)624-4000TXPVOSDT/IDIR/DD/PH/PITucsonAlcoholicRecoveryHomeInc1809East23rdStreetTucson,AZ85713(520)884-5180TXPVOS/RR/HHVeteransAffairsMedicalCenterSubstanceAbuseTreatmentProgram3601South6thAvenueTucson,AZ85723(520)792-1450TXPVOSDT/ODORIO/SSGH/FGPIWestcenter2105EastAllenRoadTucson,AZ85719(520)795-0952TXMLOSDT/ODIOIDIR/DD/OH/MCMDPIWHITERIVERRainbowCenterWhiteMountainApacheTribeWhiteriver,AZ85941(520)338-4858TXPVOS/ORRR/SS/FGWICKENBURGMeadowsHoldings1655NorthTegnerRoadWickenburg,AZ85390(520)684-3926TXOSDT/IDIRRDRR/DD/SSTCCMWILLIAMSTheGuidanceCenterInc301South7thStreetWilliams,AZ86046(520)635-4272TXPVOS/ORIO/ADDD/SSCMWINSLOWCommunityCounselingCentersIncOutpatientClinic211East3rdStreetWtnslow,AZ86047(520)289-4658Hotline:(520)289-4658TXPVOS/IO/DD/SSCMNavajoNationDilkonOutpatientTreatmentCenterDilkonChapterHouseWinslow,AZ86047(520)871-6235TXPVOS/IO/SSOHCMCJARIZONA12ForCodeDefinitions-SeeKEYonpagev.'"
      ]
     },
     "execution_count": 1014,
     "metadata": {},
     "output_type": "execute_result"
    }
   ],
   "source": [
    "pagen = 23\n",
    "rawdata = pdfReader.getPage(pagen - 1).extractText()\n",
    "rawdata"
   ]
  },
  {
   "cell_type": "code",
   "execution_count": 1026,
   "metadata": {},
   "outputs": [],
   "source": [
    "rawdata = \"BehavioralHealthServicesofPimaCountyInc/Wildflowers700North7thAvenueTucson,AZ85705(520)622-0292TXOS/RR/HVPW/SSCompassHealthCare1230EastBroadwayStreetTucson,AZ85719(520)620-6615TXPVOS/ORIO/SSCompassHealthCare2475NorthJackRabbitStreetTucson,AZ85745(520)882-5608TXPVOSDT/ODORIORDRR/ADDDHV/SSHHCJ/FGPICopeBehavioralServices101SouthStoneStreetSuite200Tucson,AZ85701(520)884-0707TXPVOSDT/ODORIO/DDHV/SS/MDCottonwoodDeTucson4110WestSweetwaterDriveTucson,AZ85745(520)743-0411TXPVOSDT/RDRRJADDD/SSTC/FGPIDavisMonthanAirForceBaseADPB355MDOS/SGOHATucson,AZ85707-4923(520)228-4926TXPVOSDT/ODOR/DD/GH/FGHavenIncTheHaven1107EastAdelaideDriveTucson,AZ85719(520)623-4590TXOS/ORRR/SSTCLaFronteraCenterEastClinic2222NorthCraycroftRoadSuite120Tucson,AZ85712(520)296-3296x102TXPVOS/OR/ADDD/CMLaFronteraCenterHopeCenter260SouthScottStreetTucson,AZ85701(520)884-8470TXMLPVOSDT/ODOR/DDHVPW/SS/MDLaFronteraCenterSubstanceAbuseOutpatientServices502West29thStreetTucson,AZ85711(520)884-9920Hotline:(520)323-9373TXPVOS/ORIO/DD/CMMarkYouthandFamilyCareCampusInc4653EastPimaStreetTucson,AZ85712(520)326-6182Hotlines:(520)977-7573(520)326-6182x0030TXPVOS/ORIO/AD/SSSG/FGPIPascuaYaquiChemicalDependencyProgram7490SouthCaminoDeOesteTucson,AZ85746(520)883-5000TXPVOS/ORIO/ADDD/SSPortablePrepBehavioralHealthServsAlcoholismTreatmentUnit806East46thStreetTucson,AZ85713(520)792-5706TXOS/OR/SSSaintJosephsHospitalORiellyCareCenter350NorthWilmontRoadTucson,AZ85711(520)721-6567x2528TXOS/OR10/DD/GH/MCPISalvationArmyAdultRehabilitationCenter2717South6thAvenueTucson,AZ85713(520)624-1741TXPVOS/RR/ADDD/SSTCSierraTucsonLLCLagoDelOroParkwayTucson,AZ85739(520)624-4000TXPVOSDT/IDIR/DD/PH/PITucsonAlcoholicRecoveryHomeInc1809East23rdStreetTucson,AZ85713(520)884-5180TXPVOS/RR/HHVeteransAffairsMedicalCenterSubstanceAbuseTreatmentProgram3601South6thAvenueTucson,AZ85723(520)792-1450TXPVOSDT/ODORIO/SSGH/FGPIWestcenter2105EastAllenRoadTucson,AZ85719(520)795-0952TXMLOSDT/ODIOIDIR/DD/OH/MCMDPIWHITERIVERRainbowCenterWhiteMountainApacheTribeWhiteriver,AZ85941(520)338-4858TXPVOS/ORRR/SS/FGWICKENBURGMeadowsHoldings1655NorthTegnerRoadWickenburg,AZ85390(520)684-3926TXOSDT/IDIRRDRR/DD/SSTCCMWILLIAMSTheGuidanceCenterInc301South7thStreetWilliams,AZ86046(520)635-4272TXPVOS/ORIO/ADDD/SSCMWINSLOWCommunityCounselingCentersIncOutpatientClinic211East3rdStreetWtnslow,AZ86047(520)289-4658Hotline:(520)289-4658TXPVOS/IO/DD/SSCMNavajoNationDilkonOutpatientTreatmentCenterDilkonChapterHouseWinslow,AZ86047(520)871-6235TXPVOS/IO/SSOHCMCJARIZONA12ForCodeDefinitions-SeeKEYonpagev.\""
   ]
  },
  {
   "cell_type": "code",
   "execution_count": 1029,
   "metadata": {},
   "outputs": [
    {
     "data": {
      "text/plain": [
       "[['Tucson',\n",
       "  ['BehavioralHealthServicesofPimaCountyInc/Wildflowers700North7thAvenueTucson,AZ85705(520)622-0292',\n",
       "   'TX OS RR HV PW SS'],\n",
       "  ['CompassHealthCare1230EastBroadwayStreetTucson,AZ85719(520)620-6615',\n",
       "   'TX PV OS OR IO SS'],\n",
       "  ['CompassHealthCare2475NorthJackRabbitStreetTucson,AZ85745(520)882-5608',\n",
       "   'TX PV OS DT OD OR IO RD RR AD DD HV SS HH CJ FG PI'],\n",
       "  ['CopeBehavioralServices101SouthStoneStreetSuite200Tucson,AZ85701(520)884-0707',\n",
       "   'TX PV OS DT OD OR IO DD HV SS MD'],\n",
       "  ['CottonwoodDeTucson4110WestSweetwaterDriveTucson,AZ85745(520)743-0411',\n",
       "   'TX PV OS DT RD RR AD DD SS TC FG PI'],\n",
       "  ['DavisMonthanAirForceBaseADPB355MDOS/SGOHATucson,AZ85707-4923(520)228-4926',\n",
       "   'TX PV OS DT OD OR DD GH FG'],\n",
       "  ['HavenIncTheHaven1107EastAdelaideDriveTucson,AZ85719(520)623-4590',\n",
       "   'TX OS OR RR SS TC'],\n",
       "  ['LaFronteraCenterEastClinic2222NorthCraycroftRoadSuite120Tucson,AZ85712(520)296-3296x102',\n",
       "   'TX PV OS OR AD DD CM'],\n",
       "  ['LaFronteraCenterHopeCenter260SouthScottStreetTucson,AZ85701(520)884-8470',\n",
       "   'TX ML PV OS DT OD OR DD HV PW SS MD'],\n",
       "  ['LaFronteraCenterSubstanceAbuseOutpatientServices502West29thStreetTucson,AZ85711(520)884-9920Hotline:(520)323-9373',\n",
       "   'TX PV OS OR IO DD CM'],\n",
       "  ['MarkYouthandFamilyCareCampusInc4653EastPimaStreetTucson,AZ85712(520)326-6182Hotlines:(520)977-7573(520)326-6182x0030',\n",
       "   'TX PV OS OR IO AD SS SG FG PI'],\n",
       "  ['PascuaYaquiChemicalDependencyProgram7490SouthCaminoDeOesteTucson,AZ85746(520)883-5000',\n",
       "   'TX PV OS OR IO AD DD SS'],\n",
       "  ['PortablePrepBehavioralHealthServsAlcoholismTreatmentUnit806East46thStreetTucson,AZ85713(520)792-5706',\n",
       "   'TX OS OR SS'],\n",
       "  ['SaintJosephsHospitalORiellyCareCenter350NorthWilmontRoadTucson,AZ85711(520)721-6567x2528',\n",
       "   'TX OS OR IO DD GH MC PI'],\n",
       "  ['SalvationArmyAdultRehabilitationCenter2717South6thAvenueTucson,AZ85713(520)624-1741',\n",
       "   'TX PV OS RR AD DD SS TC'],\n",
       "  ['SierraTucsonLLCLagoDelOroParkwayTucson,AZ85739(520)624-4000',\n",
       "   'TX PV OS DT ID IR DD PH PI'],\n",
       "  ['TucsonAlcoholicRecoveryHomeInc1809East23rdStreetTucson,AZ85713(520)884-5180',\n",
       "   'TX PV OS RR HH'],\n",
       "  ['VeteransAffairsMedicalCenterSubstanceAbuseTreatmentProgram3601South6thAvenueTucson,AZ85723(520)792-1450',\n",
       "   'TX PV OS DT OD OR IO SS GH FG PI'],\n",
       "  ['Westcenter2105EastAllenRoadTucson,AZ85719(520)795-0952',\n",
       "   'TX ML OS DT OD IO ID IR DD OH MC MD PI']],\n",
       " ['Whiteriver',\n",
       "  ['RainbowCenterWhiteMountainApacheTribeWhiteriver,AZ85941(520)338-4858',\n",
       "   'TX PV OS OR RR SS FG']],\n",
       " ['Wickenburg',\n",
       "  ['MeadowsHoldings1655NorthTegnerRoadWickenburg,AZ85390(520)684-3926',\n",
       "   'TX OS DT ID IR RD RR DD SS TC CM']],\n",
       " ['Williams',\n",
       "  ['TheGuidanceCenterInc301South7thStreetWilliams,AZ86046(520)635-4272',\n",
       "   'TX PV OS OR IO AD DD SS CM']],\n",
       " ['Wtnslow',\n",
       "  ['CommunityCounselingCentersIncOutpatientClinic211East3rdStreetWtnslow,AZ86047(520)289-4658Hotline:(520)289-4658',\n",
       "   'TX PV OS IO DD SS CM'],\n",
       "  ['NavajoNationDilkonOutpatientTreatmentCenterDilkonChapterHouseWinslow,AZ86047(520)871-6235',\n",
       "   'TX PV OS IO SS OH CM CJ']]]"
      ]
     },
     "execution_count": 1029,
     "metadata": {},
     "output_type": "execute_result"
    }
   ],
   "source": [
    "data = split_data(rawdata, \"Tucson\")\n",
    "data"
   ]
  },
  {
   "cell_type": "code",
   "execution_count": 1010,
   "metadata": {},
   "outputs": [],
   "source": [
    "data = [['Montgomery',\n",
    "  ['JacksonHospitalPsychiatricUnit1235ForestAvenueMontgomery,AL36106(334)293-8660',\n",
    "   'TX DT ID GH MC MD FG PI'],\n",
    "  ['LighthouseCounselingCenterIncIntensiveOutpatientUnit1415EastSouthBoulevardMontgomery,AL36116(334)286-5980',\n",
    "   'TX PV OS OR IO DD HV PW SS MD PI'],\n",
    "  ['MeadhavenAddictiveDiseaseProgram2105EastSouthBoulevardMontgomery,AL36116(334)286-3535',\n",
    "   'TX PV OS DT OD IO ID IR DD GH MC FG PI'],\n",
    "  ['MontgomeryMetroTreatmentCenter4303NormanBridgeRoadMontgomery,AL36105(334)288-5363',\n",
    "   'TX ML PV OS DT OD OR IO SS GH SG']],\n",
    " ['Rogersville',\n",
    "  ['TheFreedomHouseRoute4Rogersville,AL35652(205)247-1222',\n",
    "  'TX IO RR PW SS OH HH']],\n",
    "  ['Russellville',\n",
    "  ['SunriseLodgeSubstanceAbuseTreatmentCenter1163WashingtonAvenueSWRussellville,AL3S653(205)332-0078',\n",
    "  'TX RR SS MD PI']],\n",
    "  ['Selma',\n",
    "  ['CahabaCaresSubstanceAbuseServices912JeffDavisAvenueSelma,AL36701(334)874-2600Hotline:(334)875-2109',\n",
    "  'TX PV OS OR IO AD HV PW SS CJ MD']],\n",
    "  ['Tuskegee',\n",
    "  ['CentralAlabamaVeteranHealthCareSystem2400HospitalRoadTuskegee,AL36083(334)727-0550x4184',\n",
    "  'TX PV OS DT OR ID SS GH PH FG']],\n",
    "  ['Muscle Shoals',\n",
    "  ['ShoalsTreatmentCenter520LouiseStreetMuscleShoals,AL35661(205)383-6646',\n",
    "   'TX ML PV OS DT OD OR SS PI']],\n",
    "    ['Pelham',\n",
    "  ['BradfordHealthServicesOakMountainShelby2280Highway35SouthPelham,AL3S124(20S)664-3480',\n",
    "   'TX RR AD SS OH FG PI']],\n",
    " ['Phenix City',\n",
    "  ['LifelineServicesIncRussellCountyLocation1602BroadStreetPhenixCity,AL36867(888)329-0440',\n",
    "   'TX PV OS OR IO SS CJ']],\n",
    " ['Roanoke',\n",
    "  ['SelfDiscoveryInc59928Highway22Roanoke,AL36274(888)283-6747',\n",
    "   'TX OS DT ID IR GH MC PI']],\n",
    " ['Spanish Fort',\n",
    "  ['TheShoulder4901BattleshipParkwaySpanishFort,AL36577(334)626-2199',\n",
    "   'TX PV OS IO RR SS HH']],\n",
    " ['Sylacauga',\n",
    "  ['CheahaRegionalMentalHealthMentalRetardationBoardlnc1721OldBirminghamHighwaySylacauga,AL351SO(256)249-2395Hotline:(256)245-2201',\n",
    "   'TX PV OS DT IO RD RR AD SS MD']],\n",
    " ['Tuscaloosa',\n",
    "  ['IndianRiversMentalHealthCenterAlcoholandDrugAbuseProgramS0519thAvenueTuscaloosa,AL35401(205)391-0118Hotline:(205)345-1600',\n",
    "   'TX PV OS OR IO RR DD PW SS CM CH MC MD FG PI'],\n",
    "  ['PhoenixHouseInc70035thAvenueTuscaloosa,AL35401(205)758-3867',\n",
    "  'TX RR HH FG'],\n",
    "  ['TuscaloosaTreatmentCenterS3SRiverRoadNESuiteG-3Tuscaloosa,AL35404(205)507-0800',\n",
    "  'TX ML OS DT OD OR SS PI'],\n",
    "  ['VeteransAffairsMedicalCenterPrimaryCareSubstanceAbuseClinic3701LoopRoadEastTuscaloosa.AL3S404(205)554-2000x2690',\n",
    "  'TX PV OS DT OD OR IO SS PH FG']],\n",
    " ['Warrior',\n",
    "  ['BradfordHealthServicesWarriorLodge/Jefferson1189AllbrittonRoadWarrior,AL35180(800)333-1865Hotlincs:(20S)647-1945(800)648-1945',\n",
    "   'TX PV OS DT IO RD RR DD SS TC FG PI']],\n",
    " ['Wetumpka',\n",
    "  ['BradfordHealthServicesatElmoreCommunityHospitalC/0ElmoreCommunityHospitalSOOHospitalDriveWetumpka,AL36092(334)567-4311',\n",
    "   'TX OS DT ID IR GH']]]"
   ]
  },
  {
   "cell_type": "code",
   "execution_count": 1030,
   "metadata": {
    "scrolled": false
   },
   "outputs": [
    {
     "name": "stdout",
     "output_type": "stream",
     "text": [
      "[1998, 23, 'Behavioral Health Services of Pima County Inc/Wildflowers', '700 North 7th Avenue', 'Tucson', 'AZ', '85705', '(520)622-0292', 'TX OS RR HV PW SS']\n",
      "[1998, 23, 'Compass Health Care', '1230 East Broadway Street', 'Tucson', 'AZ', '85719', '(520)620-6615', 'TX PV OS OR IO SS']\n",
      "[1998, 23, 'Compass Health Care', '2475 North Jack Rabbit Street', 'Tucson', 'AZ', '85745', '(520)882-5608', 'TX PV OS DT OD OR IO RD RR AD DD HV SS HH CJ FG PI']\n",
      "[1998, 23, 'Cope Behavioral Services', '101 South Stone Street Suite 200', 'Tucson', 'AZ', '85701', '(520)884-0707', 'TX PV OS DT OD OR IO DD HV SS MD']\n",
      "[1998, 23, 'Cottonwood DeTucson', '4110 West Sweetwater Drive', 'Tucson', 'AZ', '85745', '(520)743-0411', 'TX PV OS DT RD RR AD DD SS TC FG PI']\n",
      "[1998, 23, 'Davis Monthan Air Force BaseADPB', '355 MDOS/SGOHA', 'Tucson', 'AZ', '85707-4923', '(520)228-4926', 'TX PV OS DT OD OR DD GH FG']\n",
      "[1998, 23, 'Haven Inc The Haven', '1107 East Adelaide Drive', 'Tucson', 'AZ', '85719', '(520)623-4590', 'TX OS OR RR SS TC']\n",
      "[1998, 23, 'La Frontera Center East Clinic', '2222 North Craycroft Road Suite 120', 'Tucson', 'AZ', '85712', '(520)296-3296x102', 'TX PV OS OR AD DD CM']\n",
      "[1998, 23, 'La Frontera Center Hope Center', '260 South Scott Street', 'Tucson', 'AZ', '85701', '(520)884-8470', 'TX ML PV OS DT OD OR DD HV PW SS MD']\n",
      "[1998, 23, 'La Frontera Center Substance Abuse Outpatient Services', '502 West 29th Street', 'Tucson', 'AZ', '85711', '(520)884-9920Hotline:(520)323-9373', 'TX PV OS OR IO DD CM']\n",
      "[1998, 23, 'Mark Youthand Family Care Campus Inc', '4653 East Pima Street', 'Tucson', 'AZ', '85712', '(520)326-6182Hotlines:(520)977-7573(520)326-6182x0030', 'TX PV OS OR IO AD SS SG FG PI']\n",
      "[1998, 23, 'Pascua Yaqui Chemical Dependency Program', '7490 South Camino DeOeste', 'Tucson', 'AZ', '85746', '(520)883-5000', 'TX PV OS OR IO AD DD SS']\n",
      "[1998, 23, 'Portable Prep Behavioral Health Servs Alcoholism Treatment Unit', '806 East 46th Street', 'Tucson', 'AZ', '85713', '(520)792-5706', 'TX OS OR SS']\n",
      "[1998, 23, 'Saint Josephs HospitalO Rielly Care Center', '350 North Wilmont Road', 'Tucson', 'AZ', '85711', '(520)721-6567x2528', 'TX OS OR IO DD GH MC PI']\n",
      "[1998, 23, 'Salvation Army Adult Rehabilitation Center', '2717 South 6th Avenue', 'Tucson', 'AZ', '85713', '(520)624-1741', 'TX PV OS RR AD DD SS TC']\n",
      "[1998, 23, 'Sierra TucsonLLC Lago Del Oro Parkway', '', 'Tucson', 'AZ', '85739', '(520)624-4000', 'TX PV OS DT ID IR DD PH PI']\n",
      "[1998, 23, 'Tucson Alcoholic Recovery Home Inc', '1809 East 23rd Street', 'Tucson', 'AZ', '85713', '(520)884-5180', 'TX PV OS RR HH']\n",
      "[1998, 23, 'Veterans Affairs Medical Center Substance Abuse Treatment Program', '3601 South 6th Avenue', 'Tucson', 'AZ', '85723', '(520)792-1450', 'TX PV OS DT OD OR IO SS GH FG PI']\n",
      "[1998, 23, 'Westcenter', '2105 East Allen Road', 'Tucson', 'AZ', '85719', '(520)795-0952', 'TX ML OS DT OD IO ID IR DD OH MC MD PI']\n",
      "[1998, 23, 'Rainbow Center White Mountain Apache Tribe', '', 'Whiteriver', 'AZ', '85941', '(520)338-4858', 'TX PV OS OR RR SS FG']\n",
      "[1998, 23, 'Meadows Holdings', '1655 North Tegner Road', 'Wickenburg', 'AZ', '85390', '(520)684-3926', 'TX OS DT ID IR RD RR DD SS TC CM']\n",
      "[1998, 23, 'The Guidance Center Inc', '301 South 7th Street', 'Williams', 'AZ', '86046', '(520)635-4272', 'TX PV OS OR IO AD DD SS CM']\n",
      "[1998, 23, 'Community Counseling Centers Inc Outpatient Clinic', '211 East 3rd Street', 'Wtnslow', 'AZ', '86047', '(520)289-4658Hotline:(520)289-4658', 'TX PV OS IO DD SS CM']\n",
      "[1998, 23, 'Navajo Nation Dilkon Outpatient Treatment Center Dilkon Chapter House', '', 'Wtnslow', 'AZ', '86047', '(520)871-6235', 'TX PV OS IO SS OH CM CJ']\n"
     ]
    }
   ],
   "source": [
    "save_as_filename = '{0}/{0}.csv'.format(year)\n",
    "\n",
    "with open(save_as_filename, 'a', newline='') as file:\n",
    "    writer = csv.writer(file)\n",
    "    city = write_data(writer, data, year, pagen)"
   ]
  },
  {
   "cell_type": "markdown",
   "metadata": {},
   "source": [
    "- Check each term that has something blanck"
   ]
  },
  {
   "cell_type": "code",
   "execution_count": null,
   "metadata": {},
   "outputs": [],
   "source": []
  }
 ],
 "metadata": {
  "kernelspec": {
   "display_name": "Python 3",
   "language": "python",
   "name": "python3"
  },
  "language_info": {
   "codemirror_mode": {
    "name": "ipython",
    "version": 3
   },
   "file_extension": ".py",
   "mimetype": "text/x-python",
   "name": "python",
   "nbconvert_exporter": "python",
   "pygments_lexer": "ipython3",
   "version": "3.7.6"
  }
 },
 "nbformat": 4,
 "nbformat_minor": 4
}
