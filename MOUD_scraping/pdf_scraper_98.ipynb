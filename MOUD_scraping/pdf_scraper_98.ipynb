{
 "cells": [
  {
   "cell_type": "markdown",
   "metadata": {},
   "source": [
    "#### Imports"
   ]
  },
  {
   "cell_type": "code",
   "execution_count": 3,
   "metadata": {},
   "outputs": [],
   "source": [
    "import PyPDF2\n",
    "import csv\n",
    "import re\n",
    "import json\n",
    "import os\n",
    "import us\n",
    "import numpy as np"
   ]
  },
  {
   "cell_type": "markdown",
   "metadata": {},
   "source": [
    "#### Scrape key to facility codes\n",
    "- Very inclusive info about keys, many things not keys included"
   ]
  },
  {
   "cell_type": "code",
   "execution_count": 3,
   "metadata": {},
   "outputs": [
    {
     "name": "stdout",
     "output_type": "stream",
     "text": [
      "Number of pages: 568\n"
     ]
    }
   ],
   "source": [
    "year = 1998\n",
    "\n",
    "pdfFileObj = open('{0}/directory_{0}.pdf'.format(year), 'rb')\n",
    "pdfReader = PyPDF2.PdfFileReader(pdfFileObj)\n",
    "print(\"Number of pages:\", pdfReader.numPages)"
   ]
  },
  {
   "cell_type": "code",
   "execution_count": 582,
   "metadata": {},
   "outputs": [],
   "source": [
    "abbr_keys = [\"TX\", \"ML\", \"PV\", \"OS\", \"DT\",\\\n",
    "             \"OD\", \"OR\", \"IO\", \"ID\", \"IR\", \"RD\", \"RR\",\\\n",
    "             \"AD\", \"DD\", \"HV\", \"PW\",\\\n",
    "             \"SS\", \"GH\", \"PH\", \"OH\", \"TC\", \"HH\", \"CM\", \"CH\", \\\n",
    "             \"CO\", \"SG\", \"SC\", \"CJ\",\\\n",
    "             \"MC\", \"MD\", \"FG\", \"PI\"]"
   ]
  },
  {
   "cell_type": "markdown",
   "metadata": {},
   "source": [
    "#### List of States in the U.S."
   ]
  },
  {
   "cell_type": "code",
   "execution_count": 476,
   "metadata": {},
   "outputs": [],
   "source": [
    "states = \"Alabama,\\\n",
    "Alaska,\\\n",
    "Arizona,\\\n",
    "Arkansas,\\\n",
    "California,\\\n",
    "Colorado,\\\n",
    "Connecticut,\\\n",
    "Delaware,\\\n",
    "Florida,\\\n",
    "Georgia,\\\n",
    "Hawaii,\\\n",
    "Idaho,\\\n",
    "Illinois,\\\n",
    "Indiana,\\\n",
    "Iowa,\\\n",
    "Kansas,\\\n",
    "Kentucky,\\\n",
    "Louisiana,\\\n",
    "Maine,\\\n",
    "Maryland,\\\n",
    "Massachusetts,\\\n",
    "Michigan,\\\n",
    "Minnesota,\\\n",
    "Mississippi,\\\n",
    "Missouri,\\\n",
    "Montana,\\\n",
    "Nebraska,\\\n",
    "Nevada,\\\n",
    "New Hampshire,\\\n",
    "New Jersey,\\\n",
    "New Mexico,\\\n",
    "New York,\\\n",
    "North Carolina,\\\n",
    "North Dakota,\\\n",
    "Ohio,\\\n",
    "Oklahoma,\\\n",
    "Oregon,\\\n",
    "Pennsylvania,\\\n",
    "Rhode Island,\\\n",
    "South Carolina,\\\n",
    "South Dakota,\\\n",
    "Tennessee,\\\n",
    "Texas,\\\n",
    "Utah,\\\n",
    "Vermont,\\\n",
    "Virginia,\\\n",
    "Washington,\\\n",
    "West Virginia,\\\n",
    "Wisconsin,\\\n",
    "Wyoming\""
   ]
  },
  {
   "cell_type": "code",
   "execution_count": 477,
   "metadata": {},
   "outputs": [],
   "source": [
    "states = states.split(\",\")"
   ]
  },
  {
   "cell_type": "code",
   "execution_count": 478,
   "metadata": {},
   "outputs": [
    {
     "data": {
      "text/plain": [
       "['Alabama',\n",
       " 'Alaska',\n",
       " 'Arizona',\n",
       " 'Arkansas',\n",
       " 'California',\n",
       " 'Colorado',\n",
       " 'Connecticut',\n",
       " 'Delaware',\n",
       " 'Florida',\n",
       " 'Georgia',\n",
       " 'Hawaii',\n",
       " 'Idaho',\n",
       " 'Illinois',\n",
       " 'Indiana',\n",
       " 'Iowa',\n",
       " 'Kansas',\n",
       " 'Kentucky',\n",
       " 'Louisiana',\n",
       " 'Maine',\n",
       " 'Maryland',\n",
       " 'Massachusetts',\n",
       " 'Michigan',\n",
       " 'Minnesota',\n",
       " 'Mississippi',\n",
       " 'Missouri',\n",
       " 'Montana',\n",
       " 'Nebraska',\n",
       " 'Nevada',\n",
       " 'New Hampshire',\n",
       " 'New Jersey',\n",
       " 'New Mexico',\n",
       " 'New York',\n",
       " 'North Carolina',\n",
       " 'North Dakota',\n",
       " 'Ohio',\n",
       " 'Oklahoma',\n",
       " 'Oregon',\n",
       " 'Pennsylvania',\n",
       " 'Rhode Island',\n",
       " 'South Carolina',\n",
       " 'South Dakota',\n",
       " 'Tennessee',\n",
       " 'Texas',\n",
       " 'Utah',\n",
       " 'Vermont',\n",
       " 'Virginia',\n",
       " 'Washington',\n",
       " 'West Virginia',\n",
       " 'Wisconsin',\n",
       " 'Wyoming']"
      ]
     },
     "execution_count": 478,
     "metadata": {},
     "output_type": "execute_result"
    }
   ],
   "source": [
    "states"
   ]
  },
  {
   "cell_type": "markdown",
   "metadata": {},
   "source": [
    "#### Test on a page of data\n",
    "- data starts on page 12 (getPage(11))\n",
    "- split to each city, then split into data centers, clean city name and keys!"
   ]
  },
  {
   "cell_type": "markdown",
   "metadata": {},
   "source": [
    "- Function to match city names"
   ]
  },
  {
   "cell_type": "code",
   "execution_count": 888,
   "metadata": {},
   "outputs": [],
   "source": [
    "def fuzzy_search(search_key, text):\n",
    "    #print(\"Searching {}...\".format(search_key))\n",
    "    #print(\"in\", text)\n",
    "    l = len(search_key)\n",
    "    search_key = search_key.lower()\n",
    "    strictness = int(l/4) + 1\n",
    "    for pos in re.finditer(r\"[\\.,]\", text):\n",
    "        word_to_test = text[pos.start() - l: pos.start()].lower()\n",
    "        i = 0\n",
    "        diff = 0\n",
    "        while i < l:\n",
    "            if word_to_test[i] != search_key[i]:\n",
    "                diff += 1\n",
    "            i += 1\n",
    "        if diff < strictness:\n",
    "            return (pos.start() - l, pos.start())      "
   ]
  },
  {
   "cell_type": "code",
   "execution_count": 889,
   "metadata": {},
   "outputs": [
    {
     "data": {
      "text/plain": [
       "(27, 36)"
      ]
     },
     "execution_count": 889,
     "metadata": {},
     "output_type": "execute_result"
    }
   ],
   "source": [
    "#test\n",
    "text = \"DemopolisWestAl.abamaMentalDcmopolis.AL36732\"\n",
    "fuzzy_search(\"DEMOPOLIS\", text)"
   ]
  },
  {
   "cell_type": "markdown",
   "metadata": {},
   "source": [
    "- Fucntion to split words"
   ]
  },
  {
   "cell_type": "code",
   "execution_count": 985,
   "metadata": {},
   "outputs": [],
   "source": [
    "def split_cap_words(string):\n",
    "    string = re.sub(r\"([A-z()])([A-Z0-9])([a-z0-9])\", r\"\\1 \\2\\3\", string)\n",
    "    string = re.sub(r\"([0-9])([A-Za])\", r\"\\1 \\2\", string) #keep 1st, 2nd, 3rd, 4th\n",
    "    string = re.sub(r\"([A-z])([0-9])\", r\"\\1 \\2\", string)\n",
    "    string = re.sub(r\"([A-z])(of)( )\", r\"\\1 \\2\\3\", string)\n",
    "    return  string#(\\w)([A-Z])([a-z])"
   ]
  },
  {
   "cell_type": "code",
   "execution_count": 986,
   "metadata": {},
   "outputs": [
    {
     "data": {
      "text/plain": [
       "'Ltghthouse of Tallapoosa County Inc'"
      ]
     },
     "execution_count": 986,
     "metadata": {},
     "output_type": "execute_result"
    }
   ],
   "source": [
    "#test\n",
    "split_cap_words(\"Ltghthouseof Tallapoosa County Inc\")"
   ]
  },
  {
   "cell_type": "code",
   "execution_count": 987,
   "metadata": {},
   "outputs": [
    {
     "data": {
      "text/plain": [
       "'17136th Avenue South'"
      ]
     },
     "execution_count": 987,
     "metadata": {},
     "output_type": "execute_result"
    }
   ],
   "source": [
    "split_cap_words(\"17136thAvenueSouth\")"
   ]
  },
  {
   "cell_type": "code",
   "execution_count": 988,
   "metadata": {},
   "outputs": [
    {
     "data": {
      "text/plain": [
       "'17132nd Avenue South'"
      ]
     },
     "execution_count": 988,
     "metadata": {},
     "output_type": "execute_result"
    }
   ],
   "source": [
    "split_cap_words(\"17132ndAvenueSouth\")"
   ]
  },
  {
   "cell_type": "code",
   "execution_count": 989,
   "metadata": {},
   "outputs": [
    {
     "data": {
      "text/plain": [
       "'PGBHA Pinal County Hispanic Council 712 North Main Street'"
      ]
     },
     "execution_count": 989,
     "metadata": {},
     "output_type": "execute_result"
    }
   ],
   "source": [
    "split_cap_words(\"PGBHAPinalCountyHispanicCouncil712NorthMainStreet\")"
   ]
  },
  {
   "cell_type": "code",
   "execution_count": 990,
   "metadata": {},
   "outputs": [
    {
     "data": {
      "text/plain": [
       "'Community Care Network(CCN) Jewish Familyand Childrens Services 6376 West Bell Road'"
      ]
     },
     "execution_count": 990,
     "metadata": {},
     "output_type": "execute_result"
    }
   ],
   "source": [
    "split_cap_words(\"CommunityCareNetwork(CCN)JewishFamilyandChildrensServices6376WestBellRoad\")"
   ]
  },
  {
   "cell_type": "code",
   "execution_count": 991,
   "metadata": {},
   "outputs": [
    {
     "data": {
      "text/plain": [
       "'Mohave Mental Health Clinic Outpatientand Day Treatment 2135 Highway 9 S Suites 125 and 241'"
      ]
     },
     "execution_count": 991,
     "metadata": {},
     "output_type": "execute_result"
    }
   ],
   "source": [
    "split_cap_words(\"MohaveMentalHealthClinicOutpatientandDayTreatment2135Highway9SSuites125and241\")"
   ]
  },
  {
   "cell_type": "code",
   "execution_count": 992,
   "metadata": {},
   "outputs": [
    {
     "data": {
      "text/plain": [
       "'564 North Idaho Road Suite 9'"
      ]
     },
     "execution_count": 992,
     "metadata": {},
     "output_type": "execute_result"
    }
   ],
   "source": [
    "split_cap_words(\"564NorthIdahoRoadSuite9\")"
   ]
  },
  {
   "cell_type": "markdown",
   "metadata": {},
   "source": [
    "- Split data into a list containing a list of facilities in that city"
   ]
  },
  {
   "cell_type": "code",
   "execution_count": 1057,
   "metadata": {},
   "outputs": [],
   "source": [
    "def split_data(rawdata, firstcity):\n",
    "    '''\n",
    "    Roughly split data into each facility, returns list of list.\n",
    "    '''\n",
    "    \n",
    "    data = []\n",
    "    city = firstcity\n",
    "    \n",
    "    while len(rawdata) > 50:\n",
    "        temp_city = []\n",
    "        m = 1\n",
    "        \n",
    "        if rawdata[:3].isupper(): #find city name and delete from rawdata\n",
    "            #find the capitalized string\n",
    "            m = re.search(\"[A-Z]+\", rawdata).end()\n",
    "            city = rawdata[:m - 1]\n",
    "            #print(\"Trying to find city...\", city)\n",
    "            #clean state name from the city name if present\n",
    "            for state in states:\n",
    "                if state.lower() in city.lower():\n",
    "                    city = city[len(state):]\n",
    "                    rawdata = rawdata[len(state):]\n",
    "                    m = m - len(state)\n",
    "            #identify city name\n",
    "            if fuzzy_search(city, rawdata[m - 1:]) == None:\n",
    "                i = 2\n",
    "                while (i < m) and (fuzzy_search(rawdata[:i], rawdata[i:]) == None):\n",
    "                    i += 1\n",
    "                m = i + 1\n",
    "                city = rawdata[:i]\n",
    "        rawdata = rawdata[m - 1:]\n",
    "        #####\n",
    "        if fuzzy_search(city, rawdata) == None:\n",
    "            m = re.search(r\"[,\\.]\", rawdata).start()\n",
    "            \n",
    "            state = rawdata\n",
    "        a, b = fuzzy_search(city, rawdata)\n",
    "        state_clean = split_cap_words(rawdata[a:b])\n",
    "        temp_city.append(state_clean)\n",
    "        #####\n",
    "        \n",
    "        #while there is more facilities in this city (still can find city name in the string)\n",
    "        #print(\"City name:\", state_clean)\n",
    "        while fuzzy_search(city, rawdata) != None:\n",
    "            temp_facil = []\n",
    "            a, b = fuzzy_search(city, rawdata)\n",
    "            m = re.search(\"[A-Z]{2}[A-Z/][A-Z/]\", rawdata[b:]).start() #start of the keys\n",
    "            temp_facil.append(rawdata[:b+m])\n",
    "            rawdata = rawdata[b+m:]\n",
    "            temp_facil.append('')\n",
    "            j = 0\n",
    "            #append keys to the dataframe\n",
    "            while (rawdata[j:j+2].replace(\"1\", \"I\").replace(\"l\", \"I\").replace(\"0\", \"O\").replace(\"5\", \"S\")\\\n",
    "                   .replace(\"i\", \"I\") in abbr_keys) and (rawdata[j+2].replace(\"1\", \"I\").replace(\"l\", \"I\")\\\n",
    "            .replace(\"0\", \"O\").replace(\"5\", \"S\").replace(\"i\", \"I\").isupper() or rawdata[j+2] == '/'):\n",
    "                temp_facil[-1] += ' ' + \\\n",
    "                rawdata[j:j+2].replace(\"1\", \"I\").replace(\"l\", \"I\").replace(\"0\", \"O\").replace(\"5\", \"S\")\n",
    "                if rawdata[j+2] == \"/\" or rawdata[j+2] == \"J\": #\"/\" is sometimes recognized as \"J\"\n",
    "                    j += 3\n",
    "                else:\n",
    "                    j += 2\n",
    "                    \n",
    "            rawdata = rawdata[j:]\n",
    "            temp_facil[-1] = temp_facil[-1].strip()\n",
    "            temp_city.append(temp_facil)\n",
    "            #print(temp_facil)\n",
    "        print(temp_city)#####\n",
    "        data.append(temp_city)\n",
    "        i = 0\n",
    "    \n",
    "    while i < len(data):\n",
    "        city = data[i]\n",
    "        if not city[0][0].isupper():\n",
    "            init = data[i - 1][-1][-1][-2:].capitalize()\n",
    "            data[i - 1][-1][-1] = data[i - 1][-1][-1][:-3]\n",
    "            data[i][0] = init + data[i][0]\n",
    "        i += 1\n",
    "    return data"
   ]
  },
  {
   "cell_type": "code",
   "execution_count": 1022,
   "metadata": {},
   "outputs": [],
   "source": [
    "def split_center_street(cn_sa):\n",
    "    '''\n",
    "    Split a string containing center name and street address into two.\n",
    "    Inputs:\n",
    "        cn_sa(str)\n",
    "    Returns: a list of two terms\n",
    "    '''\n",
    "    \n",
    "    m = re.finditer(r\"\\d+\", cn_sa)\n",
    "    try:\n",
    "        probe = next(m)\n",
    "        span = probe.span()\n",
    "        if span[1] == len(cn_sa):\n",
    "            cn_sa = split_cap_words(cn_sa).split()\n",
    "            return[' '.join(cn_sa[:-2]), ' '.join(cn_sa[-2:])]\n",
    "        elif span[0] != 0:\n",
    "            return ([split_cap_words(cn_sa[:span[0]]), split_cap_words(cn_sa[span[0]:])])\n",
    "    except StopIteration:\n",
    "        if cn_sa[-4:] == \"Road\":\n",
    "            cn_sa = split_cap_words(cn_sa).split()\n",
    "            return[' '.join(cn_sa[:-2]), ' '.join(cn_sa[-2:])]\n",
    "    return [split_cap_words(cn_sa), '']\n",
    "\n",
    "\n",
    "def split_address(csp):\n",
    "    '''\n",
    "    Split a string containing city, state and postal code.\n",
    "    Inputs:\n",
    "        csp(str): a string containing city, state and postal code\n",
    "    Returns: a list of three items\n",
    "    '''\n",
    "    PASS"
   ]
  },
  {
   "cell_type": "code",
   "execution_count": 924,
   "metadata": {},
   "outputs": [
    {
     "data": {
      "text/plain": [
       "['SMMHC Inc Mental Health Ctr/Subst Abuse Services',\n",
       " '564 North Idaho Road Suite 9']"
      ]
     },
     "execution_count": 924,
     "metadata": {},
     "output_type": "execute_result"
    }
   ],
   "source": [
    "cn_sa = \"SMMHCIncMentalHealthCtr/SubstAbuseServices564NorthIdahoRoadSuite9\"\n",
    "split_center_street(cn_sa)"
   ]
  },
  {
   "cell_type": "code",
   "execution_count": 925,
   "metadata": {},
   "outputs": [
    {
     "data": {
      "text/plain": [
       "['Fort McDowell Indian Community Familyand Community Services', 'Yavapai Road']"
      ]
     },
     "execution_count": 925,
     "metadata": {},
     "output_type": "execute_result"
    }
   ],
   "source": [
    "cn_sa = \"FortMcDowellIndianCommunityFamilyandCommunityServicesYavapaiRoad\"\n",
    "split_center_street(cn_sa)"
   ]
  },
  {
   "cell_type": "code",
   "execution_count": 926,
   "metadata": {},
   "outputs": [
    {
     "data": {
      "text/plain": [
       "['Ventress Correctional Facility Substance Abuse Services State', 'Road 239']"
      ]
     },
     "execution_count": 926,
     "metadata": {},
     "output_type": "execute_result"
    }
   ],
   "source": [
    "cn_sa = \"VentressCorrectionalFacilitySubstanceAbuseServicesStateRoad239\"\n",
    "split_center_street(cn_sa)"
   ]
  },
  {
   "cell_type": "code",
   "execution_count": 1038,
   "metadata": {},
   "outputs": [],
   "source": [
    "def write_data(writer, data, year, pagen):\n",
    "    '''\n",
    "    Write data to csv\n",
    "    '''\n",
    "    for city in data:\n",
    "        cityname = city[0]\n",
    "        lencn = len(cityname.replace(' ', ''))\n",
    "        for facil in city[1:]:\n",
    "            data_holder = [year, pagen]\n",
    "            keys = facil[1]\n",
    "            facil = facil[0]\n",
    "            #Center name\n",
    "            if \",\" in facil:\n",
    "                center_name_city, address = facil.split(\",\")\n",
    "            else:\n",
    "                center_name_city, address = facil.split(\".\")\n",
    "            #City\n",
    "            data_holder += split_center_street(center_name_city[:-lencn])\n",
    "            #State\n",
    "            data_holder.append(cityname)\n",
    "            data_holder.append(address[:2])\n",
    "            #Postal code, Phone\n",
    "            if address[7] == \"-\":\n",
    "                data_holder.append(address[2:12].replace(\"O\", \"0\").replace(\"S\", \"5\"))\n",
    "                data_holder.append(address[12:].replace(\"O\", \"0\").replace(\"S\", \"5\"))\n",
    "            else:\n",
    "                data_holder.append(address[2:7].replace(\"O\", \"0\").replace(\"S\", \"5\"))\n",
    "                data_holder.append(address[7:].replace(\"O\", \"0\").replace(\"S\", \"5\"))\n",
    "            #Keys\n",
    "            data_holder.append(keys)\n",
    "            print(data_holder)\n",
    "            writer.writerow(data_holder)\n",
    "    print(\"Finished page {}\".format(pagen))\n",
    "    return data_holder[4]"
   ]
  },
  {
   "cell_type": "code",
   "execution_count": 1118,
   "metadata": {},
   "outputs": [],
   "source": [
    "def run(year, start_page, end_page = 0):\n",
    "\n",
    "    #read file\n",
    "    dir_filename = '{0}/directory_{0}.pdf'.format(year)\n",
    "    pdfFileObj = open(dir_filename, 'rb')\n",
    "    pdfReader = PyPDF2.PdfFileReader(pdfFileObj)\n",
    "    \n",
    "    #pages to scrape\n",
    "    if end_page == 0:\n",
    "        end_page = pdfReader.numPages - 1\n",
    "\n",
    "    save_as_filename = '{0}/{0}.csv'.format(year)\n",
    "    if os.path.isfile(save_as_filename):\n",
    "        with open(save_as_filename, 'a', newline='') as file:\n",
    "            writer = csv.writer(file)\n",
    "    else:\n",
    "        with open(save_as_filename, 'w', newline='') as file:\n",
    "            writer = csv.writer(file)\n",
    "            writer.writerow([\"Year\", \"Page\", \"Center_name\", \"Street_address\", \"City\", \\\n",
    "                             \"State\", \"Postal_code\", \"Phone\", \"Keys\"])\n",
    "    #scrape\n",
    "    firstcity = \"Gridley\"\n",
    "    for pagen in range(start_page, end_page + 1):\n",
    "        #print(pagen)\n",
    "        rawdata = pdfReader.getPage(pagen - 1).extractText()\n",
    "        \n",
    "        data = split_data(rawdata, firstcity)\n",
    "        \n",
    "        with open(save_as_filename, 'a', newline='') as file:\n",
    "            writer = csv.writer(file)\n",
    "            firstcity = write_data(writer, data, year, pagen)"
   ]
  },
  {
   "cell_type": "code",
   "execution_count": 1119,
   "metadata": {
    "scrolled": true
   },
   "outputs": [
    {
     "name": "stdout",
     "output_type": "stream",
     "text": [
      "['Gridley', ['HARBORCITYHEMETButteCountyBehavioralHealthGridleyFamilyCounselingCenter995SpruceStreetGridley,CA95948(530)891-2984Hotlines:(800)371-4373(800)334-6622', 'TX OS OR AD DD CM']]\n",
      "['Grover Beach', ['CasaSolana383South13thStreetGroverBeach,CA93433(805)481-8555', 'TX PV RR SS FG']]\n",
      "['Hanford', ['AlcoholandDrugEducationandCounselingCenter289East8thStreetHanford,CA93230(S59)582-4481', 'TX PV OS OR AD SS CJ PI'], ['CornerstoneCommAlc/DrugRecSystemsCornerstoneMensRecovery801-805West7thStreetHanford,CA93230(559)583-2033Hotline:(559)583-2034', 'TX OS DT RD RR SS'], ['CornerstoneRecoverySystemsWomensProgram817West7thStreetHanford,CA93230(559)583-2030Hotline:(559)583-2031', 'TX OS DT IO RD RR PW SS']]\n",
      "['Happy Camp', ['RiverofWellnessandRecoveryofTheKarukTribalHealthProgram642362ndAvenueHappyCamp,CA96039(530)842-9200x00019', 'TX PV OS OR SS']]\n"
     ]
    },
    {
     "ename": "TypeError",
     "evalue": "cannot unpack non-iterable NoneType object",
     "output_type": "error",
     "traceback": [
      "\u001b[0;31m---------------------------------------------------------------------------\u001b[0m",
      "\u001b[0;31mTypeError\u001b[0m                                 Traceback (most recent call last)",
      "\u001b[0;32m<ipython-input-1119-df87f11259eb>\u001b[0m in \u001b[0;36m<module>\u001b[0;34m\u001b[0m\n\u001b[0;32m----> 1\u001b[0;31m \u001b[0mrun\u001b[0m\u001b[0;34m(\u001b[0m\u001b[0;36m1998\u001b[0m\u001b[0;34m,\u001b[0m \u001b[0;36m42\u001b[0m\u001b[0;34m,\u001b[0m \u001b[0;36m561\u001b[0m\u001b[0;34m)\u001b[0m \u001b[0;31m#12 15 24 25 31 32 33 34 35 42\u001b[0m\u001b[0;34m\u001b[0m\u001b[0;34m\u001b[0m\u001b[0m\n\u001b[0m",
      "\u001b[0;32m<ipython-input-1118-cea2793d413d>\u001b[0m in \u001b[0;36mrun\u001b[0;34m(year, start_page, end_page)\u001b[0m\n\u001b[1;32m     25\u001b[0m         \u001b[0mrawdata\u001b[0m \u001b[0;34m=\u001b[0m \u001b[0mpdfReader\u001b[0m\u001b[0;34m.\u001b[0m\u001b[0mgetPage\u001b[0m\u001b[0;34m(\u001b[0m\u001b[0mpagen\u001b[0m \u001b[0;34m-\u001b[0m \u001b[0;36m1\u001b[0m\u001b[0;34m)\u001b[0m\u001b[0;34m.\u001b[0m\u001b[0mextractText\u001b[0m\u001b[0;34m(\u001b[0m\u001b[0;34m)\u001b[0m\u001b[0;34m\u001b[0m\u001b[0;34m\u001b[0m\u001b[0m\n\u001b[1;32m     26\u001b[0m \u001b[0;34m\u001b[0m\u001b[0m\n\u001b[0;32m---> 27\u001b[0;31m         \u001b[0mdata\u001b[0m \u001b[0;34m=\u001b[0m \u001b[0msplit_data\u001b[0m\u001b[0;34m(\u001b[0m\u001b[0mrawdata\u001b[0m\u001b[0;34m,\u001b[0m \u001b[0mfirstcity\u001b[0m\u001b[0;34m)\u001b[0m\u001b[0;34m\u001b[0m\u001b[0;34m\u001b[0m\u001b[0m\n\u001b[0m\u001b[1;32m     28\u001b[0m \u001b[0;34m\u001b[0m\u001b[0m\n\u001b[1;32m     29\u001b[0m         \u001b[0;32mwith\u001b[0m \u001b[0mopen\u001b[0m\u001b[0;34m(\u001b[0m\u001b[0msave_as_filename\u001b[0m\u001b[0;34m,\u001b[0m \u001b[0;34m'a'\u001b[0m\u001b[0;34m,\u001b[0m \u001b[0mnewline\u001b[0m\u001b[0;34m=\u001b[0m\u001b[0;34m''\u001b[0m\u001b[0;34m)\u001b[0m \u001b[0;32mas\u001b[0m \u001b[0mfile\u001b[0m\u001b[0;34m:\u001b[0m\u001b[0;34m\u001b[0m\u001b[0;34m\u001b[0m\u001b[0m\n",
      "\u001b[0;32m<ipython-input-1057-41463eb7eb3b>\u001b[0m in \u001b[0;36msplit_data\u001b[0;34m(rawdata, firstcity)\u001b[0m\n\u001b[1;32m     30\u001b[0m                 \u001b[0mcity\u001b[0m \u001b[0;34m=\u001b[0m \u001b[0mrawdata\u001b[0m\u001b[0;34m[\u001b[0m\u001b[0;34m:\u001b[0m\u001b[0mi\u001b[0m\u001b[0;34m]\u001b[0m\u001b[0;34m\u001b[0m\u001b[0;34m\u001b[0m\u001b[0m\n\u001b[1;32m     31\u001b[0m         \u001b[0mrawdata\u001b[0m \u001b[0;34m=\u001b[0m \u001b[0mrawdata\u001b[0m\u001b[0;34m[\u001b[0m\u001b[0mm\u001b[0m \u001b[0;34m-\u001b[0m \u001b[0;36m1\u001b[0m\u001b[0;34m:\u001b[0m\u001b[0;34m]\u001b[0m\u001b[0;34m\u001b[0m\u001b[0;34m\u001b[0m\u001b[0m\n\u001b[0;32m---> 32\u001b[0;31m         \u001b[0ma\u001b[0m\u001b[0;34m,\u001b[0m \u001b[0mb\u001b[0m \u001b[0;34m=\u001b[0m \u001b[0mfuzzy_search\u001b[0m\u001b[0;34m(\u001b[0m\u001b[0mcity\u001b[0m\u001b[0;34m,\u001b[0m \u001b[0mrawdata\u001b[0m\u001b[0;34m)\u001b[0m\u001b[0;34m\u001b[0m\u001b[0;34m\u001b[0m\u001b[0m\n\u001b[0m\u001b[1;32m     33\u001b[0m         \u001b[0mstate_clean\u001b[0m \u001b[0;34m=\u001b[0m \u001b[0msplit_cap_words\u001b[0m\u001b[0;34m(\u001b[0m\u001b[0mrawdata\u001b[0m\u001b[0;34m[\u001b[0m\u001b[0ma\u001b[0m\u001b[0;34m:\u001b[0m\u001b[0mb\u001b[0m\u001b[0;34m]\u001b[0m\u001b[0;34m)\u001b[0m\u001b[0;34m\u001b[0m\u001b[0;34m\u001b[0m\u001b[0m\n\u001b[1;32m     34\u001b[0m         \u001b[0mtemp_city\u001b[0m\u001b[0;34m.\u001b[0m\u001b[0mappend\u001b[0m\u001b[0;34m(\u001b[0m\u001b[0mstate_clean\u001b[0m\u001b[0;34m)\u001b[0m\u001b[0;34m\u001b[0m\u001b[0;34m\u001b[0m\u001b[0m\n",
      "\u001b[0;31mTypeError\u001b[0m: cannot unpack non-iterable NoneType object"
     ]
    }
   ],
   "source": [
    "run(1998, 42, 561) #12 15 24 25 31 32 33 34 35 42"
   ]
  },
  {
   "cell_type": "code",
   "execution_count": 1120,
   "metadata": {},
   "outputs": [
    {
     "data": {
      "text/plain": [
       "'GRIDLEYHARBORCITYHEMETButteCountyBehavioralHealthGridleyFamilyCounselingCenter995SpruceStreetGridley,CA95948(530)891-2984Hotlines:(800)371-4373(800)334-6622TXOS/OR/ADDD/CMGROVERBEACHCasaSolana383South13thStreetGroverBeach,CA93433(805)481-8555TXPV/RR/SS/FGHANFORDAlcoholandDrugEducationandCounselingCenter289East8thStreetHanford,CA93230(S59)582-4481TXPVOS/OR/AD/SSCJ/PICornerstoneCommAlc/DrugRecSystemsCornerstoneMensRecovery801-805West7thStreetHanford,CA93230(559)583-2033Hotline:(559)583-2034TXOSDT/RDRR/SSCornerstoneRecoverySystemsWomensProgram817West7thStreetHanford,CA93230(559)583-2030Hotline:(559)583-2031TXOSDT/IORDRR/PW/SSHAPPYCAMPRiverofWellnessandRecoveryofTheKarukTribalHealthProgram642362ndAvenueHappyCamp,CA96039(530)842-9200x00019TXPVOS/OR/SSWesternHealthHarborCityClinic1647WestAnaheimStreetHarborCity,CA90710-3213(310)534-5590TXMLPVOSDT/ODORIO/DDPW/SSSG/MDPIHAWTHORNEBehavioralHealthServicesPacificaHouse2501WestElSegundoBoulevardHawthorne,CA90250(323)754-2816TXOS/RR/DDPW/SSTC/FGPIBehavioralHealthServicesPatterns12917CeriseAvenueHawthorne,CA90250(310)675-4431TXOS/RR/DDPW/SSHAYWARDHorizonServicesCroninHouse2595DepotRoadHayward,CA94545(510)784-5883TX/RR/DDHVPW/SSSecondChanceHaywardCommunityCenter22297MissionBoulevardHayward,CA94541(510)886-8696Hotline:(510)792-4357TXPVOS/OR/ADDD/SS/MCFGSuccessfulAlternativesforAddictionandCounselingServices409JacksonStreetSuite201Hayward,CA94544(510)247-8300TXMLPVOS/IO/DD/SSCH/MCPITerraFirmaDiversion/EducationServs26785MissionBoulevardHayward,CA94544(510)537-8118TXPVOS/OR/AD/SSDoubleCheckRetreat47552EastFloridaAvenueHemet,CA92544(909)927-2567Hotlines:(909)927-2567(909)927-5967TXPVOS/RR/SSTCIAmNewLifeMinistries38400SanIgnacioRoadHemet,CA92543(909)767-2575TXOS/RR/SSKoalacarcofCaliforniaAceProgram413EastLathamAvenueSuite108Hemet,CA92543(909)929-4462TX/ORRiversideCountySubstanceAbuseProgHornet1005NorthStateStreetHcmct,CA92S43(909)765-1551Hotline:(800)499-3008TXPVOS/OR10/ADDDHVPW/SSCM/MDRiversideRecoveryResourcesFirstStepHouse40329StetsonAvenueHemet,CA92544(909)658-4466Hotline:(800)801-4673TXPVOSDT/RDRR/SSRiversideRecoveryResourcesOurHouse41040AcaciaAvenueHemet,CA92544(909)766-7969Hotline:(800)801-4673TXPVOS/RR/PW/SSSunRayAddictions980NorthStateStreetSuite2Hemet,CA92543(909)652-3560TXOS/OR/SSForCodeDefinitionsŠSeeKEYonpagev.31CALIFORNIA'"
      ]
     },
     "execution_count": 1120,
     "metadata": {},
     "output_type": "execute_result"
    }
   ],
   "source": [
    "pagen = 42\n",
    "rawdata = pdfReader.getPage(pagen - 1).extractText()\n",
    "rawdata"
   ]
  },
  {
   "cell_type": "code",
   "execution_count": null,
   "metadata": {},
   "outputs": [],
   "source": [
    "rawdata = 'GARDENA\n",
    "GILROYGOLETABehavioralHealthServicesOmniIS519CrenshawBoulevardGardena,CA90249(310)679-9031TXMLOSDT/ODOR/HVPW/SS/MDSpecialServicesforGroupsPacificAsianAlcoholandDrugProgram14112SouthKingslcyDriveGardena,CA90247(310)327-7501TXPV/ORIO/DDPW/SS\n",
    "GARDENGROVE\n",
    "CAHispanicCommissionAlc/DrugAbuseUnidosRecoveryHome9842West13thStreetSuiteBGardenGrove,CA92844(714)531-4624TXPVOSDT/RDRR/DDHV/SSRoqucCenterResidential9842West13thStreetSuiteAGardenGrove,CA92844(714)839-0607Hotlines:(714)839-0608(714)839-0609TXPVOS/RR/SS\n",
    "GARDENVALLEY\n",
    "ProgressHouseII5607MountMurphyRoadGardenValley,CA95633(916)333-9460Hotlines:(530)333-9460(888)S44-0900TXOS/RR/PW/SSTC/MDFGPI\n",
    "GEORGETOWNElDoradoCouncilonAlcoholismLifeskills/DivideWellnessCenter606SHighway193Georgetown,CA95634(530)622-8193Hotline:(530)333-1917x0002TXPVOSDT/ODORIO/ADDDHV/SSCM/MCMDFGPl\n",
    "GLENDALE\n",
    "GlendaleMemorialHospital/HealthCtrAlphaRecoveryCenter1330SouthGlendaleAvenueGlendale,CA9120S(818)502-2300Hotlines:(818)502-2300(800)300-8040TXOSDT/ODORIOID/DD/SSGHCM/MCPI\n",
    "NewInsightsSpecializedTreatmentforSubstAbuse431NorthBrandBoulevardSuite304Glendale,CA91203(818)242-2308TXPVOS/IO/SSRightOnPrograms522EastBroadwayStreetSuite101Glendale,CA91205(818)240-1683TXPVOS/OR/CJVerdugoMentalHealthCenterPositiveDirectionsComCounselingCtr225-DNorthMarylandAvenueGlendale,CA91206(818)247-8180TXPVOS/OR/SSCMVerdugoMentalHealthCenterSubstanceAbuseProgram1540EastColoradoStreetGlendale,CA91205-IS14(818)244-7257TXOS/OR/DDHV/SSCM\n",
    "GLENDORA\n",
    "ProjectInfoCommunityServicesIncIS05SouthSunflowerAvenueGlendora,CA91740(626)335-8153TXPVOS/OR/ADPW/SC\n",
    "GILROY\n",
    "CommunitySolutions8475ForestStreetGilroy,CA95020(408)842-7138Hotline:(800)488-9919TXPVOS/OR/ADDDHV/SSCMCOCJ/PI\n",
    "GOLETA\n",
    "AegisMedicalSystems5710HollisterAvenueGolcta,CA93117(805)681-7242TXMLOSDT/ODOR/SS/FG\n",
    "IslaVistaHealthProjectsIslaVistaMedicalClinic970EmbarcaderoDelMarGoleta,CA93117(805)968-1511x110TXDT/ODOR/PW/CH/MD\n",
    "GRANDTERRACE\n",
    "DrugAlternativeProgram11810KingstonStreetGrandTerrace,CA92313(909)783-1094Hotlines:(909)783-1094(800)784-1094TX/RR/SS\n",
    "GRASSVALLEY\n",
    "NevadaCountyCouncilonAlcoholismNVCntySubAbuseTrtandRecProg440HendersonStreetSuiteCGrassValley,CA959450(530)273-9541Hotline:(530)273-9541TXPVOS/ORIO/AD/SS\n",
    "TeamIIIFamilyCounselingCenter256BuenaVistaDriveSuite210GrassValley,CA95945(530)477-7025TXPVOS/OR/CM/MDPI\n",
    "GREENBRAERossHospitalChemicalDependencyServicesIIIISirFrancisDrakeBoulevardGrecnbrae,CA94904(415)258-6960Hotline:(800)767-7677TXOSDT/ORIOIDIR/DDHV/SSPHOHCM/PICALIFORNIA30ForCodeDefinitions-SeeKEYonpagev.'"
   ]
  },
  {
   "cell_type": "code",
   "execution_count": 1115,
   "metadata": {},
   "outputs": [],
   "source": [
    "rawdata = 'GARDENAGILROYGOLETABehavioralHealthServicesOmniIS519CrenshawBoulevardGardena,CA90249(310)679-9031TXMLOSDT/ODOR/HVPW/SS/MDSpecialServicesforGroupsPacificAsianAlcoholandDrugProgram14112SouthKingslcyDriveGardena,CA90247(310)327-7501TXPV/ORIO/DDPW/SSGARDENGROVECAHispanicCommissionAlc/DrugAbuseUnidosRecoveryHome9842West13thStreetSuiteBGardenGrove,CA92844(714)531-4624TXPVOSDT/RDRR/DDHV/SSRoqucCenterResidential9842West13thStreetSuiteAGardenGrove,CA92844(714)839-0607Hotlines:(714)839-0608(714)839-0609TXPVOS/RR/SSGARDENVALLEYProgressHouseII5607MountMurphyRoadGardenValley,CA95633(916)333-9460Hotlines:(530)333-9460(888)S44-0900TXOS/RR/PW/SSTC/MDFGPIGEORGETOWNElDoradoCouncilonAlcoholismLifeskills/DivideWellnessCenter606SHighway193Georgetown,CA95634(530)622-8193Hotline:(530)333-1917x0002TXPVOSDT/ODORIO/ADDDHV/SSCM/MCMDFGPlGLENDALEGlendaleMemorialHospital/HealthCtrAlphaRecoveryCenter1330SouthGlendaleAvenueGlendale,CA9120S(818)502-2300Hotlines:(818)502-2300(800)300-8040TXOSDT/ODORIOID/DD/SSGHCM/MCPINewInsightsSpecializedTreatmentforSubstAbuse431NorthBrandBoulevardSuite304Glendale,CA91203(818)242-2308TXPVOS/IO/SSRightOnPrograms522EastBroadwayStreetSuite101Glendale,CA91205(818)240-1683TXPVOS/OR/CJVerdugoMentalHealthCenterPositiveDirectionsComCounselingCtr225-DNorthMarylandAvenueGlendale,CA91206(818)247-8180TXPVOS/OR/SSCMVerdugoMentalHealthCenterSubstanceAbuseProgram1540EastColoradoStreetGlendale,CA91205-IS14(818)244-7257TXOS/OR/DDHV/SSCMGLENDORAProjectInfoCommunityServicesIncIS05SouthSunflowerAvenueGlendora,CA91740(626)335-8153TXPVOS/OR/ADPW/SCGILROYCommunitySolutions8475ForestStreetGilroy,CA95020(408)842-7138Hotline:(800)488-9919TXPVOS/OR/ADDDHV/SSCMCOCJ/PIGOLETAAegisMedicalSystems5710HollisterAvenueGolcta,CA93117(805)681-7242TXMLOSDT/ODOR/SS/FGIslaVistaHealthProjectsIslaVistaMedicalClinic970EmbarcaderoDelMarGoleta,CA93117(805)968-1511x110TXDT/ODOR/PW/CH/MDGRANDTERRACEDrugAlternativeProgram11810KingstonStreetGrandTerrace,CA92313(909)783-1094Hotlines:(909)783-1094(800)784-1094TX/RR/SSGRASSVALLEYNevadaCountyCouncilonAlcoholismNVCntySubAbuseTrtandRecProg440HendersonStreetSuiteCGrassValley,CA959450(530)273-9541Hotline:(530)273-9541TXPVOS/ORIO/AD/SSTeamIIIFamilyCounselingCenter256BuenaVistaDriveSuite210GrassValley,CA95945(530)477-7025TXPVOS/OR/CM/MDPIGREENBRAERossHospitalChemicalDependencyServicesIIIISirFrancisDrakeBoulevardGrecnbrae,CA94904(415)258-6960Hotline:(800)767-7677TXOSDT/ORIOIDIR/DDHV/SSPHOHCM/PICALIFORNIA30ForCodeDefinitions-SeeKEYonpagev.'"
   ]
  },
  {
   "cell_type": "code",
   "execution_count": 1116,
   "metadata": {},
   "outputs": [
    {
     "name": "stdout",
     "output_type": "stream",
     "text": [
      "['Gardena', ['GILROYGOLETABehavioralHealthServicesOmniIS519CrenshawBoulevardGardena,CA90249(310)679-9031', 'TX ML OS DT OD OR HV PW SS MD'], ['SpecialServicesforGroupsPacificAsianAlcoholandDrugProgram14112SouthKingslcyDriveGardena,CA90247(310)327-7501', 'TX PV OR IO DD PW SS']]\n",
      "['Garden Grove', ['CAHispanicCommissionAlc/DrugAbuseUnidosRecoveryHome9842West13thStreetSuiteBGardenGrove,CA92844(714)531-4624', 'TX PV OS DT RD RR DD HV SS'], ['RoqucCenterResidential9842West13thStreetSuiteAGardenGrove,CA92844(714)839-0607Hotlines:(714)839-0608(714)839-0609', 'TX PV OS RR SS']]\n",
      "['Garden Valley', ['ProgressHouseII5607MountMurphyRoadGardenValley,CA95633(916)333-9460Hotlines:(530)333-9460(888)S44-0900', 'TX OS RR PW SS TC MD FG PI']]\n",
      "['Georgetown', ['ElDoradoCouncilonAlcoholismLifeskills/DivideWellnessCenter606SHighway193Georgetown,CA95634(530)622-8193Hotline:(530)333-1917x0002', 'TX PV OS DT OD OR IO AD DD HV SS CM MC MD FG PI']]\n",
      "['Glendale', ['GlendaleMemorialHospital/HealthCtrAlphaRecoveryCenter1330SouthGlendaleAvenueGlendale,CA9120S(818)502-2300Hotlines:(818)502-2300(800)300-8040', 'TX OS DT OD OR IO ID DD SS GH CM MC PI'], ['NewInsightsSpecializedTreatmentforSubstAbuse431NorthBrandBoulevardSuite304Glendale,CA91203(818)242-2308', 'TX PV OS IO SS'], ['RightOnPrograms522EastBroadwayStreetSuite101Glendale,CA91205(818)240-1683', 'TX PV OS OR CJ'], ['VerdugoMentalHealthCenterPositiveDirectionsComCounselingCtr225-DNorthMarylandAvenueGlendale,CA91206(818)247-8180', 'TX PV OS OR SS CM'], ['VerdugoMentalHealthCenterSubstanceAbuseProgram1540EastColoradoStreetGlendale,CA91205-IS14(818)244-7257', 'TX OS OR DD HV SS CM']]\n",
      "['Glendora', ['ProjectInfoCommunityServicesIncIS05SouthSunflowerAvenueGlendora,CA91740(626)335-8153', 'TX PV OS OR AD PW SC']]\n",
      "['Gilroy', ['CommunitySolutions8475ForestStreetGilroy,CA95020(408)842-7138Hotline:(800)488-9919', 'TX PV OS OR AD DD HV SS CM CO CJ PI']]\n",
      "['Golcta', ['AegisMedicalSystems5710HollisterAvenueGolcta,CA93117(805)681-7242', 'TX ML OS DT OD OR SS FG'], ['IslaVistaHealthProjectsIslaVistaMedicalClinic970EmbarcaderoDelMarGoleta,CA93117(805)968-1511x110', 'TX DT OD OR PW CH MD']]\n",
      "['Grand Terrace', ['DrugAlternativeProgram11810KingstonStreetGrandTerrace,CA92313(909)783-1094Hotlines:(909)783-1094(800)784-1094', 'TX RR SS']]\n",
      "['Grass Valley', ['NevadaCountyCouncilonAlcoholismNVCntySubAbuseTrtandRecProg440HendersonStreetSuiteCGrassValley,CA959450(530)273-9541Hotline:(530)273-9541', 'TX PV OS OR IO AD SS'], ['TeamIIIFamilyCounselingCenter256BuenaVistaDriveSuite210GrassValley,CA95945(530)477-7025', 'TX PV OS OR CM MD PI']]\n",
      "['Grecnbrae', ['RossHospitalChemicalDependencyServicesIIIISirFrancisDrakeBoulevardGrecnbrae,CA94904(415)258-6960Hotline:(800)767-7677', 'TX OS DT OR IO ID IR DD HV SS PH OH CM PI']]\n"
     ]
    },
    {
     "data": {
      "text/plain": [
       "[['Gardena',\n",
       "  ['GILROYGOLETABehavioralHealthServicesOmniIS519CrenshawBoulevardGardena,CA90249(310)679-9031',\n",
       "   'TX ML OS DT OD OR HV PW SS MD'],\n",
       "  ['SpecialServicesforGroupsPacificAsianAlcoholandDrugProgram14112SouthKingslcyDriveGardena,CA90247(310)327-7501',\n",
       "   'TX PV OR IO DD PW SS']],\n",
       " ['Garden Grove',\n",
       "  ['CAHispanicCommissionAlc/DrugAbuseUnidosRecoveryHome9842West13thStreetSuiteBGardenGrove,CA92844(714)531-4624',\n",
       "   'TX PV OS DT RD RR DD HV SS'],\n",
       "  ['RoqucCenterResidential9842West13thStreetSuiteAGardenGrove,CA92844(714)839-0607Hotlines:(714)839-0608(714)839-0609',\n",
       "   'TX PV OS RR SS']],\n",
       " ['Garden Valley',\n",
       "  ['ProgressHouseII5607MountMurphyRoadGardenValley,CA95633(916)333-9460Hotlines:(530)333-9460(888)S44-0900',\n",
       "   'TX OS RR PW SS TC MD FG PI']],\n",
       " ['Georgetown',\n",
       "  ['ElDoradoCouncilonAlcoholismLifeskills/DivideWellnessCenter606SHighway193Georgetown,CA95634(530)622-8193Hotline:(530)333-1917x0002',\n",
       "   'TX PV OS DT OD OR IO AD DD HV SS CM MC MD FG PI']],\n",
       " ['Glendale',\n",
       "  ['GlendaleMemorialHospital/HealthCtrAlphaRecoveryCenter1330SouthGlendaleAvenueGlendale,CA9120S(818)502-2300Hotlines:(818)502-2300(800)300-8040',\n",
       "   'TX OS DT OD OR IO ID DD SS GH CM MC PI'],\n",
       "  ['NewInsightsSpecializedTreatmentforSubstAbuse431NorthBrandBoulevardSuite304Glendale,CA91203(818)242-2308',\n",
       "   'TX PV OS IO SS'],\n",
       "  ['RightOnPrograms522EastBroadwayStreetSuite101Glendale,CA91205(818)240-1683',\n",
       "   'TX PV OS OR CJ'],\n",
       "  ['VerdugoMentalHealthCenterPositiveDirectionsComCounselingCtr225-DNorthMarylandAvenueGlendale,CA91206(818)247-8180',\n",
       "   'TX PV OS OR SS CM'],\n",
       "  ['VerdugoMentalHealthCenterSubstanceAbuseProgram1540EastColoradoStreetGlendale,CA91205-IS14(818)244-7257',\n",
       "   'TX OS OR DD HV SS CM']],\n",
       " ['Glendora',\n",
       "  ['ProjectInfoCommunityServicesIncIS05SouthSunflowerAvenueGlendora,CA91740(626)335-8153',\n",
       "   'TX PV OS OR AD PW SC']],\n",
       " ['Gilroy',\n",
       "  ['CommunitySolutions8475ForestStreetGilroy,CA95020(408)842-7138Hotline:(800)488-9919',\n",
       "   'TX PV OS OR AD DD HV SS CM CO CJ PI']],\n",
       " ['Golcta',\n",
       "  ['AegisMedicalSystems5710HollisterAvenueGolcta,CA93117(805)681-7242',\n",
       "   'TX ML OS DT OD OR SS FG'],\n",
       "  ['IslaVistaHealthProjectsIslaVistaMedicalClinic970EmbarcaderoDelMarGoleta,CA93117(805)968-1511x110',\n",
       "   'TX DT OD OR PW CH MD']],\n",
       " ['Grand Terrace',\n",
       "  ['DrugAlternativeProgram11810KingstonStreetGrandTerrace,CA92313(909)783-1094Hotlines:(909)783-1094(800)784-1094',\n",
       "   'TX RR SS']],\n",
       " ['Grass Valley',\n",
       "  ['NevadaCountyCouncilonAlcoholismNVCntySubAbuseTrtandRecProg440HendersonStreetSuiteCGrassValley,CA959450(530)273-9541Hotline:(530)273-9541',\n",
       "   'TX PV OS OR IO AD SS'],\n",
       "  ['TeamIIIFamilyCounselingCenter256BuenaVistaDriveSuite210GrassValley,CA95945(530)477-7025',\n",
       "   'TX PV OS OR CM MD PI']],\n",
       " ['Grecnbrae',\n",
       "  ['RossHospitalChemicalDependencyServicesIIIISirFrancisDrakeBoulevardGrecnbrae,CA94904(415)258-6960Hotline:(800)767-7677',\n",
       "   'TX OS DT OR IO ID IR DD HV SS PH OH CM PI']]]"
      ]
     },
     "execution_count": 1116,
     "metadata": {},
     "output_type": "execute_result"
    }
   ],
   "source": [
    "data = split_data(rawdata, \"Coloma\")\n",
    "data"
   ]
  },
  {
   "cell_type": "code",
   "execution_count": 1109,
   "metadata": {},
   "outputs": [],
   "source": [
    "data = [['Coloma',\n",
    "  ['ProgressHouseIncorporatedMensFacility838BeachCourtRoadColoma,CA95613(530)626-7252',\n",
    "   'TX OS RR DD SS TC FG PI']],\n",
    " ['Colton',\n",
    "  ['WesternClinicalHealthServsWCHSInlandHealthServicesIHS/Colton2275EastCooleyDriveColton,CA92324-6324(909)370-1777',\n",
    "   'TX ML OS DT OD OR SS MD CO']],\n",
    " ['Colusa',\n",
    "  ['LUSAColusaCountyBehavioralHealthServices85EastWebsterStreetColusa,CA95932(530)458-0520','TX PV OS OR IO AD SS']],\n",
    " ['Compton',\n",
    "  ['COMPTONCityofComptonSpecialServicesCenter404NorthAlamedaStreetCompton,CA90221(310)605-5693',\n",
    "   'TX PV OS DT OD OR IO AD PW SS OH CJ'],\n",
    "  ['GetOffDrugsTreatmentCenterWomensHome1416SouthTamarindStreetCompton,CA90220(310)635-9740',\n",
    "   'TX PV OS DT RD RR HV SS TC'],\n",
    "  ['KaziHouseResidentialDrugProgram930WestComptonBoulevardCompton,CA90220(310)639-6393',\n",
    "   'TX OS RR DD HV PW SS TC'],\n",
    "  ['King/DrewSubstanceAbuseTrtProgram3221NorthAlamedaStreetBuilding4SuiteJCompton,CA90222(310)631-5992',\n",
    "   'TX PV OS OR IO SS'],\n",
    "  ['MiniTwelveStepHouseTheSolutionDropInCenter200NorthLongBeachBoulevardCompton,CA90221(310)608-1505Hotline:(800)262-2463',\n",
    "   'TX PV OS OR IO SS CJ'],\n",
    "  ['ShieldsforFamiliesExodus1500EastKayStreetCompton,CA90221(310)603-2654',\n",
    "   'TX OS IO RR HV PW SS MD']],\n",
    " ['Concord',\n",
    "  ['AffordableDetox2481PachecoStreetConcord,CA94520-2019(925)680-8933',\n",
    "   'PV DT OD OR SS SG'],\n",
    "  ['BiBettCorporationFredericOzanamCenter2931ProspectStreetConcord,CA94518(925)676-4840',\n",
    "   'TX RR SS FG'],\n",
    "  ['BiBettCorporationShcnnumCenter2090CommerceAvenueConcord,CA94520(925)676-2580',\n",
    "   'TX PV OS DT RD SS'],\n",
    "  ['MountDiabloMedicalPavilionCenterforRecovery2740GrantStreetConcord,CA94520(925)674-4160',\n",
    "   'TX PV OS DT OD OR IO ID IR DD PH'],\n",
    "  ['NewConnectionsTheKellerHouse1760ClaytonRoadConcord,CA94520(925)676-1601x30Hotlines:(800)846-1652(925)472-0999',\n",
    "   'TX PV OS OR AD DD HV SS PI'],\n",
    "  ['NewLeafTreatmentCenter2151SalvioStreetSuiteTConcord,CA94520-2458(925)688-0500Hotline:(800)846-1652',\n",
    "   'TX PV OS DT OD OR IO DD SS MC MD PI'],\n",
    "  ['RecoveryManagementServicesCrossroadsRecoveryCenterII2480PachecoStreetConcord,CA94520(925)682-5704',\n",
    "   'TX OS RR DD SS'],\n",
    "  ['RecoveryManagementServicesCrossroadsRecoveryCenterIII2118EastStreetConcord,CA94520(925)682-5704',\n",
    "   'TX PV OS DT OD RR DD SS PI'],\n",
    "  ['RecoveryManagementScrvtcesCrossroadsRecoveryCenterIV2080EastStreetConcord,CA94S20(925)682-5704',\n",
    "   'TX PV OS DT OD RR DD SS PI'],\n",
    "  ['RecoveryManagementServicesCrossroadsTreatmentCenterI2449PachecoStreet2ndHoorConcord,CA94520(925)682-5704',\n",
    "   'TX PV OS DT OD OR IO RR DD SS PI'],\n",
    "  ['SunriseHouse135MasonCircleUnitMConcord,CA94520(925)825-7049',\n",
    "   'TX OS IO RR SS PI']],\n",
    " ['Corning',\n",
    "  ['TchamaRecoveryCenterRightRoad275SolanoStreetCorning,CA96021(916)824-0669',\n",
    "   'TX OS DT RD RR DD HV PW SS FG']]]"
   ]
  },
  {
   "cell_type": "code",
   "execution_count": 1117,
   "metadata": {},
   "outputs": [
    {
     "name": "stdout",
     "output_type": "stream",
     "text": [
      "[1998, 41, 'GILROYGOLETA Behavioral Health Services OmniIS', '519 Crenshaw Boulevard', 'Gardena', 'CA', '90249', '(310)679-9031', 'TX ML OS DT OD OR HV PW SS MD']\n",
      "[1998, 41, 'Special Servicesfor Groups Pacific Asian Alcoholand Drug Program', '14112 South Kingslcy Drive', 'Gardena', 'CA', '90247', '(310)327-7501', 'TX PV OR IO DD PW SS']\n",
      "[1998, 41, 'CA Hispanic Commission Alc/Drug Abuse Unidos Recovery Home', '9842 West 13th Street SuiteB', 'Garden Grove', 'CA', '92844', '(714)531-4624', 'TX PV OS DT RD RR DD HV SS']\n",
      "[1998, 41, 'Roquc Center Residential', '9842 West 13th Street SuiteA', 'Garden Grove', 'CA', '92844', '(714)839-0607Hotlines:(714)839-0608(714)839-0609', 'TX PV OS RR SS']\n",
      "[1998, 41, 'Progress HouseII', '5607 Mount Murphy Road', 'Garden Valley', 'CA', '95633', '(916)333-9460Hotlines:(530)333-9460(888)544-0900', 'TX OS RR PW SS TC MD FG PI']\n",
      "[1998, 41, 'El Dorado Councilon Alcoholism Lifeskills/Divide Wellness Center', '606 S Highway 193', 'Georgetown', 'CA', '95634', '(530)622-8193Hotline:(530)333-1917x0002', 'TX PV OS DT OD OR IO AD DD HV SS CM MC MD FG PI']\n",
      "[1998, 41, 'Glendale Memorial Hospital/Health Ctr Alpha Recovery Center', '1330 South Glendale Avenue', 'Glendale', 'CA', '91205', '(818)502-2300Hotlines:(818)502-2300(800)300-8040', 'TX OS DT OD OR IO ID DD SS GH CM MC PI']\n",
      "[1998, 41, 'New Insights Specialized Treatmentfor Subst Abuse', '431 North Brand Boulevard Suite 304', 'Glendale', 'CA', '91203', '(818)242-2308', 'TX PV OS IO SS']\n",
      "[1998, 41, 'Right OnPrograms', '522 East Broadway Street Suite 101', 'Glendale', 'CA', '91205', '(818)240-1683', 'TX PV OS OR CJ']\n",
      "[1998, 41, 'Verdugo Mental Health Center Positive Directions Com Counseling Ctr', '225-D North Maryland Avenue', 'Glendale', 'CA', '91206', '(818)247-8180', 'TX PV OS OR SS CM']\n",
      "[1998, 41, 'Verdugo Mental Health Center Substance Abuse Program', '1540 East Colorado Street', 'Glendale', 'CA', '91205-I514', '(818)244-7257', 'TX OS OR DD HV SS CM']\n",
      "[1998, 41, 'Project Info Community Services IncIS', '05 South Sunflower Avenue', 'Glendora', 'CA', '91740', '(626)335-8153', 'TX PV OS OR AD PW SC']\n",
      "[1998, 41, 'Community Solutions', '8475 Forest Street', 'Gilroy', 'CA', '95020', '(408)842-7138Hotline:(800)488-9919', 'TX PV OS OR AD DD HV SS CM CO CJ PI']\n",
      "[1998, 41, 'Aegis Medical Systems', '5710 Hollister Avenue', 'Golcta', 'CA', '93117', '(805)681-7242', 'TX ML OS DT OD OR SS FG']\n",
      "[1998, 41, 'Isla Vista Health Projects Isla Vista Medical Clinic', '970 Embarcadero Del Mar', 'Golcta', 'CA', '93117', '(805)968-1511x110', 'TX DT OD OR PW CH MD']\n",
      "[1998, 41, 'Drug Alternative Program', '11810 Kingston Street', 'Grand Terrace', 'CA', '92313', '(909)783-1094Hotlines:(909)783-1094(800)784-1094', 'TX RR SS']\n",
      "[1998, 41, 'Nevada County Councilon AlcoholismNV Cnty Sub Abuse Trtand Rec Prog', '440 Henderson Street SuiteC', 'Grass Valley', 'CA', '95945', '0(530)273-9541Hotline:(530)273-9541', 'TX PV OS OR IO AD SS']\n",
      "[1998, 41, 'TeamIII Family Counseling Center', '256 Buena Vista Drive Suite 210', 'Grass Valley', 'CA', '95945', '(530)477-7025', 'TX PV OS OR CM MD PI']\n",
      "[1998, 41, 'Ross Hospital Chemical Dependency ServicesIIII Sir Francis Drake Boulevard', '', 'Grecnbrae', 'CA', '94904', '(415)258-6960Hotline:(800)767-7677', 'TX OS DT OR IO ID IR DD HV SS PH OH CM PI']\n",
      "Finished page 41\n"
     ]
    }
   ],
   "source": [
    "save_as_filename = '{0}/{0}.csv'.format(year)\n",
    "\n",
    "with open(save_as_filename, 'a', newline='') as file:\n",
    "    writer = csv.writer(file)\n",
    "    city = write_data(writer, data, year, pagen)"
   ]
  },
  {
   "cell_type": "markdown",
   "metadata": {},
   "source": [
    "- Check each term that has something blanck"
   ]
  },
  {
   "cell_type": "code",
   "execution_count": 23,
   "metadata": {},
   "outputs": [
    {
     "name": "stderr",
     "output_type": "stream",
     "text": [
      "2020-07-10 14:58:45,902 [MainThread  ] [INFO ]  Retrieving http://search.maven.org/remotecontent?filepath=org/apache/tika/tika-server/1.24/tika-server-1.24.jar.md5 to /var/folders/c3/7w8m72ms5r1cjggp8xw9p0fh0000gn/T/tika-server.jar.md5.\n",
      "2020-07-10 14:58:46,426 [MainThread  ] [INFO ]  Retrieving http://search.maven.org/remotecontent?filepath=org/apache/tika/tika-server/1.24/tika-server-1.24.jar to /var/folders/c3/7w8m72ms5r1cjggp8xw9p0fh0000gn/T/tika-server.jar.\n",
      "2020-07-10 15:00:10,570 [MainThread  ] [WARNI]  Failed to see startup log message; retrying...\n",
      "2020-07-10 15:00:15,574 [MainThread  ] [WARNI]  Failed to see startup log message; retrying...\n",
      "2020-07-10 15:00:20,578 [MainThread  ] [WARNI]  Failed to see startup log message; retrying...\n",
      "2020-07-10 15:00:25,580 [MainThread  ] [ERROR]  Tika startup log message not received after 3 tries.\n",
      "2020-07-10 15:00:25,581 [MainThread  ] [ERROR]  Failed to receive startup confirmation from startServer.\n"
     ]
    },
    {
     "ename": "RuntimeError",
     "evalue": "Unable to start Tika server.",
     "output_type": "error",
     "traceback": [
      "\u001b[0;31m---------------------------------------------------------------------------\u001b[0m",
      "\u001b[0;31mRuntimeError\u001b[0m                              Traceback (most recent call last)",
      "\u001b[0;32m<ipython-input-23-478f420a79ff>\u001b[0m in \u001b[0;36m<module>\u001b[0;34m\u001b[0m\n\u001b[1;32m      1\u001b[0m \u001b[0;32mfrom\u001b[0m \u001b[0mtika\u001b[0m \u001b[0;32mimport\u001b[0m \u001b[0mparser\u001b[0m\u001b[0;34m\u001b[0m\u001b[0;34m\u001b[0m\u001b[0m\n\u001b[0;32m----> 2\u001b[0;31m \u001b[0mraw\u001b[0m \u001b[0;34m=\u001b[0m \u001b[0mparser\u001b[0m\u001b[0;34m.\u001b[0m\u001b[0mfrom_file\u001b[0m\u001b[0;34m(\u001b[0m\u001b[0;34m'1998/test.pdf'\u001b[0m\u001b[0;34m)\u001b[0m\u001b[0;34m\u001b[0m\u001b[0;34m\u001b[0m\u001b[0m\n\u001b[0m\u001b[1;32m      3\u001b[0m \u001b[0mraw\u001b[0m\u001b[0;34m[\u001b[0m\u001b[0;34m'content'\u001b[0m\u001b[0;34m]\u001b[0m\u001b[0;34m\u001b[0m\u001b[0;34m\u001b[0m\u001b[0m\n",
      "\u001b[0;32m~/anaconda3/lib/python3.7/site-packages/tika/parser.py\u001b[0m in \u001b[0;36mfrom_file\u001b[0;34m(filename, serverEndpoint, service, xmlContent, headers, config_path, requestOptions)\u001b[0m\n\u001b[1;32m     38\u001b[0m     '''\n\u001b[1;32m     39\u001b[0m     \u001b[0;32mif\u001b[0m \u001b[0;32mnot\u001b[0m \u001b[0mxmlContent\u001b[0m\u001b[0;34m:\u001b[0m\u001b[0;34m\u001b[0m\u001b[0;34m\u001b[0m\u001b[0m\n\u001b[0;32m---> 40\u001b[0;31m         \u001b[0moutput\u001b[0m \u001b[0;34m=\u001b[0m \u001b[0mparse1\u001b[0m\u001b[0;34m(\u001b[0m\u001b[0mservice\u001b[0m\u001b[0;34m,\u001b[0m \u001b[0mfilename\u001b[0m\u001b[0;34m,\u001b[0m \u001b[0mserverEndpoint\u001b[0m\u001b[0;34m,\u001b[0m \u001b[0mheaders\u001b[0m\u001b[0;34m=\u001b[0m\u001b[0mheaders\u001b[0m\u001b[0;34m,\u001b[0m \u001b[0mconfig_path\u001b[0m\u001b[0;34m=\u001b[0m\u001b[0mconfig_path\u001b[0m\u001b[0;34m,\u001b[0m \u001b[0mrequestOptions\u001b[0m\u001b[0;34m=\u001b[0m\u001b[0mrequestOptions\u001b[0m\u001b[0;34m)\u001b[0m\u001b[0;34m\u001b[0m\u001b[0;34m\u001b[0m\u001b[0m\n\u001b[0m\u001b[1;32m     41\u001b[0m     \u001b[0;32melse\u001b[0m\u001b[0;34m:\u001b[0m\u001b[0;34m\u001b[0m\u001b[0;34m\u001b[0m\u001b[0m\n\u001b[1;32m     42\u001b[0m         output = parse1(service, filename, serverEndpoint, services={'meta': '/meta', 'text': '/tika', 'all': '/rmeta/xml'},\n",
      "\u001b[0;32m~/anaconda3/lib/python3.7/site-packages/tika/tika.py\u001b[0m in \u001b[0;36mparse1\u001b[0;34m(option, urlOrPath, serverEndpoint, verbose, tikaServerJar, responseMimeType, services, rawResponse, headers, config_path, requestOptions)\u001b[0m\n\u001b[1;32m    336\u001b[0m         status, response = callServer('put', serverEndpoint, service, f,\n\u001b[1;32m    337\u001b[0m                                       \u001b[0mheaders\u001b[0m\u001b[0;34m,\u001b[0m \u001b[0mverbose\u001b[0m\u001b[0;34m,\u001b[0m \u001b[0mtikaServerJar\u001b[0m\u001b[0;34m,\u001b[0m \u001b[0mconfig_path\u001b[0m\u001b[0;34m=\u001b[0m\u001b[0mconfig_path\u001b[0m\u001b[0;34m,\u001b[0m\u001b[0;34m\u001b[0m\u001b[0;34m\u001b[0m\u001b[0m\n\u001b[0;32m--> 338\u001b[0;31m                                       rawResponse=rawResponse, requestOptions=requestOptions)\n\u001b[0m\u001b[1;32m    339\u001b[0m \u001b[0;34m\u001b[0m\u001b[0m\n\u001b[1;32m    340\u001b[0m     \u001b[0;32mif\u001b[0m \u001b[0mfile_type\u001b[0m \u001b[0;34m==\u001b[0m \u001b[0;34m'remote'\u001b[0m\u001b[0;34m:\u001b[0m \u001b[0mos\u001b[0m\u001b[0;34m.\u001b[0m\u001b[0munlink\u001b[0m\u001b[0;34m(\u001b[0m\u001b[0mpath\u001b[0m\u001b[0;34m)\u001b[0m\u001b[0;34m\u001b[0m\u001b[0;34m\u001b[0m\u001b[0m\n",
      "\u001b[0;32m~/anaconda3/lib/python3.7/site-packages/tika/tika.py\u001b[0m in \u001b[0;36mcallServer\u001b[0;34m(verb, serverEndpoint, service, data, headers, verbose, tikaServerJar, httpVerbs, classpath, rawResponse, config_path, requestOptions)\u001b[0m\n\u001b[1;32m    529\u001b[0m     \u001b[0;32mglobal\u001b[0m \u001b[0mTikaClientOnly\u001b[0m\u001b[0;34m\u001b[0m\u001b[0;34m\u001b[0m\u001b[0m\n\u001b[1;32m    530\u001b[0m     \u001b[0;32mif\u001b[0m \u001b[0;32mnot\u001b[0m \u001b[0mTikaClientOnly\u001b[0m\u001b[0;34m:\u001b[0m\u001b[0;34m\u001b[0m\u001b[0;34m\u001b[0m\u001b[0m\n\u001b[0;32m--> 531\u001b[0;31m         \u001b[0mserverEndpoint\u001b[0m \u001b[0;34m=\u001b[0m \u001b[0mcheckTikaServer\u001b[0m\u001b[0;34m(\u001b[0m\u001b[0mscheme\u001b[0m\u001b[0;34m,\u001b[0m \u001b[0mserverHost\u001b[0m\u001b[0;34m,\u001b[0m \u001b[0mport\u001b[0m\u001b[0;34m,\u001b[0m \u001b[0mtikaServerJar\u001b[0m\u001b[0;34m,\u001b[0m \u001b[0mclasspath\u001b[0m\u001b[0;34m,\u001b[0m \u001b[0mconfig_path\u001b[0m\u001b[0;34m)\u001b[0m\u001b[0;34m\u001b[0m\u001b[0;34m\u001b[0m\u001b[0m\n\u001b[0m\u001b[1;32m    532\u001b[0m \u001b[0;34m\u001b[0m\u001b[0m\n\u001b[1;32m    533\u001b[0m     \u001b[0mserviceUrl\u001b[0m  \u001b[0;34m=\u001b[0m \u001b[0mserverEndpoint\u001b[0m \u001b[0;34m+\u001b[0m \u001b[0mservice\u001b[0m\u001b[0;34m\u001b[0m\u001b[0;34m\u001b[0m\u001b[0m\n",
      "\u001b[0;32m~/anaconda3/lib/python3.7/site-packages/tika/tika.py\u001b[0m in \u001b[0;36mcheckTikaServer\u001b[0;34m(scheme, serverHost, port, tikaServerJar, classpath, config_path)\u001b[0m\n\u001b[1;32m    599\u001b[0m             \u001b[0;32mif\u001b[0m \u001b[0;32mnot\u001b[0m \u001b[0mstatus\u001b[0m\u001b[0;34m:\u001b[0m\u001b[0;34m\u001b[0m\u001b[0;34m\u001b[0m\u001b[0m\n\u001b[1;32m    600\u001b[0m                 \u001b[0mlog\u001b[0m\u001b[0;34m.\u001b[0m\u001b[0merror\u001b[0m\u001b[0;34m(\u001b[0m\u001b[0;34m\"Failed to receive startup confirmation from startServer.\"\u001b[0m\u001b[0;34m)\u001b[0m\u001b[0;34m\u001b[0m\u001b[0;34m\u001b[0m\u001b[0m\n\u001b[0;32m--> 601\u001b[0;31m                 \u001b[0;32mraise\u001b[0m \u001b[0mRuntimeError\u001b[0m\u001b[0;34m(\u001b[0m\u001b[0;34m\"Unable to start Tika server.\"\u001b[0m\u001b[0;34m)\u001b[0m\u001b[0;34m\u001b[0m\u001b[0;34m\u001b[0m\u001b[0m\n\u001b[0m\u001b[1;32m    602\u001b[0m     \u001b[0;32mreturn\u001b[0m \u001b[0mserverEndpoint\u001b[0m\u001b[0;34m\u001b[0m\u001b[0;34m\u001b[0m\u001b[0m\n\u001b[1;32m    603\u001b[0m \u001b[0;34m\u001b[0m\u001b[0m\n",
      "\u001b[0;31mRuntimeError\u001b[0m: Unable to start Tika server."
     ]
    }
   ],
   "source": [
    "from tika import parser\n",
    "raw = parser.from_file('1998/test.pdf')\n",
    "raw['content']"
   ]
  },
  {
   "cell_type": "code",
   "execution_count": 16,
   "metadata": {},
   "outputs": [
    {
     "name": "stdout",
     "output_type": "stream",
     "text": [
      "Number of pages: 4\n"
     ]
    }
   ],
   "source": [
    "pdfFileObj = open('1998/test.pdf'.format(year), 'rb')\n",
    "pdfReader = PyPDF2.PdfFileReader(pdfFileObj)\n",
    "print(\"Number of pages:\", pdfReader.numPages)"
   ]
  },
  {
   "cell_type": "code",
   "execution_count": 17,
   "metadata": {},
   "outputs": [
    {
     "data": {
      "text/plain": [
       "'\\n\\n\\n\\n\\n\\n'"
      ]
     },
     "execution_count": 17,
     "metadata": {},
     "output_type": "execute_result"
    }
   ],
   "source": [
    "pdfReader.getPage(0).extractText()"
   ]
  },
  {
   "cell_type": "code",
   "execution_count": null,
   "metadata": {},
   "outputs": [],
   "source": [
    "#https://stackoverflow.com/questions/56559850/python-how-to-use-tika-with-existing-jar-file-without-downloading-again\n",
    "#https://stackoverflow.com/questions/34837707/how-to-extract-text-from-a-pdf-file\n",
    "#https://opensource.google/projects/tesseract"
   ]
  },
  {
   "cell_type": "markdown",
   "metadata": {},
   "source": [
    "# OCR\n",
    "- https://github.com/sirfz/tesserocr\n",
    "- https://www.geeksforgeeks.org/python-reading-contents-of-pdf-using-ocr-optical-character-recognition/\n",
    "- https://pypi.org/project/tesserocr/"
   ]
  },
  {
   "cell_type": "code",
   "execution_count": 34,
   "metadata": {},
   "outputs": [],
   "source": [
    "from tesserocr import PyTessBaseAPI, RIL\n",
    "from pdf2image import convert_from_path \n",
    "import pytesseract\n",
    "from PIL import Image "
   ]
  },
  {
   "cell_type": "code",
   "execution_count": 14,
   "metadata": {},
   "outputs": [],
   "source": [
    "import matplotlib.pyplot as plt"
   ]
  },
  {
   "cell_type": "code",
   "execution_count": 11,
   "metadata": {},
   "outputs": [],
   "source": [
    "PDF_file = \"1998/directory_1998.pdf\""
   ]
  },
  {
   "cell_type": "code",
   "execution_count": 23,
   "metadata": {},
   "outputs": [],
   "source": [
    "# Store all the pages of the PDF in a variable \n",
    "pages = convert_from_path(PDF_file, 500) "
   ]
  },
  {
   "cell_type": "code",
   "execution_count": 24,
   "metadata": {},
   "outputs": [
    {
     "data": {
      "text/plain": [
       "<matplotlib.image.AxesImage at 0x7fc2e5d88810>"
      ]
     },
     "execution_count": 24,
     "metadata": {},
     "output_type": "execute_result"
    },
    {
     "data": {
      "image/png": "[encoded data removed]",
      "text/plain": [
       "<Figure size 432x288 with 1 Axes>"
      ]
     },
     "metadata": {
      "needs_background": "light"
     },
     "output_type": "display_data"
    }
   ],
   "source": [
    "plt.imshow(pages[11])"
   ]
  },
  {
   "cell_type": "code",
   "execution_count": 30,
   "metadata": {},
   "outputs": [],
   "source": [
    "pages[11].save(\"1998/page12.jpeg\", 'JPEG') \n",
    "img = Image.open(\"1998/page12.jpeg\")"
   ]
  },
  {
   "cell_type": "code",
   "execution_count": 40,
   "metadata": {},
   "outputs": [
    {
     "data": {
      "text/plain": [
       "(<PIL.JpegImagePlugin.JpegImageFile image mode=L size=3427x75 at 0x7FA76EF1AC50>,\n",
       " {'x': 305, 'y': 473, 'w': 3427, 'h': 75},\n",
       " 1,\n",
       " None)"
      ]
     },
     "execution_count": 40,
     "metadata": {},
     "output_type": "execute_result"
    }
   ],
   "source": [
    "boxes[1]"
   ]
  },
  {
   "cell_type": "code",
   "execution_count": 54,
   "metadata": {},
   "outputs": [],
   "source": [
    "box1 = {'x': 0, 'y': 0, 'w': 1400, 'h': 5143}\n",
    "box2 = {'x': 1400, 'y': 0, 'w': 1200, 'h': 5143}\n",
    "box3 = {'x': 2600, 'y': 0, 'w': 1400, 'h': 5143} #'w': 1400\n",
    "boxes = [box1, box2, box3]"
   ]
  },
  {
   "cell_type": "code",
   "execution_count": 55,
   "metadata": {},
   "outputs": [
    {
     "name": "stdout",
     "output_type": "stream",
     "text": [
      "Found 3 textline image components.\n",
      "------------------------------\n",
      "ALEXANDER CITY\n",
      "\n",
      "L1 ghthouse of Tallapoosa County Inc\n",
      "36 Franklin Street\n",
      "\n",
      "Alexander City, AL 35010\n",
      "(205)234-4894\n",
      "\n",
      "TX/ RR! HH\n",
      "\n",
      "ANNISTON\n",
      "\n",
      "Anniston Fellowship House Inc\n",
      "106 East 22nd Street\n",
      "\n",
      "Anniston, AL 36201\n",
      "(256)236-7229\n",
      "\n",
      "TX/ RR/ HH CJ\n",
      "\n",
      "Calhoun/Clebumc Mental Health Center\n",
      "New Directions\n",
      "\n",
      "331 East 8th Street\n",
      "\n",
      "Anniston, AL 36202\n",
      "\n",
      "(256)236-3403\n",
      "\n",
      "Hotlines:\n",
      "\n",
      "(256)236-3403\n",
      "\n",
      "(256)236-8003\n",
      "\n",
      "TX PV 05/ OR 10/ AD DD/ SS CM\n",
      "\n",
      "BIRMINGHAM\n",
      "\n",
      "Alcoholism Recovery Services Inc\n",
      "\n",
      "2701 Jefferson Avenue SW\n",
      "Birmingham, AL 3521 1\n",
      "\n",
      "(205)923-6552\n",
      "\n",
      "TX PV OS DT/ OR 10 RD RR/ HV/ SS\n",
      "OH/ MD\n",
      "\n",
      "Aletheia House\n",
      "201 Finley Avenue West\n",
      "Birmingham, AL 35204\n",
      "(205)324-6502\n",
      "TX 08/ OR 10/ 88/ MD\n",
      "\n",
      "Birmingham Health Care for\n",
      "The Homeless\n",
      "\n",
      "712 25th Street North\n",
      "Birmingham. AL 35203\n",
      "(205 )439-72 1 6\n",
      "\n",
      "TX PV 08/ OR 10/ 88/ FG\n",
      "\n",
      "Bradford Health Services\n",
      "\n",
      "Birmingham Regional Office Jefferson\n",
      "631 Beacon Parkway West\n",
      "\n",
      "Suite 21]\n",
      "\n",
      "Birmingham, AL 35209\n",
      "(800)293-7191\n",
      "\n",
      "TX 08/ OR 10/ AD DD/ SS\n",
      "\n",
      "\n",
      "------------------------------\n",
      "ALABAMA\n",
      "\n",
      "Department of Veterans Affairs\n",
      "Medical Center\n",
      "\n",
      "1717 llth Avenue South\n",
      "Birmingham. AL 35205\n",
      "(205)939-2135\n",
      "\n",
      "TX 05/ OR/ DD/ GH/ FG\n",
      "\n",
      "Fellowship House Inc\n",
      "\n",
      "1625 121h Avenue South\n",
      "Birmingham, AL 35205\n",
      "(205)933-2430\n",
      "\n",
      "TX PV OS/ RR/ DD/ HH/ FG\n",
      "\n",
      "Hill Crest Behavioral Health Services\n",
      "Chemical Dependency Track\n",
      "\n",
      "6869 5th Avenue South\n",
      "\n",
      "Birmingham, AL 35212\n",
      "\n",
      "(205)833-9000\n",
      "\n",
      "Hotlines:\n",
      "\n",
      "(205)833-9000\n",
      "\n",
      "(800)292-8553\n",
      "\n",
      "TX PV OS DT/ OR 10 ID 1R/ AD DD/ SS\n",
      "PH TC CM SC SC\n",
      "\n",
      "Jefferson County Economic Opportunity\n",
      "Alcoholism Outreach/Aftercare Program\n",
      "3040 Enslcy Avenue\n",
      "\n",
      "Birmingham, AL 35208\n",
      "\n",
      "(205)787-3040\n",
      "\n",
      "Hotlinc:\n",
      "\n",
      "(205)787-3040\n",
      "\n",
      "TX PV OS/ [0/ AD DD/ SS\n",
      "\n",
      "Oakmonl Center\n",
      "\n",
      "1915 Avenue H Enslcy\n",
      "Bimingham, AL 35218\n",
      "(205)787-7100\n",
      "\n",
      "TX PV OS/ 10/ AD/ SS\n",
      "\n",
      "Saint Anncs Home Inc\n",
      "\n",
      "2772 Hanover Circle\n",
      "Birmingham, AL 35205\n",
      "(205)933-2402\n",
      "\n",
      "TX 08/ RR/ DD HV PW/ SS TC\n",
      "\n",
      "Tri County Treatment Center\n",
      "\n",
      "500 Gene Reed Road\n",
      "\n",
      "Suite 220\n",
      "\n",
      "Birmingham, AL 35215\n",
      "(205)836-3345\n",
      "\n",
      "ML PV OS DT/ OD RD RR/ SS OH\n",
      "\n",
      "\n",
      "------------------------------\n",
      "Univ of Alabama in Birmingham Hospital\n",
      "Center for Psychiatric Medicine\n",
      "\n",
      "1713 6th Avenue South\n",
      "\n",
      "Birmingham. AL 35294-0018\n",
      "(205)934-9699\n",
      "\n",
      "Hotline:\n",
      "\n",
      "(205)934-7008\n",
      "\n",
      "TX PV OS DT/ OD OR 101D RD RR/ AD/\n",
      "PH/ MC FG Pl\n",
      "\n",
      "University of Alabama\n",
      "\n",
      "Substance Abuse Program\n",
      "\n",
      "401 Beacon Parkway West\n",
      "\n",
      "Birmingham, AL 35209\n",
      "\n",
      "(205)917-3784 x 231\n",
      "\n",
      "TX ML PV OS/ OR 10/ AD HV PW/ SS\n",
      "CM CJ/ MC MD PI\n",
      "\n",
      "CALERA\n",
      "\n",
      "Chilton Shelby Mental Health Center\n",
      "Substance Abuse Division\n",
      "\n",
      "1822 17th Street\n",
      "\n",
      "Highway 25\n",
      "\n",
      "Calera, AL 35040\n",
      "\n",
      "(205)668-2700\n",
      "\n",
      "TX PV OS/ 10/ AD/ SS CM/ MD P1\n",
      "\n",
      "CENTRE\n",
      "\n",
      "Lifeline Services Inc\n",
      "Cherokee County Location\n",
      "423 East Main Street\n",
      "Centre, AL 35960\n",
      "(888)329-0440\n",
      "\n",
      "TX/ OR 10/ SS\n",
      "\n",
      "CLAYTON\n",
      "\n",
      "Ventress Correctional Facility\n",
      "Substance Abuse Services\n",
      "\n",
      "State Road 239\n",
      "\n",
      "Clayton, AL 36016\n",
      "(334)775-3331 x 305\n",
      "\n",
      "Hotline:\n",
      "\n",
      "(334)775—3331\n",
      "\n",
      "TX PVI RR/ DD/ SS TC CJ/ FG\n",
      "\n",
      "DECATUR\n",
      "\n",
      "Mental Health Ctr of North Central AL\n",
      "Quest Rec Ctr Subst Abuse Treatment\n",
      "1312 Somerville Road\n",
      "\n",
      "Decatur, AL 35601\n",
      "\n",
      "(256)353-9116\n",
      "\n",
      "Hotline:\n",
      "\n",
      "(25 6)355-609l\n",
      "\n",
      "TX PV 08/ OR 10/ DD PW/ SS/ MD P1\n",
      "\n",
      "\n"
     ]
    }
   ],
   "source": [
    "with PyTessBaseAPI() as api:\n",
    "    api.SetImageFile(\"1998/page12.jpeg\")\n",
    "    #boxes = api.GetComponentImages(RIL.TEXTLINE, True)###\n",
    "    print('Found {} textline image components.'.format(len(boxes)))\n",
    "    #print(api.GetUTF8Text())\n",
    "    #print(api.AllWordConfidences())\n",
    "    for i, box in enumerate(boxes):\n",
    "        # im is a PIL image object\n",
    "        # box is a dict with x, y, w and h keys\n",
    "        api.SetRectangle(box['x'], box['y'], box['w'], box['h'])\n",
    "        ocrResult = api.GetUTF8Text()\n",
    "        conf = api.MeanTextConf()\n",
    "        print('------------------------------')\n",
    "        print(ocrResult)"
   ]
  },
  {
   "cell_type": "code",
   "execution_count": null,
   "metadata": {},
   "outputs": [],
   "source": []
  }
 ],
 "metadata": {
  "kernelspec": {
   "display_name": "Python 3",
   "language": "python",
   "name": "python3"
  },
  "language_info": {
   "codemirror_mode": {
    "name": "ipython",
    "version": 3
   },
   "file_extension": ".py",
   "mimetype": "text/x-python",
   "name": "python",
   "nbconvert_exporter": "python",
   "pygments_lexer": "ipython3",
   "version": "3.7.6"
  }
 },
 "nbformat": 4,
 "nbformat_minor": 4
}
