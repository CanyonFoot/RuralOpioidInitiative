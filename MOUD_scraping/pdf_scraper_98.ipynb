{
 "cells": [
  {
   "cell_type": "markdown",
   "metadata": {},
   "source": [
    "#### Imports"
   ]
  },
  {
   "cell_type": "code",
   "execution_count": 542,
   "metadata": {},
   "outputs": [],
   "source": [
    "import PyPDF2\n",
    "import csv\n",
    "import re\n",
    "import json\n",
    "import os\n",
    "import us\n",
    "import numpy as np"
   ]
  },
  {
   "cell_type": "markdown",
   "metadata": {},
   "source": [
    "#### Scrape key to facility codes\n",
    "- Very inclusive info about keys, many things not keys included"
   ]
  },
  {
   "cell_type": "code",
   "execution_count": 3,
   "metadata": {},
   "outputs": [
    {
     "name": "stdout",
     "output_type": "stream",
     "text": [
      "Number of pages: 568\n"
     ]
    }
   ],
   "source": [
    "year = 1998\n",
    "\n",
    "pdfFileObj = open('{0}/directory_{0}.pdf'.format(year), 'rb')\n",
    "pdfReader = PyPDF2.PdfFileReader(pdfFileObj)\n",
    "print(\"Number of pages:\", pdfReader.numPages)"
   ]
  },
  {
   "cell_type": "code",
   "execution_count": 582,
   "metadata": {},
   "outputs": [],
   "source": [
    "abbr_keys = [\"TX\", \"ML\", \"PV\", \"OS\", \"DT\",\\\n",
    "             \"OD\", \"OR\", \"IO\", \"ID\", \"IR\", \"RD\", \"RR\",\\\n",
    "             \"AD\", \"DD\", \"HV\", \"PW\",\\\n",
    "             \"SS\", \"GH\", \"PH\", \"OH\", \"TC\", \"HH\", \"CM\", \"CH\", \\\n",
    "             \"CO\", \"SG\", \"SC\", \"CJ\",\\\n",
    "             \"MC\", \"MD\", \"FG\", \"PI\"]"
   ]
  },
  {
   "cell_type": "markdown",
   "metadata": {},
   "source": [
    "#### List of States in the U.S."
   ]
  },
  {
   "cell_type": "code",
   "execution_count": 476,
   "metadata": {},
   "outputs": [],
   "source": [
    "states = \"Alabama,\\\n",
    "Alaska,\\\n",
    "Arizona,\\\n",
    "Arkansas,\\\n",
    "California,\\\n",
    "Colorado,\\\n",
    "Connecticut,\\\n",
    "Delaware,\\\n",
    "Florida,\\\n",
    "Georgia,\\\n",
    "Hawaii,\\\n",
    "Idaho,\\\n",
    "Illinois,\\\n",
    "Indiana,\\\n",
    "Iowa,\\\n",
    "Kansas,\\\n",
    "Kentucky,\\\n",
    "Louisiana,\\\n",
    "Maine,\\\n",
    "Maryland,\\\n",
    "Massachusetts,\\\n",
    "Michigan,\\\n",
    "Minnesota,\\\n",
    "Mississippi,\\\n",
    "Missouri,\\\n",
    "Montana,\\\n",
    "Nebraska,\\\n",
    "Nevada,\\\n",
    "New Hampshire,\\\n",
    "New Jersey,\\\n",
    "New Mexico,\\\n",
    "New York,\\\n",
    "North Carolina,\\\n",
    "North Dakota,\\\n",
    "Ohio,\\\n",
    "Oklahoma,\\\n",
    "Oregon,\\\n",
    "Pennsylvania,\\\n",
    "Rhode Island,\\\n",
    "South Carolina,\\\n",
    "South Dakota,\\\n",
    "Tennessee,\\\n",
    "Texas,\\\n",
    "Utah,\\\n",
    "Vermont,\\\n",
    "Virginia,\\\n",
    "Washington,\\\n",
    "West Virginia,\\\n",
    "Wisconsin,\\\n",
    "Wyoming\""
   ]
  },
  {
   "cell_type": "code",
   "execution_count": 477,
   "metadata": {},
   "outputs": [],
   "source": [
    "states = states.split(\",\")"
   ]
  },
  {
   "cell_type": "code",
   "execution_count": 478,
   "metadata": {},
   "outputs": [
    {
     "data": {
      "text/plain": [
       "['Alabama',\n",
       " 'Alaska',\n",
       " 'Arizona',\n",
       " 'Arkansas',\n",
       " 'California',\n",
       " 'Colorado',\n",
       " 'Connecticut',\n",
       " 'Delaware',\n",
       " 'Florida',\n",
       " 'Georgia',\n",
       " 'Hawaii',\n",
       " 'Idaho',\n",
       " 'Illinois',\n",
       " 'Indiana',\n",
       " 'Iowa',\n",
       " 'Kansas',\n",
       " 'Kentucky',\n",
       " 'Louisiana',\n",
       " 'Maine',\n",
       " 'Maryland',\n",
       " 'Massachusetts',\n",
       " 'Michigan',\n",
       " 'Minnesota',\n",
       " 'Mississippi',\n",
       " 'Missouri',\n",
       " 'Montana',\n",
       " 'Nebraska',\n",
       " 'Nevada',\n",
       " 'New Hampshire',\n",
       " 'New Jersey',\n",
       " 'New Mexico',\n",
       " 'New York',\n",
       " 'North Carolina',\n",
       " 'North Dakota',\n",
       " 'Ohio',\n",
       " 'Oklahoma',\n",
       " 'Oregon',\n",
       " 'Pennsylvania',\n",
       " 'Rhode Island',\n",
       " 'South Carolina',\n",
       " 'South Dakota',\n",
       " 'Tennessee',\n",
       " 'Texas',\n",
       " 'Utah',\n",
       " 'Vermont',\n",
       " 'Virginia',\n",
       " 'Washington',\n",
       " 'West Virginia',\n",
       " 'Wisconsin',\n",
       " 'Wyoming']"
      ]
     },
     "execution_count": 478,
     "metadata": {},
     "output_type": "execute_result"
    }
   ],
   "source": [
    "states"
   ]
  },
  {
   "cell_type": "markdown",
   "metadata": {},
   "source": [
    "#### Test on a page of data\n",
    "- data starts on page 12 (getPage(11))\n",
    "- split to each city, then split into data centers, clean city name and keys!"
   ]
  },
  {
   "cell_type": "markdown",
   "metadata": {},
   "source": [
    "- Function to match city names"
   ]
  },
  {
   "cell_type": "code",
   "execution_count": 888,
   "metadata": {},
   "outputs": [],
   "source": [
    "def fuzzy_search(search_key, text):\n",
    "    #print(\"Searching {}...\".format(search_key))\n",
    "    #print(\"in\", text)\n",
    "    l = len(search_key)\n",
    "    search_key = search_key.lower()\n",
    "    strictness = int(l/4) + 1\n",
    "    for pos in re.finditer(r\"[\\.,]\", text):\n",
    "        word_to_test = text[pos.start() - l: pos.start()].lower()\n",
    "        i = 0\n",
    "        diff = 0\n",
    "        while i < l:\n",
    "            if word_to_test[i] != search_key[i]:\n",
    "                diff += 1\n",
    "            i += 1\n",
    "        if diff < strictness:\n",
    "            return (pos.start() - l, pos.start())      "
   ]
  },
  {
   "cell_type": "code",
   "execution_count": 889,
   "metadata": {},
   "outputs": [
    {
     "data": {
      "text/plain": [
       "(27, 36)"
      ]
     },
     "execution_count": 889,
     "metadata": {},
     "output_type": "execute_result"
    }
   ],
   "source": [
    "#test\n",
    "text = \"DemopolisWestAl.abamaMentalDcmopolis.AL36732\"\n",
    "fuzzy_search(\"DEMOPOLIS\", text)"
   ]
  },
  {
   "cell_type": "markdown",
   "metadata": {},
   "source": [
    "- Fucntion to split words"
   ]
  },
  {
   "cell_type": "code",
   "execution_count": 890,
   "metadata": {},
   "outputs": [],
   "source": [
    "def split_cap_words(string):\n",
    "    string = re.sub(r\"([A-z()])([A-Z0-9])([a-z0-9])\", r\"\\1 \\2\\3\", string)\n",
    "    string = re.sub(r\"([0-9])([A-z])\", r\"\\1 \\2\", string)\n",
    "    string = re.sub(r\"([A-z])([0-9])\", r\"\\1 \\2\", string)\n",
    "    return  string#(\\w)([A-Z])([a-z])"
   ]
  },
  {
   "cell_type": "code",
   "execution_count": 891,
   "metadata": {},
   "outputs": [
    {
     "data": {
      "text/plain": [
       "'PGBHA Pinal County Hispanic Council 712 North Main Street'"
      ]
     },
     "execution_count": 891,
     "metadata": {},
     "output_type": "execute_result"
    }
   ],
   "source": [
    "#test\n",
    "split_cap_words(\"PGBHAPinalCountyHispanicCouncil712NorthMainStreet\")"
   ]
  },
  {
   "cell_type": "code",
   "execution_count": 892,
   "metadata": {},
   "outputs": [
    {
     "data": {
      "text/plain": [
       "'Community Care Network(CCN) Jewish Familyand Childrens Services 6376 West Bell Road'"
      ]
     },
     "execution_count": 892,
     "metadata": {},
     "output_type": "execute_result"
    }
   ],
   "source": [
    "split_cap_words(\"CommunityCareNetwork(CCN)JewishFamilyandChildrensServices6376WestBellRoad\")"
   ]
  },
  {
   "cell_type": "code",
   "execution_count": 893,
   "metadata": {},
   "outputs": [
    {
     "data": {
      "text/plain": [
       "'Mohave Mental Health Clinic Outpatientand Day Treatment 2135 Highway 9 S Suites 125 and 241'"
      ]
     },
     "execution_count": 893,
     "metadata": {},
     "output_type": "execute_result"
    }
   ],
   "source": [
    "split_cap_words(\"MohaveMentalHealthClinicOutpatientandDayTreatment2135Highway9SSuites125and241\")"
   ]
  },
  {
   "cell_type": "code",
   "execution_count": 894,
   "metadata": {},
   "outputs": [
    {
     "data": {
      "text/plain": [
       "'564 North Idaho Road Suite 9'"
      ]
     },
     "execution_count": 894,
     "metadata": {},
     "output_type": "execute_result"
    }
   ],
   "source": [
    "split_cap_words(\"564NorthIdahoRoadSuite9\")"
   ]
  },
  {
   "cell_type": "markdown",
   "metadata": {},
   "source": [
    "- Split data into a list containing a list of facilities in that city"
   ]
  },
  {
   "cell_type": "code",
   "execution_count": 911,
   "metadata": {},
   "outputs": [],
   "source": [
    "def split_data(rawdata, firstcity):\n",
    "    '''\n",
    "    Roughly split data into each facility, returns list of list.\n",
    "    '''\n",
    "    data = []\n",
    "    ###city = firstcity\n",
    "    while len(rawdata) > 50:\n",
    "        #print(\"\\n\", rawdata)\n",
    "        temp_city = []\n",
    "        ###m = 1\n",
    "        \n",
    "        ###if rawdata[:3].isupper():\n",
    "        #find the capitalized string\n",
    "        m = re.search(\"[A-Z]+\", rawdata).end()\n",
    "        city = rawdata[:m - 1]\n",
    "        #clean state name from the city name if present\n",
    "        for state in states:\n",
    "            if state.lower() in city.lower():\n",
    "                city = city[len(state):]\n",
    "                rawdata = rawdata[len(state):]\n",
    "                m = m - len(state)\n",
    "        #identify city name\n",
    "        if fuzzy_search(city, rawdata[m - 1:]) == None:\n",
    "            i = 2\n",
    "            while (i < m) and (fuzzy_search(rawdata[:i], rawdata[i:]) == None):\n",
    "                i += 1\n",
    "            m = i + 1\n",
    "            city = rawdata[:i]\n",
    "                \n",
    "        rawdata = rawdata[m - 1:]\n",
    "        a, b = fuzzy_search(city, rawdata)\n",
    "        state_clean = split_cap_words(rawdata[a:b])\n",
    "        temp_city.append(state_clean)\n",
    "        #while there is more facilities in this city (still can find city name in the string)\n",
    "        while fuzzy_search(city, rawdata) != None:\n",
    "            temp_facil = []\n",
    "            a, b = fuzzy_search(city, rawdata)\n",
    "            m = re.search(\"[A-Z]{2}[A-Z/][A-Z/]\", rawdata[b:]).start() #start of the keys\n",
    "            temp_facil.append(rawdata[:b+m])\n",
    "            rawdata = rawdata[b+m:]\n",
    "            temp_facil.append('')\n",
    "            j = 0\n",
    "            #append keys to the dataframe\n",
    "            while (rawdata[j:j+2].replace(\"1\", \"I\").replace(\"l\", \"I\").replace(\"0\", \"O\").replace(\"5\", \"S\")\\\n",
    "                   .replace(\"i\", \"I\") in abbr_keys) and (rawdata[j+2].replace(\"1\", \"I\").replace(\"l\", \"I\")\\\n",
    "            .replace(\"0\", \"O\").replace(\"5\", \"S\").replace(\"i\", \"I\").isupper() or rawdata[j+2] == '/'):\n",
    "                temp_facil[-1] += ' ' + \\\n",
    "                rawdata[j:j+2].replace(\"1\", \"I\").replace(\"l\", \"I\").replace(\"0\", \"O\").replace(\"5\", \"S\")\n",
    "                if rawdata[j+2] == \"/\":\n",
    "                    j += 3\n",
    "                else:\n",
    "                    j += 2\n",
    "                    \n",
    "            rawdata = rawdata[j:]\n",
    "            temp_facil[-1] = temp_facil[-1].strip()\n",
    "            temp_city.append(temp_facil)\n",
    "        data.append(temp_city)\n",
    "        i = 0\n",
    "    \n",
    "    print(data)\n",
    "    while i < len(data):\n",
    "        city = data[i]\n",
    "        if not city[0][0].isupper():\n",
    "            init = data[i - 1][-1][-1][-2:].capitalize()\n",
    "            data[i - 1][-1][-1] = data[i - 1][-1][-1][:-3]\n",
    "            data[i][0] = init + data[i][0]\n",
    "        i += 1\n",
    "    return data"
   ]
  },
  {
   "cell_type": "code",
   "execution_count": 912,
   "metadata": {},
   "outputs": [],
   "source": [
    "def split_center_street(cn_sa):\n",
    "    '''\n",
    "    Split a string containing center name and street address into two.\n",
    "    Inputs:\n",
    "        cn_sa(str)\n",
    "    Returns: a list of two terms\n",
    "    '''\n",
    "    \n",
    "    m = re.finditer(r\"\\d+\", cn_sa)\n",
    "    try:\n",
    "        probe = next(m)\n",
    "        span = probe.span()\n",
    "        if span[1] == len(cn_sa):\n",
    "            cn_sa = split_cap_words(cn_sa).split()\n",
    "            return[' '.join(cn_sa[:-2]), ' '.join(cn_sa[-2:])]\n",
    "        elif span[0] != 0:\n",
    "            return ([split_cap_words(cn_sa[:span[0]]), split_cap_words(cn_sa[span[0]:])])\n",
    "    except StopIteration:\n",
    "        if cn_sa[-4:] == \"Road\":\n",
    "            cn_sa = split_cap_words(cn_sa).split()\n",
    "            return[' '.join(cn_sa[:-2]), ' '.join(cn_sa[-2:])]\n",
    "    return [split_cap_words(cn_sa), '']\n",
    "\n",
    "\n",
    "def split_address(csp):\n",
    "    '''\n",
    "    Split a string containing city, state and postal code.\n",
    "    Inputs:\n",
    "        csp(str): a string containing city, state and postal code\n",
    "    Returns: a list of three items\n",
    "    '''\n",
    "    PASS"
   ]
  },
  {
   "cell_type": "code",
   "execution_count": 902,
   "metadata": {},
   "outputs": [
    {
     "data": {
      "text/plain": [
       "['SMMHC Inc Mental Health Ctr/Subst Abuse Services',\n",
       " '564 North Idaho Road Suite 9']"
      ]
     },
     "execution_count": 902,
     "metadata": {},
     "output_type": "execute_result"
    }
   ],
   "source": [
    "cn_sa = \"SMMHCIncMentalHealthCtr/SubstAbuseServices564NorthIdahoRoadSuite9\"\n",
    "split_center_street(cn_sa)"
   ]
  },
  {
   "cell_type": "code",
   "execution_count": 903,
   "metadata": {},
   "outputs": [
    {
     "data": {
      "text/plain": [
       "['Fort McDowell Indian Community Familyand Community Services', 'Yavapai Road']"
      ]
     },
     "execution_count": 903,
     "metadata": {},
     "output_type": "execute_result"
    }
   ],
   "source": [
    "cn_sa = \"FortMcDowellIndianCommunityFamilyandCommunityServicesYavapaiRoad\"\n",
    "split_center_street(cn_sa)"
   ]
  },
  {
   "cell_type": "code",
   "execution_count": 904,
   "metadata": {},
   "outputs": [
    {
     "data": {
      "text/plain": [
       "['Ventress Correctional Facility Substance Abuse Services State', 'Road 239']"
      ]
     },
     "execution_count": 904,
     "metadata": {},
     "output_type": "execute_result"
    }
   ],
   "source": [
    "cn_sa = \"VentressCorrectionalFacilitySubstanceAbuseServicesStateRoad239\"\n",
    "split_center_street(cn_sa)"
   ]
  },
  {
   "cell_type": "code",
   "execution_count": 905,
   "metadata": {},
   "outputs": [],
   "source": [
    "def write_data(writer, data, year, pagen):\n",
    "    '''\n",
    "    Write data to csv\n",
    "    '''\n",
    "    for city in data:\n",
    "        cityname = city[0]\n",
    "        lencn = len(cityname.replace(' ', ''))\n",
    "        for facil in city[1:]:\n",
    "            print(\"\\n\", facil)\n",
    "            data_holder = [year, pagen]\n",
    "            keys = facil[1]\n",
    "            facil = facil[0]\n",
    "            #Center name\n",
    "            if \",\" in facil:\n",
    "                center_name_city, address = facil.split(\",\")\n",
    "            else:\n",
    "                center_name_city, address = facil.split(\".\")\n",
    "            #City\n",
    "            data_holder += split_center_street(center_name_city[:-lencn])\n",
    "            #State\n",
    "            data_holder.append(cityname)\n",
    "            data_holder.append(address[:2])\n",
    "            #Postal code, Phone\n",
    "            if address[7] == \"-\":\n",
    "                data_holder.append(address[2:12].replace(\"O\", \"0\").replace(\"S\", \"5\"))\n",
    "                data_holder.append(address[12:].replace(\"O\", \"0\").replace(\"S\", \"5\"))\n",
    "            else:\n",
    "                data_holder.append(address[2:7].replace(\"O\", \"0\").replace(\"S\", \"5\"))\n",
    "                data_holder.append(address[7:].replace(\"O\", \"0\").replace(\"S\", \"5\"))\n",
    "            #Keys\n",
    "            data_holder.append(keys)\n",
    "            writer.writerow(data_holder)\n",
    "    return data_holder[4]"
   ]
  },
  {
   "cell_type": "code",
   "execution_count": 906,
   "metadata": {},
   "outputs": [],
   "source": [
    "def run(year, start_page, end_page = 0):\n",
    "\n",
    "    #read file\n",
    "    dir_filename = '{0}/directory_{0}.pdf'.format(year)\n",
    "    pdfFileObj = open(dir_filename, 'rb')\n",
    "    pdfReader = PyPDF2.PdfFileReader(pdfFileObj)\n",
    "    \n",
    "    #pages to scrape\n",
    "    if end_page == 0:\n",
    "        end_page = pdfReader.numPages - 1\n",
    "\n",
    "    save_as_filename = '{0}/{0}.csv'.format(year)\n",
    "    if os.path.isfile(save_as_filename):\n",
    "        with open(save_as_filename, 'a', newline='') as file:\n",
    "            writer = csv.writer(file)\n",
    "    else:\n",
    "        with open(save_as_filename, 'w', newline='') as file:\n",
    "            writer = csv.writer(file)\n",
    "            writer.writerow([\"Year\", \"Page\", \"Center_name\", \"Street_address\", \"City\", \\\n",
    "                             \"State\", \"Postal_code\", \"Phone\", \"Keys\"])\n",
    "    #scrape\n",
    "    firstcity = \"Alexandar City\"\n",
    "    for pagen in range(start_page, end_page + 1):\n",
    "        #print(pagen)\n",
    "        rawdata = pdfReader.getPage(pagen - 1).extractText()\n",
    "        \n",
    "        data = split_data(rawdata, firstcity)\n",
    "        \n",
    "        with open(save_as_filename, 'a', newline='') as file:\n",
    "            writer = csv.writer(file)\n",
    "            firstcity = write_data(writer, data, year, pagen)"
   ]
  },
  {
   "cell_type": "code",
   "execution_count": 853,
   "metadata": {
    "scrolled": true
   },
   "outputs": [
    {
     "name": "stdout",
     "output_type": "stream",
     "text": [
      "\n",
      " ['LtghthouseofTallapoosaCountyInc36FranklinStreetAlexanderCity,AL35010(205)234-4894', 'TX RR HH']\n",
      "\n",
      " ['AnnistonFellowshipHouseInc106East22ndStreetAnniston,AL36201(256)236-7229', 'TX RR HH']\n",
      "\n",
      " ['CJCalhoun/CleburncMentalHealthCenterNewDirections331East8thStreetAnniston,AL36202(256)236-3403Hotlines:(256)236-3403(256)236-8003', 'TX PV OS OR IO AD DD SS CM']\n",
      "\n",
      " ['AlcoholismRecoveryServicesInc2701JeffersonAvenueSWBirmingham,AL35211(205)923-6552', 'TX PV OS DT OR IO RD RR HV SS OH MD']\n",
      "\n",
      " ['AletheiaHouse201FinleyAvenueWestBirmingham,AL35204(205)324-6502', 'TX OS OR IO SS MD']\n",
      "\n",
      " ['BirminghamHealthCareforTheHomeless71225thStreetNorthBirmingham.AL35203(205)439-7216', 'TX PV OS OR IO SS']\n",
      "\n",
      " ['FGBradfordHealthServicesBirminghamRegionalOfficeJefferson631BeaconParkwayWestSuite211Birmingham,AL35209(800)293-7191', 'TX OS OR IO AD DD']\n",
      "\n",
      " ['SSDepartmentofVeteransAffairsMedicalCenter171711thAvenueSouthBirmingham,AL3520S(205)939-2135', 'TX OS OR DD GH']\n",
      "\n",
      " ['FGFellowshipHouseInc162512thAvenueSouthBirmingham,AL35205(205)933-2430', 'TX PV OS RR DD HH FG']\n",
      "\n",
      " ['HillCrestBehavioralHealthServicesChemicalDependencyTrack6869SthAvenueSouthBirmingham,AL35212(205)833-9000Hotlines:(205)833-9000(800)292-8553', 'TX PV OS DT OR IO ID IR AD DD SS PH TC CM SG']\n",
      "\n",
      " ['SCJeffersonCountyEconomicOpportunityAlcoholismOutreach/AftercareProgram3040EnslcyAvenueBirmingham,AL3S208(205)787-3040Hotline:(205)787-3040', 'TX PV OS IO AD DD']\n",
      "\n",
      " ['SSOakmontCenter1915AvenueHEnsleyBirmingham,AL35218(205)787-7100', 'TX PV OS IO AD']\n",
      "\n",
      " ['SSSaintAnncsHomeInc2772HanoverCircleBirmingham,AL35205(205)933-2402', 'TX OS RR DD HV PW SS']\n",
      "\n",
      " ['TCTriCountyTreatmentCenter500GeneReedRoadSuite220Birmingham,AL35215(205)836-3345', 'ML PV OS DT OD RD RR SS']\n",
      "\n",
      " ['OHUnivofAlabamainBirminghamHospitalCenterforPsychiatricMedicine17136thAvenueSouthBirmingham,AL3S294-0018(205)934-9699Hotline:(205)934-7008', 'TX PV OS DT OD OR IO ID RD RR']\n",
      "\n",
      " ['JAD/PH/MCFGPlUniversityofAlabamaSubstanceAbuseProgram401BeaconParkwayWestBirmingham,AL35209(205)917-3784x231', 'TX ML PV OS OR IO AD HV PW SS CM CJ MC MD PI']\n",
      "\n",
      " ['ChiltonShelbyMentalHealthCenterSubstanceAbuseDivision182217thStreetHighway25Calera,AL35040(205)668-2700', 'TX PV OS IO AD SS CM MD PI']\n",
      "\n",
      " ['LifelineServicesIncCherokeeCountyLocation423EastMainStreetCentre,AL35960(888)329-0440', 'TX OR IO SS']\n",
      "\n",
      " ['VentressCorrectionalFacilitySubstanceAbuseServicesStateRoad239Clayton,AL36016(334)775-3331x305Hotline:(334)775-3331', 'TX PV RR DD SS TC CJ FG']\n",
      "\n",
      " ['MentalHealthCtrofNorthCentralALQuestRecCtrSubstAbuseTreatment1312SomervilleRoadDecatur,AL3S601(256)353-9116Hotline:(256)355-6091', 'TX PV OS OR IO DD PW SS MD']\n",
      "\n",
      " ['WestAlabamaMentalHealthCenterSubstanceAbuseProgram1215WalnutAvenueSouthDcmopolis,AL36732(334)289-2410Hothncs:(800)239-2901(334)289-2410', 'TX PV OS OR IO CM MD']\n",
      "\n",
      " ['SpectraCare831JohnDOdomRoadDothan,AL36303(334)794-3771Hotline:(334)794-0700', 'TX RR SS OH']\n",
      "\n",
      " ['BaldwinCountyMentalHealthCenter372SouthGreenoRoadFairhope,AL36532-1905(334)990-8961Hotlines:(800)738-2871(800)558-8295', 'TX PV OS OR IO SS CM MC']\n",
      "\n",
      " ['RiverbcndCenterforMentalHealthSubstanceAbuseServices635WestCollegeStreetFlorence,AL35630(256)764-3431Hotline:(256)764-3431', 'TX PV OR AD DD HV PW SS PH TC CM MD PI']\n",
      "\n",
      " ['Cherokee/Etowah/DeKalbMentalHealthCenterSubstAbuseServs901GoodyearAvenueGadsden,AL3S903(256)492-7800Hotline:(256)492-7800', 'TX PV OS OR IO DD CM']\n",
      "\n",
      " ['MDTheBridgeInc3232LaySpringsRoadGadsden,AL35904(256)546-6324', 'TX PV OS IO RR AD DD SS SC']\n",
      "\n",
      " ['Marshall/JacksonMHAuthorityMountainLakesBehavioralHealthCare22165U.S.Highway431Guntersville,AL35976(2S6)582-4465Hotlines:(256)582-5339(256)582-4465', 'TX PV OS OR IO RR DD SS HH CM MD PI']\n",
      "\n",
      " ['CrestwoodMedicalCtrofHuntsvilleBehavioralServicesIHospitalDriveHuntsville,AL3S801(256)880-4260Hotlincs:(256)880-4260(256)880-4280', 'TX PV OS DT IO ID IR AD DD GH MC MD FG']\n",
      "\n",
      " ['PIHuntsvilleMetroTreatmentCenter2227DrakeAvenueSuite10-DHuntsville,AL35805(256)881-1311', 'TX ML OS DT OD OR DD HV PW']\n",
      "\n",
      " ['SSMadisonCountyMentalHealthCenterNewHorizonsRecoveryCenter600SaintClairStreetNumber9Suite23Huntsville,AL3S801(256)532-4141', 'TX PV OS OR IO CM MD']\n",
      "\n",
      " ['PIPathfinderInc3104IvyAvenueSWHuntsville,AL35805(256)534-7644', 'TX RR HH']\n",
      "\n",
      " ['NorthwestAlabamaMentalHealthCenter11007thAvenueJasper,AL35501(205)387-0541x134Hotline:(800)489-3971', 'TX PV OS OR IO RR SS CM MD FG']\n",
      "\n",
      " ['MaxwellAirForceBaseSubstanceAbuseProgram42MDOS/SGOMH330KirkpatrickAvenueEMaxwellAFB,AL36113-6334(334)493-4534', 'TX PV OS DT OD OR IO PW SS GH CM FG']\n",
      "\n",
      " ['BradfordHealthServicesMobileOutreachMobile1000HillcrestRoadSuite304Mobile,AL36695(800)333-0906Hotlines:(334)633-0900(800)333-0906', 'TX PV OS OR IO']\n",
      "\n",
      " ['SSDauphinWayLodge1009DauphinStreetMobile,AL36604(256)438-4729', 'TX OS IO RR SS HH FG']\n",
      "\n",
      " ['ECDProgram29SOSpringhillAvenueMobile,AL36607(334)476-1677', 'TX IO']\n",
      "\n",
      " ['SSOasis4211GovernmentBoulevardMobile,AL36693(334)666-2569', 'TX OS OR IO SS OH PI']\n",
      "\n",
      " ['BradfordHealthServicesMontgomeryOutreachMontgomery100MendelParkwayMontgomery,AL36117(800)873-2887Hotline:(334)244-0702', 'TX PV OS OR IO AD']\n",
      "\n",
      " ['SSChemicalAddictionsProgramInc1153AirBaseBoulevardMontgomery,AL36108(334)265-4544Hotline:(800)762-3790', 'TX OS IO RR AD SS MD FG']\n"
     ]
    },
    {
     "ename": "IndexError",
     "evalue": "string index out of range",
     "output_type": "error",
     "traceback": [
      "\u001b[0;31m---------------------------------------------------------------------------\u001b[0m",
      "\u001b[0;31mIndexError\u001b[0m                                Traceback (most recent call last)",
      "\u001b[0;32m<ipython-input-853-fc1348e91088>\u001b[0m in \u001b[0;36m<module>\u001b[0;34m\u001b[0m\n\u001b[0;32m----> 1\u001b[0;31m \u001b[0mrun\u001b[0m\u001b[0;34m(\u001b[0m\u001b[0;36m1998\u001b[0m\u001b[0;34m,\u001b[0m \u001b[0;36m12\u001b[0m\u001b[0;34m,\u001b[0m \u001b[0;36m561\u001b[0m\u001b[0;34m)\u001b[0m \u001b[0;31m#12\u001b[0m\u001b[0;34m\u001b[0m\u001b[0;34m\u001b[0m\u001b[0m\n\u001b[0m",
      "\u001b[0;32m<ipython-input-847-55ab118b6cf4>\u001b[0m in \u001b[0;36mrun\u001b[0;34m(year, start_page, end_page)\u001b[0m\n\u001b[1;32m     25\u001b[0m         \u001b[0mrawdata\u001b[0m \u001b[0;34m=\u001b[0m \u001b[0mpdfReader\u001b[0m\u001b[0;34m.\u001b[0m\u001b[0mgetPage\u001b[0m\u001b[0;34m(\u001b[0m\u001b[0mpagen\u001b[0m \u001b[0;34m-\u001b[0m \u001b[0;36m1\u001b[0m\u001b[0;34m)\u001b[0m\u001b[0;34m.\u001b[0m\u001b[0mextractText\u001b[0m\u001b[0;34m(\u001b[0m\u001b[0;34m)\u001b[0m\u001b[0;34m\u001b[0m\u001b[0;34m\u001b[0m\u001b[0m\n\u001b[1;32m     26\u001b[0m \u001b[0;34m\u001b[0m\u001b[0m\n\u001b[0;32m---> 27\u001b[0;31m         \u001b[0mdata\u001b[0m \u001b[0;34m=\u001b[0m \u001b[0msplit_data\u001b[0m\u001b[0;34m(\u001b[0m\u001b[0mrawdata\u001b[0m\u001b[0;34m,\u001b[0m \u001b[0mfirstcity\u001b[0m\u001b[0;34m)\u001b[0m\u001b[0;34m\u001b[0m\u001b[0;34m\u001b[0m\u001b[0m\n\u001b[0m\u001b[1;32m     28\u001b[0m \u001b[0;34m\u001b[0m\u001b[0m\n\u001b[1;32m     29\u001b[0m         \u001b[0;32mwith\u001b[0m \u001b[0mopen\u001b[0m\u001b[0;34m(\u001b[0m\u001b[0msave_as_filename\u001b[0m\u001b[0;34m,\u001b[0m \u001b[0;34m'a'\u001b[0m\u001b[0;34m,\u001b[0m \u001b[0mnewline\u001b[0m\u001b[0;34m=\u001b[0m\u001b[0;34m''\u001b[0m\u001b[0;34m)\u001b[0m \u001b[0;32mas\u001b[0m \u001b[0mfile\u001b[0m\u001b[0;34m:\u001b[0m\u001b[0;34m\u001b[0m\u001b[0;34m\u001b[0m\u001b[0m\n",
      "\u001b[0;32m<ipython-input-852-3065dbee3856>\u001b[0m in \u001b[0;36msplit_data\u001b[0;34m(rawdata, firstcity)\u001b[0m\n\u001b[1;32m     59\u001b[0m     \u001b[0;32mwhile\u001b[0m \u001b[0mi\u001b[0m \u001b[0;34m<\u001b[0m \u001b[0mlen\u001b[0m\u001b[0;34m(\u001b[0m\u001b[0mdata\u001b[0m\u001b[0;34m)\u001b[0m\u001b[0;34m:\u001b[0m\u001b[0;34m\u001b[0m\u001b[0;34m\u001b[0m\u001b[0m\n\u001b[1;32m     60\u001b[0m         \u001b[0mcity\u001b[0m \u001b[0;34m=\u001b[0m \u001b[0mdata\u001b[0m\u001b[0;34m[\u001b[0m\u001b[0mi\u001b[0m\u001b[0;34m]\u001b[0m\u001b[0;34m\u001b[0m\u001b[0;34m\u001b[0m\u001b[0m\n\u001b[0;32m---> 61\u001b[0;31m         \u001b[0;32mif\u001b[0m \u001b[0;32mnot\u001b[0m \u001b[0mcity\u001b[0m\u001b[0;34m[\u001b[0m\u001b[0;36m0\u001b[0m\u001b[0;34m]\u001b[0m\u001b[0;34m[\u001b[0m\u001b[0;36m0\u001b[0m\u001b[0;34m]\u001b[0m\u001b[0;34m.\u001b[0m\u001b[0misupper\u001b[0m\u001b[0;34m(\u001b[0m\u001b[0;34m)\u001b[0m\u001b[0;34m:\u001b[0m\u001b[0;34m\u001b[0m\u001b[0;34m\u001b[0m\u001b[0m\n\u001b[0m\u001b[1;32m     62\u001b[0m             \u001b[0minit\u001b[0m \u001b[0;34m=\u001b[0m \u001b[0mdata\u001b[0m\u001b[0;34m[\u001b[0m\u001b[0mi\u001b[0m \u001b[0;34m-\u001b[0m \u001b[0;36m1\u001b[0m\u001b[0;34m]\u001b[0m\u001b[0;34m[\u001b[0m\u001b[0;34m-\u001b[0m\u001b[0;36m1\u001b[0m\u001b[0;34m]\u001b[0m\u001b[0;34m[\u001b[0m\u001b[0;34m-\u001b[0m\u001b[0;36m1\u001b[0m\u001b[0;34m]\u001b[0m\u001b[0;34m[\u001b[0m\u001b[0;34m-\u001b[0m\u001b[0;36m2\u001b[0m\u001b[0;34m:\u001b[0m\u001b[0;34m]\u001b[0m\u001b[0;34m.\u001b[0m\u001b[0mcapitalize\u001b[0m\u001b[0;34m(\u001b[0m\u001b[0;34m)\u001b[0m\u001b[0;34m\u001b[0m\u001b[0;34m\u001b[0m\u001b[0m\n\u001b[1;32m     63\u001b[0m             \u001b[0mdata\u001b[0m\u001b[0;34m[\u001b[0m\u001b[0mi\u001b[0m \u001b[0;34m-\u001b[0m \u001b[0;36m1\u001b[0m\u001b[0;34m]\u001b[0m\u001b[0;34m[\u001b[0m\u001b[0;34m-\u001b[0m\u001b[0;36m1\u001b[0m\u001b[0;34m]\u001b[0m\u001b[0;34m[\u001b[0m\u001b[0;34m-\u001b[0m\u001b[0;36m1\u001b[0m\u001b[0;34m]\u001b[0m \u001b[0;34m=\u001b[0m \u001b[0mdata\u001b[0m\u001b[0;34m[\u001b[0m\u001b[0mi\u001b[0m \u001b[0;34m-\u001b[0m \u001b[0;36m1\u001b[0m\u001b[0;34m]\u001b[0m\u001b[0;34m[\u001b[0m\u001b[0;34m-\u001b[0m\u001b[0;36m1\u001b[0m\u001b[0;34m]\u001b[0m\u001b[0;34m[\u001b[0m\u001b[0;34m-\u001b[0m\u001b[0;36m1\u001b[0m\u001b[0;34m]\u001b[0m\u001b[0;34m[\u001b[0m\u001b[0;34m:\u001b[0m\u001b[0;34m-\u001b[0m\u001b[0;36m3\u001b[0m\u001b[0;34m]\u001b[0m\u001b[0;34m\u001b[0m\u001b[0;34m\u001b[0m\u001b[0m\n",
      "\u001b[0;31mIndexError\u001b[0m: string index out of range"
     ]
    }
   ],
   "source": [
    "run(1998, 12, 561) #12"
   ]
  },
  {
   "cell_type": "code",
   "execution_count": 842,
   "metadata": {},
   "outputs": [],
   "source": [
    "year = 1998\n",
    "pagen = 12\n",
    "firstcity = \"Alexandar City\"\n",
    "rawdata = pdfReader.getPage(pagen - 1).extractText()\n",
    "data = split_data(rawdata, firstcity)\n",
    "with open(save_as_filename, 'a', newline='') as file:\n",
    "    writer = csv.writer(file)\n",
    "    clean_data(writer, data, year, pagen)"
   ]
  },
  {
   "cell_type": "code",
   "execution_count": 913,
   "metadata": {},
   "outputs": [
    {
     "data": {
      "text/plain": [
       "'JacksonHospitalPsychiatricUnit1235ForestAvenueMontgomery,AL36106(334)293-8660TXDT/ID/GH/MCMDFGPILighthouseCounselingCenterIncIntensiveOutpatientUnit1415EastSouthBoulevardMontgomery,AL36116(334)286-5980TXPVOS/ORIO/DDHVPW/SS/MDPIMeadhavenAddictiveDiseaseProgram2105EastSouthBoulevardMontgomery,AL36116(334)286-3535TXPVOSDT/ODIOIDIR/DD/GH/MCFGPIMontgomeryMetroTreatmentCenter4303NormanBridgeRoadMontgomery,AL36105(334)288-5363TXMLPVOSDT/ODORIO/SSGHSGMUSCLESHOALSROGERSVILLETheFreedomHouseRoute4Rogersvillc,AL35652(205)247-1222TX/10RR/PW/SSOHHHRUSSELLVILLESunriseLodgeSubstanceAbuseTreatmentCenter1163WashingtonAvenueSWRussellville,AL3S653(205)332-0078TX/RR/SS/MDPlSELMACahabaCaresSubstanceAbuseServices912JeffDavisAvenueSelma,AL36701(334)874-2600Hotline:(334)875-2109TXPVOS/ORIO/ADHVPW/SSCJ/MDPhoenixHouseInc70035thAvenueTuscaloosa,AL35401(205)758-3867TX/RR/HH/FGTuscaloosaTreatmentCenterS3SRiverRoadNESuiteG-3Tuscaloosa,AL35404(205)507-0800TXMLOSDT/ODOR/SS/PIVeteransAffairsMedicalCenterPrimaryCareSubstanceAbuseClinic3701LoopRoadEastTuscaloosa.AL3S404(205)554-2000x2690TXPVOSDT/ODORIO/SSPH/FGTUSKEGEECentralAlabamaVeteranHealthCareSystem2400HospitalRoadTuskegee,AL36083(334)727-0550x4184TXPVOSDT/ORID/SSGHPH/FGShoalsTreatmentCenter520LouiseStreetMuscleShoals,AL35661(205)383-6646TXMLPVOSDT/ODOR/SS/PIPELHAMBradfordHealthServicesOakMountainShelby2280Highway35SouthPelham,AL3S124(20S)664-3480TX/RR/AD/SSOH/FGPIPHENIXCITYLifelineServicesIncRussellCountyLocation1602BroadStreetPhenixCity,AL36867(888)329-0440TXPVOS/ORIO/SSCJROANOKESelfDiscoveryInc59928Highway22Roanoke,AL36274(888)283-6747TXOSDT/IDIR/GH/MCPISPANISHFORTTheShoulder4901BattleshipParkwaySpanishFort,AL36577(334)626-2199TXPVOS/10RR/SSHHSYLACAUGACheahaRegionalMentalHealthMentalRetardationBoardlnc1721OldBirminghamHighwaySylacauga,AL351SO(256)249-2395Hotline:(256)245-2201TXPVOSDT/IORDRR/AD/SS/MDTUSCALOOSAIndianRiversMentalHealthCenterAlcoholandDrugAbuseProgramS0519thAvenueTuscaloosa,AL35401(205)391-0118Hotline:(205)345-1600TXPVOS/ORIORR/DDPW/SSCMCH/MCMDFGPlWARRIORBradfordHealthServicesWarriorLodge/Jefferson1189AllbrittonRoadWarrior,AL35180(800)333-1865Hotlincs:(20S)647-1945(800)648-1945TXPVOSDT/IORDRR/DD/SSTC/FGPIWETUMPKABradfordHealthServicesatElmoreCommunityHospitalC/0ElmoreCommunityHospitalSOOHospitalDriveWetumpka,AL36092(334)567-4311TXOSDT/IDIR/GHForCodeDefinitions-SeeKEYonpagev.ALABAMA'"
      ]
     },
     "execution_count": 913,
     "metadata": {},
     "output_type": "execute_result"
    }
   ],
   "source": [
    "pagen = 14\n",
    "rawdata = pdfReader.getPage(pagen - 1).extractText()\n",
    "rawdata"
   ]
  },
  {
   "cell_type": "code",
   "execution_count": 914,
   "metadata": {},
   "outputs": [
    {
     "name": "stdout",
     "output_type": "stream",
     "text": [
      "[['', ['JacksonHospitalPsychiatricUnit1235ForestAvenueMontgomery,AL36106(334)293-8660', 'TX DT ID GH MC MD FG PI'], ['LighthouseCounselingCenterIncIntensiveOutpatientUnit1415EastSouthBoulevardMontgomery,AL36116(334)286-5980', 'TX PV OS OR IO DD HV PW SS MD PI'], ['MeadhavenAddictiveDiseaseProgram2105EastSouthBoulevardMontgomery,AL36116(334)286-3535', 'TX PV OS DT OD IO ID IR DD GH MC FG PI'], ['MontgomeryMetroTreatmentCenter4303NormanBridgeRoadMontgomery,AL36105(334)288-5363', 'TX ML PV OS DT OD OR IO SS GH SG'], ['MUSCLESHOALSROGERSVILLETheFreedomHouseRoute4Rogersvillc,AL35652(205)247-1222TX/10', 'RR PW SS OH HH'], ['RUSSELLVILLESunriseLodgeSubstanceAbuseTreatmentCenter1163WashingtonAvenueSWRussellville,AL3S653(205)332-0078', 'TX RR SS MD PI'], ['SELMACahabaCaresSubstanceAbuseServices912JeffDavisAvenueSelma,AL36701(334)874-2600Hotline:(334)875-2109', 'TX PV OS OR IO AD HV PW SS CJ MD'], ['PhoenixHouseInc70035thAvenueTuscaloosa,AL35401(205)758-3867', 'TX RR HH FG'], ['TuscaloosaTreatmentCenterS3SRiverRoadNESuiteG-3Tuscaloosa,AL35404(205)507-0800', 'TX ML OS DT OD OR SS PI'], ['VeteransAffairsMedicalCenterPrimaryCareSubstanceAbuseClinic3701LoopRoadEastTuscaloosa.AL3S404(205)554-2000x2690', 'TX PV OS DT OD OR IO SS PH FG'], ['TUSKEGEECentralAlabamaVeteranHealthCareSystem2400HospitalRoadTuskegee,AL36083(334)727-0550x4184', 'TX PV OS DT OR ID SS GH PH FG'], ['ShoalsTreatmentCenter520LouiseStreetMuscleShoals,AL35661(205)383-6646', 'TX ML PV OS DT OD OR SS PI'], ['PELHAMBradfordHealthServicesOakMountainShelby2280Highway35SouthPelham,AL3S124(20S)664-3480', 'TX RR AD SS OH FG PI PH'], ['ENIXCITYLifelineServicesIncRussellCountyLocation1602BroadStreetPhenixCity,AL36867(888)329-0440', 'TX PV OS OR IO SS CJ'], ['ROANOKESelfDiscoveryInc59928Highway22Roanoke,AL36274(888)283-6747', 'TX OS DT ID IR GH MC PI'], ['SPANISHFORTTheShoulder4901BattleshipParkwaySpanishFort,AL36577(334)626-2199', 'TX PV OS IO RR SS HH'], ['SYLACAUGACheahaRegionalMentalHealthMentalRetardationBoardlnc1721OldBirminghamHighwaySylacauga,AL351SO(256)249-2395Hotline:(256)245-2201', 'TX PV OS DT IO RD RR AD SS MD'], ['TUSCALOOSAIndianRiversMentalHealthCenterAlcoholandDrugAbuseProgramS0519thAvenueTuscaloosa,AL35401(205)391-0118Hotline:(205)345-1600', 'TX PV OS OR IO RR DD PW SS CM CH MC MD FG PI'], ['WARRIORBradfordHealthServicesWarriorLodge/Jefferson1189AllbrittonRoadWarrior,AL35180(800)333-1865Hotlincs:(20S)647-1945(800)648-1945', 'TX PV OS DT IO RD RR DD SS TC FG PI'], ['WETUMPKABradfordHealthServicesatElmoreCommunityHospitalC/0ElmoreCommunityHospitalSOOHospitalDriveWetumpka,AL36092(334)567-4311', 'TX OS DT ID IR GH'], ['ForCodeDefinitions-SeeKEYonpagev.', '']]]\n"
     ]
    },
    {
     "ename": "IndexError",
     "evalue": "string index out of range",
     "output_type": "error",
     "traceback": [
      "\u001b[0;31m---------------------------------------------------------------------------\u001b[0m",
      "\u001b[0;31mIndexError\u001b[0m                                Traceback (most recent call last)",
      "\u001b[0;32m<ipython-input-914-e70f5151cd0e>\u001b[0m in \u001b[0;36m<module>\u001b[0;34m\u001b[0m\n\u001b[0;32m----> 1\u001b[0;31m \u001b[0mdata\u001b[0m \u001b[0;34m=\u001b[0m \u001b[0msplit_data\u001b[0m\u001b[0;34m(\u001b[0m\u001b[0mrawdata\u001b[0m\u001b[0;34m,\u001b[0m \u001b[0;34m\"Alexander City\"\u001b[0m\u001b[0;34m)\u001b[0m\u001b[0;34m\u001b[0m\u001b[0;34m\u001b[0m\u001b[0m\n\u001b[0m",
      "\u001b[0;32m<ipython-input-911-8277c56b8d28>\u001b[0m in \u001b[0;36msplit_data\u001b[0;34m(rawdata, firstcity)\u001b[0m\n\u001b[1;32m     61\u001b[0m     \u001b[0;32mwhile\u001b[0m \u001b[0mi\u001b[0m \u001b[0;34m<\u001b[0m \u001b[0mlen\u001b[0m\u001b[0;34m(\u001b[0m\u001b[0mdata\u001b[0m\u001b[0;34m)\u001b[0m\u001b[0;34m:\u001b[0m\u001b[0;34m\u001b[0m\u001b[0;34m\u001b[0m\u001b[0m\n\u001b[1;32m     62\u001b[0m         \u001b[0mcity\u001b[0m \u001b[0;34m=\u001b[0m \u001b[0mdata\u001b[0m\u001b[0;34m[\u001b[0m\u001b[0mi\u001b[0m\u001b[0;34m]\u001b[0m\u001b[0;34m\u001b[0m\u001b[0;34m\u001b[0m\u001b[0m\n\u001b[0;32m---> 63\u001b[0;31m         \u001b[0;32mif\u001b[0m \u001b[0;32mnot\u001b[0m \u001b[0mcity\u001b[0m\u001b[0;34m[\u001b[0m\u001b[0;36m0\u001b[0m\u001b[0;34m]\u001b[0m\u001b[0;34m[\u001b[0m\u001b[0;36m0\u001b[0m\u001b[0;34m]\u001b[0m\u001b[0;34m.\u001b[0m\u001b[0misupper\u001b[0m\u001b[0;34m(\u001b[0m\u001b[0;34m)\u001b[0m\u001b[0;34m:\u001b[0m\u001b[0;34m\u001b[0m\u001b[0;34m\u001b[0m\u001b[0m\n\u001b[0m\u001b[1;32m     64\u001b[0m             \u001b[0minit\u001b[0m \u001b[0;34m=\u001b[0m \u001b[0mdata\u001b[0m\u001b[0;34m[\u001b[0m\u001b[0mi\u001b[0m \u001b[0;34m-\u001b[0m \u001b[0;36m1\u001b[0m\u001b[0;34m]\u001b[0m\u001b[0;34m[\u001b[0m\u001b[0;34m-\u001b[0m\u001b[0;36m1\u001b[0m\u001b[0;34m]\u001b[0m\u001b[0;34m[\u001b[0m\u001b[0;34m-\u001b[0m\u001b[0;36m1\u001b[0m\u001b[0;34m]\u001b[0m\u001b[0;34m[\u001b[0m\u001b[0;34m-\u001b[0m\u001b[0;36m2\u001b[0m\u001b[0;34m:\u001b[0m\u001b[0;34m]\u001b[0m\u001b[0;34m.\u001b[0m\u001b[0mcapitalize\u001b[0m\u001b[0;34m(\u001b[0m\u001b[0;34m)\u001b[0m\u001b[0;34m\u001b[0m\u001b[0;34m\u001b[0m\u001b[0m\n\u001b[1;32m     65\u001b[0m             \u001b[0mdata\u001b[0m\u001b[0;34m[\u001b[0m\u001b[0mi\u001b[0m \u001b[0;34m-\u001b[0m \u001b[0;36m1\u001b[0m\u001b[0;34m]\u001b[0m\u001b[0;34m[\u001b[0m\u001b[0;34m-\u001b[0m\u001b[0;36m1\u001b[0m\u001b[0;34m]\u001b[0m\u001b[0;34m[\u001b[0m\u001b[0;34m-\u001b[0m\u001b[0;36m1\u001b[0m\u001b[0;34m]\u001b[0m \u001b[0;34m=\u001b[0m \u001b[0mdata\u001b[0m\u001b[0;34m[\u001b[0m\u001b[0mi\u001b[0m \u001b[0;34m-\u001b[0m \u001b[0;36m1\u001b[0m\u001b[0;34m]\u001b[0m\u001b[0;34m[\u001b[0m\u001b[0;34m-\u001b[0m\u001b[0;36m1\u001b[0m\u001b[0;34m]\u001b[0m\u001b[0;34m[\u001b[0m\u001b[0;34m-\u001b[0m\u001b[0;36m1\u001b[0m\u001b[0;34m]\u001b[0m\u001b[0;34m[\u001b[0m\u001b[0;34m:\u001b[0m\u001b[0;34m-\u001b[0m\u001b[0;36m3\u001b[0m\u001b[0;34m]\u001b[0m\u001b[0;34m\u001b[0m\u001b[0;34m\u001b[0m\u001b[0m\n",
      "\u001b[0;31mIndexError\u001b[0m: string index out of range"
     ]
    }
   ],
   "source": [
    "data = split_data(rawdata, \"Montgomery\")"
   ]
  },
  {
   "cell_type": "code",
   "execution_count": 235,
   "metadata": {},
   "outputs": [],
   "source": [
    "data = [['MaxwellAirForceBaseSubstanceAbuseProgram42MDOS/SGOMH330KirkpatrickAvenueEMaxwellAFB,AL36113-6334(334)493-4534TXPVOSDT/ODORIO/PW/SSGHCM/FGMOBILE'],\n",
    " ['BradfordHealthServicesMobileOutreachMobile1000HillcrestRoadSuite304Mobile,AL36695(800)333-0906Hotlines:(334)633-0900(800)333-0906TXPVOS/ORIO/SS'],\n",
    " ['DauphinWayLodge1009DauphinStreetMobile,AL36604(256)438-4729TXOS/IORR/SSHH/FGECD'],\n",
    " ['Program29SOSpringhillAvenueMobile,AL36607(334)476-1677TX/IO/SS'],\n",
    " ['Oasis4211GovernmentBoulevardMobile,AL36693(334)666-2569TXOS/OR10/SSOH/PIMONTGOMERY'],\n",
    " ['BradfordHealthServicesMontgomeryOutreachMontgomery100MendelParkwayMontgomery,AL36117(800)873-2887Hotline:(334)244-0702TXPVOS/ORIO/AD/SS'],\n",
    " ['ChemicalAddictionsProgramInc1153AirBaseBoulevardMontgomery,AL36108(334)265-4544Hotline:(800)762-3790TXOS/IORR/AD/SS/MDFGALABAMA']]"
   ]
  },
  {
   "cell_type": "code",
   "execution_count": 236,
   "metadata": {
    "scrolled": false
   },
   "outputs": [
    {
     "name": "stdout",
     "output_type": "stream",
     "text": [
      "\n",
      " MaxwellAirForceBaseSubstanceAbuseProgram42MDOS/SGOMH330KirkpatrickAvenueEMaxwellAFB,AL36113-6334(334)493-4534TXPVOSDT/ODORIO/PW/SSGHCM/FGMOBILE\n",
      "\n",
      " BradfordHealthServicesMobileOutreachMobile1000HillcrestRoadSuite304Mobile,AL36695(800)333-0906Hotlines:(334)633-0900(800)333-0906TXPVOS/ORIO/SS\n",
      "\n",
      " DauphinWayLodge1009DauphinStreetMobile,AL36604(256)438-4729TXOS/IORR/SSHH/FGECD\n",
      "\n",
      " Program29SOSpringhillAvenueMobile,AL36607(334)476-1677TX/IO/SS\n",
      "\n",
      " Oasis4211GovernmentBoulevardMobile,AL36693(334)666-2569TXOS/OR10/SSOH/PIMONTGOMERY\n",
      "\n",
      " BradfordHealthServicesMontgomeryOutreachMontgomery100MendelParkwayMontgomery,AL36117(800)873-2887Hotline:(334)244-0702TXPVOS/ORIO/AD/SS\n",
      "\n",
      " ChemicalAddictionsProgramInc1153AirBaseBoulevardMontgomery,AL36108(334)265-4544Hotline:(800)762-3790TXOS/IORR/AD/SS/MDFGALABAMA\n"
     ]
    }
   ],
   "source": [
    "save_as_filename = '{0}/{0}.csv'.format(year)\n",
    "\n",
    "with open(save_as_filename, 'a', newline='') as file:\n",
    "    writer = csv.writer(file)\n",
    "    clean_data(writer, data, year, pagen)"
   ]
  },
  {
   "cell_type": "markdown",
   "metadata": {},
   "source": [
    "- Check each term that has something blanck"
   ]
  },
  {
   "cell_type": "code",
   "execution_count": null,
   "metadata": {},
   "outputs": [],
   "source": []
  }
 ],
 "metadata": {
  "kernelspec": {
   "display_name": "Python 3",
   "language": "python",
   "name": "python3"
  },
  "language_info": {
   "codemirror_mode": {
    "name": "ipython",
    "version": 3
   },
   "file_extension": ".py",
   "mimetype": "text/x-python",
   "name": "python",
   "nbconvert_exporter": "python",
   "pygments_lexer": "ipython3",
   "version": "3.7.6"
  }
 },
 "nbformat": 4,
 "nbformat_minor": 4
}
