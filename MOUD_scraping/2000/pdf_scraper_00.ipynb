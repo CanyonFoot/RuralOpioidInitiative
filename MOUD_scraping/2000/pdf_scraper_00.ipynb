{
 "cells": [
  {
   "cell_type": "markdown",
   "metadata": {},
   "source": [
    "#### Imports"
   ]
  },
  {
   "cell_type": "code",
   "execution_count": 1,
   "metadata": {},
   "outputs": [],
   "source": [
    "import PyPDF2\n",
    "import csv\n",
    "import re\n",
    "import json\n",
    "import os\n",
    "import us\n",
    "import numpy as np"
   ]
  },
  {
   "cell_type": "code",
   "execution_count": 2,
   "metadata": {},
   "outputs": [],
   "source": [
    "YEAR = 2000"
   ]
  },
  {
   "cell_type": "markdown",
   "metadata": {},
   "source": [
    "# OCR with Adobe Acrobat and extraction with fitz"
   ]
  },
  {
   "cell_type": "code",
   "execution_count": 3,
   "metadata": {},
   "outputs": [],
   "source": [
    "from __future__ import print_function\n",
    "from itertools import groupby\n",
    "import fitz\n",
    "import matplotlib.pyplot as plt"
   ]
  },
  {
   "cell_type": "markdown",
   "metadata": {},
   "source": [
    "### Extract text"
   ]
  },
  {
   "cell_type": "code",
   "execution_count": 4,
   "metadata": {},
   "outputs": [
    {
     "name": "stdout",
     "output_type": "stream",
     "text": [
      "Number of pages: 618\n"
     ]
    }
   ],
   "source": [
    "#open PDF which has gone through Adobe Acrobat OCR\n",
    "doc = fitz.open(\"directory_{}_OCR.pdf\".format(YEAR))\n",
    "print('Number of pages:', len(doc))"
   ]
  },
  {
   "cell_type": "code",
   "execution_count": 5,
   "metadata": {},
   "outputs": [],
   "source": [
    "def text_to_rows(text, threshold):\n",
    "    '''\n",
    "    Splits a list of into rows.\n",
    "    Inputs:\n",
    "        Text: a list of tuple containing individual words and their positions\n",
    "        Threshold: the distance between lines\n",
    "    Outputs:\n",
    "        List of list that represent rows.\n",
    "    '''\n",
    "    if text == []:\n",
    "        return []\n",
    "    text_by_row = []\n",
    "    temp = []\n",
    "    init_y = text[0][1] #y0\n",
    "    i = 0\n",
    "    while i < len(text):\n",
    "        if (text[i][1] < init_y + threshold) and (text[i][1] > init_y - threshold):\n",
    "            temp.append(text[i][4])\n",
    "        else:\n",
    "            text_by_row.append(temp)\n",
    "            temp = [text[i][4]]\n",
    "            init_y = int(text[i][1])\n",
    "        i += 1\n",
    "    text_by_row.append(temp)\n",
    "    return text_by_row"
   ]
  },
  {
   "cell_type": "code",
   "execution_count": 6,
   "metadata": {},
   "outputs": [],
   "source": [
    "\n",
    "def text_to_rows(text, threshold):\n",
    "    '''\n",
    "    Splits a list of into rows.\n",
    "    Inputs:\n",
    "        Text: a list of tuple containing individual words and their positions\n",
    "        Threshold: the distance between lines\n",
    "    Outputs:\n",
    "        List of list that represent rows.\n",
    "    '''\n",
    "    if text == []:\n",
    "        return []\n",
    "    row_centroids = []\n",
    "    text_by_row = []\n",
    "    for word in text:\n",
    "        i = 0\n",
    "        newline = True\n",
    "        while i < len(row_centroids):\n",
    "            if (word[1] < row_centroids[i] + threshold) and (word[1] > row_centroids[i] - threshold):\n",
    "                text_by_row[i] += [word[4]]\n",
    "                newline = False\n",
    "                break\n",
    "            i += 1\n",
    "        if newline:\n",
    "            row_centroids.append(word[1])\n",
    "            text_by_row.append([word[4]])\n",
    "    return text_by_row"
   ]
  },
  {
   "cell_type": "markdown",
   "metadata": {},
   "source": [
    "- Extract keys"
   ]
  },
  {
   "cell_type": "code",
   "execution_count": 7,
   "metadata": {},
   "outputs": [],
   "source": [
    "abbr_keys = {}"
   ]
  },
  {
   "cell_type": "code",
   "execution_count": 8,
   "metadata": {},
   "outputs": [],
   "source": [
    "#keys for treatment\n",
    "pagen = 9\n",
    "words = doc[pagen - 1].getText(\"words\")\n",
    "words = text_to_rows(words, 5)"
   ]
  },
  {
   "cell_type": "code",
   "execution_count": 9,
   "metadata": {},
   "outputs": [],
   "source": [
    "for line in words[2:-6]:\n",
    "    if line[0].isupper():\n",
    "        abbr_keys[line[0]] = ' '.join(line[1:])"
   ]
  },
  {
   "cell_type": "code",
   "execution_count": 10,
   "metadata": {},
   "outputs": [],
   "source": [
    "#keys for language\n",
    "#None"
   ]
  },
  {
   "cell_type": "code",
   "execution_count": 11,
   "metadata": {},
   "outputs": [],
   "source": [
    "abbr_keys['ML'] = 'Methadone/LAAM (Includes use for maintenance and/or detoxification. \\\n",
    "Check with facility for details.)'"
   ]
  },
  {
   "cell_type": "code",
   "execution_count": 12,
   "metadata": {},
   "outputs": [
    {
     "data": {
      "text/plain": [
       "{'SA': 'Substance abuse treatment services',\n",
       " 'MH': 'Mental health services',\n",
       " 'MH-SA': 'Mix of mental health and substance abuse services',\n",
       " 'GH': 'General health services',\n",
       " 'TX': 'Substance abuse treatment',\n",
       " 'DT': 'Detoxification',\n",
       " 'ML': 'Methadone/LAAM (Includes use for maintenance and/or detoxification. Check with facility for details.)',\n",
       " 'HH': 'Halfway house',\n",
       " 'OP': 'Outpatient',\n",
       " 'PH': 'Partial hospitalization/Day treatment',\n",
       " 'RR': 'Non-hospital residential (24 hour)',\n",
       " 'HI': 'Hospital inpatient',\n",
       " 'AD': 'Adolescents',\n",
       " 'DD': 'Dually diagnosed',\n",
       " 'HV': 'Persons with HIV/ AIDS',\n",
       " 'PW': 'Pregnant/postpartum women',\n",
       " 'OW': \"Other women's groups\",\n",
       " 'DU': 'DUI/DWI offenders',\n",
       " 'CJ': 'Other criminal justice groups',\n",
       " 'MD': 'Medicaid',\n",
       " 'MC': 'Medicare',\n",
       " 'PI': 'Private health insurance',\n",
       " 'MI': 'Military insurance (e.g. VA, TRICARE)',\n",
       " 'SS': 'Sliding fee scale (Fee is based on income and other factors.)',\n",
       " 'OA': 'Other assistance'}"
      ]
     },
     "execution_count": 12,
     "metadata": {},
     "output_type": "execute_result"
    }
   ],
   "source": [
    "abbr_keys"
   ]
  },
  {
   "cell_type": "code",
   "execution_count": 13,
   "metadata": {},
   "outputs": [],
   "source": [
    "# add keys not included in front page but appeared elsewhere?"
   ]
  },
  {
   "cell_type": "markdown",
   "metadata": {},
   "source": [
    "- Explore text"
   ]
  },
  {
   "cell_type": "code",
   "execution_count": 14,
   "metadata": {},
   "outputs": [],
   "source": [
    "firstpagen = 17"
   ]
  },
  {
   "cell_type": "code",
   "execution_count": 15,
   "metadata": {},
   "outputs": [
    {
     "data": {
      "text/plain": [
       "<matplotlib.lines.Line2D at 0x7f801f5f3490>"
      ]
     },
     "execution_count": 15,
     "metadata": {},
     "output_type": "execute_result"
    },
    {
     "data": {
      "image/png": "[encoded data removed]",
      "text/plain": [
       "<Figure size 432x288 with 1 Axes>"
      ]
     },
     "metadata": {
      "needs_background": "light"
     },
     "output_type": "display_data"
    }
   ],
   "source": [
    "# - explore the page set up - \n",
    "# select a page\n",
    "words = doc[firstpagen - 1].getText(\"words\")\n",
    "# check the y distribution to remove top and bottom crap...\n",
    "y0s = [word[1] for word in words]\n",
    "a = plt.hist(y0s, bins = 100)\n",
    "plt.axvline(25, color='black')\n",
    "plt.axvline(730, color='black')\n",
    "#pages with the box of keys"
   ]
  },
  {
   "cell_type": "code",
   "execution_count": 16,
   "metadata": {},
   "outputs": [
    {
     "data": {
      "text/plain": [
       "<matplotlib.lines.Line2D at 0x7f8007db43d0>"
      ]
     },
     "execution_count": 16,
     "metadata": {},
     "output_type": "execute_result"
    },
    {
     "data": {
      "image/png": "[encoded data removed]",
      "text/plain": [
       "<Figure size 432x288 with 1 Axes>"
      ]
     },
     "metadata": {
      "needs_background": "light"
     },
     "output_type": "display_data"
    }
   ],
   "source": [
    "#pagen is odd\n",
    "for pagen in range(100, 200, 2):\n",
    "    words = doc[pagen - 1].getText(\"words\")\n",
    "    words = [word for word in words if (word[1] > 25) and (word[1] < 730)]\n",
    "    x0s = [word[0] for word in words]\n",
    "    a = plt.hist(x0s, bins = 150)\n",
    "\n",
    "plt.axvline(223, color='black')\n",
    "plt.axvline(385, color='black')"
   ]
  },
  {
   "cell_type": "code",
   "execution_count": 17,
   "metadata": {},
   "outputs": [
    {
     "data": {
      "text/plain": [
       "<matplotlib.lines.Line2D at 0x7f8011314ed0>"
      ]
     },
     "execution_count": 17,
     "metadata": {},
     "output_type": "execute_result"
    },
    {
     "data": {
      "image/png": "[encoded data removed]",
      "text/plain": [
       "<Figure size 432x288 with 1 Axes>"
      ]
     },
     "metadata": {
      "needs_background": "light"
     },
     "output_type": "display_data"
    }
   ],
   "source": [
    "#pagen is even\n",
    "for pagen in range(101, 200, 2):\n",
    "    words = doc[pagen - 1].getText(\"words\")\n",
    "    words = [word for word in words if (word[1] > 25) and (word[1] < 730)]\n",
    "    x0s = [word[0] for word in words]\n",
    "    a = plt.hist(x0s, bins = 150)\n",
    "\n",
    "plt.axvline(210, color='black')\n",
    "plt.axvline(373, color='black')"
   ]
  },
  {
   "cell_type": "markdown",
   "metadata": {},
   "source": [
    "- Read text from PDF"
   ]
  },
  {
   "cell_type": "code",
   "execution_count": 18,
   "metadata": {},
   "outputs": [],
   "source": [
    "def get_words_in_box(page, pagen, ulim, blim, col1lim, col2lim, col1lim_odd, col2lim_odd):\n",
    "    '''\n",
    "    Extract words from each column of the PDF.\n",
    "    '''\n",
    "    page_txt = []\n",
    "    pagen_is_even = (pagen%2 == 1)\n",
    "    words = page.getText(\"words\") \n",
    "    #cut off top and bottom\n",
    "    words = [word for word in words if word[1] > ulim]\n",
    "    words = [word for word in words if word[1] < blim]\n",
    "    #get three columns\n",
    "    if pagen_is_even:\n",
    "        page_txt.append(text_to_rows([word for word in words if word[0] < col1lim], 5))\n",
    "        page_txt.append(text_to_rows([word for word in words if ((word[0] > col1lim) and (word[0] < col2lim))], 5))\n",
    "        page_txt.append(text_to_rows([word for word in words if word[0] > col2lim], 5))\n",
    "        return page_txt\n",
    "    page_txt.append(text_to_rows([word for word in words if word[0] < col1lim_odd], 5))\n",
    "    page_txt.append(text_to_rows([word for word in words if ((word[0] > col1lim_odd) and (word[0] < col2lim_odd))], 5))\n",
    "    page_txt.append(text_to_rows([word for word in words if word[0] > col2lim_odd], 5))\n",
    "    return page_txt"
   ]
  },
  {
   "cell_type": "code",
   "execution_count": 19,
   "metadata": {},
   "outputs": [],
   "source": [
    "#testing\n",
    "#get_words_in_box(doc[firstpagen - 1], firstpagen, 35, 740, 210, 373, 223, 385)\n",
    "#page with some blanck\n",
    "#get_words_in_box(doc[24 - 1], 35, 740, 217, 388)"
   ]
  },
  {
   "cell_type": "code",
   "execution_count": 20,
   "metadata": {},
   "outputs": [],
   "source": [
    "#run\n",
    "data = []\n",
    "for pagen in range(firstpagen, len(doc) + 1):\n",
    "    data.append(get_words_in_box(doc[pagen-1], pagen, 35, 740, 210, 373, 223, 385))"
   ]
  },
  {
   "cell_type": "code",
   "execution_count": 21,
   "metadata": {},
   "outputs": [],
   "source": [
    "#data[0][0]"
   ]
  },
  {
   "cell_type": "markdown",
   "metadata": {},
   "source": [
    "# Write data into csv"
   ]
  },
  {
   "cell_type": "markdown",
   "metadata": {},
   "source": [
    "- Checking + cleaning each part of data"
   ]
  },
  {
   "cell_type": "code",
   "execution_count": 750,
   "metadata": {},
   "outputs": [],
   "source": [
    "def is_keys(line):\n",
    "    '''\n",
    "    Check if the line (list of list) is a list of keys\n",
    "    '''\n",
    "    #print(\"checking if line is keys...\", line)\n",
    "    if is_citystatezip(line) or is_contact(line) or is_address(line):\n",
    "        return False\n",
    "    line_cleaned = clean_keys(line)\n",
    "    if not line_cleaned:\n",
    "        return False\n",
    "    if not any(x not in abbr_keys for x in line_cleaned):\n",
    "        return True\n",
    "    if line_cleaned[0] in abbr_keys:\n",
    "        if len(line_cleaned) > 2 and line_cleaned[1] in abbr_keys:\n",
    "            print(\"This line has more than 1 keys but not all, please check:\", line)\n",
    "        elif len(line_cleaned) > 3 and line_cleaned[2] in abbr_keys:\n",
    "            print(\"This line has more than 1 keys but not all, please check:\", line)\n",
    "    return False\n",
    "\n",
    "def clean_keys(line):\n",
    "    keys_cleaned = []\n",
    "    i = 0\n",
    "    while i < len(line):\n",
    "        key = line[i].replace('Dl/', 'DU').replace('l', 'I').replace(\"01'\", 'OP').replace('1', 'I').replace('!', 'I')\\\n",
    "        .replace('\\\\V', 'W').replace('0', 'O').replace('I\\\\', 'A').replace('/\\\\', 'A')\n",
    "        if (i < len(line) - 1):\n",
    "            key_next = line[i + 1].replace('l', 'I').replace('1', 'I').replace('!', 'I')\n",
    "        if (i < len(line) - 1) and ('M' in (key + line[i + 1])) and ('-SA' in (key + line[i + 1])) and len((key + line[i + 1])) < 8:\n",
    "            keys_cleaned.append('MH-SA')\n",
    "            i += 2\n",
    "        elif (i < len(line) - 1) and (key == 'MI' or key == 'MI-') and (key_next == 'I' or key_next == 'I/'):\n",
    "            keys_cleaned.append('MH')\n",
    "            i += 2\n",
    "        elif (i < len(line) - 1) and (key == 'PI' or key == 'PI-') and (key_next == 'I' or key_next == 'I/'):\n",
    "            keys_cleaned.append('PH')\n",
    "            i += 2\n",
    "        elif (i < len(line) - 1) and key == 'M' and (key_next == 'I' or key_next == 'I/'):\n",
    "            keys_cleaned.append('MI')\n",
    "            i += 2\n",
    "        elif (i < len(line) - 1) and key == 'M' and (key_next == 'L' or key_next == 'L/'):\n",
    "            keys_cleaned.append('ML')\n",
    "            i += 2\n",
    "        elif (i < len(line) - 1) and key == 'D' and (key_next == 'T' or key_next == 'T/'):\n",
    "            keys_cleaned.append('DT')\n",
    "            i += 2\n",
    "        elif key in abbr_keys:\n",
    "            keys_cleaned.append(key)\n",
    "            i += 1\n",
    "        elif key.replace('O', 'D') in abbr_keys:\n",
    "            keys_cleaned.append(key.replace('O', 'D'))\n",
    "            i += 1\n",
    "        elif key.replace('Q', 'D') in abbr_keys:\n",
    "            keys_cleaned.append(key.replace('Q', 'D'))\n",
    "            i += 1\n",
    "        elif key.replace('Q', 'O') in abbr_keys:\n",
    "            keys_cleaned.append(key.replace('Q', 'O'))\n",
    "            i += 1\n",
    "        elif ('M' in key) and ('-SA' in key) and len(key) < 8:\n",
    "            keys_cleaned.append('MH-SA')\n",
    "            i += 1\n",
    "        elif key == 'C)':\n",
    "            keys_cleaned.append('CJ')\n",
    "            i += 1\n",
    "        elif key == '[)D':\n",
    "            keys_cleaned.append('DD')\n",
    "            i += 1\n",
    "        elif key == 'IIII':\n",
    "            keys_cleaned.append('HH')\n",
    "            i += 1\n",
    "        elif key == 'T)_(':\n",
    "            keys_cleaned.append('TX')\n",
    "            i += 1\n",
    "        elif key == \"0I'\":\n",
    "            keys_cleaned.append('OP')\n",
    "            i += 1\n",
    "        elif key == 'T/' and line[i - 1] == 'O':\n",
    "            keys_cleaned.append('DT')\n",
    "            i += 1\n",
    "        elif len(key) > 1:\n",
    "            key_cleaned = \"\".join\\\n",
    "            (re.findall(\"[A-Za-z-!]+\",\\\n",
    "                        key.replace('I-I', 'H').replace('I-J', 'H').replace('J-I', 'H')\\\n",
    "                        .replace('Y', 'V').replace('IV', 'HV').replace('AO', 'AD').replace('OT', 'DT')\\\n",
    "                        .replace('IH', 'HH').replace('DL', 'DU').replace('MJ', 'MI').upper()))\n",
    "            if key_cleaned in abbr_keys:\n",
    "                keys_cleaned.append(key_cleaned)\n",
    "            elif key_cleaned.replace('O', 'D') in abbr_keys:\n",
    "                keys_cleaned.append(key_cleaned.replace('O', 'D'))\n",
    "            elif key_cleaned.replace('Q', 'D') in abbr_keys:\n",
    "                keys_cleaned.append(key_cleaned.replace('Q', 'D'))\n",
    "            elif key_cleaned.replace('Q', 'O') in abbr_keys:\n",
    "                keys_cleaned.append(key_cleaned.replace('Q', 'O'))\n",
    "            elif len(key_cleaned) == 3:\n",
    "                if key_cleaned[:2] in abbr_keys:\n",
    "                    keys_cleaned.append(key_cleaned[:2])\n",
    "                elif key_cleaned[:2].replace('O', 'D').replace('Q', 'D').replace('Q', 'O') in abbr_keys:\n",
    "                    keys_cleaned.append(key_cleaned[:2].replace('O', 'D').replace('Q', 'D').replace('Q', 'O'))\n",
    "                elif key_cleaned[1:] in abbr_keys:\n",
    "                    keys_cleaned.append(key_cleaned[1:])\n",
    "                elif key_cleaned[1:].replace('O', 'D').replace('Q', 'D').replace('Q', 'O') in abbr_keys:\n",
    "                    keys_cleaned.append(key_cleaned[1:].replace('O', 'D').replace('Q', 'D').replace('Q', 'O'))\n",
    "                    \n",
    "            elif len(key_cleaned) > 3 and len(key_cleaned)%2 == 0:\n",
    "                keys_cleaned += [key_cleaned[i:i+2] for i in range(0, len(key_cleaned), 2)]\n",
    "            elif key_cleaned != '':\n",
    "                keys_cleaned.append(key_cleaned)\n",
    "            i += 1\n",
    "        else:\n",
    "            if sum([len(key) for key in line])/len(line) < 3.5 and key.isupper() and key != 'I':\n",
    "                print('Key might need to be combined at', key, line)\n",
    "            i += 1\n",
    "    return keys_cleaned\n",
    "\n",
    "def write_keys(line):\n",
    "    return '/'.join(clean_keys(line)) + '/'"
   ]
  },
  {
   "cell_type": "code",
   "execution_count": 719,
   "metadata": {},
   "outputs": [],
   "source": [
    "# keys_test = [(['SA', '/TX', 'HI-I', '/', 'RR/', 'SS', 'OA'],['SA', 'TX', 'HH', 'RR', 'SS', 'OA']),\n",
    "#              (['Ml', 'I-SA/', 'TX/', 'RR/', 'DD', 'OW', 'CJ/', 'OA'], ['MH-SA', 'TX', 'RR', 'DD', 'OW', 'CJ', 'OA']),\n",
    "#              (['MI', 'I/', 'TX/', 'OP', 'I', 'DD', 'CJ', 'I', 'MD', 'MC', 'PI'], ['MH', 'TX', 'OP', 'DD', 'CJ', 'MD', 'MC', 'PI']),\n",
    "#              (['SA', 'I', 'TX', '/OP/', 'AD', 'DD', 'DU', '/', 'PI', 'MI', '/'],['SA', 'TX', 'OP', 'AD', 'DD', 'DU', 'PI', 'MI']),\n",
    "#              (['MI/OA', 'ss'],['MI', 'OA', 'SS']),\n",
    "#              (['SA', 'I', 'TX', 'I', 'OP/', 'DD', 'DU', 'I', 'Pl', 'M', 'l/', 'SS'], ['SA', 'TX', 'OP', 'DD', 'DU', 'PI', 'MI', 'SS']),\n",
    "#              (['SA', 'I', 'TX', 'DT', 'I', 'OP', 'RR/', 'HY', \"ow';\", 'MD'], ['SA', 'TX', 'DT', 'OP', 'RR', 'HV', 'OW', 'MD']),\n",
    "#              (['Mil-SA', '/', 'TX', 'HI-I', '/', 'OP', 'RR/', 'DD', 'I-IV'], ['MH-SA', 'TX', 'HH', 'OP', 'RR', 'DD', 'HV']),\n",
    "#              (['SA', '/', 'TX', '1-11-1', '/', 'OP', 'RR/', 'DD', 'OW', 'DU'], ['SA', 'TX', 'HH', 'OP', 'RR', 'DD', 'OW', 'DU']),\n",
    "#              (['CJ', 'I', 'MD', 'MC', 'Pl', '/', 'SS', 'QA'], ['CJ', 'MD', 'MC', 'PI', 'SS', 'OA']),\n",
    "#              (['IOA'], ['OA'])]\n",
    "\n",
    "# for keys, right_keys in keys_test:\n",
    "#     if is_keys(keys) and clean_keys(keys) == right_keys:\n",
    "#         print('PASS')\n",
    "#     else:\n",
    "#         print('Wrong result at:', keys)"
   ]
  },
  {
   "cell_type": "code",
   "execution_count": 791,
   "metadata": {},
   "outputs": [],
   "source": [
    "def is_citystatezip(line):\n",
    "    if len(line[-1]) == 5 and line[-1].replace('I', '1').isnumeric():\n",
    "        return True\n",
    "    line = ''.join(line)\n",
    "    i = 1\n",
    "    while i < len(line) - 5:\n",
    "        if (line[i] == '.' or line[i] == ',') and line[i + 2].replace('l', 'I').isupper() and \\\n",
    "        line[i + 4: i + 5].replace('I', '1').isnumeric():\n",
    "            return True\n",
    "        i += 1\n",
    "    return False\n",
    "\n",
    "def clean_citystatezip(line):\n",
    "    i = 0\n",
    "    while i < len(line):\n",
    "        if ',' in line[i] or '.' in line[i]:\n",
    "            break\n",
    "        i += 1\n",
    "    if i == len(line):\n",
    "        return [' '.join(line[:-2]), line[-2], line[-1]]\n",
    "    line = ' '.join(line[:i+1]) + ''.join(line[i+1:])\n",
    "    split = re.split('[.,]', line)\n",
    "    statezip = ''.join(split[1:])\n",
    "    state = statezip[:2].replace('l', 'I')\n",
    "    zipc = statezip[2:].replace('I', '1')\n",
    "    return [split[0], state, zipc]"
   ]
  },
  {
   "cell_type": "code",
   "execution_count": 276,
   "metadata": {},
   "outputs": [],
   "source": [
    "# citystatezip_tests = [\n",
    "# ['Demopolis.', 'AL', '36732'],\n",
    "# ['Birmingham,', 'AL', '35294'],\n",
    "# ['Alexander', 'City,', 'AL', '350', 'I', '0'],\n",
    "# ['Anniston.', 'AL', '3620', 'I'],\n",
    "# ['El', 'Monte.CA', '91731'],\n",
    "# ['Tuscaloosa', 'AL', '35404'], \n",
    "# ['Dt:nvt:r.', 'CO', '.80204'],\n",
    "# ['Allegan.', 'Ml', '490', 'I', '0']]\n",
    "\n",
    "# for t in citystatezip_tests:\n",
    "#     print(is_citystatezip(t))\n",
    "#     print(clean_citystatezip(t))"
   ]
  },
  {
   "cell_type": "code",
   "execution_count": 789,
   "metadata": {},
   "outputs": [],
   "source": [
    "#['(205)', '216-0200'],\n",
    "#['Intake:', '(205)', '216-0202'],\n",
    "#['Hotlines:', '(888)', '950-4325', '(888)', '950HEAL']\n",
    "#['6552x']\n",
    "#['l-1otline:(626)', '359-9358']\n",
    "#['(', '860)', '525-2181']\n",
    "\n",
    "def is_contact(line):\n",
    "    if ('Intake' in line[0]) or ('otlin' in line[0]) or ('lotlm' in line[0]):\n",
    "        return True\n",
    "    if len(line) > 1:\n",
    "        if ('Intake' in line[1]) or ('otlin' in line[1]) or ('lotlm' in line[1]):\n",
    "            return True\n",
    "    if len(line[0]) > 4:\n",
    "        if line[0][0] == '(' and line[0][4] == ')' and line[0][1:4].isnumeric():\n",
    "            return True\n",
    "        if line[0][:4].isnumeric() and line[0][4] == 'x':\n",
    "            return True\n",
    "    if len(line) > 1:\n",
    "        line = ''.join(line)\n",
    "        if line[0] == '(' and (line[4] == ')' or line[4] == 'J'):\n",
    "            return True\n",
    "    return False\n",
    "\n",
    "def clean_contact(line):\n",
    "    return ''.join(line).replace('I', '1').replace('(', ' (').strip()"
   ]
  },
  {
   "cell_type": "code",
   "execution_count": 759,
   "metadata": {},
   "outputs": [],
   "source": [
    "address_indicators = ['P.O.', 'P.O', 'P.0.', 'P.0', 'Road', 'Highway', 'Route', 'Building', 'Street', 'Avenue', 'venue', 'Avenuc', 'venuc',\\\n",
    "                      'Suite', 'Suites', 'Suitc', 'Suitcs',\\\n",
    "                      'Drive', 'Drivc', 'Boulevard', 'Parkway', 'Lot',\\\n",
    "                      'Annex', 'Streets','Floor', 'Fl', 'Bldg', 'Rear', 'Room', 'Basement', 'Building,', 'Attn:'] \n",
    "name_indicators = ['Clinic', 'Medical', 'Inc', 'Health', 'Services', 'Treatment']\n",
    "\n",
    "def is_address(line):\n",
    "    if len(line) < 2:\n",
    "        return False\n",
    "    if is_contact(line):\n",
    "        return False\n",
    "    if (not line[0].replace('-', '').isnumeric()) and any(x in line for x in name_indicators):\n",
    "        return False\n",
    "    if line[0].replace('-', '').isnumeric() or any(x in line for x in address_indicators):\n",
    "        return True\n",
    "    return False"
   ]
  },
  {
   "cell_type": "code",
   "execution_count": 27,
   "metadata": {},
   "outputs": [],
   "source": [
    "# #for testing\n",
    "# for page_data in data:\n",
    "#     for col in page_data:\n",
    "#         for line in col:\n",
    "#             for word in line:\n",
    "#                 if word[0] == 'F' and word[-1].isnumeric() and word not in abbr_keys:\n",
    "#                     print(line)"
   ]
  },
  {
   "cell_type": "markdown",
   "metadata": {},
   "source": [
    "- Split data into MOUDs"
   ]
  },
  {
   "cell_type": "code",
   "execution_count": 615,
   "metadata": {},
   "outputs": [],
   "source": [
    "def split_col_data(col_text):\n",
    "    '''\n",
    "    Split column data into list of MOUD facilities.\n",
    "    '''\n",
    "    col_text_splitted = []\n",
    "    temp = []\n",
    "    i = 0\n",
    "    col_text = [text for text in col_text if any(char.isdigit() or char.isalpha() for char in ''.join(text))]\n",
    "    while i < len(col_text) - 1:\n",
    "        if is_keys(col_text[i]) and (not is_keys(col_text[i+1])):\n",
    "            temp.append(col_text[i])\n",
    "            col_text_splitted.append(temp)\n",
    "            temp = []\n",
    "        elif is_keys(col_text[i]) and (is_keys(col_text[i+1])):\n",
    "            temp.append(col_text[i])\n",
    "        else:\n",
    "            if (not re.match(r'(?:[A-Z]+)$', ''.join(col_text[i]))):\n",
    "                #if not keys and only upper characters, then ignore as name of city.\n",
    "                temp.append(col_text[i])\n",
    "        i += 1\n",
    "    temp.append(col_text[-1])\n",
    "    col_text_splitted.append(temp)\n",
    "    return col_text_splitted"
   ]
  },
  {
   "cell_type": "code",
   "execution_count": 611,
   "metadata": {},
   "outputs": [
    {
     "data": {
      "text/plain": [
       "False"
      ]
     },
     "execution_count": 611,
     "metadata": {},
     "output_type": "execute_result"
    }
   ],
   "source": [
    "checkstring = ''.join([])\n",
    "any(char.isdigit() or char.isalpha() for char in checkstring)"
   ]
  },
  {
   "cell_type": "code",
   "execution_count": 531,
   "metadata": {},
   "outputs": [],
   "source": [
    "#split_col_data(data[6][0])"
   ]
  },
  {
   "cell_type": "markdown",
   "metadata": {},
   "source": [
    "- Write data"
   ]
  },
  {
   "cell_type": "code",
   "execution_count": 585,
   "metadata": {},
   "outputs": [],
   "source": [
    "def clean_col_data(col_text_splitted):\n",
    "    '''\n",
    "    Splits data into list of lists with\n",
    "    name1, name2, address1, address2, city, state, zip, phone, keys\n",
    "    '''\n",
    "    data_holders = []\n",
    "    for facil in col_text_splitted:\n",
    "        if len(facil) < 2:\n",
    "            print(facil)\n",
    "        else:\n",
    "            data_holder = []\n",
    "            i = 0 #indicator of next line\n",
    "            #name1\n",
    "            data_holder.append(' '.join(facil[0])) \n",
    "            i += 1\n",
    "            #name2\n",
    "            if not is_address(facil[i]) and not is_citystatezip(facil[i]) and not is_contact(facil[i]): \n",
    "                data_holder.append(' '.join(facil[i])) \n",
    "                i += 1\n",
    "            else:\n",
    "                data_holder.append('') \n",
    "            #name3\n",
    "            if not is_address(facil[i]) and not is_citystatezip(facil[i]) and not is_contact(facil[i]): \n",
    "                data_holder.append(' '.join(facil[i])) \n",
    "                i += 1\n",
    "            else:\n",
    "                data_holder.append('')         \n",
    "            #address1\n",
    "            if is_address(facil[i]) and not is_citystatezip(facil[i]):\n",
    "                data_holder.append(' '.join(facil[i])) \n",
    "                i += 1\n",
    "            else:\n",
    "                data_holder.append('')\n",
    "            #address2\n",
    "            if not is_citystatezip(facil[i]) and not is_contact(facil[i]) and not is_keys(facil[i]):##\n",
    "                data_holder.append(' '.join(facil[i])) \n",
    "                i += 1\n",
    "            else:\n",
    "                data_holder.append('')\n",
    "            #address3\n",
    "            if is_address(facil[i]) and not is_citystatezip(facil[i]):\n",
    "                data_holder.append(' '.join(facil[i])) \n",
    "                i += 1\n",
    "            else:\n",
    "                data_holder.append('')\n",
    "            #city, state, zip\n",
    "            data_holder += clean_citystatezip(facil[i])\n",
    "            i += 1\n",
    "            #contact\n",
    "            if is_contact(facil[i]):\n",
    "                data_holder.append(clean_contact(facil[i]))\n",
    "                i += 1\n",
    "                while i < len(facil):\n",
    "                    if is_contact(facil[i]):\n",
    "                        data_holder[-1] += ' ' + clean_contact(facil[i])\n",
    "                        i += 1\n",
    "                    else:\n",
    "                        break\n",
    "            else:\n",
    "                data_holder.append('')\n",
    "            #website\n",
    "            if facil[i][0].split('.')[-1] == 'org' or \\\n",
    "            facil[i][0].split('.')[0] == 'www' or facil[i][0].split('.')[-1] == 'com':\n",
    "                data_holder.append(' '.join(facil[i]))\n",
    "                i += 1\n",
    "            else:\n",
    "                data_holder.append('')\n",
    "            #note\n",
    "            if not is_keys(facil[i]):\n",
    "                data_holder.append(' '.join(facil[i]))\n",
    "                i += 1\n",
    "            else:\n",
    "                data_holder.append('')\n",
    "            #keys\n",
    "            data_holder.append('')\n",
    "            for keys in facil[i:]:\n",
    "                data_holder[-1] += write_keys(keys)\n",
    "            data_holders.append(data_holder)\n",
    "            print(\".\", end = '') #for each MOUD\n",
    "    return data_holders"
   ]
  },
  {
   "cell_type": "code",
   "execution_count": 792,
   "metadata": {},
   "outputs": [],
   "source": [
    "filename = \"{}.csv\".format(YEAR)\n",
    "with open(filename, 'w', newline = '') as file:\n",
    "    writer = csv.writer(file)\n",
    "    writer.writerow([\"Name1\", \"Name2\", 'Name3', \"Address1\", \"Address2\", \"Address3\", \\\n",
    "                     \"City\", \"State\", \"ZIP_Code\", \"Contact\", \"Website\", \"Note\", \"Keys\"])"
   ]
  },
  {
   "cell_type": "code",
   "execution_count": 793,
   "metadata": {},
   "outputs": [
    {
     "name": "stdout",
     "output_type": "stream",
     "text": [
      "Page: 17....... Finished Col ........ Finished Col ...... Finished Col \n",
      "Page: 18...... Finished Col ....... Finished Col ........ Finished Col \n",
      "Page: 19....... Finished Col ...... Finished Col ...... Finished Col \n",
      "Page: 20... Finished Col \n",
      "Page: 21Key might need to be combined at Y ['TCC', 'Y', 'TCMHC']\n",
      "Key might need to be combined at Y ['TCC', 'Y', 'TCMHC']\n",
      "....... Finished Col Key might need to be combined at A ['Dena', 'A', 'Coy']\n",
      "Key might need to be combined at A ['Dena', 'A', 'Coy']\n",
      "....... Finished Col ....... Finished Col \n",
      "Page: 22....... Finished Col ....... Finished Col ....... Finished Col \n",
      "Page: 23....... Finished Col ........ Finished Col .... Finished Col \n",
      "Page: 24...... Finished Col ....... Finished Col ....... Finished Col \n",
      "Page: 25........ Finished Col ....... Finished Col ....... Finished Col \n",
      "Page: 26....... Finished Col ........ Finished Col ....... Finished Col \n",
      "Page: 27....... Finished Col ........ Finished Col ........ Finished Col \n",
      "Page: 28......... Finished Col This line has more than 1 keys but not all, please check: ['SMI', 'Dual', 'Diagnosis', 'Program']\n",
      "This line has more than 1 keys but not all, please check: ['SMI', 'Dual', 'Diagnosis', 'Program']\n",
      "....... Finished Col ....... Finished Col \n",
      "Page: 29....... Finished Col ........ Finished Col ....... Finished Col \n",
      "Page: 30....... Finished Col ....... Finished Col ....... Finished Col \n",
      "Page: 31....... Finished Col ........ Finished Col ........ Finished Col \n",
      "Page: 32........ Finished Col ........ Finished Col ........ Finished Col \n",
      "Page: 33....... Finished Col ...... Finished Col \n",
      "Page: 34...... Finished Col ....... Finished Col ....... Finished Col \n",
      "Page: 35........ Finished Col ....... Finished Col ....... Finished Col \n",
      "Page: 36....... Finished Col ....... Finished Col ... Finished Col \n",
      "Page: 37....... Finished Col ........ Finished Col ....... Finished Col \n",
      "Page: 38........ Finished Col ........ Finished Col ........ Finished Col \n",
      "Page: 39........ Finished Col ....... Finished Col ....... Finished Col \n",
      "Page: 40...... Finished Col ....... Finished Col ....... Finished Col \n",
      "Page: 41....... Finished Col ....... Finished Col ....... Finished Col \n",
      "Page: 42....... Finished Col ........ Finished Col ....... Finished Col \n",
      "Page: 43....... Finished Col ....... Finished Col ....... Finished Col \n",
      "Page: 44....... Finished Col ....... Finished Col ........ Finished Col \n",
      "Page: 45Key might need to be combined at A ['A', 'Step', 'Up']\n",
      "Key might need to be combined at A ['A', 'Step', 'Up']\n",
      "....... Finished Col ....... Finished Col ....... Finished Col \n",
      "Page: 46....... Finished Col ........ Finished Col ....... Finished Col \n",
      "Page: 47....... Finished Col ....... Finished Col ....... Finished Col \n",
      "Page: 48....... Finished Col ....... Finished Col ....... Finished Col \n",
      "Page: 49....... Finished Col ........ Finished Col ........ Finished Col \n",
      "Page: 50........ Finished Col ........ Finished Col ...... Finished Col \n",
      "Page: 51....... Finished Col ....... Finished Col ....... Finished Col \n",
      "Page: 52........ Finished Col ........ Finished Col ...... Finished Col \n",
      "Page: 53....... Finished Col ....... Finished Col ....... Finished Col \n",
      "Page: 54...... Finished Col ....... Finished Col ....... Finished Col \n",
      "Page: 55This line has more than 1 keys but not all, please check: ['(MITE)/Optwns', 'Residential']\n",
      "This line has more than 1 keys but not all, please check: ['(MITE)/Optwns', 'Residential']\n",
      "....... Finished Col ........ Finished Col ........ Finished Col \n",
      "Page: 56........ Finished Col ........ Finished Col ........ Finished Col \n",
      "Page: 57........ Finished Col ........ Finished Col Key might need to be combined at U ['Dare', 'U', 'To', 'Care']\n",
      "Key might need to be combined at U ['Dare', 'U', 'To', 'Care']\n",
      "Key might need to be combined at U ['Dare', 'U', 'To', 'Care']\n",
      "This line has more than 1 keys but not all, please check: ['Do', 'It', 'Now', 'Foundation', 'of']\n",
      "This line has more than 1 keys but not all, please check: ['Do', 'It', 'Now', 'Foundation', 'of']\n",
      "This line has more than 1 keys but not all, please check: ['Do', 'It', 'Now', 'Foundation', 'of']\n",
      "........ Finished Col \n",
      "Page: 58This line has more than 1 keys but not all, please check: ['Higher', 'Goals']\n",
      "This line has more than 1 keys but not all, please check: ['Higher', 'Goals']\n",
      "This line has more than 1 keys but not all, please check: ['Higher', 'Goals']\n",
      "........ Finished Col ........ Finished Col ........ Finished Col \n",
      "Page: 59........ Finished Col ......... Finished Col ...... Finished Col \n",
      "Page: 60....... Finished Col ........ Finished Col ....... Finished Col \n",
      "Page: 61....... Finished Col ....... Finished Col ........ Finished Col \n",
      "Page: 62....... Finished Col ........ Finished Col ....... Finished Col \n",
      "Page: 63....... Finished Col ....... Finished Col Key might need to be combined at A ['MOUNT', 'SHA', 'ST', 'A']\n",
      "Key might need to be combined at A ['MOUNT', 'SHA', 'ST', 'A']\n",
      "Key might need to be combined at A ['MOUNT', 'SHA', 'ST', 'A']\n",
      "This line has more than 1 keys but not all, please check: ['Our', 'Family', 'Corporation']\n",
      "This line has more than 1 keys but not all, please check: ['Our', 'Family', 'Corporation']\n",
      "This line has more than 1 keys but not all, please check: ['Our', 'Family', 'Corporation']\n",
      "....... Finished Col \n",
      "Page: 64This line has more than 1 keys but not all, please check: ['Our', 'Family', 'Corporation']\n",
      "This line has more than 1 keys but not all, please check: ['Our', 'Family', 'Corporation']\n",
      "This line has more than 1 keys but not all, please check: ['Our', 'family', 'Corporation']\n",
      "This line has more than 1 keys but not all, please check: ['Our', 'family', 'Corporation']\n",
      "This line has more than 1 keys but not all, please check: ['Our', 'family', 'Corporation']\n",
      "This line has more than 1 keys but not all, please check: ['Our', 'Family', 'Corporation']\n",
      "This line has more than 1 keys but not all, please check: ['Our', 'Family', 'Corporation']\n",
      "This line has more than 1 keys but not all, please check: ['Our', 'Family', 'Corporation']\n",
      "....... Finished Col ....... Finished Col ....... Finished Col \n",
      "Page: 65....... Finished Col ....... Finished Col ........ Finished Col \n",
      "Page: 66This line has more than 1 keys but not all, please check: ['Highland', 'Hospital']\n",
      "This line has more than 1 keys but not all, please check: ['Highland', 'Hospital']\n",
      "This line has more than 1 keys but not all, please check: ['Highland', 'Hospital']\n",
      "This line has more than 1 keys but not all, please check: ['Missionarv', \"Recover.'\", 'Center']\n",
      "This line has more than 1 keys but not all, please check: ['Missionarv', \"Recover.'\", 'Center']\n",
      "This line has more than 1 keys but not all, please check: ['Missionarv', \"Recover.'\", 'Center']\n",
      "........ Finished Col ........ Finished Col ........ Finished Col \n",
      "Page: 67........ Finished Col Key might need to be combined at A ['Unit', 'A']\n",
      "Key might need to be combined at A ['Unit', 'A']\n",
      ".....Key might need to be combined at A ['Unit', 'A']\n",
      "... Finished Col ........ Finished Col \n",
      "Page: 68....... Finished Col ........ Finished Col ....... Finished Col \n",
      "Page: 69....... Finished Col ........ Finished Col ........ Finished Col \n",
      "Page: 70....... Finished Col ....... Finished Col ....... Finished Col \n",
      "Page: 71....... Finished Col ....... Finished Col ....... Finished Col \n",
      "Page: 72Key might need to be combined at D ['D', 'and', 'A', 'Detox', 'Center', 'Inc']\n",
      "Key might need to be combined at A ['D', 'and', 'A', 'Detox', 'Center', 'Inc']\n",
      "Key might need to be combined at D ['D', 'and', 'A', 'Detox', 'Center', 'Inc']\n",
      "Key might need to be combined at A ['D', 'and', 'A', 'Detox', 'Center', 'Inc']\n",
      "Key might need to be combined at D ['D', 'and', 'A', 'Detox', 'Center', 'Inc']\n",
      "Key might need to be combined at A ['D', 'and', 'A', 'Detox', 'Center', 'Inc']\n",
      "Key might need to be combined at D ['D', 'and', 'A', 'Detox', 'Center', 'Inc']\n",
      "Key might need to be combined at A ['D', 'and', 'A', 'Detox', 'Center', 'Inc']\n",
      "Key might need to be combined at D ['D', 'and', 'A', 'Detox', 'Center', 'Inc']\n",
      "Key might need to be combined at A ['D', 'and', 'A', 'Detox', 'Center', 'Inc']\n",
      "....... Finished Col ....... Finished Col ....... Finished Col \n",
      "Page: 73........ Finished Col ....... Finished Col ....... Finished Col \n",
      "Page: 74....... Finished Col ....... Finished Col ........ Finished Col \n",
      "Page: 75....... Finished Col ....... Finished Col ........ Finished Col \n",
      "Page: 76........ Finished Col ....... Finished Col ........ Finished Col \n",
      "Page: 77....... Finished Col ........ Finished Col ........ Finished Col \n",
      "Page: 78........ Finished Col Key might need to be combined at A ['IO', 'I', 'A', 'venida', 'Serra']\n",
      "Key might need to be combined at A ['IO', 'I', 'A', 'venida', 'Serra']\n",
      "Key might need to be combined at A ['Apartments', 'A', 'B', 'and', 'C']\n",
      "Key might need to be combined at B ['Apartments', 'A', 'B', 'and', 'C']\n",
      "Key might need to be combined at C ['Apartments', 'A', 'B', 'and', 'C']\n",
      "Key might need to be combined at A ['Apartments', 'A', 'B', 'and', 'C']\n",
      "Key might need to be combined at B ['Apartments', 'A', 'B', 'and', 'C']\n",
      "Key might need to be combined at C ['Apartments', 'A', 'B', 'and', 'C']\n",
      "......Key might need to be combined at A ['Apartments', 'A', 'B', 'and', 'C']\n",
      "Key might need to be combined at B ['Apartments', 'A', 'B', 'and', 'C']\n",
      "Key might need to be combined at C ['Apartments', 'A', 'B', 'and', 'C']\n",
      ". Finished Col ........ Finished Col \n",
      "Page: 79........ Finished Col ........ Finished Col ........ Finished Col \n",
      "Page: 80........ Finished Col ......... Finished Col ....... Finished Col \n",
      "Page: 81........ Finished Col ....... Finished Col ....... Finished Col \n",
      "Page: 82........ Finished Col ........ Finished Col This line has more than 1 keys but not all, please check: ['McMillan', 'Outpatient', 'Services']\n",
      "This line has more than 1 keys but not all, please check: ['McMillan', 'Outpatient', 'Services']\n",
      "This line has more than 1 keys but not all, please check: ['McMillan', 'Outpatient', 'Services']\n",
      "........ Finished Col \n",
      "Page: 83........ Finished Col ........ Finished Col ....... Finished Col \n",
      "Page: 84....... Finished Col ....... Finished Col ....... Finished Col \n",
      "Page: 85........ Finished Col ........ Finished Col ....... Finished Col \n",
      "Page: 86........ Finished Col ....... Finished Col ........ Finished Col \n",
      "Page: 87Key might need to be combined at A ['Houses', 'A', 'and', 'B']\n",
      "Key might need to be combined at B ['Houses', 'A', 'and', 'B']\n",
      "Key might need to be combined at A ['Houses', 'A', 'and', 'B']\n",
      "Key might need to be combined at B ['Houses', 'A', 'and', 'B']\n",
      "..Key might need to be combined at A ['Houses', 'A', 'and', 'B']\n",
      "Key might need to be combined at B ['Houses', 'A', 'and', 'B']\n",
      "...... Finished Col ........ Finished Col ....... Finished Col \n",
      "Page: 88........ Finished Col ........ Finished Col ........ Finished Col \n",
      "Page: 89........ Finished Col ........ Finished Col ........ Finished Col \n",
      "Page: 90........ Finished Col ........ Finished Col ........ Finished Col \n",
      "Page: 91........ Finished Col Key might need to be combined at R ['R', 'House']\n",
      "Key might need to be combined at R ['R', 'House']\n",
      "Key might need to be combined at R ['R', 'House']\n",
      "Key might need to be combined at R ['R', 'House']\n",
      "Key might need to be combined at R ['R', 'House']\n",
      "Key might need to be combined at R ['R', 'House']\n",
      "........ Finished Col Key might need to be combined at R ['R', 'House']\n",
      "Key might need to be combined at R ['R', 'House']\n",
      "Key might need to be combined at R ['R', 'House']\n",
      "Key might need to be combined at R ['R', 'House']\n",
      "Key might need to be combined at R ['R', 'House']\n",
      "....... Finished Col \n",
      "Page: 92....... Finished Col ....... Finished Col ....... Finished Col \n",
      "Page: 93....... Finished Col ....... Finished Col ....... Finished Col \n",
      "Page: 94........ Finished Col ....... Finished Col This line has more than 1 keys but not all, please check: ['High', 'Gain', 'Drinking', 'Driver', 'Program']\n",
      "This line has more than 1 keys but not all, please check: ['High', 'Gain', 'Drinking', 'Driver', 'Program']\n",
      "....... Finished Col \n",
      "Page: 95....... Finished Col ........ Finished Col ........ Finished Col \n",
      "Page: 96........ Finished Col ........ Finished Col ....... Finished Col \n",
      "Page: 97........ Finished Col This line has more than 1 keys but not all, please check: ['High', 'Desert', 'Child', 'Adolescent', 'and']\n",
      "This line has more than 1 keys but not all, please check: ['High', 'Desert', 'Child', 'Adolescent', 'and']\n",
      "........ Finished Col ........ Finished Col \n",
      "Page: 98........ Finished Col ....... Finished Col ........ Finished Col \n",
      "Page: 99....... Finished Col ........ Finished Col ........ Finished Col \n",
      "Page: 100....... Finished Col .. Finished Col \n",
      "Page: 101........ Finished Col ....... Finished Col ........ Finished Col \n",
      "Page: 102....... Finished Col ........ Finished Col ........ Finished Col \n",
      "Page: 103........ Finished Col ........ Finished Col ........ Finished Col \n",
      "Page: 104......... Finished Col ........ Finished Col ....... Finished Col \n",
      "Page: 105....... Finished Col ....... Finished Col ........ Finished Col \n",
      "Page: 106........ Finished Col ......... Finished Col ........ Finished Col \n",
      "Page: 107....... Finished Col ......... Finished Col ........ Finished Col \n",
      "Page: 108This line has more than 1 keys but not all, please check: ['Mile', 'High', 'Council', 'on', 'Alcohol', 'and']\n",
      "This line has more than 1 keys but not all, please check: ['Mile', 'High', 'Council', 'on', 'Alcohol', 'and']\n",
      "This line has more than 1 keys but not all, please check: ['Mile', 'High', 'Council', 'on', 'Alcohol', 'and']\n",
      "This line has more than 1 keys but not all, please check: ['Mile', 'High', 'Counseling']\n",
      "This line has more than 1 keys but not all, please check: ['Mile', 'High', 'Counseling']\n",
      "This line has more than 1 keys but not all, please check: ['Mile', 'High', 'Counseling']\n",
      "........ Finished Col ........ Finished Col ........ Finished Col \n",
      "Page: 109........ Finished Col This line has more than 1 keys but not all, please check: ['Administration']\n",
      "This line has more than 1 keys but not all, please check: ['Administration']\n",
      "........ Finished Col This line has more than 1 keys but not all, please check: ['Mile', 'High', 'Counseling', 'Inc']\n",
      "This line has more than 1 keys but not all, please check: ['Mile', 'High', 'Counseling', 'Inc']\n",
      "This line has more than 1 keys but not all, please check: ['Mile', 'High', 'Counseling', 'Inc']\n",
      "....... Finished Col \n",
      "Page: 110........ Finished Col ........ Finished Col ........ Finished Col \n",
      "Page: 111........ Finished Col ....... Finished Col ....... Finished Col \n",
      "Page: 112........ Finished Col ....... Finished Col ........ Finished Col \n",
      "Page: 113........ Finished Col ........ Finished Col ........ Finished Col \n",
      "Page: 114This line has more than 1 keys but not all, please check: ['SAMI/Wellness', 'Program']\n",
      "This line has more than 1 keys but not all, please check: ['SAMI/Wellness', 'Program']\n",
      "....... Finished Col ....... Finished Col ........ Finished Col \n",
      "Page: 115........ Finished Col ....... Finished Col ...... Finished Col \n",
      "Page: 116....... Finished Col ....... Finished Col ....... Finished Col \n",
      "Page: 117This line has more than 1 keys but not all, please check: ['OP', 'Dual', 'Diagnosis', 'and', 'Substance', 'Abuse']\n",
      "This line has more than 1 keys but not all, please check: ['OP', 'Dual', 'Diagnosis', 'and', 'Substance', 'Abuse']\n",
      "....... Finished Col ....... Finished Col ........ Finished Col \n",
      "Page: 118....... Finished Col ..... Finished Col \n",
      "Page: 119...... Finished Col ....... Finished Col ....... Finished Col \n",
      "Page: 120....... Finished Col ....... Finished Col ....... Finished Col \n",
      "Page: 121....... Finished Col ........ Finished Col ....... Finished Col \n",
      "Page: 122....... Finished Col This line has more than 1 keys but not all, please check: ['High', 'Watch', 'Farm']\n",
      "This line has more than 1 keys but not all, please check: ['High', 'Watch', 'Farm']\n",
      "....... Finished Col This line has more than 1 keys but not all, please check: ['MIDDLEBURY']\n",
      "This line has more than 1 keys but not all, please check: ['MIDDLEBURY']\n",
      "This line has more than 1 keys but not all, please check: ['MIDDLEBURY']\n",
      "This line has more than 1 keys but not all, please check: ['MIDDLETOWN']\n",
      "This line has more than 1 keys but not all, please check: ['MIDDLETOWN']\n",
      "This line has more than 1 keys but not all, please check: ['MIDDLETOWN']\n",
      "...... Finished Col \n",
      "Page: 123This line has more than 1 keys but not all, please check: ['Administrative', 'and', 'Prevention', 'Unit']\n",
      "This line has more than 1 keys but not all, please check: ['Administrative', 'and', 'Prevention', 'Unit']\n",
      "....... Finished Col ....... Finished Col ........ Finished Col \n",
      "Page: 124....... Finished Col ....... Finished Col ........ Finished Col \n",
      "Page: 125...... Finished Col ....... Finished Col ....... Finished Col \n",
      "Page: 126....... Finished Col ....... Finished Col ...... Finished Col \n",
      "Page: 127....... Finished Col ....... Finished Col ....... Finished Col \n",
      "Page: 128....... Finished Col ....... Finished Col ........ Finished Col \n",
      "Page: 129....... Finished Col ....... Finished Col \n",
      "Page: 130....... Finished Col ........ Finished Col ......... Finished Col \n",
      "Page: 131....... Finished Col ......... Finished Col ....... Finished Col \n",
      "Page: 132....... Finished Col ......... Finished Col ....... Finished Col \n",
      "Page: 133........ Finished Col ........ Finished Col ........ Finished Col \n",
      "Page: 134......... Finished Col ....... Finished Col .... Finished Col \n",
      "Page: 135.. Finished Col \n",
      "Page: 136....... Finished Col ...... Finished Col ....... Finished Col \n",
      "Page: 137....... Finished Col ....... Finished Col ....... Finished Col \n",
      "Page: 138...... Finished Col ....... Finished Col This line has more than 1 keys but not all, please check: ['OBA', 'High', 'Point']\n",
      "This line has more than 1 keys but not all, please check: ['OBA', 'High', 'Point']\n",
      "....... Finished Col \n",
      "Page: 139....... Finished Col ....... Finished Col ....... Finished Col \n",
      "Page: 140....... Finished Col ....... Finished Col ....... Finished Col \n",
      "Page: 141...... Finished Col ........ Finished Col ........ Finished Col \n",
      "Page: 142........ Finished Col ....... Finished Col ........ Finished Col \n",
      "Page: 143....... Finished Col ........ Finished Col Key might need to be combined at A ['A', 'val', 'on', 'Center']\n",
      "Key might need to be combined at A ['A', 'val', 'on', 'Center']\n",
      "This line has more than 1 keys but not all, please check: ['Administrative', 'Unit']\n",
      "This line has more than 1 keys but not all, please check: ['Administrative', 'Unit']\n",
      "....... Finished Col \n",
      "Page: 144....... Finished Col ....... Finished Col This line has more than 1 keys but not all, please check: ['Administration/Outreach', 'Center']\n",
      "This line has more than 1 keys but not all, please check: ['Administration/Outreach', 'Center']\n",
      "This line has more than 1 keys but not all, please check: ['Administrative', 'Unit', 'and', 'Outpatient']\n",
      "This line has more than 1 keys but not all, please check: ['Administrative', 'Unit', 'and', 'Outpatient']\n",
      "....... Finished Col \n",
      "Page: 145....... Finished Col ......... Finished Col ....... Finished Col \n",
      "Page: 146...... Finished Col ........ Finished Col Key might need to be combined at O ['LAND', 'O', 'LAKES']\n",
      "Key might need to be combined at O ['LAND', 'O', 'LAKES']\n",
      "Key might need to be combined at O ['LAND', 'O', 'LAKES']\n",
      "....... Finished Col \n",
      "Page: 147....... Finished Col ...... Finished Col ....... Finished Col \n",
      "Page: 148....... Finished Col ........ Finished Col ........ Finished Col \n",
      "Page: 149....... Finished Col ....... Finished Col ........ Finished Col \n",
      "Page: 150....... Finished Col This line has more than 1 keys but not all, please check: ['Administrative', 'and', 'Outpatient', 'Services']\n",
      "This line has more than 1 keys but not all, please check: ['Administrative', 'and', 'Outpatient', 'Services']\n",
      "....... Finished Col ....... Finished Col \n",
      "Page: 151This line has more than 1 keys but not all, please check: ['MIDDLEBURG']\n",
      "This line has more than 1 keys but not all, please check: ['MIDDLEBURG']\n",
      "This line has more than 1 keys but not all, please check: ['MIDDLEBURG']\n",
      "...... Finished Col Key might need to be combined at A ['A', 'Kind', 'Ear', 'Inc']\n",
      "Key might need to be combined at A ['A', 'Kind', 'Ear', 'Inc']\n",
      "....... Finished Col ....... Finished Col \n",
      "Page: 152....... Finished Col ....... Finished Col ..... Finished Col \n",
      "Page: 153...... Finished Col ........ Finished Col ....... Finished Col \n",
      "Page: 154........ Finished Col ....... Finished Col ....... Finished Col \n",
      "Page: 155....... Finished Col ....... Finished Col ....... Finished Col \n",
      "Page: 156........ Finished Col ........ Finished Col ....... Finished Col \n",
      "Page: 157........ Finished Col ....... Finished Col ........ Finished Col \n",
      "Page: 158....... Finished Col ....... Finished Col This line has more than 1 keys but not all, please check: ['High', 'Point']\n",
      "This line has more than 1 keys but not all, please check: ['High', 'Point']\n",
      "......... Finished Col \n",
      "Page: 159........ Finished Col ........ Finished Col ........ Finished Col \n",
      "Page: 160...... Finished Col ....... Finished Col ........ Finished Col \n",
      "Page: 161........ Finished Col ........ Finished Col ........ Finished Col \n",
      "Page: 162...... Finished Col \n",
      "Page: 163This line has more than 1 keys but not all, please check: ['Middle', 'Flint', 'Beha,·ioral', 'Healthcare']\n",
      "This line has more than 1 keys but not all, please check: ['Middle', 'Flint', 'Beha,·ioral', 'Healthcare']\n",
      "This line has more than 1 keys but not all, please check: ['Middle', 'flint', 'Behavioral', '1-kalthcare']\n",
      "This line has more than 1 keys but not all, please check: ['Middle', 'flint', 'Behavioral', '1-kalthcare']\n",
      "This line has more than 1 keys but not all, please check: ['Middle', 'flint', 'Behavioral', '1-kalthcare']\n",
      "This line has more than 1 keys but not all, please check: ['Middle', 'Flint', 'Beha,ioral', 'Ht:althcarc']\n",
      "This line has more than 1 keys but not all, please check: ['Middle', 'Flint', 'Beha,ioral', 'Ht:althcarc']\n",
      "This line has more than 1 keys but not all, please check: ['Middle', 'Flint', 'Beha,ioral', 'Ht:althcarc']\n",
      "....... Finished Col This line has more than 1 keys but not all, please check: ['Middle', 'Flint', 'Behavioral', 'Healthcare']\n",
      "This line has more than 1 keys but not all, please check: ['Middle', 'Flint', 'Behavioral', 'Healthcare']\n",
      "....... Finished Col ........ Finished Col \n",
      "Page: 164This line has more than 1 keys but not all, please check: ['Plasmctics', 'Inc']\n",
      "This line has more than 1 keys but not all, please check: ['Plasmctics', 'Inc']\n",
      "This line has more than 1 keys but not all, please check: ['Plasmctics', 'Inc']\n",
      "........ Finished Col ........ Finished Col ....... Finished Col \n",
      "Page: 165....... Finished Col This line has more than 1 keys but not all, please check: ['Middle', 'GA', 'Adolescent', 'Residential', 'Ctr']\n",
      "This line has more than 1 keys but not all, please check: ['Middle', 'GA', 'Adolescent', 'Residential', 'Ctr']\n",
      "...... Finished Col ....... Finished Col \n",
      "Page: 166....... Finished Col ....... Finished Col ....... Finished Col \n",
      "Page: 167....... Finished Col ...... Finished Col ...... Finished Col \n",
      "Page: 168....... Finished Col ....... Finished Col ....... Finished Col \n",
      "Page: 169....... Finished Col ....... Finished Col ...... Finished Col \n",
      "Page: 170This line has more than 1 keys but not all, please check: ['Middle', 'Flint', 'Behavioral', 'Healthcare']\n",
      "This line has more than 1 keys but not all, please check: ['Middle', 'Flint', 'Behavioral', 'Healthcare']\n",
      "....... Finished Col This line has more than 1 keys but not all, please check: ['Middle', 'Flint', 'Behavioral', 'Healthcare']\n",
      "This line has more than 1 keys but not all, please check: ['Middle', 'Flint', 'Behavioral', 'Healthcare']\n",
      "...... Finished Col ....... Finished Col \n",
      "Page: 171...... Finished Col ....... Finished Col This line has more than 1 keys but not all, please check: ['McDuffie', 'Count,', 'Mental', 'Health', 'Center']\n",
      "This line has more than 1 keys but not all, please check: ['McDuffie', 'Count,', 'Mental', 'Health', 'Center']\n",
      "....... Finished Col \n",
      "Page: 172...... Finished Col ...... Finished Col .... Finished Col \n",
      "Page: 173. Finished Col \n",
      "Page: 174....... Finished Col ........ Finished Col ........ Finished Col \n",
      "Page: 175........ Finished Col ....... Finished Col ....... Finished Col \n",
      "Page: 176Key might need to be combined at M ['M', 'C', 'B', 'H', 'KANEOHE', 'BAY']\n",
      "Key might need to be combined at C ['M', 'C', 'B', 'H', 'KANEOHE', 'BAY']\n",
      "Key might need to be combined at B ['M', 'C', 'B', 'H', 'KANEOHE', 'BAY']\n",
      "Key might need to be combined at H ['M', 'C', 'B', 'H', 'KANEOHE', 'BAY']\n",
      "Key might need to be combined at M ['M', 'C', 'B', 'H', 'KANEOHE', 'BAY']\n",
      "Key might need to be combined at C ['M', 'C', 'B', 'H', 'KANEOHE', 'BAY']\n",
      "Key might need to be combined at B ['M', 'C', 'B', 'H', 'KANEOHE', 'BAY']\n",
      "Key might need to be combined at H ['M', 'C', 'B', 'H', 'KANEOHE', 'BAY']\n",
      "Key might need to be combined at M ['M', 'C', 'B', 'H', 'KANEOHE', 'BAY']\n",
      "Key might need to be combined at C ['M', 'C', 'B', 'H', 'KANEOHE', 'BAY']\n",
      "Key might need to be combined at B ['M', 'C', 'B', 'H', 'KANEOHE', 'BAY']\n",
      "Key might need to be combined at H ['M', 'C', 'B', 'H', 'KANEOHE', 'BAY']\n",
      "....... Finished Col ........ Finished Col ........ Finished Col \n",
      "Page: 177.. Finished Col \n",
      "Page: 178....... Finished Col ........ Finished Col ........ Finished Col \n",
      "Page: 179Key might need to be combined at A ['I', '720', '·18th', 'A', \"venue'\"]\n",
      "Key might need to be combined at A ['I', '720', '·18th', 'A', \"venue'\"]\n",
      "....... Finished Col ....... Finished Col . Finished Col \n",
      "Page: 180....... Finished Col ........ Finished Col ....... Finished Col \n",
      "Page: 181....... Finished Col ....... Finished Col ....... Finished Col \n",
      "Page: 182........ Finished Col ....... Finished Col ...... Finished Col \n",
      "Page: 183....... Finished Col ....... Finished Col ........ Finished Col \n",
      "Page: 184........ Finished Col ........ Finished Col ........ Finished Col \n",
      "Page: 185....... Finished Col ....... Finished Col ....... Finished Col \n",
      "Page: 186....... Finished Col ........ Finished Col ....... Finished Col \n",
      "Page: 187....... Finished Col ........ Finished Col ....... Finished Col \n",
      "Page: 188....... Finished Col ....... Finished Col ........ Finished Col \n",
      "Page: 189........ Finished Col This line has more than 1 keys but not all, please check: ['MI-I-SA/', 'TX', 'OT', 'ML', 'Hf-I/', 'OP', 'RR/']\n",
      "This line has more than 1 keys but not all, please check: ['MI-I-SA/', 'TX', 'OT', 'ML', 'Hf-I/', 'OP', 'RR/']\n",
      "....... Finished Col ....... Finished Col \n",
      "Page: 190This line has more than 1 keys but not all, please check: ['DU/', '\\\\10', 'PI/', 'SS', 'OA']\n",
      "This line has more than 1 keys but not all, please check: ['DU/', '\\\\10', 'PI/', 'SS', 'OA']\n",
      "...... Finished Col ....... Finished Col ....... Finished Col \n",
      "Page: 191This line has more than 1 keys but not all, please check: ['Ml-I-SA/', 'TX', 'l)T', '/', 'OP', 'PH/', 'AD', 'DU/']\n",
      "This line has more than 1 keys but not all, please check: ['Ml-I-SA/', 'TX', 'l)T', '/', 'OP', 'PH/', 'AD', 'DU/']\n",
      "....... Finished Col ....... Finished Col ....... Finished Col \n",
      "Page: 192........ Finished Col ....... Finished Col This line has more than 1 keys but not all, please check: ['HIGHLAND', 'PARK']\n",
      "This line has more than 1 keys but not all, please check: ['HIGHLAND', 'PARK']\n",
      "This line has more than 1 keys but not all, please check: ['HIGHLAND', 'PARK']\n",
      "This line has more than 1 keys but not all, please check: ['Highland', 'Park', 'Hospital']\n",
      "This line has more than 1 keys but not all, please check: ['Highland', 'Park', 'Hospital']\n",
      "....... Finished Col \n",
      "Page: 193....... Finished Col ...... Finished Col ........ Finished Col \n",
      "Page: 194....... Finished Col ...... Finished Col ........ Finished Col \n",
      "Page: 195....... Finished Col ....... Finished Col ...... Finished Col \n",
      "Page: 196....... Finished Col ....... Finished Col ...... Finished Col \n",
      "Page: 197....... Finished Col ....... Finished Col ....... Finished Col \n",
      "Page: 198....... Finished Col ....... Finished Col ....... Finished Col \n",
      "Page: 199This line has more than 1 keys but not all, please check: ['SA/', 'TX', 'DT', 'ill-I/', 'of>', 'PH', 'RR/', 'AD']\n",
      "This line has more than 1 keys but not all, please check: ['SA/', 'TX', 'DT', 'ill-I/', 'of>', 'PH', 'RR/', 'AD']\n",
      "This line has more than 1 keys but not all, please check: ['MD', 'MC', \"l'l\", 'MI']\n",
      "This line has more than 1 keys but not all, please check: ['MD', 'MC', \"l'l\", 'MI']\n",
      "This line has more than 1 keys but not all, please check: ['MD', 'MC', \"l'l\", 'MI']\n",
      "...... Finished Col ...... Finished Col ...... Finished Col \n",
      "Page: 200Key might need to be combined at A ['Paul', 'A', 'Hauck', 'PhD', 'Ltd']\n",
      "Key might need to be combined at A ['Paul', 'A', 'Hauck', 'PhD', 'Ltd']\n",
      "....... Finished Col ....... Finished Col ........ Finished Col \n",
      "Page: 201....... Finished Col ...... Finished Col ....... Finished Col \n",
      "Page: 202...... Finished Col ....... Finished Col ....... Finished Col \n",
      "Page: 203."
     ]
    },
    {
     "ename": "IndexError",
     "evalue": "list index out of range",
     "output_type": "error",
     "traceback": [
      "\u001b[0;31m---------------------------------------------------------------------------\u001b[0m",
      "\u001b[0;31mIndexError\u001b[0m                                Traceback (most recent call last)",
      "\u001b[0;32m<ipython-input-793-cc0b69dc0922>\u001b[0m in \u001b[0;36m<module>\u001b[0;34m\u001b[0m\n\u001b[1;32m      8\u001b[0m     \u001b[0;32mfor\u001b[0m \u001b[0mcol\u001b[0m \u001b[0;32min\u001b[0m \u001b[0mpage\u001b[0m\u001b[0;34m:\u001b[0m\u001b[0;34m\u001b[0m\u001b[0;34m\u001b[0m\u001b[0m\n\u001b[1;32m      9\u001b[0m         \u001b[0;32mif\u001b[0m \u001b[0mcol\u001b[0m \u001b[0;34m!=\u001b[0m \u001b[0;34m[\u001b[0m\u001b[0;34m]\u001b[0m\u001b[0;34m:\u001b[0m\u001b[0;34m\u001b[0m\u001b[0;34m\u001b[0m\u001b[0m\n\u001b[0;32m---> 10\u001b[0;31m             \u001b[0mpage_data_holders\u001b[0m \u001b[0;34m+=\u001b[0m \u001b[0mclean_col_data\u001b[0m\u001b[0;34m(\u001b[0m\u001b[0msplit_col_data\u001b[0m\u001b[0;34m(\u001b[0m\u001b[0mcol\u001b[0m\u001b[0;34m)\u001b[0m\u001b[0;34m)\u001b[0m\u001b[0;34m\u001b[0m\u001b[0;34m\u001b[0m\u001b[0m\n\u001b[0m\u001b[1;32m     11\u001b[0m             \u001b[0mprint\u001b[0m\u001b[0;34m(\u001b[0m\u001b[0;34m\" Finished Col \"\u001b[0m\u001b[0;34m,\u001b[0m \u001b[0mend\u001b[0m \u001b[0;34m=\u001b[0m \u001b[0;34m''\u001b[0m\u001b[0;34m)\u001b[0m\u001b[0;34m\u001b[0m\u001b[0;34m\u001b[0m\u001b[0m\n\u001b[1;32m     12\u001b[0m     \u001b[0;32mwith\u001b[0m \u001b[0mopen\u001b[0m\u001b[0;34m(\u001b[0m\u001b[0mfilename\u001b[0m\u001b[0;34m,\u001b[0m \u001b[0;34m'a'\u001b[0m\u001b[0;34m,\u001b[0m \u001b[0mnewline\u001b[0m \u001b[0;34m=\u001b[0m \u001b[0;34m''\u001b[0m\u001b[0;34m)\u001b[0m \u001b[0;32mas\u001b[0m \u001b[0mfile\u001b[0m\u001b[0;34m:\u001b[0m\u001b[0;34m\u001b[0m\u001b[0;34m\u001b[0m\u001b[0m\n",
      "\u001b[0;32m<ipython-input-585-e138a10d59b2>\u001b[0m in \u001b[0;36mclean_col_data\u001b[0;34m(col_text_splitted)\u001b[0m\n\u001b[1;32m     21\u001b[0m                 \u001b[0mdata_holder\u001b[0m\u001b[0;34m.\u001b[0m\u001b[0mappend\u001b[0m\u001b[0;34m(\u001b[0m\u001b[0;34m''\u001b[0m\u001b[0;34m)\u001b[0m\u001b[0;34m\u001b[0m\u001b[0;34m\u001b[0m\u001b[0m\n\u001b[1;32m     22\u001b[0m             \u001b[0;31m#name3\u001b[0m\u001b[0;34m\u001b[0m\u001b[0;34m\u001b[0m\u001b[0;34m\u001b[0m\u001b[0m\n\u001b[0;32m---> 23\u001b[0;31m             \u001b[0;32mif\u001b[0m \u001b[0;32mnot\u001b[0m \u001b[0mis_address\u001b[0m\u001b[0;34m(\u001b[0m\u001b[0mfacil\u001b[0m\u001b[0;34m[\u001b[0m\u001b[0mi\u001b[0m\u001b[0;34m]\u001b[0m\u001b[0;34m)\u001b[0m \u001b[0;32mand\u001b[0m \u001b[0;32mnot\u001b[0m \u001b[0mis_citystatezip\u001b[0m\u001b[0;34m(\u001b[0m\u001b[0mfacil\u001b[0m\u001b[0;34m[\u001b[0m\u001b[0mi\u001b[0m\u001b[0;34m]\u001b[0m\u001b[0;34m)\u001b[0m \u001b[0;32mand\u001b[0m \u001b[0;32mnot\u001b[0m \u001b[0mis_contact\u001b[0m\u001b[0;34m(\u001b[0m\u001b[0mfacil\u001b[0m\u001b[0;34m[\u001b[0m\u001b[0mi\u001b[0m\u001b[0;34m]\u001b[0m\u001b[0;34m)\u001b[0m\u001b[0;34m:\u001b[0m\u001b[0;34m\u001b[0m\u001b[0;34m\u001b[0m\u001b[0m\n\u001b[0m\u001b[1;32m     24\u001b[0m                 \u001b[0mdata_holder\u001b[0m\u001b[0;34m.\u001b[0m\u001b[0mappend\u001b[0m\u001b[0;34m(\u001b[0m\u001b[0;34m' '\u001b[0m\u001b[0;34m.\u001b[0m\u001b[0mjoin\u001b[0m\u001b[0;34m(\u001b[0m\u001b[0mfacil\u001b[0m\u001b[0;34m[\u001b[0m\u001b[0mi\u001b[0m\u001b[0;34m]\u001b[0m\u001b[0;34m)\u001b[0m\u001b[0;34m)\u001b[0m\u001b[0;34m\u001b[0m\u001b[0;34m\u001b[0m\u001b[0m\n\u001b[1;32m     25\u001b[0m                 \u001b[0mi\u001b[0m \u001b[0;34m+=\u001b[0m \u001b[0;36m1\u001b[0m\u001b[0;34m\u001b[0m\u001b[0;34m\u001b[0m\u001b[0m\n",
      "\u001b[0;31mIndexError\u001b[0m: list index out of range"
     ]
    }
   ],
   "source": [
    "pagen = firstpagen\n",
    "#pagen = 181\n",
    "\n",
    "for page in data[:-6]: \n",
    "#for page in data[pagen - 17:pagen]:\n",
    "    print(\"Page:\", pagen, end = '')\n",
    "    page_data_holders = []\n",
    "    for col in page:\n",
    "        if col != []:\n",
    "            page_data_holders += clean_col_data(split_col_data(col))\n",
    "            print(\" Finished Col \", end = '')\n",
    "    with open(filename, 'a', newline = '') as file:\n",
    "        writer = csv.writer(file)\n",
    "        writer.writerows(page_data_holders)\n",
    "    pagen += 1\n",
    "    print('')"
   ]
  },
  {
   "cell_type": "code",
   "execution_count": 782,
   "metadata": {},
   "outputs": [
    {
     "data": {
      "text/plain": [
       "[[['Alcohol', 'Impaired', 'Motorists', 'Program'],\n",
       "  ['(AIM)'],\n",
       "  ['505', 'North', 'Center', 'Street'],\n",
       "  ['Bloomington.', 'IL', '61701'],\n",
       "  ['(309)', '829-9384'],\n",
       "  ['SA', 'I', 'TX', 'I', 'OP/', 'DU', 'CJ', 'I', 'SS', 'OA']],\n",
       " [['Chestnut', 'Health', 'Svstems', 'Inc'],\n",
       "  ['Adolescent', 'Chemical', 'Dependency', 'Sens'],\n",
       "  ['702', 'West', 'Chestnut', 'Strcet'],\n",
       "  ['Bloomington,', 'IL', '6170', 'I'],\n",
       "  ['(309)', '827-6026'],\n",
       "  ['www.chcstnut.org'],\n",
       "  ['Ml-I-SA', 'I', 'TX/', 'OP', 'PH', 'RR/', 'AD', 'I', 'MD'],\n",
       "  ['Pl', 'Ml/', 'OA']],\n",
       " [['Chestnut', 'Health', 'Svstems', 'Inc'],\n",
       "  ['Lighthousc', 'Adult.'],\n",
       "  ['I', '003', 'Martm', 'Luther', 'King', 'Jr', 'Drive'],\n",
       "  ['Bloomington.', 'IL', '6170', 'I'],\n",
       "  ['(309)', '827-6026'],\n",
       "  ['www.chestnut.com'],\n",
       "  ['MH-SA', 'I', 'TX', 'DT', 'HH', '/', 'OP', 'PH', 'RR/'],\n",
       "  ['OW', 'DU', 'I', 'MD', 'Pl/', 'OA']],\n",
       " [['Countcrmeasurcs', 'Im:'],\n",
       "  ['I', 'IO', 'North', 'Centcr', 'Street'],\n",
       "  ['Bloomington.', 'IL', '61701'],\n",
       "  ['(309)', '827-0818'],\n",
       "  ['SA/', 'TX/', 'OP/', 'DU', 'CJ', 'I', 'Pl', '1\\\\11', '/', 'SS'],\n",
       "  ['OA']],\n",
       " [['Guil<lhau�', '1-Ialfwa,', 'Housc'],\n",
       "  ['2413', 'West', 'Canal', 'Strect'],\n",
       "  ['Blue', 'Island,', 'IL', '60406'],\n",
       "  ['(708)', '385-3228'],\n",
       "  ['Hotline:(708)', '385-3228'],\n",
       "  ['SA/', 'TX', 'HI-I/', 'RR/', 'Pl', 'Ml/', 'SS', 'OA']],\n",
       " [['Cornell', 'lntcrvcnllons/Li', 'feworks'],\n",
       "  ['404', 'West', 'Boughton', 'Road'],\n",
       "  ['Bolingbrook.', 'IL', '60440'],\n",
       "  ['(630)', '759-5750'],\n",
       "  ['SA', 'I', 'TX', 'DT', 'ML/', 'OP/', 'AD', 'HY', 'PW'],\n",
       "  ['OW', 'CJ', 'I', 'MD', 'MC', 'Pl', 'MI', '/', 'SS', 'OA']],\n",
       " [['Saint', 'Marys', 'Hospital', 'of', 'Bourbonnais'],\n",
       "  ['475', 'Brown', 'Boulevard'],\n",
       "  ['Suite', '105'],\n",
       "  ['Bourbonnais.', 'IL', '60914'],\n",
       "  ['(815)', '937-2081'],\n",
       "  ['GH', '/', 'TX', 'DT', '/OP/', 'DU/', 'MD', 'MC', 'Pl'],\n",
       "  ['MI/', 'SSOA']]]"
      ]
     },
     "execution_count": 782,
     "metadata": {},
     "output_type": "execute_result"
    }
   ],
   "source": [
    "#check error data\n",
    "pagen = 181\n",
    "col = 3\n",
    "split_col_data(data[pagen - 17][col - 1])#[5]"
   ]
  },
  {
   "cell_type": "code",
   "execution_count": 742,
   "metadata": {},
   "outputs": [
    {
     "data": {
      "text/plain": [
       "True"
      ]
     },
     "execution_count": 742,
     "metadata": {},
     "output_type": "execute_result"
    }
   ],
   "source": [
    "is_keys(['CJSSOA'])"
   ]
  },
  {
   "cell_type": "code",
   "execution_count": 732,
   "metadata": {},
   "outputs": [
    {
     "data": {
      "text/plain": [
       "6"
      ]
     },
     "execution_count": 732,
     "metadata": {},
     "output_type": "execute_result"
    }
   ],
   "source": [
    "data[pagen - 17][col - 1].index(['MI-1-S/\\\\', '/', 'TX', 'OT/', 'OP', 'PH', 'HI/', 'DD'])"
   ]
  },
  {
   "cell_type": "code",
   "execution_count": 622,
   "metadata": {},
   "outputs": [
    {
     "data": {
      "text/plain": [
       "False"
      ]
     },
     "execution_count": 622,
     "metadata": {},
     "output_type": "execute_result"
    }
   ],
   "source": [
    "'OT' in abbr_keys"
   ]
  },
  {
   "cell_type": "code",
   "execution_count": 715,
   "metadata": {},
   "outputs": [
    {
     "data": {
      "text/plain": [
       "['MH', 'TX', 'OP', 'OU', 'PI']"
      ]
     },
     "execution_count": 715,
     "metadata": {},
     "output_type": "execute_result"
    }
   ],
   "source": [
    "clean_keys(['Ml-', 'I/', 'TX/', 'OP/', 'OU/', 'Pl'])"
   ]
  },
  {
   "cell_type": "markdown",
   "metadata": {},
   "source": [
    "- Rewrite data in problem pages"
   ]
  },
  {
   "cell_type": "code",
   "execution_count": 781,
   "metadata": {},
   "outputs": [],
   "source": [
    "# pagen = 181\n",
    "# col = 3\n",
    "# data[pagen - 17][col - 1][19] = [\"www.chestnut.com\"]"
   ]
  },
  {
   "cell_type": "code",
   "execution_count": 768,
   "metadata": {},
   "outputs": [
    {
     "data": {
      "text/plain": [
       "[[['Gold', 'Coast', 'Counseling', 'Center'],\n",
       "  ['28052', 'Camino', 'Capistrano'],\n",
       "  ['Suite214'],\n",
       "  ['Laguna', 'Niguel.', 'CA', '92677'],\n",
       "  ['(949)', '347-8885'],\n",
       "  ['SA', 'I', 'TX', 'I', 'OP', 'I', 'DU', 'CJ', 'I', 'OA']],\n",
       " [['Garv', 'Center'],\n",
       "  ['34', 'I', '°Hillcrest', 'Street'],\n",
       "  ['La', 'Habra.', 'CA', '9063', 'I'],\n",
       "  ['(562)', '691-3263'],\n",
       "  ['SA', 'I', 'TX', '/', 'OP', 'I', 'SS']],\n",
       " [['Familv', 'Treatment', 'Institute'],\n",
       "  ['Cocaine', 'Stimulant', 'Recovery', 'Program'],\n",
       "  ['4225', 'Executive', 'Square'],\n",
       "  ['Suite', '1110'],\n",
       "  ['La', 'Jolla.', 'CA', '92037'],\n",
       "  ['(858)', '546-9255'],\n",
       "  ['Mil-SA/', 'TX/', 'OP/', 'Pl/', 'SS']],\n",
       " [['Practical', 'Recoverv', 'Services'],\n",
       "  ['8950', 'Villa', 'La', 'Jolla', 'Drive'],\n",
       "  ['Suite', '1130'],\n",
       "  ['La', 'Jolla,', 'CA', '92037'],\n",
       "  ['(858)', '453-4777'],\n",
       "  ['Intake:', '(858)', '455-0042'],\n",
       "  ['SA', 'I', 'TX', 'I', 'OP', 'I', 'OW', 'Dli', 'CJ', 'I', ':VIC', 'Pl'],\n",
       "  ['Ml']],\n",
       " [['Riverside', 'Recoverv', 'Resources'],\n",
       "  ['Communitv', 'Rccov:crv', 'Center'],\n",
       "  ['323', 'North', '·Main', 'Strc�t'],\n",
       "  ['Lake', 'Elsinore.', 'CA', '92530'],\n",
       "  ['(951', 'l', '674-7354'],\n",
       "  ['SA/', 'TX/', 'OP/', 'AD', 'DD', 'I-IV', 'PW', 'DU'],\n",
       "  ['CJ', 'I', 'SS', 'OA']],\n",
       " [['Riverside', \"Recover.'\", 'Resources'],\n",
       "  ['Community', 'Reco\\\\;ery', 'Center'],\n",
       "  ['656', 'Chaney', 'Stn:t:t'],\n",
       "  ['Suite', 'E'],\n",
       "  ['Lake', 'Elsinore.', 'CA', '92530'],\n",
       "  ['(951)', '674-7354'],\n",
       "  ['Intake:', '(951)', '245-5523'],\n",
       "  ['Hotline:', '(800)', '801-4673'],\n",
       "  ['SA', 'I', 'TX', 'OT/', 'OP/', 'AD', 'OW', 'DL', 'i', 'Pl/'],\n",
       "  ['SSOA']],\n",
       " [['Chapman', 'House', 'Inc'],\n",
       "  ['Adult', 'Program'],\n",
       "  ['23361', 'El', 'Toro', 'Road'],\n",
       "  ['Suite', '207'],\n",
       "  ['Lake', 'Forest', 'CA', '92630'],\n",
       "  ['(', '714)', '288-9779'],\n",
       "  ['www.chapmanhouseinc.com'],\n",
       "  ['SA', '/TX', 'I', 'OP', 'I', 'AD', 'DU', 'CJ', 'I', 'SS', 'OA']]]"
      ]
     },
     "execution_count": 768,
     "metadata": {},
     "output_type": "execute_result"
    }
   ],
   "source": [
    "# pagen = 53\n",
    "# col = 3\n",
    "# split_col_data(data[pagen - 17][col - 1])\n",
    "\n",
    "# pagen = 187\n",
    "# col = 1\n",
    "# data[pagen - 17][col - 1][6] = ['MH-SA', '/', 'TX', 'OT/', 'OP', 'PH', 'HI/', 'DD']\n",
    "# data[pagen - 17][col - 1][-1] = ['CJSSOA']\n",
    "\n",
    "# pagen = 184\n",
    "# col = 3\n",
    "# data[pagen - 17][col - 1][35] = ['OW', 'CJ', 'I', 'MD', 'Pl/', 'SS', 'OA']\n",
    "\n",
    "# pagen = 182\n",
    "# col = 1\n",
    "# data[pagen - 17][col - 1][4] = ['(847)', '478-8332']\n",
    "# data[pagen - 17][col - 1][11] = ['MH', 'I', '/TX', 'I', 'OP/', 'AD', 'DD', 'PW', 'OW', 'CJ']\n",
    "# data[pagen - 17][col - 1][12] = [\"MD\", 'Pl', 'Ml/', 'SS', 'OA']\n",
    "# data[pagen - 17][col - 1][18] = [\"MH\", 'TX', 'I', 'OP/', 'AD', 'DD', 'DU', 'CJ', 'I', 'Pl/']\n",
    "# data[pagen - 17][col - 1][26] = ['TX/', 'OP/', 'AD', 'DD', 'PW', 'CJ/', \"MD\", 'MC']\n",
    "# data[pagen - 17][col - 1][32] = ['Hotline', '(800)', '848-4270']\n",
    "# data[pagen - 17][col - 1][33] = ['MH', 'I', 'TX', '/', 'OP/', 'DD', 'I-IV', 'PW', 'DU', '/']\n",
    "# data[pagen - 17][col - 1][34] = ['MD', 'Pl', \"MI\", '/', 'SS', 'OA']\n",
    "# data[pagen - 17][col - 1][42] = ['1-11-1/0A']\n",
    "# data[pagen - 17][col - 1][-2] = ['SA', '!', 'TX', '/', 'OP', 'I', 'OW', 'DU', 'CJ/', 'MC', 'Pl', '/']\n",
    "# col = 2\n",
    "# data[pagen - 17][col - 1][29] = ['SA', 'I', 'TX/', 'OP/', 'DD', 'DU', 'CJ', '/', 'Pl', '/', 'OA']\n",
    "\n",
    "# pagen = 181\n",
    "# col = 3\n",
    "# data[pagen - 17][col - 1][20] = ['MH-SA', 'I', 'TX', 'DT', 'HH', '/', 'OP', 'PH', 'RR/']\n",
    "\n",
    "# pagen = 180\n",
    "# col = 2\n",
    "# data[pagen - 17][col - 1][1] = ['Detox/Rehab/OP/IOP/Prev/DUI/MIS']\n",
    "\n",
    "# pagen = 178 \n",
    "# col = 2\n",
    "# data[pagen - 17][col - 1][31] = ['DU', 'MC', 'Pl', 'Ml', '/', 'OA']\n",
    "\n",
    "# pagen = 121\n",
    "# col = 1\n",
    "# data[pagen - 17][col - 1][51] = ['Ml-I-SA/', 'TX/', 'HI', '/', 'DD', 'HY', 'PW', 'OW']\n",
    "\n",
    "# pagen = 124\n",
    "# col = 1\n",
    "# data[pagen - 17][col - 1][14] = ['CMHA']"
   ]
  },
  {
   "cell_type": "code",
   "execution_count": 626,
   "metadata": {},
   "outputs": [],
   "source": [
    "# pagen = 96\n",
    "# col = 3\n",
    "# data[pagen - 17][col - 1][15] = ['SA/', 'TX', 'OT', 'ML/', 'OP/', 'MD/', 'SS', 'OA']\n",
    "\n",
    "# pagen = 83\n",
    "# col = 1\n",
    "# data[pagen - 17][col - 1][26] = ['SA', 'I', 'TX', 'DT', '/', \"01'\", '/', 'PW', 'OW', 'CJ', 'MD']\n",
    "# data[pagen - 17][col - 1][27] = []\n",
    "\n",
    "# pagen = 79\n",
    "# col = 1\n",
    "# data[pagen - 17][col - 1][28] = ['SA', 'I', 'TX', 'I', 'OP', 'RR/', 'DD', 'HV', 'PW', 'OW']\n",
    "\n",
    "# pagen = 93\n",
    "# col = 2\n",
    "# data[pagen - 17][col - 1][33] = ['Stockton,', 'CA', '95202']\n",
    "\n",
    "# pagen = 52\n",
    "# col = 1\n",
    "# data[pagen - 17][col - 1][47] = ['SA', 'I', 'TX', 'I', 'OP', 'PH', '/', 'AD', 'CJ/', 'SS', 'OA']\n",
    "\n",
    "# pagen = 55\n",
    "# col = 1\n",
    "# data[pagen - 17][col - 1][21] = ['SA', '/', 'TX', 'DT/', 'RR', '/', 'AD/', 'SS', 'OA']\n",
    "\n",
    "# pagen = 172\n",
    "# col = 2\n",
    "# data[pagen - 17][col - 1][50] = ['MH-SA', '/', 'TX', 'DT', 'ML/', 'OP/', 'DU/', 'Ml', '/']\n",
    "\n",
    "# pagen = 168\n",
    "# col = 1\n",
    "# data[pagen - 17][col - 1][26] = ['SA', 'I', 'TX', 'DT', '/', 'OP', 'RR/', 'DD', 'HV', 'OW']\n",
    "\n",
    "# pagen = 161\n",
    "# col = 2\n",
    "# data[pagen - 17][col - 1][25] = ['MH', '/', 'TX', 'DT', '/', 'OP', 'PH', 'HI', 'DD/', 'MD']\n",
    "\n",
    "# pagen = 159\n",
    "# col = 1\n",
    "# data[pagen - 17][col - 1][21] = ['SA', 'I', 'TX/', 'RR/', 'DD/', 'MD', 'MC', 'Pl', 'Ml/']\n",
    "\n",
    "# pagen = 139\n",
    "# col = 3\n",
    "# data[pagen - 17][col - 1][32] = ['SA', '/', 'TX', 'DT', '/', 'RR/', 'MD', 'PI', 'SS', 'OA']"
   ]
  },
  {
   "cell_type": "code",
   "execution_count": 296,
   "metadata": {},
   "outputs": [],
   "source": [
    "# pagen = 127\n",
    "# col = 3\n",
    "# data[pagen - 17][col - 1][51] = ['SA', '/', 'TX', '/OP/', 'AD', 'OW', 'CJ', 'I', 'MD', 'MC']\n",
    "\n",
    "# pagen = 122\n",
    "# col = 3\n",
    "# data[pagen - 17][col - 1][23] = ['MH', '/', 'TX', 'OT', 'ML/', 'HI', '/', 'AD', 'DD/', 'MD']\n",
    "\n",
    "# pagen = 115\n",
    "# col = 1\n",
    "# data[pagen - 17][col - 1][26] = ['MC', 'Pl', 'MI', '/', 'SS', 'OA']\n",
    "# data[pagen - 17][col - 1][-22] = ['Ml/', 'SS', 'OA']\n",
    "# data[pagen - 17][col - 1][-13] = ['MC', 'Pl', \"MI\", '/', 'SS']\n",
    "\n",
    "# pagen = 119\n",
    "# col = 3\n",
    "# data[pagen - 17][col - 1][-16] = ['DD', 'HY', 'OW', '/', 'MC', 'PI', 'Ml/', 'SS', 'OA']\\\n",
    "\n",
    "# pagen = 44\n",
    "# col = 3\n",
    "# data[pagen - 17][col - 1][25] = ['Intake:', '(310)207-4322']\n",
    "\n",
    "# pagen = 82\n",
    "# col = 3\n",
    "# data[pagen - 17][col - 1][-9] = ['(415)', '241-11', '70']\n",
    "\n",
    "# pagen = 121\n",
    "# col = 2\n",
    "# data[pagen - 17][col - 1][-8] = ['OW', 'CJ', 'I', 'MD', 'MC', 'Pl', 'Ml', '/', 'SS', 'OA']"
   ]
  },
  {
   "cell_type": "code",
   "execution_count": 171,
   "metadata": {},
   "outputs": [],
   "source": [
    "# pagen = 23\n",
    "# col = 3\n",
    "# data[pagen - 17][col - 1][10] = ['Wasilla,', 'AK', '99654']\n",
    "\n",
    "# pagen = 45\n",
    "# col = 1\n",
    "# data[pagen - 17][col - 1][-12] = ['Covina.', 'CA', '91722']\n",
    "\n",
    "# pagen = 59\n",
    "# col = 1\n",
    "# data[pagen - 17][col - 1][-5] = ['Los', 'Angeles.', 'CA', '90017']\n",
    "# data[pagen - 17][col - 1][-13] = ['Los', 'Angeles.', 'CA', '90007']\n",
    "\n",
    "# pagen = 74\n",
    "# col = 1\n",
    "# data[pagen - 17][col - 1][-10] = ['Rio', 'Vista,', 'CA', '94571']\n",
    "\n",
    "# pagen = 107\n",
    "# col = 1\n",
    "# data[pagen - 17][col - 1][26] = ['SA/', 'TX/', 'OP', \"HH\", '/', 'AD', 'PW', 'OW', 'CJ/']\n",
    "\n",
    "# pagen = 63\n",
    "# col = 1\n",
    "# data[pagen - 17][col - 1][21] = ['TX', 'OP', 'DU', 'OA']\n",
    "\n",
    "# pagen = 67 \n",
    "# col = 2\n",
    "# data[pagen - 17][col - 1][16] = ['SA', 'TX', 'OP', 'PH', 'RR', 'DD', 'HV', 'OW']\n",
    "\n",
    "# pagen = 78 \n",
    "# col = 3\n",
    "# data[pagen - 17][col - 1][-1] = ['SA', 'I', 'TX/', 'OP/', 'HY', 'OW', 'CJ', 'I', 'SS', 'OA']\n",
    "\n",
    "# pagen = 97\n",
    "# col = 2\n",
    "# data[pagen - 17][col - 1][-14] = ['HV', 'PW', 'CJ', 'I', 'MD', 'MC', 'PI', 'MI']\n",
    "\n",
    "# pagen = 100\n",
    "# col = 1\n",
    "# data[pagen - 17][col - 1][-18] = ['GH', '/', 'TX', 'DT', 'HH', '/', 'OP', 'PH', 'RR', 'HI', 'DD']\n",
    "\n",
    "# pagen = 103\n",
    "# col = 1\n",
    "# data[pagen - 17][col - 1][-13] = ['SA/', 'TX', 'i', 'OP/', 'AD', 'HV', 'PW', 'OW', 'DU']\n",
    "# data[pagen - 17][col - 1][-7] = ['SA', '/', 'TX', '/', 'OP/', 'DL', '/', 'SS', 'OA']"
   ]
  },
  {
   "cell_type": "markdown",
   "metadata": {},
   "source": [
    "# Clean final data\n",
    "- Replaced \"A venue\" with \"A venue\" in Address1\n",
    "- Split ZIP code into two if in the format \"35294-0018\"\n",
    "- To-do:\n",
    "    - Clean up the wrong letters/numbers in address"
   ]
  },
  {
   "cell_type": "code",
   "execution_count": 794,
   "metadata": {},
   "outputs": [],
   "source": [
    "import pandas as pd"
   ]
  },
  {
   "cell_type": "code",
   "execution_count": 795,
   "metadata": {},
   "outputs": [
    {
     "data": {
      "text/html": [
       "<div>\n",
       "<style scoped>\n",
       "    .dataframe tbody tr th:only-of-type {\n",
       "        vertical-align: middle;\n",
       "    }\n",
       "\n",
       "    .dataframe tbody tr th {\n",
       "        vertical-align: top;\n",
       "    }\n",
       "\n",
       "    .dataframe thead th {\n",
       "        text-align: right;\n",
       "    }\n",
       "</style>\n",
       "<table border=\"1\" class=\"dataframe\">\n",
       "  <thead>\n",
       "    <tr style=\"text-align: right;\">\n",
       "      <th></th>\n",
       "      <th>Name1</th>\n",
       "      <th>Name2</th>\n",
       "      <th>Name3</th>\n",
       "      <th>Address1</th>\n",
       "      <th>Address2</th>\n",
       "      <th>Address3</th>\n",
       "      <th>City</th>\n",
       "      <th>State</th>\n",
       "      <th>ZIP_Code</th>\n",
       "      <th>Contact</th>\n",
       "      <th>Website</th>\n",
       "      <th>Note</th>\n",
       "      <th>Keys</th>\n",
       "    </tr>\n",
       "  </thead>\n",
       "  <tbody>\n",
       "    <tr>\n",
       "      <th>0</th>\n",
       "      <td>Lighthouse of Tallapoosa County Inc</td>\n",
       "      <td>Substance Abuse Re)rnbilitation Program</td>\n",
       "      <td>NaN</td>\n",
       "      <td>36 Franklin Street</td>\n",
       "      <td>NaN</td>\n",
       "      <td>NaN</td>\n",
       "      <td>Alexander City</td>\n",
       "      <td>AL</td>\n",
       "      <td>35010</td>\n",
       "      <td>(205)234-4894 Hotline: (800)762-3790</td>\n",
       "      <td>NaN</td>\n",
       "      <td>NaN</td>\n",
       "      <td>SA/TX/HH/RR/SS/OA/</td>\n",
       "    </tr>\n",
       "    <tr>\n",
       "      <th>1</th>\n",
       "      <td>Anniston fellowship House Inc</td>\n",
       "      <td>NaN</td>\n",
       "      <td>NaN</td>\n",
       "      <td>106 East 22nd Street</td>\n",
       "      <td>NaN</td>\n",
       "      <td>NaN</td>\n",
       "      <td>Anniston</td>\n",
       "      <td>AL</td>\n",
       "      <td>36201</td>\n",
       "      <td>(256)236-7229</td>\n",
       "      <td>NaN</td>\n",
       "      <td>NaN</td>\n",
       "      <td>SA/TX/HH/RR/CJ/SS/OA/</td>\n",
       "    </tr>\n",
       "    <tr>\n",
       "      <th>2</th>\n",
       "      <td>Calhoun/Cleburne Mental Health Center</td>\n",
       "      <td>New Directions</td>\n",
       "      <td>NaN</td>\n",
       "      <td>407 South Nobcl Street</td>\n",
       "      <td>NaN</td>\n",
       "      <td>NaN</td>\n",
       "      <td>Anniston</td>\n",
       "      <td>AL</td>\n",
       "      <td>36201</td>\n",
       "      <td>(256)236-8003 Hotline: (256)236-3403</td>\n",
       "      <td>NaN</td>\n",
       "      <td>NaN</td>\n",
       "      <td>SA/TX/OP/AD/DD/DU/PI/MI/SS/</td>\n",
       "    </tr>\n",
       "    <tr>\n",
       "      <th>3</th>\n",
       "      <td>Alcoholism Recovery Services Inc</td>\n",
       "      <td>NaN</td>\n",
       "      <td>NaN</td>\n",
       "      <td>2701 Jefferson Avenue SW</td>\n",
       "      <td>NaN</td>\n",
       "      <td>NaN</td>\n",
       "      <td>Birmingham</td>\n",
       "      <td>AL</td>\n",
       "      <td>35211</td>\n",
       "      <td>(205)923-6552</td>\n",
       "      <td>NaN</td>\n",
       "      <td>NaN</td>\n",
       "      <td>SA/TX/DT/OP/RR/HV/OW/MD/SS/OA/</td>\n",
       "    </tr>\n",
       "    <tr>\n",
       "      <th>4</th>\n",
       "      <td>Aletheia I-louse</td>\n",
       "      <td>NaN</td>\n",
       "      <td>NaN</td>\n",
       "      <td>201 Finley Avenue West</td>\n",
       "      <td>NaN</td>\n",
       "      <td>NaN</td>\n",
       "      <td>Birmingham</td>\n",
       "      <td>AL</td>\n",
       "      <td>35204</td>\n",
       "      <td>(205)324-6502</td>\n",
       "      <td>NaN</td>\n",
       "      <td>NaN</td>\n",
       "      <td>SA/TX/HH/OP/RR/PW/MD/PI/MI/OA/</td>\n",
       "    </tr>\n",
       "    <tr>\n",
       "      <th>...</th>\n",
       "      <td>...</td>\n",
       "      <td>...</td>\n",
       "      <td>...</td>\n",
       "      <td>...</td>\n",
       "      <td>...</td>\n",
       "      <td>...</td>\n",
       "      <td>...</td>\n",
       "      <td>...</td>\n",
       "      <td>...</td>\n",
       "      <td>...</td>\n",
       "      <td>...</td>\n",
       "      <td>...</td>\n",
       "      <td>...</td>\n",
       "    </tr>\n",
       "    <tr>\n",
       "      <th>3918</th>\n",
       "      <td>Scott Bayrach Limited</td>\n",
       "      <td>NaN</td>\n",
       "      <td>NaN</td>\n",
       "      <td>925 North Milwaukee Avenue</td>\n",
       "      <td>Suite 1016</td>\n",
       "      <td>NaN</td>\n",
       "      <td>Wheeling</td>\n",
       "      <td>IL</td>\n",
       "      <td>60090</td>\n",
       "      <td>(847)459-8879 Hotline: (888)384-2687</td>\n",
       "      <td>NaN</td>\n",
       "      <td>NaN</td>\n",
       "      <td>SA/TX/OP/DU/SS/</td>\n",
       "    </tr>\n",
       "    <tr>\n",
       "      <th>3919</th>\n",
       "      <td>Behavioral Health Services of</td>\n",
       "      <td>Central DuPage Hospital</td>\n",
       "      <td>NaN</td>\n",
       "      <td>27 West 350 High Lake Road</td>\n",
       "      <td>NaN</td>\n",
       "      <td>NaN</td>\n",
       "      <td>Winfield</td>\n",
       "      <td>IL</td>\n",
       "      <td>60190</td>\n",
       "      <td>(630)653-4000 Hotline: (630)653-4000</td>\n",
       "      <td>NaN</td>\n",
       "      <td>NaN</td>\n",
       "      <td>MH-SA/TX/DT/OP/PH/RR/HI/AD/DD/HV/OW/MD/MC/PI/M...</td>\n",
       "    </tr>\n",
       "    <tr>\n",
       "      <th>3920</th>\n",
       "      <td>Cornell Interventions Inc</td>\n",
       "      <td>All Ale/Substance Abuse Progs on Site</td>\n",
       "      <td>NaN</td>\n",
       "      <td>2221 West 64th Street</td>\n",
       "      <td>NaN</td>\n",
       "      <td>NaN</td>\n",
       "      <td>Woodridge</td>\n",
       "      <td>IL</td>\n",
       "      <td>60517</td>\n",
       "      <td>(630)968-6477</td>\n",
       "      <td>NaN</td>\n",
       "      <td>NaN</td>\n",
       "      <td>SA/TX/OP/RR/AD/DD/CJ/MD/MC/PI/MI/SS/</td>\n",
       "    </tr>\n",
       "    <tr>\n",
       "      <th>3921</th>\n",
       "      <td>New Visions Counseling Services Inc</td>\n",
       "      <td>NaN</td>\n",
       "      <td>NaN</td>\n",
       "      <td>8263 Janes A venue</td>\n",
       "      <td>Suite I</td>\n",
       "      <td>NaN</td>\n",
       "      <td>Woodridge</td>\n",
       "      <td>IL</td>\n",
       "      <td>60517</td>\n",
       "      <td>(630)910-1100</td>\n",
       "      <td>NaN</td>\n",
       "      <td>NaN</td>\n",
       "      <td>SA/TX/OP/DU/CJ/PI/OA/</td>\n",
       "    </tr>\n",
       "    <tr>\n",
       "      <th>3922</th>\n",
       "      <td>Wood River Township Hospital</td>\n",
       "      <td>Flex Care Program</td>\n",
       "      <td>NaN</td>\n",
       "      <td>IOI East Edwardsville Road</td>\n",
       "      <td>NaN</td>\n",
       "      <td>NaN</td>\n",
       "      <td>Wood River</td>\n",
       "      <td>IL</td>\n",
       "      <td>62095</td>\n",
       "      <td>(618)254-0434</td>\n",
       "      <td>NaN</td>\n",
       "      <td>NaN</td>\n",
       "      <td>SA/TX/OP/DU/MC/PI/MI/OA/</td>\n",
       "    </tr>\n",
       "  </tbody>\n",
       "</table>\n",
       "<p>3923 rows × 13 columns</p>\n",
       "</div>"
      ],
      "text/plain": [
       "                                      Name1  \\\n",
       "0       Lighthouse of Tallapoosa County Inc   \n",
       "1             Anniston fellowship House Inc   \n",
       "2     Calhoun/Cleburne Mental Health Center   \n",
       "3          Alcoholism Recovery Services Inc   \n",
       "4                          Aletheia I-louse   \n",
       "...                                     ...   \n",
       "3918                  Scott Bayrach Limited   \n",
       "3919          Behavioral Health Services of   \n",
       "3920              Cornell Interventions Inc   \n",
       "3921    New Visions Counseling Services Inc   \n",
       "3922           Wood River Township Hospital   \n",
       "\n",
       "                                        Name2 Name3  \\\n",
       "0     Substance Abuse Re)rnbilitation Program   NaN   \n",
       "1                                         NaN   NaN   \n",
       "2                              New Directions   NaN   \n",
       "3                                         NaN   NaN   \n",
       "4                                         NaN   NaN   \n",
       "...                                       ...   ...   \n",
       "3918                                      NaN   NaN   \n",
       "3919                  Central DuPage Hospital   NaN   \n",
       "3920    All Ale/Substance Abuse Progs on Site   NaN   \n",
       "3921                                      NaN   NaN   \n",
       "3922                        Flex Care Program   NaN   \n",
       "\n",
       "                        Address1    Address2 Address3            City State  \\\n",
       "0             36 Franklin Street         NaN      NaN  Alexander City    AL   \n",
       "1           106 East 22nd Street         NaN      NaN        Anniston    AL   \n",
       "2         407 South Nobcl Street         NaN      NaN        Anniston    AL   \n",
       "3       2701 Jefferson Avenue SW         NaN      NaN      Birmingham    AL   \n",
       "4         201 Finley Avenue West         NaN      NaN      Birmingham    AL   \n",
       "...                          ...         ...      ...             ...   ...   \n",
       "3918  925 North Milwaukee Avenue  Suite 1016      NaN        Wheeling    IL   \n",
       "3919  27 West 350 High Lake Road         NaN      NaN        Winfield    IL   \n",
       "3920       2221 West 64th Street         NaN      NaN       Woodridge    IL   \n",
       "3921          8263 Janes A venue     Suite I      NaN       Woodridge    IL   \n",
       "3922  IOI East Edwardsville Road         NaN      NaN      Wood River    IL   \n",
       "\n",
       "     ZIP_Code                               Contact Website Note  \\\n",
       "0       35010  (205)234-4894 Hotline: (800)762-3790     NaN  NaN   \n",
       "1       36201                         (256)236-7229     NaN  NaN   \n",
       "2       36201  (256)236-8003 Hotline: (256)236-3403     NaN  NaN   \n",
       "3       35211                         (205)923-6552     NaN  NaN   \n",
       "4       35204                         (205)324-6502     NaN  NaN   \n",
       "...       ...                                   ...     ...  ...   \n",
       "3918    60090  (847)459-8879 Hotline: (888)384-2687     NaN  NaN   \n",
       "3919    60190  (630)653-4000 Hotline: (630)653-4000     NaN  NaN   \n",
       "3920    60517                         (630)968-6477     NaN  NaN   \n",
       "3921    60517                         (630)910-1100     NaN  NaN   \n",
       "3922    62095                         (618)254-0434     NaN  NaN   \n",
       "\n",
       "                                                   Keys  \n",
       "0                                    SA/TX/HH/RR/SS/OA/  \n",
       "1                                 SA/TX/HH/RR/CJ/SS/OA/  \n",
       "2                           SA/TX/OP/AD/DD/DU/PI/MI/SS/  \n",
       "3                        SA/TX/DT/OP/RR/HV/OW/MD/SS/OA/  \n",
       "4                        SA/TX/HH/OP/RR/PW/MD/PI/MI/OA/  \n",
       "...                                                 ...  \n",
       "3918                                    SA/TX/OP/DU/SS/  \n",
       "3919  MH-SA/TX/DT/OP/PH/RR/HI/AD/DD/HV/OW/MD/MC/PI/M...  \n",
       "3920               SA/TX/OP/RR/AD/DD/CJ/MD/MC/PI/MI/SS/  \n",
       "3921                              SA/TX/OP/DU/CJ/PI/OA/  \n",
       "3922                           SA/TX/OP/DU/MC/PI/MI/OA/  \n",
       "\n",
       "[3923 rows x 13 columns]"
      ]
     },
     "execution_count": 795,
     "metadata": {},
     "output_type": "execute_result"
    }
   ],
   "source": [
    "df = pd.read_csv(\"{}.csv\".format(YEAR))\n",
    "df"
   ]
  },
  {
   "cell_type": "code",
   "execution_count": 796,
   "metadata": {},
   "outputs": [
    {
     "name": "stdout",
     "output_type": "stream",
     "text": [
      "Name1           Consolidated Substance Abuse\n",
      "Name2                      Counseling Center\n",
      "Name3                      Marine Corps Base\n",
      "Address1                                 NaN\n",
      "Address2                                 NaN\n",
      "Address3                                 NaN\n",
      "City                                     NaN\n",
      "State                               Building\n",
      "ZIP_Code                               16105\n",
      "Contact                                  NaN\n",
      "Website                                  NaN\n",
      "Note                Camp Pendleton, CA 92055\n",
      "Keys        O/-/IN/TA/KE/O/-/SA/TX/OP/PH/OA/\n",
      "Name: 493, dtype: object\n",
      "Name1        Transcultural Health Development\n",
      "Name2                                     NaN\n",
      "Name3                                     NaN\n",
      "Address1    I 17 East Harry Bridges Boulevard\n",
      "Address2               Wilmington. CA. .90744\n",
      "Address3                                  NaN\n",
      "City                                      NaN\n",
      "State                                   (310)\n",
      "ZIP_Code                             549-8383\n",
      "Contact                                   NaN\n",
      "Website                                   NaN\n",
      "Note                                      NaN\n",
      "Keys                    SA/TX/DT/ML/OP/HV/SS/\n",
      "Name: 1803, dtype: object\n",
      "Name1                                 Managed Adolescent Care\n",
      "Name2                                                     NaN\n",
      "Name3                                                     NaN\n",
      "Address1                                                  NaN\n",
      "Address2                                                  NaN\n",
      "Address3                                                  NaN\n",
      "City                                                      NaN\n",
      "State                                                   (MAC)\n",
      "ZIP_Code                                               Center\n",
      "Contact                                                   NaN\n",
      "Website                                                   NaN\n",
      "Note                               4828 South College A venue\n",
      "Keys        FO/RT/COIIINS/CO/O/O/-I/MH-SA/TX/OP/PH/AD/DD/C...\n",
      "Name: 2035, dtype: object\n",
      "Name1                Alcohol/Behavior Information\n",
      "Name2                                         NaN\n",
      "Name3                                         NaN\n",
      "Address1                          500 9th A venue\n",
      "Address2                                 Suite 10\n",
      "Address3                                      NaN\n",
      "City                                  Longmont CO\n",
      "State                                        8050\n",
      "ZIP_Code                                        I\n",
      "Contact     (303)651-2554 11otlinc: (303)651-2554\n",
      "Website                                       NaN\n",
      "Note                                          NaN\n",
      "Keys                              SA/TX/OP/DU/PI/\n",
      "Name: 2131, dtype: object\n",
      "Name1                Longmont United Hospital\n",
      "Name2            Addiction Treatment Services\n",
      "Name3                                     NaN\n",
      "Address1                  133 I Linden Street\n",
      "Address2                   Longmont CO 8050 I\n",
      "Address3                                  NaN\n",
      "City                                      NaN\n",
      "State                                   (303)\n",
      "ZIP_Code                             651-5389\n",
      "Contact                Hotline: (303)651-5212\n",
      "Website                                   NaN\n",
      "Note                                      NaN\n",
      "Keys        SA/TX/OP/DD/OW/DU/MD/MC/PI/MI/SS/\n",
      "Name: 2135, dtype: object\n",
      "Name1                       Crossroads Inc\n",
      "Name2                                  Men\n",
      "Name3                                  NaN\n",
      "Address1           54 East Ramsdell Street\n",
      "Address2            New Haven, CT O(j5 I 5\n",
      "Address3                               NaN\n",
      "City                                   NaN\n",
      "State                                (203)\n",
      "ZIP_Code                          387-0094\n",
      "Contact                                NaN\n",
      "Website                                NaN\n",
      "Note                                   NaN\n",
      "Keys        SA/TX/RR/HV/PW/OW/CJ/MD/SS/OA/\n",
      "Name: 2341, dtype: object\n",
      "Name1              Behavioral Health Services of\n",
      "Name2                              South Georgia\n",
      "Name3                                        NaN\n",
      "Address1                 422 West Bostick Street\n",
      "Address2                    Lakeland, GA 3 °1635\n",
      "Address3                                     NaN\n",
      "City                                         NaN\n",
      "State                                      (912)\n",
      "ZIP_Code                                482-3229\n",
      "Contact                                      NaN\n",
      "Website                                      NaN\n",
      "Note                                         NaN\n",
      "Keys        MH-SA/TX/OP/DD/CJ/MD/MC/PI/MI/SS/OA/\n",
      "Name: 3255, dtype: object\n",
      "Name1                            Institute for Human Services\n",
      "Name2                                                     NaN\n",
      "Name3                                                     NaN\n",
      "Address1                                                  NaN\n",
      "Address2                                                  NaN\n",
      "Address3                                                  NaN\n",
      "City                                                      NaN\n",
      "State                                                   (IHS)\n",
      "ZIP_Code                                              Ka'aahi\n",
      "Contact                                                   NaN\n",
      "Website                                                   NaN\n",
      "Note                                       546 Ka'aahi Street\n",
      "Keys        HO/NO/IU/IU/HI/I/O/IN/TA/KE/O/-/WW/WI/HS/-H/AW...\n",
      "Name: 3344, dtype: object\n",
      "Name1                   Comprehensive Behavioral Services Inc\n",
      "Name2                                                     NaN\n",
      "Name3                                                     NaN\n",
      "Address1                                                  NaN\n",
      "Address2                                                  NaN\n",
      "Address3                                                  NaN\n",
      "City                                                      NaN\n",
      "State                                                 Central\n",
      "ZIP_Code                                               Intake\n",
      "Contact                                                   NaN\n",
      "Website                                                   NaN\n",
      "Note                            3345-K Arlington Heights Road\n",
      "Keys        ARIINGTON/HEIGHTS/IL/DD/DD/IN/TA/KE/-/SA/TX/OP...\n",
      "Name: 3447, dtype: object\n"
     ]
    }
   ],
   "source": [
    "#check if all state names are right\n",
    "for index, row in df.iterrows():\n",
    "    #print(row)\n",
    "    if len(row[7])!=2:\n",
    "        print(row)"
   ]
  },
  {
   "cell_type": "code",
   "execution_count": 50,
   "metadata": {},
   "outputs": [
    {
     "data": {
      "text/plain": [
       "Name1       object\n",
       "Name2       object\n",
       "Name3       object\n",
       "Address1    object\n",
       "Address2    object\n",
       "Address3    object\n",
       "City        object\n",
       "State       object\n",
       "ZIP_Code     int64\n",
       "Contact     object\n",
       "Website     object\n",
       "Note        object\n",
       "Keys        object\n",
       "dtype: object"
      ]
     },
     "execution_count": 50,
     "metadata": {},
     "output_type": "execute_result"
    }
   ],
   "source": [
    "#check if all zip codes are correct\n",
    "df.dtypes"
   ]
  },
  {
   "cell_type": "markdown",
   "metadata": {},
   "source": [
    "- Correct in Pandas"
   ]
  },
  {
   "cell_type": "code",
   "execution_count": 51,
   "metadata": {},
   "outputs": [],
   "source": [
    "#if address 1 and 2 should actually be one line...\n",
    "for index, row in df.iterrows():\n",
    "    if row[0].split()[-1] == 'and':\n",
    "        if pd.isnull(row[1]):\n",
    "            print(index)\n",
    "        else:\n",
    "            df.at[index, 'Name1'] = row[0] + ' ' + row[1]\n",
    "            df.at[index, 'Name2'] = ''"
   ]
  },
  {
   "cell_type": "code",
   "execution_count": null,
   "metadata": {},
   "outputs": [],
   "source": [
    "#replace a venue with avenue"
   ]
  },
  {
   "cell_type": "code",
   "execution_count": 52,
   "metadata": {},
   "outputs": [],
   "source": [
    "# def split_zip(zipc):\n",
    "#     if '-' in zipc:\n",
    "#         return zipc.split('-')\n",
    "#     return [zipc, None]\n",
    "# #split zip-code if zip code is in the format xxxxx-xxxx\n",
    "# df['zip1'] = [split_zip(zipc)[0] for zipc in df['ZIP_Code']]\n",
    "# df['zip2'] = [split_zip(zipc)[1] for zipc in df['ZIP_Code']]"
   ]
  },
  {
   "cell_type": "code",
   "execution_count": 53,
   "metadata": {},
   "outputs": [],
   "source": [
    "df.to_csv('{}_c.csv'.format(YEAR), index = False)"
   ]
  },
  {
   "cell_type": "markdown",
   "metadata": {},
   "source": [
    "## Summary stats"
   ]
  },
  {
   "cell_type": "markdown",
   "metadata": {},
   "source": [
    "- Check keys"
   ]
  },
  {
   "cell_type": "code",
   "execution_count": 54,
   "metadata": {},
   "outputs": [],
   "source": [
    "df = pd.read_csv('{}_c.csv'.format(YEAR))"
   ]
  },
  {
   "cell_type": "code",
   "execution_count": 57,
   "metadata": {},
   "outputs": [
    {
     "name": "stdout",
     "output_type": "stream",
     "text": [
      "MM Methadone maintenance (facility may also use buprenorphine in maintenance)\n",
      "DM Methadone detoxification (facility may also use buprenorphine in detoxification)\n"
     ]
    }
   ],
   "source": [
    "Methadone_keys = []\n",
    "for key, val in abbr_keys.items():\n",
    "    if val:\n",
    "        if ('Methadone' in val) or ('methadone' in val):\n",
    "            Methadone_keys.append(key)\n",
    "            print(key, val)"
   ]
  },
  {
   "cell_type": "code",
   "execution_count": 58,
   "metadata": {},
   "outputs": [
    {
     "name": "stdout",
     "output_type": "stream",
     "text": [
      "MM Methadone maintenance (facility may also use buprenorphine in maintenance)\n",
      "DM Methadone detoxification (facility may also use buprenorphine in detoxification)\n"
     ]
    }
   ],
   "source": [
    "Buprenorphine_keys = []\n",
    "for key, val in abbr_keys.items():\n",
    "    if val:\n",
    "        if ('Buprenorphine' in val) or (\"buprenorphine\" in val):\n",
    "            Buprenorphine_keys.append(key)\n",
    "            print(key, val)"
   ]
  },
  {
   "cell_type": "code",
   "execution_count": 59,
   "metadata": {},
   "outputs": [],
   "source": [
    "Naltrexone_keys = []\n",
    "for key, val in abbr_keys.items():\n",
    "    if val:\n",
    "        if ('Naltrexone' in val) or ('naltrexone' in val):\n",
    "            Naltrexone_keys.append(key)\n",
    "            print(key, val)"
   ]
  },
  {
   "cell_type": "markdown",
   "metadata": {},
   "source": [
    "- Count keys"
   ]
  },
  {
   "cell_type": "code",
   "execution_count": 60,
   "metadata": {},
   "outputs": [],
   "source": [
    "def count_key(df, key):\n",
    "    '''\n",
    "    Count the number MOUD with a certain key\n",
    "    '''\n",
    "    df[key] = df.apply(lambda row: key in row['Keys'].split('/'), axis = 1)\n",
    "    return len(df[df[key] == True])"
   ]
  },
  {
   "cell_type": "code",
   "execution_count": 61,
   "metadata": {},
   "outputs": [
    {
     "data": {
      "text/plain": [
       "11060"
      ]
     },
     "execution_count": 61,
     "metadata": {},
     "output_type": "execute_result"
    }
   ],
   "source": [
    "len(df)"
   ]
  },
  {
   "cell_type": "code",
   "execution_count": 62,
   "metadata": {},
   "outputs": [],
   "source": [
    "labels = []\n",
    "MOUD_numbers = []"
   ]
  },
  {
   "cell_type": "code",
   "execution_count": 63,
   "metadata": {},
   "outputs": [
    {
     "name": "stdout",
     "output_type": "stream",
     "text": [
      "MM : Methadone maintenance (facility may also use buprenorphine in maintenance) \t\t 925\n",
      "DM : Methadone detoxification (facility may also use buprenorphine in detoxification) \t\t 664\n"
     ]
    }
   ],
   "source": [
    "for key in Methadone_keys:\n",
    "    n_MOUD_with_key = count_key(df, key)\n",
    "    print(key, \":\", abbr_keys[key], '\\t\\t', n_MOUD_with_key)\n",
    "    labels.append(abbr_keys[key] + '(' + key + ')')\n",
    "    MOUD_numbers.append(n_MOUD_with_key)"
   ]
  },
  {
   "cell_type": "code",
   "execution_count": 64,
   "metadata": {},
   "outputs": [
    {
     "name": "stdout",
     "output_type": "stream",
     "text": [
      "MM : Methadone maintenance (facility may also use buprenorphine in maintenance) \t\t 925\n",
      "DM : Methadone detoxification (facility may also use buprenorphine in detoxification) \t\t 664\n"
     ]
    }
   ],
   "source": [
    "for key in Buprenorphine_keys:\n",
    "    n_MOUD_with_key = count_key(df, key)\n",
    "    print(key, \":\", abbr_keys[key], '\\t\\t', n_MOUD_with_key)\n",
    "    if (abbr_keys[key] + '(' + key + ')') not in labels:\n",
    "        labels.append(abbr_keys[key] + '(' + key + ')')\n",
    "        MOUD_numbers.append(n_MOUD_with_key)"
   ]
  },
  {
   "cell_type": "code",
   "execution_count": 65,
   "metadata": {},
   "outputs": [],
   "source": [
    "for key in Naltrexone_keys:\n",
    "    n_MOUD_with_key = count_key(df, key)\n",
    "    print(key, \":\", abbr_keys[key], '\\t\\t', n_MOUD_with_key)\n",
    "    if (abbr_keys[key] + '(' + key + ')') not in labels:\n",
    "        labels.append(abbr_keys[key] + '(' + key + ')')\n",
    "        MOUD_numbers.append(n_MOUD_with_key)"
   ]
  },
  {
   "cell_type": "code",
   "execution_count": 66,
   "metadata": {},
   "outputs": [
    {
     "data": {
      "text/plain": [
       "['Methadone maintenance (facility may also use buprenorphine in maintenance)(MM)',\n",
       " 'Methadone detoxification (facility may also use buprenorphine in detoxification)(DM)']"
      ]
     },
     "execution_count": 66,
     "metadata": {},
     "output_type": "execute_result"
    }
   ],
   "source": [
    "labels"
   ]
  },
  {
   "cell_type": "code",
   "execution_count": 67,
   "metadata": {},
   "outputs": [
    {
     "data": {
      "text/plain": [
       "[925, 664]"
      ]
     },
     "execution_count": 67,
     "metadata": {},
     "output_type": "execute_result"
    }
   ],
   "source": [
    "MOUD_numbers"
   ]
  },
  {
   "cell_type": "code",
   "execution_count": 68,
   "metadata": {},
   "outputs": [
    {
     "data": {
      "image/png": "[encoded data removed]",
      "text/plain": [
       "<Figure size 432x288 with 1 Axes>"
      ]
     },
     "metadata": {
      "needs_background": "light"
     },
     "output_type": "display_data"
    }
   ],
   "source": [
    "#barchart: https://matplotlib.org/3.3.0/gallery/lines_bars_and_markers/barchart.html#sphx-glr-gallery-lines-bars-and-markers-barchart-py\n",
    "\n",
    "import matplotlib.pyplot as plt\n",
    "import numpy as np\n",
    "\n",
    "x = np.arange(len(labels))  # the label locations\n",
    "width = 0.35  # the width of the bars\n",
    "\n",
    "fig, ax = plt.subplots()\n",
    "rects1 = ax.bar(x - width/2, MOUD_numbers, width, label=str(YEAR))\n",
    "\n",
    "# Add some text for labels, title and custom x-axis tick labels, etc.\n",
    "ax.set_ylabel('Number of MOUD')\n",
    "ax.set_title('MOUD with relevant services')\n",
    "ax.set_xticks(x)\n",
    "ax.set_xticklabels(labels)\n",
    "ax.legend()\n",
    "\n",
    "\n",
    "def autolabel(rects):\n",
    "    \"\"\"Attach a text label above each bar in *rects*, displaying its height.\"\"\"\n",
    "    for rect in rects:\n",
    "        height = rect.get_height()\n",
    "        ax.annotate('{}'.format(height),\n",
    "                    xy=(rect.get_x() + rect.get_width() / 2, height),\n",
    "                    xytext=(0, 3),  # 3 points vertical offset\n",
    "                    textcoords=\"offset points\",\n",
    "                    ha='center', va='bottom')\n",
    "\n",
    "\n",
    "autolabel(rects1)\n",
    "\n",
    "plt.ylim(0, len(df))\n",
    "plt.xticks(rotation=90)\n",
    "plt.savefig('{}_stats.png'.format(YEAR), bbox_inches = 'tight')"
   ]
  },
  {
   "cell_type": "code",
   "execution_count": null,
   "metadata": {},
   "outputs": [],
   "source": []
  }
 ],
 "metadata": {
  "kernelspec": {
   "display_name": "Python 3",
   "language": "python",
   "name": "python3"
  },
  "language_info": {
   "codemirror_mode": {
    "name": "ipython",
    "version": 3
   },
   "file_extension": ".py",
   "mimetype": "text/x-python",
   "name": "python",
   "nbconvert_exporter": "python",
   "pygments_lexer": "ipython3",
   "version": "3.7.6"
  }
 },
 "nbformat": 4,
 "nbformat_minor": 4
}
