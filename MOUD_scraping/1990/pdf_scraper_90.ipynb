{
 "cells": [
  {
   "cell_type": "markdown",
   "metadata": {},
   "source": [
    "#### Imports"
   ]
  },
  {
   "cell_type": "code",
   "execution_count": 240,
   "metadata": {},
   "outputs": [],
   "source": [
    "import PyPDF2\n",
    "import csv\n",
    "import re\n",
    "import json\n",
    "import os\n",
    "import us\n",
    "import numpy as np\n",
    "import copy"
   ]
  },
  {
   "cell_type": "code",
   "execution_count": 2,
   "metadata": {},
   "outputs": [],
   "source": [
    "YEAR = 1990"
   ]
  },
  {
   "cell_type": "markdown",
   "metadata": {},
   "source": [
    "# OCR with Adobe Acrobat and extraction with fitz"
   ]
  },
  {
   "cell_type": "code",
   "execution_count": 3,
   "metadata": {},
   "outputs": [],
   "source": [
    "from __future__ import print_function\n",
    "from itertools import groupby\n",
    "import fitz\n",
    "import matplotlib.pyplot as plt"
   ]
  },
  {
   "cell_type": "markdown",
   "metadata": {},
   "source": [
    "### Extract text"
   ]
  },
  {
   "cell_type": "code",
   "execution_count": 201,
   "metadata": {},
   "outputs": [
    {
     "name": "stdout",
     "output_type": "stream",
     "text": [
      "Number of pages: 471\n"
     ]
    }
   ],
   "source": [
    "#open PDF which has gone through Adobe Acrobat OCR\n",
    "doc = fitz.open(\"directory_{}_OCR.pdf\".format(YEAR))\n",
    "print('Number of pages:', len(doc))"
   ]
  },
  {
   "cell_type": "code",
   "execution_count": 257,
   "metadata": {},
   "outputs": [],
   "source": [
    "def text_to_rows(text, thr):\n",
    "    '''\n",
    "    Splits a list of into rows.\n",
    "    Inputs:\n",
    "        text: a list of tuple containing individual words and their positions\n",
    "        thr: the distance between lines\n",
    "    Outputs:\n",
    "        List of list that represent rows, arranged by x0 position.\n",
    "    '''\n",
    "    if not text:\n",
    "        return []\n",
    "    \n",
    "    text_remain = text\n",
    "    text_by_row = []\n",
    "    temp = []\n",
    "    while len(text_remain) > 0:\n",
    "        temp_text_remain = []\n",
    "        y0 = text_remain[0][1]\n",
    "        i = 0\n",
    "        while i < len(text_remain):\n",
    "            if (text_remain[i][1] < y0 + thr) and (text_remain[i][1] > y0 - thr):\n",
    "                temp.append(text_remain[i])\n",
    "            else:\n",
    "                temp_text_remain.append(text_remain[i])\n",
    "            i += 1\n",
    "        text_remain = temp_text_remain\n",
    "        temp.sort(key = lambda x: x[2]) #x[0]\n",
    "        text_by_row.append(temp)\n",
    "        temp = []\n",
    "    text_by_row.sort(key = lambda x: x[0][1])\n",
    "    return text_by_row"
   ]
  },
  {
   "cell_type": "markdown",
   "metadata": {},
   "source": [
    "- Extract keys"
   ]
  },
  {
   "cell_type": "code",
   "execution_count": 272,
   "metadata": {
    "jupyter": {
     "source_hidden": true
    }
   },
   "outputs": [],
   "source": [
    "abbr_keys = {'TX': 'Treatment Unit',\n",
    " 'CI': 'Central Intake Unit',\n",
    " 'PV': 'Prevention Unit',\n",
    " 'OT': 'Other Unit',\n",
    " 'AL': 'Alcoholism Services only',\n",
    " 'DA': 'Drug Abuse Services only',\n",
    " 'AD': 'Alcoholism and Drug Abuse Services',\n",
    " 'RR': 'Residential (24-hour care)',\n",
    " 'DT': 'Detoxification (24-hour care)',\n",
    " 'AM': 'Ambulatory (less than 24-hour care)',\n",
    " 'B': 'Blacks',\n",
    " 'W': 'Woman',\n",
    " 'H': 'Hispanics',\n",
    " 'PG': 'Pregnant Users',\n",
    " 'AI': 'American Indian/Alaskan Natives',\n",
    " 'CU': 'Cocaine Users',\n",
    " 'A': 'AIDS Patients',\n",
    " 'IV': 'IV Drug Users',\n",
    " 'HV': 'HIV Positives',\n",
    " 'EA': 'EAP Program Services',\n",
    " 'PI': 'Public Inebriates',\n",
    " 'DW': 'DWI/ASAP Services',\n",
    " 'Y': 'Youth TX Treatment Unit CI Central Intake Unit PV Prevention Unit',\n",
    " 'MM': 'Methadone Unit OT Other Unit'}"
   ]
  },
  {
   "cell_type": "markdown",
   "metadata": {},
   "source": [
    "- Explore text"
   ]
  },
  {
   "cell_type": "code",
   "execution_count": 261,
   "metadata": {},
   "outputs": [],
   "source": [
    "firstpagen = 16"
   ]
  },
  {
   "cell_type": "code",
   "execution_count": 278,
   "metadata": {},
   "outputs": [
    {
     "data": {
      "text/plain": [
       "<matplotlib.lines.Line2D at 0x7fc82f4aee50>"
      ]
     },
     "execution_count": 278,
     "metadata": {},
     "output_type": "execute_result"
    },
    {
     "data": {
      "image/png": "[encoded data removed]",
      "text/plain": [
       "<Figure size 432x288 with 1 Axes>"
      ]
     },
     "metadata": {
      "needs_background": "light"
     },
     "output_type": "display_data"
    }
   ],
   "source": [
    "# - explore the page set up - \n",
    "# this is page with box of keys\n",
    "words = doc[16 - 1].getText(\"words\")\n",
    "# check the y distribution to remove top and bottom crap...\n",
    "y0s = [word[1] for word in words]\n",
    "a = plt.hist(y0s, bins = 100)\n",
    "plt.axvline(70, color='black') #state name\n",
    "plt.axvline(580, color='black') #for the box of keys\n",
    "#pages with the box of keys"
   ]
  },
  {
   "cell_type": "code",
   "execution_count": 281,
   "metadata": {},
   "outputs": [
    {
     "data": {
      "text/plain": [
       "<matplotlib.lines.Line2D at 0x7fc8106d0190>"
      ]
     },
     "execution_count": 281,
     "metadata": {},
     "output_type": "execute_result"
    },
    {
     "data": {
      "image/png": "[encoded data removed]",
      "text/plain": [
       "<Figure size 432x288 with 1 Axes>"
      ]
     },
     "metadata": {
      "needs_background": "light"
     },
     "output_type": "display_data"
    }
   ],
   "source": [
    "# - explore the page set up - \n",
    "# page without box of keys\n",
    "words = doc[21 - 1].getText(\"words\")\n",
    "# check the y distribution to remove top and bottom crap...\n",
    "y0s = [word[1] for word in words]\n",
    "a = plt.hist(y0s, bins = 100)\n",
    "plt.axvline(70, color='black') #state name\n",
    "plt.axvline(700, color='black') #for page number"
   ]
  },
  {
   "cell_type": "markdown",
   "metadata": {},
   "source": [
    "- Read text from PDF"
   ]
  },
  {
   "cell_type": "code",
   "execution_count": 282,
   "metadata": {},
   "outputs": [],
   "source": [
    "def clean_text(words):\n",
    "    if [word for word in words if word[1] < 70]:\n",
    "        #find the position of the state name\n",
    "        state_pos = [word[0] for word in words if word[1] < 70][0]\n",
    "        \n",
    "        #if state name is in the middle means there is a box of keys at the end of page\n",
    "        #cut the box with keys\n",
    "        if (state_pos > 150) and (state_pos < 350):\n",
    "            words = [word for word in words if word[1] < 580]\n",
    "            \n",
    "    #cut state name and page number\n",
    "    return [word for word in words if (word[1] > 70 and word[1] < 700)]"
   ]
  },
  {
   "cell_type": "code",
   "execution_count": 415,
   "metadata": {},
   "outputs": [],
   "source": [
    "def split_MOUD(col_text):\n",
    "    '''\n",
    "    '''\n",
    "    thr = 13\n",
    "    list_MOUD = []\n",
    "    if not col_text:\n",
    "        return []\n",
    "    if (col_text[1][0][1] - col_text[0][0][1]) > thr: #y0 of first line first word\n",
    "        temp = [[word[4] for word in col_text[1]]]\n",
    "        i = 2\n",
    "    else:\n",
    "        temp = [[word[4] for word in col_text[0]]] \n",
    "        i = 1\n",
    "    while i < len(col_text) - 1:\n",
    "        if any(char.isdigit() or char.isalpha() for char in ''.join([word[4] for word in col_text[i]])):\n",
    "            if (col_text[i][0][1] - col_text[i-1][0][1]) < thr:\n",
    "                temp.append([word[4] for word in col_text[i]])\n",
    "            elif (col_text[i][0][1] - col_text[i-1][0][1]) > thr and (col_text[i+1][0][1] - col_text[i][0][1]) < thr:\n",
    "                if (len(temp) > 2):\n",
    "                    list_MOUD.append(temp)\n",
    "                    temp = [[word[4] for word in col_text[i]]]\n",
    "                else:\n",
    "                    temp.append([word[4] for word in col_text[i]])\n",
    "        i += 1\n",
    "    temp.append([word[4] for word in col_text[-1]])\n",
    "    list_MOUD.append(temp)\n",
    "    return list_MOUD"
   ]
  },
  {
   "cell_type": "code",
   "execution_count": 284,
   "metadata": {},
   "outputs": [],
   "source": [
    "# col_text = get_words_in_box(doc[firstpagen-1], 199, 388)[0]\n",
    "# split_MOUD(col_text)"
   ]
  },
  {
   "cell_type": "code",
   "execution_count": 285,
   "metadata": {},
   "outputs": [],
   "source": [
    "def get_words_in_box(page, col1lim, col2lim):\n",
    "    '''\n",
    "    Extract words from each column of the PDF.\n",
    "    '''\n",
    "    thres = 4.5 \n",
    "    page_txt = []\n",
    "    words = page.getText(\"words\") \n",
    "    words = clean_text(words)\n",
    "    #get three columns\n",
    "    col1_txt = text_to_rows([word for word in words if word[0] < col1lim], thres)\n",
    "    page_txt.append(split_MOUD(col1_txt)) \n",
    "    col2_txt = text_to_rows([word for word in words if ((word[0] > col1lim) and (word[0] < col2lim))], thres)\n",
    "    page_txt.append(split_MOUD(col2_txt))\n",
    "    col3_txt = text_to_rows([word for word in words if word[0] > col2lim], thres)\n",
    "    page_txt.append(split_MOUD(col3_txt)) \n",
    "    return page_txt"
   ]
  },
  {
   "cell_type": "code",
   "execution_count": 270,
   "metadata": {},
   "outputs": [
    {
     "data": {
      "text/plain": [
       "<matplotlib.lines.Line2D at 0x7fc823e489d0>"
      ]
     },
     "execution_count": 270,
     "metadata": {},
     "output_type": "execute_result"
    },
    {
     "data": {
      "image/png": "[encoded data removed]",
      "text/plain": [
       "<Figure size 432x288 with 1 Axes>"
      ]
     },
     "metadata": {
      "needs_background": "light"
     },
     "output_type": "display_data"
    }
   ],
   "source": [
    "#to find column seperation\n",
    "for pagen in range(100, 200, 2):\n",
    "    words = doc[pagen - 1].getText(\"words\")\n",
    "    words = clean_text(words)\n",
    "    x0s = [word[0] for word in words]\n",
    "    a = plt.hist(x0s, bins = 200)\n",
    "    \n",
    "plt.axvline(185, color='black')\n",
    "plt.axvline(375, color='black')"
   ]
  },
  {
   "cell_type": "code",
   "execution_count": 271,
   "metadata": {},
   "outputs": [
    {
     "data": {
      "text/plain": [
       "<matplotlib.lines.Line2D at 0x7fc82ea4edd0>"
      ]
     },
     "execution_count": 271,
     "metadata": {},
     "output_type": "execute_result"
    },
    {
     "data": {
      "image/png": "[encoded data removed]",
      "text/plain": [
       "<Figure size 432x288 with 1 Axes>"
      ]
     },
     "metadata": {
      "needs_background": "light"
     },
     "output_type": "display_data"
    }
   ],
   "source": [
    "#to find column seperation\n",
    "for pagen in range(101, 200, 2):\n",
    "    words = doc[pagen - 1].getText(\"words\")\n",
    "    words = clean_text(words)\n",
    "    x0s = [word[0] for word in words]\n",
    "    a = plt.hist(x0s, bins = 200)\n",
    "    \n",
    "plt.axvline(199, color='black')\n",
    "plt.axvline(388, color='black')"
   ]
  },
  {
   "cell_type": "code",
   "execution_count": 286,
   "metadata": {},
   "outputs": [],
   "source": [
    "#testing\n",
    "#get_words_in_box(doc[firstpagen-1], 199, 388)\n",
    "#page with some blanck\n",
    "#get_words_in_box(doc[24 - 1], 35, 740, 217, 388)"
   ]
  },
  {
   "cell_type": "code",
   "execution_count": 416,
   "metadata": {},
   "outputs": [],
   "source": [
    "#run\n",
    "data = []\n",
    "for pagen in range(firstpagen, len(doc) + 1):\n",
    "    if pagen%2 == 1:\n",
    "        data.append(get_words_in_box(doc[pagen-1], 199, 388))\n",
    "    else:\n",
    "        data.append(get_words_in_box(doc[pagen-1], 185, 375))"
   ]
  },
  {
   "cell_type": "code",
   "execution_count": 417,
   "metadata": {
    "jupyter": {
     "outputs_hidden": true
    }
   },
   "outputs": [],
   "source": [
    "#data[0][0]"
   ]
  },
  {
   "cell_type": "code",
   "execution_count": 198,
   "metadata": {
    "jupyter": {
     "outputs_hidden": true
    },
    "scrolled": true
   },
   "outputs": [],
   "source": [
    "#data[200][2] "
   ]
  },
  {
   "cell_type": "markdown",
   "metadata": {},
   "source": [
    "# Write data into csv"
   ]
  },
  {
   "cell_type": "markdown",
   "metadata": {},
   "source": [
    "### Checking + cleaning each part of data"
   ]
  },
  {
   "cell_type": "markdown",
   "metadata": {},
   "source": [
    "- keys"
   ]
  },
  {
   "cell_type": "code",
   "execution_count": 456,
   "metadata": {
    "jupyter": {
     "source_hidden": true
    }
   },
   "outputs": [],
   "source": [
    "def clean_keys(line):\n",
    "    line = [key.replace('*', '').replace('�', '').replace('8', 'B').replace('1', 'I').replace('l', 'I')\\\n",
    "            .replace('II', 'M').replace('Hy', 'W').replace('tI', 'M')\\\n",
    "            .replace('AH', 'AM').replace('HH', 'MM').replace('DH', 'DW').replace('or', 'DT') for key in line]\n",
    "    line = [key for key in line if key != '']\n",
    "    line = [key for key in line if key != 'I']\n",
    "    if 'HY' in line:\n",
    "        line.remove('HY')\n",
    "        line += ['W', 'Y']\n",
    "    if 'YA' in line:\n",
    "        line.remove('YA')\n",
    "        line += ['Y', 'A']\n",
    "    if 'HA' in line:\n",
    "        line.remove('HA')\n",
    "        line += ['W', 'A']\n",
    "    if 'WA' in line:\n",
    "        line.remove('WA')\n",
    "        line += ['W', 'A']\n",
    "    if 'HAI' in line:\n",
    "        line.remove('HAI')\n",
    "        line += ['H', 'AI']\n",
    "    for key in line:\n",
    "        if len(key) == 4:\n",
    "            line.remove(key)\n",
    "            line += [key[:2], key[2:]]\n",
    "    return line"
   ]
  },
  {
   "cell_type": "code",
   "execution_count": 418,
   "metadata": {
    "jupyter": {
     "source_hidden": true
    }
   },
   "outputs": [],
   "source": [
    "def check_keys_warning(line):\n",
    "    print(\"Please check:\", line)\n",
    "    for key in line:\n",
    "        if key not in abbr_keys:\n",
    "            print(key, 'not in abbr_keys')\n",
    "\n",
    "def is_keys(line):\n",
    "    '''\n",
    "    Check if the line (list of list) is a list of keys\n",
    "    '''\n",
    "#     if sum([len(key) for key in line])/len(line) > 3: #average length of word\n",
    "#         return False\n",
    "#     if '**' in line:\n",
    "#         return True\n",
    "    line = clean_keys(line)\n",
    "    if not any(x not in abbr_keys for x in line):\n",
    "        return True\n",
    "    if line[0] in abbr_keys:\n",
    "        if (len(line) > 2 and line[1] in abbr_keys) or (len(line) > 3 and line[2] in abbr_keys):\n",
    "            check_keys_warning(line)\n",
    "    elif len(line) > 2 and line[1] in abbr_keys:\n",
    "        check_keys_warning(line)\n",
    "    return False"
   ]
  },
  {
   "cell_type": "code",
   "execution_count": 435,
   "metadata": {
    "jupyter": {
     "source_hidden": true
    }
   },
   "outputs": [
    {
     "name": "stdout",
     "output_type": "stream",
     "text": [
      "True\n"
     ]
    }
   ],
   "source": [
    "sample_keys = [['ADAM', 'H', 'HV', 'CU', 'TX']]\n",
    "for keys in sample_keys:\n",
    "    print(is_keys(keys))"
   ]
  },
  {
   "cell_type": "markdown",
   "metadata": {},
   "source": [
    "- city, state, zip"
   ]
  },
  {
   "cell_type": "code",
   "execution_count": 317,
   "metadata": {
    "jupyter": {
     "source_hidden": true
    }
   },
   "outputs": [],
   "source": [
    "def is_citystatezip(line):\n",
    "    if len(line[-1]) == 5 and line[-1].replace('I', '1').isnumeric() and len(line[-2]) == 2 and line[-2].isupper():\n",
    "        return True\n",
    "    return False\n",
    "def clean_citystatezip(line):\n",
    "    return [' '.join(line[:-2])[:-1], line[-2], line[-1].replace('I', '1')]"
   ]
  },
  {
   "cell_type": "code",
   "execution_count": 411,
   "metadata": {
    "jupyter": {
     "source_hidden": true
    }
   },
   "outputs": [],
   "source": [
    "# samples = [['HALlHAM,', 'MA', '02254'],\n",
    "#            ['HELLESLEY', 'HILLS,', 'MA', '02181']]\n",
    "\n",
    "# for sample in samples:\n",
    "#     print(is_citystatezip(sample))\n",
    "#     print(clean_citystatezip(sample))"
   ]
  },
  {
   "cell_type": "markdown",
   "metadata": {},
   "source": [
    "- Contact"
   ]
  },
  {
   "cell_type": "code",
   "execution_count": 367,
   "metadata": {},
   "outputs": [],
   "source": [
    "def is_contact(line):\n",
    "    if re.match(r'(.*)[0-9]{3}-[0-9]{4}', ''.join(line)):\n",
    "        return True\n",
    "    cont = ''.join(line)\n",
    "    if cont[1:4].isnumeric() and '-' in cont:\n",
    "        return True\n",
    "    return False\n",
    "\n",
    "def clean_contact(line):\n",
    "    cont = ''.join(line)\n",
    "    cont = '(' + cont[1:4] + ')' + cont[5:]\n",
    "    return cont.replace('EXT', ' EXT')"
   ]
  },
  {
   "cell_type": "code",
   "execution_count": 403,
   "metadata": {},
   "outputs": [],
   "source": [
    "# sample_conts = [['1617', 'I', '647-6996'],\n",
    "#  ['1617)', '926-5800'],\n",
    "#  ['I', '6171', '926-3600'],\n",
    "#  ['I', '617', 'I', '235-4950'],\n",
    "#  ['1508)', '540-5052'],\n",
    "# ['I', '907', 'J', \"26'+-0735\"]]\n",
    "\n",
    "# for cont in sample_conts:\n",
    "#     print(is_contact(cont))\n",
    "#     print(clean_contact(cont))"
   ]
  },
  {
   "cell_type": "markdown",
   "metadata": {},
   "source": [
    "- Address"
   ]
  },
  {
   "cell_type": "code",
   "execution_count": 334,
   "metadata": {
    "jupyter": {
     "source_hidden": true
    }
   },
   "outputs": [],
   "source": [
    "address_indicators = ['ROAD', 'HIGHWAY', 'ROUTE', 'BUILDING', 'STREET', 'AVENUE', 'SUITE', 'SUITES', 'DRIVE', \\\n",
    "                      'BOULEVARD', 'ANNEX', 'STREETS', 'FLOOR', 'REAR', 'ROOM', 'BASEMENT', 'PARKWAY'] ##\n",
    "name_indicators = ['CLINIC', 'MEDICAL', 'INC', 'HEALTH', 'SERVICES', 'TREATMENT']\n",
    "\n",
    "def is_address(line):\n",
    "    if (not line[0].replace('-', '').isnumeric()) and any(x in line for x in name_indicators):\n",
    "        return False\n",
    "    if line[0].replace('-', '').isnumeric() or any(x in line for x in address_indicators):\n",
    "        return True\n",
    "    return False"
   ]
  },
  {
   "cell_type": "code",
   "execution_count": 404,
   "metadata": {
    "jupyter": {
     "source_hidden": true
    }
   },
   "outputs": [],
   "source": [
    "# sample_add = [['26', 'QUEEN', 'STREET'],\n",
    "#               ['ROUTE', '25A'],\n",
    "#               ['1330', 'MOTOR', 'PARKWAY']]\n",
    "\n",
    "# for add in sample_add:\n",
    "#     print(is_address(add))"
   ]
  },
  {
   "cell_type": "markdown",
   "metadata": {},
   "source": [
    "- Write data"
   ]
  },
  {
   "cell_type": "code",
   "execution_count": 419,
   "metadata": {
    "jupyter": {
     "source_hidden": true
    }
   },
   "outputs": [],
   "source": [
    "def clean_col_data(col_text_splitted):\n",
    "    '''\n",
    "    Splits data into list of lists with\n",
    "    name1, name2, address1, address2, city, state, zip, phone, keys\n",
    "    '''\n",
    "    data_holders = []\n",
    "    for facil in col_text_splitted:\n",
    "        if len(facil) < 2:\n",
    "            print(facil)\n",
    "        #clean up the **\n",
    "        i = 0\n",
    "        while i < len(facil):\n",
    "            facil[i] = [word.replace('*', '') for word in facil[i]]\n",
    "            facil[i] = [word for word in facil[i] if word.strip() != '']\n",
    "            i += 1\n",
    "        if len(facil) > 2:\n",
    "            data_holder = []\n",
    "            i = 0 #indicator of next line\n",
    "            #name1\n",
    "            data_holder.append(' '.join(facil[0])) \n",
    "            i += 1\n",
    "            #name2\n",
    "            if not is_address(facil[i]) and not is_citystatezip(facil[i]) and not is_contact(facil[i]): \n",
    "                data_holder.append(' '.join(facil[i])) \n",
    "                i += 1\n",
    "            else:\n",
    "                data_holder.append('') \n",
    "            #name3\n",
    "            if not is_address(facil[i]) and not is_citystatezip(facil[i]) and not is_contact(facil[i]): \n",
    "                data_holder.append(' '.join(facil[i])) \n",
    "                i += 1\n",
    "            else:\n",
    "                data_holder.append('')         \n",
    "            #address1\n",
    "            if is_address(facil[i]) and not is_citystatezip(facil[i]):\n",
    "                data_holder.append(' '.join(facil[i])) \n",
    "                i += 1\n",
    "            else:\n",
    "                data_holder.append('')\n",
    "            #address2\n",
    "            if not is_citystatezip(facil[i]) and not is_contact(facil[i]) and not is_keys(facil[i]):##\n",
    "                data_holder.append(' '.join(facil[i])) \n",
    "                i += 1\n",
    "            else:\n",
    "                data_holder.append('')\n",
    "            #address3\n",
    "            if is_address(facil[i]) and not is_citystatezip(facil[i]):\n",
    "                data_holder.append(' '.join(facil[i])) \n",
    "                i += 1\n",
    "            else:\n",
    "                data_holder.append('')\n",
    "            \n",
    "            #city, state, zip\n",
    "            data_holder += clean_citystatezip(facil[i])\n",
    "            i += 1\n",
    "            #contact\n",
    "            if not is_contact(facil[i]):\n",
    "                print('Contact not found, please check')\n",
    "            else:\n",
    "                data_holder.append(clean_contact(facil[i]))\n",
    "                i += 1\n",
    "            #keys\n",
    "            data_holder.append('')\n",
    "            for keys in facil[i:]:\n",
    "                if not sum([len(key) for key in keys])/len(keys) > 3:\n",
    "                    if not is_keys(keys):\n",
    "                        print('Check keys:', keys)\n",
    "                    data_holder[-1] += '/'.join(clean_keys(keys)) + '/'\n",
    "            data_holders.append(data_holder)\n",
    "            print(\".\", end = '') #for each MOUD\n",
    "            \n",
    "    return data_holders"
   ]
  },
  {
   "cell_type": "code",
   "execution_count": 454,
   "metadata": {},
   "outputs": [],
   "source": [
    "filename = \"{}.csv\".format(YEAR)\n",
    "with open(filename, 'w', newline = '') as file:\n",
    "    writer = csv.writer(file)\n",
    "    writer.writerow([\"Name1\", \"Name2\", 'Name3', \"Address1\", \"Address2\", \"Address3\", \"City\", \"State\", \"ZIP_Code\", \"Contact\", \"Keys\"])"
   ]
  },
  {
   "cell_type": "code",
   "execution_count": 455,
   "metadata": {},
   "outputs": [
    {
     "name": "stdout",
     "output_type": "stream",
     "text": [
      "Page: 16.......fin........fin.......fin\n",
      "Page: 17.......fin.........fin.........fin\n",
      "Page: 18..........fin.......fin.....fin\n",
      "Page: 19......Check keys: ['II', 'l<EV', 'II']\n",
      ".fin........fin......Please check: ['AD', 'RR', 'AM', 'H', 'B', 'HAI', 'PG', 'TX', 'CI', 'PV']\n",
      "HAI not in abbr_keys\n",
      "Check keys: ['AD', 'RR', 'AM', 'H', 'B', 'HAI', 'PG', 'TX', 'CI', 'PV']\n",
      ".fin\n",
      "Page: 20........fin.......Please check: ['AD', 'RR', 'HAI', 'PI', 'TX']\n",
      "HAI not in abbr_keys\n",
      "Check keys: ['AD', 'RR', 'HAI', 'PI', 'TX']\n",
      ".Check keys: ['ADAM', 'HY', 'AB', 'HAI', 'HV', 'CU', 'PG', 'EA']\n",
      ".fin...Please check: ['B', 'HAI', 'TX', 'PV', 'W', 'Y', 'AD', 'AM']\n",
      "HAI not in abbr_keys\n",
      "Check keys: ['ADAM', 'HY', 'B', 'HAI', 'TX', 'PV']\n",
      ".Please check: ['AD', 'RR', 'AM', 'B', 'HAI', 'HV', 'PI', 'CU', 'PG', 'W', 'Y']\n",
      "HAI not in abbr_keys\n",
      "Check keys: ['AD', 'RR', 'AM', 'HY', 'B', 'HAI', 'HV', 'PI', 'CU', 'PG']\n",
      "....fin\n",
      "Page: 21Please check: ['AD', 'AM', 'H', 'Y', 'B', 'HAI', 'PI', 'IV', 'EA', 'TX', 'CI']\n",
      "HAI not in abbr_keys\n",
      "Check keys: ['AD', 'AM', 'H', 'Y', 'B', 'HAI', 'PI', 'IV', 'EA', 'TX', 'CI']\n",
      "........fin........finfin\n",
      "Page: 22.....fin......Please check: ['AD', 'OT', 'RR', 'AM', 'B', 'HAI', 'HV', 'CU', 'IV', 'W', 'A']\n",
      "HAI not in abbr_keys\n",
      "Check keys: ['AD', 'OT', 'RR', 'AM', 'HA', 'B', 'HAI', 'HV', 'CU', 'IV']\n",
      "..fin.......fin\n",
      "Page: 23.........fin........fin........fin\n",
      "Page: 24..Please check: ['AD', 'AM', 'H', 'A', 'H', 'IiV', 'CU', 'IV', 'PG', 'MM']\n",
      "IiV not in abbr_keys\n",
      "Check keys: ['AD', 'AM', 'H', 'A', 'H', 'liV', 'CU', 'IV', 'PG', 'MM']\n",
      "........fin........fin.........fin\n",
      "Page: 25..........fin.........fin...Please check: ['DA', 'RR', 'B', 'HAI', 'HV', 'CU', 'IV', 'PG', 'TX', 'W', 'A']\n",
      "HAI not in abbr_keys\n",
      "Check keys: ['DA', 'RR', 'HA', 'B', 'HAI', 'HV', 'CU', 'IV', 'PG', 'TX']\n",
      "......fin\n",
      "Page: 26........Please check: ['AO', 'RR', 'H', 'HV', 'PG', 'TX', 'PV']\n",
      "AO not in abbr_keys\n",
      "Check keys: ['AO', 'RR', 'H', 'HV', 'PG', 'TX', 'PV']\n",
      ".Please check: ['AO', 'RR', 'Y', 'TX']\n",
      "AO not in abbr_keys\n",
      "Check keys: ['AO', 'RR', 'Y', 'TX']\n",
      ".fin..Please check: ['AD', 'RR', 'AM', 'HV', 'CU', 'IV', 'EA', 'OH', 'TX', 'CI']\n",
      "OH not in abbr_keys\n",
      "Check keys: ['AD', 'RR', 'AM', 'HV', 'CU', 'IV', 'EA', 'OH', 'TX', 'CI']\n",
      ".....Please check: ['AO', 'RR', 'IV', 'EA', 'DW', 'TX']\n",
      "AO not in abbr_keys\n",
      "Check keys: ['AO', 'RR', 'IV', 'EA', 'DH', 'TX']\n",
      ".Please check: ['IV', 'EA', 'OH', 'TX', 'CI', 'PV', 'AD', 'AM']\n",
      "OH not in abbr_keys\n",
      "Check keys: ['ADAM', 'IV', 'EA', 'OH', 'TX', 'CI', 'PV']\n",
      ".finPlease check: ['AO', 'AM', 'AI', 'IV', 'EA', 'TX', 'PV']\n",
      "AO not in abbr_keys\n",
      "Check keys: ['AO', 'AM', 'AI', 'IV', 'EA', 'TX', 'PV']\n",
      "...Please check: ['AD', 'AM', 'IV', 'EA', 'OH', 'TX', 'CI', 'PV']\n",
      "OH not in abbr_keys\n",
      "Check keys: ['AD', 'AH', 'IV', 'EA', 'OH', 'TX', 'CI', 'PV']\n",
      ".....fin\n",
      "Page: 27........fin.........fin....Please check: ['·', 'AD', 'PV']\n",
      "· not in abbr_keys\n",
      "Check keys: ['·', 'AD', 'PV']\n",
      ".Please check: ['DA', 'AM', 'H', 'IV', 'TX', 'MH']\n",
      "MH not in abbr_keys\n",
      "Check keys: ['DA', 'AM', 'H', 'IV', 'TX', 'MH']\n",
      ".Please check: ['AD', 'DT', 'RR', 'H', 'Y', 'B', 'HAI', 'CU', 'IV', 'TX', 'PV']\n",
      "HAI not in abbr_keys\n",
      "Check keys: ['AD', 'DT', 'RR', 'H', 'Y', 'B', 'HAI', 'CU', 'IV', 'TX', 'PV']\n",
      "...fin\n",
      "Page: 28Please check: ['AD', 'DT', 'RR', 'H', 'HAI', 'PI', 'CU', 'IV', 'TX']\n",
      "HAI not in abbr_keys\n",
      "Check keys: ['AD', 'DT', 'RR', 'H', 'HAI', 'PI', 'CU', 'IV', 'TX']\n",
      ".....Please check: ['DA', 'AM', 'IV', 'TX', 'CI', 'PV', 'MH']\n",
      "MH not in abbr_keys\n",
      "Check keys: ['DA', 'AM', 'IV', 'TX', 'CI', 'PV', 'MH']\n",
      "....fin.........fin........fin\n",
      "Page: 29...Contact not found, please check\n",
      "Please check: ['AD', 'DT', 'RR', \"AM'\", 'H', 'A', 'B', 'PI', 'CU', 'IV', 'PG']\n",
      "AM' not in abbr_keys\n",
      "Check keys: ['AD', 'DT', 'RR', \"AM'\", 'H', 'A', 'B', 'Pl', 'CU', 'IV', 'PG']\n",
      "...fin..Please check: ['AD', 'DT', 'RR', 'AM', 'W', 'Y', 'AB', 'AI', 'HV', 'CU', 'IV']\n",
      "AB not in abbr_keys\n",
      "Check keys: ['AD', 'DT', 'RR', 'AM', 'W', 'Y', 'AB', 'AI', 'HV', 'CU', 'IV']\n",
      "....fin...Please check: ['AD', 'OT', 'RR', \"AM'\", 'IV', 'EA', 'TX', 'CI', 'PV']\n",
      "AM' not in abbr_keys\n",
      "Check keys: ['AD', 'OT', 'RR', \"AM'\", 'IV', 'EA', 'TX', 'CI', 'PV']\n",
      "..Contact not found, please check\n",
      "..fin\n",
      "Page: 30........fin.....Please check: ['AO', 'RR', 'AM', 'W', 'A', 'B', 'EA', 'TX', 'CI', 'PV']\n",
      "AO not in abbr_keys\n",
      "Check keys: ['AO', 'RR', 'AM', 'W', 'A', 'B', 'EA', 'TX', 'CI', 'PV']\n",
      "...fin...Please check: ['AO', 'RR', 'TX']\n",
      "AO not in abbr_keys\n",
      "Check keys: ['AO', 'RR', 'TX']\n",
      ".fin\n",
      "Page: 31.......fin........fin.......fin\n",
      "Page: 32.........fin........fin.........fin\n",
      "Page: 33..........fin.....Please check: ['DA', 'AM', 'IV', 'HM']\n",
      "HM not in abbr_keys\n",
      "Check keys: ['DA', 'AH', 'IV', 'HM']\n",
      "....fin.........fin\n",
      "Page: 34..Please check: ['AD', 'AM', 'H', 'Y', 'B', 'M', 'TX', 'PV']\n",
      "M not in abbr_keys\n",
      "Check keys: ['AD', 'AM', 'H', 'Y', 'B', 'II', 'TX', 'PV']\n",
      "......fin........fin........fin\n",
      "Page: 35.........fin........fin.........fin\n",
      "Page: 36........fin........fin.Contact not found, please check\n",
      ".......fin\n",
      "Page: 37.........fin........finPlease check: ['AD', 'RR', 'AM', 'YB', 'CU', 'TX', 'PV']\n",
      "YB not in abbr_keys\n",
      "Check keys: ['�', 'AD', 'RR', 'AH', 'YB', 'CU', 'TX', 'PV']\n",
      "........fin\n",
      "Page: 38.........fin.........finPlease check: ['B', 'HAI', 'HV', 'PG', 'TX', 'CI', 'PV', 'W', 'A', 'DA', 'RR']\n",
      "HAI not in abbr_keys\n",
      "Check keys: ['DARR', 'HA', 'B', 'HAI', 'HV', 'PG', 'TX', 'CI', 'PV']\n",
      ".......Please check: ['DA', 'AM', 'VB', 'H', 'CU', 'EA', 'TX', 'PV']\n",
      "VB not in abbr_keys\n",
      "Check keys: ['DA', 'AM', 'VB', 'H', 'CU', 'EA', 'TX', 'PV']\n",
      ".fin\n",
      "Page: 39..Please check: ['AD', 'RR', 'H', 'CU', 'IV', 'TX', 'CI', 'OT', 't•']\n",
      "t• not in abbr_keys\n",
      "Check keys: ['AD', 'RR', 'H', 'CU', 'IV', 'TX', 'CI', 'OT', 't•']\n",
      "........fin.........fin........fin\n",
      "Page: 40........fin........fin..Please check: ['AD', 'AM', 'M', 'AI', 'DW', 'TX', 'PV']\n",
      "M not in abbr_keys\n",
      "Check keys: ['AD', 'AM', 'II', 'AI', 'DH', 'TX', 'PV']\n",
      ".......fin\n",
      "Page: 41....Check keys: ['PV', \"'If\"]\n",
      ".....finPlease check: ['AO', 'OT', 'RR', 'AM', 'Y', 'A', 'B', 'H', 'HV', 'IV', 'EA', 'TX']\n",
      "AO not in abbr_keys\n",
      "Check keys: ['AO', 'OT', 'RR', 'AM', 'Y', 'A', 'B', 'H', 'HV', 'IV', 'EA', 'TX']\n",
      ".Please check: ['H', 'B', 'HAI', 'CU', 'IV', 'PG', 'TX', 'CI', 'AD', 'AM']\n",
      "HAI not in abbr_keys\n",
      "Check keys: ['ADAM', 'H', 'B', 'HAI', 'CU', 'IV', 'PG', 'TX', 'CI']\n",
      "........finPlease check: ['AL', 'RR', 'AM', 'HAI', 'HV', 'PI', 'CU', 'IV', 'TX', 'CI']\n",
      "HAI not in abbr_keys\n",
      "Check keys: ['AL', 'RR', 'AM', 'HAI', 'HV', 'PI', 'CU', 'IV', 'TX', 'CI']\n",
      "........fin\n",
      "Page: 42........fin.........fin.........fin\n",
      "Page: 43..........fin..........fin..Please check: ['DA', 'AM', 'B', 'H', 'HV', 'CU', 'IV', 'PG', 'PV', 'MH']\n",
      "MH not in abbr_keys\n",
      "Check keys: ['DA', 'AM', 'B', 'H', 'HV', 'CU', 'IV', 'PG', 'PV', 'MH']\n",
      "......fin\n",
      "Page: 44........fin..Please check: ['AO', 'OT', 'RR', 'AM', 'IV', 'TX']\n",
      "AO not in abbr_keys\n",
      "Check keys: ['AO', 'OT', 'RR', 'AH', 'IV', 'TX']\n",
      ".......finPlease check: ['DA', 'AM', 'A', 'B', 'H', 'AI', 'HV', 'IV', 'PG', 'MH']\n",
      "MH not in abbr_keys\n",
      "Check keys: ['DA', 'AH', 'A', 'B', 'H', 'AI', 'HV', 'IV', 'PG', 'MH']\n",
      "........fin\n",
      "Page: 45.........fin........fin........fin\n",
      "Page: 46Please check: ['AL', 'AN', 'Y', 'PI', 'EA', 'TX', 'CI', 'PV']\n",
      "AN not in abbr_keys\n",
      "Check keys: ['AL', 'AN', 'Y', 'PI', 'EA', 'TX', 'CI', 'PV']\n",
      ".Please check: ['DA', 'AN', 'H', 'Y', 'H', 'HV', 'CU', 'IV', 'TX', 'PV', 'MN']\n",
      "AN not in abbr_keys\n",
      "MN not in abbr_keys\n",
      "Check keys: ['DA', 'AN', 'H', 'Y', 'H', 'HV', 'CU', 'IV', 'TX', 'PV', 'MN']\n",
      ".Check keys: ['PV', 'ut']\n",
      "...Please check: ['IV', 'TX', 'MM', 'OT', 'AD', 'AN']\n",
      "AN not in abbr_keys\n",
      "Check keys: ['ADAN', 'IV', 'TX', 'MM', 'OT']\n",
      "....fin.Please check: ['DA', 'AM', 'B', 'HAI', 'HV', 'PI', 'CU', 'IV', 'EA', 'W', 'A']\n",
      "HAI not in abbr_keys\n",
      "Check keys: ['DA', 'AM', 'HA', 'B', 'HAI', 'HV', 'PI', 'CU', 'IV', 'EA']\n",
      ".......fin.......Check keys: ['HM']\n",
      ".fin\n",
      "Page: 47........fin.........fin.........fin\n",
      "Page: 48....Please check: ['AD', 'AM', 'A', 'B', 'HAI', 'HV', 'CU', 'EA', 'TX', 'PV']\n",
      "HAI not in abbr_keys\n",
      "Check keys: ['AD', 'AM', 'A', 'B', 'HAI', 'HV', 'CU', 'EA', 'TX', 'PV']\n",
      ".....fin.........fin.........fin\n",
      "Page: 49.Please check: ['AL', 'RR', 'AB', 'H', 'AI', 'PI', 'TX', 'PV']\n",
      "AB not in abbr_keys\n",
      "Check keys: ['AL', 'RR', 'AB', 'H', 'AI', 'PI', 'TX', 'PV']\n",
      ".....Please check: ['AD', 'RR', 'H', 'Y', 'AB', 'H', 'HV', 'CU', 'IV', 'PG', 'TX']\n",
      "AB not in abbr_keys\n",
      "Check keys: ['l', 'AD', 'RR', 'H', 'Y', 'AB', 'H', 'HV', 'CU', 'IV', 'PG', 'TX']\n",
      ".Please check: ['DA', 'RR', 'AM', 'H', 'Y', 'AB', 'H', 'HV', 'PI', 'CU', 'IV']\n",
      "AB not in abbr_keys\n",
      "Check keys: ['DA', 'RR', 'AM', 'H', 'Y', 'AB', 'H', 'HV', 'PI', 'CU', 'IV']\n"
     ]
    },
    {
     "name": "stdout",
     "output_type": "stream",
     "text": [
      ".Please check: ['AD', 'DT', 'RR', 'AM', 'TX', 'HM']\n",
      "HM not in abbr_keys\n",
      "Check keys: ['AD', 'DT', 'RR', 'AM', 'TX', 'HM']\n",
      "..fin.Please check: ['DA', 'AM', 'A', 'HV', 'IV', 'MH']\n",
      "MH not in abbr_keys\n",
      "Check keys: ['DA', 'AM', 'A', 'HV', 'IV', 'MH']\n",
      "........fin.Please check: ['DA', 'AM', 'AB', 'HV', 'IV', 'CI', 'MM']\n",
      "AB not in abbr_keys\n",
      "Check keys: ['l', 'DA', 'AM', 'AB', 'HV', 'IV', 'CI', 'MM']\n",
      ".Please check: ['AD', 'AM', 'AB', 'H', 'CU', 'IV', 'EA', 'DW', 'TX', 'CI']\n",
      "AB not in abbr_keys\n",
      "Check keys: ['AD', 'AM', 'AB', 'H', 'CU', 'IV', 'EA', 'DH', 'TX', 'CI']\n",
      "..Please check: ['YB', 'H', 'CU', 'DW', 'TX', 'PV', 'AD', 'AM']\n",
      "YB not in abbr_keys\n",
      "Check keys: ['ADAH', 'YB', 'H', 'CU', 'DH', 'TX', 'PV']\n",
      ".Please check: ['DA', 'AM', 'H', 'A', 'B', 'H', 'AI', 'HV', 'IV', 'PG', 'PV', 'MH']\n",
      "MH not in abbr_keys\n",
      "Check keys: ['DA', 'AH', 'H', 'A', 'B', 'H', 'AI', 'HV', 'IV', 'PG', 'PV', 'MH']\n",
      "....fin\n",
      "Page: 50.........fin.........fin....Please check: ['DA', 'AM', 'Ii', 'Y', 'A', 'HV', 'CU', 'IV', 'PG', 'TX', 'CI']\n",
      "Ii not in abbr_keys\n",
      "Check keys: ['DA', 'AM', 'Ii', 'Y', 'A', 'HV', 'CU', 'IV', 'PG', 'TX', 'CI']\n",
      ".....fin\n",
      "Page: 51..........finPlease check: ['J', 'AD', 'RR', 'H', 'B', 'H', 'AI', 'CU', 'TX', 'PV']\n",
      "J not in abbr_keys\n",
      "Check keys: ['J', 'AD', 'RR', 'H', 'B', 'H', 'AI', 'CU', 'TX', 'PV']\n",
      "....Check keys: ['J']\n",
      ".....Please check: ['J', 'AD', 'PV']\n",
      "J not in abbr_keys\n",
      "Check keys: ['J', 'AD', 'PV']\n",
      ".fin.........fin\n",
      "Page: 52..........fin.........fin..........fin\n",
      "Page: 53......Check keys: ['HM']\n",
      "...fin.......Please check: ['DA', 'AM', 'H', 'A', 'B', 'H', 'AI', 'HV', 'IV', 'CI', 'PV', 'HM']\n",
      "HM not in abbr_keys\n",
      "Check keys: ['DA', 'AH', 'H', 'A', 'B', 'H', 'AI', 'HV', 'IV', 'CI', 'PV', 'HM']\n",
      "..fin.....Please check: ['AD', 'AM', 'H', 'B', 'HAI', 'CU', 'IV', 'EA', 'TX', 'CI']\n",
      "HAI not in abbr_keys\n",
      "Check keys: ['AD', 'AM', 'H', 'B', 'HAI', 'CU', 'IV', 'EA', 'TX', 'CI']\n",
      "...fin\n",
      "Page: 54..Please check: ['DA', 'B', 'HAI', 'HV', 'PI', 'CU', 'IV', 'PG', 'OT', 'HA']\n",
      "HAI not in abbr_keys\n",
      "HA not in abbr_keys\n",
      "Check keys: ['DA', 'OTHA', 'B', 'HAI', 'HV', 'PI', 'CU', 'IV', 'PG']\n",
      "......Please check: ['AD', 'RR', 'AM', 'H', 'A', 'HV', 'IV', 'EA', 'TX', 'PV', 'HM']\n",
      "HM not in abbr_keys\n",
      "Check keys: ['AD', 'RR', 'AM', 'H', 'A', 'HV', 'IV', 'EA', 'TX', 'PV', 'HM']\n",
      ".fin........fin.........fin\n",
      "Page: 55........fin........fin.........fin\n",
      "Page: 56........fin.........fin........fin\n",
      "Page: 57.........fin........Please check: ['DA', 'RR', 'B', 'HAI', 'HV', 'CU', 'IV', 'TX', 'CI', 'W', 'A']\n",
      "HAI not in abbr_keys\n",
      "Check keys: ['DA', 'RR', 'HA', 'B', 'HAI', 'HV', 'CU', 'IV', 'TX', 'CI']\n",
      "..fin.....Contact not found, please check\n",
      "....fin\n",
      "Page: 58Please check: ['DA', 'AM', 'Y', 'AB', 'H', 'HV', 'CU', 'TX', 'PV']\n",
      "AB not in abbr_keys\n",
      "Check keys: ['DA', 'AM', 'Y', 'AB', 'H', 'HV', 'CU', 'TX', 'PV']\n",
      "....Contact not found, please check\n",
      "Please check: ['AD', 'RR', 'AB', 'H', 'AI', 'HV', 'PI', 'CU', 'TX']\n",
      "AB not in abbr_keys\n",
      "Check keys: ['AD', 'RR', 'AB', 'H', 'AI', 'HV', 'PI', 'CU', 'TX']\n",
      "..Please check: ['BPI', 'TX', 'PV', 'AL', 'AM']\n",
      "BPI not in abbr_keys\n",
      "Check keys: ['ALAM', 'BPI', 'TX', 'PV']\n",
      "....fin.........finPlease check: ['DA', 'AM', 'AB', 'H', 'AI', 'IV', 'PG', 'MM']\n",
      "AB not in abbr_keys\n",
      "Check keys: ['DA', 'AM', 'AB', 'H', 'AI', 'IV', 'PG', 't1M']\n",
      "..........fin\n",
      "Page: 59.........fin.........finPlease check: ['AD', 'RR', \"I'I\", 'CU', 'IV', 'PG', 'TX']\n",
      "I'I not in abbr_keys\n",
      "Check keys: ['AD', 'RR', \"l'I\", 'CU', 'IV', 'PG', 'TX']\n",
      ".........fin\n",
      "Page: 60Please check: ['«', 'AD', 'CI', 'PV']\n",
      "« not in abbr_keys\n",
      "Check keys: ['«', 'AD', 'CI', 'PV']\n",
      "..Please check: ['AD', 'DT', 'RR', 'AM', 'H', 'Y', 'AB', 'H', 'HV', 'PI', 'CU']\n",
      "AB not in abbr_keys\n",
      "Check keys: ['AD', 'DT', 'RR', 'AM', 'H', 'Y', 'AB', 'H', 'HV', 'PI', 'CU']\n",
      ".Please check: ['AD', 'RR', 'AB', 'HV', 'PI', 'CU', 'IV', 'TX']\n",
      "AB not in abbr_keys\n",
      "Check keys: ['AD', 'RR', 'AB', 'HV', 'PI', 'CU', 'IV', 'TX']\n",
      "...Please check: ['AD', 'AM', 'YB', 'H', 'EA', 'TX', 'CI', 'PV']\n",
      "YB not in abbr_keys\n",
      "Check keys: ['AD', 'AM', 'YB', 'H', 'EA', 'TX', 'CI', 'PV']\n",
      "...fin.........fin........Please check: ['AD', 'OT', 'RR', 'AM', 'H', 'Y', 'AB', 'HV', 'CU', 'IV', 'TX']\n",
      "AB not in abbr_keys\n",
      "Check keys: ['AD', 'OT', 'RR', 'AM', 'H', 'Y', 'AB', 'HV', 'CU', 'IV', 'TX']\n",
      "..fin\n",
      "Page: 61........fin..Please check: ['DA', 'AM', 'Y', 'A', 'MV', 'CU', 'IV', 'PG', 'TX', 'PV']\n",
      "MV not in abbr_keys\n",
      "Check keys: ['DA', 'AM', 'Y', 'A', 'IIV', 'CU', 'IV', 'PG', 'TX', 'PV']\n",
      ".......fin........fin\n",
      "Page: 62.........fin.........fin.......Please check: ['AD', 'RR', 'AM', 'H', 'H', 'AI', 'CU', 'IV', 'EA', 'TX', 'CI', '-']\n",
      "- not in abbr_keys\n",
      "Check keys: ['AD', 'RR', 'AM', 'H', 'H', 'AI', 'CU', 'IV', 'EA', 'TX', 'CI', '-']\n",
      ".fin\n",
      "Page: 63.........fin........Please check: ['AD', 'DT', 'AM', 'H', 'Y', 'B', 'CU', 'PG', 'TX', 'CI', 'PY']\n",
      "PY not in abbr_keys\n",
      "Check keys: ['AD', 'DT', 'AM', 'H', 'Y', 'B', 'CU', 'PG', 'TX', 'CI', 'PY']\n",
      ".fin..Please check: ['AD', 'DT', 'RR', 'AM', 'IV', 'TX', 'CI', 'PY']\n",
      "PY not in abbr_keys\n",
      "Check keys: ['AD', 'DT', 'RR', 'AM', 'IV', 'TX', 'CI', 'PY']\n",
      ".Please check: ['AD', 'DT', 'RR', 'AM', 'H', 'CU', 'IV', 'TX', 'CI', 'PY', 'W', 'Y']\n",
      "PY not in abbr_keys\n",
      "Check keys: ['AD', 'DT', 'RR', 'AM', 'H', 'HY', 'CU', 'IV', 'TX', 'CI', 'PY']\n",
      "...Please check: ['AL', 'AM', 'Y', 'B', 'It', 'AI', 'PI', 'DW', 'TX', 'PV']\n",
      "It not in abbr_keys\n",
      "Check keys: ['AL', 'AM', 'Y', 'B', 'It', 'AI', 'PI', 'DH', 'TX', 'PV']\n",
      "...fin\n",
      "Page: 64......Contact not found, please check\n",
      "...fin.........fin.Please check: ['DA', 'AM', 'IV', 'HM']\n",
      "HM not in abbr_keys\n",
      "Check keys: ['DA', 'AH', 'IV', 'HM']\n",
      ".........fin\n",
      "Page: 65......Please check: ['AD', 'OT', 'RR', 'H', 'Y', 'A', 'B', 'HAI', 'HV', 'PI', 'CU']\n",
      "HAI not in abbr_keys\n",
      "Check keys: ['AD', 'OT', 'RR', 'H', 'Y', 'A', '8', 'HAI', 'HV', 'PI', 'CU']\n",
      "...fin.........fin.........fin\n",
      "Page: 66........Check keys: ['AD', 'R', 'R', 'TX', 'Cl']\n",
      ".fin.........fin.........fin\n",
      "Page: 67...Please check: ['AD', 'AM', 'H', 'Y', 'B', 'HAI', 'IV', 'TX', 'CI', 'PV']\n",
      "HAI not in abbr_keys\n",
      "Check keys: ['AD', 'AM', 'H', 'Y', 'B', 'HAI', 'IV', 'TX', 'CI', 'PV']\n",
      ".....Please check: ['AD', 'DT', 'RR', 'AM', 'B', 'HAI', 'HV', 'CU', 'IV', 'W', 'A']\n",
      "HAI not in abbr_keys\n",
      "Check keys: ['AD', 'DT', 'RR', 'AM', 'HA', 'B', 'HAI', 'HV', 'CU', 'IV']\n",
      ".fin.........fin.........fin\n",
      "Page: 68...Check keys: ['AO', 'PV']\n",
      "......fin.........fin....Check keys: ['AD', 'OH', 'PV']\n",
      ".....fin\n",
      "Page: 69Contact not found, please check\n",
      ".........fin..........fin.........fin\n",
      "Page: 70.........finPlease check: ['AD', 'AM', 'HIV', 'TX', 'PV']\n",
      "HIV not in abbr_keys\n",
      "Check keys: ['AD', 'AM', 'HIV', 'TX', 'PV']\n",
      ".........fin....."
     ]
    },
    {
     "ename": "IndexError",
     "evalue": "list index out of range",
     "output_type": "error",
     "traceback": [
      "\u001b[0;31m---------------------------------------------------------------------------\u001b[0m",
      "\u001b[0;31mIndexError\u001b[0m                                Traceback (most recent call last)",
      "\u001b[0;32m<ipython-input-455-514e0d92c86c>\u001b[0m in \u001b[0;36m<module>\u001b[0;34m\u001b[0m\n\u001b[1;32m      5\u001b[0m     \u001b[0mpage_data_holders\u001b[0m \u001b[0;34m=\u001b[0m \u001b[0;34m[\u001b[0m\u001b[0;34m]\u001b[0m\u001b[0;34m\u001b[0m\u001b[0;34m\u001b[0m\u001b[0m\n\u001b[1;32m      6\u001b[0m     \u001b[0;32mfor\u001b[0m \u001b[0mcol\u001b[0m \u001b[0;32min\u001b[0m \u001b[0mpage\u001b[0m\u001b[0;34m:\u001b[0m\u001b[0;34m\u001b[0m\u001b[0;34m\u001b[0m\u001b[0m\n\u001b[0;32m----> 7\u001b[0;31m         \u001b[0mpage_data_holders\u001b[0m \u001b[0;34m=\u001b[0m \u001b[0mclean_col_data\u001b[0m\u001b[0;34m(\u001b[0m\u001b[0mcol\u001b[0m\u001b[0;34m)\u001b[0m\u001b[0;34m\u001b[0m\u001b[0;34m\u001b[0m\u001b[0m\n\u001b[0m\u001b[1;32m      8\u001b[0m         \u001b[0;32mwith\u001b[0m \u001b[0mopen\u001b[0m\u001b[0;34m(\u001b[0m\u001b[0mfilename\u001b[0m\u001b[0;34m,\u001b[0m \u001b[0;34m'a'\u001b[0m\u001b[0;34m,\u001b[0m \u001b[0mnewline\u001b[0m \u001b[0;34m=\u001b[0m \u001b[0;34m''\u001b[0m\u001b[0;34m)\u001b[0m \u001b[0;32mas\u001b[0m \u001b[0mfile\u001b[0m\u001b[0;34m:\u001b[0m\u001b[0;34m\u001b[0m\u001b[0;34m\u001b[0m\u001b[0m\n\u001b[1;32m      9\u001b[0m             \u001b[0mwriter\u001b[0m \u001b[0;34m=\u001b[0m \u001b[0mcsv\u001b[0m\u001b[0;34m.\u001b[0m\u001b[0mwriter\u001b[0m\u001b[0;34m(\u001b[0m\u001b[0mfile\u001b[0m\u001b[0;34m)\u001b[0m\u001b[0;34m\u001b[0m\u001b[0;34m\u001b[0m\u001b[0m\n",
      "\u001b[0;32m<ipython-input-419-173690c0732d>\u001b[0m in \u001b[0;36mclean_col_data\u001b[0;34m(col_text_splitted)\u001b[0m\n\u001b[1;32m     55\u001b[0m             \u001b[0mi\u001b[0m \u001b[0;34m+=\u001b[0m \u001b[0;36m1\u001b[0m\u001b[0;34m\u001b[0m\u001b[0;34m\u001b[0m\u001b[0m\n\u001b[1;32m     56\u001b[0m             \u001b[0;31m#contact\u001b[0m\u001b[0;34m\u001b[0m\u001b[0;34m\u001b[0m\u001b[0;34m\u001b[0m\u001b[0m\n\u001b[0;32m---> 57\u001b[0;31m             \u001b[0;32mif\u001b[0m \u001b[0;32mnot\u001b[0m \u001b[0mis_contact\u001b[0m\u001b[0;34m(\u001b[0m\u001b[0mfacil\u001b[0m\u001b[0;34m[\u001b[0m\u001b[0mi\u001b[0m\u001b[0;34m]\u001b[0m\u001b[0;34m)\u001b[0m\u001b[0;34m:\u001b[0m\u001b[0;34m\u001b[0m\u001b[0;34m\u001b[0m\u001b[0m\n\u001b[0m\u001b[1;32m     58\u001b[0m                 \u001b[0mprint\u001b[0m\u001b[0;34m(\u001b[0m\u001b[0;34m'Contact not found, please check'\u001b[0m\u001b[0;34m)\u001b[0m\u001b[0;34m\u001b[0m\u001b[0;34m\u001b[0m\u001b[0m\n\u001b[1;32m     59\u001b[0m             \u001b[0;32melse\u001b[0m\u001b[0;34m:\u001b[0m\u001b[0;34m\u001b[0m\u001b[0;34m\u001b[0m\u001b[0m\n",
      "\u001b[0;31mIndexError\u001b[0m: list index out of range"
     ]
    }
   ],
   "source": [
    "pagen = 16\n",
    "\n",
    "for page in data:\n",
    "    print(\"Page:\", pagen, end = '')\n",
    "    page_data_holders = []\n",
    "    for col in page:\n",
    "        page_data_holders = clean_col_data(col)\n",
    "        with open(filename, 'a', newline = '') as file:\n",
    "            writer = csv.writer(file)\n",
    "            writer.writerows(page_data_holders)\n",
    "        print('fin', end = '')\n",
    "    pagen += 1\n",
    "    print('')"
   ]
  },
  {
   "cell_type": "code",
   "execution_count": 445,
   "metadata": {},
   "outputs": [
    {
     "data": {
      "text/plain": [
       "[[['AKEELA', 'HOUSE', 'INC'],\n",
       "  ['2804', 'BERING', 'STREET'],\n",
       "  ['ANCHORAGE,', 'AK', '99503'],\n",
       "  ['I', '9071', '561-5266'],\n",
       "  ['AD', 'RR', 'TX', 'PV']],\n",
       " [['ALASKA', 'COUNCIL', 'ON', 'PREVENTION', 'OF'],\n",
       "  ['ALCOHOL', 'AND', 'DRUG', 'ABUSE', 'INC'],\n",
       "  ['7521', 'OLD', 'SEHARD', 'HIGHHAY'],\n",
       "  ['SUITE', '8'],\n",
       "  ['ANCHORAGE,', 'AK', '99518'],\n",
       "  ['I', '907', 'J', '349-6602'],\n",
       "  ['AD', 'PV', 'OT']],\n",
       " [['ALASKA', 'COURT', 'SYSTEM'],\n",
       "  ['ANCHORAGE', 'AK', 'ALC', 'SAFETY', 'ACTION', 'PROGRAM'],\n",
       "  ['941', 'NEST', '4TH', 'AVENUE'],\n",
       "  ['3RD', 'FLOOR'],\n",
       "  ['ANCHORAGE,', 'AK', '99501'],\n",
       "  ['I', '907', 'J', \"26'+-0735\"],\n",
       "  ['AD', 'DH', 'PV']],\n",
       " [['ALASKA', 'HUMAN', 'SERVICES'],\n",
       "  ['OUTPT', 'ALC/SUBST', 'ABUSE', 'TREATMENT', 'PROG'],\n",
       "  ['4050', 'LAKE', 'OTIS', 'PARKHAY'],\n",
       "  ['SUITE', '107'],\n",
       "  ['ANCHORAGE,', 'AK', '99508'],\n",
       "  ['I', '907', 'J', '561-4535'],\n",
       "  ['ADAM', 'DH', 'TX', 'CI', 'PV']],\n",
       " [['ALASKA', 'NATIVE', 'ALCOHOLISM', 'RECOVERY', 'CTR'],\n",
       "  ['120', 'NORTH', 'HOYT', 'STREET'],\n",
       "  ['ANCHORAGE,', 'AK', '99508'],\n",
       "  ['I', '907', 'I', '278-2627'],\n",
       "  ['AL', 'RR', 'AI', 'TX']],\n",
       " [['ALASKA', 'NATIVE', 'HEALTH', 'BOARD'],\n",
       "  ['1345', 'RUDAKOF', 'CIRCLE'],\n",
       "  ['ROOM', '206'],\n",
       "  ['ANCHORAGE,', 'AK', '99501'],\n",
       "  ['I', '907', 'I', '337-0028'],\n",
       "  ['AD', 'PV']],\n",
       " [['ALEUTIAN', 'PRIBILOF', 'ISLANDS', 'ASSOCIATION'],\n",
       "  ['401', 'EAST', 'FIREHEED', 'LANE'],\n",
       "  ['SUITE', '201'],\n",
       "  ['ANCHORAGE,', 'AK', '99503'],\n",
       "  ['I', '907', 'l', '276-2700'],\n",
       "  ['AD', 'AM', 'Y', 'AI', 'PI', 'PG', 'TX', 'CI', 'PV', 'OT'],\n",
       "  ['II', 'l<EV', 'II']]]"
      ]
     },
     "execution_count": 445,
     "metadata": {},
     "output_type": "execute_result"
    }
   ],
   "source": [
    "#check error data\n",
    "data[19-16][1-1]#[2]"
   ]
  },
  {
   "cell_type": "markdown",
   "metadata": {},
   "source": [
    "- Rewrite data in problem pages"
   ]
  },
  {
   "cell_type": "markdown",
   "metadata": {},
   "source": [
    "# Clean final data\n",
    "- Replaced \"A venue\" with \"A venue\" in Address1\n",
    "- Split ZIP code into two if in the format \"35294-0018\"\n",
    "- To-do:\n",
    "    - Clean up the wrong letters/numbers in address"
   ]
  },
  {
   "cell_type": "code",
   "execution_count": 47,
   "metadata": {},
   "outputs": [],
   "source": [
    "import pandas as pd"
   ]
  },
  {
   "cell_type": "code",
   "execution_count": 48,
   "metadata": {},
   "outputs": [
    {
     "data": {
      "text/html": [
       "<div>\n",
       "<style scoped>\n",
       "    .dataframe tbody tr th:only-of-type {\n",
       "        vertical-align: middle;\n",
       "    }\n",
       "\n",
       "    .dataframe tbody tr th {\n",
       "        vertical-align: top;\n",
       "    }\n",
       "\n",
       "    .dataframe thead th {\n",
       "        text-align: right;\n",
       "    }\n",
       "</style>\n",
       "<table border=\"1\" class=\"dataframe\">\n",
       "  <thead>\n",
       "    <tr style=\"text-align: right;\">\n",
       "      <th></th>\n",
       "      <th>Name1</th>\n",
       "      <th>Name2</th>\n",
       "      <th>Name3</th>\n",
       "      <th>Address1</th>\n",
       "      <th>Address2</th>\n",
       "      <th>Address3</th>\n",
       "      <th>City</th>\n",
       "      <th>State</th>\n",
       "      <th>ZIP_Code</th>\n",
       "      <th>Contact</th>\n",
       "      <th>Website</th>\n",
       "      <th>Note</th>\n",
       "      <th>Keys</th>\n",
       "    </tr>\n",
       "  </thead>\n",
       "  <tbody>\n",
       "    <tr>\n",
       "      <th>0</th>\n",
       "      <td>Lighthouse of Tallapoosa County Inc</td>\n",
       "      <td>Substance Abuse Rehab Program/Resid</td>\n",
       "      <td>NaN</td>\n",
       "      <td>36 Franklin Street</td>\n",
       "      <td>NaN</td>\n",
       "      <td>NaN</td>\n",
       "      <td>Alexander City</td>\n",
       "      <td>AL</td>\n",
       "      <td>35010</td>\n",
       "      <td>(256)234-4894</td>\n",
       "      <td>NaN</td>\n",
       "      <td>NaN</td>\n",
       "      <td>SA/TX/HH/RL/CO/MN/SF/</td>\n",
       "    </tr>\n",
       "    <tr>\n",
       "      <th>1</th>\n",
       "      <td>Anniston Fellowship House Inc</td>\n",
       "      <td>NaN</td>\n",
       "      <td>NaN</td>\n",
       "      <td>106 East 22nd Street</td>\n",
       "      <td>NaN</td>\n",
       "      <td>NaN</td>\n",
       "      <td>Anniston</td>\n",
       "      <td>AL</td>\n",
       "      <td>36201</td>\n",
       "      <td>(256)236-7229</td>\n",
       "      <td>NaN</td>\n",
       "      <td>NaN</td>\n",
       "      <td>SA/TX/HH/RL/SF/</td>\n",
       "    </tr>\n",
       "    <tr>\n",
       "      <th>2</th>\n",
       "      <td>Calhoun Cleburne Mental Health Center</td>\n",
       "      <td>New Directions</td>\n",
       "      <td>NaN</td>\n",
       "      <td>407 Noble Street</td>\n",
       "      <td>NaN</td>\n",
       "      <td>NaN</td>\n",
       "      <td>Anniston</td>\n",
       "      <td>AL</td>\n",
       "      <td>36201</td>\n",
       "      <td>(256)236-8003 Hotlines: (256)236-8003 (256)236...</td>\n",
       "      <td>NaN</td>\n",
       "      <td>NaN</td>\n",
       "      <td>SA/TX/OP/AD/CO/DU/SF/MD/SI/PI/MI/SS/</td>\n",
       "    </tr>\n",
       "    <tr>\n",
       "      <th>3</th>\n",
       "      <td>Bridge Inc</td>\n",
       "      <td>Recovery Center for Teens/Ashville</td>\n",
       "      <td>NaN</td>\n",
       "      <td>474 10th Street</td>\n",
       "      <td>NaN</td>\n",
       "      <td>NaN</td>\n",
       "      <td>Ashville</td>\n",
       "      <td>AL</td>\n",
       "      <td>35953</td>\n",
       "      <td>(205)594-3111</td>\n",
       "      <td>www.bridgeinc.org</td>\n",
       "      <td>NaN</td>\n",
       "      <td>SA/TX/OP/AD/SF/MD/SI/PI/MI/PA/AH/</td>\n",
       "    </tr>\n",
       "    <tr>\n",
       "      <th>4</th>\n",
       "      <td>Northwest Alabama Treatment Center</td>\n",
       "      <td>NaN</td>\n",
       "      <td>NaN</td>\n",
       "      <td>4204 Edmonton Drive</td>\n",
       "      <td>NaN</td>\n",
       "      <td>NaN</td>\n",
       "      <td>Bessemer</td>\n",
       "      <td>AL</td>\n",
       "      <td>35022</td>\n",
       "      <td>(205)425-1200 Hotline: (205)805-3381</td>\n",
       "      <td>NaN</td>\n",
       "      <td>Methadone Clients Only</td>\n",
       "      <td>SA/TX/DT/MM/DM/OP/CO/HV/PW/WN/BC/SF/PI/AH/</td>\n",
       "    </tr>\n",
       "    <tr>\n",
       "      <th>...</th>\n",
       "      <td>...</td>\n",
       "      <td>...</td>\n",
       "      <td>...</td>\n",
       "      <td>...</td>\n",
       "      <td>...</td>\n",
       "      <td>...</td>\n",
       "      <td>...</td>\n",
       "      <td>...</td>\n",
       "      <td>...</td>\n",
       "      <td>...</td>\n",
       "      <td>...</td>\n",
       "      <td>...</td>\n",
       "      <td>...</td>\n",
       "    </tr>\n",
       "    <tr>\n",
       "      <th>11055</th>\n",
       "      <td>Wyoming Substance Abuse Treatment and</td>\n",
       "      <td>Recovery Centers (WYSTAR)</td>\n",
       "      <td>NaN</td>\n",
       "      <td>1003 Saberton Street</td>\n",
       "      <td>NaN</td>\n",
       "      <td>NaN</td>\n",
       "      <td>Sheridan</td>\n",
       "      <td>WY</td>\n",
       "      <td>82801</td>\n",
       "      <td>(307)672-2044</td>\n",
       "      <td>www.wystarrecovery.com</td>\n",
       "      <td>NaN</td>\n",
       "      <td>SA/TX/HH/RL/OP/PH/PW/WN/BC/SF/SI/PI/MI/SS/</td>\n",
       "    </tr>\n",
       "    <tr>\n",
       "      <th>11056</th>\n",
       "      <td>Wyoming Substance Abuse Treatment and</td>\n",
       "      <td>Recovery Centers (WYSTAR)</td>\n",
       "      <td>NaN</td>\n",
       "      <td>1898 Fort Road</td>\n",
       "      <td>Building 64</td>\n",
       "      <td>NaN</td>\n",
       "      <td>Sheridan</td>\n",
       "      <td>WY</td>\n",
       "      <td>82801</td>\n",
       "      <td>(307)673-2510 Intake: (307)672-2044</td>\n",
       "      <td>www.wystarrecovery.com</td>\n",
       "      <td>NaN</td>\n",
       "      <td>SA/TX/RL/OP/CO/HV/GL/SE/MN/CJ/SF/PI/MI/SS/AH/</td>\n",
       "    </tr>\n",
       "    <tr>\n",
       "      <th>11057</th>\n",
       "      <td>Hot Springs County Counseling Service</td>\n",
       "      <td>NaN</td>\n",
       "      <td>NaN</td>\n",
       "      <td>121 South 4th Street</td>\n",
       "      <td>NaN</td>\n",
       "      <td>NaN</td>\n",
       "      <td>Thermopolis</td>\n",
       "      <td>WY</td>\n",
       "      <td>82443</td>\n",
       "      <td>(307)864-3138 Intake: (307)864-2247</td>\n",
       "      <td>NaN</td>\n",
       "      <td>NaN</td>\n",
       "      <td>MH/TX/OP/DU/SF/MD/SI/PI/MI/SS/PA/</td>\n",
       "    </tr>\n",
       "    <tr>\n",
       "      <th>11058</th>\n",
       "      <td>Peak Wellness Center</td>\n",
       "      <td>Substance Abuse Services</td>\n",
       "      <td>NaN</td>\n",
       "      <td>103 Park Avenue</td>\n",
       "      <td>NaN</td>\n",
       "      <td>NaN</td>\n",
       "      <td>Wheatland</td>\n",
       "      <td>WY</td>\n",
       "      <td>82201</td>\n",
       "      <td>(307)322-3190</td>\n",
       "      <td>www.sewmhc.org/programstaps.htm</td>\n",
       "      <td>NaN</td>\n",
       "      <td>MH/TX/OP/AD/CO/DU/SF/MD/MC/SI/PI/MI/</td>\n",
       "    </tr>\n",
       "    <tr>\n",
       "      <th>11059</th>\n",
       "      <td>Washakie Mental Health Services</td>\n",
       "      <td>NaN</td>\n",
       "      <td>NaN</td>\n",
       "      <td>206 South 7th Street</td>\n",
       "      <td>NaN</td>\n",
       "      <td>NaN</td>\n",
       "      <td>Worland</td>\n",
       "      <td>WY</td>\n",
       "      <td>82401</td>\n",
       "      <td>(307)347-6165</td>\n",
       "      <td>NaN</td>\n",
       "      <td>NaN</td>\n",
       "      <td>MH-SA/TX/OP/DU/SF/MD/SI/PI/MI/SS/</td>\n",
       "    </tr>\n",
       "  </tbody>\n",
       "</table>\n",
       "<p>11060 rows × 13 columns</p>\n",
       "</div>"
      ],
      "text/plain": [
       "                                       Name1  \\\n",
       "0        Lighthouse of Tallapoosa County Inc   \n",
       "1              Anniston Fellowship House Inc   \n",
       "2      Calhoun Cleburne Mental Health Center   \n",
       "3                                 Bridge Inc   \n",
       "4         Northwest Alabama Treatment Center   \n",
       "...                                      ...   \n",
       "11055  Wyoming Substance Abuse Treatment and   \n",
       "11056  Wyoming Substance Abuse Treatment and   \n",
       "11057  Hot Springs County Counseling Service   \n",
       "11058                   Peak Wellness Center   \n",
       "11059        Washakie Mental Health Services   \n",
       "\n",
       "                                     Name2 Name3              Address1  \\\n",
       "0      Substance Abuse Rehab Program/Resid   NaN    36 Franklin Street   \n",
       "1                                      NaN   NaN  106 East 22nd Street   \n",
       "2                           New Directions   NaN      407 Noble Street   \n",
       "3       Recovery Center for Teens/Ashville   NaN       474 10th Street   \n",
       "4                                      NaN   NaN   4204 Edmonton Drive   \n",
       "...                                    ...   ...                   ...   \n",
       "11055            Recovery Centers (WYSTAR)   NaN  1003 Saberton Street   \n",
       "11056            Recovery Centers (WYSTAR)   NaN        1898 Fort Road   \n",
       "11057                                  NaN   NaN  121 South 4th Street   \n",
       "11058             Substance Abuse Services   NaN       103 Park Avenue   \n",
       "11059                                  NaN   NaN  206 South 7th Street   \n",
       "\n",
       "          Address2 Address3            City State  ZIP_Code  \\\n",
       "0              NaN      NaN  Alexander City    AL     35010   \n",
       "1              NaN      NaN        Anniston    AL     36201   \n",
       "2              NaN      NaN        Anniston    AL     36201   \n",
       "3              NaN      NaN        Ashville    AL     35953   \n",
       "4              NaN      NaN        Bessemer    AL     35022   \n",
       "...            ...      ...             ...   ...       ...   \n",
       "11055          NaN      NaN        Sheridan    WY     82801   \n",
       "11056  Building 64      NaN        Sheridan    WY     82801   \n",
       "11057          NaN      NaN     Thermopolis    WY     82443   \n",
       "11058          NaN      NaN       Wheatland    WY     82201   \n",
       "11059          NaN      NaN         Worland    WY     82401   \n",
       "\n",
       "                                                 Contact  \\\n",
       "0                                          (256)234-4894   \n",
       "1                                          (256)236-7229   \n",
       "2      (256)236-8003 Hotlines: (256)236-8003 (256)236...   \n",
       "3                                          (205)594-3111   \n",
       "4                   (205)425-1200 Hotline: (205)805-3381   \n",
       "...                                                  ...   \n",
       "11055                                      (307)672-2044   \n",
       "11056                (307)673-2510 Intake: (307)672-2044   \n",
       "11057                (307)864-3138 Intake: (307)864-2247   \n",
       "11058                                      (307)322-3190   \n",
       "11059                                      (307)347-6165   \n",
       "\n",
       "                               Website                    Note  \\\n",
       "0                                  NaN                     NaN   \n",
       "1                                  NaN                     NaN   \n",
       "2                                  NaN                     NaN   \n",
       "3                    www.bridgeinc.org                     NaN   \n",
       "4                                  NaN  Methadone Clients Only   \n",
       "...                                ...                     ...   \n",
       "11055           www.wystarrecovery.com                     NaN   \n",
       "11056           www.wystarrecovery.com                     NaN   \n",
       "11057                              NaN                     NaN   \n",
       "11058  www.sewmhc.org/programstaps.htm                     NaN   \n",
       "11059                              NaN                     NaN   \n",
       "\n",
       "                                                Keys  \n",
       "0                              SA/TX/HH/RL/CO/MN/SF/  \n",
       "1                                    SA/TX/HH/RL/SF/  \n",
       "2               SA/TX/OP/AD/CO/DU/SF/MD/SI/PI/MI/SS/  \n",
       "3                  SA/TX/OP/AD/SF/MD/SI/PI/MI/PA/AH/  \n",
       "4         SA/TX/DT/MM/DM/OP/CO/HV/PW/WN/BC/SF/PI/AH/  \n",
       "...                                              ...  \n",
       "11055     SA/TX/HH/RL/OP/PH/PW/WN/BC/SF/SI/PI/MI/SS/  \n",
       "11056  SA/TX/RL/OP/CO/HV/GL/SE/MN/CJ/SF/PI/MI/SS/AH/  \n",
       "11057              MH/TX/OP/DU/SF/MD/SI/PI/MI/SS/PA/  \n",
       "11058           MH/TX/OP/AD/CO/DU/SF/MD/MC/SI/PI/MI/  \n",
       "11059              MH-SA/TX/OP/DU/SF/MD/SI/PI/MI/SS/  \n",
       "\n",
       "[11060 rows x 13 columns]"
      ]
     },
     "execution_count": 48,
     "metadata": {},
     "output_type": "execute_result"
    }
   ],
   "source": [
    "df = pd.read_csv(\"{}.csv\".format(YEAR))\n",
    "df"
   ]
  },
  {
   "cell_type": "code",
   "execution_count": 49,
   "metadata": {},
   "outputs": [],
   "source": [
    "#check if all state names are right\n",
    "for index, row in df.iterrows():\n",
    "    #print(row)\n",
    "    if len(row[7])!=2:\n",
    "        print(row)"
   ]
  },
  {
   "cell_type": "code",
   "execution_count": 50,
   "metadata": {},
   "outputs": [
    {
     "data": {
      "text/plain": [
       "Name1       object\n",
       "Name2       object\n",
       "Name3       object\n",
       "Address1    object\n",
       "Address2    object\n",
       "Address3    object\n",
       "City        object\n",
       "State       object\n",
       "ZIP_Code     int64\n",
       "Contact     object\n",
       "Website     object\n",
       "Note        object\n",
       "Keys        object\n",
       "dtype: object"
      ]
     },
     "execution_count": 50,
     "metadata": {},
     "output_type": "execute_result"
    }
   ],
   "source": [
    "#check if all zip codes are correct\n",
    "df.dtypes"
   ]
  },
  {
   "cell_type": "markdown",
   "metadata": {},
   "source": [
    "- Correct in Pandas"
   ]
  },
  {
   "cell_type": "code",
   "execution_count": 51,
   "metadata": {},
   "outputs": [],
   "source": [
    "#if address 1 and 2 should actually be one line...\n",
    "for index, row in df.iterrows():\n",
    "    if row[0].split()[-1] == 'and':\n",
    "        if pd.isnull(row[1]):\n",
    "            print(index)\n",
    "        else:\n",
    "            df.at[index, 'Name1'] = row[0] + ' ' + row[1]\n",
    "            df.at[index, 'Name2'] = ''"
   ]
  },
  {
   "cell_type": "code",
   "execution_count": 52,
   "metadata": {},
   "outputs": [],
   "source": [
    "# def split_zip(zipc):\n",
    "#     if '-' in zipc:\n",
    "#         return zipc.split('-')\n",
    "#     return [zipc, None]\n",
    "# #split zip-code if zip code is in the format xxxxx-xxxx\n",
    "# df['zip1'] = [split_zip(zipc)[0] for zipc in df['ZIP_Code']]\n",
    "# df['zip2'] = [split_zip(zipc)[1] for zipc in df['ZIP_Code']]"
   ]
  },
  {
   "cell_type": "code",
   "execution_count": 53,
   "metadata": {},
   "outputs": [],
   "source": [
    "df.to_csv('{}_c.csv'.format(YEAR), index = False)"
   ]
  },
  {
   "cell_type": "markdown",
   "metadata": {},
   "source": [
    "## Summary stats"
   ]
  },
  {
   "cell_type": "markdown",
   "metadata": {},
   "source": [
    "- Check keys"
   ]
  },
  {
   "cell_type": "code",
   "execution_count": 54,
   "metadata": {},
   "outputs": [],
   "source": [
    "df = pd.read_csv('{}_c.csv'.format(YEAR))"
   ]
  },
  {
   "cell_type": "code",
   "execution_count": 57,
   "metadata": {},
   "outputs": [
    {
     "name": "stdout",
     "output_type": "stream",
     "text": [
      "MM Methadone maintenance (facility may also use buprenorphine in maintenance)\n",
      "DM Methadone detoxification (facility may also use buprenorphine in detoxification)\n"
     ]
    }
   ],
   "source": [
    "Methadone_keys = []\n",
    "for key, val in abbr_keys.items():\n",
    "    if val:\n",
    "        if ('Methadone' in val) or ('methadone' in val):\n",
    "            Methadone_keys.append(key)\n",
    "            print(key, val)"
   ]
  },
  {
   "cell_type": "code",
   "execution_count": 58,
   "metadata": {},
   "outputs": [
    {
     "name": "stdout",
     "output_type": "stream",
     "text": [
      "MM Methadone maintenance (facility may also use buprenorphine in maintenance)\n",
      "DM Methadone detoxification (facility may also use buprenorphine in detoxification)\n"
     ]
    }
   ],
   "source": [
    "Buprenorphine_keys = []\n",
    "for key, val in abbr_keys.items():\n",
    "    if val:\n",
    "        if ('Buprenorphine' in val) or (\"buprenorphine\" in val):\n",
    "            Buprenorphine_keys.append(key)\n",
    "            print(key, val)"
   ]
  },
  {
   "cell_type": "code",
   "execution_count": 59,
   "metadata": {},
   "outputs": [],
   "source": [
    "Naltrexone_keys = []\n",
    "for key, val in abbr_keys.items():\n",
    "    if val:\n",
    "        if ('Naltrexone' in val) or ('naltrexone' in val):\n",
    "            Naltrexone_keys.append(key)\n",
    "            print(key, val)"
   ]
  },
  {
   "cell_type": "markdown",
   "metadata": {},
   "source": [
    "- Count keys"
   ]
  },
  {
   "cell_type": "code",
   "execution_count": 60,
   "metadata": {},
   "outputs": [],
   "source": [
    "def count_key(df, key):\n",
    "    '''\n",
    "    Count the number MOUD with a certain key\n",
    "    '''\n",
    "    df[key] = df.apply(lambda row: key in row['Keys'].split('/'), axis = 1)\n",
    "    return len(df[df[key] == True])"
   ]
  },
  {
   "cell_type": "code",
   "execution_count": 61,
   "metadata": {},
   "outputs": [
    {
     "data": {
      "text/plain": [
       "11060"
      ]
     },
     "execution_count": 61,
     "metadata": {},
     "output_type": "execute_result"
    }
   ],
   "source": [
    "len(df)"
   ]
  },
  {
   "cell_type": "code",
   "execution_count": 62,
   "metadata": {},
   "outputs": [],
   "source": [
    "labels = []\n",
    "MOUD_numbers = []"
   ]
  },
  {
   "cell_type": "code",
   "execution_count": 63,
   "metadata": {},
   "outputs": [
    {
     "name": "stdout",
     "output_type": "stream",
     "text": [
      "MM : Methadone maintenance (facility may also use buprenorphine in maintenance) \t\t 925\n",
      "DM : Methadone detoxification (facility may also use buprenorphine in detoxification) \t\t 664\n"
     ]
    }
   ],
   "source": [
    "for key in Methadone_keys:\n",
    "    n_MOUD_with_key = count_key(df, key)\n",
    "    print(key, \":\", abbr_keys[key], '\\t\\t', n_MOUD_with_key)\n",
    "    labels.append(abbr_keys[key] + '(' + key + ')')\n",
    "    MOUD_numbers.append(n_MOUD_with_key)"
   ]
  },
  {
   "cell_type": "code",
   "execution_count": 64,
   "metadata": {},
   "outputs": [
    {
     "name": "stdout",
     "output_type": "stream",
     "text": [
      "MM : Methadone maintenance (facility may also use buprenorphine in maintenance) \t\t 925\n",
      "DM : Methadone detoxification (facility may also use buprenorphine in detoxification) \t\t 664\n"
     ]
    }
   ],
   "source": [
    "for key in Buprenorphine_keys:\n",
    "    n_MOUD_with_key = count_key(df, key)\n",
    "    print(key, \":\", abbr_keys[key], '\\t\\t', n_MOUD_with_key)\n",
    "    if (abbr_keys[key] + '(' + key + ')') not in labels:\n",
    "        labels.append(abbr_keys[key] + '(' + key + ')')\n",
    "        MOUD_numbers.append(n_MOUD_with_key)"
   ]
  },
  {
   "cell_type": "code",
   "execution_count": 65,
   "metadata": {},
   "outputs": [],
   "source": [
    "for key in Naltrexone_keys:\n",
    "    n_MOUD_with_key = count_key(df, key)\n",
    "    print(key, \":\", abbr_keys[key], '\\t\\t', n_MOUD_with_key)\n",
    "    if (abbr_keys[key] + '(' + key + ')') not in labels:\n",
    "        labels.append(abbr_keys[key] + '(' + key + ')')\n",
    "        MOUD_numbers.append(n_MOUD_with_key)"
   ]
  },
  {
   "cell_type": "code",
   "execution_count": 66,
   "metadata": {},
   "outputs": [
    {
     "data": {
      "text/plain": [
       "['Methadone maintenance (facility may also use buprenorphine in maintenance)(MM)',\n",
       " 'Methadone detoxification (facility may also use buprenorphine in detoxification)(DM)']"
      ]
     },
     "execution_count": 66,
     "metadata": {},
     "output_type": "execute_result"
    }
   ],
   "source": [
    "labels"
   ]
  },
  {
   "cell_type": "code",
   "execution_count": 67,
   "metadata": {},
   "outputs": [
    {
     "data": {
      "text/plain": [
       "[925, 664]"
      ]
     },
     "execution_count": 67,
     "metadata": {},
     "output_type": "execute_result"
    }
   ],
   "source": [
    "MOUD_numbers"
   ]
  },
  {
   "cell_type": "code",
   "execution_count": 68,
   "metadata": {},
   "outputs": [
    {
     "data": {
      "image/png": "[encoded data removed]",
      "text/plain": [
       "<Figure size 432x288 with 1 Axes>"
      ]
     },
     "metadata": {
      "needs_background": "light"
     },
     "output_type": "display_data"
    }
   ],
   "source": [
    "#barchart: https://matplotlib.org/3.3.0/gallery/lines_bars_and_markers/barchart.html#sphx-glr-gallery-lines-bars-and-markers-barchart-py\n",
    "\n",
    "import matplotlib.pyplot as plt\n",
    "import numpy as np\n",
    "\n",
    "x = np.arange(len(labels))  # the label locations\n",
    "width = 0.35  # the width of the bars\n",
    "\n",
    "fig, ax = plt.subplots()\n",
    "rects1 = ax.bar(x - width/2, MOUD_numbers, width, label=str(YEAR))\n",
    "\n",
    "# Add some text for labels, title and custom x-axis tick labels, etc.\n",
    "ax.set_ylabel('Number of MOUD')\n",
    "ax.set_title('MOUD with relevant services')\n",
    "ax.set_xticks(x)\n",
    "ax.set_xticklabels(labels)\n",
    "ax.legend()\n",
    "\n",
    "\n",
    "def autolabel(rects):\n",
    "    \"\"\"Attach a text label above each bar in *rects*, displaying its height.\"\"\"\n",
    "    for rect in rects:\n",
    "        height = rect.get_height()\n",
    "        ax.annotate('{}'.format(height),\n",
    "                    xy=(rect.get_x() + rect.get_width() / 2, height),\n",
    "                    xytext=(0, 3),  # 3 points vertical offset\n",
    "                    textcoords=\"offset points\",\n",
    "                    ha='center', va='bottom')\n",
    "\n",
    "\n",
    "autolabel(rects1)\n",
    "\n",
    "plt.ylim(0, len(df))\n",
    "plt.xticks(rotation=90)\n",
    "plt.savefig('{}_stats.png'.format(YEAR), bbox_inches = 'tight')"
   ]
  },
  {
   "cell_type": "code",
   "execution_count": null,
   "metadata": {},
   "outputs": [],
   "source": []
  }
 ],
 "metadata": {
  "kernelspec": {
   "display_name": "Python 3",
   "language": "python",
   "name": "python3"
  },
  "language_info": {
   "codemirror_mode": {
    "name": "ipython",
    "version": 3
   },
   "file_extension": ".py",
   "mimetype": "text/x-python",
   "name": "python",
   "nbconvert_exporter": "python",
   "pygments_lexer": "ipython3",
   "version": "3.7.6"
  }
 },
 "nbformat": 4,
 "nbformat_minor": 4
}
