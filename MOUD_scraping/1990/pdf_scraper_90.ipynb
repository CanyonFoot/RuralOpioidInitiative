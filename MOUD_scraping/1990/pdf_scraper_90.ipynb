{
 "cells": [
  {
   "cell_type": "markdown",
   "metadata": {},
   "source": [
    "#### Imports"
   ]
  },
  {
   "cell_type": "code",
   "execution_count": 1,
   "metadata": {},
   "outputs": [],
   "source": [
    "import PyPDF2\n",
    "import csv\n",
    "import re\n",
    "import json\n",
    "import os\n",
    "import us\n",
    "import numpy as np"
   ]
  },
  {
   "cell_type": "code",
   "execution_count": 2,
   "metadata": {},
   "outputs": [],
   "source": [
    "YEAR = 1990"
   ]
  },
  {
   "cell_type": "markdown",
   "metadata": {},
   "source": [
    "# OCR with Adobe Acrobat and extraction with fitz"
   ]
  },
  {
   "cell_type": "code",
   "execution_count": 3,
   "metadata": {},
   "outputs": [],
   "source": [
    "from __future__ import print_function\n",
    "from itertools import groupby\n",
    "import fitz\n",
    "import matplotlib.pyplot as plt"
   ]
  },
  {
   "cell_type": "markdown",
   "metadata": {},
   "source": [
    "### Extract text"
   ]
  },
  {
   "cell_type": "code",
   "execution_count": 4,
   "metadata": {},
   "outputs": [
    {
     "name": "stdout",
     "output_type": "stream",
     "text": [
      "Number of pages: 471\n"
     ]
    }
   ],
   "source": [
    "#open PDF which has gone through Adobe Acrobat OCR\n",
    "doc = fitz.open(\"directory_{}.pdf\".format(YEAR))\n",
    "print('Number of pages:', len(doc))"
   ]
  },
  {
   "cell_type": "code",
   "execution_count": 5,
   "metadata": {},
   "outputs": [],
   "source": [
    "def text_to_rows(text, threshold):\n",
    "    '''\n",
    "    Splits a list of into rows.\n",
    "    Inputs:\n",
    "        Text: a list of tuple containing individual words and their positions\n",
    "        Threshold: the distance between lines\n",
    "    Outputs:\n",
    "        List of list that represent rows.\n",
    "    '''\n",
    "    if text == []:\n",
    "        return []\n",
    "    text_by_row = []\n",
    "    temp = []\n",
    "    init_y = text[0][1] #y0\n",
    "    i = 0\n",
    "    while i < len(text):\n",
    "        if (text[i][1] < init_y + threshold) and (text[i][1] > init_y - threshold):\n",
    "            temp.append(text[i][4])\n",
    "        else:\n",
    "            text_by_row.append(temp)\n",
    "            temp = [text[i][4]]\n",
    "            init_y = int(text[i][1])\n",
    "        i += 1\n",
    "    text_by_row.append(temp)\n",
    "    return text_by_row"
   ]
  },
  {
   "cell_type": "code",
   "execution_count": 6,
   "metadata": {},
   "outputs": [],
   "source": [
    "def text_to_rows(text, threshold):\n",
    "    '''\n",
    "    Splits a list of into rows.\n",
    "    Inputs:\n",
    "        Text: a list of tuple containing individual words and their positions\n",
    "        Threshold: the distance between lines\n",
    "    Outputs:\n",
    "        List of list that represent rows.\n",
    "    '''\n",
    "    if text == []:\n",
    "        return []\n",
    "    row_centroids = []\n",
    "    text_by_row = []\n",
    "    for word in text:\n",
    "        i = 0\n",
    "        newline = True\n",
    "        while i < len(row_centroids):\n",
    "            if (word[1] < row_centroids[i] + threshold) and (word[1] > row_centroids[i] - threshold):\n",
    "                text_by_row[i].append(word) #text_by_row[i] += [word[4]]\n",
    "                newline = False\n",
    "                break\n",
    "            i += 1\n",
    "        if newline:\n",
    "            row_centroids.append(word[1])\n",
    "            text_by_row.append([word]) #text_by_row.append([word[4]])\n",
    "    return text_by_row"
   ]
  },
  {
   "cell_type": "markdown",
   "metadata": {},
   "source": [
    "- Extract keys"
   ]
  },
  {
   "cell_type": "code",
   "execution_count": 7,
   "metadata": {
    "jupyter": {
     "source_hidden": true
    }
   },
   "outputs": [],
   "source": [
    "abbr_keys = {}"
   ]
  },
  {
   "cell_type": "code",
   "execution_count": 8,
   "metadata": {
    "jupyter": {
     "source_hidden": true
    }
   },
   "outputs": [],
   "source": [
    "#keys for treatment\n",
    "pagen = 7\n",
    "words = doc[pagen - 1].getText(\"words\")\n",
    "words = text_to_rows(words, 5)"
   ]
  },
  {
   "cell_type": "code",
   "execution_count": 14,
   "metadata": {
    "jupyter": {
     "source_hidden": true
    }
   },
   "outputs": [],
   "source": [
    "key = 'AL'\n",
    "val = 'Alcoholism Services only'\n",
    "for line in words[6:-5]:\n",
    "    line = [word[4] for word in line]\n",
    "    i = 0\n",
    "    if line[-1][-1] != ':':\n",
    "        while i < len(line):\n",
    "            if i == len(line) - 1:\n",
    "                val += ' ' + line[i]\n",
    "                abbr_keys[key] = val\n",
    "                i += 1\n",
    "            elif line[i].isupper() and line[i+1] == '=':\n",
    "                abbr_keys[key] = val\n",
    "                key = line[i]\n",
    "                val = line[i + 2]\n",
    "                i += 3\n",
    "            else:\n",
    "                val += ' ' + line[i]\n",
    "                i += 1"
   ]
  },
  {
   "cell_type": "code",
   "execution_count": 15,
   "metadata": {
    "jupyter": {
     "source_hidden": true
    }
   },
   "outputs": [],
   "source": [
    "abbr_keys['TX'] = \"Treatment Unit\"\n",
    "abbr_keys['CI'] = \"Central Intake Unit\"\n",
    "abbr_keys['PV'] = \"Prevention Unit\"\n",
    "abbr_keys['OT'] = \"Other Unit\""
   ]
  },
  {
   "cell_type": "code",
   "execution_count": 16,
   "metadata": {
    "jupyter": {
     "source_hidden": true
    }
   },
   "outputs": [],
   "source": [
    "#keys for language\n",
    "#None"
   ]
  },
  {
   "cell_type": "code",
   "execution_count": 17,
   "metadata": {},
   "outputs": [
    {
     "data": {
      "text/plain": [
       "{'TX': 'Treatment Unit',\n",
       " 'CI': 'Central Intake Unit',\n",
       " 'PV': 'Prevention Unit',\n",
       " 'OT': 'Other Unit',\n",
       " 'AL': 'Alcoholism Services only',\n",
       " 'DA': 'Drug Abuse Services only',\n",
       " 'AD': 'Alcoholism and Drug Abuse Services',\n",
       " 'RR': 'Residential (24-hour care)',\n",
       " 'DT': 'Detoxification (24-hour care)',\n",
       " 'AM': 'Ambulatory (less than 24-hour care)',\n",
       " 'B': 'Blacks',\n",
       " 'W': 'Woman',\n",
       " 'H': 'Hispanics',\n",
       " 'PG': 'Pregnant Users',\n",
       " 'AI': 'American Indian/Alaskan Natives',\n",
       " 'CU': 'Cocaine Users',\n",
       " 'A': 'AIDS Patients',\n",
       " 'IV': 'IV Drug Users',\n",
       " 'HV': 'HIV Positives',\n",
       " 'EA': 'EAP Program Services',\n",
       " 'PI': 'Public Inebriates',\n",
       " 'DW': 'DWI/ASAP Services',\n",
       " 'Y': 'Youth TX Treatment Unit CI Central Intake Unit PV Prevention Unit',\n",
       " 'MM': 'Methadone Unit OT Other Unit'}"
      ]
     },
     "execution_count": 17,
     "metadata": {},
     "output_type": "execute_result"
    }
   ],
   "source": [
    "abbr_keys"
   ]
  },
  {
   "cell_type": "code",
   "execution_count": 18,
   "metadata": {},
   "outputs": [
    {
     "data": {
      "text/plain": [
       "24"
      ]
     },
     "execution_count": 18,
     "metadata": {},
     "output_type": "execute_result"
    }
   ],
   "source": [
    "len(abbr_keys)"
   ]
  },
  {
   "cell_type": "code",
   "execution_count": 30,
   "metadata": {},
   "outputs": [],
   "source": [
    "# add keys not included in front page but appeared elsewhere?"
   ]
  },
  {
   "cell_type": "markdown",
   "metadata": {},
   "source": [
    "- Explore text"
   ]
  },
  {
   "cell_type": "code",
   "execution_count": 19,
   "metadata": {},
   "outputs": [],
   "source": [
    "firstpagen = 16"
   ]
  },
  {
   "cell_type": "code",
   "execution_count": 20,
   "metadata": {},
   "outputs": [
    {
     "data": {
      "text/plain": [
       "<matplotlib.lines.Line2D at 0x7fc8687de510>"
      ]
     },
     "execution_count": 20,
     "metadata": {},
     "output_type": "execute_result"
    },
    {
     "data": {
      "image/png": "[encoded data removed]",
      "text/plain": [
       "<Figure size 432x288 with 1 Axes>"
      ]
     },
     "metadata": {
      "needs_background": "light"
     },
     "output_type": "display_data"
    }
   ],
   "source": [
    "# - explore the page set up - \n",
    "# select a page\n",
    "words = doc[16 - 1].getText(\"words\")\n",
    "# check the y distribution to remove top and bottom crap...\n",
    "y0s = [word[1] for word in words]\n",
    "a = plt.hist(y0s, bins = 100)\n",
    "#plt.axvline(35, color='black')\n",
    "plt.axvline(590, color='black')\n",
    "#pages with the box of keys"
   ]
  },
  {
   "cell_type": "markdown",
   "metadata": {},
   "source": [
    "- Read text from PDF"
   ]
  },
  {
   "cell_type": "code",
   "execution_count": 21,
   "metadata": {},
   "outputs": [],
   "source": [
    "def clean_text(words):\n",
    "    if [word for word in words if word[1] < 70]:\n",
    "        #find the position of the state name\n",
    "        state_pos = [word[0] for word in words if word[1] < 70][0]\n",
    "        #if state name is in the middle means there is a box of keys at the end of page\n",
    "        #cut the box with keys\n",
    "        if (state_pos > 150) and (state_pos < 350):\n",
    "            words = [word for word in words if word[1] < 590]\n",
    "    #cut state name and page number\n",
    "    return [word for word in words if (word[1] > 70 and word[1] < 700)]"
   ]
  },
  {
   "cell_type": "code",
   "execution_count": 105,
   "metadata": {},
   "outputs": [],
   "source": [
    "def split_MOUD(col_text):\n",
    "    '''\n",
    "    '''\n",
    "    list_MOUD = []\n",
    "    if not col_text:\n",
    "        return []\n",
    "    if (col_text[1][0][1] - col_text[0][0][1]) > 15: #y0 of first line first word\n",
    "        temp = [[word[4] for word in col_text[1]]]\n",
    "        i = 2\n",
    "    else:\n",
    "        temp = [[word[4] for word in col_text[0]]] \n",
    "        i = 1\n",
    "    while i < len(col_text) - 1:\n",
    "        if any(char.isdigit() or char.isalpha() for char in ''.join([word[4] for word in col_text[i]])):\n",
    "            if (col_text[i][0][1] - col_text[i-1][0][1]) < 15:\n",
    "                temp.append([word[4] for word in col_text[i]])\n",
    "            elif (col_text[i][0][1] - col_text[i-1][0][1]) > 15 and (col_text[i+1][0][1] - col_text[i][0][1]) < 15:\n",
    "                if (len(temp) > 2):\n",
    "                    list_MOUD.append(temp)\n",
    "                    temp = [[word[4] for word in col_text[i]]]\n",
    "                else:\n",
    "                    temp.append([word[4] for word in col_text[i]])\n",
    "        i += 1\n",
    "    temp.append([word[4] for word in col_text[-1]])\n",
    "    list_MOUD.append(temp)\n",
    "    return list_MOUD"
   ]
  },
  {
   "cell_type": "code",
   "execution_count": 85,
   "metadata": {},
   "outputs": [],
   "source": [
    "# col_text = get_words_in_box(doc[firstpagen-1], 199, 388)[0]\n",
    "# split_MOUD(col_text)"
   ]
  },
  {
   "cell_type": "code",
   "execution_count": 86,
   "metadata": {},
   "outputs": [],
   "source": [
    "def get_words_in_box(page, col1lim, col2lim):\n",
    "    '''\n",
    "    Extract words from each column of the PDF.\n",
    "    '''\n",
    "    thres = 4.5 #5\n",
    "    page_txt = []\n",
    "    words = page.getText(\"words\") \n",
    "    words = clean_text(words)\n",
    "    #get three columns\n",
    "    col1_txt = text_to_rows([word for word in words if word[0] < col1lim], thres)\n",
    "    page_txt.append(split_MOUD(col1_txt)) \n",
    "    col2_txt = text_to_rows([word for word in words if ((word[0] > col1lim) and (word[0] < col2lim))], thres)\n",
    "    page_txt.append(split_MOUD(col2_txt))\n",
    "    col3_txt = text_to_rows([word for word in words if word[0] > col2lim], thres)\n",
    "    page_txt.append(split_MOUD(col3_txt)) \n",
    "    return page_txt"
   ]
  },
  {
   "cell_type": "code",
   "execution_count": 25,
   "metadata": {},
   "outputs": [
    {
     "data": {
      "text/plain": [
       "<matplotlib.lines.Line2D at 0x7fc86ee799d0>"
      ]
     },
     "execution_count": 25,
     "metadata": {},
     "output_type": "execute_result"
    },
    {
     "data": {
      "image/png": "[encoded data removed]",
      "text/plain": [
       "<Figure size 432x288 with 1 Axes>"
      ]
     },
     "metadata": {
      "needs_background": "light"
     },
     "output_type": "display_data"
    }
   ],
   "source": [
    "#to find column seperation\n",
    "for pagen in range(100, 200, 2):\n",
    "    words = doc[pagen - 1].getText(\"words\")\n",
    "    words = clean_text(words)\n",
    "    x0s = [word[0] for word in words]\n",
    "    a = plt.hist(x0s, bins = 170)\n",
    "    \n",
    "plt.axvline(185, color='black')\n",
    "plt.axvline(375, color='black')"
   ]
  },
  {
   "cell_type": "code",
   "execution_count": 26,
   "metadata": {},
   "outputs": [
    {
     "data": {
      "text/plain": [
       "<matplotlib.lines.Line2D at 0x7fc8574c87d0>"
      ]
     },
     "execution_count": 26,
     "metadata": {},
     "output_type": "execute_result"
    },
    {
     "data": {
      "image/png": "[encoded data removed]",
      "text/plain": [
       "<Figure size 432x288 with 1 Axes>"
      ]
     },
     "metadata": {
      "needs_background": "light"
     },
     "output_type": "display_data"
    }
   ],
   "source": [
    "#to find column seperation\n",
    "for pagen in range(101, 200, 2):\n",
    "    words = doc[pagen - 1].getText(\"words\")\n",
    "    words = clean_text(words)\n",
    "    x0s = [word[0] for word in words]\n",
    "    a = plt.hist(x0s, bins = 150)\n",
    "    \n",
    "plt.axvline(199, color='black')\n",
    "plt.axvline(388, color='black')"
   ]
  },
  {
   "cell_type": "code",
   "execution_count": 27,
   "metadata": {},
   "outputs": [],
   "source": [
    "#testing\n",
    "#get_words_in_box(doc[firstpagen - 1], 35, 740, 217, 388)\n",
    "#page with some blanck\n",
    "#get_words_in_box(doc[24 - 1], 35, 740, 217, 388)"
   ]
  },
  {
   "cell_type": "code",
   "execution_count": 106,
   "metadata": {},
   "outputs": [],
   "source": [
    "#run\n",
    "data = []\n",
    "for pagen in range(firstpagen, len(doc) + 1):\n",
    "    if pagen%2 == 1:\n",
    "        data.append(get_words_in_box(doc[pagen-1], 199, 388))\n",
    "    else:\n",
    "        data.append(get_words_in_box(doc[pagen-1], 185, 375))"
   ]
  },
  {
   "cell_type": "code",
   "execution_count": 107,
   "metadata": {
    "jupyter": {
     "outputs_hidden": true
    }
   },
   "outputs": [
    {
     "data": {
      "text/plain": [
       "[[['SHELBY', 'MEDICAL', 'CENTER'],\n",
       "  ['RESTORE', 'PROGRAMS'],\n",
       "  ['1000', 'FIRST', 'STREET', 'NORTH'],\n",
       "  ['ALABASTER&', 'AL', '35007'],\n",
       "  ['(', '205', ')', '663-8663'],\n",
       "  ['»»', 'AO', 'DT', 'RR', '8', 'CU', 'Iy', 'EA', 'TX', 'Py', '«»'],\n",
       "  ['W']],\n",
       " [['LIGHTHOUSE', 'OF', 'TALLAPOOSA', 'COUNTY', 'INC'],\n",
       "  ['204', 'CALHOUN', 'STREET'],\n",
       "  ['ALEXANDER', 'CITY&', 'AL', '35010'],\n",
       "  ['(205', ')', '234-4894'],\n",
       "  ['«»', 'AD', 'RR', 'TX', 'OT', '»«']],\n",
       " [['PARKSIDE', 'RECOVERY', 'CENTER', 'AT'],\n",
       "  ['RUSSELL', 'HOSPITAL'],\n",
       "  ['609', 'HIGHWAY', '22', 'WEST'],\n",
       "  ['ALEXANDER', 'CITY&', 'AL', '35010'],\n",
       "  ['(', '205', ')', 'Iy'],\n",
       "  ['329-7391'],\n",
       "  ['»«', 'AD', 'DT', 'AM', 'W', 'A', '8', 'H', 'AI', 'Hy', 'PI', 'CU', '»«'],\n",
       "  ['«»', 'TX', 'CI', 'Py', '«»']],\n",
       " [['AGENCY', 'FOR', 'SUBSTANCE', 'ABUSE', 'PREY', 'OF'],\n",
       "  ['CALHOUN', 'AND', 'CLEBURNE', 'COUNTIES'],\n",
       "  ['1302', 'NOBLE', 'STREET'],\n",
       "  ['ANNISTON,', 'AL', '36201'],\n",
       "  ['(', '205', ')'],\n",
       "  ['237-8131'],\n",
       "  ['»»', 'AD', 'EA', 'Py', '««']],\n",
       " [['ANNISTON', 'FELLOWSHIP', 'HOUSE', 'INC'],\n",
       "  ['1219', 'LEIGHTON', 'AVENUE'],\n",
       "  ['ANNISTON&', 'AL', '36201'],\n",
       "  ['(', '205', ')', '236-7229'],\n",
       "  ['»»', 'AD', 'RR', 'TX', 'CI', 'Py', '««']],\n",
       " [['CALHOUN/CLEBURNE', 'MENTAL', 'HEALTH', 'CENTER'],\n",
       "  ['NEW', 'DIRECTIONS'],\n",
       "  ['331', 'EAST', '8TH', 'AVENUE'],\n",
       "  ['ANNISTON&', 'AL', '36202'],\n",
       "  ['(', '205', ')', '236-3403'],\n",
       "  ['»«', 'AD', 'AM', 'W', 'TX', 'Py', '»«']],\n",
       " [['NORTHEAST', 'ALABAMA'],\n",
       "  ['REGIONAL', 'MEDICAL', 'CENTER'],\n",
       "  ['400', 'EAST', '10TH', 'STREET'],\n",
       "  ['ANNISTON&', 'AL', '36201'],\n",
       "  ['(', '205', ')', '235-5121'],\n",
       "  ['«»', 'AD', 'DT', 'RR', 'Iy', 'TX', 'Py', '»»']]]"
      ]
     },
     "execution_count": 107,
     "metadata": {},
     "output_type": "execute_result"
    }
   ],
   "source": [
    "data[0][0]"
   ]
  },
  {
   "cell_type": "code",
   "execution_count": 108,
   "metadata": {
    "jupyter": {
     "outputs_hidden": true
    }
   },
   "outputs": [
    {
     "data": {
      "text/plain": [
       "[[['PROSPECT', 'HOUSE', 'INC'],\n",
       "  ['OUTPATIENT', 'SUBSTANCE', 'ABUSE', 'SERVICES'],\n",
       "  ['110', 'LANCASTER', 'STREET'],\n",
       "  ['WORCESTER&', 'MA', '01609'],\n",
       "  ['(', '508)', '799-0702'],\n",
       "  ['»»', 'AD', 'Y', 'A', 'B', 'AI', 'CU', 'IV', 'PG', '«»'],\n",
       "  ['AM', 'W', 'H', 'HV', '«»'],\n",
       "  ['TX', 'CI', 'Py', '«»']],\n",
       " [['PROSPECT', 'HOUSE', 'INC'],\n",
       "  ['STRAIGHT', 'TALK/YOUTH', 'INTERVENTION'],\n",
       "  ['110', 'LANCASTER', 'STREET'],\n",
       "  ['WORCESTER&', 'MA', '01609'],\n",
       "  ['(', '508', ')', '799-0702'],\n",
       "  ['«»', 'AD', 'Py', '«»']],\n",
       " [['SAINT', 'VINCENTS', 'HOSPITAL'],\n",
       "  ['DEPT', 'OF', 'ALCOHOL', 'AND', 'DRUG', 'SERVICES/Op'],\n",
       "  ['25', 'WINTHROP', 'STREET'],\n",
       "  ['WORCESTER&', 'MA', '01604'],\n",
       "  ['(', '508', ')', '798-6107', 'EXT.', '6108'],\n",
       "  ['»»', 'AD', 'AM', 'Y', 'A', 'HV', 'CU', 'IV', 'PG', 'EA', '««'],\n",
       "  ['W', 'DW'],\n",
       "  ['TX']],\n",
       " [['SPECTRUM', 'ADDICTION', 'SERVICES', 'INC'],\n",
       "  ['DETOXIFICATION', 'CENTER'],\n",
       "  ['305', 'BELMONT', 'STREET'],\n",
       "  ['BRYAN', 'BUILDING', 'WARD', '2E'],\n",
       "  ['WORCESTER&', 'MA', '01604'],\n",
       "  ['(508', ')', '757-8827'],\n",
       "  ['«»', 'DA', 'DT', 'A', 'HV', 'CU', 'IV', 'TX', '««'],\n",
       "  ['H', 'MM']],\n",
       " [['SPECTRUM', 'ADDICTION', 'SERVICES', 'INC'],\n",
       "  ['METHADONE', 'SERVICES'],\n",
       "  ['105', 'MERRICK', 'STREET'],\n",
       "  ['WORCESTER&', 'MA', '01609'],\n",
       "  ['(', '508', ')', '799-2753'],\n",
       "  ['»»', 'DA', 'AM', 'A', 'HV', 'IV', 'PG', 'TX', 'CI', 'PV', '««'],\n",
       "  ['W', 'H'],\n",
       "  ['OT']],\n",
       " [['SPECTRUM', 'ADDICTION', 'SERVICES', 'INC'],\n",
       "  ['OUTPATIENT', 'SERVICES'],\n",
       "  ['105', 'ME', 'R', 'RICK', 'STREET'],\n",
       "  ['WORCESTER&', 'MA', '01609'],\n",
       "  ['(508', ')', '799-2753'],\n",
       "  ['»«', 'AD', 'AM', 'A', 'HV', 'IV', 'PG', 'TX', 'CI', 'PV', '»»'],\n",
       "  ['W', 'H'],\n",
       "  ['OT']],\n",
       " [['THE', 'LINCOLN', 'GROUP', 'INC'],\n",
       "  ['65', 'JAMES', 'STREET'],\n",
       "  ['WORCESTER&', 'MA', '01603'],\n",
       "  ['(', '508', ')', '757-4001'],\n",
       "  ['»»AD', 'AMW', 'Y', 'PI', 'CUEA', 'TXCI']],\n",
       " [['WORCESTER', 'CITY', 'HOSPITAL'],\n",
       "  ['DETOXIFICATION', 'UNIT'],\n",
       "  ['26', 'QUEEN', 'STREET'],\n",
       "  ['WORCESTER&', 'MA', '01610'],\n",
       "  ['(508)', '799-8332'],\n",
       "  ['»«', 'AD', 'DT', 'RR', 'A', 'HV', 'PI', 'IV', 'PG', 'TX', '«»'],\n",
       "  ['W']],\n",
       " [['WORCESTER', 'CITY', 'HOSPITAL'],\n",
       "  ['TRANSITIONAL', 'CARE', 'FACILITY', 'DETOX', 'UNIT'],\n",
       "  ['26', 'QUEEN', 'STREET'],\n",
       "  ['WORCESTER&', 'MA', '01610'],\n",
       "  ['(508', ')', '799-8332'],\n",
       "  ['«»', 'AD', 'RR', 'A', 'HV', 'PI', 'CU', 'IV', 'PG', 'TX', '««'],\n",
       "  ['W']]]"
      ]
     },
     "execution_count": 108,
     "metadata": {},
     "output_type": "execute_result"
    }
   ],
   "source": [
    "data[200][2] "
   ]
  },
  {
   "cell_type": "markdown",
   "metadata": {},
   "source": [
    "# Write data into csv"
   ]
  },
  {
   "cell_type": "markdown",
   "metadata": {},
   "source": [
    "### Checking + cleaning each part of data"
   ]
  },
  {
   "cell_type": "markdown",
   "metadata": {},
   "source": [
    "- keys"
   ]
  },
  {
   "cell_type": "code",
   "execution_count": 112,
   "metadata": {
    "jupyter": {
     "source_hidden": true
    }
   },
   "outputs": [],
   "source": [
    "def clean_keys(line):\n",
    "    line = [key.replace('»', '').replace('«', '').replace('8', 'B').replace('y', 'V')\\\n",
    "            .replace('AO', 'AD').replace('AN', 'AM').replace('w', 'W') for key in line]\n",
    "    line = [key for key in line if key.strip() != '']\n",
    "    line = [key.replace('OT', 'DT') for key in line[:-1]] + [line[-1]]\n",
    "    return line"
   ]
  },
  {
   "cell_type": "code",
   "execution_count": 61,
   "metadata": {
    "jupyter": {
     "source_hidden": true
    }
   },
   "outputs": [],
   "source": [
    "def check_keys_warning(line):\n",
    "    print(\"Please check:\", line)\n",
    "    for key in line:\n",
    "        if key not in abbr_keys:\n",
    "            print(key, 'not in abbr_keys')\n",
    "\n",
    "def is_keys(line):\n",
    "    '''\n",
    "    Check if the line (list of list) is a list of keys\n",
    "    '''\n",
    "    if sum([len(key) for key in line])/len(line) > 2: #average length of word\n",
    "        return False\n",
    "    line = clean_keys(line)\n",
    "    if not any(x not in abbr_keys for x in line):\n",
    "        return True\n",
    "    if line[0] in abbr_keys:\n",
    "        if (len(line) > 2 and line[1] in abbr_keys) or (len(line) > 3 and line[2] in abbr_keys):\n",
    "            check_keys_warning(line)\n",
    "    elif len(line) > 2 and line[1] in abbr_keys:\n",
    "        check_keys_warning(line)\n",
    "    return False"
   ]
  },
  {
   "cell_type": "code",
   "execution_count": 62,
   "metadata": {
    "jupyter": {
     "source_hidden": true
    }
   },
   "outputs": [],
   "source": [
    "# sample_keys = (['»»', 'AO', 'DT', 'RR', '8', 'CU', 'Iy', 'EA', 'TX', 'Py', '«»'],\n",
    "#                ['»«', 'AD', 'AM', 'W', 'TX', 'Py', '»«'],\n",
    "#                ['««', 'DA', 'RR', 'AN', 'Y', 'A', '8', 'H', 'AI', 'HV', 'IV', 'TX', '»»'],\n",
    "#               ['W'])\n",
    "# for keys in sample_keys:\n",
    "#     print(is_keys(keys))"
   ]
  },
  {
   "cell_type": "markdown",
   "metadata": {},
   "source": [
    "- city, state, zip"
   ]
  },
  {
   "cell_type": "code",
   "execution_count": 63,
   "metadata": {
    "jupyter": {
     "source_hidden": true
    }
   },
   "outputs": [],
   "source": [
    "def is_citystatezip(line):\n",
    "    if line[-1].isnumeric() and len(line[-1]) == 5 and line[-2].isupper() and len(line[-2]) == 2:\n",
    "        return True\n",
    "    return False\n",
    "\n",
    "def clean_citystatezip(line):\n",
    "    line = [word for word in line if word != 'I']\n",
    "    return [' '.join(line[:-2]).replace('&', ''), line[-2], line[-1]]"
   ]
  },
  {
   "cell_type": "code",
   "execution_count": 64,
   "metadata": {
    "jupyter": {
     "source_hidden": true
    }
   },
   "outputs": [],
   "source": [
    "# sample_states = [['NAPA&', 'CA', '94558'], \n",
    "#                  ['NAPA', 'I', 'CA', '94558'], \n",
    "#                 ['BAY', 'PINES&', 'FL', '33504'],\n",
    "#                 ['BELLE', 'GLADE', 'FL', '33430']]\n",
    "# for line in sample_states:\n",
    "#     print(is_citystatezip(line))\n",
    "#     print(clean_citystatezip(line))"
   ]
  },
  {
   "cell_type": "markdown",
   "metadata": {},
   "source": [
    "- Contact"
   ]
  },
  {
   "cell_type": "code",
   "execution_count": 99,
   "metadata": {},
   "outputs": [],
   "source": [
    "def is_contact(line):\n",
    "    if re.match(r'(.*)\\([0-9]{3}\\)', ''.join(line)):\n",
    "        return True\n",
    "    if re.match(r'(.*)[0-9]{3}-[0-9]{4}', ''.join(line)):\n",
    "        return True\n",
    "    return False\n",
    "\n",
    "def clean_contact(line):\n",
    "    if re.match(r'(.*)\\([0-9]{3}\\)', ''.join(line)):\n",
    "        return ''.join(line).replace('&', '')\n",
    "    return ' '.join(line).replace('&', '')"
   ]
  },
  {
   "cell_type": "code",
   "execution_count": 101,
   "metadata": {},
   "outputs": [],
   "source": [
    "# sample_contacts = [['(', '813', ')', '533-4139'],\n",
    "#                   ['&', '(407)', '844-6400'],\n",
    "#                   ['(', '508)', '799-0702'],\n",
    "#                   ['&', '205', '438-4684']]\n",
    "# for contact in sample_contacts:\n",
    "#     print(is_contact(contact))\n",
    "#     print(clean_contact(contact))"
   ]
  },
  {
   "cell_type": "markdown",
   "metadata": {},
   "source": [
    "- Address"
   ]
  },
  {
   "cell_type": "code",
   "execution_count": 67,
   "metadata": {
    "jupyter": {
     "source_hidden": true
    }
   },
   "outputs": [],
   "source": [
    "address_indicators = ['ROAD', 'HIGHWAY', 'ROUTE', 'BUILDING', 'STREET', 'AVENUE', 'SUITE', 'SUITES', 'DRIVE', \\\n",
    "                      'BOULEVARD', 'ANNEX', 'STREETS', 'FLOOR', 'REAR', 'ROOM', 'BASEMENT'] ##\n",
    "name_indicators = ['CLINIC', 'MEDICAL', 'INC', 'HEALTH', 'SERVICES', 'TREATMENT']\n",
    "\n",
    "def is_address(line):\n",
    "    if (not line[0].replace('-', '').isnumeric()) and any(x in line for x in name_indicators):\n",
    "        return False\n",
    "    if line[0].replace('-', '').isnumeric() or any(x in line for x in address_indicators):\n",
    "        return True\n",
    "    return False"
   ]
  },
  {
   "cell_type": "code",
   "execution_count": 68,
   "metadata": {
    "jupyter": {
     "source_hidden": true
    }
   },
   "outputs": [
    {
     "name": "stdout",
     "output_type": "stream",
     "text": [
      "True\n"
     ]
    }
   ],
   "source": [
    "sample_add = [['26', 'QUEEN', 'STREET']]\n",
    "for add in sample_add:\n",
    "    print(is_address(add))"
   ]
  },
  {
   "cell_type": "markdown",
   "metadata": {},
   "source": [
    "- Write data"
   ]
  },
  {
   "cell_type": "code",
   "execution_count": 113,
   "metadata": {
    "jupyter": {
     "source_hidden": true
    }
   },
   "outputs": [],
   "source": [
    "def clean_col_data(col_text_splitted):\n",
    "    '''\n",
    "    Splits data into list of lists with\n",
    "    name1, name2, address1, address2, city, state, zip, phone, keys\n",
    "    '''\n",
    "    data_holders = []\n",
    "    for facil in col_text_splitted:\n",
    "        if len(facil) < 2:\n",
    "            print(facil)\n",
    "        if len(facil) > 2:\n",
    "            data_holder = []\n",
    "            i = 0 #indicator of next line\n",
    "            #name1\n",
    "            data_holder.append(' '.join(facil[0])) \n",
    "            i += 1\n",
    "            #name2\n",
    "            if not is_address(facil[i]) and not is_citystatezip(facil[i]) and not is_contact(facil[i]): \n",
    "                data_holder.append(' '.join(facil[i])) \n",
    "                i += 1\n",
    "            else:\n",
    "                data_holder.append('') \n",
    "            #name3\n",
    "            if not is_address(facil[i]) and not is_citystatezip(facil[i]) and not is_contact(facil[i]): \n",
    "                data_holder.append(' '.join(facil[i])) \n",
    "                i += 1\n",
    "            else:\n",
    "                data_holder.append('')         \n",
    "            #address1\n",
    "            if is_address(facil[i]) and not is_citystatezip(facil[i]):\n",
    "                data_holder.append(' '.join(facil[i])) \n",
    "                i += 1\n",
    "            else:\n",
    "                data_holder.append('')\n",
    "            #address2\n",
    "            if not is_citystatezip(facil[i]) and not is_contact(facil[i]) and not is_keys(facil[i]):##\n",
    "                data_holder.append(' '.join(facil[i])) \n",
    "                i += 1\n",
    "            else:\n",
    "                data_holder.append('')\n",
    "            #address3\n",
    "            if is_address(facil[i]) and not is_citystatezip(facil[i]):\n",
    "                data_holder.append(' '.join(facil[i])) \n",
    "                i += 1\n",
    "            else:\n",
    "                data_holder.append('')\n",
    "            #city, state, zip\n",
    "            data_holder += clean_citystatezip(facil[i])\n",
    "            i += 1\n",
    "            #contact\n",
    "            if is_contact(facil[i]):\n",
    "                data_holder.append(clean_contact(facil[i]))\n",
    "                i += 1\n",
    "                while i < len(facil):\n",
    "                    if is_contact(facil[i]):\n",
    "                        data_holder[-1] += ' ' + clean_contact(facil[i])\n",
    "                        i += 1\n",
    "                    else:\n",
    "                        break\n",
    "            else:\n",
    "                data_holder.append('')\n",
    "#             #website\n",
    "#             if facil[i][0].split('.')[-1] == 'org' or facil[i][0].split('.')[0] == 'www' or facil[i][0].split('.')[-1] == 'com':\n",
    "#                 data_holder.append(' '.join(facil[i]))\n",
    "#                 i += 1\n",
    "#             else:\n",
    "#                 data_holder.append('')\n",
    "#             #note\n",
    "#             if not is_keys(facil[i]):\n",
    "#                 data_holder.append(' '.join(facil[i]))\n",
    "#                 i += 1\n",
    "#             else:\n",
    "#                 data_holder.append('')\n",
    "            #keys\n",
    "            data_holder.append('')\n",
    "            for keys in facil[i:]:\n",
    "                data_holder[-1] += '/'.join(clean_keys(keys)) + '/'\n",
    "            data_holders.append(data_holder)\n",
    "            print(\".\", end = '') #for each MOUD\n",
    "    return data_holders"
   ]
  },
  {
   "cell_type": "code",
   "execution_count": 114,
   "metadata": {},
   "outputs": [],
   "source": [
    "filename = \"{}.csv\".format(YEAR)\n",
    "with open(filename, 'w', newline = '') as file:\n",
    "    writer = csv.writer(file)\n",
    "    writer.writerow([\"Name1\", \"Name2\", 'Name3', \"Address1\", \"Address2\", \"Address3\", \"City\", \"State\", \"ZIP_Code\", \"Contact\", \"Website\", \"Note\", \"Keys\"])"
   ]
  },
  {
   "cell_type": "code",
   "execution_count": 115,
   "metadata": {},
   "outputs": [
    {
     "name": "stdout",
     "output_type": "stream",
     "text": [
      "Page: 15.......fin........fin.......fin\n",
      "Page: 16.......fin.........fin.........fin\n",
      "Page: 17..........fin.......fin.....fin\n",
      "Page: 18.......fin........fin.......fin\n",
      "Page: 19........fin.........fin........fin\n"
     ]
    }
   ],
   "source": [
    "pagen = 15\n",
    "\n",
    "for page in data[0:5]:\n",
    "    print(\"Page:\", pagen, end = '')\n",
    "    page_data_holders = []\n",
    "    for col in page:\n",
    "        page_data_holders = clean_col_data(col)\n",
    "        with open(filename, 'a', newline = '') as file:\n",
    "            writer = csv.writer(file)\n",
    "            writer.writerows(page_data_holders)\n",
    "        print('fin', end = '')\n",
    "    pagen += 1\n",
    "    print('')"
   ]
  },
  {
   "cell_type": "code",
   "execution_count": 109,
   "metadata": {},
   "outputs": [
    {
     "data": {
      "text/plain": [
       "[[['LAKESIDE', 'RECOVERY', 'CTR', 'INC/FAIRBANKS'],\n",
       "  ['1001', 'NOBLE', 'STREET'],\n",
       "  ['SUITE', '240'],\n",
       "  ['FAIRBANKS&', 'AK', '99701'],\n",
       "  ['(', '907)', '456-4526', 'PV«»'],\n",
       "  ['»«AD', 'AMW', 'Y', 'AI', 'CUTXCI']],\n",
       " [['SALVATION', 'ARMY'],\n",
       "  ['DRUG', 'ABUSE', 'TREATMENT', 'PROGRAM'],\n",
       "  ['117', 'FIRST', 'AVENUE'],\n",
       "  ['FAIRBANKS&', 'AK', '99707'],\n",
       "  ['I907)', '452-5005'],\n",
       "  ['»»', 'AD', 'AM', 'A', 'AI', 'HV', 'IV', 'TX', 'MM', '»»']],\n",
       " [['TANANA', 'CHIEFS', 'CONFERENCE', 'INC'],\n",
       "  ['1302', '21ST', 'AVENUE'],\n",
       "  ['I', 'AIRBANKS', '&', 'AK', '907)', '452-2446'],\n",
       "  ['99701'],\n",
       "  ['»»', 'AO', 'AM', 'AI', 'TX', 'PV', 'OT', '«»']],\n",
       " [['FORT', 'WAINWRIGHT', 'ALCOHOL', 'AND'],\n",
       "  ['DRUG', 'ABUSE', 'PREY', 'CONTROL', 'PROG', '(ADAPCP', ')'],\n",
       "  ['APVR/FW/PA/ADA'],\n",
       "  ['BUILDING', '3401'],\n",
       "  ['FORT', 'WAINWRIGHT&', 'AK', '99703'],\n",
       "  ['(907)', '353-7203'],\n",
       "  ['»»', 'AD', 'DT', 'AM', 'EA', 'DW', 'TX', 'CI', 'PV»«']],\n",
       " [['TANANA', 'CHIEFS', 'CONFERENCE', 'INC'],\n",
       "  ['YUKON', 'FLATS', 'CARE'],\n",
       "  ['FORT', 'YUKON&', 'AK', '99740'],\n",
       "  ['(907)', '662-2526'],\n",
       "  ['»«AD', 'RR', 'AI', 'TX', 'CI', 'PV»»']],\n",
       " [['YUKON', 'KOYUKUK', 'MENTAL', 'HEALTH', 'PROGRAM'],\n",
       "  ['ALCOHOL', 'AND', 'DRUG', 'ABUSE', 'SERVICES'],\n",
       "  ['GALENA&', 'AK', '99741', '(907)', '656-1617'],\n",
       "  ['»»', 'AD', 'Y', '8', 'AI', 'PI', 'CU', 'PG', 'EA', 'DW', '»«'],\n",
       "  ['AM', 'W', 'H', 'PV»«'],\n",
       "  ['»»', 'TX', 'CI']],\n",
       " [['CITY', 'AND', 'BOROUGH', 'OF', 'JUNEAU'],\n",
       "  ['HEALTH', 'AND', 'SOCIAL', 'SERVS', 'CHEM', 'DEP', 'DIV'],\n",
       "  ['3406', 'GLACIER', 'HIGHWAY'],\n",
       "  ['JUNEAU&', 'AK', '99801'],\n",
       "  ['907)', '463\"3008'],\n",
       "  ['««AD', 'DT', 'RR', 'AI', 'HV', 'PI', 'IV', 'DW', 'TX', 'CI']],\n",
       " [['GASTINEAU', 'MANOR', 'RECOVERY', 'HOME'],\n",
       "  ['5597', 'AISEK', 'STREET'],\n",
       "  ['JUNEAU&', 'AK', '99801'],\n",
       "  ['I907)', '780-4338'],\n",
       "  ['»»', 'AD', 'RR', 'AI', 'PI', 'TX', '»»'],\n",
       "  ['W']],\n",
       " [['LAKESIDE', 'RECOVERY', 'CTR', 'INC/JUNEAU'],\n",
       "  ['3412', 'GLACIER', 'HIGHWAY'],\n",
       "  ['JUNEAU&', 'AK', '99802'],\n",
       "  ['I907)', '780-4948'],\n",
       "  ['»»', 'AD', 'AM', 'Y', 'A', '8', 'H', 'AI', 'HV', 'CU', 'PG', 'EA', '»«'],\n",
       "  ['W', '««', '«»'],\n",
       "  ['DW', 'TX']]]"
      ]
     },
     "execution_count": 109,
     "metadata": {},
     "output_type": "execute_result"
    }
   ],
   "source": [
    "# #check error data\n",
    "data[19-15][2-1]"
   ]
  },
  {
   "cell_type": "markdown",
   "metadata": {},
   "source": [
    "- Rewrite data in problem pages"
   ]
  },
  {
   "cell_type": "code",
   "execution_count": 46,
   "metadata": {},
   "outputs": [],
   "source": [
    "# ^^"
   ]
  },
  {
   "cell_type": "markdown",
   "metadata": {},
   "source": [
    "# Clean final data\n",
    "- Replaced \"A venue\" with \"A venue\" in Address1\n",
    "- Split ZIP code into two if in the format \"35294-0018\"\n",
    "- To-do:\n",
    "    - Clean up the wrong letters/numbers in address"
   ]
  },
  {
   "cell_type": "code",
   "execution_count": 47,
   "metadata": {},
   "outputs": [],
   "source": [
    "import pandas as pd"
   ]
  },
  {
   "cell_type": "code",
   "execution_count": 48,
   "metadata": {},
   "outputs": [
    {
     "data": {
      "text/html": [
       "<div>\n",
       "<style scoped>\n",
       "    .dataframe tbody tr th:only-of-type {\n",
       "        vertical-align: middle;\n",
       "    }\n",
       "\n",
       "    .dataframe tbody tr th {\n",
       "        vertical-align: top;\n",
       "    }\n",
       "\n",
       "    .dataframe thead th {\n",
       "        text-align: right;\n",
       "    }\n",
       "</style>\n",
       "<table border=\"1\" class=\"dataframe\">\n",
       "  <thead>\n",
       "    <tr style=\"text-align: right;\">\n",
       "      <th></th>\n",
       "      <th>Name1</th>\n",
       "      <th>Name2</th>\n",
       "      <th>Name3</th>\n",
       "      <th>Address1</th>\n",
       "      <th>Address2</th>\n",
       "      <th>Address3</th>\n",
       "      <th>City</th>\n",
       "      <th>State</th>\n",
       "      <th>ZIP_Code</th>\n",
       "      <th>Contact</th>\n",
       "      <th>Website</th>\n",
       "      <th>Note</th>\n",
       "      <th>Keys</th>\n",
       "    </tr>\n",
       "  </thead>\n",
       "  <tbody>\n",
       "    <tr>\n",
       "      <th>0</th>\n",
       "      <td>Lighthouse of Tallapoosa County Inc</td>\n",
       "      <td>Substance Abuse Rehab Program/Resid</td>\n",
       "      <td>NaN</td>\n",
       "      <td>36 Franklin Street</td>\n",
       "      <td>NaN</td>\n",
       "      <td>NaN</td>\n",
       "      <td>Alexander City</td>\n",
       "      <td>AL</td>\n",
       "      <td>35010</td>\n",
       "      <td>(256)234-4894</td>\n",
       "      <td>NaN</td>\n",
       "      <td>NaN</td>\n",
       "      <td>SA/TX/HH/RL/CO/MN/SF/</td>\n",
       "    </tr>\n",
       "    <tr>\n",
       "      <th>1</th>\n",
       "      <td>Anniston Fellowship House Inc</td>\n",
       "      <td>NaN</td>\n",
       "      <td>NaN</td>\n",
       "      <td>106 East 22nd Street</td>\n",
       "      <td>NaN</td>\n",
       "      <td>NaN</td>\n",
       "      <td>Anniston</td>\n",
       "      <td>AL</td>\n",
       "      <td>36201</td>\n",
       "      <td>(256)236-7229</td>\n",
       "      <td>NaN</td>\n",
       "      <td>NaN</td>\n",
       "      <td>SA/TX/HH/RL/SF/</td>\n",
       "    </tr>\n",
       "    <tr>\n",
       "      <th>2</th>\n",
       "      <td>Calhoun Cleburne Mental Health Center</td>\n",
       "      <td>New Directions</td>\n",
       "      <td>NaN</td>\n",
       "      <td>407 Noble Street</td>\n",
       "      <td>NaN</td>\n",
       "      <td>NaN</td>\n",
       "      <td>Anniston</td>\n",
       "      <td>AL</td>\n",
       "      <td>36201</td>\n",
       "      <td>(256)236-8003 Hotlines: (256)236-8003 (256)236...</td>\n",
       "      <td>NaN</td>\n",
       "      <td>NaN</td>\n",
       "      <td>SA/TX/OP/AD/CO/DU/SF/MD/SI/PI/MI/SS/</td>\n",
       "    </tr>\n",
       "    <tr>\n",
       "      <th>3</th>\n",
       "      <td>Bridge Inc</td>\n",
       "      <td>Recovery Center for Teens/Ashville</td>\n",
       "      <td>NaN</td>\n",
       "      <td>474 10th Street</td>\n",
       "      <td>NaN</td>\n",
       "      <td>NaN</td>\n",
       "      <td>Ashville</td>\n",
       "      <td>AL</td>\n",
       "      <td>35953</td>\n",
       "      <td>(205)594-3111</td>\n",
       "      <td>www.bridgeinc.org</td>\n",
       "      <td>NaN</td>\n",
       "      <td>SA/TX/OP/AD/SF/MD/SI/PI/MI/PA/AH/</td>\n",
       "    </tr>\n",
       "    <tr>\n",
       "      <th>4</th>\n",
       "      <td>Northwest Alabama Treatment Center</td>\n",
       "      <td>NaN</td>\n",
       "      <td>NaN</td>\n",
       "      <td>4204 Edmonton Drive</td>\n",
       "      <td>NaN</td>\n",
       "      <td>NaN</td>\n",
       "      <td>Bessemer</td>\n",
       "      <td>AL</td>\n",
       "      <td>35022</td>\n",
       "      <td>(205)425-1200 Hotline: (205)805-3381</td>\n",
       "      <td>NaN</td>\n",
       "      <td>Methadone Clients Only</td>\n",
       "      <td>SA/TX/DT/MM/DM/OP/CO/HV/PW/WN/BC/SF/PI/AH/</td>\n",
       "    </tr>\n",
       "    <tr>\n",
       "      <th>...</th>\n",
       "      <td>...</td>\n",
       "      <td>...</td>\n",
       "      <td>...</td>\n",
       "      <td>...</td>\n",
       "      <td>...</td>\n",
       "      <td>...</td>\n",
       "      <td>...</td>\n",
       "      <td>...</td>\n",
       "      <td>...</td>\n",
       "      <td>...</td>\n",
       "      <td>...</td>\n",
       "      <td>...</td>\n",
       "      <td>...</td>\n",
       "    </tr>\n",
       "    <tr>\n",
       "      <th>11055</th>\n",
       "      <td>Wyoming Substance Abuse Treatment and</td>\n",
       "      <td>Recovery Centers (WYSTAR)</td>\n",
       "      <td>NaN</td>\n",
       "      <td>1003 Saberton Street</td>\n",
       "      <td>NaN</td>\n",
       "      <td>NaN</td>\n",
       "      <td>Sheridan</td>\n",
       "      <td>WY</td>\n",
       "      <td>82801</td>\n",
       "      <td>(307)672-2044</td>\n",
       "      <td>www.wystarrecovery.com</td>\n",
       "      <td>NaN</td>\n",
       "      <td>SA/TX/HH/RL/OP/PH/PW/WN/BC/SF/SI/PI/MI/SS/</td>\n",
       "    </tr>\n",
       "    <tr>\n",
       "      <th>11056</th>\n",
       "      <td>Wyoming Substance Abuse Treatment and</td>\n",
       "      <td>Recovery Centers (WYSTAR)</td>\n",
       "      <td>NaN</td>\n",
       "      <td>1898 Fort Road</td>\n",
       "      <td>Building 64</td>\n",
       "      <td>NaN</td>\n",
       "      <td>Sheridan</td>\n",
       "      <td>WY</td>\n",
       "      <td>82801</td>\n",
       "      <td>(307)673-2510 Intake: (307)672-2044</td>\n",
       "      <td>www.wystarrecovery.com</td>\n",
       "      <td>NaN</td>\n",
       "      <td>SA/TX/RL/OP/CO/HV/GL/SE/MN/CJ/SF/PI/MI/SS/AH/</td>\n",
       "    </tr>\n",
       "    <tr>\n",
       "      <th>11057</th>\n",
       "      <td>Hot Springs County Counseling Service</td>\n",
       "      <td>NaN</td>\n",
       "      <td>NaN</td>\n",
       "      <td>121 South 4th Street</td>\n",
       "      <td>NaN</td>\n",
       "      <td>NaN</td>\n",
       "      <td>Thermopolis</td>\n",
       "      <td>WY</td>\n",
       "      <td>82443</td>\n",
       "      <td>(307)864-3138 Intake: (307)864-2247</td>\n",
       "      <td>NaN</td>\n",
       "      <td>NaN</td>\n",
       "      <td>MH/TX/OP/DU/SF/MD/SI/PI/MI/SS/PA/</td>\n",
       "    </tr>\n",
       "    <tr>\n",
       "      <th>11058</th>\n",
       "      <td>Peak Wellness Center</td>\n",
       "      <td>Substance Abuse Services</td>\n",
       "      <td>NaN</td>\n",
       "      <td>103 Park Avenue</td>\n",
       "      <td>NaN</td>\n",
       "      <td>NaN</td>\n",
       "      <td>Wheatland</td>\n",
       "      <td>WY</td>\n",
       "      <td>82201</td>\n",
       "      <td>(307)322-3190</td>\n",
       "      <td>www.sewmhc.org/programstaps.htm</td>\n",
       "      <td>NaN</td>\n",
       "      <td>MH/TX/OP/AD/CO/DU/SF/MD/MC/SI/PI/MI/</td>\n",
       "    </tr>\n",
       "    <tr>\n",
       "      <th>11059</th>\n",
       "      <td>Washakie Mental Health Services</td>\n",
       "      <td>NaN</td>\n",
       "      <td>NaN</td>\n",
       "      <td>206 South 7th Street</td>\n",
       "      <td>NaN</td>\n",
       "      <td>NaN</td>\n",
       "      <td>Worland</td>\n",
       "      <td>WY</td>\n",
       "      <td>82401</td>\n",
       "      <td>(307)347-6165</td>\n",
       "      <td>NaN</td>\n",
       "      <td>NaN</td>\n",
       "      <td>MH-SA/TX/OP/DU/SF/MD/SI/PI/MI/SS/</td>\n",
       "    </tr>\n",
       "  </tbody>\n",
       "</table>\n",
       "<p>11060 rows × 13 columns</p>\n",
       "</div>"
      ],
      "text/plain": [
       "                                       Name1  \\\n",
       "0        Lighthouse of Tallapoosa County Inc   \n",
       "1              Anniston Fellowship House Inc   \n",
       "2      Calhoun Cleburne Mental Health Center   \n",
       "3                                 Bridge Inc   \n",
       "4         Northwest Alabama Treatment Center   \n",
       "...                                      ...   \n",
       "11055  Wyoming Substance Abuse Treatment and   \n",
       "11056  Wyoming Substance Abuse Treatment and   \n",
       "11057  Hot Springs County Counseling Service   \n",
       "11058                   Peak Wellness Center   \n",
       "11059        Washakie Mental Health Services   \n",
       "\n",
       "                                     Name2 Name3              Address1  \\\n",
       "0      Substance Abuse Rehab Program/Resid   NaN    36 Franklin Street   \n",
       "1                                      NaN   NaN  106 East 22nd Street   \n",
       "2                           New Directions   NaN      407 Noble Street   \n",
       "3       Recovery Center for Teens/Ashville   NaN       474 10th Street   \n",
       "4                                      NaN   NaN   4204 Edmonton Drive   \n",
       "...                                    ...   ...                   ...   \n",
       "11055            Recovery Centers (WYSTAR)   NaN  1003 Saberton Street   \n",
       "11056            Recovery Centers (WYSTAR)   NaN        1898 Fort Road   \n",
       "11057                                  NaN   NaN  121 South 4th Street   \n",
       "11058             Substance Abuse Services   NaN       103 Park Avenue   \n",
       "11059                                  NaN   NaN  206 South 7th Street   \n",
       "\n",
       "          Address2 Address3            City State  ZIP_Code  \\\n",
       "0              NaN      NaN  Alexander City    AL     35010   \n",
       "1              NaN      NaN        Anniston    AL     36201   \n",
       "2              NaN      NaN        Anniston    AL     36201   \n",
       "3              NaN      NaN        Ashville    AL     35953   \n",
       "4              NaN      NaN        Bessemer    AL     35022   \n",
       "...            ...      ...             ...   ...       ...   \n",
       "11055          NaN      NaN        Sheridan    WY     82801   \n",
       "11056  Building 64      NaN        Sheridan    WY     82801   \n",
       "11057          NaN      NaN     Thermopolis    WY     82443   \n",
       "11058          NaN      NaN       Wheatland    WY     82201   \n",
       "11059          NaN      NaN         Worland    WY     82401   \n",
       "\n",
       "                                                 Contact  \\\n",
       "0                                          (256)234-4894   \n",
       "1                                          (256)236-7229   \n",
       "2      (256)236-8003 Hotlines: (256)236-8003 (256)236...   \n",
       "3                                          (205)594-3111   \n",
       "4                   (205)425-1200 Hotline: (205)805-3381   \n",
       "...                                                  ...   \n",
       "11055                                      (307)672-2044   \n",
       "11056                (307)673-2510 Intake: (307)672-2044   \n",
       "11057                (307)864-3138 Intake: (307)864-2247   \n",
       "11058                                      (307)322-3190   \n",
       "11059                                      (307)347-6165   \n",
       "\n",
       "                               Website                    Note  \\\n",
       "0                                  NaN                     NaN   \n",
       "1                                  NaN                     NaN   \n",
       "2                                  NaN                     NaN   \n",
       "3                    www.bridgeinc.org                     NaN   \n",
       "4                                  NaN  Methadone Clients Only   \n",
       "...                                ...                     ...   \n",
       "11055           www.wystarrecovery.com                     NaN   \n",
       "11056           www.wystarrecovery.com                     NaN   \n",
       "11057                              NaN                     NaN   \n",
       "11058  www.sewmhc.org/programstaps.htm                     NaN   \n",
       "11059                              NaN                     NaN   \n",
       "\n",
       "                                                Keys  \n",
       "0                              SA/TX/HH/RL/CO/MN/SF/  \n",
       "1                                    SA/TX/HH/RL/SF/  \n",
       "2               SA/TX/OP/AD/CO/DU/SF/MD/SI/PI/MI/SS/  \n",
       "3                  SA/TX/OP/AD/SF/MD/SI/PI/MI/PA/AH/  \n",
       "4         SA/TX/DT/MM/DM/OP/CO/HV/PW/WN/BC/SF/PI/AH/  \n",
       "...                                              ...  \n",
       "11055     SA/TX/HH/RL/OP/PH/PW/WN/BC/SF/SI/PI/MI/SS/  \n",
       "11056  SA/TX/RL/OP/CO/HV/GL/SE/MN/CJ/SF/PI/MI/SS/AH/  \n",
       "11057              MH/TX/OP/DU/SF/MD/SI/PI/MI/SS/PA/  \n",
       "11058           MH/TX/OP/AD/CO/DU/SF/MD/MC/SI/PI/MI/  \n",
       "11059              MH-SA/TX/OP/DU/SF/MD/SI/PI/MI/SS/  \n",
       "\n",
       "[11060 rows x 13 columns]"
      ]
     },
     "execution_count": 48,
     "metadata": {},
     "output_type": "execute_result"
    }
   ],
   "source": [
    "df = pd.read_csv(\"{}.csv\".format(YEAR))\n",
    "df"
   ]
  },
  {
   "cell_type": "code",
   "execution_count": 49,
   "metadata": {},
   "outputs": [],
   "source": [
    "#check if all state names are right\n",
    "for index, row in df.iterrows():\n",
    "    #print(row)\n",
    "    if len(row[7])!=2:\n",
    "        print(row)"
   ]
  },
  {
   "cell_type": "code",
   "execution_count": 50,
   "metadata": {},
   "outputs": [
    {
     "data": {
      "text/plain": [
       "Name1       object\n",
       "Name2       object\n",
       "Name3       object\n",
       "Address1    object\n",
       "Address2    object\n",
       "Address3    object\n",
       "City        object\n",
       "State       object\n",
       "ZIP_Code     int64\n",
       "Contact     object\n",
       "Website     object\n",
       "Note        object\n",
       "Keys        object\n",
       "dtype: object"
      ]
     },
     "execution_count": 50,
     "metadata": {},
     "output_type": "execute_result"
    }
   ],
   "source": [
    "#check if all zip codes are correct\n",
    "df.dtypes"
   ]
  },
  {
   "cell_type": "markdown",
   "metadata": {},
   "source": [
    "- Correct in Pandas"
   ]
  },
  {
   "cell_type": "code",
   "execution_count": 51,
   "metadata": {},
   "outputs": [],
   "source": [
    "#if address 1 and 2 should actually be one line...\n",
    "for index, row in df.iterrows():\n",
    "    if row[0].split()[-1] == 'and':\n",
    "        if pd.isnull(row[1]):\n",
    "            print(index)\n",
    "        else:\n",
    "            df.at[index, 'Name1'] = row[0] + ' ' + row[1]\n",
    "            df.at[index, 'Name2'] = ''"
   ]
  },
  {
   "cell_type": "code",
   "execution_count": 52,
   "metadata": {},
   "outputs": [],
   "source": [
    "# def split_zip(zipc):\n",
    "#     if '-' in zipc:\n",
    "#         return zipc.split('-')\n",
    "#     return [zipc, None]\n",
    "# #split zip-code if zip code is in the format xxxxx-xxxx\n",
    "# df['zip1'] = [split_zip(zipc)[0] for zipc in df['ZIP_Code']]\n",
    "# df['zip2'] = [split_zip(zipc)[1] for zipc in df['ZIP_Code']]"
   ]
  },
  {
   "cell_type": "code",
   "execution_count": 53,
   "metadata": {},
   "outputs": [],
   "source": [
    "df.to_csv('{}_c.csv'.format(YEAR), index = False)"
   ]
  },
  {
   "cell_type": "markdown",
   "metadata": {},
   "source": [
    "## Summary stats"
   ]
  },
  {
   "cell_type": "markdown",
   "metadata": {},
   "source": [
    "- Check keys"
   ]
  },
  {
   "cell_type": "code",
   "execution_count": 54,
   "metadata": {},
   "outputs": [],
   "source": [
    "df = pd.read_csv('{}_c.csv'.format(YEAR))"
   ]
  },
  {
   "cell_type": "code",
   "execution_count": 57,
   "metadata": {},
   "outputs": [
    {
     "name": "stdout",
     "output_type": "stream",
     "text": [
      "MM Methadone maintenance (facility may also use buprenorphine in maintenance)\n",
      "DM Methadone detoxification (facility may also use buprenorphine in detoxification)\n"
     ]
    }
   ],
   "source": [
    "Methadone_keys = []\n",
    "for key, val in abbr_keys.items():\n",
    "    if val:\n",
    "        if ('Methadone' in val) or ('methadone' in val):\n",
    "            Methadone_keys.append(key)\n",
    "            print(key, val)"
   ]
  },
  {
   "cell_type": "code",
   "execution_count": 58,
   "metadata": {},
   "outputs": [
    {
     "name": "stdout",
     "output_type": "stream",
     "text": [
      "MM Methadone maintenance (facility may also use buprenorphine in maintenance)\n",
      "DM Methadone detoxification (facility may also use buprenorphine in detoxification)\n"
     ]
    }
   ],
   "source": [
    "Buprenorphine_keys = []\n",
    "for key, val in abbr_keys.items():\n",
    "    if val:\n",
    "        if ('Buprenorphine' in val) or (\"buprenorphine\" in val):\n",
    "            Buprenorphine_keys.append(key)\n",
    "            print(key, val)"
   ]
  },
  {
   "cell_type": "code",
   "execution_count": 59,
   "metadata": {},
   "outputs": [],
   "source": [
    "Naltrexone_keys = []\n",
    "for key, val in abbr_keys.items():\n",
    "    if val:\n",
    "        if ('Naltrexone' in val) or ('naltrexone' in val):\n",
    "            Naltrexone_keys.append(key)\n",
    "            print(key, val)"
   ]
  },
  {
   "cell_type": "markdown",
   "metadata": {},
   "source": [
    "- Count keys"
   ]
  },
  {
   "cell_type": "code",
   "execution_count": 60,
   "metadata": {},
   "outputs": [],
   "source": [
    "def count_key(df, key):\n",
    "    '''\n",
    "    Count the number MOUD with a certain key\n",
    "    '''\n",
    "    df[key] = df.apply(lambda row: key in row['Keys'].split('/'), axis = 1)\n",
    "    return len(df[df[key] == True])"
   ]
  },
  {
   "cell_type": "code",
   "execution_count": 61,
   "metadata": {},
   "outputs": [
    {
     "data": {
      "text/plain": [
       "11060"
      ]
     },
     "execution_count": 61,
     "metadata": {},
     "output_type": "execute_result"
    }
   ],
   "source": [
    "len(df)"
   ]
  },
  {
   "cell_type": "code",
   "execution_count": 62,
   "metadata": {},
   "outputs": [],
   "source": [
    "labels = []\n",
    "MOUD_numbers = []"
   ]
  },
  {
   "cell_type": "code",
   "execution_count": 63,
   "metadata": {},
   "outputs": [
    {
     "name": "stdout",
     "output_type": "stream",
     "text": [
      "MM : Methadone maintenance (facility may also use buprenorphine in maintenance) \t\t 925\n",
      "DM : Methadone detoxification (facility may also use buprenorphine in detoxification) \t\t 664\n"
     ]
    }
   ],
   "source": [
    "for key in Methadone_keys:\n",
    "    n_MOUD_with_key = count_key(df, key)\n",
    "    print(key, \":\", abbr_keys[key], '\\t\\t', n_MOUD_with_key)\n",
    "    labels.append(abbr_keys[key] + '(' + key + ')')\n",
    "    MOUD_numbers.append(n_MOUD_with_key)"
   ]
  },
  {
   "cell_type": "code",
   "execution_count": 64,
   "metadata": {},
   "outputs": [
    {
     "name": "stdout",
     "output_type": "stream",
     "text": [
      "MM : Methadone maintenance (facility may also use buprenorphine in maintenance) \t\t 925\n",
      "DM : Methadone detoxification (facility may also use buprenorphine in detoxification) \t\t 664\n"
     ]
    }
   ],
   "source": [
    "for key in Buprenorphine_keys:\n",
    "    n_MOUD_with_key = count_key(df, key)\n",
    "    print(key, \":\", abbr_keys[key], '\\t\\t', n_MOUD_with_key)\n",
    "    if (abbr_keys[key] + '(' + key + ')') not in labels:\n",
    "        labels.append(abbr_keys[key] + '(' + key + ')')\n",
    "        MOUD_numbers.append(n_MOUD_with_key)"
   ]
  },
  {
   "cell_type": "code",
   "execution_count": 65,
   "metadata": {},
   "outputs": [],
   "source": [
    "for key in Naltrexone_keys:\n",
    "    n_MOUD_with_key = count_key(df, key)\n",
    "    print(key, \":\", abbr_keys[key], '\\t\\t', n_MOUD_with_key)\n",
    "    if (abbr_keys[key] + '(' + key + ')') not in labels:\n",
    "        labels.append(abbr_keys[key] + '(' + key + ')')\n",
    "        MOUD_numbers.append(n_MOUD_with_key)"
   ]
  },
  {
   "cell_type": "code",
   "execution_count": 66,
   "metadata": {},
   "outputs": [
    {
     "data": {
      "text/plain": [
       "['Methadone maintenance (facility may also use buprenorphine in maintenance)(MM)',\n",
       " 'Methadone detoxification (facility may also use buprenorphine in detoxification)(DM)']"
      ]
     },
     "execution_count": 66,
     "metadata": {},
     "output_type": "execute_result"
    }
   ],
   "source": [
    "labels"
   ]
  },
  {
   "cell_type": "code",
   "execution_count": 67,
   "metadata": {},
   "outputs": [
    {
     "data": {
      "text/plain": [
       "[925, 664]"
      ]
     },
     "execution_count": 67,
     "metadata": {},
     "output_type": "execute_result"
    }
   ],
   "source": [
    "MOUD_numbers"
   ]
  },
  {
   "cell_type": "code",
   "execution_count": 68,
   "metadata": {},
   "outputs": [
    {
     "data": {
      "image/png": "[encoded data removed]",
      "text/plain": [
       "<Figure size 432x288 with 1 Axes>"
      ]
     },
     "metadata": {
      "needs_background": "light"
     },
     "output_type": "display_data"
    }
   ],
   "source": [
    "#barchart: https://matplotlib.org/3.3.0/gallery/lines_bars_and_markers/barchart.html#sphx-glr-gallery-lines-bars-and-markers-barchart-py\n",
    "\n",
    "import matplotlib.pyplot as plt\n",
    "import numpy as np\n",
    "\n",
    "x = np.arange(len(labels))  # the label locations\n",
    "width = 0.35  # the width of the bars\n",
    "\n",
    "fig, ax = plt.subplots()\n",
    "rects1 = ax.bar(x - width/2, MOUD_numbers, width, label=str(YEAR))\n",
    "\n",
    "# Add some text for labels, title and custom x-axis tick labels, etc.\n",
    "ax.set_ylabel('Number of MOUD')\n",
    "ax.set_title('MOUD with relevant services')\n",
    "ax.set_xticks(x)\n",
    "ax.set_xticklabels(labels)\n",
    "ax.legend()\n",
    "\n",
    "\n",
    "def autolabel(rects):\n",
    "    \"\"\"Attach a text label above each bar in *rects*, displaying its height.\"\"\"\n",
    "    for rect in rects:\n",
    "        height = rect.get_height()\n",
    "        ax.annotate('{}'.format(height),\n",
    "                    xy=(rect.get_x() + rect.get_width() / 2, height),\n",
    "                    xytext=(0, 3),  # 3 points vertical offset\n",
    "                    textcoords=\"offset points\",\n",
    "                    ha='center', va='bottom')\n",
    "\n",
    "\n",
    "autolabel(rects1)\n",
    "\n",
    "plt.ylim(0, len(df))\n",
    "plt.xticks(rotation=90)\n",
    "plt.savefig('{}_stats.png'.format(YEAR), bbox_inches = 'tight')"
   ]
  },
  {
   "cell_type": "code",
   "execution_count": null,
   "metadata": {},
   "outputs": [],
   "source": []
  }
 ],
 "metadata": {
  "kernelspec": {
   "display_name": "Python 3",
   "language": "python",
   "name": "python3"
  },
  "language_info": {
   "codemirror_mode": {
    "name": "ipython",
    "version": 3
   },
   "file_extension": ".py",
   "mimetype": "text/x-python",
   "name": "python",
   "nbconvert_exporter": "python",
   "pygments_lexer": "ipython3",
   "version": "3.7.6"
  }
 },
 "nbformat": 4,
 "nbformat_minor": 4
}
