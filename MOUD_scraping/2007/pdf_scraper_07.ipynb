{
 "cells": [
  {
   "cell_type": "markdown",
   "metadata": {},
   "source": [
    "#### Imports"
   ]
  },
  {
   "cell_type": "code",
   "execution_count": 1,
   "metadata": {},
   "outputs": [],
   "source": [
    "import PyPDF2\n",
    "import csv\n",
    "import re\n",
    "import json\n",
    "import os\n",
    "import us\n",
    "import numpy as np"
   ]
  },
  {
   "cell_type": "code",
   "execution_count": 2,
   "metadata": {},
   "outputs": [],
   "source": [
    "YEAR = 2007"
   ]
  },
  {
   "cell_type": "markdown",
   "metadata": {},
   "source": [
    "# OCR with Adobe Acrobat and extraction with fitz"
   ]
  },
  {
   "cell_type": "code",
   "execution_count": 3,
   "metadata": {},
   "outputs": [],
   "source": [
    "from __future__ import print_function\n",
    "from itertools import groupby\n",
    "import fitz\n",
    "import matplotlib.pyplot as plt"
   ]
  },
  {
   "cell_type": "markdown",
   "metadata": {},
   "source": [
    "### Extract text"
   ]
  },
  {
   "cell_type": "code",
   "execution_count": 109,
   "metadata": {},
   "outputs": [
    {
     "name": "stdout",
     "output_type": "stream",
     "text": [
      "Number of pages: 680\n"
     ]
    }
   ],
   "source": [
    "#open PDF which has gone through Adobe Acrobat OCR\n",
    "doc = fitz.open(\"directory_{}.pdf\".format(YEAR))\n",
    "print('Number of pages:', len(doc))"
   ]
  },
  {
   "cell_type": "code",
   "execution_count": 110,
   "metadata": {},
   "outputs": [],
   "source": [
    "def text_to_rows(text, threshold):\n",
    "    '''\n",
    "    Splits a list of into rows.\n",
    "    Inputs:\n",
    "        Text: a list of tuple containing individual words and their positions\n",
    "        Threshold: the distance between lines\n",
    "    Outputs:\n",
    "        List of list that represent rows.\n",
    "    '''\n",
    "    if text == []:\n",
    "        return []\n",
    "    text_by_row = []\n",
    "    temp = []\n",
    "    init_y = text[0][1] #y0\n",
    "    i = 0\n",
    "    while i < len(text):\n",
    "        if (text[i][1] < init_y + threshold) and (text[i][1] > init_y - threshold):\n",
    "            temp.append(text[i][4])\n",
    "        else:\n",
    "            text_by_row.append(temp)\n",
    "            temp = [text[i][4]]\n",
    "            init_y = int(text[i][1])\n",
    "        i += 1\n",
    "    text_by_row.append(temp)\n",
    "    return text_by_row"
   ]
  },
  {
   "cell_type": "markdown",
   "metadata": {},
   "source": [
    "- Extract keys"
   ]
  },
  {
   "cell_type": "code",
   "execution_count": 111,
   "metadata": {},
   "outputs": [],
   "source": [
    "abbr_keys = {}"
   ]
  },
  {
   "cell_type": "code",
   "execution_count": 112,
   "metadata": {},
   "outputs": [],
   "source": [
    "#keys for treatment\n",
    "pagen = 5\n",
    "words = doc[pagen - 1].getText(\"words\")\n",
    "words = text_to_rows(words, 5)[3:-2]\n",
    "for line in words:\n",
    "    if re.match(r'(?:[A-Z-]+)$', line[0]):\n",
    "        abbr_keys[line[0]] = ' '.join(line[1:])"
   ]
  },
  {
   "cell_type": "code",
   "execution_count": 113,
   "metadata": {},
   "outputs": [],
   "source": [
    "#keys for language\n",
    "pagen = 6\n",
    "words = doc[pagen - 1].getText(\"words\")\n",
    "page6 = text_to_rows(words, 5)"
   ]
  },
  {
   "cell_type": "code",
   "execution_count": 114,
   "metadata": {},
   "outputs": [],
   "source": [
    "key = 'N2'\n",
    "val = ['Apache']\n",
    "for line in page6[7:14]:\n",
    "    for word in line:\n",
    "        if word[-1].isnumeric():\n",
    "            abbr_keys[key] = ' '.join(val)\n",
    "            val = []\n",
    "            key = word\n",
    "        else:\n",
    "            val.append(word)\n",
    "    #abbr_keys[key] = ' '.join(val)\n",
    "\n",
    "for line in page6[16:]:\n",
    "    for word in line:\n",
    "        if word[-1].isnumeric():\n",
    "            abbr_keys[key] = ' '.join(val)\n",
    "            val = []\n",
    "            key = word\n",
    "        else:\n",
    "            val.append(word)\n",
    "    abbr_keys[key] = ' '.join(val)"
   ]
  },
  {
   "cell_type": "code",
   "execution_count": 115,
   "metadata": {},
   "outputs": [
    {
     "data": {
      "text/plain": [
       "137"
      ]
     },
     "execution_count": 115,
     "metadata": {},
     "output_type": "execute_result"
    }
   ],
   "source": [
    "len(abbr_keys)"
   ]
  },
  {
   "cell_type": "code",
   "execution_count": 116,
   "metadata": {},
   "outputs": [],
   "source": [
    "#add keys that not included in front pages but exists in other pages"
   ]
  },
  {
   "cell_type": "code",
   "execution_count": 117,
   "metadata": {},
   "outputs": [
    {
     "name": "stdout",
     "output_type": "stream",
     "text": [
      "N1\n",
      "N4\n",
      "N7\n",
      "N9\n",
      "N10\n",
      "N11\n",
      "N12\n",
      "N16\n",
      "N17\n",
      "N27\n",
      "N31\n",
      "N36\n",
      "N38\n",
      "N39\n",
      "N42\n",
      "N43\n",
      "N44\n",
      "N45\n"
     ]
    }
   ],
   "source": [
    "for i in range(1, 46):\n",
    "    if 'N' + str(i) not in abbr_keys:\n",
    "        abbr_keys['N' + str(i)] = None\n",
    "        print('N' + str(i))"
   ]
  },
  {
   "cell_type": "code",
   "execution_count": 118,
   "metadata": {},
   "outputs": [
    {
     "name": "stdout",
     "output_type": "stream",
     "text": [
      "F6\n",
      "F7\n",
      "F12\n",
      "F13\n",
      "F14\n",
      "F20\n",
      "F21\n",
      "F26\n",
      "F29\n",
      "F32\n",
      "F45\n",
      "F46\n",
      "F51\n",
      "F53\n",
      "F68\n",
      "F73\n",
      "F76\n",
      "F80\n",
      "F82\n",
      "F84\n",
      "F85\n",
      "F95\n",
      "F96\n",
      "F97\n",
      "F98\n",
      "F99\n",
      "F100\n",
      "F101\n",
      "F102\n"
     ]
    }
   ],
   "source": [
    "for i in range(1, 103):\n",
    "    if 'F' + str(i) not in abbr_keys:\n",
    "        abbr_keys['F' + str(i)] = None\n",
    "        print('F' + str(i))"
   ]
  },
  {
   "cell_type": "markdown",
   "metadata": {},
   "source": [
    "- Explore text"
   ]
  },
  {
   "cell_type": "code",
   "execution_count": 96,
   "metadata": {
    "jupyter": {
     "source_hidden": true
    }
   },
   "outputs": [],
   "source": [
    "# - explore the page set up - \n",
    "# select a page\n",
    "firstpagen = 15\n",
    "words = doc[firstpagen - 1].getText(\"words\")"
   ]
  },
  {
   "cell_type": "code",
   "execution_count": 23,
   "metadata": {
    "collapsed": true,
    "jupyter": {
     "outputs_hidden": true,
     "source_hidden": true
    }
   },
   "outputs": [
    {
     "data": {
      "text/plain": [
       "<matplotlib.lines.Line2D at 0x7f81c90adbd0>"
      ]
     },
     "execution_count": 23,
     "metadata": {},
     "output_type": "execute_result"
    },
    {
     "data": {
      "image/png": "[encoded data removed]",
      "text/plain": [
       "<Figure size 432x288 with 1 Axes>"
      ]
     },
     "metadata": {
      "needs_background": "light"
     },
     "output_type": "display_data"
    }
   ],
   "source": [
    "# check the y distribution to remove top and bottom crap...\n",
    "y0s = [word[1] for word in words]\n",
    "a = plt.hist(y0s, bins = 100)\n",
    "plt.axvline(35, color='black')\n",
    "plt.axvline(740, color='black')"
   ]
  },
  {
   "cell_type": "code",
   "execution_count": 25,
   "metadata": {
    "collapsed": true,
    "jupyter": {
     "outputs_hidden": true,
     "source_hidden": true
    }
   },
   "outputs": [
    {
     "data": {
      "text/plain": [
       "<matplotlib.lines.Line2D at 0x7f81986c3650>"
      ]
     },
     "execution_count": 25,
     "metadata": {},
     "output_type": "execute_result"
    },
    {
     "data": {
      "image/png": "[encoded data removed]",
      "text/plain": [
       "<Figure size 432x288 with 1 Axes>"
      ]
     },
     "metadata": {
      "needs_background": "light"
     },
     "output_type": "display_data"
    }
   ],
   "source": [
    "#to find column seperation\n",
    "for pagen in range(100, 500):\n",
    "    words = doc[pagen - 1].getText(\"words\")\n",
    "    words = [word for word in words if word[1] > 35]\n",
    "    words = [word for word in words if word[1] < 740]\n",
    "    x0s = [word[0] for word in words]\n",
    "    a = plt.hist(x0s, bins = 100)\n",
    "    \n",
    "plt.axvline(218, color='black')\n",
    "plt.axvline(388, color='black')"
   ]
  },
  {
   "cell_type": "markdown",
   "metadata": {
    "jupyter": {
     "source_hidden": true
    }
   },
   "source": [
    "- Read text from PDF"
   ]
  },
  {
   "cell_type": "code",
   "execution_count": 26,
   "metadata": {
    "jupyter": {
     "source_hidden": true
    }
   },
   "outputs": [],
   "source": [
    "def get_words_in_box(page, ulim, blim, col1lim, col2lim):\n",
    "    '''\n",
    "    Extract words from each column of the PDF.\n",
    "    '''\n",
    "    page_txt = []\n",
    "    words = page.getText(\"words\") \n",
    "    #cut off top and bottom\n",
    "    words = [word for word in words if word[1] > ulim]\n",
    "    words = [word for word in words if word[1] < blim]\n",
    "    #get three columns\n",
    "    page_txt.append(text_to_rows([word for word in words if word[0] < col1lim], 5))\n",
    "    page_txt.append(text_to_rows([word for word in words if ((word[0] > col1lim) and (word[0] < col2lim))], 5))\n",
    "    page_txt.append(text_to_rows([word for word in words if word[0] > col2lim], 5))\n",
    "    return page_txt"
   ]
  },
  {
   "cell_type": "code",
   "execution_count": 33,
   "metadata": {
    "jupyter": {
     "source_hidden": true
    }
   },
   "outputs": [],
   "source": [
    "#testing\n",
    "#get_words_in_box(doc[firstpagen - 1], 35, 740, 217, 388)\n",
    "#page with some blanck\n",
    "#get_words_in_box(doc[24 - 1], 35, 740, 217, 388)"
   ]
  },
  {
   "cell_type": "code",
   "execution_count": 34,
   "metadata": {
    "jupyter": {
     "source_hidden": true
    }
   },
   "outputs": [],
   "source": [
    "#run\n",
    "data = []\n",
    "for pagen in range(firstpagen, len(doc) + 1):\n",
    "    data.append(get_words_in_box(doc[pagen-1], 35, 740, 217, 388))"
   ]
  },
  {
   "cell_type": "markdown",
   "metadata": {
    "jupyter": {
     "source_hidden": true
    }
   },
   "source": [
    "# Write data into csv"
   ]
  },
  {
   "cell_type": "markdown",
   "metadata": {
    "jupyter": {
     "source_hidden": true
    }
   },
   "source": [
    "- Checking + cleaning each part of data"
   ]
  },
  {
   "cell_type": "code",
   "execution_count": 35,
   "metadata": {
    "jupyter": {
     "source_hidden": true
    }
   },
   "outputs": [],
   "source": [
    "#['SA', 'F', 'TX', 'MM', 'F', 'OP', 'F', 'AD', 'PW', 'WN', 'MN', 'CJ']\n",
    "def is_keys(line):\n",
    "    '''\n",
    "    Check if the line (list of list) is a list of keys\n",
    "    '''\n",
    "    line = [key for key in line if (key != 'F')]\n",
    "    if not any(x not in abbr_keys for x in line):\n",
    "        return True\n",
    "    if line[0] in abbr_keys:\n",
    "        if len(line) > 2 and line[1] in abbr_keys:\n",
    "            print(\"This line has more than 1 keys but not all, please check:\", line)\n",
    "        if len(line) > 3 and line[2] in abbr_keys:\n",
    "            print(\"This line has more than 1 keys but not all, please check:\", line)\n",
    "    return False\n",
    "\n",
    "def clean_keys(line):\n",
    "    return '/'.join([key for key in line if (key != 'F')]) + '/'"
   ]
  },
  {
   "cell_type": "code",
   "execution_count": 36,
   "metadata": {
    "jupyter": {
     "source_hidden": true
    }
   },
   "outputs": [],
   "source": [
    "#['Nogales,', 'AZ', '85621']\n",
    "#['Chesapeake', 'Beach,', 'MD', '20732']\n",
    "def is_citystatezip(line):\n",
    "    if line[-1].isnumeric() and len(line[-1]) == 5 and line[-2].isupper() and len(line[-2]) == 2 and line[-3][-1] == ',':\n",
    "        return True\n",
    "    return False\n",
    "\n",
    "def clean_citystatezip(line):\n",
    "    return [' '.join(line[:-2])[:-1], line[-2], line[-1]]"
   ]
  },
  {
   "cell_type": "code",
   "execution_count": 37,
   "metadata": {
    "jupyter": {
     "source_hidden": true
    }
   },
   "outputs": [],
   "source": [
    "#['(205)', '216-0200'],\n",
    "#['Intake:', '(205)', '216-0202'],\n",
    "#['Hotlines:', '(888)', '950-4325', '(888)', '950HEAL']\n",
    "#['6552x']\n",
    "def is_contact(line):\n",
    "    if line[0] == 'Intake:' or line[0] == 'Intakes:' or line[0] == 'Hotline:'or line[0] == 'Hotlines:':\n",
    "        return True\n",
    "    if len(line[0]) < 5:\n",
    "        return False\n",
    "    if line[0][0] == '(' and line[0][4] == ')' and line[0][1:4].isnumeric():\n",
    "        return True\n",
    "    if line[0][:4].isnumeric() and line[0][4] == 'x':\n",
    "        return True\n",
    "    return False\n",
    "\n",
    "def clean_contact(line):\n",
    "    l = ''\n",
    "    for word in line:\n",
    "        if len(word) == 5 and word[0] == '(':\n",
    "            l += word\n",
    "        else:\n",
    "            l += word + ' '\n",
    "    return l.strip()"
   ]
  },
  {
   "cell_type": "code",
   "execution_count": 38,
   "metadata": {
    "jupyter": {
     "source_hidden": true
    }
   },
   "outputs": [],
   "source": [
    "address_indicators = ['P.0.', 'P.O', 'Road', 'Highway', 'Route', 'Building', 'Street', 'Avenue', 'Suite', 'Suites', 'Drive', 'Boulevard', \\\n",
    "                      'Annex', 'Streets','Floor', 'Fl', 'Bldg', 'Rear', 'Room', 'Basement', 'Building,', 'Attn:'] ##\n",
    "name_indicators = ['Clinic', 'Medical', 'Inc', 'Health', 'Services', 'Treatment']\n",
    "\n",
    "def is_address(line):\n",
    "    if (not line[0].replace('-', '').isnumeric()) and any(x in line for x in name_indicators):\n",
    "        return False\n",
    "    if line[0].replace('-', '').isnumeric() or any(x in line for x in address_indicators):\n",
    "        return True\n",
    "    return False"
   ]
  },
  {
   "cell_type": "code",
   "execution_count": 39,
   "metadata": {
    "jupyter": {
     "source_hidden": true
    }
   },
   "outputs": [],
   "source": [
    "# #for testing\n",
    "# for page_data in data:\n",
    "#     for col in page_data:\n",
    "#         for line in col:\n",
    "#             for word in line:\n",
    "#                 if word[0] == 'F' and word[-1].isnumeric() and word not in abbr_keys:\n",
    "#                     print(line)"
   ]
  },
  {
   "cell_type": "markdown",
   "metadata": {
    "jupyter": {
     "source_hidden": true
    }
   },
   "source": [
    "- Split data into MOUDs"
   ]
  },
  {
   "cell_type": "code",
   "execution_count": 40,
   "metadata": {
    "jupyter": {
     "source_hidden": true
    }
   },
   "outputs": [],
   "source": [
    "def split_col_data(col_text):\n",
    "    '''\n",
    "    Split column data into list of MOUD facilities.\n",
    "    '''\n",
    "    col_text_splitted = []\n",
    "    temp = []\n",
    "    i = 0\n",
    "    while i < len(col_text) - 1:\n",
    "        if is_keys(col_text[i]) and (not is_keys(col_text[i+1])):\n",
    "            temp.append(col_text[i])\n",
    "            col_text_splitted.append(temp)\n",
    "            temp = []\n",
    "        elif is_keys(col_text[i]) and (is_keys(col_text[i+1])):\n",
    "            temp.append(col_text[i])\n",
    "        else:\n",
    "            if (not re.match(r'(?:[A-Z]+)$', ''.join(col_text[i]))):\n",
    "                #if not keys and only upper characters, then ignore as name of city.\n",
    "                temp.append(col_text[i])\n",
    "        i += 1\n",
    "    temp.append(col_text[-1])\n",
    "    col_text_splitted.append(temp)\n",
    "    return col_text_splitted"
   ]
  },
  {
   "cell_type": "code",
   "execution_count": 52,
   "metadata": {
    "jupyter": {
     "source_hidden": true
    }
   },
   "outputs": [],
   "source": [
    "#split_col_data(data[2][2])"
   ]
  },
  {
   "cell_type": "markdown",
   "metadata": {
    "jupyter": {
     "source_hidden": true
    }
   },
   "source": [
    "- Write data"
   ]
  },
  {
   "cell_type": "code",
   "execution_count": 53,
   "metadata": {
    "jupyter": {
     "source_hidden": true
    }
   },
   "outputs": [],
   "source": [
    "def clean_col_data(col_text_splitted):\n",
    "    '''\n",
    "    Splits data into list of lists with\n",
    "    name1, name2, address1, address2, city, state, zip, phone, keys\n",
    "    '''\n",
    "    data_holders = []\n",
    "    for facil in col_text_splitted:\n",
    "        if len(facil) < 2:\n",
    "            print(facil)\n",
    "        if len(facil) > 2:\n",
    "            data_holder = []\n",
    "            i = 0 #indicator of next line\n",
    "            #name1\n",
    "            data_holder.append(' '.join(facil[0])) \n",
    "            i += 1\n",
    "            #name2\n",
    "            if not is_address(facil[i]) and not is_citystatezip(facil[i]) and not is_contact(facil[i]): \n",
    "                data_holder.append(' '.join(facil[i])) \n",
    "                i += 1\n",
    "            else:\n",
    "                data_holder.append('') \n",
    "            #name3\n",
    "            if not is_address(facil[i]) and not is_citystatezip(facil[i]) and not is_contact(facil[i]): \n",
    "                data_holder.append(' '.join(facil[i])) \n",
    "                i += 1\n",
    "            else:\n",
    "                data_holder.append('')         \n",
    "            #address1\n",
    "            if is_address(facil[i]) and not is_citystatezip(facil[i]):\n",
    "                data_holder.append(' '.join(facil[i])) \n",
    "                i += 1\n",
    "            else:\n",
    "                data_holder.append('')\n",
    "            #address2\n",
    "            if not is_citystatezip(facil[i]) and not is_contact(facil[i]) and not is_keys(facil[i]):##\n",
    "                data_holder.append(' '.join(facil[i])) \n",
    "                i += 1\n",
    "            else:\n",
    "                data_holder.append('')\n",
    "            #address3\n",
    "            if is_address(facil[i]) and not is_citystatezip(facil[i]):\n",
    "                data_holder.append(' '.join(facil[i])) \n",
    "                i += 1\n",
    "            else:\n",
    "                data_holder.append('')\n",
    "            #city, state, zip\n",
    "            data_holder += clean_citystatezip(facil[i])\n",
    "            i += 1\n",
    "            #contact\n",
    "            if is_contact(facil[i]):\n",
    "                data_holder.append(clean_contact(facil[i]))\n",
    "                i += 1\n",
    "                while i < len(facil):\n",
    "                    if is_contact(facil[i]):\n",
    "                        data_holder[-1] += ' ' + clean_contact(facil[i])\n",
    "                        i += 1\n",
    "                    else:\n",
    "                        break\n",
    "            else:\n",
    "                data_holder.append('')\n",
    "            #website\n",
    "            if facil[i][0].split('.')[-1] == 'org' or facil[i][0].split('.')[0] == 'www' or facil[i][0].split('.')[-1] == 'com':\n",
    "                data_holder.append(' '.join(facil[i]))\n",
    "                i += 1\n",
    "            else:\n",
    "                data_holder.append('')\n",
    "            #note\n",
    "            if not is_keys(facil[i]):\n",
    "                data_holder.append(' '.join(facil[i]))\n",
    "                i += 1\n",
    "            else:\n",
    "                data_holder.append('')\n",
    "            #keys\n",
    "            data_holder.append('')\n",
    "            for keys in facil[i:]:\n",
    "                data_holder[-1] += clean_keys(keys)\n",
    "            data_holders.append(data_holder)\n",
    "            print(\".\", end = '') #for each MOUD\n",
    "    return data_holders"
   ]
  },
  {
   "cell_type": "code",
   "execution_count": 119,
   "metadata": {},
   "outputs": [],
   "source": [
    "filename = \"{}.csv\".format(YEAR)\n",
    "with open(filename, 'w', newline = '') as file:\n",
    "    writer = csv.writer(file)\n",
    "    writer.writerow([\"Name1\", \"Name2\", 'Name3', \"Address1\", \"Address2\", \"Address3\", \"City\", \"State\", \"ZIP_Code\", \"Contact\", \"Website\", \"Note\", \"Keys\"])"
   ]
  },
  {
   "cell_type": "code",
   "execution_count": 120,
   "metadata": {},
   "outputs": [
    {
     "name": "stdout",
     "output_type": "stream",
     "text": [
      "Page: 15...... Finished Col ...... Finished Col ...... Finished Col \n",
      "Page: 16...... Finished Col ..... Finished Col ...... Finished Col \n",
      "Page: 17...... Finished Col ....... Finished Col ..... Finished Col \n",
      "Page: 18...... Finished Col ...... Finished Col ...... Finished Col \n",
      "Page: 19...... Finished Col ..... Finished Col ...... Finished Col \n",
      "Page: 20\n",
      "Page: 21....... Finished Col ...... Finished Col ..... Finished Col \n",
      "Page: 22...... Finished Col ..... Finished Col ...... Finished Col \n",
      "Page: 23...... Finished Col ...... Finished Col ..... Finished Col \n",
      "Page: 24\n",
      "Page: 25..... Finished Col ..... Finished Col ...... Finished Col \n",
      "Page: 26...... Finished Col ...... Finished Col ..... Finished Col \n",
      "Page: 27...... Finished Col ..... Finished Col ...... Finished Col \n",
      "Page: 28....... Finished Col ...... Finished Col ...... Finished Col \n",
      "Page: 29...... Finished Col ...... Finished Col ...... Finished Col \n",
      "Page: 30...... Finished Col ..... Finished Col ..... Finished Col \n",
      "Page: 31...... Finished Col ...... Finished Col ....... Finished Col \n",
      "Page: 32...... Finished Col ...... Finished Col ...... Finished Col \n",
      "Page: 33..... Finished Col ...... Finished Col ...... Finished Col \n",
      "Page: 34..... Finished Col ...... Finished Col ..... Finished Col \n",
      "Page: 35.... Finished Col \n",
      "Page: 36\n",
      "Page: 37...... Finished Col ....... Finished Col ...... Finished Col \n",
      "Page: 38...... Finished Col ...... Finished Col ....... Finished Col \n",
      "Page: 39...... Finished Col ...... Finished Col ...... Finished Col \n",
      "Page: 40....... Finished Col ....... Finished Col ...... Finished Col \n",
      "Page: 41...... Finished Col ...... Finished Col ...... Finished Col \n",
      "Page: 42..... Finished Col ...... Finished Col ...... Finished Col \n",
      "Page: 43..... Finished Col ..... Finished Col ..... Finished Col \n",
      "Page: 44...... Finished Col ...... Finished Col ...... Finished Col \n",
      "Page: 45..... Finished Col ...... Finished Col ..... Finished Col \n",
      "Page: 46...... Finished Col ....... Finished Col ...... Finished Col \n",
      "Page: 47...... Finished Col ....... Finished Col ....... Finished Col \n",
      "Page: 48....... Finished Col ...... Finished Col ...... Finished Col \n",
      "Page: 49...... Finished Col ...... Finished Col ...... Finished Col \n",
      "Page: 50...... Finished Col ...... Finished Col ...... Finished Col \n",
      "Page: 51...... Finished Col ....... Finished Col ...... Finished Col \n",
      "Page: 52...... Finished Col ...... Finished Col ...... Finished Col \n",
      "Page: 53....... Finished Col ...... Finished Col ....... Finished Col \n",
      "Page: 54...... Finished Col ...... Finished Col ...... Finished Col \n",
      "Page: 55...... Finished Col ...... Finished Col ...... Finished Col \n",
      "Page: 56...... Finished Col ...... Finished Col ...... Finished Col \n",
      "Page: 57....... Finished Col ...... Finished Col ...... Finished Col \n",
      "Page: 58...... Finished Col ...... Finished Col ...... Finished Col \n",
      "Page: 59...... Finished Col ...... Finished Col ..... Finished Col \n",
      "Page: 60...... Finished Col ..... Finished Col ...... Finished Col \n",
      "Page: 61..... Finished Col ...... Finished Col ..... Finished Col \n",
      "Page: 62....... Finished Col ....... Finished Col ..... Finished Col \n",
      "Page: 63...... Finished Col ....... Finished Col ...... Finished Col \n",
      "Page: 64...... Finished Col ...... Finished Col ....... Finished Col \n",
      "Page: 65....... Finished Col ....... Finished Col ...... Finished Col \n",
      "Page: 66...... Finished Col ...... Finished Col ....... Finished Col \n",
      "Page: 67....... Finished Col ....... Finished Col ...... Finished Col \n",
      "Page: 68....... Finished Col ...... Finished Col ...... Finished Col \n",
      "Page: 69...... Finished Col ...... Finished Col ...... Finished Col \n",
      "Page: 70...... Finished Col ...... Finished Col ....... Finished Col \n",
      "Page: 71..... Finished Col ..... Finished Col ...... Finished Col \n",
      "Page: 72...... Finished Col ....... Finished Col ...... Finished Col \n",
      "Page: 73...... Finished Col ...... Finished Col ...... Finished Col \n",
      "Page: 74...... Finished Col ....... Finished Col ...... Finished Col \n",
      "Page: 75...... Finished Col ...... Finished Col ..... Finished Col \n",
      "Page: 76....... Finished Col ....... Finished Col ...... Finished Col \n",
      "Page: 77...... Finished Col ...... Finished Col ....... Finished Col \n",
      "Page: 78...... Finished Col ....... Finished Col ..... Finished Col \n",
      "Page: 79...... Finished Col ....... Finished Col ....... Finished Col \n",
      "Page: 80...... Finished Col ...... Finished Col ...... Finished Col \n",
      "Page: 81..... Finished Col ...... Finished Col ...... Finished Col \n",
      "Page: 82...... Finished Col ...... Finished Col ...... Finished Col \n",
      "Page: 83...... Finished Col ....... Finished Col ...... Finished Col \n",
      "Page: 84...... Finished Col ....... Finished Col ...... Finished Col \n",
      "Page: 85...... Finished Col ....... Finished Col ...... Finished Col \n",
      "Page: 86...... Finished Col ..... Finished Col ..... Finished Col \n",
      "Page: 87...... Finished Col ...... Finished Col ...... Finished Col \n",
      "Page: 88...... Finished Col ...... Finished Col ...... Finished Col \n",
      "Page: 89...... Finished Col ...... Finished Col ...... Finished Col \n",
      "Page: 90....... Finished Col ...... Finished Col ....... Finished Col \n",
      "Page: 91....... Finished Col ...... Finished Col ...... Finished Col \n",
      "Page: 92..... Finished Col ...... Finished Col ....... Finished Col \n",
      "Page: 93...... Finished Col ...... Finished Col ...... Finished Col \n",
      "Page: 94...... Finished Col ....... Finished Col ...... Finished Col \n",
      "Page: 95...... Finished Col ....... Finished Col ........ Finished Col \n",
      "Page: 96...... Finished Col ...... Finished Col ...... Finished Col \n",
      "Page: 97...... Finished Col ....... Finished Col ....... Finished Col \n",
      "Page: 98...... Finished Col ....... Finished Col ...... Finished Col \n",
      "Page: 99...... Finished Col ...... Finished Col ...... Finished Col \n",
      "Page: 100...... Finished Col ...... Finished Col ...... Finished Col \n",
      "Page: 101...... Finished Col ....... Finished Col ...... Finished Col \n",
      "Page: 102....... Finished Col ....... Finished Col ...... Finished Col \n",
      "Page: 103...... Finished Col ...... Finished Col ...... Finished Col \n",
      "Page: 104....... Finished Col ...... Finished Col ....... Finished Col \n",
      "Page: 105...... Finished Col ....... Finished Col ...... Finished Col \n",
      "Page: 106...... Finished Col ....... Finished Col ...... Finished Col \n",
      "Page: 107....... Finished Col ...... Finished Col ...... Finished Col \n",
      "Page: 108...... Finished Col ...... Finished Col ...... Finished Col \n",
      "Page: 109...... Finished Col ...... Finished Col ...... Finished Col \n",
      "Page: 110...... Finished Col ...... Finished Col ...... Finished Col \n",
      "Page: 111..... Finished Col ...... Finished Col ....... Finished Col \n",
      "Page: 112...... Finished Col ...... Finished Col ..... Finished Col \n",
      "Page: 113...... Finished Col ....... Finished Col ...... Finished Col \n",
      "Page: 114...... Finished Col ...... Finished Col ...... Finished Col \n",
      "Page: 115....... Finished Col ...... Finished Col ....... Finished Col \n",
      "Page: 116....... Finished Col ..... Finished Col ....... Finished Col \n",
      "Page: 117...... Finished Col ...... Finished Col ..... Finished Col \n",
      "Page: 118...... Finished Col ...... Finished Col ...... Finished Col \n",
      "Page: 119.... Finished Col \n",
      "Page: 120\n",
      "Page: 121...... Finished Col ...... Finished Col ....... Finished Col \n",
      "Page: 122...... Finished Col ...... Finished Col ...... Finished Col \n",
      "Page: 123...... Finished Col ...... Finished Col ...... Finished Col \n",
      "Page: 124...... Finished Col ...... Finished Col ...... Finished Col \n",
      "Page: 125....... Finished Col ...... Finished Col ...... Finished Col \n",
      "Page: 126...... Finished Col ...... Finished Col ....... Finished Col \n",
      "Page: 127...... Finished Col ...... Finished Col ...... Finished Col \n",
      "Page: 128....... Finished Col ...... Finished Col ...... Finished Col \n",
      "Page: 129....... Finished Col ...... Finished Col ....... Finished Col \n",
      "Page: 130....... Finished Col ...... Finished Col ....... Finished Col \n",
      "Page: 131....... Finished Col ...... Finished Col ...... Finished Col \n",
      "Page: 132...... Finished Col ....... Finished Col ...... Finished Col \n",
      "Page: 133....... Finished Col ....... Finished Col ....... Finished Col \n",
      "Page: 134...... Finished Col ....... Finished Col ...... Finished Col \n",
      "Page: 135...... Finished Col ...... Finished Col ...... Finished Col \n",
      "Page: 136...... Finished Col ....... Finished Col ...... Finished Col \n",
      "Page: 137..... Finished Col ...... Finished Col ...... Finished Col \n",
      "Page: 138....... Finished Col ...... Finished Col ...... Finished Col \n",
      "Page: 139...... Finished Col ...... Finished Col ...... Finished Col \n",
      "Page: 140...... Finished Col .. Finished Col \n",
      "Page: 141...... Finished Col ...... Finished Col ..... Finished Col \n",
      "Page: 142..... Finished Col ..... Finished Col ...... Finished Col \n",
      "Page: 143...... Finished Col ...... Finished Col ...... Finished Col \n",
      "Page: 144...... Finished Col ...... Finished Col ....... Finished Col \n",
      "Page: 145...... Finished Col ..... Finished Col ...... Finished Col \n",
      "Page: 146...... Finished Col ...... Finished Col ...... Finished Col \n",
      "Page: 147..... Finished Col ...... Finished Col ..... Finished Col \n",
      "Page: 148...... Finished Col ...... Finished Col ...... Finished Col \n",
      "Page: 149...... Finished Col ...... Finished Col ..... Finished Col \n",
      "Page: 150...... Finished Col ... Finished Col \n",
      "Page: 151...... Finished Col ...... Finished Col ....... Finished Col \n",
      "Page: 152...... Finished Col ....... Finished Col .... Finished Col \n",
      "Page: 153...... Finished Col ...... Finished Col ....... Finished Col \n",
      "Page: 154...... Finished Col ....... Finished Col ...... Finished Col \n",
      "Page: 155...... Finished Col ..... Finished Col ...... Finished Col \n",
      "Page: 156...... Finished Col ...... Finished Col ...... Finished Col \n",
      "Page: 157...... Finished Col ...... Finished Col ...... Finished Col \n",
      "Page: 158....... Finished Col ..... Finished Col ...... Finished Col \n",
      "Page: 159...... Finished Col ...... Finished Col ...... Finished Col \n",
      "Page: 160...... Finished Col ....... Finished Col ...... Finished Col \n",
      "Page: 161...... Finished Col ...... Finished Col ...... Finished Col \n",
      "Page: 162...... Finished Col ...... Finished Col ....... Finished Col \n",
      "Page: 163...... Finished Col ...... Finished Col ...... Finished Col \n",
      "Page: 164...... Finished Col ...... Finished Col ...... Finished Col \n",
      "Page: 165...... Finished Col ...... Finished Col ...... Finished Col \n",
      "Page: 166...... Finished Col ...... Finished Col ...... Finished Col \n",
      "Page: 167....... Finished Col ...... Finished Col ...... Finished Col \n",
      "Page: 168...... Finished Col ...... Finished Col ...... Finished Col \n",
      "Page: 169....... Finished Col ....... Finished Col ...... Finished Col \n",
      "Page: 170...... Finished Col ...... Finished Col ...... Finished Col \n",
      "Page: 171...... Finished Col ...... Finished Col ....... Finished Col \n",
      "Page: 172...... Finished Col ....... Finished Col ....... Finished Col \n",
      "Page: 173....... Finished Col ...... Finished Col ...... Finished Col \n",
      "Page: 174...... Finished Col ..... Finished Col ...... Finished Col \n",
      "Page: 175...... Finished Col ...... Finished Col ..... Finished Col \n",
      "Page: 176...... Finished Col ...... Finished Col ...... Finished Col \n",
      "Page: 177...... Finished Col ...... Finished Col ....... Finished Col \n",
      "Page: 178....... Finished Col ..... Finished Col ...... Finished Col \n",
      "Page: 179....... Finished Col ....... Finished Col ...... Finished Col \n",
      "Page: 180...... Finished Col ....... Finished Col ...... Finished Col \n",
      "Page: 181...... Finished Col ...... Finished Col \n",
      "Page: 182\n",
      "Page: 183...... Finished Col ....... Finished Col ...... Finished Col \n",
      "Page: 184...... Finished Col ...... Finished Col ...... Finished Col \n",
      "Page: 185....... Finished Col ...... Finished Col ...... Finished Col \n",
      "Page: 186...... Finished Col ...... Finished Col ...... Finished Col \n",
      "Page: 187...... Finished Col ..... Finished Col ..... Finished Col \n",
      "Page: 188...... Finished Col ...... Finished Col ..... Finished Col \n",
      "Page: 189...... Finished Col ...... Finished Col ...... Finished Col \n",
      "Page: 190..... Finished Col ..... Finished Col ...... Finished Col \n",
      "Page: 191...... Finished Col ..... Finished Col ..... Finished Col \n",
      "Page: 192...... Finished Col .. Finished Col \n",
      "Page: 193. Finished Col \n",
      "Page: 194\n",
      "Page: 195...... Finished Col ...... Finished Col ...... Finished Col \n",
      "Page: 196....... Finished Col ...... Finished Col ....... Finished Col \n",
      "Page: 197...... Finished Col ...... Finished Col ...... Finished Col \n",
      "Page: 198...... Finished Col ...... Finished Col ...... Finished Col \n",
      "Page: 199...... Finished Col ...... Finished Col ...... Finished Col \n",
      "Page: 200.... Finished Col \n",
      "Page: 201...... Finished Col ..... Finished Col ...... Finished Col \n",
      "Page: 202...... Finished Col ...... Finished Col ...... Finished Col \n",
      "Page: 203...... Finished Col ...... Finished Col \n",
      "Page: 204\n",
      "Page: 205..... Finished Col ...... Finished Col ....... Finished Col \n",
      "Page: 206....... Finished Col ...... Finished Col ...... Finished Col \n",
      "Page: 207....... Finished Col ...... Finished Col ...... Finished Col \n",
      "Page: 208...... Finished Col ..... Finished Col ...... Finished Col \n",
      "Page: 209...... Finished Col ...... Finished Col ....... Finished Col \n",
      "Page: 210...... Finished Col ....... Finished Col ...... Finished Col \n",
      "Page: 211...... Finished Col ...... Finished Col ...... Finished Col \n",
      "Page: 212....... Finished Col ...... Finished Col ....... Finished Col \n",
      "Page: 213...... Finished Col ...... Finished Col ..... Finished Col \n",
      "Page: 214..... Finished Col ...... Finished Col ....... Finished Col \n",
      "Page: 215...... Finished Col ...... Finished Col ...... Finished Col \n",
      "Page: 216...... Finished Col ...... Finished Col ....... Finished Col \n",
      "Page: 217...... Finished Col ....... Finished Col ...... Finished Col \n",
      "Page: 218...... Finished Col ...... Finished Col ...... Finished Col \n",
      "Page: 219...... Finished Col ...... Finished Col ...... Finished Col \n",
      "Page: 220...... Finished Col ...... Finished Col ...... Finished Col \n",
      "Page: 221...... Finished Col ....... Finished Col ...... Finished Col \n",
      "Page: 222...... Finished Col ..... Finished Col ...... Finished Col \n",
      "Page: 223...... Finished Col ..... Finished Col ...... Finished Col \n",
      "Page: 224..... Finished Col ...... Finished Col ...... Finished Col \n",
      "Page: 225...... Finished Col ...... Finished Col ...... Finished Col \n",
      "Page: 226...... Finished Col ...... Finished Col ...... Finished Col \n",
      "Page: 227...... Finished Col ...... Finished Col ...... Finished Col \n",
      "Page: 228...... Finished Col ...... Finished Col ...... Finished Col \n",
      "Page: 229...... Finished Col ...... Finished Col ...... Finished Col \n",
      "Page: 230...... Finished Col ..... Finished Col ...... Finished Col \n",
      "Page: 231....... Finished Col ...... Finished Col ....... Finished Col \n",
      "Page: 232....... Finished Col ..... Finished Col ..... Finished Col \n",
      "Page: 233...... Finished Col ...... Finished Col ...... Finished Col \n",
      "Page: 234\n",
      "Page: 235...... Finished Col ..... Finished Col ...... Finished Col \n",
      "Page: 236...... Finished Col ...... Finished Col ...... Finished Col \n",
      "Page: 237...... Finished Col ...... Finished Col ...... Finished Col \n",
      "Page: 238...... Finished Col ...... Finished Col ...... Finished Col \n",
      "Page: 239....... Finished Col ....... Finished Col ....... Finished Col \n",
      "Page: 240..... Finished Col ...... Finished Col ...... Finished Col \n",
      "Page: 241....... Finished Col ...... Finished Col ...... Finished Col \n",
      "Page: 242...... Finished Col ...... Finished Col ...... Finished Col \n",
      "Page: 243....... Finished Col ....... Finished Col ...... Finished Col \n",
      "Page: 244..... Finished Col ...... Finished Col ...... Finished Col \n",
      "Page: 245...... Finished Col ..... Finished Col ...... Finished Col \n",
      "Page: 246...... Finished Col ...... Finished Col ..... Finished Col \n",
      "Page: 247...... Finished Col ..... Finished Col ...... Finished Col \n",
      "Page: 248..... Finished Col ...... Finished Col ..... Finished Col \n",
      "Page: 249...... Finished Col ...... Finished Col ...... Finished Col \n",
      "Page: 250..... Finished Col ....... Finished Col ...... Finished Col \n",
      "Page: 251..... Finished Col ..... Finished Col \n",
      "Page: 252\n",
      "Page: 253...... Finished Col ...... Finished Col ...... Finished Col \n",
      "Page: 254...... Finished Col ...... Finished Col ...... Finished Col \n",
      "Page: 255...... Finished Col ...... Finished Col ..... Finished Col \n",
      "Page: 256..... Finished Col ...... Finished Col ..... Finished Col \n",
      "Page: 257..... Finished Col ...... Finished Col ... Finished Col \n",
      "Page: 258\n",
      "Page: 259...... Finished Col ...... Finished Col ...... Finished Col \n",
      "Page: 260...... Finished Col ...... Finished Col ...... Finished Col \n",
      "Page: 261...... Finished Col ....... Finished Col ...... Finished Col \n",
      "Page: 262....... Finished Col ...... Finished Col ...... Finished Col \n",
      "Page: 263....... Finished Col ...... Finished Col ...... Finished Col \n",
      "Page: 264...... Finished Col ....... Finished Col ...... Finished Col \n",
      "Page: 265...... Finished Col ...... Finished Col ...... Finished Col \n",
      "Page: 266...... Finished Col ....... Finished Col ...... Finished Col \n",
      "Page: 267....... Finished Col ....... Finished Col ...... Finished Col \n",
      "Page: 268....... Finished Col ....... Finished Col ...... Finished Col \n",
      "Page: 269. Finished Col \n",
      "Page: 270\n",
      "Page: 271..... Finished Col ...... Finished Col ....... Finished Col \n",
      "Page: 272...... Finished Col ..... Finished Col ...... Finished Col \n",
      "Page: 273...... Finished Col ....... Finished Col ...... Finished Col \n",
      "Page: 274...... Finished Col ..... Finished Col ...... Finished Col \n",
      "Page: 275..... Finished Col ..... Finished Col ...... Finished Col \n",
      "Page: 276....... Finished Col ..... Finished Col .... Finished Col \n",
      "Page: 277..... Finished Col ...... Finished Col ...... Finished Col \n",
      "Page: 278....... Finished Col ...... Finished Col ...... Finished Col \n",
      "Page: 279...... Finished Col ....... Finished Col ....... Finished Col \n",
      "Page: 280....... Finished Col ..... Finished Col ..... Finished Col \n",
      "Page: 281..... Finished Col ..... Finished Col ...... Finished Col \n",
      "Page: 282...... Finished Col ...... Finished Col ...... Finished Col \n",
      "Page: 283...... Finished Col ...... Finished Col ..... Finished Col \n",
      "Page: 284..... Finished Col ...... Finished Col ...... Finished Col \n",
      "Page: 285..... Finished Col ...... Finished Col \n",
      "Page: 286\n",
      "Page: 287...... Finished Col ....... Finished Col ...... Finished Col \n",
      "Page: 288...... Finished Col ...... Finished Col ..... Finished Col \n",
      "Page: 289...... Finished Col ....... Finished Col ...... Finished Col \n",
      "Page: 290...... Finished Col ...... Finished Col ..... Finished Col \n",
      "Page: 291...... Finished Col ...... Finished Col ...... Finished Col \n",
      "Page: 292...... Finished Col ...... Finished Col .... Finished Col \n",
      "Page: 293...... Finished Col ....... Finished Col ...... Finished Col \n",
      "Page: 294....... Finished Col ...... Finished Col ...... Finished Col \n",
      "Page: 295...... Finished Col ...... Finished Col ...... Finished Col \n",
      "Page: 296...... Finished Col ..... Finished Col ...... Finished Col \n",
      "Page: 297...... Finished Col ....... Finished Col ...... Finished Col \n",
      "Page: 298...... Finished Col ...... Finished Col ...... Finished Col \n",
      "Page: 299...... Finished Col ....... Finished Col ....... Finished Col \n",
      "Page: 300...... Finished Col ....... Finished Col ...... Finished Col \n",
      "Page: 301...... Finished Col ....... Finished Col .. Finished Col \n",
      "Page: 302\n",
      "Page: 303...... Finished Col ...... Finished Col ...... Finished Col \n",
      "Page: 304....... Finished Col ....... Finished Col ...... Finished Col \n",
      "Page: 305....... Finished Col ...... Finished Col ...... Finished Col \n",
      "Page: 306....... Finished Col ....... Finished Col ....... Finished Col \n",
      "Page: 307...... Finished Col ...... Finished Col ....... Finished Col \n",
      "Page: 308...... Finished Col ...... Finished Col ...... Finished Col \n",
      "Page: 309...... Finished Col ...... Finished Col ..... Finished Col \n",
      "Page: 310...... Finished Col ...... Finished Col ...... Finished Col \n",
      "Page: 311...... Finished Col ...... Finished Col ....... Finished Col \n",
      "Page: 312...... Finished Col ...... Finished Col ...... Finished Col \n",
      "Page: 313....... Finished Col ...... Finished Col ...... Finished Col \n",
      "Page: 314...... Finished Col ..... Finished Col ...... Finished Col \n",
      "Page: 315....... Finished Col ...... Finished Col ...... Finished Col \n",
      "Page: 316...... Finished Col ....... Finished Col ...... Finished Col \n",
      "Page: 317....... Finished Col ...... Finished Col ....... Finished Col \n",
      "Page: 318...... Finished Col ...... Finished Col ...... Finished Col \n",
      "Page: 319..... Finished Col \n",
      "Page: 320\n",
      "Page: 321...... Finished Col ...... Finished Col ....... Finished Col \n",
      "Page: 322...... Finished Col ...... Finished Col ...... Finished Col \n",
      "Page: 323....... Finished Col ...... Finished Col ...... Finished Col \n",
      "Page: 324..... Finished Col ..... Finished Col ..... Finished Col \n",
      "Page: 325...... Finished Col ...... Finished Col ...... Finished Col \n",
      "Page: 326...... Finished Col ...... Finished Col ...... Finished Col \n",
      "Page: 327...... Finished Col ....... Finished Col ...... Finished Col \n",
      "Page: 328...... Finished Col ..... Finished Col ...... Finished Col \n",
      "Page: 329...... Finished Col ...... Finished Col ...... Finished Col \n",
      "Page: 330...... Finished Col ...... Finished Col ...... Finished Col \n",
      "Page: 331...... Finished Col ...... Finished Col ..... Finished Col \n",
      "Page: 332..... Finished Col ..... Finished Col ..... Finished Col \n",
      "Page: 333...... Finished Col .... Finished Col \n",
      "Page: 334\n",
      "Page: 335...... Finished Col ...... Finished Col ....... Finished Col \n",
      "Page: 336..... Finished Col ...... Finished Col ...... Finished Col \n",
      "Page: 337...... Finished Col ...... Finished Col ..... Finished Col \n",
      "Page: 338....... Finished Col ...... Finished Col ...... Finished Col \n",
      "Page: 339...... Finished Col ...... Finished Col ...... Finished Col \n",
      "Page: 340...... Finished Col ...... Finished Col ...... Finished Col \n",
      "Page: 341...... Finished Col ...... Finished Col ...... Finished Col \n",
      "Page: 342...... Finished Col ...... Finished Col ....... Finished Col \n",
      "Page: 343...... Finished Col ...... Finished Col ...... Finished Col \n",
      "Page: 344...... Finished Col ...... Finished Col ...... Finished Col \n",
      "Page: 345....... Finished Col ...... Finished Col ....... Finished Col \n",
      "Page: 346...... Finished Col ..... Finished Col ..... Finished Col \n",
      "Page: 347...... Finished Col ...... Finished Col ...... Finished Col \n",
      "Page: 348...... Finished Col ...... Finished Col ...... Finished Col \n",
      "Page: 349....... Finished Col ...... Finished Col ...... Finished Col \n",
      "Page: 350....... Finished Col ...... Finished Col ....... Finished Col \n",
      "Page: 351...... Finished Col ..... Finished Col ...... Finished Col \n",
      "Page: 352...... Finished Col ...... Finished Col ...... Finished Col \n",
      "Page: 353...... Finished Col ...... Finished Col ...... Finished Col \n",
      "Page: 354...... Finished Col ...... Finished Col ...... Finished Col \n",
      "Page: 355...... Finished Col ...... Finished Col ..... Finished Col \n",
      "Page: 356...... Finished Col ..... Finished Col ...... Finished Col \n",
      "Page: 357...... Finished Col ...... Finished Col ...... Finished Col \n",
      "Page: 358...... Finished Col ...... Finished Col ...... Finished Col \n",
      "Page: 359..... Finished Col ...... Finished Col ...... Finished Col \n",
      "Page: 360...... Finished Col .... Finished Col \n",
      "Page: 361...... Finished Col ...... Finished Col ...... Finished Col \n",
      "Page: 362...... Finished Col ..... Finished Col ...... Finished Col \n",
      "Page: 363....... Finished Col ...... Finished Col ...... Finished Col \n",
      "Page: 364...... Finished Col ...... Finished Col ...... Finished Col \n",
      "Page: 365...... Finished Col ....... Finished Col ...... Finished Col \n",
      "Page: 366........ Finished Col ...... Finished Col ........ Finished Col \n",
      "Page: 367....... Finished Col ....... Finished Col ...... Finished Col \n",
      "Page: 368...... Finished Col ...... Finished Col ..... Finished Col \n",
      "Page: 369...... Finished Col ....... Finished Col ....... Finished Col \n",
      "Page: 370....... Finished Col ....... Finished Col ....... Finished Col \n",
      "Page: 371...... Finished Col ...... Finished Col ...... Finished Col \n",
      "Page: 372...... Finished Col ...... Finished Col ... Finished Col \n",
      "Page: 373..... Finished Col ..... Finished Col ...... Finished Col \n",
      "Page: 374..... Finished Col ...... Finished Col ...... Finished Col \n",
      "Page: 375....... Finished Col ...... Finished Col ..... Finished Col \n",
      "Page: 376..... Finished Col ..... Finished Col ..... Finished Col \n",
      "Page: 377...... Finished Col ..... Finished Col \n",
      "Page: 378\n",
      "Page: 379...... Finished Col ...... Finished Col ...... Finished Col \n",
      "Page: 380...... Finished Col ..... Finished Col ...... Finished Col \n",
      "Page: 381...... Finished Col ...... Finished Col ..... Finished Col \n",
      "Page: 382...... Finished Col ..... Finished Col ...... Finished Col \n",
      "Page: 383..... Finished Col ..... Finished Col ...... Finished Col \n",
      "Page: 384...... Finished Col ...... Finished Col ...... Finished Col \n",
      "Page: 385...... Finished Col ..... Finished Col ..... Finished Col \n",
      "Page: 386...... Finished Col ..... Finished Col ...... Finished Col \n",
      "Page: 387...... Finished Col ...... Finished Col ...... Finished Col \n",
      "Page: 388....... Finished Col ...... Finished Col ....... Finished Col \n",
      "Page: 389...... Finished Col ..... Finished Col ...... Finished Col \n",
      "Page: 390...... Finished Col ..... Finished Col ..... Finished Col \n",
      "Page: 391. Finished Col \n",
      "Page: 392\n",
      "Page: 393...... Finished Col ...... Finished Col ..... Finished Col \n",
      "Page: 394...... Finished Col ...... Finished Col ..... Finished Col \n",
      "Page: 395...... Finished Col ...... Finished Col ...... Finished Col \n",
      "Page: 396...... Finished Col ...... Finished Col ...... Finished Col \n",
      "Page: 397...... Finished Col ...... Finished Col ....... Finished Col \n",
      "Page: 398..... Finished Col ....... Finished Col ....... Finished Col \n",
      "Page: 399...... Finished Col ..... Finished Col ... Finished Col \n",
      "Page: 400\n",
      "Page: 401...... Finished Col ..... Finished Col ...... Finished Col \n",
      "Page: 402...... Finished Col ...... Finished Col ...... Finished Col \n",
      "Page: 403...... Finished Col ...... Finished Col ..... Finished Col \n",
      "Page: 404\n",
      "Page: 405...... Finished Col ...... Finished Col ...... Finished Col \n",
      "Page: 406...... Finished Col ...... Finished Col ...... Finished Col \n",
      "Page: 407. Finished Col \n",
      "Page: 408\n",
      "Page: 409...... Finished Col ...... Finished Col ...... Finished Col \n",
      "Page: 410..... Finished Col ...... Finished Col ...... Finished Col \n",
      "Page: 411...... Finished Col ...... Finished Col ...... Finished Col \n",
      "Page: 412...... Finished Col ...... Finished Col ...... Finished Col \n",
      "Page: 413...... Finished Col ..... Finished Col ...... Finished Col \n",
      "Page: 414...... Finished Col ..... Finished Col ...... Finished Col \n",
      "Page: 415...... Finished Col ...... Finished Col ...... Finished Col \n",
      "Page: 416...... Finished Col ...... Finished Col ...... Finished Col \n",
      "Page: 417....... Finished Col ...... Finished Col ...... Finished Col \n",
      "Page: 418...... Finished Col ...... Finished Col ...... Finished Col \n",
      "Page: 419...... Finished Col ...... Finished Col ...... Finished Col \n",
      "Page: 420...... Finished Col ....... Finished Col ...... Finished Col \n",
      "Page: 421...... Finished Col ....... Finished Col ...... Finished Col \n",
      "Page: 422....... Finished Col ....... Finished Col ....... Finished Col \n",
      "Page: 423...... Finished Col ....... Finished Col ...... Finished Col \n",
      "Page: 424\n",
      "Page: 425...... Finished Col ...... Finished Col ...... Finished Col \n",
      "Page: 426..... Finished Col ...... Finished Col ...... Finished Col \n",
      "Page: 427..... Finished Col ..... Finished Col ....... Finished Col \n",
      "Page: 428..... Finished Col \n",
      "Page: 429...... Finished Col ....... Finished Col ....... Finished Col \n",
      "Page: 430..... Finished Col ...... Finished Col ..... Finished Col \n",
      "Page: 431..... Finished Col ...... Finished Col ..... Finished Col \n",
      "Page: 432..... Finished Col ..... Finished Col ...... Finished Col \n",
      "Page: 433..... Finished Col ...... Finished Col ..... Finished Col \n",
      "Page: 434..... Finished Col ...... Finished Col ...... Finished Col \n",
      "Page: 435...... Finished Col ..... Finished Col ..... Finished Col \n",
      "Page: 436...... Finished Col ..... Finished Col ...... Finished Col \n",
      "Page: 437..... Finished Col ...... Finished Col ...... Finished Col \n",
      "Page: 438...... Finished Col ...... Finished Col ...... Finished Col \n",
      "Page: 439...... Finished Col ...... Finished Col ...... Finished Col \n",
      "Page: 440...... Finished Col ...... Finished Col .... Finished Col \n",
      "Page: 441...... Finished Col ...... Finished Col ...... Finished Col \n",
      "Page: 442...... Finished Col ...... Finished Col ..... Finished Col \n",
      "Page: 443...... Finished Col ...... Finished Col ...... Finished Col \n",
      "Page: 444...... Finished Col ...... Finished Col ...... Finished Col \n",
      "Page: 445...... Finished Col ...... Finished Col ..... Finished Col \n",
      "Page: 446...... Finished Col ..... Finished Col ..... Finished Col \n",
      "Page: 447..... Finished Col ..... Finished Col ...... Finished Col \n",
      "Page: 448...... Finished Col ..... Finished Col ...... Finished Col \n",
      "Page: 449..... Finished Col ..... Finished Col ...... Finished Col \n",
      "Page: 450...... Finished Col ...... Finished Col ..... Finished Col \n",
      "Page: 451..... Finished Col ..... Finished Col ..... Finished Col \n",
      "Page: 452..... Finished Col ..... Finished Col ..... Finished Col \n",
      "Page: 453..... Finished Col ...... Finished Col ...... Finished Col \n",
      "Page: 454...... Finished Col ..... Finished Col ...... Finished Col \n",
      "Page: 455..... Finished Col ..... Finished Col ...... Finished Col \n",
      "Page: 456..... Finished Col ..... Finished Col ...... Finished Col \n",
      "Page: 457..... Finished Col ...... Finished Col ..... Finished Col \n",
      "Page: 458.... Finished Col ..... Finished Col ..... Finished Col \n",
      "Page: 459..... Finished Col ..... Finished Col ...... Finished Col \n",
      "Page: 460..... Finished Col ..... Finished Col ..... Finished Col \n",
      "Page: 461...... Finished Col ...... Finished Col ..... Finished Col \n",
      "Page: 462...... Finished Col ..... Finished Col ..... Finished Col \n",
      "Page: 463..... Finished Col ..... Finished Col ...... Finished Col \n",
      "Page: 464..... Finished Col ...... Finished Col ...... Finished Col \n",
      "Page: 465...... Finished Col ...... Finished Col ...... Finished Col \n",
      "Page: 466...... Finished Col ...... Finished Col ..... Finished Col \n",
      "Page: 467...... Finished Col ...... Finished Col ..... Finished Col \n",
      "Page: 468...... Finished Col ...... Finished Col ..... Finished Col \n",
      "Page: 469...... Finished Col ..... Finished Col ...... Finished Col \n",
      "Page: 470..... Finished Col ...... Finished Col ..... Finished Col \n",
      "Page: 471..... Finished Col ...... Finished Col ...... Finished Col \n",
      "Page: 472...... Finished Col ...... Finished Col ...... Finished Col \n",
      "Page: 473..... Finished Col ...... Finished Col ...... Finished Col \n",
      "Page: 474...... Finished Col ...... Finished Col ...... Finished Col \n",
      "Page: 475..... Finished Col ...... Finished Col ...... Finished Col \n",
      "Page: 476...... Finished Col ...... Finished Col ..... Finished Col \n",
      "Page: 477...... Finished Col ..... Finished Col ..... Finished Col \n",
      "Page: 478...... Finished Col ...... Finished Col ...... Finished Col \n",
      "Page: 479...... Finished Col ...... Finished Col ...... Finished Col \n",
      "Page: 480...... Finished Col ...... Finished Col ..... Finished Col \n",
      "Page: 481..... Finished Col ...... Finished Col ..... Finished Col \n",
      "Page: 482...... Finished Col ...... Finished Col ..... Finished Col \n",
      "Page: 483..... Finished Col .... Finished Col \n",
      "Page: 484\n",
      "Page: 485...... Finished Col ...... Finished Col ...... Finished Col \n",
      "Page: 486...... Finished Col ...... Finished Col ....... Finished Col \n",
      "Page: 487....... Finished Col ....... Finished Col ...... Finished Col \n",
      "Page: 488....... Finished Col ...... Finished Col ..... Finished Col \n",
      "Page: 489...... Finished Col ...... Finished Col ....... Finished Col \n",
      "Page: 490...... Finished Col ....... Finished Col ...... Finished Col \n",
      "Page: 491..... Finished Col ...... Finished Col ....... Finished Col \n",
      "Page: 492...... Finished Col ...... Finished Col ....... Finished Col \n",
      "Page: 493...... Finished Col ...... Finished Col ....... Finished Col \n",
      "Page: 494...... Finished Col ...... Finished Col ....... Finished Col \n",
      "Page: 495...... Finished Col ....... Finished Col ..... Finished Col \n",
      "Page: 496...... Finished Col ...... Finished Col ....... Finished Col \n",
      "Page: 497...... Finished Col ...... Finished Col ...... Finished Col \n",
      "Page: 498....... Finished Col ...... Finished Col ... Finished Col \n",
      "Page: 499....... Finished Col ...... Finished Col ..... Finished Col \n",
      "Page: 500....... Finished Col ...... Finished Col ...... Finished Col \n",
      "Page: 501...... Finished Col ..... Finished Col ...... Finished Col \n",
      "Page: 502\n",
      "Page: 503...... Finished Col ...... Finished Col ..... Finished Col \n",
      "Page: 504..... Finished Col ..... Finished Col ..... Finished Col \n",
      "Page: 505...... Finished Col ...... Finished Col ...... Finished Col \n",
      "Page: 506..... Finished Col ...... Finished Col ...... Finished Col \n",
      "Page: 507...... Finished Col ....... Finished Col ...... Finished Col \n",
      "Page: 508...... Finished Col ....... Finished Col ...... Finished Col \n",
      "Page: 509....... Finished Col ....... Finished Col ....... Finished Col \n",
      "Page: 510....... Finished Col ....... Finished Col ...... Finished Col \n",
      "Page: 511...... Finished Col ...... Finished Col ...... Finished Col \n",
      "Page: 512...... Finished Col ...... Finished Col ...... Finished Col \n",
      "Page: 513...... Finished Col ..... Finished Col ...... Finished Col \n",
      "Page: 514...... Finished Col ..... Finished Col ...... Finished Col \n",
      "Page: 515..... Finished Col ..... Finished Col ...... Finished Col \n",
      "Page: 516..... Finished Col ..... Finished Col ...... Finished Col \n",
      "Page: 517...... Finished Col ..... Finished Col ...... Finished Col \n",
      "Page: 518...... Finished Col ..... Finished Col ...... Finished Col \n",
      "Page: 519...... Finished Col ...... Finished Col ...... Finished Col \n",
      "Page: 520..... Finished Col ...... Finished Col ...... Finished Col \n",
      "Page: 521...... Finished Col ...... Finished Col ...... Finished Col \n",
      "Page: 522...... Finished Col ...... Finished Col ...... Finished Col \n",
      "Page: 523.. Finished Col \n",
      "Page: 524\n",
      "Page: 525....... Finished Col ...... Finished Col ....... Finished Col \n",
      "Page: 526...... Finished Col ...... Finished Col ...... Finished Col \n",
      "Page: 527...... Finished Col ...... Finished Col ...... Finished Col \n",
      "Page: 528...... Finished Col ....... Finished Col ...... Finished Col \n",
      "Page: 529....... Finished Col ...... Finished Col ...... Finished Col \n",
      "Page: 530...... Finished Col ...... Finished Col ....... Finished Col \n",
      "Page: 531....... Finished Col ...... Finished Col .. Finished Col \n",
      "Page: 532\n",
      "Page: 533...... Finished Col ...... Finished Col ...... Finished Col \n",
      "Page: 534...... Finished Col ....... Finished Col ...... Finished Col \n",
      "Page: 535...... Finished Col ..... Finished Col ...... Finished Col \n",
      "Page: 536...... Finished Col ...... Finished Col ...... Finished Col \n",
      "Page: 537..... Finished Col ...... Finished Col ...... Finished Col \n",
      "Page: 538...... Finished Col ...... Finished Col ...... Finished Col \n",
      "Page: 539...... Finished Col ...... Finished Col ....... Finished Col \n",
      "Page: 540...... Finished Col ...... Finished Col ...... Finished Col \n",
      "Page: 541...... Finished Col ...... Finished Col ...... Finished Col \n",
      "Page: 542....... Finished Col ...... Finished Col ..... Finished Col \n",
      "Page: 543...... Finished Col \n",
      "Page: 544\n",
      "Page: 545...... Finished Col ...... Finished Col ...... Finished Col \n",
      "Page: 546...... Finished Col ...... Finished Col ..... Finished Col \n",
      "Page: 547...... Finished Col ...... Finished Col ...... Finished Col \n",
      "Page: 548...... Finished Col ...... Finished Col ..... Finished Col \n",
      "Page: 549...... Finished Col ....... Finished Col ...... Finished Col \n",
      "Page: 550...... Finished Col ..... Finished Col ...... Finished Col \n",
      "Page: 551...... Finished Col ...... Finished Col ...... Finished Col \n",
      "Page: 552...... Finished Col ....... Finished Col ....... Finished Col \n",
      "Page: 553...... Finished Col ...... Finished Col ..... Finished Col \n",
      "Page: 554...... Finished Col ...... Finished Col ...... Finished Col \n",
      "Page: 555...... Finished Col ...... Finished Col ...... Finished Col \n",
      "Page: 556...... Finished Col ..... Finished Col ...... Finished Col \n",
      "Page: 557....... Finished Col ...... Finished Col ...... Finished Col \n",
      "Page: 558....... Finished Col ...... Finished Col ...... Finished Col \n",
      "Page: 559...... Finished Col ...... Finished Col ...... Finished Col \n",
      "Page: 560...... Finished Col ...... Finished Col ...... Finished Col \n",
      "Page: 561...... Finished Col ...... Finished Col ...... Finished Col \n",
      "Page: 562...... Finished Col ...... Finished Col ..... Finished Col \n",
      "Page: 563...... Finished Col ...... Finished Col ...... Finished Col \n",
      "Page: 564...... Finished Col ...... Finished Col ...... Finished Col \n",
      "Page: 565...... Finished Col ...... Finished Col ...... Finished Col \n",
      "Page: 566...... Finished Col ...... Finished Col ...... Finished Col \n",
      "Page: 567...... Finished Col ....... Finished Col ....... Finished Col \n",
      "Page: 568...... Finished Col ...... Finished Col ...... Finished Col \n",
      "Page: 569...... Finished Col ...... Finished Col ...... Finished Col \n",
      "Page: 570...... Finished Col ...... Finished Col ....... Finished Col \n",
      "Page: 571....... Finished Col ...... Finished Col ...... Finished Col \n",
      "Page: 572...... Finished Col ...... Finished Col ... Finished Col \n",
      "Page: 573...... Finished Col ...... Finished Col ...... Finished Col \n",
      "Page: 574...... Finished Col ...... Finished Col ...... Finished Col \n",
      "Page: 575..... Finished Col ..... Finished Col . Finished Col \n",
      "Page: 576\n",
      "Page: 577...... Finished Col ...... Finished Col ...... Finished Col \n",
      "Page: 578...... Finished Col ...... Finished Col ...... Finished Col \n",
      "Page: 579...... Finished Col ..... Finished Col ...... Finished Col \n",
      "Page: 580...... Finished Col ..... Finished Col ..... Finished Col \n",
      "Page: 581...... Finished Col . Finished Col \n",
      "Page: 582\n",
      "Page: 583...... Finished Col ..... Finished Col ...... Finished Col \n",
      "Page: 584...... Finished Col ...... Finished Col ...... Finished Col \n",
      "Page: 585...... Finished Col ...... Finished Col .... Finished Col \n",
      "Page: 586\n",
      "Page: 587..... Finished Col ..... Finished Col ..... Finished Col \n",
      "Page: 588...... Finished Col ..... Finished Col ..... Finished Col \n",
      "Page: 589..... Finished Col ...... Finished Col ...... Finished Col \n",
      "Page: 590...... Finished Col ..... Finished Col ...... Finished Col \n",
      "Page: 591...... Finished Col ...... Finished Col ...... Finished Col \n",
      "Page: 592...... Finished Col ...... Finished Col ....... Finished Col \n",
      "Page: 593....... Finished Col ...... Finished Col ..... Finished Col \n",
      "Page: 594...... Finished Col ...... Finished Col ...... Finished Col \n",
      "Page: 595..... Finished Col ...... Finished Col ..... Finished Col \n",
      "Page: 596... Finished Col \n",
      "Page: 597...... Finished Col ...... Finished Col ...... Finished Col \n",
      "Page: 598...... Finished Col ...... Finished Col ....... Finished Col \n",
      "Page: 599...... Finished Col ...... Finished Col ...... Finished Col \n",
      "Page: 600...... Finished Col ...... Finished Col ..... Finished Col \n",
      "Page: 601...... Finished Col ...... Finished Col ....... Finished Col \n",
      "Page: 602...... Finished Col ...... Finished Col ...... Finished Col \n",
      "Page: 603...... Finished Col ...... Finished Col ...... Finished Col \n",
      "Page: 604...... Finished Col ...... Finished Col ...... Finished Col \n",
      "Page: 605...... Finished Col ...... Finished Col ...... Finished Col \n",
      "Page: 606...... Finished Col ...... Finished Col ...... Finished Col \n",
      "Page: 607...... Finished Col ...... Finished Col ...... Finished Col \n",
      "Page: 608...... Finished Col ....... Finished Col ....... Finished Col \n",
      "Page: 609...... Finished Col ....... Finished Col ...... Finished Col \n",
      "Page: 610....... Finished Col ...... Finished Col ...... Finished Col \n",
      "Page: 611...... Finished Col ..... Finished Col ...... Finished Col \n",
      "Page: 612...... Finished Col ...... Finished Col ...... Finished Col \n",
      "Page: 613...... Finished Col ..... Finished Col ...... Finished Col \n",
      "Page: 614...... Finished Col ...... Finished Col ...... Finished Col \n",
      "Page: 615...... Finished Col ..... Finished Col ...... Finished Col \n",
      "Page: 616...... Finished Col ...... Finished Col ...... Finished Col \n",
      "Page: 617....... Finished Col ...... Finished Col ...... Finished Col \n",
      "Page: 618..... Finished Col ....... Finished Col ...... Finished Col \n",
      "Page: 619...... Finished Col ...... Finished Col ...... Finished Col \n",
      "Page: 620...... Finished Col ....... Finished Col \n",
      "Page: 621..... Finished Col ...... Finished Col ...... Finished Col \n",
      "Page: 622..... Finished Col ...... Finished Col ...... Finished Col \n",
      "Page: 623...... Finished Col ..... Finished Col ....... Finished Col \n",
      "Page: 624...... Finished Col ...... Finished Col ...... Finished Col \n",
      "Page: 625...... Finished Col ...... Finished Col ...... Finished Col \n",
      "Page: 626....... Finished Col ...... Finished Col . Finished Col \n",
      "Page: 627..... Finished Col ..... Finished Col ...... Finished Col \n",
      "Page: 628...... Finished Col ..... Finished Col .... Finished Col \n",
      "Page: 629.. Finished Col \n",
      "Page: 630\n",
      "Page: 631..... Finished Col ....... Finished Col ..... Finished Col \n",
      "Page: 632..... Finished Col ..... Finished Col ..... Finished Col \n",
      "Page: 633...... Finished Col ..... Finished Col ...... Finished Col \n",
      "Page: 634...... Finished Col ...... Finished Col ...... Finished Col \n",
      "Page: 635..... Finished Col ...... Finished Col ...... Finished Col \n",
      "Page: 636..... Finished Col ...... Finished Col ...... Finished Col \n",
      "Page: 637.... Finished Col \n",
      "Page: 638\n",
      "Page: 639...... Finished Col ...... Finished Col ...... Finished Col \n",
      "Page: 640....... Finished Col ....... Finished Col ....... Finished Col \n",
      "Page: 641....... Finished Col ...... Finished Col ...... Finished Col \n",
      "Page: 642..... Finished Col ...... Finished Col ...... Finished Col \n",
      "Page: 643...... Finished Col ...... Finished Col ...... Finished Col \n",
      "Page: 644..... Finished Col ..... Finished Col ...... Finished Col \n",
      "Page: 645...... Finished Col ...... Finished Col ...... Finished Col \n",
      "Page: 646...... Finished Col ....... Finished Col ...... Finished Col \n",
      "Page: 647...... Finished Col ...... Finished Col ..... Finished Col \n",
      "Page: 648...... Finished Col ...... Finished Col ...... Finished Col \n",
      "Page: 649...... Finished Col ....... Finished Col ...... Finished Col \n",
      "Page: 650...... Finished Col ...... Finished Col ....... Finished Col \n",
      "Page: 651....... Finished Col ...... Finished Col ...... Finished Col \n",
      "Page: 652....... Finished Col ..... Finished Col ...... Finished Col \n",
      "Page: 653...... Finished Col ...... Finished Col ....... Finished Col \n",
      "Page: 654...... Finished Col ...... Finished Col ....... Finished Col \n",
      "Page: 655....... Finished Col ...... Finished Col ...... Finished Col \n",
      "Page: 656...... Finished Col ...... Finished Col ...... Finished Col \n",
      "Page: 657...... Finished Col ..... Finished Col ...... Finished Col \n",
      "Page: 658...... Finished Col ...... Finished Col ...... Finished Col \n",
      "Page: 659....... Finished Col ...... Finished Col \n",
      "Page: 660\n",
      "Page: 661..... Finished Col ..... Finished Col ...... Finished Col \n",
      "Page: 662..... Finished Col ...... Finished Col ...... Finished Col \n",
      "Page: 663...... Finished Col ...... Finished Col ..... Finished Col \n",
      "Page: 664..... Finished Col ..... Finished Col \n",
      "Page: 665...... Finished Col ..... Finished Col ...... Finished Col \n",
      "Page: 666..... Finished Col ...... Finished Col ...... Finished Col \n",
      "Page: 667...... Finished Col ...... Finished Col ...... Finished Col \n",
      "Page: 668..... Finished Col ...... Finished Col ...... Finished Col \n",
      "Page: 669..... Finished Col ..... Finished Col ...... Finished Col \n",
      "Page: 670...... Finished Col ...... Finished Col ...... Finished Col \n",
      "Page: 671...... Finished Col ....... Finished Col ...... Finished Col \n",
      "Page: 672...... Finished Col ..... Finished Col ...... Finished Col \n",
      "Page: 673..... Finished Col ...... Finished Col ....... Finished Col \n",
      "Page: 674...... Finished Col ...... Finished Col ...... Finished Col \n",
      "Page: 675..... Finished Col ....... Finished Col ...... Finished Col \n",
      "Page: 676..... Finished Col \n",
      "Page: 677...... Finished Col ...... Finished Col ...... Finished Col \n",
      "Page: 678..... Finished Col ...... Finished Col ...... Finished Col \n",
      "Page: 679..... Finished Col .... Finished Col \n",
      "Page: 680\n"
     ]
    }
   ],
   "source": [
    "pagen = 15\n",
    "\n",
    "for page in data:\n",
    "    print(\"Page:\", pagen, end = '')\n",
    "    page_data_holders = []\n",
    "    for col in page:\n",
    "        if col != []:\n",
    "            page_data_holders += clean_col_data(split_col_data(col))\n",
    "            print(\" Finished Col \", end = '')\n",
    "    with open(filename, 'a', newline = '') as file:\n",
    "        writer = csv.writer(file)\n",
    "        writer.writerows(page_data_holders)\n",
    "    pagen += 1\n",
    "    print('')"
   ]
  },
  {
   "cell_type": "code",
   "execution_count": 121,
   "metadata": {},
   "outputs": [],
   "source": [
    "# #check error data\n",
    "# no error"
   ]
  },
  {
   "cell_type": "markdown",
   "metadata": {},
   "source": [
    "- Rewrite data in problem pages"
   ]
  },
  {
   "cell_type": "code",
   "execution_count": 122,
   "metadata": {},
   "outputs": [],
   "source": [
    "# ^^"
   ]
  },
  {
   "cell_type": "markdown",
   "metadata": {},
   "source": [
    "# Clean final data\n",
    "- Replaced \"A venue\" with \"A venue\" in Address1\n",
    "- Split ZIP code into two if in the format \"35294-0018\"\n",
    "- To-do:\n",
    "    - Clean up the wrong letters/numbers in address"
   ]
  },
  {
   "cell_type": "code",
   "execution_count": 123,
   "metadata": {},
   "outputs": [],
   "source": [
    "import pandas as pd"
   ]
  },
  {
   "cell_type": "code",
   "execution_count": 124,
   "metadata": {},
   "outputs": [
    {
     "data": {
      "text/html": [
       "<div>\n",
       "<style scoped>\n",
       "    .dataframe tbody tr th:only-of-type {\n",
       "        vertical-align: middle;\n",
       "    }\n",
       "\n",
       "    .dataframe tbody tr th {\n",
       "        vertical-align: top;\n",
       "    }\n",
       "\n",
       "    .dataframe thead th {\n",
       "        text-align: right;\n",
       "    }\n",
       "</style>\n",
       "<table border=\"1\" class=\"dataframe\">\n",
       "  <thead>\n",
       "    <tr style=\"text-align: right;\">\n",
       "      <th></th>\n",
       "      <th>Name1</th>\n",
       "      <th>Name2</th>\n",
       "      <th>Name3</th>\n",
       "      <th>Address1</th>\n",
       "      <th>Address2</th>\n",
       "      <th>Address3</th>\n",
       "      <th>City</th>\n",
       "      <th>State</th>\n",
       "      <th>ZIP_Code</th>\n",
       "      <th>Contact</th>\n",
       "      <th>Website</th>\n",
       "      <th>Note</th>\n",
       "      <th>Keys</th>\n",
       "    </tr>\n",
       "  </thead>\n",
       "  <tbody>\n",
       "    <tr>\n",
       "      <th>0</th>\n",
       "      <td>Lighthouse of Tallapoosa County Inc</td>\n",
       "      <td>Substance Abuse Rehab Program/Resid</td>\n",
       "      <td>NaN</td>\n",
       "      <td>36 Franklin Street</td>\n",
       "      <td>NaN</td>\n",
       "      <td>NaN</td>\n",
       "      <td>Alexander City</td>\n",
       "      <td>AL</td>\n",
       "      <td>35010</td>\n",
       "      <td>(256)234-4894</td>\n",
       "      <td>NaN</td>\n",
       "      <td>NaN</td>\n",
       "      <td>SA/TX/HH/RL/MN/SF/</td>\n",
       "    </tr>\n",
       "    <tr>\n",
       "      <th>1</th>\n",
       "      <td>Anniston Fellowship House Inc</td>\n",
       "      <td>NaN</td>\n",
       "      <td>NaN</td>\n",
       "      <td>106 East 22nd Street</td>\n",
       "      <td>NaN</td>\n",
       "      <td>NaN</td>\n",
       "      <td>Anniston</td>\n",
       "      <td>AL</td>\n",
       "      <td>36201</td>\n",
       "      <td>(256)236-7229</td>\n",
       "      <td>NaN</td>\n",
       "      <td>NaN</td>\n",
       "      <td>SA/TX/HH/RL/MN/SF/</td>\n",
       "    </tr>\n",
       "    <tr>\n",
       "      <th>2</th>\n",
       "      <td>Bridge Inc</td>\n",
       "      <td>Recovery Center for Teens/Ashville</td>\n",
       "      <td>NaN</td>\n",
       "      <td>474 10th Street</td>\n",
       "      <td>NaN</td>\n",
       "      <td>NaN</td>\n",
       "      <td>Ashville</td>\n",
       "      <td>AL</td>\n",
       "      <td>35953</td>\n",
       "      <td>(205)594-3111</td>\n",
       "      <td>NaN</td>\n",
       "      <td>NaN</td>\n",
       "      <td>SA/TX/OP/AD/CO/CJ/SF/MD/SI/PI/MI/SS/PA/AH/</td>\n",
       "    </tr>\n",
       "    <tr>\n",
       "      <th>3</th>\n",
       "      <td>Rapha Christian Home</td>\n",
       "      <td>NaN</td>\n",
       "      <td>NaN</td>\n",
       "      <td>677 West Covington Avenue</td>\n",
       "      <td>NaN</td>\n",
       "      <td>NaN</td>\n",
       "      <td>Attalla</td>\n",
       "      <td>AL</td>\n",
       "      <td>35954</td>\n",
       "      <td>(256)538-7458</td>\n",
       "      <td>NaN</td>\n",
       "      <td>NaN</td>\n",
       "      <td>SA/TX/HH/RL/SF/</td>\n",
       "    </tr>\n",
       "    <tr>\n",
       "      <th>4</th>\n",
       "      <td>Northwest Alabama Treatment Center</td>\n",
       "      <td>NaN</td>\n",
       "      <td>NaN</td>\n",
       "      <td>4204 Edmonton Drive</td>\n",
       "      <td>NaN</td>\n",
       "      <td>NaN</td>\n",
       "      <td>Bessemer</td>\n",
       "      <td>AL</td>\n",
       "      <td>35022</td>\n",
       "      <td>(205)425-1200</td>\n",
       "      <td>NaN</td>\n",
       "      <td>Methadone Clients Only</td>\n",
       "      <td>SA/TX/MM/OP/PW/SF/AH/</td>\n",
       "    </tr>\n",
       "    <tr>\n",
       "      <th>...</th>\n",
       "      <td>...</td>\n",
       "      <td>...</td>\n",
       "      <td>...</td>\n",
       "      <td>...</td>\n",
       "      <td>...</td>\n",
       "      <td>...</td>\n",
       "      <td>...</td>\n",
       "      <td>...</td>\n",
       "      <td>...</td>\n",
       "      <td>...</td>\n",
       "      <td>...</td>\n",
       "      <td>...</td>\n",
       "      <td>...</td>\n",
       "    </tr>\n",
       "    <tr>\n",
       "      <th>10968</th>\n",
       "      <td>Wyoming SA Trt and Recovery Centers</td>\n",
       "      <td>(WYSTAR) The Gathering Place</td>\n",
       "      <td>NaN</td>\n",
       "      <td>1003 Saberton Street</td>\n",
       "      <td>NaN</td>\n",
       "      <td>NaN</td>\n",
       "      <td>Sheridan</td>\n",
       "      <td>WY</td>\n",
       "      <td>82801</td>\n",
       "      <td>(307)672-2044</td>\n",
       "      <td>NaN</td>\n",
       "      <td>NaN</td>\n",
       "      <td>SA/TX/DT/HH/RS/RL/CO/WN/BC/SF/MD/MC/SI/PI/MI/SS/</td>\n",
       "    </tr>\n",
       "    <tr>\n",
       "      <th>10969</th>\n",
       "      <td>Hot Springs County Counseling Service</td>\n",
       "      <td>NaN</td>\n",
       "      <td>NaN</td>\n",
       "      <td>121 South 4th Street</td>\n",
       "      <td>NaN</td>\n",
       "      <td>NaN</td>\n",
       "      <td>Thermopolis</td>\n",
       "      <td>WY</td>\n",
       "      <td>82443</td>\n",
       "      <td>(307)864-3138</td>\n",
       "      <td>NaN</td>\n",
       "      <td>NaN</td>\n",
       "      <td>MH-SA/TX/OP/DU/SF/MD/SI/PI/MI/AR/SS/PA/</td>\n",
       "    </tr>\n",
       "    <tr>\n",
       "      <th>10970</th>\n",
       "      <td>Peak Wellness Center</td>\n",
       "      <td>Goshen County Clinic</td>\n",
       "      <td>NaN</td>\n",
       "      <td>501 Albany Avenue</td>\n",
       "      <td>NaN</td>\n",
       "      <td>NaN</td>\n",
       "      <td>Torrington</td>\n",
       "      <td>WY</td>\n",
       "      <td>82240</td>\n",
       "      <td>(307)532-4091</td>\n",
       "      <td>NaN</td>\n",
       "      <td>NaN</td>\n",
       "      <td>MH-SA/TX/OP/AD/DU/SF/MD/MC/SI/PI/MI/SS/</td>\n",
       "    </tr>\n",
       "    <tr>\n",
       "      <th>10971</th>\n",
       "      <td>Peak Wellness Center</td>\n",
       "      <td>Substance Abuse Services</td>\n",
       "      <td>NaN</td>\n",
       "      <td>103 Park Avenue</td>\n",
       "      <td>NaN</td>\n",
       "      <td>NaN</td>\n",
       "      <td>Wheatland</td>\n",
       "      <td>WY</td>\n",
       "      <td>82201</td>\n",
       "      <td>(307)322-3190 Hotline: (307)322-3190</td>\n",
       "      <td>NaN</td>\n",
       "      <td>NaN</td>\n",
       "      <td>MH-SA/TX/OP/CO/DU/SF/MD/MC/SI/PI/MI/SS/</td>\n",
       "    </tr>\n",
       "    <tr>\n",
       "      <th>10972</th>\n",
       "      <td>Washakie Mental Health Services</td>\n",
       "      <td>NaN</td>\n",
       "      <td>NaN</td>\n",
       "      <td>206 South 7th Street</td>\n",
       "      <td>NaN</td>\n",
       "      <td>NaN</td>\n",
       "      <td>Worland</td>\n",
       "      <td>WY</td>\n",
       "      <td>82401</td>\n",
       "      <td>(307)347-6165 Hotline: (307)347-6165</td>\n",
       "      <td>NaN</td>\n",
       "      <td>NaN</td>\n",
       "      <td>MH-SA/TX/OP/DU/SF/MD/SI/PI/MI/SS/AH/</td>\n",
       "    </tr>\n",
       "  </tbody>\n",
       "</table>\n",
       "<p>10973 rows × 13 columns</p>\n",
       "</div>"
      ],
      "text/plain": [
       "                                       Name1  \\\n",
       "0        Lighthouse of Tallapoosa County Inc   \n",
       "1              Anniston Fellowship House Inc   \n",
       "2                                 Bridge Inc   \n",
       "3                       Rapha Christian Home   \n",
       "4         Northwest Alabama Treatment Center   \n",
       "...                                      ...   \n",
       "10968    Wyoming SA Trt and Recovery Centers   \n",
       "10969  Hot Springs County Counseling Service   \n",
       "10970                   Peak Wellness Center   \n",
       "10971                   Peak Wellness Center   \n",
       "10972        Washakie Mental Health Services   \n",
       "\n",
       "                                     Name2 Name3                   Address1  \\\n",
       "0      Substance Abuse Rehab Program/Resid   NaN         36 Franklin Street   \n",
       "1                                      NaN   NaN       106 East 22nd Street   \n",
       "2       Recovery Center for Teens/Ashville   NaN            474 10th Street   \n",
       "3                                      NaN   NaN  677 West Covington Avenue   \n",
       "4                                      NaN   NaN        4204 Edmonton Drive   \n",
       "...                                    ...   ...                        ...   \n",
       "10968         (WYSTAR) The Gathering Place   NaN       1003 Saberton Street   \n",
       "10969                                  NaN   NaN       121 South 4th Street   \n",
       "10970                 Goshen County Clinic   NaN          501 Albany Avenue   \n",
       "10971             Substance Abuse Services   NaN            103 Park Avenue   \n",
       "10972                                  NaN   NaN       206 South 7th Street   \n",
       "\n",
       "      Address2 Address3            City State  ZIP_Code  \\\n",
       "0          NaN      NaN  Alexander City    AL     35010   \n",
       "1          NaN      NaN        Anniston    AL     36201   \n",
       "2          NaN      NaN        Ashville    AL     35953   \n",
       "3          NaN      NaN         Attalla    AL     35954   \n",
       "4          NaN      NaN        Bessemer    AL     35022   \n",
       "...        ...      ...             ...   ...       ...   \n",
       "10968      NaN      NaN        Sheridan    WY     82801   \n",
       "10969      NaN      NaN     Thermopolis    WY     82443   \n",
       "10970      NaN      NaN      Torrington    WY     82240   \n",
       "10971      NaN      NaN       Wheatland    WY     82201   \n",
       "10972      NaN      NaN         Worland    WY     82401   \n",
       "\n",
       "                                    Contact  Website                    Note  \\\n",
       "0                             (256)234-4894      NaN                     NaN   \n",
       "1                             (256)236-7229      NaN                     NaN   \n",
       "2                             (205)594-3111      NaN                     NaN   \n",
       "3                             (256)538-7458      NaN                     NaN   \n",
       "4                             (205)425-1200      NaN  Methadone Clients Only   \n",
       "...                                     ...      ...                     ...   \n",
       "10968                         (307)672-2044      NaN                     NaN   \n",
       "10969                         (307)864-3138      NaN                     NaN   \n",
       "10970                         (307)532-4091      NaN                     NaN   \n",
       "10971  (307)322-3190 Hotline: (307)322-3190      NaN                     NaN   \n",
       "10972  (307)347-6165 Hotline: (307)347-6165      NaN                     NaN   \n",
       "\n",
       "                                                   Keys  \n",
       "0                                    SA/TX/HH/RL/MN/SF/  \n",
       "1                                    SA/TX/HH/RL/MN/SF/  \n",
       "2            SA/TX/OP/AD/CO/CJ/SF/MD/SI/PI/MI/SS/PA/AH/  \n",
       "3                                       SA/TX/HH/RL/SF/  \n",
       "4                                 SA/TX/MM/OP/PW/SF/AH/  \n",
       "...                                                 ...  \n",
       "10968  SA/TX/DT/HH/RS/RL/CO/WN/BC/SF/MD/MC/SI/PI/MI/SS/  \n",
       "10969           MH-SA/TX/OP/DU/SF/MD/SI/PI/MI/AR/SS/PA/  \n",
       "10970           MH-SA/TX/OP/AD/DU/SF/MD/MC/SI/PI/MI/SS/  \n",
       "10971           MH-SA/TX/OP/CO/DU/SF/MD/MC/SI/PI/MI/SS/  \n",
       "10972              MH-SA/TX/OP/DU/SF/MD/SI/PI/MI/SS/AH/  \n",
       "\n",
       "[10973 rows x 13 columns]"
      ]
     },
     "execution_count": 124,
     "metadata": {},
     "output_type": "execute_result"
    }
   ],
   "source": [
    "df = pd.read_csv(\"{}.csv\".format(YEAR))\n",
    "df"
   ]
  },
  {
   "cell_type": "code",
   "execution_count": 125,
   "metadata": {},
   "outputs": [],
   "source": [
    "#check if all state names are right\n",
    "for index, row in df.iterrows():\n",
    "    #print(row)\n",
    "    if len(row[7])!=2:\n",
    "        print(row)"
   ]
  },
  {
   "cell_type": "code",
   "execution_count": 126,
   "metadata": {},
   "outputs": [
    {
     "data": {
      "text/plain": [
       "Name1        object\n",
       "Name2        object\n",
       "Name3        object\n",
       "Address1     object\n",
       "Address2     object\n",
       "Address3     object\n",
       "City         object\n",
       "State        object\n",
       "ZIP_Code      int64\n",
       "Contact      object\n",
       "Website     float64\n",
       "Note         object\n",
       "Keys         object\n",
       "dtype: object"
      ]
     },
     "execution_count": 126,
     "metadata": {},
     "output_type": "execute_result"
    }
   ],
   "source": [
    "#check if all zip codes are correct\n",
    "df.dtypes"
   ]
  },
  {
   "cell_type": "markdown",
   "metadata": {},
   "source": [
    "- Correct in Pandas"
   ]
  },
  {
   "cell_type": "code",
   "execution_count": 127,
   "metadata": {},
   "outputs": [],
   "source": [
    "#if address 1 and 2 should actually be one line...\n",
    "for index, row in df.iterrows():\n",
    "    if row[0].split()[-1] == 'and':\n",
    "        if pd.isnull(row[1]):\n",
    "            print(index)\n",
    "        else:\n",
    "            df.at[index, 'Name1'] = row[0] + ' ' + row[1]\n",
    "            df.at[index, 'Name2'] = ''"
   ]
  },
  {
   "cell_type": "code",
   "execution_count": 128,
   "metadata": {},
   "outputs": [],
   "source": [
    "# def split_zip(zipc):\n",
    "#     if '-' in zipc:\n",
    "#         return zipc.split('-')\n",
    "#     return [zipc, None]\n",
    "# #split zip-code if zip code is in the format xxxxx-xxxx\n",
    "# df['zip1'] = [split_zip(zipc)[0] for zipc in df['ZIP_Code']]\n",
    "# df['zip2'] = [split_zip(zipc)[1] for zipc in df['ZIP_Code']]"
   ]
  },
  {
   "cell_type": "code",
   "execution_count": 129,
   "metadata": {},
   "outputs": [],
   "source": [
    "df.to_csv('{}_c.csv'.format(YEAR), index = False)"
   ]
  },
  {
   "cell_type": "markdown",
   "metadata": {},
   "source": [
    "## Summary stats"
   ]
  },
  {
   "cell_type": "markdown",
   "metadata": {},
   "source": [
    "- Check keys"
   ]
  },
  {
   "cell_type": "code",
   "execution_count": 130,
   "metadata": {},
   "outputs": [],
   "source": [
    "df = pd.read_csv('{}_c.csv'.format(YEAR))"
   ]
  },
  {
   "cell_type": "code",
   "execution_count": 131,
   "metadata": {},
   "outputs": [
    {
     "name": "stdout",
     "output_type": "stream",
     "text": [
      "MM Methadone maintenance\n",
      "DM Methadone detoxification\n"
     ]
    }
   ],
   "source": [
    "Methadone_keys = []\n",
    "for key, val in abbr_keys.items():\n",
    "    if val:\n",
    "        if 'Methadone' in val:\n",
    "            Methadone_keys.append(key)\n",
    "            print(key, val)"
   ]
  },
  {
   "cell_type": "code",
   "execution_count": 132,
   "metadata": {},
   "outputs": [
    {
     "name": "stdout",
     "output_type": "stream",
     "text": [
      "BU Buprenorphine used in treatment\n"
     ]
    }
   ],
   "source": [
    "Buprenorphine_keys = []\n",
    "for key, val in abbr_keys.items():\n",
    "    if val:\n",
    "        if 'Buprenorphine' in val:\n",
    "            Buprenorphine_keys.append(key)\n",
    "            print(key, val)"
   ]
  },
  {
   "cell_type": "code",
   "execution_count": 133,
   "metadata": {},
   "outputs": [],
   "source": [
    "Naltrexone_keys = []\n",
    "for key, val in abbr_keys.items():\n",
    "    if val:\n",
    "        if 'Naltrexone' in val:\n",
    "            Naltrexone_keys.append(key)\n",
    "            print(key, val)"
   ]
  },
  {
   "cell_type": "markdown",
   "metadata": {},
   "source": [
    "- Count keys"
   ]
  },
  {
   "cell_type": "code",
   "execution_count": 134,
   "metadata": {},
   "outputs": [],
   "source": [
    "def count_key(df, key):\n",
    "    '''\n",
    "    Count the number MOUD with a certain key\n",
    "    '''\n",
    "    df[key] = df.apply(lambda row: key in row['Keys'].split('/'), axis = 1)\n",
    "    return len(df[df[key] == True])"
   ]
  },
  {
   "cell_type": "code",
   "execution_count": 135,
   "metadata": {},
   "outputs": [
    {
     "data": {
      "text/plain": [
       "10973"
      ]
     },
     "execution_count": 135,
     "metadata": {},
     "output_type": "execute_result"
    }
   ],
   "source": [
    "len(df)"
   ]
  },
  {
   "cell_type": "code",
   "execution_count": 136,
   "metadata": {},
   "outputs": [],
   "source": [
    "labels = []\n",
    "MOUD_numbers = []"
   ]
  },
  {
   "cell_type": "code",
   "execution_count": 137,
   "metadata": {},
   "outputs": [
    {
     "name": "stdout",
     "output_type": "stream",
     "text": [
      "MM : Methadone maintenance \t\t 939\n",
      "DM : Methadone detoxification \t\t 650\n"
     ]
    }
   ],
   "source": [
    "for key in Methadone_keys:\n",
    "    n_MOUD_with_key = count_key(df, key)\n",
    "    print(key, \":\", abbr_keys[key], '\\t\\t', n_MOUD_with_key)\n",
    "    labels.append(abbr_keys[key] + '(' + key + ')')\n",
    "    MOUD_numbers.append(n_MOUD_with_key)"
   ]
  },
  {
   "cell_type": "code",
   "execution_count": 138,
   "metadata": {},
   "outputs": [
    {
     "name": "stdout",
     "output_type": "stream",
     "text": [
      "BU : Buprenorphine used in treatment \t\t 318\n"
     ]
    }
   ],
   "source": [
    "for key in Buprenorphine_keys:\n",
    "    n_MOUD_with_key = count_key(df, key)\n",
    "    print(key, \":\", abbr_keys[key], '\\t\\t', n_MOUD_with_key)\n",
    "    if (abbr_keys[key] + '(' + key + ')') not in labels:\n",
    "        labels.append(abbr_keys[key] + '(' + key + ')')\n",
    "        MOUD_numbers.append(n_MOUD_with_key)"
   ]
  },
  {
   "cell_type": "code",
   "execution_count": 139,
   "metadata": {},
   "outputs": [],
   "source": [
    "for key in Naltrexone_keys:\n",
    "    n_MOUD_with_key = count_key(df, key)\n",
    "    print(key, \":\", abbr_keys[key], '\\t\\t', n_MOUD_with_key)\n",
    "    if (abbr_keys[key] + '(' + key + ')') not in labels:\n",
    "        labels.append(abbr_keys[key] + '(' + key + ')')\n",
    "        MOUD_numbers.append(n_MOUD_with_key)"
   ]
  },
  {
   "cell_type": "code",
   "execution_count": 140,
   "metadata": {},
   "outputs": [
    {
     "data": {
      "text/plain": [
       "['Methadone maintenance(MM)',\n",
       " 'Methadone detoxification(DM)',\n",
       " 'Buprenorphine used in treatment(BU)']"
      ]
     },
     "execution_count": 140,
     "metadata": {},
     "output_type": "execute_result"
    }
   ],
   "source": [
    "labels"
   ]
  },
  {
   "cell_type": "code",
   "execution_count": 141,
   "metadata": {},
   "outputs": [
    {
     "data": {
      "text/plain": [
       "[939, 650, 318]"
      ]
     },
     "execution_count": 141,
     "metadata": {},
     "output_type": "execute_result"
    }
   ],
   "source": [
    "MOUD_numbers"
   ]
  },
  {
   "cell_type": "code",
   "execution_count": 142,
   "metadata": {},
   "outputs": [
    {
     "data": {
      "image/png": "[encoded data removed]",
      "text/plain": [
       "<Figure size 432x288 with 1 Axes>"
      ]
     },
     "metadata": {
      "needs_background": "light"
     },
     "output_type": "display_data"
    }
   ],
   "source": [
    "#barchart: https://matplotlib.org/3.3.0/gallery/lines_bars_and_markers/barchart.html#sphx-glr-gallery-lines-bars-and-markers-barchart-py\n",
    "\n",
    "import matplotlib.pyplot as plt\n",
    "import numpy as np\n",
    "\n",
    "x = np.arange(len(labels))  # the label locations\n",
    "width = 0.35  # the width of the bars\n",
    "\n",
    "fig, ax = plt.subplots()\n",
    "rects1 = ax.bar(x - width/2, MOUD_numbers, width, label=str(YEAR))\n",
    "\n",
    "# Add some text for labels, title and custom x-axis tick labels, etc.\n",
    "ax.set_ylabel('Number of MOUD')\n",
    "ax.set_title('MOUD with relevant services')\n",
    "ax.set_xticks(x)\n",
    "ax.set_xticklabels(labels)\n",
    "ax.legend()\n",
    "\n",
    "\n",
    "def autolabel(rects):\n",
    "    \"\"\"Attach a text label above each bar in *rects*, displaying its height.\"\"\"\n",
    "    for rect in rects:\n",
    "        height = rect.get_height()\n",
    "        ax.annotate('{}'.format(height),\n",
    "                    xy=(rect.get_x() + rect.get_width() / 2, height),\n",
    "                    xytext=(0, 3),  # 3 points vertical offset\n",
    "                    textcoords=\"offset points\",\n",
    "                    ha='center', va='bottom')\n",
    "\n",
    "\n",
    "autolabel(rects1)\n",
    "\n",
    "plt.ylim(0, len(df))\n",
    "plt.xticks(rotation=90)\n",
    "plt.savefig('{}_stats.png'.format(YEAR), bbox_inches = 'tight')"
   ]
  },
  {
   "cell_type": "code",
   "execution_count": null,
   "metadata": {},
   "outputs": [],
   "source": []
  }
 ],
 "metadata": {
  "kernelspec": {
   "display_name": "Python 3",
   "language": "python",
   "name": "python3"
  },
  "language_info": {
   "codemirror_mode": {
    "name": "ipython",
    "version": 3
   },
   "file_extension": ".py",
   "mimetype": "text/x-python",
   "name": "python",
   "nbconvert_exporter": "python",
   "pygments_lexer": "ipython3",
   "version": "3.7.6"
  }
 },
 "nbformat": 4,
 "nbformat_minor": 4
}
