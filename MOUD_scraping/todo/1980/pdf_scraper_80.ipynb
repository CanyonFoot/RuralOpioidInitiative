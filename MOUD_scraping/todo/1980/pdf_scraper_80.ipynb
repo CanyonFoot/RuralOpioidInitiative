{
 "cells": [
  {
   "cell_type": "markdown",
   "metadata": {},
   "source": [
    "#### Imports"
   ]
  },
  {
   "cell_type": "code",
   "execution_count": 1,
   "metadata": {},
   "outputs": [],
   "source": [
    "import PyPDF2\n",
    "import csv\n",
    "import re\n",
    "import json\n",
    "import os\n",
    "import us\n",
    "import numpy as np"
   ]
  },
  {
   "cell_type": "markdown",
   "metadata": {},
   "source": [
    "# OCR with Adobe Acrobat and extraction with fitz"
   ]
  },
  {
   "cell_type": "code",
   "execution_count": 2,
   "metadata": {},
   "outputs": [],
   "source": [
    "from __future__ import print_function\n",
    "from itertools import groupby\n",
    "import fitz\n",
    "import matplotlib.pyplot as plt"
   ]
  },
  {
   "cell_type": "markdown",
   "metadata": {},
   "source": [
    "- Functions for reading text from PDF"
   ]
  },
  {
   "cell_type": "code",
   "execution_count": 3,
   "metadata": {},
   "outputs": [],
   "source": [
    "def find_edges(x0s):\n",
    "    '''\n",
    "    Find the coordinates of boxes that seperates the columns in the PDF file.\n",
    "    '''\n",
    "    # only one row of data (p86, p143)\n",
    "    if max(x0s) < 200: \n",
    "        return (None, None) \n",
    "    \n",
    "    # 2 rows of data (p146, p218)\n",
    "    # the one before zero and the one after zero has a difference greater than 20, \n",
    "    if max(x0s) < 400: \n",
    "        counts, xedges, _ = plt.hist(x0s, bins = 40)\n",
    "        i = 8\n",
    "        while i < 30:\n",
    "            if (counts[i] == 0) and (counts[i + 1] -  counts[i - 1] > 20) and (xedges[i] > 160) and (xedges[i] < 220):\n",
    "                return (xedges[i], None)\n",
    "            i += 1\n",
    "        if i == 30:\n",
    "            i = 8\n",
    "            while i < 30:\n",
    "                if (counts[i + 1] -  counts[i] > 20) and (xedges[i] > 160) and (xedges[i] < 220):\n",
    "                    return (xedges[i], None)\n",
    "                i += 1\n",
    "        if i == 30:\n",
    "            i = 8\n",
    "            while i < 30:\n",
    "                if (counts[i] == 0) and (counts[i + 1] == 0) and (xedges[i] > 160) and (xedges[i] < 220):\n",
    "                    return (xedges[i], None)\n",
    "                i += 1\n",
    "    # 3 rows of data\n",
    "    counts, xedges, _ = plt.hist(x0s, bins = 100)\n",
    "    # line between col 1 & 2            \n",
    "    i = 20\n",
    "    while i < 45:\n",
    "        if (counts[i] == 0) and (counts[i + 1] - counts[i - 1] > 20) and (xedges[i] > 160) and (xedges[i] < 220):\n",
    "            xcol1 = xedges[i]\n",
    "            break\n",
    "        i += 1\n",
    "    if i == 45:\n",
    "        i = 20\n",
    "        while i < 45:\n",
    "            if (counts[i + 1] - counts[i] > 20) and (xedges[i] > 160) and (xedges[i] < 220):\n",
    "                xcol1 = xedges[i]\n",
    "                break\n",
    "            i += 1\n",
    "    if i == 45:\n",
    "        i = 20\n",
    "        while i < 45:\n",
    "            if (counts[i] == 0) and (counts[i + 1] == 0) and (xedges[i] > 160) and (xedges[i] < 220):\n",
    "                xcol1 = xedges[i + 1]\n",
    "                break\n",
    "            i += 1\n",
    "            \n",
    "    # line between col 2 & 3\n",
    "    while i < 80:\n",
    "        if (counts[i] == 0) and (counts[i + 1] - counts[i - 1] > 20) and (xedges[i] > 330) and (xedges[i] < 390):\n",
    "            xcol2 = xedges[i]\n",
    "            break\n",
    "        i += 1\n",
    "    if i == 80:\n",
    "        i = 50\n",
    "        while i < 80:\n",
    "            if (counts[i] - counts[i - 1] > 20) and (xedges[i] > 330) and (xedges[i] < 390):\n",
    "                xcol2 = xedges[i + 1]\n",
    "                break\n",
    "            i += 1\n",
    "    if i == 80:\n",
    "        i = 50\n",
    "        while i < 80:\n",
    "            if (counts[i] == 0) and (counts[i + 1] == 0) and (xedges[i] > 330) and (xedges[i] < 390):\n",
    "                xcol2 = xedges[i + 1]\n",
    "                break\n",
    "            i += 1\n",
    "    return (xcol1, xcol2)"
   ]
  },
  {
   "cell_type": "code",
   "execution_count": 4,
   "metadata": {},
   "outputs": [],
   "source": [
    "def get_words_in_box(page):\n",
    "    '''\n",
    "    Extract words from each column of the PDF.\n",
    "    '''\n",
    "    #print(page)\n",
    "    x, y = page.MediaBox[2:] #size of page\n",
    "    words = page.getText(\"words\") #each word with extracted coordinate\\\n",
    "    #cut off top word if exist\n",
    "    y0s = [word[1] for word in words]\n",
    "    if sum(y0 < (min(y0s)+10) for y0 in y0s) < 3:\n",
    "        words = [word for word in words if word[1] > (min(y0s)+10)]\n",
    "    #cut off bottom\n",
    "    words = [word for word in words if word[1] < (max(y0s)-10)]\n",
    "    #find col 1 and 2\n",
    "    x0s = [word[0] for word in words]\n",
    "    xcol1, xcol2 = find_edges(x0s)\n",
    "    page_txt = []\n",
    "    if xcol1 == None:\n",
    "        page_txt.append(words)\n",
    "        return page_txt\n",
    "    if xcol2 == None:\n",
    "        page_txt.append([word for word in words if word[0] < xcol1])\n",
    "        page_txt.append([word for word in words if word[0] > xcol1])\n",
    "        return page_txt\n",
    "    page_txt.append([word for word in words if word[0] < xcol1])\n",
    "    page_txt.append([word for word in words if ((word[0] > xcol1) and (word[0] < xcol2))])\n",
    "    page_txt.append([word for word in words if word[0] > xcol2])\n",
    "    return page_txt"
   ]
  },
  {
   "cell_type": "markdown",
   "metadata": {},
   "source": [
    "- Extract text"
   ]
  },
  {
   "cell_type": "code",
   "execution_count": 5,
   "metadata": {},
   "outputs": [
    {
     "data": {
      "text/plain": [
       "172"
      ]
     },
     "execution_count": 5,
     "metadata": {},
     "output_type": "execute_result"
    }
   ],
   "source": [
    "#open PDF which has gone through Adobe Acrobat OCR\n",
    "doc = fitz.open(\"directory_1980_drug.pdf\")\n",
    "len(doc)"
   ]
  },
  {
   "cell_type": "code",
   "execution_count": 13,
   "metadata": {},
   "outputs": [],
   "source": [
    "page = doc[18]"
   ]
  },
  {
   "cell_type": "code",
   "execution_count": 14,
   "metadata": {},
   "outputs": [],
   "source": [
    "words = page.getText(\"words\")"
   ]
  },
  {
   "cell_type": "code",
   "execution_count": 17,
   "metadata": {},
   "outputs": [
    {
     "data": {
      "text/plain": [
       "(array([57.,  1.,  2., 19., 13.,  1.,  9., 12., 15.,  6.,  4., 12.,  3.,\n",
       "         2.,  7.,  9.,  1.,  3.,  1.,  1.,  0.,  1.,  2.,  1.,  0.,  0.,\n",
       "         0.,  0., 56.,  1.,  0.,  5., 24.,  1.,  5.,  9., 15., 14.,  4.,\n",
       "        16.,  1.,  2.,  9., 10.,  4.,  1.,  2.,  2.,  0.,  2.,  1.,  2.,\n",
       "         0.,  0.,  0.,  0.,  0., 58.,  0.,  5., 12.,  9.,  6.,  7., 16.,\n",
       "         5.,  6., 11.,  6.,  5.,  1.,  3., 12.,  1.,  2.,  0.,  0.,  3.,\n",
       "         0.,  5.]),\n",
       " array([ 27.36000061,  33.75000057,  40.14000053,  46.5300005 ,\n",
       "         52.92000046,  59.31000042,  65.70000038,  72.09000034,\n",
       "         78.48000031,  84.87000027,  91.26000023,  97.65000019,\n",
       "        104.04000015, 110.43000011, 116.82000008, 123.21000004,\n",
       "        129.6       , 135.98999996, 142.37999992, 148.76999989,\n",
       "        155.15999985, 161.54999981, 167.93999977, 174.32999973,\n",
       "        180.71999969, 187.10999966, 193.49999962, 199.88999958,\n",
       "        206.27999954, 212.6699995 , 219.05999947, 225.44999943,\n",
       "        231.83999939, 238.22999935, 244.61999931, 251.00999928,\n",
       "        257.39999924, 263.7899992 , 270.17999916, 276.56999912,\n",
       "        282.95999908, 289.34999905, 295.73999901, 302.12999897,\n",
       "        308.51999893, 314.90999889, 321.29999886, 327.68999882,\n",
       "        334.07999878, 340.46999874, 346.8599987 , 353.24999866,\n",
       "        359.63999863, 366.02999859, 372.41999855, 378.80999851,\n",
       "        385.19999847, 391.58999844, 397.9799984 , 404.36999836,\n",
       "        410.75999832, 417.14999828, 423.53999825, 429.92999821,\n",
       "        436.31999817, 442.70999813, 449.09999809, 455.48999805,\n",
       "        461.87999802, 468.26999798, 474.65999794, 481.0499979 ,\n",
       "        487.43999786, 493.82999783, 500.21999779, 506.60999775,\n",
       "        512.99999771, 519.38999767, 525.77999763, 532.1699976 ,\n",
       "        538.55999756]),\n",
       " <a list of 80 Patch objects>)"
      ]
     },
     "execution_count": 17,
     "metadata": {},
     "output_type": "execute_result"
    },
    {
     "data": {
      "image/png": "[encoded data removed]",
      "text/plain": [
       "<Figure size 432x288 with 1 Axes>"
      ]
     },
     "metadata": {
      "needs_background": "light"
     },
     "output_type": "display_data"
    }
   ],
   "source": [
    "x0s = [word[0] for word in words]\n",
    "plt.hist(x0s, bins = 80)"
   ]
  },
  {
   "cell_type": "code",
   "execution_count": 58,
   "metadata": {},
   "outputs": [
    {
     "data": {
      "image/png": "[encoded data removed]",
      "text/plain": [
       "<Figure size 432x288 with 1 Axes>"
      ]
     },
     "metadata": {
      "needs_background": "light"
     },
     "output_type": "display_data"
    }
   ],
   "source": [
    "#get data\n",
    "data = []\n",
    "for pagen in range(12, 562):\n",
    "    data.append(get_words_in_box(doc[pagen-1]))"
   ]
  },
  {
   "cell_type": "markdown",
   "metadata": {},
   "source": [
    "# Write data into csv"
   ]
  },
  {
   "cell_type": "code",
   "execution_count": 59,
   "metadata": {},
   "outputs": [],
   "source": [
    "abbr_keys = [\"TX\", \"ML\", \"PV\", \"OS\", \"DT\",\\\n",
    "             \"OD\", \"OR\", \"IO\", \"ID\", \"IR\", \"RD\", \"RR\",\\\n",
    "             \"AD\", \"DD\", \"HV\", \"PW\",\\\n",
    "             \"SS\", \"GH\", \"PH\", \"OH\", \"TC\", \"HH\", \"CM\", \"CH\", \\\n",
    "             \"CO\", \"SG\", \"SC\", \"CJ\",\\\n",
    "             \"MC\", \"MD\", \"FG\", \"PI\"]"
   ]
  },
  {
   "cell_type": "code",
   "execution_count": 204,
   "metadata": {},
   "outputs": [],
   "source": [
    "def col_text_to_rows(col_text):\n",
    "    '''\n",
    "    Splits text into rows\n",
    "    '''\n",
    "    col_text_by_row = []\n",
    "    temp = []\n",
    "    init_y = col_text[0][1] #y0\n",
    "    i = 0\n",
    "    while i < len(col_text):\n",
    "        if (col_text[i][1] < init_y + 3) and (col_text[i][1] > init_y - 3):\n",
    "            temp.append(col_text[i][4])\n",
    "        else:\n",
    "            col_text_by_row.append(temp)\n",
    "            temp = [col_text[i][4]]\n",
    "            init_y = int(col_text[i][1])\n",
    "        i += 1\n",
    "    col_text_by_row.append(temp)\n",
    "    return col_text_by_row\n",
    "\n",
    "#runs the function on all data\n",
    "def all_text_to_rows(data):\n",
    "    all_text = []\n",
    "    for page_text in data:\n",
    "        page_text_by_row = []\n",
    "        for col_text in page_text:\n",
    "            page_text_by_row.append(col_text_to_rows(col_text))\n",
    "        all_text.append(page_text_by_row)\n",
    "    return all_text"
   ]
  },
  {
   "cell_type": "code",
   "execution_count": 205,
   "metadata": {},
   "outputs": [],
   "source": [
    "all_text = all_text_to_rows(data)"
   ]
  },
  {
   "cell_type": "markdown",
   "metadata": {},
   "source": [
    "- Writing text to .csv"
   ]
  },
  {
   "cell_type": "code",
   "execution_count": 206,
   "metadata": {},
   "outputs": [],
   "source": [
    "def is_keys(line):\n",
    "    if line[0][:2].replace('Y', 'V').replace('1', 'I').replace('0', 'O') in abbr_keys:\n",
    "        if len(line) == 1:\n",
    "            return True\n",
    "        elif line[1][:2].replace('Y', 'V').replace('1', 'I').replace('0', 'O') in abbr_keys:\n",
    "            return True\n",
    "    return False"
   ]
  },
  {
   "cell_type": "code",
   "execution_count": 207,
   "metadata": {},
   "outputs": [],
   "source": [
    "def split_col_data(col_text):\n",
    "    '''\n",
    "    Split column data into list of MOUD facilities.\n",
    "    '''\n",
    "    col_text_splitted = []\n",
    "    temp = []\n",
    "    i = 0\n",
    "    while i < len(col_text) - 1:\n",
    "        if is_keys(col_text[i]) and (not is_keys(col_text[i+1])):\n",
    "            temp.append(col_text[i])\n",
    "            col_text_splitted.append(temp)\n",
    "            temp = []\n",
    "        else:\n",
    "            if not ''.join(col_text[i]).isupper(): #not the capitalized city name which should be ignored\n",
    "                temp.append(col_text[i])\n",
    "        i += 1\n",
    "    temp.append(col_text[-1])\n",
    "    col_text_splitted.append(temp)\n",
    "    return col_text_splitted"
   ]
  },
  {
   "cell_type": "code",
   "execution_count": 208,
   "metadata": {},
   "outputs": [],
   "source": [
    "address_indicators = ['Box', 'P.0.Box', 'Road', 'Highway', 'Route', 'Building', 'Street', 'Avenue', 'Suite', 'Drive', 'Boulevard']"
   ]
  },
  {
   "cell_type": "code",
   "execution_count": 209,
   "metadata": {},
   "outputs": [],
   "source": [
    "def clean_key(key):\n",
    "    return key.replace('Y', 'V').replace('1', 'I').replace('0', 'O')"
   ]
  },
  {
   "cell_type": "code",
   "execution_count": 217,
   "metadata": {},
   "outputs": [],
   "source": [
    "def clean_col_data(col_text_splitted):\n",
    "    '''\n",
    "    Splits data into list of lists with\n",
    "    name1, name2, address1, address2, city, state, zip, phone, keys\n",
    "    '''\n",
    "    data_holders = []\n",
    "    for facil in col_text_splitted:\n",
    "        data_holder = []\n",
    "        i = 0 #indicator of next line\n",
    "        #name1\n",
    "        data_holder.append(' '.join(facil[0])) \n",
    "        i += 1\n",
    "        #name2\n",
    "        if (not facil[i][0].isnumeric()) and (not any(x in facil[i] for x in address_indicators)):\n",
    "            data_holder.append(' '.join(facil[i])) \n",
    "            i += 1\n",
    "        else:\n",
    "            data_holder.append('') \n",
    "        #address1\n",
    "        data_holder.append(' '.join(facil[i])) \n",
    "        i += 1\n",
    "        #address2\n",
    "        if facil[i][0].isnumeric() or any(x in facil[i] for x in address_indicators):\n",
    "            data_holder.append(' '.join(facil[i])) \n",
    "            i += 1\n",
    "        else:\n",
    "            data_holder.append('') \n",
    "        #city, state, zip\n",
    "        data_holder.append(' '.join(facil[i][0:-2])[:-1]) \n",
    "        data_holder.append(facil[i][-2]) \n",
    "        data_holder.append(facil[i][-1]) \n",
    "        i += 1\n",
    "        #contact\n",
    "        data_holder.append(''.join(facil[i]))\n",
    "        i += 1\n",
    "        while i < len(facil):\n",
    "            if not is_keys(facil[i]):\n",
    "                data_holder[-1] += ' ' + ''.join(facil[i])\n",
    "                i += 1\n",
    "            else:\n",
    "                break\n",
    "        #keys\n",
    "        data_holder.append('')\n",
    "        for keys in facil[i:]:\n",
    "            for key in keys:\n",
    "                if len(key) == 2:\n",
    "                    data_holder[-1] += clean_key(key) + '/'\n",
    "                elif len(key) == 3:\n",
    "                    data_holder[-1] += clean_key(key[:2]) + '/'\n",
    "                else:\n",
    "                    for key in key.split('/'):\n",
    "                        if len(key) == 2:\n",
    "                            data_holder[-1] += clean_key(key) + '/'\n",
    "                        else:\n",
    "                            data_holder[-1] += '/'.join([clean_key(key[i:i+2]) for i in range(0, len(key), 2)])\n",
    "        data_holders.append(data_holder)\n",
    "    return data_holders"
   ]
  },
  {
   "cell_type": "code",
   "execution_count": 218,
   "metadata": {},
   "outputs": [],
   "source": [
    "with open(filename, 'w', newline = '') as file:\n",
    "    writer = csv.writer(file)\n",
    "    writer.writerow([\"Name1\", \"Name2\", \"Address1\", \"Address2\", \"City\", \"State\", \"ZIP_Code\", \"Contact\", \"Keys\"])"
   ]
  },
  {
   "cell_type": "code",
   "execution_count": 219,
   "metadata": {},
   "outputs": [
    {
     "name": "stdout",
     "output_type": "stream",
     "text": [
      "Page: 12\n",
      "Page: 13\n"
     ]
    }
   ],
   "source": [
    "filename = \"1998.csv\"\n",
    "pagen = 12\n",
    "\n",
    "for page in all_text[:2]:\n",
    "    print(\"Page:\", pagen)\n",
    "    page_data_holders = []\n",
    "    for col in page:\n",
    "        col_text_splitted = split_col_data(col)\n",
    "        page_data_holders += clean_col_data(col_text_splitted)\n",
    "    with open(filename, 'a', newline = '') as file:\n",
    "        writer = csv.writer(file)\n",
    "        writer.writerows(page_data_holders)\n",
    "    pagen += 1"
   ]
  },
  {
   "cell_type": "code",
   "execution_count": 56,
   "metadata": {},
   "outputs": [],
   "source": [
    "errorpagen = 164 #33, 111, 126, 143, 164"
   ]
  },
  {
   "cell_type": "markdown",
   "metadata": {},
   "source": [
    "# OCR with tesserocr\n",
    "- Not used in the end because of low accuracy and slow...\n",
    "- https://github.com/sirfz/tesserocr\n",
    "- https://www.geeksforgeeks.org/python-reading-contents-of-pdf-using-ocr-optical-character-recognition/\n",
    "- https://pypi.org/project/tesserocr/"
   ]
  },
  {
   "cell_type": "markdown",
   "metadata": {},
   "source": [
    "- Testing tesserocr"
   ]
  },
  {
   "cell_type": "code",
   "execution_count": 3,
   "metadata": {},
   "outputs": [],
   "source": [
    "from tesserocr import PyTessBaseAPI, RIL\n",
    "from pdf2image import convert_from_path \n",
    "import pytesseract\n",
    "from PIL import Image "
   ]
  },
  {
   "cell_type": "code",
   "execution_count": 4,
   "metadata": {},
   "outputs": [],
   "source": [
    "import matplotlib.pyplot as plt"
   ]
  },
  {
   "cell_type": "code",
   "execution_count": 5,
   "metadata": {},
   "outputs": [],
   "source": [
    "PDF_file = \"1998/directory_1998.pdf\""
   ]
  },
  {
   "cell_type": "code",
   "execution_count": 6,
   "metadata": {},
   "outputs": [],
   "source": [
    "# Store all the pages of the PDF in a variable \n",
    "pages = convert_from_path(PDF_file, dpi = 500, grayscale=True) "
   ]
  },
  {
   "cell_type": "code",
   "execution_count": 7,
   "metadata": {},
   "outputs": [],
   "source": [
    "def find_box(imgarr):\n",
    "    '''\n",
    "    Returns a list of three boxes for image recognition\n",
    "    '''\n",
    "    #row bottom\n",
    "    nrow, ncol = imgarr.shape\n",
    "    boxes = [[0]*4 for _ in range(3)]\n",
    "    i = 4800\n",
    "    while (imgarr[i:i+80, 10:ncol-10].min() != 255):\n",
    "        i += 1\n",
    "    i += 10\n",
    "    for box in boxes:\n",
    "        box[3] = i\n",
    "    #col 1\n",
    "    j = 1200\n",
    "    while (imgarr[50:i, j:j+30].min() != 255):\n",
    "        j += 1\n",
    "    j += 10\n",
    "    boxes[0][2] = j\n",
    "    boxes[1][0] = j\n",
    "    #col 2\n",
    "    k = j + 1000\n",
    "    while (imgarr[50:i, k:k+30].min() != 255):\n",
    "        k += 1\n",
    "    boxes[1][2] = k + 10 - j\n",
    "    boxes[2][0] = k + 10\n",
    "    #col 3\n",
    "    boxes[2][2] = ncol - (k + 10)\n",
    "    return boxes"
   ]
  },
  {
   "cell_type": "code",
   "execution_count": 205,
   "metadata": {},
   "outputs": [],
   "source": [
    "page = np.array(pages[12 - 1])\n",
    "pages[12 - 1].save(\"1998/page.jpeg\", 'JPEG')"
   ]
  },
  {
   "cell_type": "code",
   "execution_count": 219,
   "metadata": {},
   "outputs": [
    {
     "data": {
      "text/plain": [
       "[[0, 0, 1351, 4858], [1351, 0, 1232, 4858], [2583, 0, 1511, 4858]]"
      ]
     },
     "execution_count": 219,
     "metadata": {},
     "output_type": "execute_result"
    }
   ],
   "source": [
    "find_box(np.array(pages[12 - 1]))"
   ]
  },
  {
   "cell_type": "code",
   "execution_count": null,
   "metadata": {},
   "outputs": [
    {
     "name": "stdout",
     "output_type": "stream",
     "text": [
      "Page 12\n",
      "Page 13\n",
      "Page 14\n",
      "Page 15\n",
      "Page 16\n",
      "Page 17\n",
      "Page 18\n",
      "Page 19\n",
      "Page 20\n",
      "Page 21\n",
      "Page 22\n",
      "Page 23\n",
      "Page 24\n",
      "Page 25\n",
      "Page 26\n",
      "Page 27\n",
      "Page 28\n",
      "Page 29\n",
      "Page 30\n",
      "Page 31\n",
      "Page 32\n",
      "Page 33\n",
      "Page 34\n",
      "Page 35\n",
      "Page 36\n",
      "Page 37\n",
      "Page 38\n",
      "Page 39\n",
      "Page 40\n",
      "Page 41\n",
      "Page 42\n",
      "Page 43\n",
      "Page 44\n",
      "Page 45\n",
      "Page 46\n",
      "Page 47\n",
      "Page 48\n",
      "Page 49\n",
      "Page 50\n",
      "Page 51\n",
      "Page 52\n",
      "Page 53\n",
      "Page 54\n",
      "Page 55\n",
      "Page 56\n",
      "Page 57\n",
      "Page 58\n",
      "Page 59\n",
      "Page 60\n",
      "Page 61\n",
      "Page 62\n",
      "Page 63\n",
      "Page 64\n",
      "Page 65\n",
      "Page 66\n",
      "Page 67\n",
      "Page 68\n",
      "Page 69\n",
      "Page 70\n",
      "Page 71\n",
      "Page 72\n",
      "Page 73\n",
      "Page 74\n",
      "Page 75\n",
      "Page 76\n",
      "Page 77\n",
      "Page 78\n",
      "Page 79\n",
      "Page 80\n",
      "Page 81\n",
      "Page 82\n",
      "Page 83\n",
      "Page 84\n",
      "Page 85\n",
      "Page 86\n",
      "Page 87\n",
      "Page 88\n",
      "Page 89\n",
      "Page 90\n",
      "Page 91\n",
      "Page 92\n",
      "Page 93\n",
      "Page 94\n",
      "Page 95\n",
      "Page 96\n",
      "Page 97\n",
      "Page 98\n",
      "Page 99\n",
      "Page 100\n",
      "Page 101\n",
      "Page 102\n",
      "Page 103\n",
      "Page 104\n",
      "Page 105\n",
      "Page 106\n",
      "Page 107\n",
      "Page 108\n",
      "Page 109\n",
      "Page 110\n",
      "Page 111\n",
      "Page 112\n",
      "Page 113\n",
      "Page 114\n",
      "Page 115\n",
      "Page 116\n",
      "Page 117\n",
      "Page 118\n",
      "Page 119\n",
      "Page 120\n",
      "Page 121\n",
      "Page 122\n",
      "Page 123\n",
      "Page 124\n",
      "Page 125\n",
      "Page 126\n",
      "Page 127\n",
      "Page 128\n",
      "Page 129\n",
      "Page 130\n",
      "Page 131\n",
      "Page 132\n",
      "Page 133\n",
      "Page 134\n",
      "Page 135\n",
      "Page 136\n",
      "Page 137\n",
      "Page 138\n",
      "Page 139\n",
      "Page 140\n",
      "Page 141\n",
      "Page 142\n",
      "Page 143\n",
      "Page 144\n",
      "Page 145\n",
      "Page 146\n",
      "Page 147\n",
      "Page 148\n",
      "Page 149\n",
      "Page 150\n",
      "Page 151\n",
      "Page 152\n",
      "Page 153\n",
      "Page 154\n",
      "Page 155\n",
      "Page 156\n",
      "Page 157\n",
      "Page 158\n",
      "Page 159\n",
      "Page 160\n",
      "Page 161\n",
      "Page 162\n",
      "Page 163\n",
      "Page 164\n",
      "Page 165\n",
      "Page 166\n",
      "Page 167\n",
      "Page 168\n",
      "Page 169\n",
      "Page 170\n",
      "Page 171\n",
      "Page 172\n",
      "Page 173\n",
      "Page 174\n",
      "Page 175\n",
      "Page 176\n",
      "Page 177\n",
      "Page 178\n",
      "Page 179\n",
      "Page 180\n",
      "Page 181\n",
      "Page 182\n",
      "Page 183\n",
      "Page 184\n",
      "Page 185\n",
      "Page 186\n",
      "Page 187\n",
      "Page 188\n",
      "Page 189\n",
      "Page 190\n",
      "Page 191\n",
      "Page 192\n",
      "Page 193\n",
      "Page 194\n",
      "Page 195\n",
      "Page 196\n"
     ]
    }
   ],
   "source": [
    "i = 1\n",
    "data = []\n",
    "for i in range(196, 562): # i is the page number in PDF\n",
    "    print(\"Page\", i)\n",
    "    boxes = find_box(np.array(pages[i - 1]))\n",
    "    pages[i - 1].save(\"1998/page.jpeg\", 'JPEG') \n",
    "    with PyTessBaseAPI() as api:\n",
    "        api.SetImageFile(\"1998/page.jpeg\")\n",
    "        txt = ''\n",
    "        for box in boxes:\n",
    "            api.SetRectangle(box[0], box[1], box[2], box[3])\n",
    "            ocrResult = api.GetUTF8Text()\n",
    "            txt += ocrResult\n",
    "        data.append(txt)\n",
    "        with open('1998/rawdata.txt', 'a') as f:\n",
    "            f.write(\"%s\\n\\n\\n\\n\\n\\n\\n\\n\" % txt)"
   ]
  },
  {
   "cell_type": "code",
   "execution_count": 8,
   "metadata": {},
   "outputs": [],
   "source": [
    "#save the data just because\n",
    "with open('1998/rawdata.txt', 'w') as f:\n",
    "    for item in data:\n",
    "        f.write(\"%s\\n\\n\\n\" % item)"
   ]
  },
  {
   "cell_type": "markdown",
   "metadata": {},
   "source": [
    "# Write data into csv"
   ]
  },
  {
   "cell_type": "code",
   "execution_count": 57,
   "metadata": {},
   "outputs": [],
   "source": [
    "#clean_data(data[errorpagen-12])"
   ]
  },
  {
   "cell_type": "code",
   "execution_count": 58,
   "metadata": {},
   "outputs": [
    {
     "data": {
      "text/plain": [
       "['McDonough District Hospital',\n",
       " 'Recovery Center',\n",
       " '525 East Grant Street',\n",
       " 'MaComb, IL 61455',\n",
       " '(309)833—4101 x 3270',\n",
       " 'Hotline:',\n",
       " '(309)833—4101',\n",
       " 'TX PV OS/ OR 10/ AD DD/ 01-] CM CO/',\n",
       " 'P1',\n",
       " '1‘',\n",
       " 'MANTENO',\n",
       " 'S',\n",
       " 'Kankakee Minimum Security Unit 3',\n",
       " '37040 South Illinois Street 11',\n",
       " 'Route 102 (‘',\n",
       " 'Manteno, IL 60950 P',\n",
       " '(815 )476—5201 (‘',\n",
       " \"TX 03/ 10/ 88 CJ '1\",\n",
       " \"Riverside Resolve Center '1\",\n",
       " '41 1 Division Street 1',\n",
       " 'Manteno, IL 60950 1\\\\',\n",
       " '(815)468-3241 (‘',\n",
       " \"TX PV OS DT/ OR 10 1D 1R RD RR/ AD '1\",\n",
       " 'HV PW/ SS TC/ MC MD P1',\n",
       " \"'1\",\n",
       " 'Substance Abuse Services Inc 2',\n",
       " 'Branden House 1\\\\',\n",
       " \"800 Bramble Street ('\",\n",
       " \"Manteno, IL 60950 '1\",\n",
       " '(815)468-6556',\n",
       " 'TX MU RR/ SS TC 1‘',\n",
       " 'MARSHALL F',\n",
       " '1\\\\',\n",
       " 'Human Resources Center of 5',\n",
       " 'Edgar and Clark Counties h',\n",
       " '1006 South 6th Street (1',\n",
       " 'Marshall, IL 62441 1',\n",
       " '(217)465-41 18 (:',\n",
       " \"Hotline: '1\",\n",
       " '(217)465-4141',\n",
       " 'TX 08/ OR/ AD/ CM 1\\\\',\n",
       " '5',\n",
       " 'MARYVILLE S',\n",
       " '1\\\\',\n",
       " 'Chestnut Health Systems Inc (1',\n",
       " '2148 Vadalabene Road 1',\n",
       " 'Maryville, IL 62062',\n",
       " '(618)288-3100 1‘',\n",
       " 'TX PV OS/ OR RR/ AD DD/ SS',\n",
       " 'P',\n",
       " 'MATTOON F',\n",
       " '1',\n",
       " 'Central East Alcohol and Drug Council 1‘',\n",
       " \"Adolescent Outpatient Services ('\",\n",
       " \"513 North 13th Street 1'?\",\n",
       " \"Mattoon, IL 61938 ('\",\n",
       " '(217)348-8108 T',\n",
       " 'Hotline:',\n",
       " '(217)348-8108',\n",
       " 'TX 03/ OR/ AD/ SS',\n",
       " 'Zentral East Alcohol and Drug Council',\n",
       " ')utpatient Services',\n",
       " 'H6 North 19th Street',\n",
       " 'Aattoon, IL 61938',\n",
       " '217)348-8108',\n",
       " 'lotline:',\n",
       " '217)348-8108',\n",
       " '.‘X 08/ OR/ SS',\n",
       " 'VIAYWOOD',\n",
       " 'iubstance Abuse Operations',\n",
       " '.08 South 5th Avenue',\n",
       " 'Aaywood, IL 60153',\n",
       " '708)343-1275',\n",
       " '1otline:',\n",
       " '708)343—1275 .',\n",
       " '‘X ML OS/ OR/ HV PW/ 83/ MD FG',\n",
       " '‘he Way Back Inn Inc',\n",
       " '04 Oak Street',\n",
       " 'daywood, IL 60153',\n",
       " '708)345-8422',\n",
       " '‘X OS/ OR/ DD/ 1111/ FG',\n",
       " '‘he Way Back Inn Inc',\n",
       " '.01 South 2nd Avenue',\n",
       " 'Ilaywood, IL 60153-1676',\n",
       " '708)345-8422',\n",
       " '‘X PV OS/ OR RR/ DD/ SS TC HH/ FG PI',\n",
       " 'VICHENRY',\n",
       " '*amily Service and Comm MH Center for',\n",
       " 'chenry County',\n",
       " '320 West Elm Street',\n",
       " 'chenry, IL 60050',\n",
       " '815)385—6400',\n",
       " 'lotlinc:',\n",
       " '815)385-6400',\n",
       " '‘X PV OS/ OR 10/ AD DD/ CM/ MD',\n",
       " 'dichael L Klestinski and Associates PC',\n",
       " '400 West Elm Street',\n",
       " 'mm 200',\n",
       " '’chenry, IL 60050',\n",
       " '315)344—6900',\n",
       " '‘X PV 05/ OR 10/ SS SG/ P1',\n",
       " 'AELROSE PARK',\n",
       " '’rocare Centers',\n",
       " ':ecovery Center',\n",
       " '414 West Mam Street',\n",
       " 'delrosc Park, IL 60160',\n",
       " '708)681-0073',\n",
       " 'lolline:',\n",
       " '708)681-4657',\n",
       " \"'X 08/ OR 10/ DD PW/ SS CM\",\n",
       " 'zaazaz=mg',\n",
       " 'ZN-<',\n",
       " '4’3',\n",
       " 'HSZKUZ 2',\n",
       " 'HSESZRZ Z',\n",
       " 'Z',\n",
       " 'Westlake Community Hospital',\n",
       " 'Substance Recovery Center',\n",
       " '1225 Lake Street',\n",
       " 'Melrose Park, IL 60160',\n",
       " '(708)938-7566 x 3561',\n",
       " 'Hotlinc:',\n",
       " '(888)333-0966',\n",
       " 'TX PV OS DT/ OR 10 1D/ DD/ 011/ MC',\n",
       " 'MD P1',\n",
       " 'Yos/North Avenue',\n",
       " '2140 West North Avenue',\n",
       " 'Melrose Park, IL 60160',\n",
       " '(708)343-6060',\n",
       " 'TX PV OS/ OR] AD/ SS',\n",
       " 'MENDOTA',\n",
       " 'Mendota Community Hospital',\n",
       " 'DUI/Outpatient Services',\n",
       " '1315 Memorial Drive',\n",
       " 'Mendota, 11.. 61342',\n",
       " '(815)539-7461 x 412',\n",
       " 'TX PV 08/ OR/ SS GH/ P1',\n",
       " 'METROPOLIS',\n",
       " 'MASSAC County Mental Health',\n",
       " '206 West 5th Street',\n",
       " 'Metropolis, IL 62960',\n",
       " '(618)524-9368 x 38',\n",
       " 'Hotline:',\n",
       " '(6 l 8)524—9368',\n",
       " 'TX PV OS/ ORl AD DD/ SS CM/ MD P1',\n",
       " 'MONMOUTH',\n",
       " 'Bridgeway Adapt Services',\n",
       " '219 Euclid Street',\n",
       " 'Monmouth, IL 61462',\n",
       " '(309)734-9461',\n",
       " 'TX PV OS/ OR/ ADI CM',\n",
       " 'MONTICELLO',\n",
       " 'Piatt County Mental Health Center',\n",
       " '1921 North Market Street',\n",
       " 'Monticello, IL 61856',\n",
       " '(217)762-5371',\n",
       " 'Hotline:',\n",
       " '(217)762-4357',\n",
       " 'TX PV OS/ OR/ AD DD/ SS CM/ MD PI',\n",
       " 'MORRIS',\n",
       " 'Grundy County Health Department',\n",
       " '1320 Union Street',\n",
       " 'Morris. IL 60450-2426',\n",
       " '(815)941-3138',\n",
       " 'TX OS/ OR/ CM/ P1',\n",
       " '']"
      ]
     },
     "execution_count": 58,
     "metadata": {},
     "output_type": "execute_result"
    }
   ],
   "source": [
    "data[errorpagen-12].replace('\\n\\n', '\\n').split('\\n')"
   ]
  },
  {
   "cell_type": "code",
   "execution_count": 59,
   "metadata": {},
   "outputs": [
    {
     "data": {
      "text/plain": [
       "\"McDonough District Hospital\\n\\nRecovery Center\\n\\n525 East Grant Street\\n\\nMaComb, IL 61455\\n\\n(309)833—4101 x 3270\\n\\nHotline:\\n\\n(309)833—4101\\n\\nTX PV OS/ OR 10/ AD DD/ 01-] CM CO/\\nP1\\n\\n1‘\\nMANTENO\\n\\nS\\nKankakee Minimum Security Unit 3\\n37040 South Illinois Street 11\\nRoute 102 (‘\\nManteno, IL 60950 P\\n(815 )476—5201 (‘\\nTX 03/ 10/ 88 CJ '1\\nRiverside Resolve Center '1\\n41 1 Division Street 1\\nManteno, IL 60950 1\\\\\\n(815)468-3241 (‘\\nTX PV OS DT/ OR 10 1D 1R RD RR/ AD '1\\nHV PW/ SS TC/ MC MD P1\\n\\n'1\\nSubstance Abuse Services Inc 2\\nBranden House 1\\\\\\n800 Bramble Street ('\\nManteno, IL 60950 '1\\n(815)468-6556\\nTX MU RR/ SS TC 1‘\\nMARSHALL F\\n\\n1\\\\\\nHuman Resources Center of 5\\nEdgar and Clark Counties h\\n1006 South 6th Street (1\\nMarshall, IL 62441 1\\n(217)465-41 18 (:\\nHotline: '1\\n(217)465-4141\\nTX 08/ OR/ AD/ CM 1\\\\\\n\\n5\\nMARYVILLE S\\n\\n1\\\\\\nChestnut Health Systems Inc (1\\n2148 Vadalabene Road 1\\nMaryville, IL 62062\\n(618)288-3100 1‘\\nTX PV OS/ OR RR/ AD DD/ SS\\n\\nP\\nMATTOON F\\n\\n1\\nCentral East Alcohol and Drug Council 1‘\\nAdolescent Outpatient Services ('\\n513 North 13th Street 1'?\\nMattoon, IL 61938 ('\\n(217)348-8108 T\\n\\nHotline:\\n(217)348-8108\\nTX 03/ OR/ AD/ SS\\n\\nZentral East Alcohol and Drug Council\\n)utpatient Services\\n\\nH6 North 19th Street\\n\\nAattoon, IL 61938\\n\\n217)348-8108\\n\\nlotline:\\n\\n217)348-8108\\n\\n.‘X 08/ OR/ SS\\n\\nVIAYWOOD\\n\\niubstance Abuse Operations\\n\\n.08 South 5th Avenue\\n\\nAaywood, IL 60153\\n\\n708)343-1275\\n\\n1otline:\\n\\n708)343—1275 .\\n‘X ML OS/ OR/ HV PW/ 83/ MD FG\\n\\n‘he Way Back Inn Inc\\n\\n04 Oak Street\\n\\ndaywood, IL 60153\\n708)345-8422\\n\\n‘X OS/ OR/ DD/ 1111/ FG\\n\\n‘he Way Back Inn Inc\\n\\n.01 South 2nd Avenue\\n\\nIlaywood, IL 60153-1676\\n\\n708)345-8422\\n\\n‘X PV OS/ OR RR/ DD/ SS TC HH/ FG PI\\n\\nVICHENRY\\n\\n*amily Service and Comm MH Center for\\nchenry County\\n\\n320 West Elm Street\\n\\nchenry, IL 60050\\n\\n815)385—6400\\n\\nlotlinc:\\n\\n815)385-6400\\n\\n‘X PV OS/ OR 10/ AD DD/ CM/ MD\\n\\ndichael L Klestinski and Associates PC\\n400 West Elm Street\\n\\nmm 200\\n\\n’chenry, IL 60050\\n\\n315)344—6900\\n\\n‘X PV 05/ OR 10/ SS SG/ P1\\n\\nAELROSE PARK\\n\\n’rocare Centers\\n\\n:ecovery Center\\n\\n414 West Mam Street\\n\\ndelrosc Park, IL 60160\\n708)681-0073\\n\\nlolline:\\n\\n708)681-4657\\n\\n'X 08/ OR 10/ DD PW/ SS CM\\n\\nzaazaz=mg\\n\\nZN-<\\n\\n4’3\\n\\nHSZKUZ 2\\n\\nHSESZRZ Z\\n\\nZ\\n\\nWestlake Community Hospital\\nSubstance Recovery Center\\n\\n1225 Lake Street\\n\\nMelrose Park, IL 60160\\n\\n(708)938-7566 x 3561\\n\\nHotlinc:\\n\\n(888)333-0966\\n\\nTX PV OS DT/ OR 10 1D/ DD/ 011/ MC\\nMD P1\\n\\nYos/North Avenue\\n\\n2140 West North Avenue\\nMelrose Park, IL 60160\\n(708)343-6060\\n\\nTX PV OS/ OR] AD/ SS\\n\\nMENDOTA\\n\\nMendota Community Hospital\\nDUI/Outpatient Services\\n\\n1315 Memorial Drive\\nMendota, 11.. 61342\\n(815)539-7461 x 412\\n\\nTX PV 08/ OR/ SS GH/ P1\\n\\nMETROPOLIS\\n\\nMASSAC County Mental Health\\n\\n206 West 5th Street\\n\\nMetropolis, IL 62960\\n\\n(618)524-9368 x 38\\n\\nHotline:\\n\\n(6 l 8)524—9368\\n\\nTX PV OS/ ORl AD DD/ SS CM/ MD P1\\n\\nMONMOUTH\\n\\nBridgeway Adapt Services\\n219 Euclid Street\\nMonmouth, IL 61462\\n(309)734-9461\\n\\nTX PV OS/ OR/ ADI CM\\n\\nMONTICELLO\\n\\nPiatt County Mental Health Center\\n\\n1921 North Market Street\\n\\nMonticello, IL 61856\\n\\n(217)762-5371\\n\\nHotline:\\n\\n(217)762-4357\\n\\nTX PV OS/ OR/ AD DD/ SS CM/ MD PI\\n\\nMORRIS\\n\\nGrundy County Health Department\\n1320 Union Street\\n\\nMorris. IL 60450-2426\\n(815)941-3138\\n\\nTX OS/ OR/ CM/ P1\\n\\n\""
      ]
     },
     "execution_count": 59,
     "metadata": {},
     "output_type": "execute_result"
    }
   ],
   "source": [
    "data[errorpagen-12]"
   ]
  },
  {
   "cell_type": "markdown",
   "metadata": {},
   "source": [
    "data[errorpagen-12] = \"McDonough District Hospital\\n\\nRecovery Center\\n\\n525 East Grant Street\\n\\nMaComb, IL 61455\\n\\n(309)833—4101 x 3270\\n\\nHotline:\\n\\n(309)833—4101\\n\\nTX PV OS/ OR 10/ AD DD/ GH CM CO/\\nP1\\n\\nMANTENO\\n\\nS\\nKankakee Minimum Security Unit 3\\n37040 South Illinois Street 11\\nRoute 102 \\nManteno, IL 60950 \\n(815 )476—5201 \\nTX OS/ IO/ SS CJ \\nRiverside Resolve Center \\n411 Division Street \\nManteno, IL 60950 \\n(815)468-3241 \\nTX PV OS DT/ OR IO ID 1R RD RR/ AD \\nHV PW/ SS TC/ MC MD P1\\n\\n\\nSubstance Abuse Services Inc\\nBranden House \\n800 Bramble Street \\nManteno, IL 60950 \\n(815)468-6556\\nTX MU RR/ SS TC \\nMARSHALL F\\n\\n1\\\\\\nHuman Resources Center of 5\\nEdgar and Clark Counties h\\n1006 South 6th Street \\nMarshall, IL 62441\\n(217)465-4118 \\nHotline: \\n(217)465-4141\\nTX 08/ OR/ AD/ CM \\nMARYVILLE S\\n\\nChestnut Health Systems Inc (1\\n2148 Vadalabene Road 1\\nMaryville, IL 62062\\n(618)288-3100 \\nTX PV OS/ OR RR/ AD DD/ SS\\n\\nP\\nMATTOON F\\n\\nCentral East Alcohol and Drug Council\\nAdolescent Outpatient Services \\n513 North 13th Street ?\\nMattoon, IL 61938\\n(217)348-8108 T\\n\\nHotline:\\n(217)348-8108\\nTX 03/ OR/ AD/ SS\\n\\nZentral East Alcohol and Drug Council\\n)utpatient Services\\n\\nH6 North 19th Street\\n\\nAattoon, IL 61938\\n\\n(217)348-8108\\n\\nlotline:\\n\\n(217)348-8108\\n\\n.‘X 08/ OR/ SS\\n\\nVIAYWOOD\\n\\niubstance Abuse Operations\\n\\n.08 South 5th Avenue\\n\\nMaywood, IL 60153\\n\\n(708)343-1275\\n\\n1otline:\\n\\n(708)343—1275 .\\n‘X ML OS/ OR/ HV PW/ 83/ MD FG\\n\\n‘he Way Back Inn Inc\\n\\n04 Oak Street\\n\\nMaywood, IL 60153\\n(708)345-8422\\n\\n‘X OS/ OR/ DD/ 1111/ FG\\n\\n‘he Way Back Inn Inc\\n\\n.01 South 2nd Avenue\\n\\nIlaywood, IL 60153-1676\\n\\n708)345-8422\\n\\nTX PV OS/ OR RR/ DD/ SS TC HH/ FG PI\\n\\nVICHENRY\\n\\n*amily Service and Comm MH Center for\\nchenry County\\n\\n320 West Elm Street\\n\\nMcHenry, IL 60050\\n\\n(815)385—6400\\n\\nHotlinE:\\n\\n(815)385-6400\\n\\nTX PV OS/ OR 10/ AD DD/ CM/ MD\\n\\nMichael L Klestinski and Associates PC\\n400 West Elm Street\\n\\nmm 200\\n\\n’chenry, IL 60050\\n\\n315)344—6900\\n\\n‘X PV 05/ OR 10/ SS SG/ P1\\n\\nAELROSE PARK\\n\\n’rocare Centers\\n\\n:ecovery Center\\n\\n414 West Mam Street\\n\\ndelrosc Park, IL 60160\\n708)681-0073\\n\\nlolline:\\n\\n708)681-4657\\n\\n'X 08/ OR 10/ DD PW/ SS CM\\n\\nzaazaz=mg\\n\\nZN-<\\n\\n4’3\\n\\nHSZKUZ 2\\n\\nHSESZRZ Z\\n\\nZ\\n\\nWestlake Community Hospital\\nSubstance Recovery Center\\n\\n1225 Lake Street\\n\\nMelrose Park, IL 60160\\n\\n(708)938-7566 x 3561\\n\\nHotlinc:\\n\\n(888)333-0966\\n\\nTX PV OS DT/ OR 10 1D/ DD/ 011/ MC\\nMD P1\\n\\nYos/North Avenue\\n\\n2140 West North Avenue\\nMelrose Park, IL 60160\\n(708)343-6060\\n\\nTX PV OS/ OR] AD/ SS\\n\\nMENDOTA\\n\\nMendota Community Hospital\\nDUI/Outpatient Services\\n\\n1315 Memorial Drive\\nMendota, 11.. 61342\\n(815)539-7461 x 412\\n\\nTX PV 08/ OR/ SS GH/ P1\\n\\nMETROPOLIS\\n\\nMASSAC County Mental Health\\n\\n206 West 5th Street\\n\\nMetropolis, IL 62960\\n\\n(618)524-9368 x 38\\n\\nHotline:\\n\\n(6 l 8)524—9368\\n\\nTX PV OS/ ORl AD DD/ SS CM/ MD P1\\n\\nMONMOUTH\\n\\nBridgeway Adapt Services\\n219 Euclid Street\\nMonmouth, IL 61462\\n(309)734-9461\\n\\nTX PV OS/ OR/ ADI CM\\n\\nMONTICELLO\\n\\nPiatt County Mental Health Center\\n\\n1921 North Market Street\\n\\nMonticello, IL 61856\\n\\n(217)762-5371\\n\\nHotline:\\n\\n(217)762-4357\\n\\nTX PV OS/ OR/ AD DD/ SS CM/ MD PI\\n\\nMORRIS\\n\\nGrundy County Health Department\\n1320 Union Street\\n\\nMorris. IL 60450-2426\\n(815)941-3138\\n\\nTX OS/ OR/ CM/ P1\\n\\n\""
   ]
  },
  {
   "cell_type": "code",
   "execution_count": 34,
   "metadata": {},
   "outputs": [],
   "source": [
    "#save the data just because\n",
    "with open('1998/rawdata.txt', 'w') as f:\n",
    "    for item in data:\n",
    "        f.write(\"%s\\n\\n\\n\\n\\n\\n\" % item)"
   ]
  },
  {
   "cell_type": "code",
   "execution_count": null,
   "metadata": {},
   "outputs": [],
   "source": []
  }
 ],
 "metadata": {
  "kernelspec": {
   "display_name": "Python 3",
   "language": "python",
   "name": "python3"
  },
  "language_info": {
   "codemirror_mode": {
    "name": "ipython",
    "version": 3
   },
   "file_extension": ".py",
   "mimetype": "text/x-python",
   "name": "python",
   "nbconvert_exporter": "python",
   "pygments_lexer": "ipython3",
   "version": "3.7.6"
  }
 },
 "nbformat": 4,
 "nbformat_minor": 4
}
